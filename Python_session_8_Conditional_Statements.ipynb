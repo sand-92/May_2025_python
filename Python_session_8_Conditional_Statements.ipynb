{
 "cells": [
  {
   "cell_type": "markdown",
   "id": "23c3d554-ee8f-43ae-8ef6-4f11dbf1468c",
   "metadata": {},
   "source": [
    "**Conditional Statements**"
   ]
  },
  {
   "cell_type": "markdown",
   "id": "2ba610eb-5e11-47d9-8db4-38564647f78c",
   "metadata": {},
   "source": [
    "- Conditional Statements refers to excute the code based on some conditional\n",
    "- we have mainly Three types\n",
    "- if\n",
    "- else\n",
    "- if elif else"
   ]
  },
  {
   "cell_type": "code",
   "execution_count": 7,
   "id": "1e9e421c-f254-4365-b6b4-da866e5f563c",
   "metadata": {},
   "outputs": [
    {
     "name": "stdout",
     "output_type": "stream",
     "text": [
      "Hello good morning\n"
     ]
    }
   ],
   "source": [
    "print('Hello good morning')"
   ]
  },
  {
   "cell_type": "markdown",
   "id": "441e9ad1-6a21-4488-9e36-8534ac4c4c2f",
   "metadata": {},
   "source": [
    "**Syntax**"
   ]
  },
  {
   "cell_type": "code",
   "execution_count": null,
   "id": "bd24d3c1-57ca-473a-9cec-4edc58849775",
   "metadata": {},
   "outputs": [],
   "source": [
    "if <condition>:\n",
    "    <write here code>"
   ]
  },
  {
   "cell_type": "code",
   "execution_count": 9,
   "id": "a82072eb-68f4-45fc-b29a-c7b6301ab783",
   "metadata": {},
   "outputs": [
    {
     "name": "stdout",
     "output_type": "stream",
     "text": [
      "correct condition\n",
      "hello world\n"
     ]
    }
   ],
   "source": [
    "num=10\n",
    "if num>0:   # 10>0  True----if true\n",
    "  print('correct condition')\n",
    "  print('hello world')"
   ]
  },
  {
   "cell_type": "code",
   "execution_count": 11,
   "id": "7bd78359-2ad3-4362-9f81-051244fc6113",
   "metadata": {},
   "outputs": [
    {
     "name": "stdout",
     "output_type": "stream",
     "text": [
      "correct condition\n"
     ]
    }
   ],
   "source": [
    "num=10\n",
    "if num>0:   # 10>0  True----if true\n",
    "    print('correct condition')"
   ]
  },
  {
   "cell_type": "markdown",
   "id": "06f6c72f-4911-44d5-ae1b-cc888e5ec5bb",
   "metadata": {},
   "source": [
    "- we can write any condition\n",
    "- the condition should be valid\n",
    "- in order to excute the if statement"
   ]
  },
  {
   "cell_type": "code",
   "execution_count": 13,
   "id": "ad99fafa-0d8a-4382-8e9e-679f33859797",
   "metadata": {},
   "outputs": [
    {
     "data": {
      "text/plain": [
       "True"
      ]
     },
     "execution_count": 13,
     "metadata": {},
     "output_type": "execute_result"
    }
   ],
   "source": [
    "name='python'\n",
    "name=='python'   #Double equl to python=python"
   ]
  },
  {
   "cell_type": "code",
   "execution_count": 15,
   "id": "40ec2160-a73c-43c7-bf6d-d1ab8c0bb890",
   "metadata": {},
   "outputs": [
    {
     "data": {
      "text/plain": [
       "False"
      ]
     },
     "execution_count": 15,
     "metadata": {},
     "output_type": "execute_result"
    }
   ],
   "source": [
    "name!='python'"
   ]
  },
  {
   "cell_type": "code",
   "execution_count": 17,
   "id": "1019a5b3-3055-4dae-8086-a3d16125d704",
   "metadata": {},
   "outputs": [
    {
     "name": "stdout",
     "output_type": "stream",
     "text": [
      "hello\n",
      "30\n"
     ]
    }
   ],
   "source": [
    "name='python'\n",
    "if name=='python':\n",
    "    print('hello')\n",
    "    a=10\n",
    "    b=20\n",
    "    print(a+b)"
   ]
  },
  {
   "cell_type": "code",
   "execution_count": 21,
   "id": "7dcc83fa-d8b3-4635-b521-bbae4b40e5ce",
   "metadata": {},
   "outputs": [
    {
     "name": "stdout",
     "output_type": "stream",
     "text": [
      "correct\n",
      "bye\n"
     ]
    }
   ],
   "source": [
    "if 100>10:\n",
    "    print('correct')\n",
    "    print('bye')"
   ]
  },
  {
   "cell_type": "code",
   "execution_count": 23,
   "id": "c2f3e124-dfae-4293-a833-c6a25d137e6c",
   "metadata": {},
   "outputs": [
    {
     "name": "stdout",
     "output_type": "stream",
     "text": [
      "correct\n",
      "hai\n",
      "bye\n"
     ]
    }
   ],
   "source": [
    "if 100>10:\n",
    "    print('correct')\n",
    "    print('hai')\n",
    "    print('bye')"
   ]
  },
  {
   "cell_type": "code",
   "execution_count": 25,
   "id": "535b7134-1a88-4e0f-ae78-c9c3d20cdd99",
   "metadata": {},
   "outputs": [
    {
     "name": "stdout",
     "output_type": "stream",
     "text": [
      "correct\n",
      "bye\n"
     ]
    }
   ],
   "source": [
    "if 100>10:  #100<10 is 'False' so o/p is not show\n",
    "    print('correct')\n",
    "    print('bye')"
   ]
  },
  {
   "cell_type": "code",
   "execution_count": 27,
   "id": "7ec81143-dc85-47f0-b2cb-5d62b97caf2f",
   "metadata": {},
   "outputs": [
    {
     "name": "stdout",
     "output_type": "stream",
     "text": [
      "correct\n",
      "Hai\n",
      "bye\n"
     ]
    }
   ],
   "source": [
    "if 100>10:\n",
    "    print('correct')\n",
    "    print('Hai')\n",
    "print('bye')    "
   ]
  },
  {
   "cell_type": "code",
   "execution_count": 1,
   "id": "90fc94a9-e013-49cb-a17f-9757770b2ab2",
   "metadata": {},
   "outputs": [
    {
     "name": "stdout",
     "output_type": "stream",
     "text": [
      "hai\n",
      "bye\n"
     ]
    }
   ],
   "source": [
    "print('hai')\n",
    "if 100<10:\n",
    "      print('good')\n",
    "print('bye')"
   ]
  },
  {
   "cell_type": "markdown",
   "id": "12d64410-8945-450d-ae57-58ac78b64d30",
   "metadata": {},
   "source": [
    "**if-else**\n",
    "- whenever if conditional is false automatically it goes to else part\n",
    "- else does not require any condition\n",
    "- always maintain idenetation for both if part and else part "
   ]
  },
  {
   "cell_type": "code",
   "execution_count": 31,
   "id": "b6f64a6c-d8aa-4ba0-a007-eb0e082e1a4a",
   "metadata": {},
   "outputs": [
    {
     "name": "stdout",
     "output_type": "stream",
     "text": [
      "wrong condition\n"
     ]
    }
   ],
   "source": [
    "if  100<10:\n",
    "    print('correct condition')\n",
    "else:\n",
    "    print('wrong condition')"
   ]
  },
  {
   "cell_type": "code",
   "execution_count": 33,
   "id": "4c346956-1d5b-4332-9a74-1e6d64a9f4cb",
   "metadata": {},
   "outputs": [
    {
     "name": "stdout",
     "output_type": "stream",
     "text": [
      "10\n",
      "wrong condition\n",
      "20\n"
     ]
    }
   ],
   "source": [
    "print(10)\n",
    "\n",
    "if 100<10:\n",
    "    print('correct condition')\n",
    "\n",
    "else:\n",
    "    print('wrong condition')\n",
    "    \n",
    "print(20)"
   ]
  },
  {
   "cell_type": "code",
   "execution_count": 35,
   "id": "d0b6e8c2-5c90-41da-9b34-c7f50abb70b3",
   "metadata": {},
   "outputs": [
    {
     "ename": "SyntaxError",
     "evalue": "invalid syntax (2029295587.py, line 7)",
     "output_type": "error",
     "traceback": [
      "\u001b[1;36m  Cell \u001b[1;32mIn[35], line 7\u001b[1;36m\u001b[0m\n\u001b[1;33m    else:\u001b[0m\n\u001b[1;37m    ^\u001b[0m\n\u001b[1;31mSyntaxError\u001b[0m\u001b[1;31m:\u001b[0m invalid syntax\n"
     ]
    }
   ],
   "source": [
    "print(10)\n",
    "\n",
    "if 100>10:\n",
    "    print('correct condition')\n",
    "    print('okay')\n",
    "print('why are you cime in middle') # is not write code \n",
    "else:\n",
    "    print('wrong condition')\n",
    "    \n",
    "print(20)"
   ]
  },
  {
   "cell_type": "markdown",
   "id": "43491dc9-c3bc-4b9e-9778-eb7fa08a5840",
   "metadata": {},
   "source": [
    "**if and else always togeather**"
   ]
  },
  {
   "cell_type": "code",
   "execution_count": null,
   "id": "fb2247b8-d60d-44fa-b7c6-ed6e7a243166",
   "metadata": {},
   "outputs": [],
   "source": [
    "# write ask the user take two numbers\n",
    "# num1 and num2\n",
    "# if both numbers are matched then print we are won\n",
    "# otherwise print we lost\n",
    "\n",
    "# step1: n1=eval(input('en'))\n",
    "# step2: n2=eval(input('en'))\n",
    "# step3: if <condition>\n",
    "# step4:  print(we are won)\n",
    "# step5: else\n",
    "# step6: print('we lost')"
   ]
  },
  {
   "cell_type": "code",
   "execution_count": 37,
   "id": "bccd5c25-4a1d-440c-854e-9c3740427397",
   "metadata": {},
   "outputs": [
    {
     "name": "stdin",
     "output_type": "stream",
     "text": [
      "enter number1: 25\n",
      "enter number2: 12\n"
     ]
    },
    {
     "name": "stdout",
     "output_type": "stream",
     "text": [
      "we lost\n"
     ]
    }
   ],
   "source": [
    "n1=eval(input('enter number1:'))\n",
    "n2=eval(input('enter number2:'))\n",
    "if  n1==n2:\n",
    "      print('we won')\n",
    "else:\n",
    "      print('we lost')"
   ]
  },
  {
   "cell_type": "code",
   "execution_count": null,
   "id": "8626b3b4-6afe-4d54-aaa7-8ba1e9cfe8ee",
   "metadata": {},
   "outputs": [],
   "source": [
    "# write ask the user take two numbers\n",
    "# num1 and num2\n",
    "# if both numbers are matched then print we are won\n",
    "# otherwise print we lost\n",
    "\n",
    "# step1: n1=<random num>\n",
    "# step2: n2=eval(input('en'))\n",
    "# step3: if <condition>\n",
    "# step4:  print(we are won)\n",
    "# step5: else\n",
    "# step6: print('we lost')"
   ]
  },
  {
   "cell_type": "code",
   "execution_count": 39,
   "id": "abe734e2-6a61-4900-be37-880bf27b9d7c",
   "metadata": {},
   "outputs": [
    {
     "name": "stdin",
     "output_type": "stream",
     "text": [
      "enter number1: 25\n",
      "enter number2: 25\n"
     ]
    },
    {
     "name": "stdout",
     "output_type": "stream",
     "text": [
      "we won\n"
     ]
    }
   ],
   "source": [
    "import random\n",
    "random.randint(1,10)\n",
    "n1=eval(input('enter number1:'))\n",
    "n2=eval(input('enter number2:'))\n",
    "if  n1==n2:\n",
    "      print('we won')\n",
    "else:\n",
    "      print('we lost')"
   ]
  },
  {
   "cell_type": "code",
   "execution_count": 47,
   "id": "09ee27ed-975b-443a-846a-c69aa6d14670",
   "metadata": {},
   "outputs": [
    {
     "data": {
      "text/plain": [
       "1"
      ]
     },
     "execution_count": 47,
     "metadata": {},
     "output_type": "execute_result"
    }
   ],
   "source": [
    "5%2    # modulus operator"
   ]
  },
  {
   "cell_type": "code",
   "execution_count": null,
   "id": "8299bdbd-4658-4038-9b92-f8771c8ab866",
   "metadata": {},
   "outputs": [],
   "source": [
    "# write ask the user enter a number\n",
    "# print if the number is even or odd\n",
    "\n",
    "# idea== remainder should be zero\n",
    "# step1: num=eval(input())\n",
    "# step2: if <>\n",
    "# step3: print(the given num is even)\n",
    "# step4: else:\n",
    "# step3: print(the given num is odd)"
   ]
  },
  {
   "cell_type": "code",
   "execution_count": 49,
   "id": "c222d175-e61e-4b33-a79c-01d9297c3f72",
   "metadata": {},
   "outputs": [
    {
     "name": "stdin",
     "output_type": "stream",
     "text": [
      "the enter num: 20\n"
     ]
    },
    {
     "name": "stdout",
     "output_type": "stream",
     "text": [
      "the given  number 20 is even\n"
     ]
    }
   ],
   "source": [
    "num=eval(input('the enter num:'))\n",
    "if num%2==0:\n",
    "    print(f'the given  number {num} is even')\n",
    "else:\n",
    "    print(f'the given number {num} is odd')\n",
    "    "
   ]
  },
  {
   "cell_type": "code",
   "execution_count": 43,
   "id": "673a7986-848d-4fc8-8fc6-1d70c8d3bf60",
   "metadata": {},
   "outputs": [
    {
     "data": {
      "text/plain": [
       "2.5"
      ]
     },
     "execution_count": 43,
     "metadata": {},
     "output_type": "execute_result"
    }
   ],
   "source": [
    "5/2   # Directly division"
   ]
  },
  {
   "cell_type": "code",
   "execution_count": 45,
   "id": "22930d29-5e6d-47fa-ad8b-ac539feacd8e",
   "metadata": {},
   "outputs": [
    {
     "data": {
      "text/plain": [
       "2"
      ]
     },
     "execution_count": 45,
     "metadata": {},
     "output_type": "execute_result"
    }
   ],
   "source": [
    "5//2   # floor division"
   ]
  },
  {
   "cell_type": "code",
   "execution_count": null,
   "id": "bacca3e2-1c11-468e-851e-709b0f32e490",
   "metadata": {},
   "outputs": [],
   "source": [
    "# write ask the user enter distance\n",
    "# if distance greater then 25\n",
    "# ask the charge\n",
    "# calculate the charge other then 25km distance\n",
    "# print free ride\n",
    "# step1: distance=eval(input(distance'))\n",
    "# step2: if <>\n",
    "# step3: charge=eval(input(charge'))\n",
    "# step4: total charge= (d-25)\n",
    "# print()\n",
    "# step5: else\n",
    "# step6: print free ride"
   ]
  },
  {
   "cell_type": "code",
   "execution_count": 51,
   "id": "52244b02-ab66-4a44-90fa-0fefad30e275",
   "metadata": {},
   "outputs": [
    {
     "name": "stdin",
     "output_type": "stream",
     "text": [
      "enter the distance 80\n"
     ]
    },
    {
     "name": "stdout",
     "output_type": "stream",
     "text": [
      "the charge applicable only on:55\n"
     ]
    },
    {
     "name": "stdin",
     "output_type": "stream",
     "text": [
      "enter the charge 12\n"
     ]
    },
    {
     "name": "stdout",
     "output_type": "stream",
     "text": [
      "the total charge is:660\n"
     ]
    }
   ],
   "source": [
    "distance=eval(input('enter the distance'))\n",
    "if distance>25:\n",
    "      print(f'the charge applicable only on:{distance-25}')\n",
    "      charge=eval(input('enter the charge'))\n",
    "      total_charge=(distance-25)*charge\n",
    "      print(f'the total charge is:{total_charge}')\n",
    "else:\n",
    "    print('enjoy the free ride')"
   ]
  },
  {
   "cell_type": "code",
   "execution_count": 53,
   "id": "44b1870e-dd82-4736-b584-ce28c6a6016d",
   "metadata": {},
   "outputs": [
    {
     "name": "stdin",
     "output_type": "stream",
     "text": [
      "enter the distance 100\n",
      "govt cutoff distance: 25\n"
     ]
    },
    {
     "name": "stdout",
     "output_type": "stream",
     "text": [
      "the charge applicable only on:75 kms\n"
     ]
    },
    {
     "name": "stdin",
     "output_type": "stream",
     "text": [
      "enter the charge: 50\n"
     ]
    },
    {
     "name": "stdout",
     "output_type": "stream",
     "text": [
      "the total charge is:3750 rs\n"
     ]
    }
   ],
   "source": [
    "#### Government cut off distane\n",
    "distance=eval(input('enter the distance'))\n",
    "cutoff_distance=eval(input('govt cutoff distance:'))\n",
    "if distance>cutoff_distance:\n",
    "      print(f'the charge applicable only on:{distance-cutoff_distance} kms')   \n",
    "      charge=eval(input('enter the charge:'))\n",
    "      total_charge=(distance-cutoff_distance)*charge\n",
    "      print(f'the total charge is:{total_charge} rs')\n",
    "else:\n",
    "    print('enjoy the free ride')"
   ]
  },
  {
   "cell_type": "code",
   "execution_count": null,
   "id": "68afddf2-53ab-471f-a547-7b8f6c019c8a",
   "metadata": {},
   "outputs": [],
   "source": [
    "# write ask the user take two numbers\n",
    "#print which is greater num\n",
    "# step1: n1=eval(input())\n",
    "# step2: n2=eval(input())\n",
    "# step3=  if\n",
    "#step4= print()\n",
    "#step5=    else:\n",
    "# step6: print()"
   ]
  },
  {
   "cell_type": "code",
   "execution_count": 55,
   "id": "d2c20a84-c794-4eeb-9342-fc94a0dc0962",
   "metadata": {},
   "outputs": [
    {
     "name": "stdin",
     "output_type": "stream",
     "text": [
      "enter the num1 30\n",
      "enter the num2 25\n"
     ]
    },
    {
     "name": "stdout",
     "output_type": "stream",
     "text": [
      "the 30 is greater\n"
     ]
    }
   ],
   "source": [
    "n1=eval(input('enter the num1'))\n",
    "n2=eval(input('enter the num2'))\n",
    "if n1>n2:\n",
    "   print(f'the {n1} is greater')\n",
    "else:\n",
    "    print(f'the {n2} is greater')"
   ]
  },
  {
   "cell_type": "code",
   "execution_count": 1,
   "id": "7b4558b3-9967-4343-90e9-2d55bcb350f9",
   "metadata": {},
   "outputs": [
    {
     "name": "stdout",
     "output_type": "stream",
     "text": [
      "81 is greater \n"
     ]
    }
   ],
   "source": [
    "from random import randint\n",
    "n1=randint(1,100)\n",
    "n2=randint(1,100)\n",
    "if n1>n2:\n",
    "    print(f'{n1} is greater ')\n",
    "else:\n",
    "    print(f'{n2} is greater ')"
   ]
  },
  {
   "cell_type": "code",
   "execution_count": null,
   "id": "a503147d-1fcb-4cd6-b3b0-c2b74a9eea26",
   "metadata": {},
   "outputs": [],
   "source": [
    "# write ask the user\n",
    "# enter the course name\n",
    "# enter the institute name\n",
    "# if course name equal to data science\n",
    "# and institute name equal to naresh it\n",
    "# then print we are good\n",
    "# else print good\n",
    "\n",
    "# step1: course name=input()\n",
    "# step2: institute name=input()\n",
    "# step3: if course name == data science and institute name == naresh it\n",
    "# step4: print we are good\n",
    "# step5: else:\n",
    "# step6: print not good"
   ]
  },
  {
   "cell_type": "code",
   "execution_count": 59,
   "id": "ad1d2267-3f00-46f8-a382-47878decdad0",
   "metadata": {},
   "outputs": [
    {
     "name": "stdin",
     "output_type": "stream",
     "text": [
      "enter course_name 'data science'\n",
      "enter institute_name 'naresh it'\n"
     ]
    },
    {
     "name": "stdout",
     "output_type": "stream",
     "text": [
      "we are good\n"
     ]
    }
   ],
   "source": [
    "course_name=eval(input('enter course_name'))\n",
    "institute_name=eval(input('enter institute_name'))\n",
    "if course_name=='data science' or institute_name=='naresh it':\n",
    "         print(f'we are good')\n",
    "else:\n",
    "         print(f'not good')\n",
    "    \n",
    "# o/p is not good because of \n",
    "# or method is \n",
    "# A  B   A or B\n",
    "# T  T    T\n",
    "# T  F    T\n",
    "# F  T    T\n",
    "# F  F    F"
   ]
  },
  {
   "cell_type": "code",
   "execution_count": null,
   "id": "27e4f95f-0c4b-49d1-95e6-7aad4f4d1b60",
   "metadata": {},
   "outputs": [],
   "source": [
    "'DATA SCIENCE'.lower()"
   ]
  },
  {
   "cell_type": "code",
   "execution_count": 61,
   "id": "94304ecb-bc78-4393-99f1-cb2b911196ab",
   "metadata": {},
   "outputs": [
    {
     "name": "stdin",
     "output_type": "stream",
     "text": [
      "enter n1 25\n",
      "enter n2 12\n"
     ]
    },
    {
     "name": "stdout",
     "output_type": "stream",
     "text": [
      "we lost\n"
     ]
    }
   ],
   "source": [
    "# write ask the user take two numbers\n",
    "# num1 and num2\n",
    "# if both numbers are matched then print we are won\n",
    "# otherwise print we lost\n",
    "\n",
    "# step1: n1=eval(input('en'))\n",
    "# step2: n2=eval(input('en'))\n",
    "# step3: if <condition>\n",
    "# step4:  print(we are won)\n",
    "# step5: else\n",
    "# step6: print('we lost')\n",
    "n1=eval(input('enter n1'))\n",
    "n2=eval(input('enter n2'))\n",
    "if n1==n2:\n",
    "   print('we won')\n",
    "else:\n",
    "    print('we lost')"
   ]
  },
  {
   "cell_type": "code",
   "execution_count": 63,
   "id": "4ec3c32b-b4f2-4b57-ac41-84f52f85db20",
   "metadata": {},
   "outputs": [
    {
     "name": "stdin",
     "output_type": "stream",
     "text": [
      "enter n1 20\n",
      "enter n2 20\n"
     ]
    },
    {
     "name": "stdout",
     "output_type": "stream",
     "text": [
      "we won\n"
     ]
    }
   ],
   "source": [
    "# write ask the user take two numbers\n",
    "# num1 and num2\n",
    "# if both numbers are matched then print we are won\n",
    "# otherwise print we lost\n",
    "\n",
    "# step1: <random num>\n",
    "# step2: n1=eval(input('en'))\n",
    "#         n2=eval(input('en'))\n",
    "# step3: if <condition>\n",
    "# step4:  print(we are won)\n",
    "# step5: else\n",
    "# step6: print('we lost')\n",
    "import random \n",
    "random.randint(1,100)\n",
    "n1=eval(input('enter n1'))\n",
    "n2=eval(input('enter n2'))\n",
    "if n1==n2:\n",
    "    print('we won')\n",
    "else:\n",
    "    print('we lost')\n"
   ]
  },
  {
   "cell_type": "code",
   "execution_count": 65,
   "id": "9fd14cf1-767e-4d9e-8b90-b74d17e240f3",
   "metadata": {},
   "outputs": [
    {
     "name": "stdin",
     "output_type": "stream",
     "text": [
      "enter num 23\n"
     ]
    },
    {
     "name": "stdout",
     "output_type": "stream",
     "text": [
      "the num is odd\n"
     ]
    }
   ],
   "source": [
    "# write ask the user enter a number\n",
    "# print if the number is even or odd\n",
    "\n",
    "# idea== remainder should be zero\n",
    "# step1: num=eval(input(enter num))\n",
    "# step2: if <>\n",
    "# step3: print(the given num is even)\n",
    "# step4: else:\n",
    "# step3: print(the given num is odd)\n",
    "num=eval(input('enter num'))\n",
    "if num%2==0:\n",
    "    print(f\"the num is {'even'}\")\n",
    "else:\n",
    "    print(f\"the num is {'odd'}\")"
   ]
  },
  {
   "cell_type": "code",
   "execution_count": 67,
   "id": "692e41e6-c6e4-4375-84cc-63c48d560cfb",
   "metadata": {},
   "outputs": [
    {
     "name": "stdin",
     "output_type": "stream",
     "text": [
      "distance 50\n"
     ]
    },
    {
     "name": "stdout",
     "output_type": "stream",
     "text": [
      "distance-25\n"
     ]
    },
    {
     "name": "stdin",
     "output_type": "stream",
     "text": [
      "charge 10\n"
     ]
    },
    {
     "name": "stdout",
     "output_type": "stream",
     "text": [
      "the total charge is250\n"
     ]
    }
   ],
   "source": [
    "# write ask the user enter distance\n",
    "# if distance greater then 25\n",
    "# ask the charge\n",
    "# calculate the charge other then 25km distance\n",
    "# print free ride\n",
    "# step1: distance=eval(input(distance'))\n",
    "# step2: if <>\n",
    "#        print('distance')\n",
    "# step3: charge=eval(input(charge'))\n",
    "# step4: total charge= (d-25)\n",
    "# print(the total charge)\n",
    "# step5: else\n",
    "# step6: print free ride\n",
    "\n",
    "distance=eval(input('distance'))\n",
    "if distance>25:\n",
    "    print('distance-25')\n",
    "    charge=eval(input('charge'))\n",
    "    total_charge=(distance-25)*charge\n",
    "    print(f'the total charge is{total_charge}')\n",
    "else:\n",
    "    print('free ride')    "
   ]
  },
  {
   "cell_type": "code",
   "execution_count": 69,
   "id": "b5bd403f-fdfd-4925-ba29-24def73e8a1e",
   "metadata": {},
   "outputs": [
    {
     "name": "stdin",
     "output_type": "stream",
     "text": [
      "distance 80\n",
      "govn cutoff_distance 12\n"
     ]
    },
    {
     "name": "stdout",
     "output_type": "stream",
     "text": [
      "distance-cutoff_distance-25\n"
     ]
    },
    {
     "name": "stdin",
     "output_type": "stream",
     "text": [
      "charge 25\n"
     ]
    },
    {
     "name": "stdout",
     "output_type": "stream",
     "text": [
      "the total charge is1700\n"
     ]
    }
   ],
   "source": [
    "#### Government cut off distane\n",
    "\n",
    "distance=eval(input('distance'))\n",
    "cutoff_distance=eval(input('govn cutoff_distance'))\n",
    "if distance>cutoff_distance:\n",
    "    print('distance-cutoff_distance-25')\n",
    "    charge=eval(input('charge'))\n",
    "    total_charge=(distance-cutoff_distance)*charge\n",
    "    print(f'the total charge is{total_charge}')\n",
    "else:\n",
    "    print('free ride')    "
   ]
  },
  {
   "cell_type": "code",
   "execution_count": 71,
   "id": "6a9c4d92-e0e2-4b0e-ad75-f4daf7a7cad3",
   "metadata": {},
   "outputs": [
    {
     "name": "stdin",
     "output_type": "stream",
     "text": [
      "enter number n1 25\n",
      "enter number n2 21\n"
     ]
    },
    {
     "name": "stdout",
     "output_type": "stream",
     "text": [
      "the greater num is 25\n"
     ]
    }
   ],
   "source": [
    "# write ask the user take two numbers\n",
    "#print which is greater num\n",
    "# step1: n1=eval(input())\n",
    "# step2: n2=eval(input())\n",
    "# step3=  if\n",
    "#step4= print()\n",
    "#step5=    else:\n",
    "# step6: print()\n",
    "n1=eval(input('enter number n1'))\n",
    "n2=eval(input('enter number n2'))\n",
    "if n1>n2:\n",
    "    print(f'the greater num is {n1}')\n",
    "else:\n",
    "    print(f'the greater num is {n2}')"
   ]
  },
  {
   "cell_type": "code",
   "execution_count": 73,
   "id": "38081dc5-e811-44f2-9176-f3d381b3540e",
   "metadata": {},
   "outputs": [
    {
     "name": "stdout",
     "output_type": "stream",
     "text": [
      "greater num is 96\n"
     ]
    }
   ],
   "source": [
    "from random import randint\n",
    "n1=randint(1,100)\n",
    "n2=randint(1,100)\n",
    "if n1>n2:\n",
    "    print(f'greater num is {n1}')\n",
    "else:\n",
    "    print(f'greater num is {n2}')"
   ]
  },
  {
   "cell_type": "code",
   "execution_count": 3,
   "id": "1d439173-b437-49eb-9b76-ec0c37aea535",
   "metadata": {},
   "outputs": [
    {
     "name": "stdin",
     "output_type": "stream",
     "text": [
      "enter course name 'data science'\n",
      "enter institute name 'naresh it'\n"
     ]
    },
    {
     "name": "stdout",
     "output_type": "stream",
     "text": [
      "we are good\n"
     ]
    }
   ],
   "source": [
    "# write ask the user\n",
    "# enter the course name\n",
    "# enter the institute name\n",
    "# if course name equal to data science\n",
    "# and institute name equal to naresh it\n",
    "# then print we are good\n",
    "# else print good\n",
    "\n",
    "# step1: course name=input()\n",
    "# step2: institute name=input()\n",
    "# step3: if course name == data science and institute name == naresh it\n",
    "# step4: print we are good\n",
    "# step5: else:\n",
    "# step6: print not good\n",
    "course_name=eval(input(\"enter course name\"))\n",
    "institute_name=eval(input(\"enter institute name\"))\n",
    "if course_name=='data science' or institute_name=='naresh it':\n",
    "        print(f'we are good')\n",
    "else:\n",
    "        print(f'not good')"
   ]
  },
  {
   "cell_type": "markdown",
   "id": "ddde3ec4-7605-4361-a477-c72511c9c803",
   "metadata": {},
   "source": [
    "**if-elif-else**\n",
    "- when we have three solutions based on two condition\n",
    "- then we go for if elif else\n",
    "- if need conditions\n",
    "- elif needs conditions\n",
    "- if and elif both are wrong then will get else output"
   ]
  },
  {
   "cell_type": "markdown",
   "id": "8e61193f-d5bc-4563-a707-4ba326ed1e1d",
   "metadata": {},
   "source": [
    "- two condition if elif else\n",
    "- three condition if elif elif else\n",
    "- four condition if elif elif elif else"
   ]
  },
  {
   "cell_type": "code",
   "execution_count": 77,
   "id": "3aa55c84-eb48-449c-84fe-0f42e6cb9f67",
   "metadata": {},
   "outputs": [
    {
     "name": "stdin",
     "output_type": "stream",
     "text": [
      "enter a number 3\n"
     ]
    },
    {
     "name": "stdout",
     "output_type": "stream",
     "text": [
      "3\n"
     ]
    }
   ],
   "source": [
    "# write ask the user enter a number\n",
    "# if the number equal to one then print one\n",
    "# if the number equal to two then print one\n",
    "# if the number equal to three then print one\n",
    "# otherwise print enter a valid number\n",
    "\n",
    "num=eval(input('enter a number'))\n",
    "if num==1:\n",
    "    print('1')\n",
    "elif num==2:\n",
    "    print('2')\n",
    "elif num==3:\n",
    "    print('3')\n",
    "else:\n",
    "    print('enter a valid number')"
   ]
  },
  {
   "cell_type": "code",
   "execution_count": 85,
   "id": "2ac5e875-cb5b-405b-b1ff-91329b6f719c",
   "metadata": {},
   "outputs": [
    {
     "name": "stdin",
     "output_type": "stream",
     "text": [
      "enter percentage of marks 50\n"
     ]
    },
    {
     "name": "stdout",
     "output_type": "stream",
     "text": [
      "will fail\n"
     ]
    }
   ],
   "source": [
    "# write ask the user enter percentage of marks\n",
    "# if marks greater then 75 then print A grade\n",
    "# if marks between 60 to 75 then print B grade\n",
    "# if marks between 45 to 60 then print C grade\n",
    "# if marks between 35 to 45 then print D grade\n",
    "# otherwise print wil fail\n",
    "\n",
    "per=eval(input('enter percentage of marks'))\n",
    "if per>=75:                       \n",
    "    print('A grade')\n",
    "elif per>75 and per<=60:    # 60>=75 F\n",
    "     print('B grade') \n",
    "elif per>60 and per<=45:    # 45 >= 60 f\n",
    "    print('C grade')\n",
    "elif per>45 and per<=35:   # 35>=45  f\n",
    "    print('D grade') \n",
    "else:\n",
    "    print('will fail')"
   ]
  },
  {
   "cell_type": "code",
   "execution_count": 87,
   "id": "7559bf8f-1e8c-4740-94b5-03020dba7ac1",
   "metadata": {},
   "outputs": [
    {
     "name": "stdin",
     "output_type": "stream",
     "text": [
      "enter percentage of marks 55\n"
     ]
    },
    {
     "name": "stdout",
     "output_type": "stream",
     "text": [
      "C grade\n"
     ]
    }
   ],
   "source": [
    "per=eval(input('enter percentage of marks'))\n",
    "if per>=75:\n",
    "    print('A grade')\n",
    "elif per>=60:\n",
    "    print('B grade') \n",
    "elif per>=45:\n",
    "    print('C grade')\n",
    "elif per>=35:\n",
    "    print('D grade')\n",
    "else:\n",
    "    print('will fail')"
   ]
  },
  {
   "cell_type": "code",
   "execution_count": 89,
   "id": "c38e3a7d-88b4-4ae4-8c46-2f5f09df7ac6",
   "metadata": {},
   "outputs": [
    {
     "name": "stdin",
     "output_type": "stream",
     "text": [
      "enter a age 35\n"
     ]
    },
    {
     "name": "stdout",
     "output_type": "stream",
     "text": [
      "young\n"
     ]
    }
   ],
   "source": [
    "# write ask the user enter a age\n",
    "# if age greaterthen 100 print unlucky guy\n",
    "# if age between 80 to 100 print super senior citizen\n",
    "# if age between 60 to 80 print super senior\n",
    "# if age between 40 to 60 print aged\n",
    "# if age between 25 to 40 print Middle Age\n",
    "# if age between 15 to 25 print young\n",
    "# otherwise print kid\n",
    "\n",
    "age=eval(input('enter a age'))\n",
    "if age>=100:\n",
    "    print('unlucky guy')\n",
    "elif age>=100:\n",
    "    print('super senior citizen')\n",
    "elif age>=80:\n",
    "    print('super senior citizen')\n",
    "elif age>=60:    \n",
    "     print('aged')\n",
    "elif age>=40:    \n",
    "     print('Middle Age')\n",
    "elif age>=25:    \n",
    "     print('young')  \n",
    "else:\n",
    "    print('kid')"
   ]
  },
  {
   "cell_type": "code",
   "execution_count": 91,
   "id": "a8a55213-ac37-41c8-94a6-33e508af4225",
   "metadata": {},
   "outputs": [
    {
     "name": "stdin",
     "output_type": "stream",
     "text": [
      "enter a distance 80\n",
      "enter a charge 60\n"
     ]
    },
    {
     "name": "stdout",
     "output_type": "stream",
     "text": [
      "the total charge is:4800\n"
     ]
    }
   ],
   "source": [
    "#write ask the user enter a distance\n",
    "# if the distance greaterthen 100\n",
    "       # ask the user enter a charge #20rps\n",
    "        # print the total charge\n",
    "# if the distance between 50 to 100\n",
    "         # ask the user enter a charge #10rps\n",
    "        # print the total charge\n",
    "# if the distance between 25 to 50\n",
    "         # ask the user enter a charge #5rps\n",
    "         # print the total charg\n",
    "# other wise print free ride\n",
    "\n",
    "distance=eval(input('enter a distance'))\n",
    "if distance>=100:\n",
    "    charge=eval(input('enter a charge'))\n",
    "    total_charge=distance*charge\n",
    "    print(f\"the total charge is:{total_charge}\")\n",
    "elif distance>=50:\n",
    "    charge=eval(input('enter a charge'))\n",
    "    total_charge=distance*charge\n",
    "    print(f\"the total charge is:{total_charge}\")\n",
    "elif distance>=25:    # 25>=50 F\n",
    "    charge=eval(input('enter a charge'))\n",
    "    total_charge=distance*charge\n",
    "    print(f\"the total charge is:{total_charge}\")\n",
    "else:\n",
    "    print('free ride')"
   ]
  },
  {
   "cell_type": "code",
   "execution_count": 93,
   "id": "5e7d1f05-d3cf-4878-8a1b-692f86a6457a",
   "metadata": {},
   "outputs": [
    {
     "name": "stdin",
     "output_type": "stream",
     "text": [
      "enter a distance 80\n"
     ]
    },
    {
     "name": "stdout",
     "output_type": "stream",
     "text": [
      "charge is 20rp greaterthen 100kms\n",
      "charge is 10rp between 50 to 100kms\n",
      "charge is 5rp between 25to 50kms\n",
      "free ride lessthen 25kms\n"
     ]
    },
    {
     "name": "stdin",
     "output_type": "stream",
     "text": [
      "enter a charge 20\n"
     ]
    },
    {
     "name": "stdout",
     "output_type": "stream",
     "text": [
      "the total charge is:1600\n"
     ]
    }
   ],
   "source": [
    "# another method\n",
    "#write ask the user enter a distance\n",
    "# if the distance greaterthen 100\n",
    "       # ask the user enter a charge #20rps\n",
    "        # print the total charge\n",
    "# if the distance between 50 to 100\n",
    "         # ask the user enter a charge #10rps\n",
    "        # print the total charge\n",
    "# if the distance between 25 to 50\n",
    "         # ask the user enter a charge #5rps\n",
    "         # print the total charg\n",
    "# other wise print free ride\n",
    "distance=eval(input('enter a distance'))\n",
    "print('charge is 20rp greaterthen 100kms')\n",
    "print('charge is 10rp between 50 to 100kms')\n",
    "print('charge is 5rp between 25to 50kms')\n",
    "print('free ride lessthen 25kms')\n",
    "if distance>=100:\n",
    "    charge=eval(input('enter a charge'))\n",
    "    total_charge=distance*charge\n",
    "    print(f\"the total charge is:{total_charge}\")\n",
    "elif distance>=50:\n",
    "    charge=eval(input('enter a charge'))\n",
    "    total_charge=distance*charge\n",
    "    print(f\"the total charge is:{total_charge}\")\n",
    "elif distance>=25:    # 25>=50 F\n",
    "    charge=eval(input('enter a charge'))\n",
    "    total_charge=distance*charge\n",
    "    print(f\"the total charge is:{total_charge}\")\n",
    "else:\n",
    "    print('free ride')\n"
   ]
  },
  {
   "cell_type": "code",
   "execution_count": 95,
   "id": "d6868dec-e8d5-4ef7-a40c-b98821dc4860",
   "metadata": {},
   "outputs": [
    {
     "name": "stdout",
     "output_type": "stream",
     "text": [
      "enter add for 1\n",
      "enter sub for 2\n",
      "enter mul for 3\n",
      "enter div for 4\n"
     ]
    },
    {
     "name": "stdin",
     "output_type": "stream",
     "text": [
      "enter the numbers between 1 to 4  2\n"
     ]
    },
    {
     "name": "stdout",
     "output_type": "stream",
     "text": [
      "you choose subtraction of operation\n"
     ]
    },
    {
     "name": "stdin",
     "output_type": "stream",
     "text": [
      "enter the n1 10\n",
      "enter the n2 250\n"
     ]
    },
    {
     "name": "stdout",
     "output_type": "stream",
     "text": [
      "subtraction of number is -240\n"
     ]
    }
   ],
   "source": [
    "# you need to print have some statements\n",
    "# time sleep(2)\n",
    "# print enter 1 for add\n",
    "# time sleep(2)\n",
    "# print enter 2 for sub\n",
    "# time sleep(2)\n",
    "# print enter 3 for mul\n",
    "# time sleep(2)\n",
    "# print enter 4 for div\n",
    "# n1=enter the number for the keyboard\n",
    "# n2=enter the number for the keyboard\n",
    "# operations=eval(input(enter the numbers between 1 to 4 ))\n",
    "# if operation equal to 1\n",
    "# print you choose addition operation\n",
    "# addition of n1+n2\n",
    "#  if operation equal to 2\n",
    "# print you choose subtraction operation\n",
    "# suntraction of n1-n2\n",
    "from time import sleep \n",
    "\n",
    "print('enter add for 1')\n",
    "sleep(3)\n",
    "print('enter sub for 2')\n",
    "sleep(3)\n",
    "print('enter mul for 3')\n",
    "sleep(3)\n",
    "print('enter div for 4')\n",
    "operation=eval(input('enter the numbers between 1 to 4 '))\n",
    "if operation==1:\n",
    "      print('you choose addition of operation')\n",
    "      n1=eval(input('enter the n1'))\n",
    "      n2=eval(input('enter the n2'))\n",
    "      addition=n1+n2\n",
    "      print(f'addition of number is {addition}')\n",
    "elif operation==2:\n",
    "      print('you choose subtraction of operation')\n",
    "      n1=eval(input('enter the n1'))\n",
    "      n2=eval(input('enter the n2'))\n",
    "      subtraction=n1-n2\n",
    "      print(f'subtraction of number is {subtraction}')\n",
    "elif operation==3:\n",
    "      print('you choose multiplication of operation')\n",
    "      n1=eval(input('enter the n1'))\n",
    "      n2=eval(input('enter the n2'))\n",
    "      multiplication=n1*n2\n",
    "      print(f'multiplication of number is {multiplication}')\n",
    "elif operation==4:\n",
    "      print('you choose division of operation')\n",
    "      n1=eval(input('enter the n1'))\n",
    "      n2=eval(input('enter the n2'))\n",
    "      division=n1/n2\n",
    "      print(f'division of number is {division}')\n",
    "else:\n",
    "      print('no operation')"
   ]
  },
  {
   "cell_type": "markdown",
   "id": "4454cf53-3fdc-4d04-8626-e17acc19a875",
   "metadata": {},
   "source": [
    "## Nested if else\n",
    "## Try expect\n",
    "## Functions\n",
    "## Loops"
   ]
  },
  {
   "cell_type": "markdown",
   "id": "689d492e-35b6-42bc-bce5-74d03905e031",
   "metadata": {},
   "source": [
    "**Nested if-else**"
   ]
  },
  {
   "cell_type": "code",
   "execution_count": 99,
   "id": "9033f9ff-39a4-45ba-bbb4-861a7b947ab8",
   "metadata": {},
   "outputs": [
    {
     "name": "stdin",
     "output_type": "stream",
     "text": [
      "enter a number -25\n"
     ]
    },
    {
     "name": "stdout",
     "output_type": "stream",
     "text": [
      "negative number\n"
     ]
    }
   ],
   "source": [
    "# if elif else\n",
    "# write ask the user enter a number\n",
    "# if num greater than or equal to zero then print positive number\n",
    "# if number lessthan zero then print negative number\n",
    "# otherwise print it is zero\n",
    "num=eval(input('enter a number'))\n",
    "if num>=0:\n",
    "    print('positive number')  # Print(f\"the given number is {positive}\")\n",
    "elif num<=0:\n",
    "    print('negative number')  # Print(f\"the given number is {negative}\")\n",
    "else:\n",
    "    print('it is zero')"
   ]
  },
  {
   "cell_type": "code",
   "execution_count": 101,
   "id": "d9e5446e-ea04-4e22-aac5-99040644b057",
   "metadata": {},
   "outputs": [
    {
     "name": "stdin",
     "output_type": "stream",
     "text": [
      "enter a number 46\n"
     ]
    },
    {
     "name": "stdout",
     "output_type": "stream",
     "text": [
      "it is positive\n"
     ]
    }
   ],
   "source": [
    "# if elif else\n",
    "# write ask the user enter a number\n",
    "# if num greater than equal to zero \n",
    "# if num equal to zero then print zero\n",
    "# then print positive number\n",
    "# otherwise print it is Negative\n",
    "\n",
    "num=eval(input('enter a number'))\n",
    "if num>=0: \n",
    "    if num==0:\n",
    "      print('it is zero')\n",
    "    else:\n",
    "      print('it is positive')\n",
    "else:\n",
    "      print('it is Negative')"
   ]
  },
  {
   "cell_type": "code",
   "execution_count": 123,
   "id": "d9442c96-6664-40fb-abb6-a99f93f76efb",
   "metadata": {},
   "outputs": [
    {
     "name": "stdin",
     "output_type": "stream",
     "text": [
      "enter a gender 'male'\n",
      "enter age 35\n"
     ]
    },
    {
     "name": "stdout",
     "output_type": "stream",
     "text": [
      "middle age man\n"
     ]
    }
   ],
   "source": [
    "# write ask the user enter a gender\n",
    "# if gender is equal to male\n",
    "# ask the user enter age\n",
    "# if age greater then or equal to 60 print sc \n",
    "# if age between 30 to 60 print middle age man\n",
    "# if age between 10 to 30 print young man\n",
    "# otherwise print a boy\n",
    "# if gender is equal to female\n",
    "# ask the user enter age\n",
    "# if age greater then or equal to 60 print sc \n",
    "# if age between 30 to 60 print middle aged woman \n",
    "# if age between 10 to 30 print young girl\n",
    "# otherwise print a girl\n",
    "# otherwise enter valid gender\n",
    "\n",
    "gender=eval(input('enter a gender'))\n",
    "if gender=='male':\n",
    "     age=eval(input('enter age'))\n",
    "     if age>=60:print('seniour citizen')\n",
    "     elif age>=30:print('middle age man')\n",
    "     elif age>=10:print('young man')\n",
    "     else:print('a boy')\n",
    "elif gender=='female':\n",
    "     age=eval(input('enter a age'))   \n",
    "     if age>=60:print('seniour citizen')\n",
    "     elif age>=30:print('middle aged woman ')\n",
    "     elif age>=10:print('young girl')\n",
    "     else:print('a girl')\n",
    "else:print('enter valid gender')"
   ]
  },
  {
   "cell_type": "code",
   "execution_count": 127,
   "id": "a6803b67-c1e3-4b69-980a-8af2818db908",
   "metadata": {},
   "outputs": [
    {
     "name": "stdin",
     "output_type": "stream",
     "text": [
      "the num 90\n"
     ]
    },
    {
     "name": "stdout",
     "output_type": "stream",
     "text": [
      "A\n",
      "B\n"
     ]
    }
   ],
   "source": [
    "# there is no relation\n",
    "num=eval(input('the num'))\n",
    "if num>=45:\n",
    "    print('A')\n",
    "if num>=80:\n",
    "    print('B')"
   ]
  },
  {
   "cell_type": "code",
   "execution_count": 131,
   "id": "b98240d2-9452-4a6f-9165-98709f8a81d6",
   "metadata": {},
   "outputs": [
    {
     "name": "stdin",
     "output_type": "stream",
     "text": [
      "the num 60\n"
     ]
    },
    {
     "name": "stdout",
     "output_type": "stream",
     "text": [
      "A\n"
     ]
    }
   ],
   "source": [
    "num=eval(input('the num'))\n",
    "if num>=45:\n",
    "    print('A')\n",
    "else:\n",
    "    print('B')"
   ]
  },
  {
   "cell_type": "code",
   "execution_count": 145,
   "id": "4b40e828-854e-4895-9e02-4a2fe464d351",
   "metadata": {},
   "outputs": [
    {
     "name": "stdin",
     "output_type": "stream",
     "text": [
      "the num 100\n"
     ]
    },
    {
     "name": "stdout",
     "output_type": "stream",
     "text": [
      "A\n"
     ]
    }
   ],
   "source": [
    "num=eval(input('the num'))\n",
    "if num>=50:\n",
    "    print('A')\n",
    "elif num>=75:\n",
    "    print('B')"
   ]
  },
  {
   "cell_type": "code",
   "execution_count": 155,
   "id": "c4e8159e-53ac-4644-bbba-0a6cbf064653",
   "metadata": {},
   "outputs": [
    {
     "name": "stdin",
     "output_type": "stream",
     "text": [
      "the num1 15\n",
      "the num2 8\n",
      "the num3 6\n"
     ]
    },
    {
     "name": "stdout",
     "output_type": "stream",
     "text": [
      "number 1 is greater\n"
     ]
    }
   ],
   "source": [
    "# write ask the user take three numbers\n",
    "# find the biggest number\n",
    "num1=eval(input('the num1'))\n",
    "num2=eval(input('the num2'))\n",
    "num3=eval(input('the num3'))\n",
    "if num1>num2:  #15>8 t\n",
    "    print('number 1 is greater')\n",
    "elif num2>num3:  #8>6 t\n",
    "    print('number 2 is greater')  \n",
    "elif num3>num1:   #6>15  f\n",
    "    print('number 3 is greater')\n",
    "else:\n",
    "    print('the biggest num')"
   ]
  },
  {
   "cell_type": "code",
   "execution_count": 15,
   "id": "7f44b7ab-53f3-484c-9a59-d3d4a8ced9c7",
   "metadata": {},
   "outputs": [
    {
     "name": "stdin",
     "output_type": "stream",
     "text": [
      "the num1 50\n",
      "the num2 55\n",
      "the num3 75\n"
     ]
    },
    {
     "name": "stdout",
     "output_type": "stream",
     "text": [
      "75 is greater\n"
     ]
    }
   ],
   "source": [
    "num1=eval(input('the num1'))\n",
    "num2=eval(input('the num2'))\n",
    "num3=eval(input('the num3'))\n",
    "if num1>num2 and num1>num3:\n",
    "    print(f'{num1} is greater')\n",
    "elif num2>num3:\n",
    "    print(f'{num2} is greater')\n",
    "else:\n",
    "    print(f'{num3} is greater')"
   ]
  },
  {
   "cell_type": "code",
   "execution_count": 11,
   "id": "3a6f5cfc-6c9a-4c1f-a720-16837950c9e7",
   "metadata": {},
   "outputs": [
    {
     "name": "stdin",
     "output_type": "stream",
     "text": [
      "the num1 50\n",
      "the num2 45\n",
      "the num3 75\n"
     ]
    },
    {
     "name": "stdout",
     "output_type": "stream",
     "text": [
      "75 is greater\n"
     ]
    }
   ],
   "source": [
    "num1=eval(input('the num1'))\n",
    "num2=eval(input('the num2'))\n",
    "num3=eval(input('the num3'))\n",
    "if num1>num2:    #50>45 t\n",
    "   if num1>num3: #50>75 f\n",
    "      print(f'{num1} is greater')\n",
    "   else:\n",
    "      print(f'{num3} is greater')\n",
    "elif num2>num3:  #45>75 f\n",
    "      print(f'{num2} is greater')\n",
    "else:\n",
    "      print(f'{num3} is greater')"
   ]
  },
  {
   "cell_type": "code",
   "execution_count": 9,
   "id": "98fef21d-cf3e-46c5-97f1-b34d6a77f298",
   "metadata": {},
   "outputs": [
    {
     "name": "stdout",
     "output_type": "stream",
     "text": [
      "num1: 8\n"
     ]
    },
    {
     "name": "stdin",
     "output_type": "stream",
     "text": [
      "enter the number between 1 -10 8\n"
     ]
    },
    {
     "name": "stdout",
     "output_type": "stream",
     "text": [
      "won\n"
     ]
    }
   ],
   "source": [
    "# wap get arandom number b/w 1 to 10 assume as num1\n",
    "# ask the user enter a number assume as num2\n",
    "# if num1 equal to num 2 then print s you won \n",
    "# otherwise  print as you lost\n",
    "\n",
    "# idea \n",
    "import random\n",
    "num1=random.randint(1,10)\n",
    "print('num1:',num1)\n",
    "num2=eval(input('enter the number between 1 -10'))\n",
    "if num1==num2:\n",
    "    print('won')\n",
    "else:\n",
    "    print('lost')"
   ]
  },
  {
   "cell_type": "code",
   "execution_count": 13,
   "id": "0f90ecf7-857c-4488-bdad-0bfe8e19d2ed",
   "metadata": {},
   "outputs": [
    {
     "name": "stdin",
     "output_type": "stream",
     "text": [
      "enter a inst_name iit\n",
      "enter a course_name genai\n"
     ]
    },
    {
     "name": "stdout",
     "output_type": "stream",
     "text": [
      "life is not lost\n"
     ]
    }
   ],
   "source": [
    "#4) wap ask the user enter the int name and course name\n",
    "# if the inst name eqaul to iit course name qual to gen AI\n",
    "# then print life is safe otherwise lost\n",
    "inst_name=input('enter a inst_name')\n",
    "course_name=input('enter a course_name')\n",
    "if inst_name=='IIT' and course_name=='GEN AI':\n",
    "    print('life is same')\n",
    "else:\n",
    "    print('life is not lost')\n",
    "    "
   ]
  },
  {
   "cell_type": "code",
   "execution_count": 15,
   "id": "8d70bb7c-7705-4ef9-aac5-380d9a60664b",
   "metadata": {},
   "outputs": [
    {
     "name": "stdin",
     "output_type": "stream",
     "text": [
      "enter a inst_name IIT\n",
      "enter a course_name GEN AI\n"
     ]
    },
    {
     "name": "stdout",
     "output_type": "stream",
     "text": [
      "life is same\n"
     ]
    }
   ],
   "source": [
    "inst_name=input('enter a inst_name')\n",
    "course_name=input('enter a course_name')\n",
    "if inst_name=='IIT' or course_name=='GEN AI':\n",
    "    print('life is same')\n",
    "else:\n",
    "    print('life is not lost')"
   ]
  },
  {
   "cell_type": "code",
   "execution_count": 19,
   "id": "4e0accb6-b81c-465a-b257-b3af5866cdaf",
   "metadata": {},
   "outputs": [
    {
     "name": "stdin",
     "output_type": "stream",
     "text": [
      "enter a num 3\n"
     ]
    },
    {
     "name": "stdout",
     "output_type": "stream",
     "text": [
      "three\n"
     ]
    }
   ],
   "source": [
    "# wap user ask the num \n",
    "num=eval(input('enter a num'))\n",
    "if num==1:\n",
    "    print('one')\n",
    "elif num==2:\n",
    "    print('two')\n",
    "elif num==3:\n",
    "    print('three')\n",
    "else:\n",
    "    print('enter the crt num')"
   ]
  },
  {
   "cell_type": "code",
   "execution_count": 21,
   "id": "095ee7b3-5bd8-4000-a75c-a24a819d33ce",
   "metadata": {},
   "outputs": [
    {
     "name": "stdin",
     "output_type": "stream",
     "text": [
      "enter a per of marks 65\n"
     ]
    },
    {
     "name": "stdout",
     "output_type": "stream",
     "text": [
      "B grade\n"
     ]
    }
   ],
   "source": [
    "# wap ask the user enter marks and percentage\n",
    "# if percentage greater then or equal to 75 print A grade\n",
    "# if percentage between 60 to 75 print B grade \n",
    "# if percentage between 50 to 60 print C grade \n",
    "# if percentage between 35 to 45 print D grade \n",
    "# otherwise print fail\n",
    "per=eval(input('enter a per of marks'))\n",
    "if per>75:\n",
    "    print('A grade')\n",
    "elif per >=60:\n",
    "    print('B grade')\n",
    "elif per >=50:\n",
    "    print('C grade')\n",
    "elif per >=35:\n",
    "    print('D grade')\n",
    "else:\n",
    "    print('fail')"
   ]
  },
  {
   "cell_type": "code",
   "execution_count": 27,
   "id": "f1667552-ba6c-4f55-9bf0-358a0ec291c1",
   "metadata": {},
   "outputs": [
    {
     "name": "stdin",
     "output_type": "stream",
     "text": [
      "enter a age 30\n"
     ]
    },
    {
     "name": "stdout",
     "output_type": "stream",
     "text": [
      "MA\n"
     ]
    }
   ],
   "source": [
    "age=eval(input('enter a age'))\n",
    "if age>=100:\n",
    "    print('unlucky')\n",
    "elif age>=60:\n",
    "    print('SS')\n",
    "elif age>=30:\n",
    "    print('MA')\n",
    "elif age>=20:\n",
    "    print('youth')\n",
    "elif age>=13:\n",
    "    print('tenage')\n",
    "else:\n",
    "    print('kid')"
   ]
  },
  {
   "cell_type": "code",
   "execution_count": 33,
   "id": "4d171960-8b7e-4c73-9f14-b482a07729a7",
   "metadata": {},
   "outputs": [
    {
     "name": "stdin",
     "output_type": "stream",
     "text": [
      "enter the take distance 50\n"
     ]
    },
    {
     "name": "stdout",
     "output_type": "stream",
     "text": [
      "the travel distance more than free distance i.e.25km\n",
      "now the charge only on: 25 km\n"
     ]
    },
    {
     "name": "stdin",
     "output_type": "stream",
     "text": [
      "enter the rate per km 2\n"
     ]
    },
    {
     "name": "stdout",
     "output_type": "stream",
     "text": [
      "the total charge is 25*2=50\n"
     ]
    }
   ],
   "source": [
    "# wap ask the user enter the distance\n",
    "# assume that govt is giving free distance travel up to 25km\n",
    "# if the distance more than 25km then ask the user enter the charge\n",
    "# calculate total charge\n",
    "# if the travel distance less then or equal to 25km then print free ride\n",
    "\n",
    "# idea\n",
    "# step-1: free_dis=25\n",
    "# step-2: travel distance =eval(take the distance)\n",
    "# step-3: chargeble distance =<logic>\n",
    "# step-4: if cd>fd:\n",
    "# step-5: rateperkm=eval\n",
    "# step-6: total charge=<logic>\n",
    "# step-7: print the total charge\n",
    "# step-8: else\n",
    "# step-9: print free ride\n",
    "free_distance_in_km=25\n",
    "travel_dis=eval(input('enter the take distance'))\n",
    "if travel_dis>free_distance_in_km:\n",
    "    print('the travel distance more than free distance i.e.25km')\n",
    "    chargeble_dis=travel_dis-free_distance_in_km\n",
    "    print(f'now the charge only on: {chargeble_dis} km')\n",
    "    rate_per_km=eval(input('enter the rate per km'))\n",
    "    total_charge=chargeble_dis*rate_per_km\n",
    "    print(f'the total charge is {chargeble_dis}*{rate_per_km}={total_charge}')\n",
    "else:\n",
    "    print('the travel distance less than free distance i.e.25km')\n",
    "    print('so enjoy free ride')"
   ]
  },
  {
   "cell_type": "code",
   "execution_count": null,
   "id": "caba9d9f-36ba-4fbb-9593-ba16da0ba72a",
   "metadata": {},
   "outputs": [],
   "source": []
  }
 ],
 "metadata": {
  "kernelspec": {
   "display_name": "Python [conda env:base] *",
   "language": "python",
   "name": "conda-base-py"
  },
  "language_info": {
   "codemirror_mode": {
    "name": "ipython",
    "version": 3
   },
   "file_extension": ".py",
   "mimetype": "text/x-python",
   "name": "python",
   "nbconvert_exporter": "python",
   "pygments_lexer": "ipython3",
   "version": "3.12.7"
  }
 },
 "nbformat": 4,
 "nbformat_minor": 5
}

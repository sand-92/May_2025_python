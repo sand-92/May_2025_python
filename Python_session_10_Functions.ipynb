{
 "cells": [
  {
   "cell_type": "markdown",
   "id": "4f85840a-aa55-428b-b48d-f41f9dde2be6",
   "metadata": {},
   "source": [
    "**Functions or Methods**\n",
    "- (some operations are performing)\n",
    "- **function** is Reuse of code"
   ]
  },
  {
   "cell_type": "markdown",
   "id": "74956dfe-45fc-4f23-83a3-9196454192ce",
   "metadata": {},
   "source": [
    "- Functions with out arguments\n",
    "- Functions with arguments\n",
    "- Functions with default arguments\n",
    "- Global variables vs local variables\n",
    "- Functions with return statement\n",
    "- Function with kwargs(keyword arguments)\n",
    "- Functions in functions"
   ]
  },
  {
   "cell_type": "code",
   "execution_count": null,
   "id": "c0c58982-d440-45fd-967a-a5f58b127bc9",
   "metadata": {},
   "outputs": [],
   "source": [
    "# syntax\n",
    "def <function name>():    # def (defination)\n",
    "    <write your code here>"
   ]
  },
  {
   "cell_type": "code",
   "execution_count": null,
   "id": "4f54f1b2-4efd-43c8-a631-95cc4e542d95",
   "metadata": {},
   "outputs": [],
   "source": [
    "**Function With Out Arguments**\n",
    "- the function we defined does not have any values or variables\n",
    "- these is called as Arguments or Parameters\n",
    "- Simply it is empty bracket"
   ]
  },
  {
   "cell_type": "code",
   "execution_count": 3,
   "id": "474348ce-4936-4976-a7db-eea51aaf1e52",
   "metadata": {},
   "outputs": [
    {
     "name": "stdin",
     "output_type": "stream",
     "text": [
      "enter the n1 65\n",
      "enter the n2 15\n"
     ]
    },
    {
     "name": "stdout",
     "output_type": "stream",
     "text": [
      "the addition of 65, 15 is: 80\n"
     ]
    }
   ],
   "source": [
    "n1=eval(input('enter the n1')) \n",
    "n2=eval(input('enter the n2'))\n",
    "add=n1+n2\n",
    "print(f\"the addition of {n1}, {n2} is: {add}\")"
   ]
  },
  {
   "cell_type": "markdown",
   "id": "ddab3940-52b7-49e6-a8d2-9c007e06d71c",
   "metadata": {},
   "source": [
    "### Function With out Arguments"
   ]
  },
  {
   "cell_type": "code",
   "execution_count": 5,
   "id": "0c2dd030-d227-4935-8464-17e15c4bc315",
   "metadata": {},
   "outputs": [],
   "source": [
    "def add():\n",
    "    n1=eval(input('enter the n1')) \n",
    "    n2=eval(input('enter the n2'))\n",
    "    add=n1+n2\n",
    "    print(f\"the addition of {n1}, {n2} is: {add}\")"
   ]
  },
  {
   "cell_type": "code",
   "execution_count": 7,
   "id": "215cb1af-4799-4922-99ba-c2743ccb3a58",
   "metadata": {},
   "outputs": [
    {
     "name": "stdin",
     "output_type": "stream",
     "text": [
      "enter the n1 45\n",
      "enter the n2 25\n"
     ]
    },
    {
     "name": "stdout",
     "output_type": "stream",
     "text": [
      "the addition of 45, 25 is: 70\n"
     ]
    }
   ],
   "source": [
    "# function is ready\n",
    "# creating function means it will not give the answer\n",
    "# you need to call the function\n",
    "add()"
   ]
  },
  {
   "cell_type": "code",
   "execution_count": 9,
   "id": "19a3f057-d03a-49e8-aab0-506be169b01c",
   "metadata": {},
   "outputs": [
    {
     "data": {
      "text/plain": [
       "<function __main__.add()>"
      ]
     },
     "execution_count": 9,
     "metadata": {},
     "output_type": "execute_result"
    }
   ],
   "source": [
    "add"
   ]
  },
  {
   "cell_type": "code",
   "execution_count": 11,
   "id": "3a793201-0676-41ac-a192-498daf6ded44",
   "metadata": {},
   "outputs": [
    {
     "data": {
      "text/plain": [
       "<bound method Random.randint of <random.Random object at 0x0000021192B78000>>"
      ]
     },
     "execution_count": 11,
     "metadata": {},
     "output_type": "execute_result"
    }
   ],
   "source": [
    "import random\n",
    "random.randint"
   ]
  },
  {
   "cell_type": "markdown",
   "id": "d2043783-a9c8-42bd-a67f-1cb9f93c61ac",
   "metadata": {},
   "source": [
    "**Note**\n",
    "- while calling the function we need to use the function name\n",
    "- also we need to provide brackets\n",
    "- in python brackets indicates it is a function or method\n",
    "- if we miss the brackets, it will display as,\n",
    "       - function\n",
    "       - bound method"
   ]
  },
  {
   "cell_type": "code",
   "execution_count": 13,
   "id": "04f23f07-4503-4e4c-8069-4c42aae27374",
   "metadata": {},
   "outputs": [],
   "source": [
    "a=10"
   ]
  },
  {
   "cell_type": "code",
   "execution_count": 15,
   "id": "9196613f-8201-47d7-a8c9-f31ba1bb8a65",
   "metadata": {},
   "outputs": [],
   "source": [
    "name='python'"
   ]
  },
  {
   "cell_type": "code",
   "execution_count": 17,
   "id": "c8e47735-4c89-4152-8711-5f96df12060e",
   "metadata": {},
   "outputs": [
    {
     "name": "stdin",
     "output_type": "stream",
     "text": [
      "enter the n1 45\n",
      "enter the n2 25\n"
     ]
    },
    {
     "name": "stdout",
     "output_type": "stream",
     "text": [
      "the addition of 45, 25 is: 70\n"
     ]
    }
   ],
   "source": [
    "add()"
   ]
  },
  {
   "cell_type": "markdown",
   "id": "39605ed9-3e83-44a9-83d4-e7fcd71ef07a",
   "metadata": {},
   "source": [
    "- once we create the function we can use anywhere in the same notebook\n",
    "- if you want to use in onther note book\n",
    "- we need to create as package(oops)"
   ]
  },
  {
   "cell_type": "code",
   "execution_count": 19,
   "id": "a0d0ca1c-9289-4e4b-b5aa-083b916a0b2b",
   "metadata": {},
   "outputs": [
    {
     "name": "stdin",
     "output_type": "stream",
     "text": [
      "enter the n1 78\n",
      "enter the n2 98\n"
     ]
    },
    {
     "name": "stdout",
     "output_type": "stream",
     "text": [
      "the addition of 78, 98 is: 176\n"
     ]
    }
   ],
   "source": [
    "def addition():\n",
    "    n1=eval(input('enter the n1')) \n",
    "    n2=eval(input('enter the n2'))\n",
    "    add=n1+n2\n",
    "    print(f\"the addition of {n1}, {n2} is: {add}\")\n",
    "addition()    "
   ]
  },
  {
   "cell_type": "code",
   "execution_count": 21,
   "id": "cc1bc10d-6f87-442e-97eb-189775e9171d",
   "metadata": {},
   "outputs": [
    {
     "name": "stdin",
     "output_type": "stream",
     "text": [
      "enter the n1 85\n",
      "enter the n2 98\n"
     ]
    },
    {
     "name": "stdout",
     "output_type": "stream",
     "text": [
      "the addition of 85, 98 is: -13\n"
     ]
    }
   ],
   "source": [
    "def subtraction():\n",
    "    n1=eval(input('enter the n1')) \n",
    "    n2=eval(input('enter the n2'))\n",
    "    sub=n1-n2\n",
    "    print(f\"the addition of {n1}, {n2} is: {sub}\")\n",
    "subtraction()    "
   ]
  },
  {
   "cell_type": "code",
   "execution_count": 23,
   "id": "70a82aa8-af10-4b91-8217-58f8b44ffcd9",
   "metadata": {},
   "outputs": [
    {
     "name": "stdin",
     "output_type": "stream",
     "text": [
      "enter the n1: 78\n",
      "enter the n2: 54\n",
      "enter the n3: 12\n"
     ]
    },
    {
     "name": "stdout",
     "output_type": "stream",
     "text": [
      "the avg of 78, 54 and 12 is 48.0\n"
     ]
    }
   ],
   "source": [
    "def Averange():\n",
    "    n1=eval(input(\"enter the n1:\"))\n",
    "    n2=eval(input(\"enter the n2:\"))\n",
    "    n3=eval(input(\"enter the n3:\"))\n",
    "    avg=(n1+n2+n3)/3\n",
    "    print(f\"the avg of {n1}, {n2} and {n3} is {avg}\") \n",
    "Averange()"
   ]
  },
  {
   "cell_type": "code",
   "execution_count": 25,
   "id": "11609328-e6f0-427c-bd25-9ad805622e96",
   "metadata": {},
   "outputs": [
    {
     "name": "stdin",
     "output_type": "stream",
     "text": [
      "enter a breadth 85\n",
      "enter a height 12\n"
     ]
    },
    {
     "name": "stdout",
     "output_type": "stream",
     "text": [
      "area_of_right_angle_triangle is: 510.0\n"
     ]
    }
   ],
   "source": [
    "# write ask the user take the breadth and height from keyboard?\n",
    "# calculate area of right angle triangle\n",
    "# formula(area)=0.5*b*h\n",
    "def area_of_right_angle_triangle():\n",
    "    breadth=eval(input('enter a breadth'))\n",
    "    height=eval(input('enter a height'))\n",
    "    area=0.5*breadth* height\n",
    "    print(f\"area_of_right_angle_triangle is: {area}\")\n",
    "area_of_right_angle_triangle()"
   ]
  },
  {
   "cell_type": "markdown",
   "id": "eb21698a-7581-4d56-9032-60372e227a63",
   "metadata": {},
   "source": [
    "- variable names should not equal to function names"
   ]
  },
  {
   "cell_type": "code",
   "execution_count": 27,
   "id": "3550a65e-4645-443c-87f1-033dd329f748",
   "metadata": {},
   "outputs": [
    {
     "name": "stdin",
     "output_type": "stream",
     "text": [
      "enter a radius 65\n"
     ]
    },
    {
     "name": "stdout",
     "output_type": "stream",
     "text": [
      "the area of circle is: 13266.5\n"
     ]
    }
   ],
   "source": [
    "# write ask the take the radius(r) from keyboard\n",
    "# calculate the area of circle\n",
    "#formula=pi*r*r (pi=22/7=3.14)\n",
    "def area_of_circle():\n",
    "    radius=eval(input('enter a radius'))\n",
    "    pi=3.14\n",
    "    area=pi*radius*radius\n",
    "    area1=round(area,2)\n",
    "    print(f\"the area of circle is: {area1}\")\n",
    "area_of_circle()"
   ]
  },
  {
   "cell_type": "code",
   "execution_count": 29,
   "id": "c79d089f-6d2f-4bf9-bb1a-caf68e6e5335",
   "metadata": {},
   "outputs": [
    {
     "name": "stdin",
     "output_type": "stream",
     "text": [
      "enter a bill amount 850\n",
      "enter a tip amount 100\n"
     ]
    },
    {
     "name": "stdout",
     "output_type": "stream",
     "text": [
      "the total bill is: 950\n"
     ]
    }
   ],
   "source": [
    "# write ask the user enter bill amount\n",
    "# ask the user provide how mich tip amount he wants to give\n",
    "# calculate the total bill\n",
    "def total_bill():\n",
    "    bill_amount=eval(input('enter a bill amount'))\n",
    "    tip_amount=eval(input('enter a tip amount'))\n",
    "    total_bill=bill_amount+tip_amount\n",
    "    print(f\"the total bill is: {total_bill}\")\n",
    "total_bill()"
   ]
  },
  {
   "cell_type": "code",
   "execution_count": 1,
   "id": "5b1b3bfc-bb15-49f1-9cc4-e35c29498142",
   "metadata": {},
   "outputs": [
    {
     "name": "stdin",
     "output_type": "stream",
     "text": [
      "enter a bill amount 1254\n",
      "enter a tip_per 250\n"
     ]
    },
    {
     "name": "stdout",
     "output_type": "stream",
     "text": [
      "the total bill is: 4389.0 \n"
     ]
    }
   ],
   "source": [
    "# write ask the user enter bill amount\n",
    "# ask the user provide how mich tip Percentage he wants to give\n",
    "# calculate the total bill\n",
    "def tip_per():\n",
    "    bill_amount=eval(input('enter a bill amount'))\n",
    "    tip_per=eval(input('enter a tip_per'))\n",
    "    tip_amount=bill_amount*tip_per/100\n",
    "    total_bill=bill_amount+tip_amount\n",
    "    print(f\"the total bill is: {total_bill} \")\n",
    "tip_per()    "
   ]
  },
  {
   "cell_type": "code",
   "execution_count": 33,
   "id": "c44c7b6d-1ba8-44b6-84b9-3f644a33c305",
   "metadata": {},
   "outputs": [
    {
     "name": "stdin",
     "output_type": "stream",
     "text": [
      "enter the n1: 45\n",
      "enter the n2: 95\n",
      "enter the n3: 63\n"
     ]
    },
    {
     "name": "stdout",
     "output_type": "stream",
     "text": [
      "the avg of 45, 95 and 63 is 67.66666666666667\n"
     ]
    }
   ],
   "source": [
    "try:\n",
    "    n1=eval(input(\"enter the n1:\"))\n",
    "    n2=eval(input(\"enter the n2:\"))\n",
    "    n3=eval(input(\"enter the n3:\"))\n",
    "    avg=(n1+n2+n3)/3\n",
    "    print(f\"the avg of {n1}, {n2} and {n3} is {avg}\") \n",
    "except exception as e:\n",
    "    print(e)"
   ]
  },
  {
   "cell_type": "code",
   "execution_count": 35,
   "id": "f59d5352-6d19-4fb4-8be7-aec05212b907",
   "metadata": {},
   "outputs": [
    {
     "name": "stdin",
     "output_type": "stream",
     "text": [
      "enter the n1: 75\n",
      "enter the n2: 65\n",
      "enter the n3: 35\n"
     ]
    },
    {
     "name": "stdout",
     "output_type": "stream",
     "text": [
      "name 'n33333' is not defined\n"
     ]
    }
   ],
   "source": [
    "def AVERANGE():\n",
    "    try:\n",
    "        n1=eval(input(\"enter the n1:\"))\n",
    "        n2=eval(input(\"enter the n2:\"))\n",
    "        n3=eval(input(\"enter the n3:\"))\n",
    "        avg=(n1+n2+n33333)/3\n",
    "        print(f\"the avg of {n1}, {n2} and {n3} is {avg}\") \n",
    "    except Exception as e:\n",
    "        print(e)\n",
    "    \n",
    "AVERANGE()    "
   ]
  },
  {
   "cell_type": "code",
   "execution_count": 37,
   "id": "a2f1b902-6c60-4e42-b624-73828c450f90",
   "metadata": {},
   "outputs": [
    {
     "name": "stdin",
     "output_type": "stream",
     "text": [
      "enter the n1: 75\n",
      "enter the n2: 85\n",
      "enter the n3: 42\n"
     ]
    },
    {
     "ename": "NameError",
     "evalue": "name 'n3333' is not defined",
     "output_type": "error",
     "traceback": [
      "\u001b[1;31m---------------------------------------------------------------------------\u001b[0m",
      "\u001b[1;31mNameError\u001b[0m                                 Traceback (most recent call last)",
      "Cell \u001b[1;32mIn[37], line 11\u001b[0m\n\u001b[0;32m      8\u001b[0m \u001b[38;5;28;01mexcept\u001b[39;00m \u001b[38;5;167;01mException\u001b[39;00m \u001b[38;5;28;01mas\u001b[39;00m e:\n\u001b[0;32m      9\u001b[0m          \u001b[38;5;28mprint\u001b[39m(e)\n\u001b[1;32m---> 11\u001b[0m AVERANGE()\n",
      "Cell \u001b[1;32mIn[37], line 6\u001b[0m, in \u001b[0;36mAVERANGE\u001b[1;34m()\u001b[0m\n\u001b[0;32m      4\u001b[0m n2\u001b[38;5;241m=\u001b[39m\u001b[38;5;28meval\u001b[39m(\u001b[38;5;28minput\u001b[39m(\u001b[38;5;124m\"\u001b[39m\u001b[38;5;124menter the n2:\u001b[39m\u001b[38;5;124m\"\u001b[39m))\n\u001b[0;32m      5\u001b[0m n3\u001b[38;5;241m=\u001b[39m\u001b[38;5;28meval\u001b[39m(\u001b[38;5;28minput\u001b[39m(\u001b[38;5;124m\"\u001b[39m\u001b[38;5;124menter the n3:\u001b[39m\u001b[38;5;124m\"\u001b[39m))\n\u001b[1;32m----> 6\u001b[0m avg\u001b[38;5;241m=\u001b[39m(n1\u001b[38;5;241m+\u001b[39mn2\u001b[38;5;241m+\u001b[39mn3333)\u001b[38;5;241m/\u001b[39m\u001b[38;5;241m3\u001b[39m\n\u001b[0;32m      7\u001b[0m \u001b[38;5;28mprint\u001b[39m(\u001b[38;5;124mf\u001b[39m\u001b[38;5;124m\"\u001b[39m\u001b[38;5;124mthe avg of \u001b[39m\u001b[38;5;132;01m{\u001b[39;00mn1\u001b[38;5;132;01m}\u001b[39;00m\u001b[38;5;124m, \u001b[39m\u001b[38;5;132;01m{\u001b[39;00mn2\u001b[38;5;132;01m}\u001b[39;00m\u001b[38;5;124m and \u001b[39m\u001b[38;5;132;01m{\u001b[39;00mn3\u001b[38;5;132;01m}\u001b[39;00m\u001b[38;5;124m is \u001b[39m\u001b[38;5;132;01m{\u001b[39;00mavg\u001b[38;5;132;01m}\u001b[39;00m\u001b[38;5;124m\"\u001b[39m)\n",
      "\u001b[1;31mNameError\u001b[0m: name 'n3333' is not defined"
     ]
    }
   ],
   "source": [
    "try:\n",
    "    def AVERANGE():\n",
    "        n1=eval(input(\"enter the n1:\"))\n",
    "        n2=eval(input(\"enter the n2:\"))\n",
    "        n3=eval(input(\"enter the n3:\"))\n",
    "        avg=(n1+n2+n3333)/3\n",
    "        print(f\"the avg of {n1}, {n2} and {n3} is {avg}\") \n",
    "except Exception as e:\n",
    "         print(e)\n",
    "    \n",
    "AVERANGE()    \n"
   ]
  },
  {
   "cell_type": "markdown",
   "id": "d7bd9d03-ee77-43c5-9dcc-54dc135e9ca8",
   "metadata": {},
   "source": [
    "- Note\n",
    "- always give try and except for only on code\n",
    "- not for function\n",
    "- inside the function write **try_except**\n",
    "- **Try and except for write a code(def function code) entire function will not catch the error**\n"
   ]
  },
  {
   "cell_type": "code",
   "execution_count": 39,
   "id": "5ce64610-a4b0-460e-ba05-704916c5d5f7",
   "metadata": {},
   "outputs": [
    {
     "name": "stdin",
     "output_type": "stream",
     "text": [
      "enter the n1: 95\n",
      "enter the n2: 42\n",
      "enter the n3: 63\n"
     ]
    },
    {
     "name": "stdout",
     "output_type": "stream",
     "text": [
      "the avg of 95, 42 and 63 is 66.66666666666667\n"
     ]
    }
   ],
   "source": [
    "def AVERANGE():   \n",
    "    try:\n",
    "    \n",
    "        n1=eval(input(\"enter the n1:\"))\n",
    "        n2=eval(input(\"enter the n2:\"))\n",
    "        n3=eval(input(\"enter the n3:\"))\n",
    "        avg=(n1+n2+n3)/3\n",
    "        print(f\"the avg of {n1}, {n2} and {n3} is {avg}\") \n",
    "    except Exception as e:\n",
    "         print(e)\n",
    "    \n",
    "AVERANGE()    "
   ]
  },
  {
   "cell_type": "code",
   "execution_count": 43,
   "id": "e7032f0e-efd8-4c68-9cde-3123ffe43426",
   "metadata": {},
   "outputs": [
    {
     "name": "stdin",
     "output_type": "stream",
     "text": [
      "enter a breadth 85\n",
      "enter a height 25\n"
     ]
    },
    {
     "name": "stdout",
     "output_type": "stream",
     "text": [
      "area_of_right_angle_triangle is: 1062.5\n"
     ]
    }
   ],
   "source": [
    "def area_of_right_angle_triangle():\n",
    "    try:\n",
    "        breadth=eval(input('enter a breadth'))\n",
    "        height=eval(input('enter a height'))\n",
    "        area=0.5*breadth* height\n",
    "        print(f\"area_of_right_angle_triangle is: {area}\")\n",
    "    except Exception as e:\n",
    "        print(e)\n",
    "        \n",
    "area_of_right_angle_triangle()"
   ]
  },
  {
   "cell_type": "code",
   "execution_count": 45,
   "id": "cd743040-c1d5-46dc-9e25-904977ab63e5",
   "metadata": {},
   "outputs": [
    {
     "name": "stdin",
     "output_type": "stream",
     "text": [
      "enter a radius 65\n"
     ]
    },
    {
     "name": "stdout",
     "output_type": "stream",
     "text": [
      "the area of circle is: 13266.5\n"
     ]
    }
   ],
   "source": [
    "def area_of_circle():\n",
    "    try:\n",
    "        radius=eval(input('enter a radius'))\n",
    "        pi=3.14\n",
    "        area=pi*radius*radius\n",
    "        area1=round(area,2)\n",
    "        print(f\"the area of circle is: {area1}\")\n",
    "    except Exception as e:\n",
    "        print(e)\n",
    "        \n",
    "area_of_circle()"
   ]
  },
  {
   "cell_type": "code",
   "execution_count": 47,
   "id": "5b6ca522-a9d8-469b-9639-662fda337c10",
   "metadata": {},
   "outputs": [
    {
     "name": "stdin",
     "output_type": "stream",
     "text": [
      "enter a bill amount 1125\n",
      "enter a tip amount 50\n"
     ]
    },
    {
     "name": "stdout",
     "output_type": "stream",
     "text": [
      "the total bill is: 1175\n"
     ]
    }
   ],
   "source": [
    "def total_bill():\n",
    "    try:\n",
    "        bill_amount=eval(input('enter a bill amount'))\n",
    "        tip_amount=eval(input('enter a tip amount'))\n",
    "        total_bill=bill_amount+tip_amount\n",
    "        print(f\"the total bill is: {total_bill}\")\n",
    "    except Exception as e:\n",
    "        print(e)\n",
    "        \n",
    "total_bill()"
   ]
  },
  {
   "cell_type": "code",
   "execution_count": null,
   "id": "1e6ee97f-1e18-4691-8700-f6090ac1baeb",
   "metadata": {},
   "outputs": [],
   "source": [
    "def AVERANGE():   \n",
    "    try:\n",
    "    \n",
    "        n1=eval(input(\"enter the n1:\"))\n",
    "        n2=eval(input(\"enter the n2:\"))\n",
    "        n3=eval(input(\"enter the n3:\"))\n",
    "        avg=(n1+n2+n3)/3\n",
    "        print(f\"the avg of {n1}, {n2} and {n3} is {avg}\") \n",
    "    except Exception as e:\n",
    "         print(e)\n",
    "    \n",
    "AVERANGE()    \n",
    "#######################################################\n",
    "def area_of_right_angle_triangle():\n",
    "    try:\n",
    "        breadth=eval(input('enter a breadth'))\n",
    "        height=eval(input('enter a height'))\n",
    "        area=0.5*breadth* height\n",
    "        print(f\"area_of_right_angle_triangle is: {area}\")\n",
    "    except Exception as e:\n",
    "        print(e)\n",
    "        \n",
    "area_of_right_angle_triangle()\n",
    "#######################################################\n",
    "def area_of_circle():\n",
    "    try:\n",
    "        radius=eval(input('enter a radius'))\n",
    "        pi=3.14\n",
    "        area=pi*radius*radius\n",
    "        area1=round(area,2)\n",
    "        print(f\"the area of circle is: {area1}\")\n",
    "    except Exception as e:\n",
    "        print(e)\n",
    "        \n",
    "area_of_circle()\n",
    "#########################################################\n",
    "def total_bill():\n",
    "    try:\n",
    "        bill_amount=eval(input('enter a bill amount'))\n",
    "        tip_amount=eval(input('enter a tip amount'))\n",
    "        total_bill=bill_amount+tip_amount\n",
    "        print(f\"the total bill is: {total_bill}\")\n",
    "    except Exception as e:\n",
    "        print(e)\n",
    "        \n",
    "total_bill()"
   ]
  },
  {
   "cell_type": "code",
   "execution_count": 49,
   "id": "798cbc74-bfbc-44dc-b5bb-b66c0d29bd61",
   "metadata": {},
   "outputs": [
    {
     "name": "stdout",
     "output_type": "stream",
     "text": [
      "AVERANGE function starts\n"
     ]
    },
    {
     "name": "stdin",
     "output_type": "stream",
     "text": [
      "enter the n1: 75\n",
      "enter the n2: 68\n",
      "enter the n3: 52\n"
     ]
    },
    {
     "name": "stdout",
     "output_type": "stream",
     "text": [
      "the avg of 75, 68 and 52 is 65.0\n",
      "area of right angle triangle function starts\n"
     ]
    },
    {
     "name": "stdin",
     "output_type": "stream",
     "text": [
      "enter a breadth 65\n",
      "enter a height 26\n"
     ]
    },
    {
     "name": "stdout",
     "output_type": "stream",
     "text": [
      "area_of_right_angle_triangle is: 845.0\n",
      "area of circle function starts\n"
     ]
    },
    {
     "name": "stdin",
     "output_type": "stream",
     "text": [
      "enter a radius 43\n"
     ]
    },
    {
     "name": "stdout",
     "output_type": "stream",
     "text": [
      "the area of circle is: 5805.86\n",
      "total bill function starts\n"
     ]
    },
    {
     "name": "stdin",
     "output_type": "stream",
     "text": [
      "enter a bill amount 987\n",
      "enter a tip amount 400\n"
     ]
    },
    {
     "name": "stdout",
     "output_type": "stream",
     "text": [
      "the total bill is: 1387\n"
     ]
    }
   ],
   "source": [
    "print(\"AVERANGE function starts\")\n",
    "AVERANGE() \n",
    "print(\"area of right angle triangle function starts\")\n",
    "area_of_right_angle_triangle()\n",
    "print(\"area of circle function starts\")\n",
    "area_of_circle()\n",
    "print(\"total bill function starts\")\n",
    "total_bill()"
   ]
  },
  {
   "cell_type": "code",
   "execution_count": 51,
   "id": "90d0ad76-0241-4117-afe5-ae7ea0bc7123",
   "metadata": {},
   "outputs": [
    {
     "name": "stdin",
     "output_type": "stream",
     "text": [
      "enter the n1: 65\n",
      "enter the n2: 42\n",
      "enter the n3: 35\n"
     ]
    },
    {
     "ename": "NameError",
     "evalue": "name 'n3333' is not defined",
     "output_type": "error",
     "traceback": [
      "\u001b[1;31m---------------------------------------------------------------------------\u001b[0m",
      "\u001b[1;31mNameError\u001b[0m                                 Traceback (most recent call last)",
      "Cell \u001b[1;32mIn[51], line 8\u001b[0m\n\u001b[0;32m      5\u001b[0m         avg\u001b[38;5;241m=\u001b[39m(n1\u001b[38;5;241m+\u001b[39mn2\u001b[38;5;241m+\u001b[39mn3333)\u001b[38;5;241m/\u001b[39m\u001b[38;5;241m3\u001b[39m\n\u001b[0;32m      6\u001b[0m         \u001b[38;5;28mprint\u001b[39m(\u001b[38;5;124mf\u001b[39m\u001b[38;5;124m\"\u001b[39m\u001b[38;5;124mthe avg of \u001b[39m\u001b[38;5;132;01m{\u001b[39;00mn1\u001b[38;5;132;01m}\u001b[39;00m\u001b[38;5;124m, \u001b[39m\u001b[38;5;132;01m{\u001b[39;00mn2\u001b[38;5;132;01m}\u001b[39;00m\u001b[38;5;124m and \u001b[39m\u001b[38;5;132;01m{\u001b[39;00mn3\u001b[38;5;132;01m}\u001b[39;00m\u001b[38;5;124m is \u001b[39m\u001b[38;5;132;01m{\u001b[39;00mavg\u001b[38;5;132;01m}\u001b[39;00m\u001b[38;5;124m\"\u001b[39m) \n\u001b[1;32m----> 8\u001b[0m AVERANGE1()\n",
      "Cell \u001b[1;32mIn[51], line 5\u001b[0m, in \u001b[0;36mAVERANGE1\u001b[1;34m()\u001b[0m\n\u001b[0;32m      3\u001b[0m n2\u001b[38;5;241m=\u001b[39m\u001b[38;5;28meval\u001b[39m(\u001b[38;5;28minput\u001b[39m(\u001b[38;5;124m\"\u001b[39m\u001b[38;5;124menter the n2:\u001b[39m\u001b[38;5;124m\"\u001b[39m))\n\u001b[0;32m      4\u001b[0m n3\u001b[38;5;241m=\u001b[39m\u001b[38;5;28meval\u001b[39m(\u001b[38;5;28minput\u001b[39m(\u001b[38;5;124m\"\u001b[39m\u001b[38;5;124menter the n3:\u001b[39m\u001b[38;5;124m\"\u001b[39m))\n\u001b[1;32m----> 5\u001b[0m avg\u001b[38;5;241m=\u001b[39m(n1\u001b[38;5;241m+\u001b[39mn2\u001b[38;5;241m+\u001b[39mn3333)\u001b[38;5;241m/\u001b[39m\u001b[38;5;241m3\u001b[39m\n\u001b[0;32m      6\u001b[0m \u001b[38;5;28mprint\u001b[39m(\u001b[38;5;124mf\u001b[39m\u001b[38;5;124m\"\u001b[39m\u001b[38;5;124mthe avg of \u001b[39m\u001b[38;5;132;01m{\u001b[39;00mn1\u001b[38;5;132;01m}\u001b[39;00m\u001b[38;5;124m, \u001b[39m\u001b[38;5;132;01m{\u001b[39;00mn2\u001b[38;5;132;01m}\u001b[39;00m\u001b[38;5;124m and \u001b[39m\u001b[38;5;132;01m{\u001b[39;00mn3\u001b[38;5;132;01m}\u001b[39;00m\u001b[38;5;124m is \u001b[39m\u001b[38;5;132;01m{\u001b[39;00mavg\u001b[38;5;132;01m}\u001b[39;00m\u001b[38;5;124m\"\u001b[39m)\n",
      "\u001b[1;31mNameError\u001b[0m: name 'n3333' is not defined"
     ]
    }
   ],
   "source": [
    "def AVERANGE1():\n",
    "        n1=eval(input(\"enter the n1:\"))\n",
    "        n2=eval(input(\"enter the n2:\"))\n",
    "        n3=eval(input(\"enter the n3:\"))\n",
    "        avg=(n1+n2+n3333)/3\n",
    "        print(f\"the avg of {n1}, {n2} and {n3} is {avg}\") \n",
    "\n",
    "AVERANGE1()    \n"
   ]
  },
  {
   "cell_type": "code",
   "execution_count": null,
   "id": "a6f3d9df-de9d-433b-95bf-5c223c28e84b",
   "metadata": {},
   "outputs": [],
   "source": [
    "**Note**\n",
    "- when we define the function, it will not give any error or any answer\n",
    "- if we want to see any error or any answer we need to call the function"
   ]
  },
  {
   "cell_type": "markdown",
   "id": "e3942224-f7c8-464f-9885-c505549a0c30",
   "metadata": {},
   "source": [
    "**Functions with Arguments**"
   ]
  },
  {
   "cell_type": "markdown",
   "id": "0362d42b-b6d7-467f-a5d9-4be5dcaf7412",
   "metadata": {},
   "source": [
    "- lets creat an addition program code"
   ]
  },
  {
   "cell_type": "code",
   "execution_count": 75,
   "id": "93c20cfc-105a-4373-8e93-c607ea133ce1",
   "metadata": {},
   "outputs": [
    {
     "name": "stdin",
     "output_type": "stream",
     "text": [
      "enter a num1 45\n",
      "enter a num2 35\n"
     ]
    },
    {
     "name": "stdout",
     "output_type": "stream",
     "text": [
      "the addition of 45 and 35 is: 80\n"
     ]
    }
   ],
   "source": [
    "def addition():\n",
    "    n1=eval(input('enter a num1'))\n",
    "    n2=eval(input('enter a num2'))\n",
    "    add=n1+n2\n",
    "    print(f'the addition of {n1} and {n2} is: {add}')\n",
    "addition()"
   ]
  },
  {
   "cell_type": "code",
   "execution_count": null,
   "id": "8af51fe1-5494-43d6-abf9-7febf189dafb",
   "metadata": {},
   "outputs": [],
   "source": [
    "- how many variables are there in above code: 3\n",
    "         - n1, n2, add \n",
    "- what are the input variables\n",
    "         - n1, n2\n",
    "- what are output variables\n",
    "         - add\n",
    "- pass the input variables inside the function brackets\n",
    "- pass n1,n2 inside the brackets, these n1, n2 behave as function arguments  "
   ]
  },
  {
   "cell_type": "code",
   "execution_count": 79,
   "id": "539884c3-905c-474e-8cdc-29219f1dffa3",
   "metadata": {},
   "outputs": [
    {
     "name": "stdout",
     "output_type": "stream",
     "text": [
      "the addition of 10 and 20 is: 30\n"
     ]
    }
   ],
   "source": [
    "# Funcion with Arguments\n",
    "def addition1(n1,n2):\n",
    "    add=n1+n2\n",
    "    print(f'the addition of {n1} and {n2} is: {add}')\n",
    "addition1(10,20)"
   ]
  },
  {
   "cell_type": "code",
   "execution_count": 83,
   "id": "42d808f0-5534-4b96-87c1-7d4225ea01eb",
   "metadata": {},
   "outputs": [
    {
     "ename": "TypeError",
     "evalue": "addition1() missing 2 required positional arguments: 'n1' and 'n2'",
     "output_type": "error",
     "traceback": [
      "\u001b[1;31m---------------------------------------------------------------------------\u001b[0m",
      "\u001b[1;31mTypeError\u001b[0m                                 Traceback (most recent call last)",
      "Cell \u001b[1;32mIn[83], line 1\u001b[0m\n\u001b[1;32m----> 1\u001b[0m addition1()\n",
      "\u001b[1;31mTypeError\u001b[0m: addition1() missing 2 required positional arguments: 'n1' and 'n2'"
     ]
    }
   ],
   "source": [
    "addition1()\n",
    "    "
   ]
  },
  {
   "cell_type": "code",
   "execution_count": 89,
   "id": "dd891aa0-0e36-45dd-8a0f-3cfac765b3e3",
   "metadata": {},
   "outputs": [
    {
     "ename": "TypeError",
     "evalue": "Random.randint() missing 1 required positional argument: 'b'",
     "output_type": "error",
     "traceback": [
      "\u001b[1;31m---------------------------------------------------------------------------\u001b[0m",
      "\u001b[1;31mTypeError\u001b[0m                                 Traceback (most recent call last)",
      "Cell \u001b[1;32mIn[89], line 2\u001b[0m\n\u001b[0;32m      1\u001b[0m \u001b[38;5;28;01mfrom\u001b[39;00m \u001b[38;5;21;01mrandom\u001b[39;00m \u001b[38;5;28;01mimport\u001b[39;00m randint\n\u001b[1;32m----> 2\u001b[0m randint(\u001b[38;5;241m25\u001b[39m)\n",
      "\u001b[1;31mTypeError\u001b[0m: Random.randint() missing 1 required positional argument: 'b'"
     ]
    }
   ],
   "source": [
    "from random import randint\n",
    "randint(25)"
   ]
  },
  {
   "cell_type": "code",
   "execution_count": 95,
   "id": "a5ac4c0b-af48-4cfb-a675-970639a5cdaf",
   "metadata": {},
   "outputs": [
    {
     "name": "stdout",
     "output_type": "stream",
     "text": [
      "the average is 42, 65, 75is: 60.666666666666664\n"
     ]
    }
   ],
   "source": [
    "def average(n1,n2,n3):\n",
    "    avg=(n1+n2+n3)/3\n",
    "    print(f\"the average is {n1}, {n2}, {n3}is: {avg}\")\n",
    "average(42,65,75)    "
   ]
  },
  {
   "cell_type": "code",
   "execution_count": 97,
   "id": "e674ea3f-297a-453e-8e72-5d2057abe695",
   "metadata": {},
   "outputs": [
    {
     "name": "stdout",
     "output_type": "stream",
     "text": [
      "the area right angle is: 1395.0 \n"
     ]
    }
   ],
   "source": [
    "def area_right_angle(breadth,height):\n",
    "    area=0.5*breadth*height\n",
    "    print(f\"the area right angle is: {area} \")\n",
    "area_right_angle(45,62)    "
   ]
  },
  {
   "cell_type": "code",
   "execution_count": 101,
   "id": "c854b10c-7972-4a40-be84-d83fd9392317",
   "metadata": {},
   "outputs": [
    {
     "name": "stdout",
     "output_type": "stream",
     "text": [
      "area of circle is: 942.0\n"
     ]
    }
   ],
   "source": [
    "def area_of_circle(radius,radius1):\n",
    "    pi=3.14\n",
    "    area=3.14*radius*radius1\n",
    "    print(f\"area of circle is: {area}\")\n",
    "area_of_circle(25,12)    "
   ]
  },
  {
   "cell_type": "code",
   "execution_count": 115,
   "id": "f014f7f0-9769-4cb0-a192-962bd0630989",
   "metadata": {},
   "outputs": [
    {
     "name": "stdout",
     "output_type": "stream",
     "text": [
      "the total bill is: 700\n"
     ]
    }
   ],
   "source": [
    "def total_bill(billamount,tipamount):\n",
    "    totalbill=billamount+tipamount\n",
    "    print(f\"the total bill is: {totalbill}\")\n",
    "total_bill(500,200)    "
   ]
  },
  {
   "cell_type": "code",
   "execution_count": 129,
   "id": "d7733926-c121-4600-b4d5-baba344d6b96",
   "metadata": {},
   "outputs": [
    {
     "name": "stdout",
     "output_type": "stream",
     "text": [
      "n1: 20\n",
      "n2: 35\n"
     ]
    },
    {
     "name": "stdin",
     "output_type": "stream",
     "text": [
      "enter a n3 65\n"
     ]
    },
    {
     "name": "stdout",
     "output_type": "stream",
     "text": [
      "the average of 20,35 and 65is: 40.0 \n"
     ]
    }
   ],
   "source": [
    "def avg(n1,n2):\n",
    "    print('n1:',n1)\n",
    "    print('n2:',n2)\n",
    "    n3=eval(input('enter a n3'))\n",
    "    avg=(n1+n2+n3)/3\n",
    "    print(f\"the average of {n1},{n2} and {n3}is: {avg} \")\n",
    "avg(20,35)    \n",
    "\n",
    "# while calling the function we want to provide n1,n2\n",
    "# while running the function we want to provide n3"
   ]
  },
  {
   "cell_type": "code",
   "execution_count": 133,
   "id": "68c5f327-37e7-4ae5-8ad4-200f6b1164c3",
   "metadata": {},
   "outputs": [
    {
     "name": "stdin",
     "output_type": "stream",
     "text": [
      "enter a n2 35\n",
      "enter a n3 65\n"
     ]
    },
    {
     "name": "stdout",
     "output_type": "stream",
     "text": [
      "the average of 20,35 and 65is: 40.0 \n"
     ]
    }
   ],
   "source": [
    "def avg(n1):\n",
    "    n2=eval(input('enter a n2'))\n",
    "    n3=eval(input('enter a n3'))\n",
    "    avg=(n1+n2+n3)/3\n",
    "    print(f\"the average of {n1},{n2} and {n3}is: {avg} \")\n",
    "avg(20) "
   ]
  },
  {
   "cell_type": "code",
   "execution_count": 135,
   "id": "b6aa0be1-1ffc-44e8-bfb5-5acc9d6d8509",
   "metadata": {},
   "outputs": [
    {
     "name": "stdin",
     "output_type": "stream",
     "text": [
      "enter a n1 35\n",
      "enter a n2 45\n",
      "enter a n3 65\n"
     ]
    },
    {
     "name": "stdout",
     "output_type": "stream",
     "text": [
      "the average of 35,45 and 65is: 48.333333333333336 \n"
     ]
    }
   ],
   "source": [
    "def avg():\n",
    "    n1=eval(input('enter a n1'))\n",
    "    n2=eval(input('enter a n2'))\n",
    "    n3=eval(input('enter a n3'))\n",
    "    avg=(n1+n2+n3)/3\n",
    "    print(f\"the average of {n1},{n2} and {n3}is: {avg} \")\n",
    "avg() "
   ]
  },
  {
   "cell_type": "code",
   "execution_count": null,
   "id": "cd7636a7-ec05-4f86-aef2-3d2bd16579d5",
   "metadata": {},
   "outputs": [],
   "source": [
    "def avg():\n",
    "    n1=eval(input('enter a n1'))\n",
    "    n2=eval(input('enter a n2'))\n",
    "    n3=eval(input('enter a n3'))\n",
    "    avg=(n1+n2+n3)/3\n",
    "    print(f\"the average of {n1},{n2} and {n3}is: {avg} \")\n",
    "###########################################################\n",
    "def avg(n1):\n",
    "    n2=eval(input('enter a n2'))\n",
    "    n3=eval(input('enter a n3'))\n",
    "    avg=(n1+n2+n3)/3\n",
    "    print(f\"the average of {n1},{n2} and {n3}is: {avg} \")\n",
    "avg(20) \n",
    "#############################################################\n",
    "def avg(n1,n2):\n",
    "    print('n1:',n1)\n",
    "    print('n2:',n2)\n",
    "    n3=eval(input('enter a n3'))\n",
    "    avg=(n1+n2+n3)/3\n",
    "    print(f\"the average of {n1},{n2} and {n3}is: {avg} \")\n",
    "avg(20,35)  \n",
    "##############################################################\n",
    "def average(n1,n2,n3):\n",
    "    avg=(n1+n2+n3)/3\n",
    "    print(f\"the average is {n1}, {n2}, {n3}is: {avg}\")\n",
    "average(42,65,75)"
   ]
  },
  {
   "cell_type": "code",
   "execution_count": 147,
   "id": "cdc46fe7-5ea1-4bb5-b476-00150be3d803",
   "metadata": {},
   "outputs": [
    {
     "name": "stdin",
     "output_type": "stream",
     "text": [
      "enter the number: 9\n",
      "how much power we want: 6\n"
     ]
    },
    {
     "name": "stdout",
     "output_type": "stream",
     "text": [
      "531441\n"
     ]
    }
   ],
   "source": [
    "2**2\n",
    "2**3\n",
    "2**4\n",
    "number=eval(input('enter the number:'))\n",
    "power=eval(input('how much power we want:'))\n",
    "print(number**power)"
   ]
  },
  {
   "cell_type": "code",
   "execution_count": 151,
   "id": "ee7fe784-0b34-4027-94cc-5df0f6416512",
   "metadata": {},
   "outputs": [
    {
     "name": "stdin",
     "output_type": "stream",
     "text": [
      "enter the number: 16\n",
      "how much power we want: 12\n"
     ]
    },
    {
     "name": "stdout",
     "output_type": "stream",
     "text": [
      "281474976710656\n"
     ]
    }
   ],
   "source": [
    "def power():\n",
    "    number=eval(input('enter the number:'))\n",
    "    power=eval(input('how much power we want:'))\n",
    "    print(number**power)\n",
    "power()    "
   ]
  },
  {
   "cell_type": "code",
   "execution_count": 153,
   "id": "4d9f1702-b7de-4dc8-bf1b-a4123eb1ebaf",
   "metadata": {},
   "outputs": [
    {
     "name": "stdout",
     "output_type": "stream",
     "text": [
      "26623333280885243904\n"
     ]
    }
   ],
   "source": [
    "def power(number,power):\n",
    "    print(number**power)\n",
    "power(12,18)    \n",
    "    "
   ]
  },
  {
   "cell_type": "code",
   "execution_count": 155,
   "id": "099bd084-9881-4174-a053-edc6e5a5d7a0",
   "metadata": {},
   "outputs": [
    {
     "ename": "TypeError",
     "evalue": "power() takes 0 positional arguments but 1 was given",
     "output_type": "error",
     "traceback": [
      "\u001b[1;31m---------------------------------------------------------------------------\u001b[0m",
      "\u001b[1;31mTypeError\u001b[0m                                 Traceback (most recent call last)",
      "Cell \u001b[1;32mIn[155], line 5\u001b[0m\n\u001b[0;32m      3\u001b[0m     power\u001b[38;5;241m=\u001b[39m\u001b[38;5;28meval\u001b[39m(\u001b[38;5;28minput\u001b[39m(\u001b[38;5;124m'\u001b[39m\u001b[38;5;124mhow much power we want:\u001b[39m\u001b[38;5;124m'\u001b[39m))\n\u001b[0;32m      4\u001b[0m     \u001b[38;5;28mprint\u001b[39m(number\u001b[38;5;241m*\u001b[39m\u001b[38;5;241m*\u001b[39mpower)\n\u001b[1;32m----> 5\u001b[0m power(\u001b[38;5;241m10\u001b[39m)\n",
      "\u001b[1;31mTypeError\u001b[0m: power() takes 0 positional arguments but 1 was given"
     ]
    }
   ],
   "source": [
    "def power():\n",
    "    number=eval(input('enter the number:'))\n",
    "    power=eval(input('how much power we want:'))\n",
    "    print(number**power)\n",
    "power(10)    "
   ]
  },
  {
   "cell_type": "markdown",
   "id": "ad1b26a9-3160-46fc-9de0-c02ccc15ee3c",
   "metadata": {},
   "source": [
    "**Function With Default Arguments**"
   ]
  },
  {
   "cell_type": "code",
   "execution_count": 157,
   "id": "af08394b-f8da-4e40-9de4-b7c973b13099",
   "metadata": {},
   "outputs": [
    {
     "name": "stdout",
     "output_type": "stream",
     "text": [
      "the total bill is: 1300\n"
     ]
    }
   ],
   "source": [
    "def total_bill(billamount,tipamount=800):\n",
    "    totalbill=billamount+tipamount\n",
    "    print(f\"the total bill is: {totalbill}\")\n",
    "total_bill(500)   \n",
    "# total_bill(billamount,tipamount=800)----> is called as default arguments "
   ]
  },
  {
   "cell_type": "code",
   "execution_count": 168,
   "id": "d920f8c1-f826-4cbb-91cc-554cbf81aed8",
   "metadata": {},
   "outputs": [
    {
     "ename": "SyntaxError",
     "evalue": "parameter without a default follows parameter with a default (1436734272.py, line 1)",
     "output_type": "error",
     "traceback": [
      "\u001b[1;36m  Cell \u001b[1;32mIn[168], line 1\u001b[1;36m\u001b[0m\n\u001b[1;33m    def average(n1,n2=40,n3):\u001b[0m\n\u001b[1;37m                         ^\u001b[0m\n\u001b[1;31mSyntaxError\u001b[0m\u001b[1;31m:\u001b[0m parameter without a default follows parameter with a default\n"
     ]
    }
   ],
   "source": [
    "def average(n1,n2=40,n3):\n",
    "    print('n1:',n1)\n",
    "    print('n2:',n2)\n",
    "    print('n3:',n3)\n",
    "    avg=(n1+n2+n3)/3\n",
    "    print(f\"the average is {n1}, {n2}, {n3}is: {avg}\")\n",
    "average(42,65)"
   ]
  },
  {
   "cell_type": "markdown",
   "id": "fac560d3-a867-4b4b-8115-e39482f8a959",
   "metadata": {},
   "source": [
    "**always write the default arguments at last**"
   ]
  },
  {
   "cell_type": "code",
   "execution_count": 171,
   "id": "984b0190-2d12-4424-a29e-7bd6fb52a62a",
   "metadata": {},
   "outputs": [
    {
     "name": "stdout",
     "output_type": "stream",
     "text": [
      "n1: 42\n",
      "n2: 40\n",
      "n3: 65\n",
      "the average is 42, 40, 65is: 49.0\n"
     ]
    }
   ],
   "source": [
    "def average(n1,n3,n2=40):\n",
    "    print('n1:',n1)\n",
    "    print('n2:',n2)\n",
    "    print('n3:',n3)\n",
    "    avg=(n1+n2+n3)/3\n",
    "    print(f\"the average is {n1}, {n2}, {n3}is: {avg}\")\n",
    "average(42,65)"
   ]
  },
  {
   "cell_type": "code",
   "execution_count": 173,
   "id": "3b286e3d-51f7-47db-b185-afa586aa14ac",
   "metadata": {},
   "outputs": [
    {
     "name": "stdout",
     "output_type": "stream",
     "text": [
      "n1: 35\n",
      "n2: 65\n",
      "n3: 42\n",
      "the average is 35, 65, 42is: 47.333333333333336\n"
     ]
    }
   ],
   "source": [
    "def average(n3,n2,n1=35):\n",
    "    print('n1:',n1)\n",
    "    print('n2:',n2)\n",
    "    print('n3:',n3)\n",
    "    avg=(n1+n2+n3)/3\n",
    "    print(f\"the average is {n1}, {n2}, {n3}is: {avg}\")\n",
    "average(42,65)"
   ]
  },
  {
   "cell_type": "code",
   "execution_count": null,
   "id": "6e9a4c0d-9d8e-4e34-8a1e-75a569b02c72",
   "metadata": {},
   "outputs": [],
   "source": [
    "n1,n2,n3=100      # W\n",
    "n1,n2=100,n3      # f  \n",
    "n1=100,n2,n3      # f\n",
    "n1,n2=100,n3=200  # w\n",
    "n1=100,n2=100,n3  # f \n",
    "n1=100,n2,n3=100   # f\n",
    "n1=100,n2=200,n3=300  # W\n",
    "n3,n1=100,n2=200      # w\n",
    "n2,n3=200,n1=500      # W"
   ]
  },
  {
   "cell_type": "code",
   "execution_count": null,
   "id": "55024aff-5a6c-4bc2-9c55-64a57c45080e",
   "metadata": {},
   "outputs": [],
   "source": [
    "# with out arguments\n",
    "# with arguments\n",
    "# default argumnts\n",
    "\n",
    "# write ask the user enter a number\n",
    "# ask the user get a random number\n",
    "# if both numbers are match print win\n",
    "# otherwise lost"
   ]
  },
  {
   "cell_type": "code",
   "execution_count": 185,
   "id": "3488e410-bd31-4304-908f-b721c0bf6f67",
   "metadata": {},
   "outputs": [
    {
     "name": "stdin",
     "output_type": "stream",
     "text": [
      "enter a number n2 2\n"
     ]
    },
    {
     "name": "stdout",
     "output_type": "stream",
     "text": [
      "win\n"
     ]
    }
   ],
   "source": [
    "import random \n",
    "num1=random.randint(1,10)\n",
    "num2=eval(input('enter a number n2'))\n",
    "if num1==num2:\n",
    "    print('win')\n",
    "else:\n",
    "    print('lost')"
   ]
  },
  {
   "cell_type": "code",
   "execution_count": 187,
   "id": "4148ba4c-75bb-42a7-ac43-93656b6bac8b",
   "metadata": {},
   "outputs": [
    {
     "name": "stdin",
     "output_type": "stream",
     "text": [
      "enter a number n2: 5\n"
     ]
    },
    {
     "name": "stdout",
     "output_type": "stream",
     "text": [
      "lost\n"
     ]
    }
   ],
   "source": [
    "# With out Arguments:\n",
    "def condition():\n",
    "    num1=random.randint(1,10)\n",
    "    num2=eval(input('enter a number n2:'))\n",
    "    if num1==num2:\n",
    "        print('win')\n",
    "    else:\n",
    "        print('lost')\n",
    "condition()        "
   ]
  },
  {
   "cell_type": "code",
   "execution_count": 191,
   "id": "4f6b39d3-f826-431f-aab4-48ac6111920c",
   "metadata": {},
   "outputs": [
    {
     "name": "stdout",
     "output_type": "stream",
     "text": [
      "lost\n"
     ]
    }
   ],
   "source": [
    "# With Arguments:\n",
    "def condition1(num2):\n",
    "    num1=random.randint(1,10)\n",
    "    if num1==num2:\n",
    "        print('win')\n",
    "    else:\n",
    "        print('lost')\n",
    "condition1(8)        "
   ]
  },
  {
   "cell_type": "code",
   "execution_count": 201,
   "id": "8da98d68-6016-4724-b97c-e850ff4ed2c2",
   "metadata": {},
   "outputs": [
    {
     "name": "stdout",
     "output_type": "stream",
     "text": [
      "lost\n"
     ]
    }
   ],
   "source": [
    "# default Arguments:\n",
    "def condition2(num2=3):\n",
    "    num1=random.randint(1,10)\n",
    "    if num1==num2:\n",
    "        print('win')\n",
    "    else:\n",
    "        print('lost')\n",
    "condition2()        "
   ]
  },
  {
   "cell_type": "code",
   "execution_count": 205,
   "id": "0aa4b06f-2ade-4285-bd1b-29f6dd9284ae",
   "metadata": {},
   "outputs": [
    {
     "name": "stdin",
     "output_type": "stream",
     "text": [
      "enter a number n2: 10\n"
     ]
    },
    {
     "name": "stdout",
     "output_type": "stream",
     "text": [
      "win\n",
      "lost\n",
      "lost\n"
     ]
    }
   ],
   "source": [
    "condition()  \n",
    "condition1(8)\n",
    "condition2()   "
   ]
  },
  {
   "cell_type": "markdown",
   "id": "e76bb081-cbf3-412c-9a36-ec5afe8d8322",
   "metadata": {},
   "source": [
    "**case-1**\n",
    "- step1: define the function \n",
    "- step2: call the function\n",
    "- step3: run the function"
   ]
  },
  {
   "cell_type": "code",
   "execution_count": 208,
   "id": "426abbcc-e7de-4ea5-8b15-13a0efb21928",
   "metadata": {},
   "outputs": [
    {
     "name": "stdout",
     "output_type": "stream",
     "text": [
      "n1: 42\n",
      "n2: 35\n",
      "n3: 80\n",
      "the average is 42, 35, 80is: 52.333333333333336\n"
     ]
    }
   ],
   "source": [
    "def average(n1,n2,n3=65):\n",
    "    print('n1:',n1)\n",
    "    print('n2:',n2)\n",
    "    print('n3:',n3)\n",
    "    avg=(n1+n2+n3)/3\n",
    "    print(f\"the average is {n1}, {n2}, {n3}is: {avg}\")\n",
    "average(42,35,80)\n",
    "# python is always take a LATEST value\n",
    "# while defining n3=65\n",
    "# while calling n3=80\n",
    "# while running also n3=80"
   ]
  },
  {
   "cell_type": "code",
   "execution_count": 5,
   "id": "5db6efda-579e-4beb-b427-47145e11f2ac",
   "metadata": {},
   "outputs": [
    {
     "name": "stdout",
     "output_type": "stream",
     "text": [
      "a: 20\n",
      "b: 50\n",
      "c: 100\n",
      "170\n"
     ]
    }
   ],
   "source": [
    "def add(a,b,c=30):\n",
    "    print('a:',a)\n",
    "    print('b:',b)\n",
    "    print('c:',c)\n",
    "    add=a+b+c\n",
    "    print(add)\n",
    "add(20,50,100)    "
   ]
  },
  {
   "cell_type": "code",
   "execution_count": 7,
   "id": "06e3fa2e-579c-457c-96c6-b4e60fae9e58",
   "metadata": {},
   "outputs": [
    {
     "name": "stdout",
     "output_type": "stream",
     "text": [
      "a: 20\n",
      "b: 50\n",
      "c: 600\n",
      "670\n"
     ]
    }
   ],
   "source": [
    "def add(a,b,c=30):\n",
    "    c=600\n",
    "    print('a:',a)\n",
    "    print('b:',b)\n",
    "    print('c:',c)\n",
    "    add=a+b+c\n",
    "    print(add)\n",
    "add(20,50,100)\n",
    "# it takes a latest value c=600"
   ]
  },
  {
   "cell_type": "code",
   "execution_count": 13,
   "id": "0df4fc91-9dc1-45de-85e8-19adfc7dd1f0",
   "metadata": {},
   "outputs": [
    {
     "name": "stdout",
     "output_type": "stream",
     "text": [
      "a: 20\n",
      "b: 50\n",
      "c: 600\n",
      "1070\n"
     ]
    }
   ],
   "source": [
    "def add(a,b,c=30):\n",
    "    c=600\n",
    "    print('a:',a)\n",
    "    print('b:',b)\n",
    "    print('c:',c)\n",
    "    c=1000\n",
    "    add=a+b+c\n",
    "    print(add)\n",
    "add(20,50,100)"
   ]
  },
  {
   "cell_type": "code",
   "execution_count": 23,
   "id": "adf905b8-af5d-4f35-88e9-54fb7cf8488c",
   "metadata": {},
   "outputs": [
    {
     "name": "stdout",
     "output_type": "stream",
     "text": [
      "fallow the step by step process\n",
      "a: 20\n",
      "b: 50\n",
      "c: 100\n",
      "170\n"
     ]
    }
   ],
   "source": [
    "def add(a,b,c=30):\n",
    "    print('a:',a)\n",
    "    print('b:',b)\n",
    "    print('c:',c)\n",
    "    add=a+b+c\n",
    "    print(add)\n",
    "print('fallow the step by step process')\n",
    "c=450\n",
    "add(20,50,100)\n",
    "# define=30\n",
    "# running=450\n",
    "# calling=100"
   ]
  },
  {
   "cell_type": "code",
   "execution_count": 25,
   "id": "b5b827a7-6da0-4ee6-a1ba-0f0db2a262c4",
   "metadata": {},
   "outputs": [
    {
     "name": "stdout",
     "output_type": "stream",
     "text": [
      "a: 20\n",
      "b: 50\n",
      "c: 800\n",
      "970\n"
     ]
    }
   ],
   "source": [
    "def add(a,b,c=30):\n",
    "    c=800\n",
    "    print('a:',a)\n",
    "    print('b:',b)\n",
    "    print('c:',c)\n",
    "    c=900\n",
    "    add=a+b+c\n",
    "    print(add)\n",
    "c=450\n",
    "add(20,50,100)\n",
    "# define=30\n",
    "# running=450\n",
    "# calling=800\n",
    "# calling=900----->970"
   ]
  },
  {
   "cell_type": "code",
   "execution_count": 27,
   "id": "79f7c38b-cb4c-43e5-a65e-6b9fc021ddcd",
   "metadata": {},
   "outputs": [
    {
     "name": "stdout",
     "output_type": "stream",
     "text": [
      "a: 20\n",
      "b: 50\n",
      "c: 100\n",
      "170\n"
     ]
    }
   ],
   "source": [
    "c=300\n",
    "def add(a,b,c=30):\n",
    "    print('a:',a)\n",
    "    print('b:',b)\n",
    "    print('c:',c)\n",
    "    add=a+b+c\n",
    "    print(add)\n",
    "add(20,50,100)\n",
    "# define=300\n",
    "# running=30\n",
    "# calling=100"
   ]
  },
  {
   "cell_type": "code",
   "execution_count": 32,
   "id": "138b3b91-6287-44a4-998d-390e91629b9d",
   "metadata": {},
   "outputs": [
    {
     "name": "stdout",
     "output_type": "stream",
     "text": [
      "a: 20\n",
      "b: 50\n",
      "c: 400\n",
      "470\n"
     ]
    }
   ],
   "source": [
    "c=300\n",
    "def add(a,b,c=30):\n",
    "    c=400\n",
    "    print('a:',a)\n",
    "    print('b:',b)\n",
    "    print('c:',c)\n",
    "    add=a+b+c\n",
    "    c=500\n",
    "    print(add)\n",
    "c=300    \n",
    "add(20,50,100)\n",
    "# define=300\n",
    "# running=30\n",
    "# calling=300\n",
    "# calling=100\n",
    "# calling=400---->50+20+400=470"
   ]
  },
  {
   "cell_type": "code",
   "execution_count": 34,
   "id": "35b2199d-dbe5-4392-afa8-78d4bfbd848c",
   "metadata": {},
   "outputs": [
    {
     "name": "stdout",
     "output_type": "stream",
     "text": [
      "a: 20\n",
      "b: 50\n",
      "c: 400\n",
      "470\n",
      "500\n"
     ]
    }
   ],
   "source": [
    "c=300\n",
    "def add(a,b,c=30):\n",
    "    c=400\n",
    "    print('a:',a)\n",
    "    print('b:',b)\n",
    "    print('c:',c)\n",
    "    add=a+b+c\n",
    "    c=500\n",
    "    print(add)\n",
    "    print(c)\n",
    "c=300    \n",
    "add(20,50,100)"
   ]
  },
  {
   "cell_type": "code",
   "execution_count": 36,
   "id": "e34e77a5-b4df-448d-afe6-49b949cd0a1f",
   "metadata": {},
   "outputs": [
    {
     "ename": "TypeError",
     "evalue": "add() missing 1 required positional argument: 'c'",
     "output_type": "error",
     "traceback": [
      "\u001b[1;31m---------------------------------------------------------------------------\u001b[0m",
      "\u001b[1;31mTypeError\u001b[0m                                 Traceback (most recent call last)",
      "Cell \u001b[1;32mIn[36], line 9\u001b[0m\n\u001b[0;32m      7\u001b[0m     \u001b[38;5;28mprint\u001b[39m(add)\n\u001b[0;32m      8\u001b[0m     \u001b[38;5;28mprint\u001b[39m(c)   \n\u001b[1;32m----> 9\u001b[0m add(\u001b[38;5;241m20\u001b[39m,\u001b[38;5;241m50\u001b[39m)\n",
      "\u001b[1;31mTypeError\u001b[0m: add() missing 1 required positional argument: 'c'"
     ]
    }
   ],
   "source": [
    "c=300\n",
    "def add(a,b,c):\n",
    "    print('a:',a)\n",
    "    print('b:',b)\n",
    "    print('c:',c)\n",
    "    add=a+b+c\n",
    "    print(add)\n",
    "    print(c)   \n",
    "add(20,50)"
   ]
  },
  {
   "cell_type": "markdown",
   "id": "0f928d34-8c08-4e29-a725-5346317892dd",
   "metadata": {},
   "source": [
    "**Local Variables vs Global Variables**\n",
    "- Local variables are used inside the function. also called as **With Out Arguments**\n",
    "- Global variables are used outside the function\n",
    "- Global variable can be used at anywher **inside the function** or **Outside the function**"
   ]
  },
  {
   "cell_type": "code",
   "execution_count": 41,
   "id": "e47d1a11-bf63-4ec8-986c-8fc4ae9363b3",
   "metadata": {},
   "outputs": [
    {
     "name": "stdin",
     "output_type": "stream",
     "text": [
      "enter a n1 68\n",
      "enter a n2 45\n",
      "enter a n3 57\n"
     ]
    },
    {
     "name": "stdout",
     "output_type": "stream",
     "text": [
      "the average of 68,45 and 57is: 56.666666666666664 \n"
     ]
    }
   ],
   "source": [
    "# Global variable can be used at anywher inside the function or Outside the function\n",
    "n1=eval(input('enter a n1'))\n",
    "n2=eval(input('enter a n2'))\n",
    "n3=eval(input('enter a n3'))\n",
    "# outside the function\n",
    "def avg():\n",
    "    avg=(n1+n2+n3)/3\n",
    "    print(f\"the average of {n1},{n2} and {n3}is: {avg} \")\n",
    "avg()    "
   ]
  },
  {
   "cell_type": "code",
   "execution_count": 43,
   "id": "6658ada7-b577-432f-ac5c-88cd034ac0fe",
   "metadata": {},
   "outputs": [
    {
     "name": "stdout",
     "output_type": "stream",
     "text": [
      "68 45 57\n"
     ]
    }
   ],
   "source": [
    "print(n1,n2,n3)"
   ]
  },
  {
   "cell_type": "markdown",
   "id": "6899b1c9-99d4-49e7-ae0d-4c446abe9cf1",
   "metadata": {},
   "source": [
    "- Global variable can be used at anywher.\n",
    "- inside the function or Outside the function"
   ]
  },
  {
   "cell_type": "code",
   "execution_count": 2,
   "id": "91d1e595-d332-4601-bba9-d60129af65a6",
   "metadata": {},
   "outputs": [
    {
     "name": "stdin",
     "output_type": "stream",
     "text": [
      "enter a N1 45\n",
      "enter a N2 98\n",
      "enter a N3 75\n"
     ]
    },
    {
     "name": "stdout",
     "output_type": "stream",
     "text": [
      "the average of 45,98 and 75 is: 72.66666666666667 \n"
     ]
    }
   ],
   "source": [
    "# Inside the function\n",
    "def avg1():\n",
    "    N1=eval(input('enter a N1'))\n",
    "    N2=eval(input('enter a N2'))\n",
    "    N3=eval(input('enter a N3'))\n",
    "    avg=(N1+N2+N3)/3\n",
    "    print(f\"the average of {N1},{N2} and {N3} is: {avg} \")\n",
    "avg1()    "
   ]
  },
  {
   "cell_type": "code",
   "execution_count": 4,
   "id": "46936d4b-03f2-4424-9019-cd0d71b8b68f",
   "metadata": {},
   "outputs": [
    {
     "ename": "NameError",
     "evalue": "name 'N1' is not defined",
     "output_type": "error",
     "traceback": [
      "\u001b[1;31m---------------------------------------------------------------------------\u001b[0m",
      "\u001b[1;31mNameError\u001b[0m                                 Traceback (most recent call last)",
      "Cell \u001b[1;32mIn[4], line 1\u001b[0m\n\u001b[1;32m----> 1\u001b[0m \u001b[38;5;28mprint\u001b[39m(N1,N2,N3)\n",
      "\u001b[1;31mNameError\u001b[0m: name 'N1' is not defined"
     ]
    }
   ],
   "source": [
    "print(N1,N2,N3)"
   ]
  },
  {
   "cell_type": "markdown",
   "id": "93f1ce2d-2918-4b47-b36f-d35936ff6c08",
   "metadata": {},
   "source": [
    "- Local variables can not use out side the function\n",
    "- in above code N1,N2,N3 is local variable\n",
    "- we are trying the outside the function it is through the error "
   ]
  },
  {
   "cell_type": "code",
   "execution_count": 7,
   "id": "9bbc0e5c-95d5-4e70-980d-ffdbd8daac0d",
   "metadata": {},
   "outputs": [
    {
     "name": "stdin",
     "output_type": "stream",
     "text": [
      "enter a a 30\n",
      "enter a b 20\n",
      "enter a c 10\n"
     ]
    },
    {
     "name": "stdout",
     "output_type": "stream",
     "text": [
      "the average of 30, 20, 10is: 20.0 \n"
     ]
    }
   ],
   "source": [
    "a=eval(input('enter a a'))\n",
    "b=eval(input('enter a b'))\n",
    "c=eval(input('enter a c'))\n",
    "def avg4():\n",
    "    avg=(a+b+c)/3\n",
    "    print(f\"the average of {a}, {b}, {c}is: {avg} \")\n",
    "avg4()    "
   ]
  },
  {
   "cell_type": "code",
   "execution_count": 13,
   "id": "a0a20dc8-d36e-45ca-a59c-cc4f1b665425",
   "metadata": {},
   "outputs": [
    {
     "ename": "NameError",
     "evalue": "name 'avg' is not defined",
     "output_type": "error",
     "traceback": [
      "\u001b[1;31m---------------------------------------------------------------------------\u001b[0m",
      "\u001b[1;31mNameError\u001b[0m                                 Traceback (most recent call last)",
      "Cell \u001b[1;32mIn[13], line 1\u001b[0m\n\u001b[1;32m----> 1\u001b[0m avg\n",
      "\u001b[1;31mNameError\u001b[0m: name 'avg' is not defined"
     ]
    }
   ],
   "source": [
    "avg"
   ]
  },
  {
   "cell_type": "markdown",
   "id": "1a9fc7e1-62fa-4cc9-984b-a8465a9ac307",
   "metadata": {},
   "source": [
    "- Global variables are can be intialized outside the functions\n",
    "- Global variables are can be anywhere\n",
    "- Local variables are intialized inside the functions\n",
    "- Local variables can not use outside the funcions"
   ]
  },
  {
   "cell_type": "code",
   "execution_count": 70,
   "id": "7a3a64f9-b79d-4568-bc12-08280f374d3b",
   "metadata": {},
   "outputs": [
    {
     "name": "stdout",
     "output_type": "stream",
     "text": [
      "the average of 500, 300 and 400 is 1200\n"
     ]
    }
   ],
   "source": [
    "A=200\n",
    "B=300\n",
    "def summ(A=500):\n",
    "    C=400\n",
    "    add=A+B+C\n",
    "    print(f\"the average of {A}, {B} and {C} is {add}\")\n",
    "summ()    "
   ]
  },
  {
   "cell_type": "code",
   "execution_count": 72,
   "id": "d43d53b8-c9fa-4343-b6a1-6c3ce5013d35",
   "metadata": {},
   "outputs": [
    {
     "name": "stdout",
     "output_type": "stream",
     "text": [
      "the average of 600, 300 and 400 is 1300\n"
     ]
    }
   ],
   "source": [
    "A=200\n",
    "B=300\n",
    "def summ(A=500):\n",
    "    A=600\n",
    "    C=400\n",
    "    add=A+B+C\n",
    "    print(f\"the average of {A}, {B} and {C} is {add}\")\n",
    "summ()    "
   ]
  },
  {
   "cell_type": "code",
   "execution_count": 76,
   "id": "33696431-78c0-480f-bfd0-619061e62e2e",
   "metadata": {},
   "outputs": [
    {
     "name": "stdout",
     "output_type": "stream",
     "text": [
      "the average of 100, 300 and 400 is 800\n"
     ]
    }
   ],
   "source": [
    "A=200\n",
    "B=300\n",
    "def summ(A=500):\n",
    "    C=400\n",
    "    add=A+B+C\n",
    "    print(f\"the average of {A}, {B} and {C} is {add}\")\n",
    "summ(A=100)    "
   ]
  },
  {
   "cell_type": "code",
   "execution_count": 80,
   "id": "04b5bf94-b70a-4670-9e34-624d58fde50c",
   "metadata": {},
   "outputs": [
    {
     "name": "stdout",
     "output_type": "stream",
     "text": [
      "the average of 2000, 300 and 400 is 2700\n"
     ]
    }
   ],
   "source": [
    "A=200\n",
    "B=300\n",
    "def summ():\n",
    "    C=400\n",
    "    add=A+B+C\n",
    "    print(f\"the average of {A}, {B} and {C} is {add}\")\n",
    "A=2000    \n",
    "summ()    "
   ]
  },
  {
   "cell_type": "code",
   "execution_count": 82,
   "id": "42c03806-1504-4648-a1f8-091e48d8f164",
   "metadata": {},
   "outputs": [
    {
     "name": "stdout",
     "output_type": "stream",
     "text": [
      "the average of 8000, 300 and 400 is 8700\n"
     ]
    }
   ],
   "source": [
    "A=200\n",
    "B=300\n",
    "def summ(A=4000):\n",
    "    C=400\n",
    "    A=8000\n",
    "    add=A+B+C\n",
    "    print(f\"the average of {A}, {B} and {C} is {add}\")\n",
    "A=2000    \n",
    "summ(A=3000)   "
   ]
  },
  {
   "cell_type": "markdown",
   "id": "1f1f767b-d6b4-4134-ae39-11ced27e14f9",
   "metadata": {},
   "source": [
    "**How to use local variables outside the function call**"
   ]
  },
  {
   "cell_type": "code",
   "execution_count": 102,
   "id": "bcc78d01-2f46-4505-b9b4-ec25d9478366",
   "metadata": {},
   "outputs": [
    {
     "name": "stdin",
     "output_type": "stream",
     "text": [
      "enter a a 300\n",
      "enter a b 200\n",
      "enter a c 100\n"
     ]
    },
    {
     "name": "stdout",
     "output_type": "stream",
     "text": [
      "the average of 300, 200, 100is: 200.0 \n"
     ]
    }
   ],
   "source": [
    "a=eval(input('enter a a'))\n",
    "b=eval(input('enter a b'))\n",
    "c=eval(input('enter a c'))\n",
    "def avg3():\n",
    "    AVG=(a+b+c)/3\n",
    "    print(f\"the average of {a}, {b}, {c}is: {AVG} \")\n",
    "avg3()    "
   ]
  },
  {
   "cell_type": "code",
   "execution_count": 108,
   "id": "409ac885-e0ff-4bec-a04b-012b0c0f54d9",
   "metadata": {},
   "outputs": [
    {
     "ename": "NameError",
     "evalue": "name 'AVG' is not defined",
     "output_type": "error",
     "traceback": [
      "\u001b[1;31m---------------------------------------------------------------------------\u001b[0m",
      "\u001b[1;31mNameError\u001b[0m                                 Traceback (most recent call last)",
      "Cell \u001b[1;32mIn[108], line 1\u001b[0m\n\u001b[1;32m----> 1\u001b[0m AVG\n",
      "\u001b[1;31mNameError\u001b[0m: name 'AVG' is not defined"
     ]
    }
   ],
   "source": [
    "AVG"
   ]
  },
  {
   "cell_type": "code",
   "execution_count": 114,
   "id": "4bb23da2-7629-445b-a3e9-b3ead9aa3113",
   "metadata": {},
   "outputs": [
    {
     "name": "stdout",
     "output_type": "stream",
     "text": [
      "the addition of 100, 200 and 300 is: 600\n"
     ]
    }
   ],
   "source": [
    "A=100\n",
    "B=200\n",
    "C=300\n",
    "def add2():\n",
    "    global ADD\n",
    "    ADD=A+B+C\n",
    "    print(f\"the addition of {A}, {B} and {C} is: {ADD}\")\n",
    "add2()    "
   ]
  },
  {
   "cell_type": "code",
   "execution_count": 116,
   "id": "6c2c03ff-29a9-4c58-917d-f3bde85c3ff9",
   "metadata": {},
   "outputs": [
    {
     "data": {
      "text/plain": [
       "600"
      ]
     },
     "execution_count": 116,
     "metadata": {},
     "output_type": "execute_result"
    }
   ],
   "source": [
    "ADD"
   ]
  },
  {
   "cell_type": "code",
   "execution_count": null,
   "id": "df941055-dbd3-4e19-bad8-28d7d5e90f77",
   "metadata": {},
   "outputs": [],
   "source": [
    "- Local variables can use outside the function in two ways\n",
    "- by making LOCAL variable as Global variable by using global\n",
    "- by using return statement also"
   ]
  },
  {
   "cell_type": "code",
   "execution_count": 120,
   "id": "88e627e1-8024-4aeb-9a06-bf5d1710fbb6",
   "metadata": {},
   "outputs": [
    {
     "name": "stdin",
     "output_type": "stream",
     "text": [
      "enter a N1 100\n",
      "enter a N2 200\n",
      "enter a N3 300\n"
     ]
    },
    {
     "name": "stdout",
     "output_type": "stream",
     "text": [
      "the average of 100,200 and 300 is: 200.0 \n",
      "200.0\n"
     ]
    }
   ],
   "source": [
    "N1=eval(input('enter a N1'))\n",
    "N2=eval(input('enter a N2'))\n",
    "N3=eval(input('enter a N3'))\n",
    "def AVG2():\n",
    "    global avg\n",
    "    avg=(N1+N2+N3)/3\n",
    "    print(f\"the average of {N1},{N2} and {N3} is: {avg} \")\n",
    "AVG2()\n",
    "print(avg)"
   ]
  },
  {
   "cell_type": "code",
   "execution_count": 122,
   "id": "14bcb850-a475-4a9b-875b-b927f0dd1896",
   "metadata": {},
   "outputs": [
    {
     "data": {
      "text/plain": [
       "200.0"
      ]
     },
     "execution_count": 122,
     "metadata": {},
     "output_type": "execute_result"
    }
   ],
   "source": [
    "avg"
   ]
  },
  {
   "cell_type": "code",
   "execution_count": 7,
   "id": "17241468-8409-4a89-8a4d-ad0fd1e59a42",
   "metadata": {},
   "outputs": [
    {
     "data": {
      "text/plain": [
       "(1234, 5)"
      ]
     },
     "execution_count": 7,
     "metadata": {},
     "output_type": "execute_result"
    }
   ],
   "source": [
    "12345//10,12345%10"
   ]
  },
  {
   "cell_type": "code",
   "execution_count": 9,
   "id": "e81fea34-7b6c-43cd-a959-c107f85114a4",
   "metadata": {},
   "outputs": [
    {
     "data": {
      "text/plain": [
       "(12345, 7)"
      ]
     },
     "execution_count": 9,
     "metadata": {},
     "output_type": "execute_result"
    }
   ],
   "source": [
    "123456//10,1234567%10"
   ]
  },
  {
   "cell_type": "code",
   "execution_count": 11,
   "id": "66268533-9517-486c-b84b-4300b41f3872",
   "metadata": {},
   "outputs": [
    {
     "data": {
      "text/plain": [
       "0"
      ]
     },
     "execution_count": 11,
     "metadata": {},
     "output_type": "execute_result"
    }
   ],
   "source": [
    "180%10 "
   ]
  },
  {
   "cell_type": "code",
   "execution_count": 13,
   "id": "6d9e1a75-808b-4b07-b9ab-6bc58fbd1cd3",
   "metadata": {},
   "outputs": [
    {
     "name": "stdout",
     "output_type": "stream",
     "text": [
      "50 -10\n"
     ]
    }
   ],
   "source": [
    "def sum(a,b):       # function name with (default variable) local variable\n",
    "    add=a+b\n",
    "    sub=a-b\n",
    "    print(add,sub)\n",
    "sum(20,30)    "
   ]
  },
  {
   "cell_type": "code",
   "execution_count": 15,
   "id": "51c6aef9-1a59-489a-a266-34c7dba30da3",
   "metadata": {},
   "outputs": [
    {
     "name": "stdout",
     "output_type": "stream",
     "text": [
      "50 -10\n"
     ]
    }
   ],
   "source": [
    "def sum(a,b):       # function name with (default variable) local variable\n",
    "    global add,sub  # outside function(global variable) \n",
    "    add=a+b\n",
    "    sub=a-b\n",
    "    print(add,sub)\n",
    "sum(20,30)    "
   ]
  },
  {
   "cell_type": "code",
   "execution_count": 17,
   "id": "724addce-1d89-478c-bae7-4415fcb4dacf",
   "metadata": {},
   "outputs": [
    {
     "data": {
      "text/plain": [
       "(50, -10)"
      ]
     },
     "execution_count": 17,
     "metadata": {},
     "output_type": "execute_result"
    }
   ],
   "source": [
    "add,sub"
   ]
  },
  {
   "cell_type": "code",
   "execution_count": 19,
   "id": "8548c0f3-ac9d-42a8-8a68-11d892a8a6aa",
   "metadata": {},
   "outputs": [
    {
     "ename": "UnboundLocalError",
     "evalue": "cannot access local variable 'b' where it is not associated with a value",
     "output_type": "error",
     "traceback": [
      "\u001b[1;31m---------------------------------------------------------------------------\u001b[0m",
      "\u001b[1;31mUnboundLocalError\u001b[0m                         Traceback (most recent call last)",
      "Cell \u001b[1;32mIn[19], line 5\u001b[0m\n\u001b[0;32m      3\u001b[0m     b\u001b[38;5;241m=\u001b[39mb\u001b[38;5;241m+\u001b[39ma\n\u001b[0;32m      4\u001b[0m     \u001b[38;5;28mprint\u001b[39m(b)\n\u001b[1;32m----> 5\u001b[0m fun1()\n",
      "Cell \u001b[1;32mIn[19], line 3\u001b[0m, in \u001b[0;36mfun1\u001b[1;34m()\u001b[0m\n\u001b[0;32m      1\u001b[0m \u001b[38;5;28;01mdef\u001b[39;00m \u001b[38;5;21mfun1\u001b[39m():\n\u001b[0;32m      2\u001b[0m     a\u001b[38;5;241m=\u001b[39m\u001b[38;5;241m10\u001b[39m\n\u001b[1;32m----> 3\u001b[0m     b\u001b[38;5;241m=\u001b[39mb\u001b[38;5;241m+\u001b[39ma\n\u001b[0;32m      4\u001b[0m     \u001b[38;5;28mprint\u001b[39m(b)\n",
      "\u001b[1;31mUnboundLocalError\u001b[0m: cannot access local variable 'b' where it is not associated with a value"
     ]
    }
   ],
   "source": [
    "def fun1():\n",
    "    a=10\n",
    "    b=b+a\n",
    "    print(b)\n",
    "fun1()    "
   ]
  },
  {
   "cell_type": "code",
   "execution_count": 21,
   "id": "bc377ab4-9273-494e-a9e9-612354109939",
   "metadata": {},
   "outputs": [
    {
     "ename": "NameError",
     "evalue": "name 'b' is not defined",
     "output_type": "error",
     "traceback": [
      "\u001b[1;31m---------------------------------------------------------------------------\u001b[0m",
      "\u001b[1;31mNameError\u001b[0m                                 Traceback (most recent call last)",
      "Cell \u001b[1;32mIn[21], line 5\u001b[0m\n\u001b[0;32m      3\u001b[0m     c\u001b[38;5;241m=\u001b[39mb\u001b[38;5;241m+\u001b[39ma\n\u001b[0;32m      4\u001b[0m     \u001b[38;5;28mprint\u001b[39m(c)\n\u001b[1;32m----> 5\u001b[0m fun2()\n",
      "Cell \u001b[1;32mIn[21], line 3\u001b[0m, in \u001b[0;36mfun2\u001b[1;34m()\u001b[0m\n\u001b[0;32m      1\u001b[0m \u001b[38;5;28;01mdef\u001b[39;00m \u001b[38;5;21mfun2\u001b[39m():\n\u001b[0;32m      2\u001b[0m     a\u001b[38;5;241m=\u001b[39m\u001b[38;5;241m10\u001b[39m\n\u001b[1;32m----> 3\u001b[0m     c\u001b[38;5;241m=\u001b[39mb\u001b[38;5;241m+\u001b[39ma\n\u001b[0;32m      4\u001b[0m     \u001b[38;5;28mprint\u001b[39m(c)\n",
      "\u001b[1;31mNameError\u001b[0m: name 'b' is not defined"
     ]
    }
   ],
   "source": [
    "def fun2():\n",
    "    a=10\n",
    "    c=b+a\n",
    "    print(c)\n",
    "fun2()    "
   ]
  },
  {
   "cell_type": "markdown",
   "id": "682b9da5-ded6-4a71-ab11-9839aef6b09f",
   "metadata": {},
   "source": [
    "**unbound local error**\n",
    "- unbound local error means the variable is not defined\n",
    "- that varables is used as both input and output inside the function"
   ]
  },
  {
   "cell_type": "code",
   "execution_count": 25,
   "id": "8812cd7f-9740-42fe-91d9-558327c82aa5",
   "metadata": {},
   "outputs": [
    {
     "ename": "NameError",
     "evalue": "name 'b' is not defined",
     "output_type": "error",
     "traceback": [
      "\u001b[1;31m---------------------------------------------------------------------------\u001b[0m",
      "\u001b[1;31mNameError\u001b[0m                                 Traceback (most recent call last)",
      "Cell \u001b[1;32mIn[25], line 2\u001b[0m\n\u001b[0;32m      1\u001b[0m a\u001b[38;5;241m=\u001b[39m\u001b[38;5;241m10\u001b[39m\n\u001b[1;32m----> 2\u001b[0m b\u001b[38;5;241m=\u001b[39mb\u001b[38;5;241m+\u001b[39ma\n",
      "\u001b[1;31mNameError\u001b[0m: name 'b' is not defined"
     ]
    }
   ],
   "source": [
    "a=10\n",
    "b=b+a"
   ]
  },
  {
   "cell_type": "markdown",
   "id": "86472257-8a21-4a19-90c7-547627e768a2",
   "metadata": {},
   "source": [
    "**Return statement**\n",
    "- till now above we have created a function with print statement in order to see the output\n",
    "- the function output we are not able to use outside the function\n",
    "- because it is a local variable\n",
    "- one method we used to is global\n",
    "- onther method is return statement\n",
    "- return means some thing we are receiving\n",
    "- print means we can see the answer"
   ]
  },
  {
   "cell_type": "code",
   "execution_count": 28,
   "id": "1d1aa701-85a9-4ccd-9ff2-e99da3f866d4",
   "metadata": {},
   "outputs": [],
   "source": [
    "def add(a,b):\n",
    "    c=a+b\n",
    "    return(c)\n",
    "value=add(10,20)    "
   ]
  },
  {
   "cell_type": "code",
   "execution_count": 30,
   "id": "fe43eddc-c8cf-4bd0-ace8-838af7a6251f",
   "metadata": {},
   "outputs": [
    {
     "data": {
      "text/plain": [
       "30"
      ]
     },
     "execution_count": 30,
     "metadata": {},
     "output_type": "execute_result"
    }
   ],
   "source": [
    "value"
   ]
  },
  {
   "cell_type": "code",
   "execution_count": 34,
   "id": "ad651ea5-558e-4f13-a804-3a66ab7e324f",
   "metadata": {},
   "outputs": [],
   "source": [
    "def add_sub(a,b):\n",
    "    sum=(a+b)\n",
    "    sub=(a-b)\n",
    "    return(sum,sub)\n",
    "    print(sum,sub)\n",
    "sum,sub=add_sub(200,500)    "
   ]
  },
  {
   "cell_type": "code",
   "execution_count": 36,
   "id": "0c07461d-1843-4d9e-80b8-5ac7d3f923a4",
   "metadata": {},
   "outputs": [
    {
     "data": {
      "text/plain": [
       "(700, -300)"
      ]
     },
     "execution_count": 36,
     "metadata": {},
     "output_type": "execute_result"
    }
   ],
   "source": [
    "sum,sub"
   ]
  },
  {
   "cell_type": "code",
   "execution_count": 38,
   "id": "4d2ff1f5-5d11-4fd0-9ee2-1003c3a5c281",
   "metadata": {},
   "outputs": [
    {
     "name": "stdout",
     "output_type": "stream",
     "text": [
      "700 -300\n"
     ]
    }
   ],
   "source": [
    "print(sum,sub)"
   ]
  },
  {
   "cell_type": "code",
   "execution_count": 42,
   "id": "0e8d4f1f-b2c2-4b10-99c7-2c1d65fbb82f",
   "metadata": {},
   "outputs": [
    {
     "data": {
      "text/plain": [
       "500"
      ]
     },
     "execution_count": 42,
     "metadata": {},
     "output_type": "execute_result"
    }
   ],
   "source": [
    "def add_sub(a,b):\n",
    "    sum=a+b\n",
    "    sub=a-b\n",
    "    return(sum)\n",
    "    return(sub)\n",
    "add_sub(300,200)    "
   ]
  },
  {
   "cell_type": "code",
   "execution_count": null,
   "id": "3738050c-767f-4632-b052-6e1428f0cfeb",
   "metadata": {},
   "outputs": [],
   "source": [
    "n1=100,200    # W\n",
    "n1,n2=100,200 # w\n",
    "n1,n2=200     # f"
   ]
  },
  {
   "cell_type": "code",
   "execution_count": 44,
   "id": "eb6feee4-ec3f-448e-92e2-30449564f5ed",
   "metadata": {},
   "outputs": [
    {
     "data": {
      "text/plain": [
       "(100, 200)"
      ]
     },
     "execution_count": 44,
     "metadata": {},
     "output_type": "execute_result"
    }
   ],
   "source": [
    "n1=100,200\n",
    "n1"
   ]
  },
  {
   "cell_type": "code",
   "execution_count": 48,
   "id": "6a7a5319-3d99-402a-9405-4cbfaee289f1",
   "metadata": {},
   "outputs": [],
   "source": [
    "def add_sub(a,b):\n",
    "    sum=a+b\n",
    "    sub=a-b\n",
    "    return(sum,sub)\n",
    "output=add_sub(200,100)    "
   ]
  },
  {
   "cell_type": "code",
   "execution_count": 50,
   "id": "50e22f3b-a96e-447c-bf54-497da49b7692",
   "metadata": {},
   "outputs": [
    {
     "data": {
      "text/plain": [
       "(300, 100)"
      ]
     },
     "execution_count": 50,
     "metadata": {},
     "output_type": "execute_result"
    }
   ],
   "source": [
    "output"
   ]
  },
  {
   "cell_type": "code",
   "execution_count": null,
   "id": "f2c7d3c3-34b9-470e-9f65-c2d7125e8091",
   "metadata": {},
   "outputs": [],
   "source": [
    "def add(a,b):\n",
    "    c=a+b\n",
    "    return(c)\n",
    "value=add(10,20)    \n",
    "####################################\n",
    "def add_sub(a,b):\n",
    "    sum=(a+b)\n",
    "    sub=(a-b)\n",
    "    return(sum,sub)\n",
    "    print(sum,sub)\n",
    "sum,sub=add_sub(200,500)    \n",
    "##################################\n",
    "def add_sub(a,b):\n",
    "    sum=a+b\n",
    "    sub=a-b\n",
    "    return(sum)\n",
    "    return(sub)\n",
    "add_sub(300,200)  "
   ]
  },
  {
   "cell_type": "code",
   "execution_count": 52,
   "id": "5a92eb48-c328-4f43-96f8-fd14d7314ec9",
   "metadata": {},
   "outputs": [
    {
     "ename": "TypeError",
     "evalue": "cannot unpack non-iterable int object",
     "output_type": "error",
     "traceback": [
      "\u001b[1;31m---------------------------------------------------------------------------\u001b[0m",
      "\u001b[1;31mTypeError\u001b[0m                                 Traceback (most recent call last)",
      "Cell \u001b[1;32mIn[52], line 1\u001b[0m\n\u001b[1;32m----> 1\u001b[0m n1,n2\u001b[38;5;241m=\u001b[39m\u001b[38;5;241m100\u001b[39m\n",
      "\u001b[1;31mTypeError\u001b[0m: cannot unpack non-iterable int object"
     ]
    }
   ],
   "source": [
    "n1,n2=100"
   ]
  },
  {
   "cell_type": "code",
   "execution_count": null,
   "id": "1badb1fe-6a15-4a62-b2b7-460fb361c4a0",
   "metadata": {},
   "outputs": [],
   "source": [
    "n1,n2=110,200  #F\n",
    "n1=100,200 #W-----tuple "
   ]
  },
  {
   "cell_type": "markdown",
   "id": "ca5ddfa3-e97d-48e8-9534-8e7aba38350e",
   "metadata": {},
   "source": [
    "**global variable vs return statement**\n",
    "- global keyword is used for we can take the inside variable to outside variable\n",
    "- return can return any value outside the function\n",
    "- **the value you return can be used to onther note book**\n"
   ]
  },
  {
   "cell_type": "markdown",
   "id": "a83dab97-55fa-4552-ba6e-2ca626f33d90",
   "metadata": {},
   "source": [
    "**Function in Function**"
   ]
  },
  {
   "cell_type": "code",
   "execution_count": 56,
   "id": "2a1ec04f-9a3f-4f8c-ae82-50a2e8fc295e",
   "metadata": {},
   "outputs": [
    {
     "name": "stdout",
     "output_type": "stream",
     "text": [
      "Hello Data science\n",
      "Hello Python\n"
     ]
    }
   ],
   "source": [
    "def greet1():\n",
    "    print(\"Hello Data science\")\n",
    "\n",
    "def greet2():\n",
    "    print(\"Hello Python\")\n",
    "greet1()\n",
    "greet2()"
   ]
  },
  {
   "cell_type": "code",
   "execution_count": 60,
   "id": "5825b4ab-c484-4cc5-9021-d04f59aa87ec",
   "metadata": {},
   "outputs": [
    {
     "name": "stdout",
     "output_type": "stream",
     "text": [
      "function starts\n",
      "Hello Data science\n",
      "Hello Python\n"
     ]
    }
   ],
   "source": [
    "def greet1():\n",
    "    print(\"Hello Data science\")\n",
    "\n",
    "def greet2():\n",
    "    print(\"function starts\")\n",
    "    greet1()\n",
    "    print(\"Hello Python\")\n",
    "greet2()    "
   ]
  },
  {
   "cell_type": "code",
   "execution_count": 62,
   "id": "606e3dea-8f0a-44eb-8b8e-c286ebedf14b",
   "metadata": {},
   "outputs": [
    {
     "name": "stdout",
     "output_type": "stream",
     "text": [
      "function starts\n",
      "hello Python\n",
      "Hello Data science\n"
     ]
    }
   ],
   "source": [
    "def greet1():\n",
    "    print(\"function starts\")\n",
    "    greet2()\n",
    "    print(\"Hello Data science\")\n",
    "def greet2():\n",
    "    print(\"hello Python\")\n",
    "greet1()    "
   ]
  },
  {
   "cell_type": "code",
   "execution_count": null,
   "id": "328d659d-4e94-4611-b911-c04ebb86b91e",
   "metadata": {},
   "outputs": [],
   "source": [
    "def greet1():\n",
    "    print(\"function starts\")\n",
    "    greet2()\n",
    "    print(\"Hello Data science\")\n",
    "def greet2():\n",
    "    print(\"function starts\")\n",
    "    greet1()\n",
    "    print(\"Hello Python\")\n",
    "greet2()        \n",
    "\n",
    "it is step by step process we called greet2 before declaration why did't throw any error"
   ]
  },
  {
   "cell_type": "code",
   "execution_count": 3,
   "id": "9bc5953e-0b86-493f-a2cb-a3defe87c871",
   "metadata": {},
   "outputs": [
    {
     "ename": "TypeError",
     "evalue": "outside_function() takes 0 positional arguments but 1 was given",
     "output_type": "error",
     "traceback": [
      "\u001b[1;31m---------------------------------------------------------------------------\u001b[0m",
      "\u001b[1;31mTypeError\u001b[0m                                 Traceback (most recent call last)",
      "Cell \u001b[1;32mIn[3], line 9\u001b[0m\n\u001b[0;32m      6\u001b[0m \u001b[38;5;28;01mdef\u001b[39;00m \u001b[38;5;21moutside_function\u001b[39m():\n\u001b[0;32m      7\u001b[0m     inside_function(name)\n\u001b[1;32m----> 9\u001b[0m outside_function(\u001b[38;5;124m'\u001b[39m\u001b[38;5;124mPython\u001b[39m\u001b[38;5;124m'\u001b[39m)\n",
      "\u001b[1;31mTypeError\u001b[0m: outside_function() takes 0 positional arguments but 1 was given"
     ]
    }
   ],
   "source": [
    "def inside_function():\n",
    "    print(f\"hello {name} good moning\")\n",
    "    # name is not defined not even globally\n",
    "    # if i call this function defination a will get error\n",
    "\n",
    "def outside_function():\n",
    "    inside_function(name)\n",
    "    \n",
    "outside_function('Python')    "
   ]
  },
  {
   "cell_type": "code",
   "execution_count": 6,
   "id": "f48b4e01-9c4a-41a0-81a4-add50bc5e33c",
   "metadata": {},
   "outputs": [
    {
     "ename": "TypeError",
     "evalue": "outside_function() takes 0 positional arguments but 1 was given",
     "output_type": "error",
     "traceback": [
      "\u001b[1;31m---------------------------------------------------------------------------\u001b[0m",
      "\u001b[1;31mTypeError\u001b[0m                                 Traceback (most recent call last)",
      "Cell \u001b[1;32mIn[6], line 8\u001b[0m\n\u001b[0;32m      5\u001b[0m \u001b[38;5;28;01mdef\u001b[39;00m \u001b[38;5;21moutside_function\u001b[39m():\n\u001b[0;32m      6\u001b[0m     inside_function(name)\n\u001b[1;32m----> 8\u001b[0m outside_function(\u001b[38;5;124m'\u001b[39m\u001b[38;5;124mPython\u001b[39m\u001b[38;5;124m'\u001b[39m)\n",
      "\u001b[1;31mTypeError\u001b[0m: outside_function() takes 0 positional arguments but 1 was given"
     ]
    }
   ],
   "source": [
    "def inside_function(name):\n",
    "    print(f\"hello {name} good moning\")\n",
    "        # TypeError: outside_function() \n",
    "        # takes 0 positional arguments but 1 was given gthrough error\n",
    "def outside_function():\n",
    "    inside_function(name)\n",
    "    \n",
    "outside_function('Python')    "
   ]
  },
  {
   "cell_type": "code",
   "execution_count": 8,
   "id": "75465274-be5a-4305-9c27-d8891fb57105",
   "metadata": {},
   "outputs": [
    {
     "name": "stdout",
     "output_type": "stream",
     "text": [
      "hello Python good moning\n"
     ]
    }
   ],
   "source": [
    "def inside_function(name):\n",
    "    print(f\"hello {name} good moning\")\n",
    "    \n",
    "def outside_function(name):\n",
    "    inside_function(name)\n",
    "    \n",
    "outside_function('Python')   "
   ]
  },
  {
   "cell_type": "code",
   "execution_count": 86,
   "id": "572dd0a5-9c1e-4955-a88c-eb4bd21f697d",
   "metadata": {},
   "outputs": [],
   "source": [
    "def outside_function(name):\n",
    "    \n",
    "    def inside_function(name):\n",
    "        print(f\"hello {name} good morning\")\n",
    "        inside_function('loki')\n",
    "outside_function('loki')        \n",
    "    "
   ]
  },
  {
   "cell_type": "code",
   "execution_count": 88,
   "id": "cbbda6ea-69a9-4370-9984-4fdacd6c18e1",
   "metadata": {},
   "outputs": [
    {
     "name": "stdout",
     "output_type": "stream",
     "text": [
      "50\n"
     ]
    }
   ],
   "source": [
    "def add(a,b):\n",
    "    print(a+b)\n",
    "add(20,30)"
   ]
  },
  {
   "cell_type": "code",
   "execution_count": 103,
   "id": "bac12719-33e8-4721-b5e4-d7ec4ea476a2",
   "metadata": {},
   "outputs": [
    {
     "name": "stdout",
     "output_type": "stream",
     "text": [
      "50\n"
     ]
    }
   ],
   "source": [
    "def MATH():\n",
    "    def add(a,b):\n",
    "         print(a+b)\n",
    "    add(20,30)\n",
    "    \n",
    "MATH()    "
   ]
  },
  {
   "cell_type": "code",
   "execution_count": 105,
   "id": "241fb8da-9f88-4681-8bff-7ae1063a1a73",
   "metadata": {},
   "outputs": [
    {
     "name": "stdout",
     "output_type": "stream",
     "text": [
      "50\n"
     ]
    }
   ],
   "source": [
    "def MATH1():\n",
    "    \n",
    "    def MATH():\n",
    "        def add(a,b):\n",
    "             print(a+b)\n",
    "        add(20,30)\n",
    "    MATH()    \n",
    "    \n",
    "MATH1()    "
   ]
  },
  {
   "cell_type": "code",
   "execution_count": 109,
   "id": "e0303986-393b-45d3-88b7-c9e8a952f93a",
   "metadata": {},
   "outputs": [
    {
     "name": "stdout",
     "output_type": "stream",
     "text": [
      "70\n"
     ]
    }
   ],
   "source": [
    "def MATH1(a,b):\n",
    "    \n",
    "        def add():\n",
    "             print(a+b)\n",
    "        add()\n",
    "        \n",
    "MATH1(30,40)    "
   ]
  },
  {
   "cell_type": "code",
   "execution_count": 113,
   "id": "2f6919c8-2238-4eb8-8b04-0f912af99513",
   "metadata": {},
   "outputs": [
    {
     "name": "stdout",
     "output_type": "stream",
     "text": [
      "hello loki good morning\n"
     ]
    }
   ],
   "source": [
    "def outside_function(name):\n",
    "    \n",
    "    def inside_function():\n",
    "        print(f\"hello {name} good morning\")\n",
    "    inside_function()\n",
    "        \n",
    "outside_function('loki')  "
   ]
  },
  {
   "cell_type": "code",
   "execution_count": 115,
   "id": "c176f62f-5afc-464f-aef8-053ce0b07f56",
   "metadata": {},
   "outputs": [],
   "source": [
    "# calculator program\n",
    "\n",
    "# create 4 functions\n",
    "# add function\n",
    " def add(a,b):\n",
    "     print(a+b)\n",
    "add(40,15)\n",
    "# sub function\n",
    "# mul function\n",
    "# div function\n",
    "# print(enter the value 1,2,3,4)\n",
    "# main function\n",
    "# a=number\n",
    "# b=number\n",
    "# operator\n",
    "# if operator==1\n",
    "# add()"
   ]
  },
  {
   "cell_type": "code",
   "execution_count": 41,
   "id": "05595ccd-71a8-4179-8ac7-2efdb5fe9e1e",
   "metadata": {},
   "outputs": [
    {
     "name": "stdout",
     "output_type": "stream",
     "text": [
      "50\n",
      "-10\n",
      "600\n",
      "0.6666666666666666\n"
     ]
    }
   ],
   "source": [
    "def ADD(a,b):\n",
    "    print(a+b)\n",
    "ADD(20,30)\n",
    "\n",
    "def SUB(a,b):\n",
    "    print(a-b)\n",
    "SUB(20,30)\n",
    "\n",
    "def MUL(a,b):\n",
    "    print(a*b)\n",
    "MUL(20,30)\n",
    "\n",
    "def DIV(a,b):\n",
    "    print(a/b)\n",
    "DIV(20,30)\n"
   ]
  },
  {
   "cell_type": "code",
   "execution_count": null,
   "id": "7a9f13c1-6b39-4f46-9ac6-cfe12e1508e3",
   "metadata": {},
   "outputs": [],
   "source": []
  }
 ],
 "metadata": {
  "kernelspec": {
   "display_name": "Python [conda env:base] *",
   "language": "python",
   "name": "conda-base-py"
  },
  "language_info": {
   "codemirror_mode": {
    "name": "ipython",
    "version": 3
   },
   "file_extension": ".py",
   "mimetype": "text/x-python",
   "name": "python",
   "nbconvert_exporter": "python",
   "pygments_lexer": "ipython3",
   "version": "3.12.7"
  }
 },
 "nbformat": 4,
 "nbformat_minor": 5
}

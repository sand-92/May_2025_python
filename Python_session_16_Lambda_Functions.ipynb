{
 "cells": [
  {
   "cell_type": "markdown",
   "id": "71ba13fe-106c-4736-a217-8740cee20374",
   "metadata": {},
   "source": [
    "**List-comprehension-METHODS:\n",
    "- Method_1: [output forloop]\n",
    "- Method-2:[If_output    forloop     If-condition]\n",
    "- Method_3:[Ifoutput  if-cindition  else else-output  for loop]\n",
    "- Method_4:[If-output  if-con  else  If-output  if-cond  else   else-output  for loop ]**"
   ]
  },
  {
   "cell_type": "markdown",
   "id": "69bdb459-e83b-4dec-a6c1-d6f4e91b39a6",
   "metadata": {},
   "source": [
    "**Lambda-Functions:**\n",
    "- Lambda is a keyword used to write functions in a single line\n",
    "- in list comprehensions we will write ina single line \n",
    "- it is a same analogy\n",
    "- it will reduce the time complexity"
   ]
  },
  {
   "cell_type": "code",
   "execution_count": 4,
   "id": "e013d8f8-7f64-413b-9316-0c2eef2153a0",
   "metadata": {},
   "outputs": [
    {
     "data": {
      "text/plain": [
       "100"
      ]
     },
     "execution_count": 4,
     "metadata": {},
     "output_type": "execute_result"
    }
   ],
   "source": [
    "def mul(a):\n",
    "    return(a*a)\n",
    "ans=mul(10)\n",
    "ans"
   ]
  },
  {
   "cell_type": "markdown",
   "id": "c58d32a9-1add-40e4-9722-ebfd5a51d675",
   "metadata": {},
   "source": [
    "$Pettern-1$\n",
    "- Function with one argument"
   ]
  },
  {
   "cell_type": "markdown",
   "id": "fbf8760f-d635-4817-aaed-178c66d786b4",
   "metadata": {},
   "source": [
    "# Syntax:\n",
    "-**Function name= lambda <argument name>: return output** \n",
    "### Function name=Mul\n",
    "### argument name=a\n",
    "### return output=a*a"
   ]
  },
  {
   "cell_type": "code",
   "execution_count": 24,
   "id": "b7ec7255-7fde-4da2-84a7-0d09d49f9e3b",
   "metadata": {},
   "outputs": [
    {
     "data": {
      "text/plain": [
       "100"
      ]
     },
     "execution_count": 24,
     "metadata": {},
     "output_type": "execute_result"
    }
   ],
   "source": [
    "mul=lambda a:a*a\n",
    "mul(10)"
   ]
  },
  {
   "cell_type": "code",
   "execution_count": 29,
   "id": "57ab1e9a-9aee-4be9-bd36-6749584e5e21",
   "metadata": {},
   "outputs": [
    {
     "data": {
      "text/plain": [
       "8000"
      ]
     },
     "execution_count": 29,
     "metadata": {},
     "output_type": "execute_result"
    }
   ],
   "source": [
    "def cube(x):\n",
    "    return(x**3)\n",
    "cube(20)    "
   ]
  },
  {
   "cell_type": "code",
   "execution_count": 31,
   "id": "290b3aac-0842-4140-a871-0d5fdfc3e1bc",
   "metadata": {},
   "outputs": [
    {
     "data": {
      "text/plain": [
       "8000"
      ]
     },
     "execution_count": 31,
     "metadata": {},
     "output_type": "execute_result"
    }
   ],
   "source": [
    "cube=lambda x:x**3\n",
    "cube(20)"
   ]
  },
  {
   "cell_type": "markdown",
   "id": "33ca5d13-2104-44b1-bd94-d5c70aef8936",
   "metadata": {},
   "source": [
    "$Pattern:2$\n",
    "- Function With Two Arguments"
   ]
  },
  {
   "cell_type": "code",
   "execution_count": null,
   "id": "3dd79f84-9985-4b48-8d57-f9b1675fdc90",
   "metadata": {},
   "outputs": [],
   "source": [
    "# syntax\n",
    "-**Function Name=lambda <arg1>, <arg2>: return output**"
   ]
  },
  {
   "cell_type": "code",
   "execution_count": 41,
   "id": "bf1b3c1c-9905-46ce-82af-bbcff139248b",
   "metadata": {},
   "outputs": [
    {
     "data": {
      "text/plain": [
       "300"
      ]
     },
     "execution_count": 41,
     "metadata": {},
     "output_type": "execute_result"
    }
   ],
   "source": [
    "def add(a,b):\n",
    "    return(a+b)\n",
    "add(100,200) "
   ]
  },
  {
   "cell_type": "code",
   "execution_count": 47,
   "id": "8e0dc140-cb1b-4172-9ed7-7e4d258d5d13",
   "metadata": {},
   "outputs": [
    {
     "data": {
      "text/plain": [
       "300"
      ]
     },
     "execution_count": 47,
     "metadata": {},
     "output_type": "execute_result"
    }
   ],
   "source": [
    "add=lambda a, b:a+b\n",
    "add(100,200)"
   ]
  },
  {
   "cell_type": "code",
   "execution_count": 51,
   "id": "4fa608b9-4281-48a2-af99-93d92359e3b9",
   "metadata": {},
   "outputs": [
    {
     "data": {
      "text/plain": [
       "27.33"
      ]
     },
     "execution_count": 51,
     "metadata": {},
     "output_type": "execute_result"
    }
   ],
   "source": [
    "def avg(a,b,c):\n",
    "    return(round((a+b+c)/3,2))\n",
    "avg(15,29,38)    "
   ]
  },
  {
   "cell_type": "code",
   "execution_count": 57,
   "id": "a8b59cbc-1b70-4aa9-a9d6-6b188fcc5899",
   "metadata": {},
   "outputs": [
    {
     "data": {
      "text/plain": [
       "27.333"
      ]
     },
     "execution_count": 57,
     "metadata": {},
     "output_type": "execute_result"
    }
   ],
   "source": [
    "avg=lambda a,b,c:round((a+b+c)/3,3)\n",
    "avg(15,29,38)"
   ]
  },
  {
   "cell_type": "markdown",
   "id": "d706c1bb-d8e7-47b4-9049-f64fe549c80b",
   "metadata": {},
   "source": [
    "$Pattern:3$\n",
    "- Default Argument"
   ]
  },
  {
   "cell_type": "code",
   "execution_count": 76,
   "id": "2ced1532-2227-4d96-92bf-9e17c17e8f54",
   "metadata": {},
   "outputs": [
    {
     "data": {
      "text/plain": [
       "149.333"
      ]
     },
     "execution_count": 76,
     "metadata": {},
     "output_type": "execute_result"
    }
   ],
   "source": [
    "avg2=lambda a,b,c=405:round((a+b+c)/3,3)\n",
    "avg2(15,28)"
   ]
  },
  {
   "cell_type": "markdown",
   "id": "116c0df5-c177-46d6-bb18-4a19b6c8675a",
   "metadata": {},
   "source": [
    "$Pattern:4$\n",
    "- if-else "
   ]
  },
  {
   "cell_type": "code",
   "execution_count": 79,
   "id": "200794be-f700-4521-8644-0d6c89c16622",
   "metadata": {},
   "outputs": [
    {
     "data": {
      "text/plain": [
       "40"
      ]
     },
     "execution_count": 79,
     "metadata": {},
     "output_type": "execute_result"
    }
   ],
   "source": [
    "def max(a,b):\n",
    "    if a>b:\n",
    "        return(a)\n",
    "    else:\n",
    "        return(b)\n",
    "max(30,40) "
   ]
  },
  {
   "cell_type": "markdown",
   "id": "285965f7-e782-4eb1-a354-4f9e9098893c",
   "metadata": {},
   "source": [
    "**syntax:\n",
    "Function Name=lambda <arg1>, <arg2>: <if output> <if condition> <else> <else output>**"
   ]
  },
  {
   "cell_type": "code",
   "execution_count": 83,
   "id": "612a8970-fe6f-483a-9890-ffe4129c6e60",
   "metadata": {},
   "outputs": [
    {
     "data": {
      "text/plain": [
       "125"
      ]
     },
     "execution_count": 83,
     "metadata": {},
     "output_type": "execute_result"
    }
   ],
   "source": [
    "max=lambda a,b: a if a>b else b \n",
    "max(100,125)"
   ]
  },
  {
   "cell_type": "markdown",
   "id": "ec9be099-aa65-422b-97bc-c520f272021d",
   "metadata": {},
   "source": [
    "$Pattern:5$\n",
    "- List cases"
   ]
  },
  {
   "cell_type": "code",
   "execution_count": 88,
   "id": "fce69dff-e87a-4046-bff7-51589b3a243f",
   "metadata": {},
   "outputs": [
    {
     "data": {
      "text/plain": [
       "['Hyd', 'Mumbai', 'Pune']"
      ]
     },
     "execution_count": 88,
     "metadata": {},
     "output_type": "execute_result"
    }
   ],
   "source": [
    "List1=['hyd','mumbai','pune']\n",
    "# ans=[['Hyd','Mumbai','Pune']\n",
    "ans=[]\n",
    "for i in List1:\n",
    "    ans.append(i.capitalize())\n",
    "ans"
   ]
  },
  {
   "cell_type": "code",
   "execution_count": null,
   "id": "0c55fc77-0e79-450b-8c87-e3de7b7f81c9",
   "metadata": {},
   "outputs": [],
   "source": [
    "# Step:\n",
    "lambda <variable>:<output>, <iterator>"
   ]
  },
  {
   "cell_type": "code",
   "execution_count": 90,
   "id": "0f9d7808-c5c9-4134-85ef-c93e3da20f18",
   "metadata": {},
   "outputs": [
    {
     "data": {
      "text/plain": [
       "(<function __main__.<lambda>(i)>, ['hyd', 'mumbai', 'pune'])"
      ]
     },
     "execution_count": 90,
     "metadata": {},
     "output_type": "execute_result"
    }
   ],
   "source": [
    "lambda i:i.capitalize(), List1"
   ]
  },
  {
   "cell_type": "code",
   "execution_count": 94,
   "id": "c70631bd-ba8b-45b9-8ea8-7fd1106d0ad5",
   "metadata": {},
   "outputs": [
    {
     "data": {
      "text/plain": [
       "(<function __main__.<lambda>(i)>, ['hyd', 'mumbai', 'pune'])"
      ]
     },
     "execution_count": 94,
     "metadata": {},
     "output_type": "execute_result"
    }
   ],
   "source": [
    "# Step-1: lambda <variable>:<output>\n",
    "lambda i: i.capitalize() \n",
    "# Step-2: lambda <variable>:<output>, <iterator>\n",
    "lambda i:i.capitalize(),List1"
   ]
  },
  {
   "cell_type": "markdown",
   "id": "29bbc6b3-742d-4b63-bd4d-33a04fa76f73",
   "metadata": {},
   "source": [
    "**Map**\n",
    "- Map is used to combine the function and iterator"
   ]
  },
  {
   "cell_type": "code",
   "execution_count": null,
   "id": "63e3aec2-ce58-4a06-9e75-6dcb34b2b457",
   "metadata": {},
   "outputs": [],
   "source": [
    "# Step-3:\n",
    "map(lambda <variable>: <output>, <iterable>)"
   ]
  },
  {
   "cell_type": "code",
   "execution_count": 99,
   "id": "f0c5e302-1ec2-45d6-af0a-8644fd473b57",
   "metadata": {},
   "outputs": [
    {
     "data": {
      "text/plain": [
       "<map at 0x1e1a7625c90>"
      ]
     },
     "execution_count": 99,
     "metadata": {},
     "output_type": "execute_result"
    }
   ],
   "source": [
    "map(lambda i:i.capitalize(),List1)"
   ]
  },
  {
   "cell_type": "code",
   "execution_count": null,
   "id": "6167ddbb-614e-4cc0-bad5-af02861938c8",
   "metadata": {},
   "outputs": [],
   "source": [
    "# Step-4: when we apply the output will store at address\n",
    "# so apply the list or tuple to see the answer\n",
    "# list(map(lambda i:i.capitalize(),List1))\n",
    "# tuple(map(lambda i:i.capitalize(),List1))"
   ]
  },
  {
   "cell_type": "code",
   "execution_count": 101,
   "id": "bb1c514f-66d0-443e-a1f7-7dc707fb5f95",
   "metadata": {},
   "outputs": [
    {
     "data": {
      "text/plain": [
       "['Hyd', 'Mumbai', 'Pune']"
      ]
     },
     "execution_count": 101,
     "metadata": {},
     "output_type": "execute_result"
    }
   ],
   "source": [
    "list(map(lambda i:i.capitalize(), List1))"
   ]
  },
  {
   "cell_type": "code",
   "execution_count": 103,
   "id": "006a994f-7538-4269-bd28-85abd5513659",
   "metadata": {},
   "outputs": [
    {
     "data": {
      "text/plain": [
       "('Hyd', 'Mumbai', 'Pune')"
      ]
     },
     "execution_count": 103,
     "metadata": {},
     "output_type": "execute_result"
    }
   ],
   "source": [
    "tuple(map(lambda i:i.capitalize(),List1))"
   ]
  },
  {
   "cell_type": "code",
   "execution_count": null,
   "id": "cb9c5077-c638-4bc2-bd05-34192a9ba284",
   "metadata": {},
   "outputs": [],
   "source": [
    "# step-1:lambda <variable>:<output>\n",
    "# Step-2: lambda <variable>:<output>, <iterator>\n",
    "# Step-3:map(lambda <variable>: <output>, <iterable>)\n",
    "# step:4: list(map(lambda i:i.capitalize(),List1))"
   ]
  },
  {
   "cell_type": "code",
   "execution_count": 105,
   "id": "09e4eda1-b1f8-4024-a78c-0b458ab1e657",
   "metadata": {},
   "outputs": [
    {
     "data": {
      "text/plain": [
       "['Hyd', 'Mumbai', 'Pune']"
      ]
     },
     "execution_count": 105,
     "metadata": {},
     "output_type": "execute_result"
    }
   ],
   "source": [
    "lambda i:i.capitalize()\n",
    "lambda i:i.capitalize(),List1\n",
    "map(lambda i:i.capitalize(),List1)\n",
    "list(map(lambda i:i.capitalize(),List1))"
   ]
  },
  {
   "cell_type": "code",
   "execution_count": null,
   "id": "80ef988c-2277-46e8-9262-6fc7d28a18b5",
   "metadata": {},
   "outputs": [],
   "source": [
    "#Q1)  l1=['hyd','chennai','mumbai','pune']\n",
    "#     ans=['HYD','CHENNAI','MUMBAI','PUNE']\n",
    "\n",
    "#Q2)  l1=['hyd','chennai','mumbai','pune']\n",
    "#     ans=[0,10,20,30]\n",
    "\n",
    "#Q3) str1= 'hello hai how are you'\n",
    "#    ans=['Hello','Hai','How','Are','You']\n",
    "\n",
    "#Q4)  l1=['hyd','chen#ai','mu#bai','pune']\n",
    "#     ans=['chen#ai','mu#bai']\n",
    "\n",
    "#Q5)  l1=['hyd','chen#ai','mu#bai','pune']\n",
    "#     ans=['hyd','pune']\n"
   ]
  },
  {
   "cell_type": "code",
   "execution_count": 107,
   "id": "3438b39e-2af4-49a5-b05a-a4c4c5e4d032",
   "metadata": {},
   "outputs": [
    {
     "data": {
      "text/plain": [
       "['HYD', 'CHENNAI', 'MUMBAI', 'PUNE']"
      ]
     },
     "execution_count": 107,
     "metadata": {},
     "output_type": "execute_result"
    }
   ],
   "source": [
    "#Q1)  l1=['hyd','chennai','mumbai','pune']\n",
    "#     ans=['HYD','CHENNAI','MUMBAI','PUNE']\n",
    "l1=['hyd','chennai','mumbai','pune']\n",
    "list(map(lambda i:i.upper(),l1))"
   ]
  },
  {
   "cell_type": "code",
   "execution_count": 137,
   "id": "06db137a-58f2-4034-98bf-c411a318f58c",
   "metadata": {},
   "outputs": [
    {
     "data": {
      "text/plain": [
       "['HYD', 'CHENNAI', 'MUMBAI', 'PUNE']"
      ]
     },
     "execution_count": 137,
     "metadata": {},
     "output_type": "execute_result"
    }
   ],
   "source": [
    "#Q1)  l1=['hyd','chennai','mumbai','pune']\n",
    "#     ans=['HYD','CHENNAI','MUMBAI','PUNE']\n",
    "l1=['hyd','chennai','mumbai','pune']\n",
    "ans=list(map(lambda i:i.upper(),l1))\n",
    "ans"
   ]
  },
  {
   "cell_type": "code",
   "execution_count": 139,
   "id": "9a7f7df3-4e51-44ce-815d-59bff77f02cc",
   "metadata": {},
   "outputs": [
    {
     "data": {
      "text/plain": [
       "[0, 10, 20, 30]"
      ]
     },
     "execution_count": 139,
     "metadata": {},
     "output_type": "execute_result"
    }
   ],
   "source": [
    "#Q2)  l1=['hyd','chennai','mumbai','pune']\n",
    "#     ans=[0,10,20,30]\n",
    "l1=['hyd','chennai','mumbai','pune']\n",
    "ans=list(map(lambda i:l1.index(i)*10,l1))\n",
    "ans"
   ]
  },
  {
   "cell_type": "code",
   "execution_count": 141,
   "id": "2cbdbd93-00f5-4927-9cf0-8641f33ffbab",
   "metadata": {},
   "outputs": [
    {
     "data": {
      "text/plain": [
       "[0, 10, 20, 30]"
      ]
     },
     "execution_count": 141,
     "metadata": {},
     "output_type": "execute_result"
    }
   ],
   "source": [
    "#Q2)  l1=['hyd','chennai','mumbai','pune']\n",
    "#     ans=[0,10,20,30]\n",
    "l1=['hyd','chennai','mumbai','pune']\n",
    "list(map(lambda i:l1.index(i)*10,l1))"
   ]
  },
  {
   "cell_type": "code",
   "execution_count": 145,
   "id": "c22e8374-8384-4f79-a7ae-8d1ad973b9bd",
   "metadata": {},
   "outputs": [
    {
     "data": {
      "text/plain": [
       "['Hello', 'Hai', 'How', 'Are', 'You']"
      ]
     },
     "execution_count": 145,
     "metadata": {},
     "output_type": "execute_result"
    }
   ],
   "source": [
    "#Q3) str1= 'hello hai how are you'\n",
    "#    ans=['Hello','Hai','How','Are','You']\n",
    "str1='hello hai how are you'\n",
    "ans=list(map(lambda i:i.title(),str1.split()))\n",
    "ans"
   ]
  },
  {
   "cell_type": "code",
   "execution_count": 149,
   "id": "88f77461-dc16-4590-bc29-ed288a3006f2",
   "metadata": {},
   "outputs": [
    {
     "data": {
      "text/plain": [
       "['chen#ai', 'mu#bai']"
      ]
     },
     "execution_count": 149,
     "metadata": {},
     "output_type": "execute_result"
    }
   ],
   "source": [
    "l1=['hyd','chen#ai','mu#bai','pune']\n",
    "ans=[]\n",
    "for i in l1:\n",
    "    if '#' in i:\n",
    "        ans.append(i)\n",
    "ans        "
   ]
  },
  {
   "cell_type": "code",
   "execution_count": 153,
   "id": "c2c69397-1522-4250-b5c0-4959dcb82ddd",
   "metadata": {},
   "outputs": [
    {
     "data": {
      "text/plain": [
       "[False, True, True, False]"
      ]
     },
     "execution_count": 153,
     "metadata": {},
     "output_type": "execute_result"
    }
   ],
   "source": [
    "#Q4)  l1=['hyd','chen#ai','mu#bai','pune']\n",
    "#     ans=['chen#ai','mu#bai']\n",
    "l1=['hyd','chen#ai','mu#bai','pune']\n",
    "\n",
    "list(map(lambda i:'#' in i,l1))\n"
   ]
  },
  {
   "cell_type": "markdown",
   "id": "1083b290-8d50-4304-9a60-146b31b11768",
   "metadata": {},
   "source": [
    "**Filter**\n",
    "- whenever condition statements\n",
    "- which means we are filtering the answer based on conditon\n",
    "- map will give boolean outputs, true or false\n",
    "- true answer we can see by applying filter only"
   ]
  },
  {
   "cell_type": "code",
   "execution_count": 156,
   "id": "d0b30429-edec-4532-afe2-20c522a36601",
   "metadata": {},
   "outputs": [
    {
     "data": {
      "text/plain": [
       "['chen#ai', 'mu#bai']"
      ]
     },
     "execution_count": 156,
     "metadata": {},
     "output_type": "execute_result"
    }
   ],
   "source": [
    "list(filter(lambda i:'#' in i,l1))"
   ]
  },
  {
   "cell_type": "code",
   "execution_count": 160,
   "id": "507fd73c-9b06-4e5f-a01d-2f0c09abd65f",
   "metadata": {},
   "outputs": [
    {
     "data": {
      "text/plain": [
       "['hyd', 'pune']"
      ]
     },
     "execution_count": 160,
     "metadata": {},
     "output_type": "execute_result"
    }
   ],
   "source": [
    "#Q5)  l1=['hyd','chen#ai','mu#bai','pune']\n",
    "#     ans=['hyd','pune']\n",
    "l1=['hyd','chen#ai','mu#bai','pune']\n",
    "list(filter(lambda i:'#' not in i,l1))"
   ]
  },
  {
   "cell_type": "code",
   "execution_count": null,
   "id": "a49d9bde-f2ca-47f3-ba41-3a0fd4b361a3",
   "metadata": {},
   "outputs": [],
   "source": [
    "# mistake-1: [don't write if]\n",
    "# list(filter(lambda i: \"if\" '#' in i, l1))\n",
    "# mistake-2:[don't write output]\n",
    "# list(filter(lambda i:\"i if\"  #' in i, l1))"
   ]
  },
  {
   "cell_type": "code",
   "execution_count": 166,
   "id": "c2a9538b-6092-4799-9c49-86af4f05b4b5",
   "metadata": {},
   "outputs": [
    {
     "name": "stdout",
     "output_type": "stream",
     "text": [
      "15\n"
     ]
    }
   ],
   "source": [
    "l1=[0,1,2,3,4,5]\n",
    "summ=0\n",
    "for i in l1:\n",
    "    summ=summ+i\n",
    "\n",
    "print(summ)"
   ]
  },
  {
   "cell_type": "markdown",
   "id": "15450a6c-2053-4d7c-8556-3235180377c0",
   "metadata": {},
   "source": [
    "**reduce**\n",
    "- reduce is a method to write all ibuily functions using **lambda** method\n",
    "- it is available in a package called **func tools**\n",
    "- level-1: reduce(lambda sum,i: sum+i, list1)\n",
    "- level-2: reduce(lambda sum,i: sum+i,list1,value)\n",
    "- in level-1 by default sum=0\n",
    "- level-2: the sum starts with some value"
   ]
  },
  {
   "cell_type": "code",
   "execution_count": 176,
   "id": "7263bd7e-c7f1-498e-9713-4018ab23bef7",
   "metadata": {},
   "outputs": [],
   "source": [
    "import functools"
   ]
  },
  {
   "cell_type": "raw",
   "id": "6f8073e1-66fc-45b5-8502-5b7dbdf7907d",
   "metadata": {},
   "source": [
    "dir(functools)"
   ]
  },
  {
   "cell_type": "code",
   "execution_count": 198,
   "id": "3c389661-a8d4-45e5-aeb3-b6531d30c0c5",
   "metadata": {},
   "outputs": [
    {
     "data": {
      "text/plain": [
       "15"
      ]
     },
     "execution_count": 198,
     "metadata": {},
     "output_type": "execute_result"
    }
   ],
   "source": [
    "l1=[0,1,2,3,4,5]\n",
    "functools.reduce(lambda summ,i:summ+i,l1)"
   ]
  },
  {
   "cell_type": "code",
   "execution_count": 188,
   "id": "039dec09-feaf-4ac6-ac31-7a41a33bdd05",
   "metadata": {},
   "outputs": [
    {
     "data": {
      "text/plain": [
       "15"
      ]
     },
     "execution_count": 188,
     "metadata": {},
     "output_type": "execute_result"
    }
   ],
   "source": [
    "# level-1: reduce(lambda sum,i: sum+i, list1)\n",
    "import functools\n",
    "list1=[1,2,3,4,5]\n",
    "functools.reduce(lambda summ,i:summ+i,list1)"
   ]
  },
  {
   "cell_type": "code",
   "execution_count": 180,
   "id": "4e949419-2be5-4cd4-aa2f-a1853a18c66f",
   "metadata": {},
   "outputs": [
    {
     "data": {
      "text/plain": [
       "215"
      ]
     },
     "execution_count": 180,
     "metadata": {},
     "output_type": "execute_result"
    }
   ],
   "source": [
    "# level-2: reduce(lambda sum,i: sum+i,list1,value)\n",
    "import functools\n",
    "list1=[0,1,2,3,4,5]\n",
    "functools.reduce(lambda summ,i:summ+i,list1,200)"
   ]
  },
  {
   "cell_type": "code",
   "execution_count": 186,
   "id": "3f9c4a30-cb8d-46d2-9ac6-008194a05c65",
   "metadata": {},
   "outputs": [
    {
     "data": {
      "text/plain": [
       "120"
      ]
     },
     "execution_count": 186,
     "metadata": {},
     "output_type": "execute_result"
    }
   ],
   "source": [
    "# level-1: reduce(lambda sum,i: sum+i, list1)\n",
    "import functools\n",
    "list1=[1,2,3,4,5]\n",
    "functools.reduce(lambda val,i:val*i,list1)"
   ]
  },
  {
   "cell_type": "code",
   "execution_count": null,
   "id": "e57ecb14-ce39-41d7-92e6-de0b276886cb",
   "metadata": {},
   "outputs": [],
   "source": [
    "import functools\n",
    "list1=[1,2,3,4,5]\n",
    "functools.reduce(lambda summ,i:summ+i,list1)\n",
    "\n",
    "from import functools reduce\n",
    "list1=[1,2,3,4,5]\n",
    "functools.reduce(lambda summ,i:summ+i,list1)\n",
    "\n",
    "import functools as ft\n",
    "list1=[1,2,3,4,5]\n",
    "ft.reduce(lambda summ,i:summ+i,list1)"
   ]
  },
  {
   "cell_type": "code",
   "execution_count": 190,
   "id": "861758f3-f5b3-4c9e-9f1e-692fc6918d46",
   "metadata": {},
   "outputs": [
    {
     "data": {
      "text/plain": [
       "15"
      ]
     },
     "execution_count": 190,
     "metadata": {},
     "output_type": "execute_result"
    }
   ],
   "source": [
    "import functools\n",
    "list1=[1,2,3,4,5]\n",
    "functools.reduce(lambda summ,i:summ+i,list1)"
   ]
  },
  {
   "cell_type": "code",
   "execution_count": 192,
   "id": "f11130a3-546d-498f-a447-448d0fd9d355",
   "metadata": {},
   "outputs": [
    {
     "ename": "SyntaxError",
     "evalue": "invalid syntax (1823801362.py, line 1)",
     "output_type": "error",
     "traceback": [
      "\u001b[1;36m  Cell \u001b[1;32mIn[192], line 1\u001b[1;36m\u001b[0m\n\u001b[1;33m    from import functools reduce\u001b[0m\n\u001b[1;37m         ^\u001b[0m\n\u001b[1;31mSyntaxError\u001b[0m\u001b[1;31m:\u001b[0m invalid syntax\n"
     ]
    }
   ],
   "source": [
    "from import functools reduce\n",
    "list1=[1,2,3,4,5]\n",
    "functools.reduce(lambda summ,i:summ+i,list1)"
   ]
  },
  {
   "cell_type": "code",
   "execution_count": 194,
   "id": "32ec5b28-3856-4c81-8e3d-4ba8242ec842",
   "metadata": {},
   "outputs": [
    {
     "data": {
      "text/plain": [
       "15"
      ]
     },
     "execution_count": 194,
     "metadata": {},
     "output_type": "execute_result"
    }
   ],
   "source": [
    "import functools as ft\n",
    "list1=[1,2,3,4,5]\n",
    "ft.reduce(lambda summ,i:summ+i,list1)"
   ]
  },
  {
   "cell_type": "code",
   "execution_count": 196,
   "id": "29acf5d0-3b23-4cf6-b2bc-178766fddfd7",
   "metadata": {},
   "outputs": [
    {
     "data": {
      "text/plain": [
       "<module 'functools' from 'C:\\\\Users\\\\Sandeep\\\\anaconda3\\\\Lib\\\\functools.py'>"
      ]
     },
     "execution_count": 196,
     "metadata": {},
     "output_type": "execute_result"
    }
   ],
   "source": [
    "import functools\n",
    "functools"
   ]
  },
  {
   "cell_type": "code",
   "execution_count": null,
   "id": "95c1a45d-bccf-4f70-90a9-447426696b9d",
   "metadata": {},
   "outputs": [],
   "source": [
    "lambda <variable>:<output>\n",
    "lambda <variable>: <if output> <if condition> <else> <else output>\n",
    "map(lambda <variable>:<output>,<iterator>)\n",
    "filter(lambd <variable>:<condition>,<iterator>)\n",
    "reduce(lambda <variable1>, <variable2>: var1+var2, <iterator>)"
   ]
  }
 ],
 "metadata": {
  "kernelspec": {
   "display_name": "Python [conda env:base] *",
   "language": "python",
   "name": "conda-base-py"
  },
  "language_info": {
   "codemirror_mode": {
    "name": "ipython",
    "version": 3
   },
   "file_extension": ".py",
   "mimetype": "text/x-python",
   "name": "python",
   "nbconvert_exporter": "python",
   "pygments_lexer": "ipython3",
   "version": "3.12.7"
  }
 },
 "nbformat": 4,
 "nbformat_minor": 5
}

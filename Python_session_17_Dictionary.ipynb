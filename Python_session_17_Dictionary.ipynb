{
 "cells": [
  {
   "cell_type": "code",
   "execution_count": 17,
   "id": "18cf60b2-9286-450f-add3-348d4ea646b1",
   "metadata": {},
   "outputs": [
    {
     "data": {
      "text/plain": [
       "['Hello', 'Hi', 'How', 'Are', 'You']"
      ]
     },
     "execution_count": 17,
     "metadata": {},
     "output_type": "execute_result"
    }
   ],
   "source": [
    "# str1='hello hi how are you'\n",
    "# ans=['Hello', 'Hi', 'How', 'Are', 'You']\n",
    "#str1=['hello hi how are you']\n",
    "str1='hello hi how are you'\n",
    "ans=[]\n",
    "for i in str1.split():\n",
    "    ans.append(i.title())\n",
    "\n",
    "ans\n",
    "# method-1:"
   ]
  },
  {
   "cell_type": "code",
   "execution_count": 11,
   "id": "ef80d3a3-597b-417b-9e14-ea29e1eadfa2",
   "metadata": {},
   "outputs": [
    {
     "data": {
      "text/plain": [
       "['hello', 'hi', 'how', 'are', 'you']"
      ]
     },
     "execution_count": 11,
     "metadata": {},
     "output_type": "execute_result"
    }
   ],
   "source": [
    "str1='hello hi how are you'\n",
    "str1.split()"
   ]
  },
  {
   "cell_type": "code",
   "execution_count": null,
   "id": "f77ab294-7ed3-4c11-a18f-98d6617da906",
   "metadata": {},
   "outputs": [],
   "source": [
    "sir in default argument can we provide 2 default arguments?  'yes'"
   ]
  },
  {
   "cell_type": "code",
   "execution_count": 21,
   "id": "73647aa8-da97-4cbb-b8d0-42094e3c96b4",
   "metadata": {},
   "outputs": [
    {
     "name": "stdout",
     "output_type": "stream",
     "text": [
      "Ramesh age is 20\n",
      "suresh age is 30\n",
      "satish age is 40\n"
     ]
    }
   ],
   "source": [
    "l1=['Ramesh','suresh','satish']\n",
    "l2=[20,30,40]\n",
    "# 'Ramesh age is 20'\n",
    "# 'suresh age is 30'\n",
    "# 'sathish age is 40'\n",
    "for i in range(len(l1)):\n",
    "    print(f\"{l1[i]} age is {l2[i]}\")\n",
    "    "
   ]
  },
  {
   "cell_type": "markdown",
   "id": "87dda1a0-e45e-49b1-af2d-b67b5fb6ed7f",
   "metadata": {},
   "source": [
    "$Zip-Method$"
   ]
  },
  {
   "cell_type": "code",
   "execution_count": 24,
   "id": "c1254fc8-3d38-4666-ae6f-ab46a68ca8dd",
   "metadata": {},
   "outputs": [
    {
     "name": "stdout",
     "output_type": "stream",
     "text": [
      "Ramesh has age is 20 and he is from Hyd\n",
      "suresh has age is 30 and he is from Mumbai\n",
      "satish has age is 40 and he is from Chennai\n"
     ]
    }
   ],
   "source": [
    "l1=['Ramesh','suresh','satish']\n",
    "l2=[20,30,40]\n",
    "l3=['Hyd','Mumbai','Chennai']\n",
    "for i,j,k in zip(l1,l2,l3):\n",
    "    print(f\"{i} has age is {j} and he is from {k}\")"
   ]
  },
  {
   "cell_type": "markdown",
   "id": "fce2e3ef-fff2-4d54-9a55-a0905bcabadf",
   "metadata": {},
   "source": [
    "**Dictionary**\n",
    "- Strings represen in quotes\n",
    "- list represent in square brackets\n",
    "- tuple represent in paranthsis\n",
    "- sets represent in curly braces with only one value\n",
    "- Dictionary represent in curly braces with two values\n",
    "- dictionary has key: value pair\n",
    "- dictionary elements are in pair\n",
    "   - one element called as **key**\n",
    "   - onther element called as **value**"
   ]
  },
  {
   "cell_type": "code",
   "execution_count": null,
   "id": "68e61583-0c3f-4dc7-8942-2396a89e9835",
   "metadata": {},
   "outputs": [],
   "source": [
    "l1=['Ramesh','suresh','satish']\n",
    "l2=[20,30,40]\n",
    "\n",
    "{key:value}\n",
    "{key1: value1, key2: value2, key3: value3}"
   ]
  },
  {
   "cell_type": "code",
   "execution_count": 30,
   "id": "cacd3ccd-05c7-4d50-8388-47997ccd1ed1",
   "metadata": {},
   "outputs": [
    {
     "data": {
      "text/plain": [
       "{'Ramesh': 20, 'suresh': 30, 'satish': 40}"
      ]
     },
     "execution_count": 30,
     "metadata": {},
     "output_type": "execute_result"
    }
   ],
   "source": [
    "dict={'Ramesh':20,'suresh':30,'satish':40}\n",
    "dict"
   ]
  },
  {
   "cell_type": "code",
   "execution_count": 34,
   "id": "0081f048-4d17-468a-84ea-dab21e1ca150",
   "metadata": {},
   "outputs": [
    {
     "data": {
      "text/plain": [
       "dict"
      ]
     },
     "execution_count": 34,
     "metadata": {},
     "output_type": "execute_result"
    }
   ],
   "source": [
    "type(dict)"
   ]
  },
  {
   "cell_type": "markdown",
   "id": "eea000b1-9e77-4495-9bda-4700144bb471",
   "metadata": {},
   "source": [
    "- Intialization\n",
    "- Max\n",
    "- Min\n",
    "- len\n",
    "- Sum\n",
    "- Sorted\n",
    "- Reversed\n",
    "- Mutable vs immutable\n",
    "- Index operations\n",
    "- Concatenation\n",
    "- Slicing\n",
    "- Method"
   ]
  },
  {
   "cell_type": "markdown",
   "id": "3dea47df-f3e3-4b1a-a37a-913b43d09c60",
   "metadata": {},
   "source": [
    "**intialization**"
   ]
  },
  {
   "cell_type": "code",
   "execution_count": null,
   "id": "9d37a0ba-89d9-4f21-a2ce-f8843f13b1d5",
   "metadata": {},
   "outputs": [],
   "source": [
    "dict={'Ramesh':20,'Suresh':30,'Satish':40}\n",
    "# key int value string\n",
    "# key string value list vice versa\n",
    "# key list value"
   ]
  },
  {
   "cell_type": "code",
   "execution_count": 50,
   "id": "861590ad-bdc0-4ccb-8bbc-c6a74cd61064",
   "metadata": {},
   "outputs": [
    {
     "data": {
      "text/plain": [
       "{'Ramesh': 20, 'Suresh': 30, 'Satish': 40}"
      ]
     },
     "execution_count": 50,
     "metadata": {},
     "output_type": "execute_result"
    }
   ],
   "source": [
    "dict1={'Ramesh':20,'Suresh':30,'Satish':40}\n",
    "dict1"
   ]
  },
  {
   "cell_type": "code",
   "execution_count": 52,
   "id": "92996747-fe80-4745-972f-cd1fa5f3a599",
   "metadata": {},
   "outputs": [
    {
     "data": {
      "text/plain": [
       "{20: 'Ramesh', 30: 'Suresh', 40: 'Satish'}"
      ]
     },
     "execution_count": 52,
     "metadata": {},
     "output_type": "execute_result"
    }
   ],
   "source": [
    "dict2={20:'Ramesh',30:'Suresh',40:'Satish'}\n",
    "dict2"
   ]
  },
  {
   "cell_type": "code",
   "execution_count": 54,
   "id": "019d18c9-78dc-454d-a9fa-bc978ddf60fd",
   "metadata": {},
   "outputs": [
    {
     "data": {
      "text/plain": [
       "{'Ramesh': '20', 'Suresh': '30', 'Satish': '40'}"
      ]
     },
     "execution_count": 54,
     "metadata": {},
     "output_type": "execute_result"
    }
   ],
   "source": [
    "dict3={'Ramesh':'20','Suresh':'30','Satish':'40'}\n",
    "dict3"
   ]
  },
  {
   "cell_type": "code",
   "execution_count": 70,
   "id": "4a6a7c38-070f-4020-9cea-e283d1944f06",
   "metadata": {},
   "outputs": [
    {
     "data": {
      "text/plain": [
       "{'Ramesh': 30}"
      ]
     },
     "execution_count": 70,
     "metadata": {},
     "output_type": "execute_result"
    }
   ],
   "source": [
    "dict4={'Ramesh':20,'Ramesh':30}\n",
    "dict4\n",
    "\n",
    "# keys are important\n",
    "# when same keys but different value\n",
    "# it will take the latest value"
   ]
  },
  {
   "cell_type": "code",
   "execution_count": 60,
   "id": "09763927-b959-4e35-a95f-35071bbcc583",
   "metadata": {},
   "outputs": [
    {
     "data": {
      "text/plain": [
       "{'Ramesh': 20, 'Suresh': 20}"
      ]
     },
     "execution_count": 60,
     "metadata": {},
     "output_type": "execute_result"
    }
   ],
   "source": [
    "d5={'Ramesh':20,'Suresh':20}\n",
    "d5"
   ]
  },
  {
   "cell_type": "code",
   "execution_count": 64,
   "id": "21b2f88d-a139-422d-ab58-8d72735bdb75",
   "metadata": {},
   "outputs": [
    {
     "data": {
      "text/plain": [
       "{'Ramesh': 20}"
      ]
     },
     "execution_count": 64,
     "metadata": {},
     "output_type": "execute_result"
    }
   ],
   "source": [
    "d6={'Ramesh':20,'Ramesh':20}\n",
    "d6\n",
    "\n",
    "# duplicates are not allowed"
   ]
  },
  {
   "cell_type": "code",
   "execution_count": 66,
   "id": "58f0033e-fdc3-4078-affc-34a68d42f921",
   "metadata": {},
   "outputs": [
    {
     "data": {
      "text/plain": [
       "{'Fruit': 'Apple', 'Cost': 10.5, 'Count': 100, 'avg': True}"
      ]
     },
     "execution_count": 66,
     "metadata": {},
     "output_type": "execute_result"
    }
   ],
   "source": [
    "d7={'Fruit':'Apple','Cost':10.5,'Count':100,'avg':True}\n",
    "d7"
   ]
  },
  {
   "cell_type": "code",
   "execution_count": 68,
   "id": "49552d46-939b-4ac5-9a94-e8c2e224fb76",
   "metadata": {},
   "outputs": [
    {
     "data": {
      "text/plain": [
       "{True: 'yes'}"
      ]
     },
     "execution_count": 68,
     "metadata": {},
     "output_type": "execute_result"
    }
   ],
   "source": [
    "d8={True:'yes'}\n",
    "d8"
   ]
  },
  {
   "cell_type": "code",
   "execution_count": 72,
   "id": "f35acfae-a902-472c-9a3b-1bf5cc811fb6",
   "metadata": {},
   "outputs": [
    {
     "data": {
      "text/plain": [
       "{'age': [10, 20, 30]}"
      ]
     },
     "execution_count": 72,
     "metadata": {},
     "output_type": "execute_result"
    }
   ],
   "source": [
    "d9={'age':[10,20,30]}\n",
    "d9\n",
    "\n",
    "# list can be a value"
   ]
  },
  {
   "cell_type": "code",
   "execution_count": 74,
   "id": "76e43586-8eb8-43f8-b2b1-a58ea191ef17",
   "metadata": {},
   "outputs": [
    {
     "ename": "TypeError",
     "evalue": "unhashable type: 'list'",
     "output_type": "error",
     "traceback": [
      "\u001b[1;31m---------------------------------------------------------------------------\u001b[0m",
      "\u001b[1;31mTypeError\u001b[0m                                 Traceback (most recent call last)",
      "Cell \u001b[1;32mIn[74], line 1\u001b[0m\n\u001b[1;32m----> 1\u001b[0m d10\u001b[38;5;241m=\u001b[39m{[\u001b[38;5;241m10\u001b[39m,\u001b[38;5;241m20\u001b[39m,\u001b[38;5;241m30\u001b[39m]:\u001b[38;5;124m'\u001b[39m\u001b[38;5;124mage\u001b[39m\u001b[38;5;124m'\u001b[39m}\n\u001b[0;32m      2\u001b[0m d10\n",
      "\u001b[1;31mTypeError\u001b[0m: unhashable type: 'list'"
     ]
    }
   ],
   "source": [
    "d10={[10,20,30]:'age'}\n",
    "d10"
   ]
  },
  {
   "cell_type": "code",
   "execution_count": 76,
   "id": "203201ae-ae4a-4c5a-8614-d3a9fd9d6c9c",
   "metadata": {},
   "outputs": [
    {
     "data": {
      "text/plain": [
       "{'age': (10, 20, 30)}"
      ]
     },
     "execution_count": 76,
     "metadata": {},
     "output_type": "execute_result"
    }
   ],
   "source": [
    "d11={'age':(10,20,30)}\n",
    "d11"
   ]
  },
  {
   "cell_type": "code",
   "execution_count": 78,
   "id": "34cac651-4c3d-40a0-b29d-981923307e37",
   "metadata": {},
   "outputs": [
    {
     "data": {
      "text/plain": [
       "{(10, 20, 30): 'age'}"
      ]
     },
     "execution_count": 78,
     "metadata": {},
     "output_type": "execute_result"
    }
   ],
   "source": [
    "d12={(10,20,30):'age'}\n",
    "d12"
   ]
  },
  {
   "cell_type": "markdown",
   "id": "7733df8a-bb8b-4de5-8bf3-ab5b9b8f39a4",
   "metadata": {},
   "source": [
    "- list is **Mutable**\n",
    "- tuple is **immutable**\n",
    "- so list can not be a key\n",
    "- \n",
    "**keys are important**"
   ]
  },
  {
   "cell_type": "code",
   "execution_count": 84,
   "id": "5bfd7afb-7791-4b03-b44a-8530da4957be",
   "metadata": {},
   "outputs": [
    {
     "data": {
      "text/plain": [
       "{(10, 20, 30): ('A', 'B', 'C')}"
      ]
     },
     "execution_count": 84,
     "metadata": {},
     "output_type": "execute_result"
    }
   ],
   "source": [
    "d13={(10,20,30):('A','B','C')}\n",
    "d13"
   ]
  },
  {
   "cell_type": "code",
   "execution_count": 86,
   "id": "2db81b42-946c-4c44-8cf2-c9ca89477cb4",
   "metadata": {},
   "outputs": [
    {
     "data": {
      "text/plain": [
       "{(10, 20, 30): ['A', 'B', 'C']}"
      ]
     },
     "execution_count": 86,
     "metadata": {},
     "output_type": "execute_result"
    }
   ],
   "source": [
    "d14={(10,20,30):['A','B','C']}\n",
    "d14"
   ]
  },
  {
   "cell_type": "code",
   "execution_count": 90,
   "id": "24046566-32dd-4e65-a7bf-59434b663219",
   "metadata": {},
   "outputs": [
    {
     "ename": "TypeError",
     "evalue": "unhashable type: 'list'",
     "output_type": "error",
     "traceback": [
      "\u001b[1;31m---------------------------------------------------------------------------\u001b[0m",
      "\u001b[1;31mTypeError\u001b[0m                                 Traceback (most recent call last)",
      "Cell \u001b[1;32mIn[90], line 1\u001b[0m\n\u001b[1;32m----> 1\u001b[0m d15\u001b[38;5;241m=\u001b[39m{[\u001b[38;5;241m10\u001b[39m,\u001b[38;5;241m20\u001b[39m,\u001b[38;5;241m30\u001b[39m]:(\u001b[38;5;124m'\u001b[39m\u001b[38;5;124mA\u001b[39m\u001b[38;5;124m'\u001b[39m,\u001b[38;5;124m'\u001b[39m\u001b[38;5;124mB\u001b[39m\u001b[38;5;124m'\u001b[39m,\u001b[38;5;124m'\u001b[39m\u001b[38;5;124mC\u001b[39m\u001b[38;5;124m'\u001b[39m)}\n\u001b[0;32m      2\u001b[0m d15\n",
      "\u001b[1;31mTypeError\u001b[0m: unhashable type: 'list'"
     ]
    }
   ],
   "source": [
    "d15={[10,20,30]:('A','B','C')}\n",
    "d15"
   ]
  },
  {
   "cell_type": "code",
   "execution_count": 94,
   "id": "d7b70c95-8d62-402f-a213-bf98d41bc165",
   "metadata": {},
   "outputs": [
    {
     "data": {
      "text/plain": [
       "{'fruites': {'Apple': 50}}"
      ]
     },
     "execution_count": 94,
     "metadata": {},
     "output_type": "execute_result"
    }
   ],
   "source": [
    "d16={'fruites':{'Apple':50}}\n",
    "d16"
   ]
  },
  {
   "cell_type": "code",
   "execution_count": 96,
   "id": "687c98ba-19f3-44ba-8acc-b4247f4141ba",
   "metadata": {},
   "outputs": [
    {
     "ename": "TypeError",
     "evalue": "unhashable type: 'dict'",
     "output_type": "error",
     "traceback": [
      "\u001b[1;31m---------------------------------------------------------------------------\u001b[0m",
      "\u001b[1;31mTypeError\u001b[0m                                 Traceback (most recent call last)",
      "Cell \u001b[1;32mIn[96], line 1\u001b[0m\n\u001b[1;32m----> 1\u001b[0m d17\u001b[38;5;241m=\u001b[39m{{\u001b[38;5;124m'\u001b[39m\u001b[38;5;124mApple\u001b[39m\u001b[38;5;124m'\u001b[39m:\u001b[38;5;241m50\u001b[39m}:\u001b[38;5;124m'\u001b[39m\u001b[38;5;124mfruites\u001b[39m\u001b[38;5;124m'\u001b[39m}\n\u001b[0;32m      2\u001b[0m d17\n",
      "\u001b[1;31mTypeError\u001b[0m: unhashable type: 'dict'"
     ]
    }
   ],
   "source": [
    "d17={{'Apple':50}:'fruites'}\n",
    "d17"
   ]
  },
  {
   "cell_type": "code",
   "execution_count": null,
   "id": "0b952379-b028-400b-9cd5-60b313b297d0",
   "metadata": {},
   "outputs": [],
   "source": [
    "dict1={'Ramesh':20,'Suresh':30,'Satish':40}       # W\n",
    "dict2={20:'Ramesh',30:'Suresh',40:'Satish'}       # W\n",
    "dict3={'Ramesh':'20','Suresh':'30','Satish':'40'} # W\n",
    "dict4={'Ramesh':20,'Ramesh':30}  # latest value   # W\n",
    "d5={'Ramesh':20,'Suresh':20}                      # W \n",
    "d6={'Ramesh':20,'Ramesh':20} # no duplicate       # W\n",
    "d7={'Fruit':'Apple','Cost':10.5,'Count':100,'avg':True} # W\n",
    "d8={True:'yes'}    # W\n",
    "d9={'age':[10,20,30]} # W\n",
    "d10={[10,20,30]:'age'} # F\n",
    "d11={'age':(10,20,30)} # W\n",
    "d12={(10,20,30):'age'} # W\n",
    "d13={(10,20,30):('A','B','C')} # w\n",
    "d14={(10,20,30):['A','B','C']} # W\n",
    "d15={[10,20,30]:('A','B','C')} # F\n",
    "d16={'fruites':{'Apple':50}}   # W\n",
    "d17={{'Apple':50}:'fruites'}   # F"
   ]
  },
  {
   "cell_type": "code",
   "execution_count": null,
   "id": "e2f043a0-e55f-44e8-a5f0-065a3bfe8085",
   "metadata": {},
   "outputs": [],
   "source": [
    "d1={'Ramesh':20,'Suresh':30,'Satish':40} \n",
    "d2={'Ramesh':'20','Suresh':'30','Satish':'40'}      \n",
    "d3={20:'Ramesh',30:'Suresh',40:'Satish'} \n",
    "d4={'Ramesh':20,'Suresh':30,40:Satish}\n",
    "- Max\n",
    "- Min\n",
    "- len\n",
    "- Sum\n",
    "- Sorted\n",
    "- Reversed"
   ]
  },
  {
   "cell_type": "code",
   "execution_count": 98,
   "id": "eddcd976-9ddb-4dc1-b738-0408a632c56e",
   "metadata": {},
   "outputs": [
    {
     "data": {
      "text/plain": [
       "'Suresh'"
      ]
     },
     "execution_count": 98,
     "metadata": {},
     "output_type": "execute_result"
    }
   ],
   "source": [
    "d1={'Ramesh':20,'Suresh':30,'Satish':40} \n",
    "max(d1)"
   ]
  },
  {
   "cell_type": "code",
   "execution_count": 100,
   "id": "06f5bf91-996e-4020-803e-d200e4be2656",
   "metadata": {},
   "outputs": [
    {
     "data": {
      "text/plain": [
       "'Ramesh'"
      ]
     },
     "execution_count": 100,
     "metadata": {},
     "output_type": "execute_result"
    }
   ],
   "source": [
    "min(d1)"
   ]
  },
  {
   "cell_type": "code",
   "execution_count": 106,
   "id": "79f0011d-48e0-4a5c-8b40-d3b6002b0a9c",
   "metadata": {},
   "outputs": [
    {
     "data": {
      "text/plain": [
       "3"
      ]
     },
     "execution_count": 106,
     "metadata": {},
     "output_type": "execute_result"
    }
   ],
   "source": [
    "len(d1)"
   ]
  },
  {
   "cell_type": "code",
   "execution_count": 118,
   "id": "fb1096c7-fe3f-43f2-864c-08bd50ca92dc",
   "metadata": {},
   "outputs": [
    {
     "ename": "TypeError",
     "evalue": "unsupported operand type(s) for +: 'int' and 'str'",
     "output_type": "error",
     "traceback": [
      "\u001b[1;31m---------------------------------------------------------------------------\u001b[0m",
      "\u001b[1;31mTypeError\u001b[0m                                 Traceback (most recent call last)",
      "Cell \u001b[1;32mIn[118], line 1\u001b[0m\n\u001b[1;32m----> 1\u001b[0m \u001b[38;5;28msum\u001b[39m(d1)\n",
      "\u001b[1;31mTypeError\u001b[0m: unsupported operand type(s) for +: 'int' and 'str'"
     ]
    }
   ],
   "source": [
    "sum(d1)"
   ]
  },
  {
   "cell_type": "code",
   "execution_count": 102,
   "id": "a98ee2cc-2222-4f9a-b166-8baba12f3a5a",
   "metadata": {},
   "outputs": [
    {
     "data": {
      "text/plain": [
       "['Ramesh', 'Satish', 'Suresh']"
      ]
     },
     "execution_count": 102,
     "metadata": {},
     "output_type": "execute_result"
    }
   ],
   "source": [
    "sorted(d1)"
   ]
  },
  {
   "cell_type": "code",
   "execution_count": 122,
   "id": "82c2e158-f561-49f9-9e08-16eac588c707",
   "metadata": {},
   "outputs": [
    {
     "data": {
      "text/plain": [
       "[0, 2, 47, 50, 258]"
      ]
     },
     "execution_count": 122,
     "metadata": {},
     "output_type": "execute_result"
    }
   ],
   "source": [
    "sorted([2,50,0,258,47])"
   ]
  },
  {
   "cell_type": "code",
   "execution_count": 126,
   "id": "69fd3fc6-d9bd-4acd-9860-ed5d4777f26b",
   "metadata": {},
   "outputs": [
    {
     "data": {
      "text/plain": [
       "['Satish', 'Suresh', 'Ramesh']"
      ]
     },
     "execution_count": 126,
     "metadata": {},
     "output_type": "execute_result"
    }
   ],
   "source": [
    "d1={'Ramesh':20,'Suresh':30,'Satish':40}\n",
    "list(reversed(d1))"
   ]
  },
  {
   "cell_type": "code",
   "execution_count": 110,
   "id": "f21152b2-7d99-487a-9276-b7edf3ec2c40",
   "metadata": {},
   "outputs": [],
   "source": [
    "d3={20:'Ramesh',30:'Suresh',40:'Satish'}"
   ]
  },
  {
   "cell_type": "code",
   "execution_count": 112,
   "id": "e154d35b-c8be-44e5-9562-907eb991045b",
   "metadata": {},
   "outputs": [
    {
     "data": {
      "text/plain": [
       "40"
      ]
     },
     "execution_count": 112,
     "metadata": {},
     "output_type": "execute_result"
    }
   ],
   "source": [
    "max(d3)"
   ]
  },
  {
   "cell_type": "code",
   "execution_count": 114,
   "id": "bdc557b5-5fad-4b37-a949-0e49e87d286c",
   "metadata": {},
   "outputs": [
    {
     "data": {
      "text/plain": [
       "20"
      ]
     },
     "execution_count": 114,
     "metadata": {},
     "output_type": "execute_result"
    }
   ],
   "source": [
    "min(d3)"
   ]
  },
  {
   "cell_type": "code",
   "execution_count": 116,
   "id": "1f8eb28b-f00e-4641-95ed-b47ce7beef1f",
   "metadata": {},
   "outputs": [
    {
     "data": {
      "text/plain": [
       "90"
      ]
     },
     "execution_count": 116,
     "metadata": {},
     "output_type": "execute_result"
    }
   ],
   "source": [
    "sum(d3)"
   ]
  },
  {
   "cell_type": "code",
   "execution_count": 120,
   "id": "f965ca4f-9809-4ea8-8aaf-608c1515475c",
   "metadata": {},
   "outputs": [
    {
     "ename": "TypeError",
     "evalue": "unsupported operand type(s) for +: 'int' and 'str'",
     "output_type": "error",
     "traceback": [
      "\u001b[1;31m---------------------------------------------------------------------------\u001b[0m",
      "\u001b[1;31mTypeError\u001b[0m                                 Traceback (most recent call last)",
      "Cell \u001b[1;32mIn[120], line 1\u001b[0m\n\u001b[1;32m----> 1\u001b[0m \u001b[38;5;241m30\u001b[39m\u001b[38;5;241m+\u001b[39m\u001b[38;5;124m'\u001b[39m\u001b[38;5;124mA\u001b[39m\u001b[38;5;124m'\u001b[39m\n",
      "\u001b[1;31mTypeError\u001b[0m: unsupported operand type(s) for +: 'int' and 'str'"
     ]
    }
   ],
   "source": [
    "30+'A'"
   ]
  },
  {
   "cell_type": "code",
   "execution_count": 124,
   "id": "05267104-7f92-449e-b43d-ea03fe77178d",
   "metadata": {},
   "outputs": [
    {
     "ename": "TypeError",
     "evalue": "'<' not supported between instances of 'int' and 'str'",
     "output_type": "error",
     "traceback": [
      "\u001b[1;31m---------------------------------------------------------------------------\u001b[0m",
      "\u001b[1;31mTypeError\u001b[0m                                 Traceback (most recent call last)",
      "Cell \u001b[1;32mIn[124], line 2\u001b[0m\n\u001b[0;32m      1\u001b[0m d1\u001b[38;5;241m=\u001b[39m{\u001b[38;5;124m'\u001b[39m\u001b[38;5;124mRamesh\u001b[39m\u001b[38;5;124m'\u001b[39m:\u001b[38;5;241m20\u001b[39m,\u001b[38;5;124m'\u001b[39m\u001b[38;5;124mSuresh\u001b[39m\u001b[38;5;124m'\u001b[39m:\u001b[38;5;241m30\u001b[39m,\u001b[38;5;241m100\u001b[39m:\u001b[38;5;241m40\u001b[39m}\n\u001b[1;32m----> 2\u001b[0m \u001b[38;5;28msorted\u001b[39m(d1)\n",
      "\u001b[1;31mTypeError\u001b[0m: '<' not supported between instances of 'int' and 'str'"
     ]
    }
   ],
   "source": [
    "d1={'Ramesh':20,'Suresh':30,100:40}\n",
    "sorted(d1)"
   ]
  },
  {
   "cell_type": "code",
   "execution_count": 128,
   "id": "b4105be3-b200-4fbb-88ec-815b462af448",
   "metadata": {},
   "outputs": [
    {
     "data": {
      "text/plain": [
       "<dict_reversekeyiterator at 0x2e4c2664d60>"
      ]
     },
     "execution_count": 128,
     "metadata": {},
     "output_type": "execute_result"
    }
   ],
   "source": [
    "d1={'Ramesh':20,'Suresh':30,100:40}\n",
    "reversed(d1)"
   ]
  },
  {
   "cell_type": "markdown",
   "id": "f1fa7f49-fa92-4dd7-ba0b-ed71ce7f63cf",
   "metadata": {},
   "source": [
    "- max/min can work for Homogeneous(same data type)\n",
    "- some is only work for numbers only\n",
    "- reversed can work any one"
   ]
  },
  {
   "cell_type": "markdown",
   "id": "81b4150e-9af1-4642-bb03-c10162ca8019",
   "metadata": {},
   "source": [
    "**index**"
   ]
  },
  {
   "cell_type": "code",
   "execution_count": 132,
   "id": "6e2c8825-a69e-472e-b44e-4e132d267765",
   "metadata": {},
   "outputs": [
    {
     "data": {
      "text/plain": [
       "10"
      ]
     },
     "execution_count": 132,
     "metadata": {},
     "output_type": "execute_result"
    }
   ],
   "source": [
    "l=[10,20,30]\n",
    "l[0]"
   ]
  },
  {
   "cell_type": "code",
   "execution_count": 134,
   "id": "14e9b9e5-5252-4db7-9111-00236bb263eb",
   "metadata": {},
   "outputs": [
    {
     "data": {
      "text/plain": [
       "'p'"
      ]
     },
     "execution_count": 134,
     "metadata": {},
     "output_type": "execute_result"
    }
   ],
   "source": [
    "s='python'\n",
    "s[0]"
   ]
  },
  {
   "cell_type": "code",
   "execution_count": 136,
   "id": "918a7e60-689e-4557-8b11-ddeccf65d0ce",
   "metadata": {},
   "outputs": [
    {
     "ename": "KeyError",
     "evalue": "0",
     "output_type": "error",
     "traceback": [
      "\u001b[1;31m---------------------------------------------------------------------------\u001b[0m",
      "\u001b[1;31mKeyError\u001b[0m                                  Traceback (most recent call last)",
      "Cell \u001b[1;32mIn[136], line 2\u001b[0m\n\u001b[0;32m      1\u001b[0m d\u001b[38;5;241m=\u001b[39m{\u001b[38;5;124m'\u001b[39m\u001b[38;5;124mRamesh\u001b[39m\u001b[38;5;124m'\u001b[39m:\u001b[38;5;241m20\u001b[39m,\u001b[38;5;124m'\u001b[39m\u001b[38;5;124msuresh\u001b[39m\u001b[38;5;124m'\u001b[39m:\u001b[38;5;241m30\u001b[39m}\n\u001b[1;32m----> 2\u001b[0m d[\u001b[38;5;241m0\u001b[39m]\n",
      "\u001b[1;31mKeyError\u001b[0m: 0"
     ]
    }
   ],
   "source": [
    "d={'Ramesh':20,'suresh':30}\n",
    "d[0]"
   ]
  },
  {
   "cell_type": "code",
   "execution_count": 138,
   "id": "3b77bc64-6270-4ac2-aadd-3822e82e700c",
   "metadata": {},
   "outputs": [
    {
     "data": {
      "text/plain": [
       "20"
      ]
     },
     "execution_count": 138,
     "metadata": {},
     "output_type": "execute_result"
    }
   ],
   "source": [
    "d['Ramesh']"
   ]
  },
  {
   "cell_type": "code",
   "execution_count": null,
   "id": "ac47f2dd-b466-41b4-93c3-fb3ed483371f",
   "metadata": {},
   "outputs": [],
   "source": [
    "d1={'Ramesh':20,'Suresh':30,'Satish':40} \n",
    "d1['Ramesh']  # 20\n",
    "d1['Suresh']  # 30\n",
    "d1['Satish']  # 40\n",
    "\n",
    "i[d1]\n"
   ]
  },
  {
   "cell_type": "code",
   "execution_count": 148,
   "id": "d098ae52-5e4a-4e17-9c39-dd7cd84ec4e8",
   "metadata": {},
   "outputs": [
    {
     "name": "stdout",
     "output_type": "stream",
     "text": [
      "Ramesh 20\n",
      " Ramesh has age: 20\n",
      "Suresh 30\n",
      " Suresh has age: 30\n",
      "Satish 40\n",
      " Satish has age: 40\n"
     ]
    }
   ],
   "source": [
    "d1={'Ramesh':20,'Suresh':30,'Satish':40} \n",
    "for i in d1:\n",
    "    print(i,d1[i])\n",
    "    print(f\" {i} has age: {d1[i]}\")"
   ]
  },
  {
   "cell_type": "markdown",
   "id": "0866e542-ee4f-4c4e-954d-8fd88e536d09",
   "metadata": {},
   "source": [
    "- whenever we iterate dictionary using for loop in operator it will give keys\n",
    "- if want to get value we will acess through keys only\n",
    "- key will work as index"
   ]
  },
  {
   "cell_type": "code",
   "execution_count": 159,
   "id": "48022ae0-c787-42eb-9f57-87cc0c128789",
   "metadata": {},
   "outputs": [
    {
     "data": {
      "text/plain": [
       "'cherry'"
      ]
     },
     "execution_count": 159,
     "metadata": {},
     "output_type": "execute_result"
    }
   ],
   "source": [
    "d1={'Fruites':['Apple','Banana','cherry']}\n",
    "d1['Fruites'][2]"
   ]
  },
  {
   "cell_type": "code",
   "execution_count": 161,
   "id": "642a8ff8-010f-4021-bff1-b63942ef8477",
   "metadata": {},
   "outputs": [
    {
     "data": {
      "text/plain": [
       "{'Fruites': {'Apple': ['sweet', 'Green', 'custred']}}"
      ]
     },
     "execution_count": 161,
     "metadata": {},
     "output_type": "execute_result"
    }
   ],
   "source": [
    "d1={'Fruites':{'Apple':['sweet','Green','custred']}}\n",
    "d1"
   ]
  },
  {
   "cell_type": "code",
   "execution_count": 163,
   "id": "e0284708-d41a-47e0-9d57-1b322158f459",
   "metadata": {},
   "outputs": [
    {
     "data": {
      "text/plain": [
       "{'Apple': ['sweet', 'Green', 'custred']}"
      ]
     },
     "execution_count": 163,
     "metadata": {},
     "output_type": "execute_result"
    }
   ],
   "source": [
    "d1['Fruites']"
   ]
  },
  {
   "cell_type": "code",
   "execution_count": 167,
   "id": "4988e403-3e58-4d9b-9170-017b6de15d1a",
   "metadata": {},
   "outputs": [
    {
     "data": {
      "text/plain": [
       "'Green'"
      ]
     },
     "execution_count": 167,
     "metadata": {},
     "output_type": "execute_result"
    }
   ],
   "source": [
    "d1['Fruites']['Apple'][1]"
   ]
  },
  {
   "cell_type": "code",
   "execution_count": 169,
   "id": "73faea50-761b-4eed-9e4d-3cc8218bcd0e",
   "metadata": {},
   "outputs": [
    {
     "data": {
      "text/plain": [
       "{'Fruites': [{'cost': [100, 200, 300]}]}"
      ]
     },
     "execution_count": 169,
     "metadata": {},
     "output_type": "execute_result"
    }
   ],
   "source": [
    "d1={'Fruites':[{'cost':[100,200,300]}]}\n",
    "d1"
   ]
  },
  {
   "cell_type": "code",
   "execution_count": 181,
   "id": "94238e65-d14d-41ff-af31-051fcc58fd21",
   "metadata": {},
   "outputs": [
    {
     "data": {
      "text/plain": [
       "300"
      ]
     },
     "execution_count": 181,
     "metadata": {},
     "output_type": "execute_result"
    }
   ],
   "source": [
    "d1['Fruites'][0]['cost'][2]"
   ]
  },
  {
   "cell_type": "code",
   "execution_count": 183,
   "id": "3b28068b-b7fe-4158-b64e-ad5b047e8acf",
   "metadata": {},
   "outputs": [
    {
     "data": {
      "text/plain": [
       "{'Fruites': ['Apple'], 'cost': [{'1kg': [300, 500], '2kg': ['None']}]}"
      ]
     },
     "execution_count": 183,
     "metadata": {},
     "output_type": "execute_result"
    }
   ],
   "source": [
    "d1={'Fruites':['Apple'],'cost':[{'1kg':[300,500],'2kg':['None']}]}\n",
    "d1"
   ]
  },
  {
   "cell_type": "code",
   "execution_count": 189,
   "id": "f67a3073-6f8a-4ab6-b194-3bc491e6570b",
   "metadata": {},
   "outputs": [
    {
     "data": {
      "text/plain": [
       "'None'"
      ]
     },
     "execution_count": 189,
     "metadata": {},
     "output_type": "execute_result"
    }
   ],
   "source": [
    "d1['cost'][0]['2kg'][0]"
   ]
  },
  {
   "cell_type": "code",
   "execution_count": 191,
   "id": "d2b4ac1b-5453-4af1-9a99-8f6b6f5ec292",
   "metadata": {},
   "outputs": [
    {
     "data": {
      "text/plain": [
       "{'Fruites': {'Mango': {'Nagpur': {'MH': {'King': {'Shivaji': {'Shambaji'}}}}}}}"
      ]
     },
     "execution_count": 191,
     "metadata": {},
     "output_type": "execute_result"
    }
   ],
   "source": [
    "d1={'Fruites':{'Mango':{'Nagpur':{'MH':{'King':{'Shivaji':{'Shambaji'}}}}}}}\n",
    "d1"
   ]
  },
  {
   "cell_type": "code",
   "execution_count": 205,
   "id": "2ab121bf-4da0-432f-ba04-a0f6518fff08",
   "metadata": {},
   "outputs": [
    {
     "data": {
      "text/plain": [
       "{'Shambaji'}"
      ]
     },
     "execution_count": 205,
     "metadata": {},
     "output_type": "execute_result"
    }
   ],
   "source": [
    "d1['Fruites']['Mango']['Nagpur']['MH']['King']['Shivaji']"
   ]
  },
  {
   "cell_type": "code",
   "execution_count": 207,
   "id": "889c5bfa-70ea-4aea-9a98-8dccfbf78775",
   "metadata": {},
   "outputs": [
    {
     "data": {
      "text/plain": [
       "['__class__',\n",
       " '__class_getitem__',\n",
       " '__contains__',\n",
       " '__delattr__',\n",
       " '__delitem__',\n",
       " '__dir__',\n",
       " '__doc__',\n",
       " '__eq__',\n",
       " '__format__',\n",
       " '__ge__',\n",
       " '__getattribute__',\n",
       " '__getitem__',\n",
       " '__getstate__',\n",
       " '__gt__',\n",
       " '__hash__',\n",
       " '__init__',\n",
       " '__init_subclass__',\n",
       " '__ior__',\n",
       " '__iter__',\n",
       " '__le__',\n",
       " '__len__',\n",
       " '__lt__',\n",
       " '__ne__',\n",
       " '__new__',\n",
       " '__or__',\n",
       " '__reduce__',\n",
       " '__reduce_ex__',\n",
       " '__repr__',\n",
       " '__reversed__',\n",
       " '__ror__',\n",
       " '__setattr__',\n",
       " '__setitem__',\n",
       " '__sizeof__',\n",
       " '__str__',\n",
       " '__subclasshook__',\n",
       " 'clear',\n",
       " 'copy',\n",
       " 'fromkeys',\n",
       " 'get',\n",
       " 'items',\n",
       " 'keys',\n",
       " 'pop',\n",
       " 'popitem',\n",
       " 'setdefault',\n",
       " 'update',\n",
       " 'values']"
      ]
     },
     "execution_count": 207,
     "metadata": {},
     "output_type": "execute_result"
    }
   ],
   "source": [
    "dir({})"
   ]
  },
  {
   "cell_type": "code",
   "execution_count": null,
   "id": "b9a67075-aa91-41e9-959d-968f2652b099",
   "metadata": {},
   "outputs": [],
   "source": [
    "'clear',\n",
    " 'copy',\n",
    " 'fromkeys',\n",
    " 'get',\n",
    " 'items',\n",
    " 'keys',\n",
    " 'pop',\n",
    " 'popitem',\n",
    " 'setdefault',\n",
    " 'update',\n",
    " 'values']\n",
    "\n",
    "clear\n",
    "copy\n",
    "items\n",
    "values\n",
    "keys\n",
    "get\n",
    "pop"
   ]
  },
  {
   "cell_type": "markdown",
   "id": "782d397d-918a-4b26-991b-087da9520e46",
   "metadata": {},
   "source": [
    "**how to convert list to Dictionary**"
   ]
  },
  {
   "cell_type": "code",
   "execution_count": 2,
   "id": "212565d3-c271-4083-ab42-f309547d835a",
   "metadata": {},
   "outputs": [
    {
     "name": "stdout",
     "output_type": "stream",
     "text": [
      "Ramesh 20\n",
      "Suresh 30\n",
      "Satish 40\n"
     ]
    }
   ],
   "source": [
    "names=['Ramesh','Suresh','Satish']\n",
    "age=[20,30,40]\n",
    "for i ,j in zip(names,age):\n",
    "    print(i,j)\n"
   ]
  },
  {
   "cell_type": "code",
   "execution_count": 20,
   "id": "e9d5f0f8-8caf-4aec-82b1-710e77bbb02f",
   "metadata": {},
   "outputs": [
    {
     "data": {
      "text/plain": [
       "{'Ramesh': 20, 'Suresh': 30, 'Satish': 40}"
      ]
     },
     "execution_count": 20,
     "metadata": {},
     "output_type": "execute_result"
    }
   ],
   "source": [
    "names=['Ramesh','Suresh','Satish']\n",
    "age=[20,30,40]\n",
    "dict1={}\n",
    "for i,j in zip(names,age):\n",
    "    dict1[i]=j\n",
    "dict1    "
   ]
  },
  {
   "cell_type": "code",
   "execution_count": null,
   "id": "fd3367ed-77a0-4931-a24f-760a5587588b",
   "metadata": {},
   "outputs": [],
   "source": [
    "# Strings to List\n",
    "# list to strings\n",
    "# list to dictionary\n",
    "# dict to list"
   ]
  },
  {
   "cell_type": "markdown",
   "id": "ec903bd0-b8cd-4b7f-a12c-08ce5c9dc28e",
   "metadata": {},
   "source": [
    "**How to convert dictionary to list**"
   ]
  },
  {
   "cell_type": "code",
   "execution_count": 35,
   "id": "0b0c155c-ec6e-4119-9f48-41a50ba3ca88",
   "metadata": {},
   "outputs": [
    {
     "data": {
      "text/plain": [
       "(['Ramesh', 'Suresh', 'Satish'], [20, 30, 40])"
      ]
     },
     "execution_count": 35,
     "metadata": {},
     "output_type": "execute_result"
    }
   ],
   "source": [
    "d={'Ramesh': 20, 'Suresh': 30, 'Satish': 40}\n",
    "\n",
    "# iterate it i print i=====> key\n",
    "# using key how to get value\n",
    "# take two empty list and operand it\n",
    "keys,values=[],[]\n",
    "for key in d:\n",
    "    keys.append(key)\n",
    "    values.append(d[key])\n",
    "keys,values    "
   ]
  },
  {
   "cell_type": "code",
   "execution_count": null,
   "id": "f9ea5275-6570-47d3-b38c-626295af9841",
   "metadata": {},
   "outputs": [],
   "source": [
    "how to convert list to Dictionary\n",
    "\n",
    "names=['Ramesh','Suresh','Satish']\n",
    "age=[20,30,40]\n",
    "dict1={}\n",
    "for i,j in zip(names,age):\n",
    "    dict1[i]=j\n",
    "dict1    \n",
    "##############################################\n",
    "How to convert dictionary to list\n",
    "\n",
    "d={'Ramesh': 20, 'Suresh': 30, 'Satish': 40}\n",
    "keys,values=[],[]\n",
    "for key in d:\n",
    "    keys.append(key)\n",
    "    values.append(d[key])\n",
    "keys,values    "
   ]
  },
  {
   "cell_type": "code",
   "execution_count": 37,
   "id": "19ffc185-1759-4b2e-af0a-e6cbc5543a45",
   "metadata": {},
   "outputs": [
    {
     "data": {
      "text/plain": [
       "[0, 1, 2, 3, 4, 5, 6, 7, 8, 9]"
      ]
     },
     "execution_count": 37,
     "metadata": {},
     "output_type": "execute_result"
    }
   ],
   "source": [
    "l=[i for i in range(10)]\n",
    "l"
   ]
  },
  {
   "cell_type": "code",
   "execution_count": 7,
   "id": "c37670f0-b627-410d-a435-a1bfc48f7f81",
   "metadata": {},
   "outputs": [
    {
     "data": {
      "text/plain": [
       "(['Ramesh', 'Suresh', 'Satish'], [20, 30, 40])"
      ]
     },
     "execution_count": 7,
     "metadata": {},
     "output_type": "execute_result"
    }
   ],
   "source": [
    "d={'Ramesh': 20, 'Suresh': 30, 'Satish': 40}\n",
    "keys=[key for key in d]\n",
    "values=[d[key] for key in d]\n",
    "keys,values"
   ]
  },
  {
   "cell_type": "markdown",
   "id": "0eb6e248-8567-4ecf-9654-38f56a95d367",
   "metadata": {},
   "source": [
    "**dictionary Comprehension**"
   ]
  },
  {
   "cell_type": "code",
   "execution_count": 13,
   "id": "ddb724e6-c015-47a8-ad14-2a29b60705d8",
   "metadata": {},
   "outputs": [
    {
     "data": {
      "text/plain": [
       "{'Ramesh': 20, 'Suresh': 30, 'Satish': 40}"
      ]
     },
     "execution_count": 13,
     "metadata": {},
     "output_type": "execute_result"
    }
   ],
   "source": [
    "names=['Ramesh','Suresh','Satish']\n",
    "age=[20,30,40]\n",
    "\n",
    "{i:j for i,j in zip(names,age)}"
   ]
  },
  {
   "cell_type": "code",
   "execution_count": 17,
   "id": "9ecc2e9c-ff73-4a41-bc05-d51eaec880e0",
   "metadata": {},
   "outputs": [
    {
     "data": {
      "text/plain": [
       "{'Ramesh': 20, 'Suresh': 30, 'Satish': 40}"
      ]
     },
     "execution_count": 17,
     "metadata": {},
     "output_type": "execute_result"
    }
   ],
   "source": [
    "d={keys:values for keys,values in zip(names,age)}\n",
    "d"
   ]
  },
  {
   "cell_type": "markdown",
   "id": "74d2fa1a-4ea6-4b0d-ac49-7a83dd4e3e67",
   "metadata": {},
   "source": [
    "**Mutable-immutable**\n",
    "- List are Mutable\n",
    "- Strings are immutable\n",
    "- Tuple are immutable\n",
    "- dictionary are mutable we can modify the value of a dictionary"
   ]
  },
  {
   "cell_type": "code",
   "execution_count": 23,
   "id": "59e2dc35-8541-41b4-9855-afb58fd35056",
   "metadata": {},
   "outputs": [
    {
     "data": {
      "text/plain": [
       "{'Ramesh': 40, 'Suresh': 30, 'Satish': 40}"
      ]
     },
     "execution_count": 23,
     "metadata": {},
     "output_type": "execute_result"
    }
   ],
   "source": [
    "d={'Ramesh': 20, 'Suresh': 30, 'Satish': 40}\n",
    "d['Ramesh']=40\n",
    "d"
   ]
  },
  {
   "cell_type": "markdown",
   "id": "42da697a-f645-491f-a833-f3485d6131d5",
   "metadata": {},
   "source": [
    "- dictionary is similar to database operations\n",
    "- keys always unique but values can be change"
   ]
  },
  {
   "cell_type": "markdown",
   "id": "2a776a8c-fe34-4474-b1da-284eac562c8a",
   "metadata": {},
   "source": [
    "**concatenation**"
   ]
  },
  {
   "cell_type": "code",
   "execution_count": 30,
   "id": "04153bd4-933d-42bc-9c8d-97471c870edf",
   "metadata": {},
   "outputs": [
    {
     "ename": "TypeError",
     "evalue": "unsupported operand type(s) for +: 'dict' and 'dict'",
     "output_type": "error",
     "traceback": [
      "\u001b[1;31m---------------------------------------------------------------------------\u001b[0m",
      "\u001b[1;31mTypeError\u001b[0m                                 Traceback (most recent call last)",
      "Cell \u001b[1;32mIn[30], line 3\u001b[0m\n\u001b[0;32m      1\u001b[0m d1\u001b[38;5;241m=\u001b[39m{\u001b[38;5;124m'\u001b[39m\u001b[38;5;124mRamesh\u001b[39m\u001b[38;5;124m'\u001b[39m:\u001b[38;5;241m20\u001b[39m}\n\u001b[0;32m      2\u001b[0m d2\u001b[38;5;241m=\u001b[39m{\u001b[38;5;124m'\u001b[39m\u001b[38;5;124mFruit\u001b[39m\u001b[38;5;124m'\u001b[39m:\u001b[38;5;124m'\u001b[39m\u001b[38;5;124mApple\u001b[39m\u001b[38;5;124m'\u001b[39m}\n\u001b[1;32m----> 3\u001b[0m d1\u001b[38;5;241m+\u001b[39md2\n",
      "\u001b[1;31mTypeError\u001b[0m: unsupported operand type(s) for +: 'dict' and 'dict'"
     ]
    }
   ],
   "source": [
    "d1={'Ramesh':20}\n",
    "d2={'Fruit':'Apple'}\n",
    "d1+d2"
   ]
  },
  {
   "cell_type": "markdown",
   "id": "383d7c7c-b474-4a87-8417-b5eecb76064a",
   "metadata": {},
   "source": [
    "**items-values-keys**"
   ]
  },
  {
   "cell_type": "code",
   "execution_count": 36,
   "id": "9680b509-0ac2-4680-9d70-c88b5afce8c5",
   "metadata": {},
   "outputs": [
    {
     "data": {
      "text/plain": [
       "dict_items([('Ramesh', 20), ('Suresh', 30), ('Satish', 40)])"
      ]
     },
     "execution_count": 36,
     "metadata": {},
     "output_type": "execute_result"
    }
   ],
   "source": [
    "d={'Ramesh': 20, 'Suresh': 30, 'Satish': 40}\n",
    "d.items()"
   ]
  },
  {
   "cell_type": "code",
   "execution_count": 44,
   "id": "8fc33a6e-05e2-4a6d-9b34-c37a74df84f4",
   "metadata": {},
   "outputs": [
    {
     "data": {
      "text/plain": [
       "dict_values([20, 30, 40])"
      ]
     },
     "execution_count": 44,
     "metadata": {},
     "output_type": "execute_result"
    }
   ],
   "source": [
    "d={'Ramesh': 20, 'Suresh': 30, 'Satish': 40}\n",
    "d.values()"
   ]
  },
  {
   "cell_type": "code",
   "execution_count": 42,
   "id": "d42233ad-2e15-45de-ac20-2e770cdeed3a",
   "metadata": {},
   "outputs": [
    {
     "data": {
      "text/plain": [
       "dict_keys(['Ramesh', 'Suresh', 'Satish'])"
      ]
     },
     "execution_count": 42,
     "metadata": {},
     "output_type": "execute_result"
    }
   ],
   "source": [
    "d={'Ramesh': 20, 'Suresh': 30, 'Satish': 40}\n",
    "d.keys()"
   ]
  },
  {
   "cell_type": "code",
   "execution_count": 50,
   "id": "44305ae4-0304-405b-9378-131f99817bf2",
   "metadata": {},
   "outputs": [
    {
     "data": {
      "text/plain": [
       "dict_keys"
      ]
     },
     "execution_count": 50,
     "metadata": {},
     "output_type": "execute_result"
    }
   ],
   "source": [
    "d={'Ramesh': 20, 'Suresh': 30, 'Satish': 40}\n",
    "keys=d.keys()\n",
    "type(keys),keys"
   ]
  },
  {
   "cell_type": "code",
   "execution_count": 52,
   "id": "931ec13d-9c95-4462-84e1-89d0fb420a39",
   "metadata": {},
   "outputs": [
    {
     "data": {
      "text/plain": [
       "3"
      ]
     },
     "execution_count": 52,
     "metadata": {},
     "output_type": "execute_result"
    }
   ],
   "source": [
    "len(keys)"
   ]
  },
  {
   "cell_type": "code",
   "execution_count": 54,
   "id": "7c91166e-f4a2-4b13-a515-bbe4e0d2a66f",
   "metadata": {},
   "outputs": [
    {
     "ename": "TypeError",
     "evalue": "'dict_keys' object is not subscriptable",
     "output_type": "error",
     "traceback": [
      "\u001b[1;31m---------------------------------------------------------------------------\u001b[0m",
      "\u001b[1;31mTypeError\u001b[0m                                 Traceback (most recent call last)",
      "Cell \u001b[1;32mIn[54], line 1\u001b[0m\n\u001b[1;32m----> 1\u001b[0m keys[\u001b[38;5;241m0\u001b[39m]\n",
      "\u001b[1;31mTypeError\u001b[0m: 'dict_keys' object is not subscriptable"
     ]
    }
   ],
   "source": [
    "keys[0]"
   ]
  },
  {
   "cell_type": "markdown",
   "id": "0f18e16e-fb1f-4877-bc7f-22c44570f504",
   "metadata": {},
   "source": [
    "- dict_keys is a type of keys represented in alist\n",
    "- it is looks like **list** but not list\n",
    "- we can not use list methods here\n",
    "- for that we need to convert dict_keys to list"
   ]
  },
  {
   "cell_type": "code",
   "execution_count": 62,
   "id": "5779b49f-076a-42fe-8c1b-9113b78295d0",
   "metadata": {},
   "outputs": [
    {
     "data": {
      "text/plain": [
       "['Ramesh', 'Suresh', 'Satish']"
      ]
     },
     "execution_count": 62,
     "metadata": {},
     "output_type": "execute_result"
    }
   ],
   "source": [
    "d={'Ramesh': 20, 'Suresh': 30, 'Satish': 40}\n",
    "keys=d.keys() # dict_keys type\n",
    "list(keys)  # list type"
   ]
  },
  {
   "cell_type": "code",
   "execution_count": 64,
   "id": "d8bf8b46-3d63-42f4-81d1-99a1acc233c0",
   "metadata": {},
   "outputs": [
    {
     "data": {
      "text/plain": [
       "[20, 30, 40]"
      ]
     },
     "execution_count": 64,
     "metadata": {},
     "output_type": "execute_result"
    }
   ],
   "source": [
    "d={'Ramesh': 20, 'Suresh': 30, 'Satish': 40}\n",
    "values=d.values() # dict_values type\n",
    "list(values)  # list type"
   ]
  },
  {
   "cell_type": "code",
   "execution_count": 66,
   "id": "90c2ddd2-f51d-42cc-ad99-019cdb2fdaf4",
   "metadata": {},
   "outputs": [
    {
     "data": {
      "text/plain": [
       "[('Ramesh', 20), ('Suresh', 30), ('Satish', 40)]"
      ]
     },
     "execution_count": 66,
     "metadata": {},
     "output_type": "execute_result"
    }
   ],
   "source": [
    "d={'Ramesh': 20, 'Suresh': 30, 'Satish': 40}\n",
    "items=d.items() # dict_items type\n",
    "list(items)  # list type"
   ]
  },
  {
   "cell_type": "code",
   "execution_count": null,
   "id": "b5e45493-3935-4e5e-9a01-f00a39dbb6ba",
   "metadata": {},
   "outputs": [],
   "source": [
    "**for loop**\n",
    "d={'Ramesh': 20, 'Suresh': 30, 'Satish': 40}\n",
    "keys,values=[],[]\n",
    "for key in d:\n",
    "    keys.append(key)\n",
    "    values.append(d[key])\n",
    "keys,values  \n",
    "#####################################################\n",
    "**list comprehension**\n",
    "d={'Ramesh': 20, 'Suresh': 30, 'Satish': 40}\n",
    "keys=[key for key in d]\n",
    "values=[d[key] for key in d]\n",
    "keys,values\n",
    "####################################################\n",
    "**Methods**\n",
    "d={'Ramesh': 20, 'Suresh': 30, 'Satish': 40}\n",
    "keys=list(d.keys())  # without methods\n",
    "values=list(d.values()) # with nethods\n"
   ]
  },
  {
   "cell_type": "code",
   "execution_count": 68,
   "id": "ad34e54e-e47e-4751-8cf4-df76beecc6d1",
   "metadata": {},
   "outputs": [
    {
     "data": {
      "text/plain": [
       "{'ramesh': '20', 'suresh': '30', 'satish': '40'}"
      ]
     },
     "execution_count": 68,
     "metadata": {},
     "output_type": "execute_result"
    }
   ],
   "source": [
    "d={'Ramesh': 20, 'Suresh': 30, 'Satish': 40}\n",
    "keys=[i.lower() for i in list(d.keys())]  # list-string-list-dictionary\n",
    "values=[str(i) for i in list(d.values())]\n",
    "{key:value for key,value in zip(keys,values)}"
   ]
  },
  {
   "cell_type": "markdown",
   "id": "589879fc-7fdf-43d4-b1bf-9f03f7333995",
   "metadata": {},
   "source": [
    "**get-method**"
   ]
  },
  {
   "cell_type": "code",
   "execution_count": 77,
   "id": "b6271cc1-c2c7-4715-8419-40082e9363cf",
   "metadata": {},
   "outputs": [
    {
     "data": {
      "text/plain": [
       "20"
      ]
     },
     "execution_count": 77,
     "metadata": {},
     "output_type": "execute_result"
    }
   ],
   "source": [
    "d={'Ramesh': 20, 'Suresh': 30, 'Satish': 40}\n",
    "d.get('Ramesh')"
   ]
  },
  {
   "cell_type": "code",
   "execution_count": 79,
   "id": "d6d11f1f-e6a6-4202-84f9-a9030c3d1bf7",
   "metadata": {},
   "outputs": [],
   "source": [
    "d.get('Ram')"
   ]
  },
  {
   "cell_type": "code",
   "execution_count": 83,
   "id": "98758344-0d50-4ee3-9fb4-ae162c50b307",
   "metadata": {},
   "outputs": [
    {
     "ename": "KeyError",
     "evalue": "'Ram'",
     "output_type": "error",
     "traceback": [
      "\u001b[1;31m---------------------------------------------------------------------------\u001b[0m",
      "\u001b[1;31mKeyError\u001b[0m                                  Traceback (most recent call last)",
      "Cell \u001b[1;32mIn[83], line 2\u001b[0m\n\u001b[0;32m      1\u001b[0m d[\u001b[38;5;124m'\u001b[39m\u001b[38;5;124mRamesh\u001b[39m\u001b[38;5;124m'\u001b[39m]\n\u001b[1;32m----> 2\u001b[0m d[\u001b[38;5;124m'\u001b[39m\u001b[38;5;124mRam\u001b[39m\u001b[38;5;124m'\u001b[39m]\n",
      "\u001b[1;31mKeyError\u001b[0m: 'Ram'"
     ]
    }
   ],
   "source": [
    "d['Ramesh'] # ans\n",
    "d['Ram']    # error"
   ]
  },
  {
   "cell_type": "code",
   "execution_count": null,
   "id": "2cc65f2c-ebdc-4224-8865-10faf8682c74",
   "metadata": {},
   "outputs": [],
   "source": [
    "###############Methods######################\n",
    "d={'Ramesh': 20, 'Suresh': 30, 'Satish': 40}\n",
    "d.get('Ramesh') # ans\n",
    "d.get('r')      # no error - no ans\n",
    "###########################################\n",
    "d['Ramesh'] # normal way\n",
    "d['Ram']  #error"
   ]
  },
  {
   "cell_type": "markdown",
   "id": "dbf1365d-a2ab-4880-aa05-a65e6dee9fe9",
   "metadata": {},
   "source": [
    "**Update**"
   ]
  },
  {
   "cell_type": "code",
   "execution_count": 88,
   "id": "a78083b0-a43e-4808-9c2a-d9b5baee1343",
   "metadata": {},
   "outputs": [
    {
     "data": {
      "text/plain": [
       "{'Ramesh': 20, 'Suresh': 30, 'Satish': 40, 'Fruits': 'Apple'}"
      ]
     },
     "execution_count": 88,
     "metadata": {},
     "output_type": "execute_result"
    }
   ],
   "source": [
    "d={'Ramesh': 20, 'Suresh': 30, 'Satish': 40}\n",
    "d1={'Fruits':'Apple'}\n",
    "d.update(d1)\n",
    "d"
   ]
  },
  {
   "cell_type": "code",
   "execution_count": 100,
   "id": "f4c3b8f9-b73b-464c-b6df-e018e7f64dd7",
   "metadata": {},
   "outputs": [
    {
     "data": {
      "text/plain": [
       "{'Ramesh': 20, 'Suresh': 30, 'Satish': 40, 'Fruits': 'Apple', 'Apple': 200}"
      ]
     },
     "execution_count": 100,
     "metadata": {},
     "output_type": "execute_result"
    }
   ],
   "source": [
    "d.update(Apple=200)\n",
    "d"
   ]
  },
  {
   "cell_type": "code",
   "execution_count": 110,
   "id": "d68044a2-1274-4400-8cff-e34f86de6e52",
   "metadata": {},
   "outputs": [
    {
     "data": {
      "text/plain": [
       "dict_items([('Ramesh', 20), ('Suresh', 30), ('Satish', 40), ('Fruits', 'Apple'), ('Apple', 200), (200, 'Marks')])"
      ]
     },
     "execution_count": 110,
     "metadata": {},
     "output_type": "execute_result"
    }
   ],
   "source": [
    "d.update(Apple=200)\n",
    "d.items()"
   ]
  },
  {
   "cell_type": "code",
   "execution_count": 118,
   "id": "1b1f841b-ddb6-4800-85c1-9e61eaafef04",
   "metadata": {},
   "outputs": [
    {
     "data": {
      "text/plain": [
       "{'Ramesh': 20,\n",
       " 'Suresh': 30,\n",
       " 'Satish': 40,\n",
       " 'Fruits': 'Apple',\n",
       " 'Apple': 200,\n",
       " 200: 'Marks'}"
      ]
     },
     "execution_count": 118,
     "metadata": {},
     "output_type": "execute_result"
    }
   ],
   "source": [
    "d.update([(200,'Marks')])\n",
    "d"
   ]
  },
  {
   "cell_type": "code",
   "execution_count": 122,
   "id": "e882b6b2-e216-4768-b884-6db3c2bf78e1",
   "metadata": {},
   "outputs": [
    {
     "data": {
      "text/plain": [
       "{'Ramesh': 20,\n",
       " 'Suresh': 30,\n",
       " 'Satish': 40,\n",
       " 'Fruits': 'Apple',\n",
       " 'Apple': 200,\n",
       " 200: 'Marks'}"
      ]
     },
     "execution_count": 122,
     "metadata": {},
     "output_type": "execute_result"
    }
   ],
   "source": [
    "t=(200,'Marks')\n",
    "l=[t] # t means Tuple\n",
    "d.update([(200,'Marks')])\n",
    "d"
   ]
  },
  {
   "cell_type": "markdown",
   "id": "5b10eb51-65e1-455d-98b1-26fbdb514cb0",
   "metadata": {},
   "source": [
    "- concatenate of two dictionary fails\n",
    "- but we can combine two dictionarys using update method"
   ]
  },
  {
   "cell_type": "code",
   "execution_count": 127,
   "id": "ed1da7b4-bb74-4ef7-97f6-34d464192f24",
   "metadata": {},
   "outputs": [
    {
     "data": {
      "text/plain": [
       "{'Ramesh': 20,\n",
       " 'Suresh': 30,\n",
       " 'Satish': 40,\n",
       " 'Fruits': 'Apple',\n",
       " 'Apple': 200,\n",
       " 200: 'Marks'}"
      ]
     },
     "execution_count": 127,
     "metadata": {},
     "output_type": "execute_result"
    }
   ],
   "source": [
    "d={'Ramesh': 20, 'Suresh': 30, 'Satish': 40}\n",
    "d1={'Fruits':'Apple'}\n",
    "d.update(d1)    # dict in dict \n",
    "d.update(Apple=200)   # key= value\n",
    "d.update([(200,'Marks')]) # list of tuple \n",
    "d"
   ]
  },
  {
   "cell_type": "markdown",
   "id": "c21a0977-ef4e-40c8-a716-0deaf99e3166",
   "metadata": {},
   "source": [
    "**pop-popitem**"
   ]
  },
  {
   "cell_type": "code",
   "execution_count": 133,
   "id": "58d080bf-1abd-4629-92d5-869efdf9b61b",
   "metadata": {},
   "outputs": [
    {
     "data": {
      "text/plain": [
       "20"
      ]
     },
     "execution_count": 133,
     "metadata": {},
     "output_type": "execute_result"
    }
   ],
   "source": [
    "d={'Ramesh': 20, 'Suresh': 30, 'Satish': 40}\n",
    "d.pop('Ramesh')\n"
   ]
  },
  {
   "cell_type": "code",
   "execution_count": 135,
   "id": "23d93759-9dab-4fa3-ab4f-f42edd6e78d9",
   "metadata": {},
   "outputs": [
    {
     "data": {
      "text/plain": [
       "{'Suresh': 30, 'Satish': 40}"
      ]
     },
     "execution_count": 135,
     "metadata": {},
     "output_type": "execute_result"
    }
   ],
   "source": [
    "d"
   ]
  },
  {
   "cell_type": "code",
   "execution_count": 137,
   "id": "0ac1e712-9431-4437-bb88-976def7680b7",
   "metadata": {},
   "outputs": [
    {
     "ename": "KeyError",
     "evalue": "'r'",
     "output_type": "error",
     "traceback": [
      "\u001b[1;31m---------------------------------------------------------------------------\u001b[0m",
      "\u001b[1;31mKeyError\u001b[0m                                  Traceback (most recent call last)",
      "Cell \u001b[1;32mIn[137], line 2\u001b[0m\n\u001b[0;32m      1\u001b[0m d\u001b[38;5;241m=\u001b[39m{\u001b[38;5;124m'\u001b[39m\u001b[38;5;124mRamesh\u001b[39m\u001b[38;5;124m'\u001b[39m: \u001b[38;5;241m20\u001b[39m, \u001b[38;5;124m'\u001b[39m\u001b[38;5;124mSuresh\u001b[39m\u001b[38;5;124m'\u001b[39m: \u001b[38;5;241m30\u001b[39m, \u001b[38;5;124m'\u001b[39m\u001b[38;5;124mSatish\u001b[39m\u001b[38;5;124m'\u001b[39m: \u001b[38;5;241m40\u001b[39m}\n\u001b[1;32m----> 2\u001b[0m d\u001b[38;5;241m.\u001b[39mpop(\u001b[38;5;124m'\u001b[39m\u001b[38;5;124mr\u001b[39m\u001b[38;5;124m'\u001b[39m)\n",
      "\u001b[1;31mKeyError\u001b[0m: 'r'"
     ]
    }
   ],
   "source": [
    "d={'Ramesh': 20, 'Suresh': 30, 'Satish': 40}\n",
    "d.pop('r')"
   ]
  },
  {
   "cell_type": "code",
   "execution_count": 145,
   "id": "b29c5400-f1b7-40ae-aeb7-e6ee4f3a6afe",
   "metadata": {},
   "outputs": [
    {
     "data": {
      "text/plain": [
       "333"
      ]
     },
     "execution_count": 145,
     "metadata": {},
     "output_type": "execute_result"
    }
   ],
   "source": [
    "l=[100,200,333,444]\n",
    "l.pop(2)  #index"
   ]
  },
  {
   "cell_type": "markdown",
   "id": "7f5f9781-4ff8-4e6c-a678-cf37d5752d9a",
   "metadata": {},
   "source": [
    "**remove**"
   ]
  },
  {
   "cell_type": "code",
   "execution_count": 150,
   "id": "68d2b6fc-4662-4c9f-bb22-669a6be9955b",
   "metadata": {},
   "outputs": [
    {
     "data": {
      "text/plain": [
       "[100, 200, 444]"
      ]
     },
     "execution_count": 150,
     "metadata": {},
     "output_type": "execute_result"
    }
   ],
   "source": [
    "l=[100,200,333,444]\n",
    "l.remove(333)\n",
    "l"
   ]
  },
  {
   "cell_type": "code",
   "execution_count": 154,
   "id": "c9b715d2-7a25-4c61-a1cb-f6f53ba7df53",
   "metadata": {},
   "outputs": [
    {
     "data": {
      "text/plain": [
       "('Satish', 40)"
      ]
     },
     "execution_count": 154,
     "metadata": {},
     "output_type": "execute_result"
    }
   ],
   "source": [
    "d={'Ramesh': 20, 'Suresh': 30, 'Satish': 40}\n",
    "d.popitem()"
   ]
  },
  {
   "cell_type": "code",
   "execution_count": 156,
   "id": "30aa4411-f123-437d-a3f7-44bad8b076aa",
   "metadata": {},
   "outputs": [
    {
     "data": {
      "text/plain": [
       "{'Ramesh': 20, 'Suresh': 30}"
      ]
     },
     "execution_count": 156,
     "metadata": {},
     "output_type": "execute_result"
    }
   ],
   "source": [
    "d"
   ]
  },
  {
   "cell_type": "markdown",
   "id": "7f42339f-c22f-4d54-9204-e4bc85e87ceb",
   "metadata": {},
   "source": [
    "- pop will except a key, corresponding value will be removed\n",
    "  - pop will return the **value which is removing**\n",
    "- pop item has no arguments, last key-value pair will be removed \n",
    "  - pop item return last **key-value pair**"
   ]
  },
  {
   "cell_type": "markdown",
   "id": "04a2e5bf-da3e-495f-abf4-0c84e69813cf",
   "metadata": {},
   "source": [
    "**Del**\n",
    "- del means delete"
   ]
  },
  {
   "cell_type": "code",
   "execution_count": 165,
   "id": "bbb62363-d83e-4d04-895e-d7434142e7c6",
   "metadata": {},
   "outputs": [
    {
     "data": {
      "text/plain": [
       "[200, 333, 444]"
      ]
     },
     "execution_count": 165,
     "metadata": {},
     "output_type": "execute_result"
    }
   ],
   "source": [
    "l=[100,200,333,444]\n",
    "del l[0]\n",
    "l"
   ]
  },
  {
   "cell_type": "code",
   "execution_count": 167,
   "id": "5ee94efa-78c0-4640-afb6-c80b84d7073c",
   "metadata": {},
   "outputs": [
    {
     "ename": "NameError",
     "evalue": "name 'l' is not defined",
     "output_type": "error",
     "traceback": [
      "\u001b[1;31m---------------------------------------------------------------------------\u001b[0m",
      "\u001b[1;31mNameError\u001b[0m                                 Traceback (most recent call last)",
      "Cell \u001b[1;32mIn[167], line 3\u001b[0m\n\u001b[0;32m      1\u001b[0m l\u001b[38;5;241m=\u001b[39m[\u001b[38;5;241m100\u001b[39m,\u001b[38;5;241m200\u001b[39m,\u001b[38;5;241m333\u001b[39m,\u001b[38;5;241m444\u001b[39m]\n\u001b[0;32m      2\u001b[0m \u001b[38;5;28;01mdel\u001b[39;00m l\n\u001b[1;32m----> 3\u001b[0m l\n",
      "\u001b[1;31mNameError\u001b[0m: name 'l' is not defined"
     ]
    }
   ],
   "source": [
    "l=[100,200,333,444]\n",
    "del l\n",
    "l"
   ]
  },
  {
   "cell_type": "code",
   "execution_count": 177,
   "id": "7a251e1b-4520-4e8a-9450-de3c73f4fcd8",
   "metadata": {},
   "outputs": [
    {
     "data": {
      "text/plain": [
       "{'Ramesh': 20, 'Satish': 40}"
      ]
     },
     "execution_count": 177,
     "metadata": {},
     "output_type": "execute_result"
    }
   ],
   "source": [
    "d={'Ramesh': 20, 'Suresh': 30, 'Satish': 40}\n",
    "del d['Suresh']\n",
    "d"
   ]
  },
  {
   "cell_type": "code",
   "execution_count": 185,
   "id": "b39d3ca2-a69b-4414-9e35-7653b75ca365",
   "metadata": {},
   "outputs": [
    {
     "data": {
      "text/plain": [
       "{'Satish': 40}"
      ]
     },
     "execution_count": 185,
     "metadata": {},
     "output_type": "execute_result"
    }
   ],
   "source": [
    "d={'Ramesh': 20, 'Suresh': 30, 'Satish': 40}\n",
    "del(d['Ramesh'])\n",
    "del d['Suresh']\n",
    "d"
   ]
  },
  {
   "cell_type": "code",
   "execution_count": 175,
   "id": "cd7cd7f3-6135-4263-a0a7-73e75ab3cc3b",
   "metadata": {},
   "outputs": [
    {
     "ename": "NameError",
     "evalue": "name 'd' is not defined",
     "output_type": "error",
     "traceback": [
      "\u001b[1;31m---------------------------------------------------------------------------\u001b[0m",
      "\u001b[1;31mNameError\u001b[0m                                 Traceback (most recent call last)",
      "Cell \u001b[1;32mIn[175], line 3\u001b[0m\n\u001b[0;32m      1\u001b[0m d\u001b[38;5;241m=\u001b[39m{\u001b[38;5;124m'\u001b[39m\u001b[38;5;124mRamesh\u001b[39m\u001b[38;5;124m'\u001b[39m: \u001b[38;5;241m20\u001b[39m, \u001b[38;5;124m'\u001b[39m\u001b[38;5;124mSuresh\u001b[39m\u001b[38;5;124m'\u001b[39m: \u001b[38;5;241m30\u001b[39m, \u001b[38;5;124m'\u001b[39m\u001b[38;5;124mSatish\u001b[39m\u001b[38;5;124m'\u001b[39m: \u001b[38;5;241m40\u001b[39m}\n\u001b[0;32m      2\u001b[0m \u001b[38;5;28;01mdel\u001b[39;00m d\n\u001b[1;32m----> 3\u001b[0m d\n",
      "\u001b[1;31mNameError\u001b[0m: name 'd' is not defined"
     ]
    }
   ],
   "source": [
    "d={'Ramesh': 20, 'Suresh': 30, 'Satish': 40}\n",
    "del d\n",
    "d"
   ]
  },
  {
   "cell_type": "code",
   "execution_count": null,
   "id": "72e8dade-2379-40e8-8551-b8a971b25d5c",
   "metadata": {},
   "outputs": [],
   "source": [
    "count in strings also in list\n",
    "index in strings also in list\n",
    "find in strings but not i list\n",
    "pop in list also in dictionary\n",
    "remove in list but in dictionary pop item \n",
    "concatenation in list====== extend in list\n",
    "access value using key in dict====== get method\n",
    "del for list and dictionary\n",
    "strings to list\n",
    "list to strings\n",
    "list to dictionary\n",
    "dictionary to list\n",
    "sorted and reversed for all data types"
   ]
  },
  {
   "cell_type": "code",
   "execution_count": 10,
   "id": "65c7166f-72fa-41a1-b25f-07c28f51467d",
   "metadata": {},
   "outputs": [
    {
     "data": {
      "text/plain": [
       "[120, 250, 480]"
      ]
     },
     "execution_count": 10,
     "metadata": {},
     "output_type": "execute_result"
    }
   ],
   "source": [
    "# del for list and dictionary\n",
    "l=[120,250,351,480]\n",
    "del l[2]\n",
    "l"
   ]
  },
  {
   "cell_type": "code",
   "execution_count": 16,
   "id": "1b8f2e0f-cf41-4166-ab06-decf93561e18",
   "metadata": {},
   "outputs": [
    {
     "ename": "NameError",
     "evalue": "name 'l' is not defined",
     "output_type": "error",
     "traceback": [
      "\u001b[1;31m---------------------------------------------------------------------------\u001b[0m",
      "\u001b[1;31mNameError\u001b[0m                                 Traceback (most recent call last)",
      "Cell \u001b[1;32mIn[16], line 2\u001b[0m\n\u001b[0;32m      1\u001b[0m \u001b[38;5;28;01mdel\u001b[39;00m l\n\u001b[1;32m----> 2\u001b[0m l\n",
      "\u001b[1;31mNameError\u001b[0m: name 'l' is not defined"
     ]
    }
   ],
   "source": [
    "del l\n",
    "l"
   ]
  },
  {
   "cell_type": "code",
   "execution_count": 20,
   "id": "cc2b5f25-d7dd-4a85-8c97-03398a4f810d",
   "metadata": {},
   "outputs": [
    {
     "data": {
      "text/plain": [
       "{'Ramesh': 20, 'Satish': 40}"
      ]
     },
     "execution_count": 20,
     "metadata": {},
     "output_type": "execute_result"
    }
   ],
   "source": [
    "d={'Ramesh': 20, 'Suresh': 30, 'Satish': 40}\n",
    "del d['Suresh']\n",
    "d"
   ]
  },
  {
   "cell_type": "code",
   "execution_count": 22,
   "id": "c3e0bdf2-66ef-4e49-ac12-0b413d00681a",
   "metadata": {},
   "outputs": [
    {
     "ename": "NameError",
     "evalue": "name 'd' is not defined",
     "output_type": "error",
     "traceback": [
      "\u001b[1;31m---------------------------------------------------------------------------\u001b[0m",
      "\u001b[1;31mNameError\u001b[0m                                 Traceback (most recent call last)",
      "Cell \u001b[1;32mIn[22], line 2\u001b[0m\n\u001b[0;32m      1\u001b[0m \u001b[38;5;28;01mdel\u001b[39;00m d\n\u001b[1;32m----> 2\u001b[0m d\n",
      "\u001b[1;31mNameError\u001b[0m: name 'd' is not defined"
     ]
    }
   ],
   "source": [
    "del d\n",
    "d"
   ]
  },
  {
   "cell_type": "code",
   "execution_count": 24,
   "id": "b5843520-6bea-49ec-8235-75e81a67e8c1",
   "metadata": {},
   "outputs": [
    {
     "data": {
      "text/plain": [
       "{'Ramesh': 20, 'Suresh': 30, 'Satish': 40}"
      ]
     },
     "execution_count": 24,
     "metadata": {},
     "output_type": "execute_result"
    }
   ],
   "source": [
    "# list to dictionary\n",
    "names=['Ramesh','Suresh','Satish']\n",
    "age=[20,30,40]\n",
    "dict1={}\n",
    "for i,j in zip(names,age):\n",
    "    dict1[i]=j\n",
    "dict1"
   ]
  },
  {
   "cell_type": "code",
   "execution_count": 34,
   "id": "1630f0ed-4652-4494-9b76-89d22860db1b",
   "metadata": {},
   "outputs": [
    {
     "data": {
      "text/plain": [
       "(['Ramesh', 'Suresh', 'Satish'], [20, 30, 40])"
      ]
     },
     "execution_count": 34,
     "metadata": {},
     "output_type": "execute_result"
    }
   ],
   "source": [
    "# dictionary to list\n",
    "d={'Ramesh': 20, 'Suresh': 30, 'Satish': 40}\n",
    "keys,values=[],[]\n",
    "for key in d:\n",
    "    keys.append(key)\n",
    "    values.append(d[key])\n",
    "keys,values    "
   ]
  },
  {
   "cell_type": "code",
   "execution_count": 3,
   "id": "2946304c-0413-4e37-8e86-33ae3cb4b9c2",
   "metadata": {},
   "outputs": [
    {
     "data": {
      "text/plain": [
       "{'ramesh': '20', 'suresh': '30', 'satish': '40'}"
      ]
     },
     "execution_count": 3,
     "metadata": {},
     "output_type": "execute_result"
    }
   ],
   "source": [
    "# list to strings \n",
    "d={'Ramesh': 20, 'Suresh': 30, 'Satish': 40}\n",
    "keys=[i.lower() for i in list(d.keys())]\n",
    "values=[str(i) for i in list(d.values())]\n",
    "{key:value for key,value in zip(keys,values)}"
   ]
  },
  {
   "cell_type": "code",
   "execution_count": 54,
   "id": "6445160e-621a-4cbe-a137-a68eb22450a0",
   "metadata": {},
   "outputs": [
    {
     "name": "stdout",
     "output_type": "stream",
     "text": [
      "['Ramesh', 'Suresh', 'Satish']\n",
      "[20, 30, 40]\n"
     ]
    }
   ],
   "source": [
    "# strings to list\n",
    "d={'Ramesh': 20, 'Suresh': 30, 'Satish': 40}\n",
    "names=list(d.keys())\n",
    "ages=list(d.values())\n",
    "print(names)\n",
    "print(ages)"
   ]
  },
  {
   "cell_type": "code",
   "execution_count": 108,
   "id": "8b98ed6c-6041-4498-891f-3402a0f77011",
   "metadata": {},
   "outputs": [
    {
     "data": {
      "text/plain": [
       "['Ramesh', 'Satish', 'Suresh']"
      ]
     },
     "execution_count": 108,
     "metadata": {},
     "output_type": "execute_result"
    }
   ],
   "source": [
    "# sorted and reversed for all data types\n",
    "d={'Ramesh': 20, 'Suresh': 30, 'Satish': 40}\n",
    "sorted(d)"
   ]
  },
  {
   "cell_type": "code",
   "execution_count": 114,
   "id": "19a1ca4c-7137-4998-90dc-ae987c504f16",
   "metadata": {},
   "outputs": [
    {
     "ename": "TypeError",
     "evalue": "'list' object is not callable",
     "output_type": "error",
     "traceback": [
      "\u001b[1;31m---------------------------------------------------------------------------\u001b[0m",
      "\u001b[1;31mTypeError\u001b[0m                                 Traceback (most recent call last)",
      "Cell \u001b[1;32mIn[114], line 2\u001b[0m\n\u001b[0;32m      1\u001b[0m d\u001b[38;5;241m=\u001b[39m{\u001b[38;5;124m'\u001b[39m\u001b[38;5;124mRamesh\u001b[39m\u001b[38;5;124m'\u001b[39m: \u001b[38;5;241m20\u001b[39m, \u001b[38;5;124m'\u001b[39m\u001b[38;5;124mSuresh\u001b[39m\u001b[38;5;124m'\u001b[39m: \u001b[38;5;241m30\u001b[39m, \u001b[38;5;124m'\u001b[39m\u001b[38;5;124mSatish\u001b[39m\u001b[38;5;124m'\u001b[39m: \u001b[38;5;241m40\u001b[39m}\n\u001b[1;32m----> 2\u001b[0m \u001b[38;5;28mlist\u001b[39m(\u001b[38;5;28mreversed\u001b[39m(d))\n",
      "\u001b[1;31mTypeError\u001b[0m: 'list' object is not callable"
     ]
    }
   ],
   "source": [
    "d={'Ramesh': 20, 'Suresh': 30, 'Satish': 40}\n",
    "list(reversed(d))"
   ]
  },
  {
   "cell_type": "code",
   "execution_count": 96,
   "id": "1eb1aa93-414d-4204-acfb-a4aee8c4167a",
   "metadata": {},
   "outputs": [
    {
     "data": {
      "text/plain": [
       "[3, 15, 65, 75, 87]"
      ]
     },
     "execution_count": 96,
     "metadata": {},
     "output_type": "execute_result"
    }
   ],
   "source": [
    "list=[15,87,3,75,65]\n",
    "sorted(list)"
   ]
  },
  {
   "cell_type": "code",
   "execution_count": 116,
   "id": "dafa074f-f767-4e9a-af31-4ef420136cb8",
   "metadata": {},
   "outputs": [
    {
     "data": {
      "text/plain": [
       "[87, 75, 65, 15, 3]"
      ]
     },
     "execution_count": 116,
     "metadata": {},
     "output_type": "execute_result"
    }
   ],
   "source": [
    "list=[15,87,3,75,65]\n",
    "sorted(list,reverse=True)"
   ]
  },
  {
   "cell_type": "code",
   "execution_count": 5,
   "id": "094f2f42-97fe-4718-bfe9-2638ba0e349c",
   "metadata": {},
   "outputs": [
    {
     "data": {
      "text/plain": [
       "<list_reverseiterator at 0x281c6195060>"
      ]
     },
     "execution_count": 5,
     "metadata": {},
     "output_type": "execute_result"
    }
   ],
   "source": [
    "l=[15,87,3,75,65]\n",
    "reversed(l)"
   ]
  },
  {
   "cell_type": "code",
   "execution_count": 7,
   "id": "c56a0a35-1489-4257-918d-ef519589225b",
   "metadata": {},
   "outputs": [
    {
     "data": {
      "text/plain": [
       "[15, 87, 3, 75, 65]"
      ]
     },
     "execution_count": 7,
     "metadata": {},
     "output_type": "execute_result"
    }
   ],
   "source": [
    "list(reversed(l))\n",
    "l"
   ]
  },
  {
   "cell_type": "code",
   "execution_count": 104,
   "id": "93e26833-6bc4-4128-87f0-cf6882d07027",
   "metadata": {},
   "outputs": [
    {
     "data": {
      "text/plain": [
       "['h', 'n', 'o', 'p', 't', 'y']"
      ]
     },
     "execution_count": 104,
     "metadata": {},
     "output_type": "execute_result"
    }
   ],
   "source": [
    "str='python'\n",
    "sorted(str)"
   ]
  },
  {
   "cell_type": "code",
   "execution_count": 9,
   "id": "afdfe194-2289-45c7-b9fd-1023bfc1c20f",
   "metadata": {},
   "outputs": [
    {
     "data": {
      "text/plain": [
       "['n', 'o', 'h', 't', 'y', 'p']"
      ]
     },
     "execution_count": 9,
     "metadata": {},
     "output_type": "execute_result"
    }
   ],
   "source": [
    "str='python'\n",
    "list(reversed(str))"
   ]
  },
  {
   "cell_type": "code",
   "execution_count": 134,
   "id": "e1b07c90-b827-4a0e-8e4b-7bd7f4c94149",
   "metadata": {},
   "outputs": [
    {
     "data": {
      "text/plain": [
       "30"
      ]
     },
     "execution_count": 134,
     "metadata": {},
     "output_type": "execute_result"
    }
   ],
   "source": [
    "#access value using key in dict====== get method\n",
    "d={'Ramesh': 20, 'Suresh': 30, 'Satish': 40}\n",
    "\n",
    "d.get('Suresh')"
   ]
  },
  {
   "cell_type": "code",
   "execution_count": 140,
   "id": "9581cfeb-02a1-4d8b-a3aa-fe6183d88113",
   "metadata": {},
   "outputs": [
    {
     "data": {
      "text/plain": [
       "300"
      ]
     },
     "execution_count": 140,
     "metadata": {},
     "output_type": "execute_result"
    }
   ],
   "source": [
    "#concatenation in list====== extend in list\n",
    "d1=(100)\n",
    "d2=(200)\n",
    "d1+d2"
   ]
  },
  {
   "cell_type": "code",
   "execution_count": 154,
   "id": "4dae0ed2-caa1-4f51-ae47-cab987c7f8d4",
   "metadata": {},
   "outputs": [
    {
     "data": {
      "text/plain": [
       "{'Ramesh': 20, 'Suresh': 30}"
      ]
     },
     "execution_count": 154,
     "metadata": {},
     "output_type": "execute_result"
    }
   ],
   "source": [
    "# remove in list but in dictionary pop item \n",
    "d={'Ramesh': 20, 'Suresh': 30, 'Satish': 40}\n",
    "d.popitem()\n",
    "d"
   ]
  },
  {
   "cell_type": "code",
   "execution_count": 177,
   "id": "453a3432-c86d-4d0f-9d2a-5b9acd2d232b",
   "metadata": {},
   "outputs": [
    {
     "data": {
      "text/plain": [
       "[40, 87]"
      ]
     },
     "execution_count": 177,
     "metadata": {},
     "output_type": "execute_result"
    }
   ],
   "source": [
    "l=[40,64,87]\n",
    "l.remove(64)\n",
    "l"
   ]
  },
  {
   "cell_type": "code",
   "execution_count": 181,
   "id": "dc061ca4-38cc-4d06-83da-02f78070a09e",
   "metadata": {},
   "outputs": [
    {
     "data": {
      "text/plain": [
       "40"
      ]
     },
     "execution_count": 181,
     "metadata": {},
     "output_type": "execute_result"
    }
   ],
   "source": [
    "# pop in list also in dictionary\n",
    "d={'Ramesh': 20, 'Suresh': 30, 'Satish': 40}\n",
    "d.pop('Satish')"
   ]
  },
  {
   "cell_type": "code",
   "execution_count": 183,
   "id": "a046f6ed-d277-401c-9403-cb858c6d041a",
   "metadata": {},
   "outputs": [
    {
     "data": {
      "text/plain": [
       "{'Ramesh': 20, 'Suresh': 30}"
      ]
     },
     "execution_count": 183,
     "metadata": {},
     "output_type": "execute_result"
    }
   ],
   "source": [
    "d"
   ]
  },
  {
   "cell_type": "code",
   "execution_count": 189,
   "id": "958ffef8-c67d-4be9-9938-7b3dee230159",
   "metadata": {},
   "outputs": [
    {
     "data": {
      "text/plain": [
       "[45, 87]"
      ]
     },
     "execution_count": 189,
     "metadata": {},
     "output_type": "execute_result"
    }
   ],
   "source": [
    "l=[20,45,87]\n",
    "l.pop(0)\n",
    "l"
   ]
  },
  {
   "cell_type": "code",
   "execution_count": 195,
   "id": "d74c13c8-14af-476c-b8e2-4d8939ead714",
   "metadata": {},
   "outputs": [
    {
     "data": {
      "text/plain": [
       "'y'"
      ]
     },
     "execution_count": 195,
     "metadata": {},
     "output_type": "execute_result"
    }
   ],
   "source": [
    "# index in strings also in list\n",
    "s='python'\n",
    "s[1]"
   ]
  },
  {
   "cell_type": "code",
   "execution_count": 193,
   "id": "fef79095-4dc4-4045-a83f-8535903c840f",
   "metadata": {},
   "outputs": [
    {
     "data": {
      "text/plain": [
       "68"
      ]
     },
     "execution_count": 193,
     "metadata": {},
     "output_type": "execute_result"
    }
   ],
   "source": [
    "l=[1,25,68,78]\n",
    "l[2]"
   ]
  },
  {
   "cell_type": "code",
   "execution_count": 197,
   "id": "cd2381a7-a8d8-4d11-af51-747087633624",
   "metadata": {},
   "outputs": [
    {
     "data": {
      "text/plain": [
       "20"
      ]
     },
     "execution_count": 197,
     "metadata": {},
     "output_type": "execute_result"
    }
   ],
   "source": [
    "d={'Ramesh': 20}\n",
    "d['Ramesh']"
   ]
  },
  {
   "cell_type": "code",
   "execution_count": 203,
   "id": "28f5d6c3-f32e-4795-a718-556023e6659e",
   "metadata": {},
   "outputs": [
    {
     "name": "stdout",
     "output_type": "stream",
     "text": [
      "Ramesh 20\n",
      "Ramesh has age is:20\n",
      "Suresh 30\n",
      "Suresh has age is:30\n",
      "Satish 40\n",
      "Satish has age is:40\n"
     ]
    }
   ],
   "source": [
    "d1={'Ramesh':20,'Suresh':30,'Satish':40} \n",
    "for i in d1:\n",
    "    print(i,d1[i])\n",
    "    print(f\"{i} has age is:{d1[i]}\")"
   ]
  },
  {
   "cell_type": "code",
   "execution_count": 241,
   "id": "dc52468e-34a5-425d-8cc1-db132cf19256",
   "metadata": {},
   "outputs": [
    {
     "data": {
      "text/plain": [
       "'custred'"
      ]
     },
     "execution_count": 241,
     "metadata": {},
     "output_type": "execute_result"
    }
   ],
   "source": [
    "d1={'Fruites':{'Appple':['Sweet','Green','custred']}}\n",
    "d1['Fruites']['Appple'][2]\n"
   ]
  },
  {
   "cell_type": "code",
   "execution_count": 253,
   "id": "7b59eb78-4c3f-4b49-a31b-d3fd87563f70",
   "metadata": {},
   "outputs": [
    {
     "data": {
      "text/plain": [
       "300"
      ]
     },
     "execution_count": 253,
     "metadata": {},
     "output_type": "execute_result"
    }
   ],
   "source": [
    "d1={'Fruites':[{'Cost':[100,200,300]}]}\n",
    "d1['Fruites'][0]['Cost'][2]"
   ]
  },
  {
   "cell_type": "code",
   "execution_count": 257,
   "id": "5b7dbac0-0600-48a6-83d4-7f8044ea36fa",
   "metadata": {},
   "outputs": [
    {
     "data": {
      "text/plain": [
       "'None'"
      ]
     },
     "execution_count": 257,
     "metadata": {},
     "output_type": "execute_result"
    }
   ],
   "source": [
    "d1={'Fruites':['Apple'],'Cost':[{'1kg':[300,500],'2kg':['None']}]}\n",
    "d1['Cost'][0]['2kg'][0]"
   ]
  },
  {
   "cell_type": "code",
   "execution_count": 11,
   "id": "d6d23e06-2fa6-4071-b9a4-ebb3c9c5640c",
   "metadata": {},
   "outputs": [
    {
     "data": {
      "text/plain": [
       "{'1kg': [300, 500], '2kg': ['None']}"
      ]
     },
     "execution_count": 11,
     "metadata": {},
     "output_type": "execute_result"
    }
   ],
   "source": [
    "d1={'Fruites':['Apple'],'Cost':[{'1kg':[300,500],'2kg':['None']}]}\n",
    "d1['Cost'][0]"
   ]
  },
  {
   "cell_type": "code",
   "execution_count": 219,
   "id": "3334159e-6254-41f1-9510-fa14b4ca9f0d",
   "metadata": {},
   "outputs": [
    {
     "data": {
      "text/plain": [
       "{'Fruites': {'Mango': {'Nagpur': {'MH': {'King': {'Shivaji': {'Shambaji'}}}}}}}"
      ]
     },
     "execution_count": 219,
     "metadata": {},
     "output_type": "execute_result"
    }
   ],
   "source": [
    "d1={'Fruites':{'Mango':{'Nagpur':{'MH':{'King':{'Shivaji':{'Shambaji'}}}}}}}\n",
    "d1"
   ]
  },
  {
   "cell_type": "code",
   "execution_count": 265,
   "id": "f68ffe99-4fe8-4adc-ad92-8b038f5bd0a4",
   "metadata": {},
   "outputs": [
    {
     "data": {
      "text/plain": [
       "{'MH': {'King': {'Shivaji': {'Shambaji'}}}}"
      ]
     },
     "execution_count": 265,
     "metadata": {},
     "output_type": "execute_result"
    }
   ],
   "source": [
    "d1={'Fruites':{'Mango':{'Nagpur':{'MH':{'King':{'Shivaji':{'Shambaji'}}}}}}}\n",
    "d1['Fruites']['Mango']['Nagpur']"
   ]
  },
  {
   "cell_type": "code",
   "execution_count": null,
   "id": "576895db-2a92-40a5-aa51-eaba13227e90",
   "metadata": {},
   "outputs": [],
   "source": []
  }
 ],
 "metadata": {
  "kernelspec": {
   "display_name": "Python [conda env:base] *",
   "language": "python",
   "name": "conda-base-py"
  },
  "language_info": {
   "codemirror_mode": {
    "name": "ipython",
    "version": 3
   },
   "file_extension": ".py",
   "mimetype": "text/x-python",
   "name": "python",
   "nbconvert_exporter": "python",
   "pygments_lexer": "ipython3",
   "version": "3.12.7"
  }
 },
 "nbformat": 4,
 "nbformat_minor": 5
}

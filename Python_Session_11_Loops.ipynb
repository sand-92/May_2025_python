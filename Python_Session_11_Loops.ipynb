{
 "cells": [
  {
   "cell_type": "markdown",
   "id": "85575035-a2ca-4198-8e4e-477e1164620f",
   "metadata": {},
   "source": [
    "**Loops**"
   ]
  },
  {
   "cell_type": "markdown",
   "id": "fd0a97fb-8e07-4fce-b119-90fd1fba8bef",
   "metadata": {},
   "source": [
    "- loops means as\n",
    "- iterating code\n",
    "- repeating code\n",
    "- **Loops**\n",
    "- two types of Loops\n",
    "- for Loop\n",
    "- while Loop"
   ]
  },
  {
   "cell_type": "code",
   "execution_count": 17,
   "id": "d3064eea-aa00-4861-982d-f4b33dcc023b",
   "metadata": {},
   "outputs": [
    {
     "name": "stdout",
     "output_type": "stream",
     "text": [
      "100.0\n"
     ]
    }
   ],
   "source": [
    "# we want to calculate atax of an emplooye\n",
    "\n",
    "def tax_cal(income,tax):\n",
    "    tax_amount=income*tax/100\n",
    "    print(tax_amount)\n",
    "tax_cal(1000,10)   "
   ]
  },
  {
   "cell_type": "markdown",
   "id": "3cf24d20-c277-4753-afb7-984183404181",
   "metadata": {},
   "source": [
    "- intialzation (intial point to start the loop)\n",
    "- increment/decrement\n",
    "- condition to stop the loop"
   ]
  },
  {
   "cell_type": "markdown",
   "id": "9f56b658-d6fa-4805-924a-578eec54c69a",
   "metadata": {},
   "source": [
    "**For loop**"
   ]
  },
  {
   "cell_type": "code",
   "execution_count": null,
   "id": "acbad682-39bd-42e0-8a4a-dd94a3a28444",
   "metadata": {},
   "outputs": [],
   "source": [
    "- for <variable> in range (<value>):\n",
    "      <write a code here>   "
   ]
  },
  {
   "cell_type": "code",
   "execution_count": 15,
   "id": "c17c0f40-7c44-4b22-b01b-c7b81e593f71",
   "metadata": {},
   "outputs": [
    {
     "name": "stdout",
     "output_type": "stream",
     "text": [
      "0\n",
      "1\n",
      "2\n",
      "3\n"
     ]
    }
   ],
   "source": [
    "for i in range (4):\n",
    "    print(i)"
   ]
  },
  {
   "cell_type": "code",
   "execution_count": null,
   "id": "6abfa99a-1745-4391-923b-7ad65fd01e79",
   "metadata": {},
   "outputs": [],
   "source": [
    "**case-1: range(stop)**\n",
    "\n",
    "- start value= 0\n",
    "- step size= +1\n",
    "- last= stop-1\n",
    "\n",
    "   - range(3)\n",
    "    - start value= 0\n",
    "    - increment= 1\n",
    "    - last=stop-1= 4-1 =3"
   ]
  },
  {
   "cell_type": "code",
   "execution_count": null,
   "id": "a80d5a6d-72a2-46bc-aeb3-bf9314b5500a",
   "metadata": {},
   "outputs": [],
   "source": [
    "for i in range(6):\n",
    "    print(i)\n",
    "# variable can be anything\n",
    "# start=0, step= +1, stop=5-1=4"
   ]
  },
  {
   "cell_type": "code",
   "execution_count": 1,
   "id": "2fd3b2ea-0942-401c-8fe0-ff8b832c6b54",
   "metadata": {},
   "outputs": [
    {
     "name": "stdout",
     "output_type": "stream",
     "text": [
      "Good morning\n",
      "Good morning\n",
      "Good morning\n",
      "Good morning\n",
      "Good morning\n"
     ]
    }
   ],
   "source": [
    "for i in range(5):\n",
    "    print(\"Good morning\")"
   ]
  },
  {
   "cell_type": "code",
   "execution_count": 9,
   "id": "c701e350-8f6d-4e93-b1eb-87b29abba671",
   "metadata": {},
   "outputs": [
    {
     "name": "stdout",
     "output_type": "stream",
     "text": [
      "0 1 2 3 4 "
     ]
    }
   ],
   "source": [
    "print(0,end=' ')\n",
    "print(1,end=' ')\n",
    "print(2,end=' ')\n",
    "print(3,end=' ')\n",
    "\n",
    "\n",
    "print(i,end=' ')"
   ]
  },
  {
   "cell_type": "code",
   "execution_count": 7,
   "id": "e8f582f1-cd36-4f12-831c-3edd86f26839",
   "metadata": {},
   "outputs": [
    {
     "name": "stdout",
     "output_type": "stream",
     "text": [
      "0 1 2 3 4 "
     ]
    }
   ],
   "source": [
    "for i in range(5):\n",
    "    print(i,end=' ')"
   ]
  },
  {
   "cell_type": "markdown",
   "id": "03cfc3d2-d78a-4638-b6e6-5a717466d91e",
   "metadata": {},
   "source": [
    "**case2:range(start,stop)**\n",
    "- start value= 0\n",
    "- step size= +1\n",
    "- last= stop-1\n",
    "- range(2,7)\n",
    "  - start=2\n",
    "  - step=1+\n",
    "  - last=7-1=6\n",
    "  2,3,4,5,6"
   ]
  },
  {
   "cell_type": "code",
   "execution_count": 3,
   "id": "22e39b10-f8f8-4041-9f2a-d01921e99bf4",
   "metadata": {},
   "outputs": [
    {
     "name": "stdout",
     "output_type": "stream",
     "text": [
      "12 13 14 15 16 17 "
     ]
    }
   ],
   "source": [
    "for i in range(12,18):\n",
    "    print(i,end=' ')\n"
   ]
  },
  {
   "cell_type": "code",
   "execution_count": 3,
   "id": "cc568ea7-745f-4b98-99c8-40f384c1741b",
   "metadata": {},
   "outputs": [
    {
     "name": "stdout",
     "output_type": "stream",
     "text": [
      "the square of 2 is: 4\n",
      "the square of 3 is: 9\n",
      "the square of 4 is: 16\n",
      "the square of 5 is: 25\n",
      "the square of 6 is: 36\n",
      "the square of 7 is: 49\n"
     ]
    }
   ],
   "source": [
    "# write ask the user to print square of the 5 first numbers\n",
    "for i in range(2,8):\n",
    "    print(f\"the square of {i} is: {i*i}\")\n"
   ]
  },
  {
   "cell_type": "code",
   "execution_count": 7,
   "id": "1b19126b-1012-4547-a57b-7a9c0cf5da66",
   "metadata": {},
   "outputs": [
    {
     "name": "stdin",
     "output_type": "stream",
     "text": [
      "enter a num 221\n"
     ]
    },
    {
     "name": "stdout",
     "output_type": "stream",
     "text": [
      "the square of 221 is: 48841 \n"
     ]
    },
    {
     "name": "stdin",
     "output_type": "stream",
     "text": [
      "enter a num 222\n"
     ]
    },
    {
     "name": "stdout",
     "output_type": "stream",
     "text": [
      "the square of 222 is: 49284 \n"
     ]
    },
    {
     "name": "stdin",
     "output_type": "stream",
     "text": [
      "enter a num 223\n"
     ]
    },
    {
     "name": "stdout",
     "output_type": "stream",
     "text": [
      "the square of 223 is: 49729 \n"
     ]
    },
    {
     "name": "stdin",
     "output_type": "stream",
     "text": [
      "enter a num 224\n"
     ]
    },
    {
     "name": "stdout",
     "output_type": "stream",
     "text": [
      "the square of 224 is: 50176 \n"
     ]
    },
    {
     "name": "stdin",
     "output_type": "stream",
     "text": [
      "enter a num 225\n"
     ]
    },
    {
     "name": "stdout",
     "output_type": "stream",
     "text": [
      "the square of 225 is: 50625 \n"
     ]
    }
   ],
   "source": [
    "# write ask the user enter number and get the square of the number\n",
    "# the user should enter 5 values one by one\n",
    "# the prompt should ask 5 times\n",
    "\n",
    "for i in range(221,226):\n",
    "    num=eval(input('enter a num'))\n",
    "    print(f\"the square of {num} is: {num*num} \")"
   ]
  },
  {
   "cell_type": "code",
   "execution_count": 5,
   "id": "e43fbbab-2948-4d76-9dd1-e7d98f123ce1",
   "metadata": {},
   "outputs": [
    {
     "name": "stdin",
     "output_type": "stream",
     "text": [
      "enter a num 1\n"
     ]
    },
    {
     "name": "stdout",
     "output_type": "stream",
     "text": [
      "the square of 1 is: 1 \n"
     ]
    },
    {
     "name": "stdin",
     "output_type": "stream",
     "text": [
      "enter a num 2\n"
     ]
    },
    {
     "name": "stdout",
     "output_type": "stream",
     "text": [
      "the square of 2 is: 4 \n"
     ]
    },
    {
     "name": "stdin",
     "output_type": "stream",
     "text": [
      "enter a num 3\n"
     ]
    },
    {
     "name": "stdout",
     "output_type": "stream",
     "text": [
      "the square of 3 is: 9 \n"
     ]
    },
    {
     "name": "stdin",
     "output_type": "stream",
     "text": [
      "enter a num 4\n"
     ]
    },
    {
     "name": "stdout",
     "output_type": "stream",
     "text": [
      "the square of 4 is: 16 \n"
     ]
    },
    {
     "name": "stdin",
     "output_type": "stream",
     "text": [
      "enter a num 5\n"
     ]
    },
    {
     "name": "stdout",
     "output_type": "stream",
     "text": [
      "the square of 5 is: 25 \n"
     ]
    }
   ],
   "source": [
    "for i in range(1,6):\n",
    "    num=eval(input('enter a num'))\n",
    "    print(f\"the square of {num} is: {num*num} \")\n"
   ]
  },
  {
   "cell_type": "code",
   "execution_count": 15,
   "id": "60e5ab95-9adb-4355-9ee6-14b3e9287412",
   "metadata": {},
   "outputs": [
    {
     "name": "stdout",
     "output_type": "stream",
     "text": [
      "the square of 86 is: 7396 \n",
      "the square of 60 is: 3600 \n",
      "the square of 84 is: 7056 \n",
      "the square of 66 is: 4356 \n",
      "the square of 2 is: 4 \n"
     ]
    }
   ],
   "source": [
    "import random\n",
    "for i in range(11,16):\n",
    "    num=random.randint(1,100)\n",
    "    print(f\"the square of {num} is: {num*num} \")"
   ]
  },
  {
   "cell_type": "code",
   "execution_count": null,
   "id": "13899b45-fab9-45d2-9e0a-a4a9c88cdb11",
   "metadata": {},
   "outputs": [],
   "source": [
    "# hard code method\n",
    "for i in range(2,8):\n",
    "    print(f\"the square of {i} is: {i*i}\")\n",
    "############################################\n",
    "# user input method or keyboard method\n",
    "for i in range(1,6):\n",
    "    num=eval(input('enter a num'))\n",
    "    print(f\"the square of {num} is: {num*num} \")\n",
    "###################################################  \n",
    "# random method\n",
    "import random\n",
    "for i in range(11,16):\n",
    "    num=random.randint(1,100)\n",
    "    print(f\"the square of {num} is: {num*num} \")"
   ]
  },
  {
   "cell_type": "code",
   "execution_count": null,
   "id": "66b370fd-6801-480b-b6fe-8208c50d0972",
   "metadata": {},
   "outputs": [],
   "source": [
    "**case3: range(start,stop,step)\n",
    "- start value= start\n",
    "- step= positive means + sign\n",
    "     - gap= positive step size\n",
    "     - last= stop-1\n",
    "step= negative means - sign\n",
    "    - gap= negative step size\n",
    "    - last= stop+1"
   ]
  },
  {
   "cell_type": "code",
   "execution_count": null,
   "id": "2f6eee2d-2234-4359-8b87-87d9cc9e7f8a",
   "metadata": {},
   "outputs": [],
   "source": [
    "range(start, stop, step):\n",
    " range(2,20,2)\n",
    "    start=2\n",
    "   stop value=20-1=19\n",
    "   step=2-----positive direction values will come\n",
    "   gap value= 2\n",
    "  start value=2\n",
    "  last value=19\n",
    "2===============with gap value======================19\n",
    "2   4   6    8     10     12     14     16      18"
   ]
  },
  {
   "cell_type": "code",
   "execution_count": 3,
   "id": "3a143d13-faca-4e22-a14b-4950d9c2d877",
   "metadata": {},
   "outputs": [
    {
     "name": "stdout",
     "output_type": "stream",
     "text": [
      "2 4 6 8 10 12 14 16 18 "
     ]
    }
   ],
   "source": [
    "for i in range(2,20,2):\n",
    "    print(i, end=' ')"
   ]
  },
  {
   "cell_type": "code",
   "execution_count": null,
   "id": "e04f5dca-694d-45b3-ab67-20f46880076a",
   "metadata": {},
   "outputs": [],
   "source": [
    "range(start, stop, step):\n",
    " range(-2,-20,-2)\n",
    "    start= -2\n",
    "   stop value= -20+1= -19\n",
    "   step= -2-----Negative direction values will come\n",
    "   gap value= -2\n",
    "   start value= -2 \n",
    "   last value= -19\n",
    "-2===============with gap value====================== -19\n",
    "-2   -4   -6   -8   -10    -12    -14    -16    -18"
   ]
  },
  {
   "cell_type": "code",
   "execution_count": 21,
   "id": "26c7df0e-d120-4e55-8a51-dcab829af62e",
   "metadata": {},
   "outputs": [
    {
     "name": "stdout",
     "output_type": "stream",
     "text": [
      "-2 -4 -6 -8 -10 -12 -14 -16 -18 "
     ]
    }
   ],
   "source": [
    "for i in range(-2,-20,-2):\n",
    "    print(i, end= ' ')"
   ]
  },
  {
   "cell_type": "code",
   "execution_count": null,
   "id": "b62d51dd-c5d8-4397-a9b6-55bf5ccb8758",
   "metadata": {},
   "outputs": [],
   "source": [
    "range(2, -20, -2)\n",
    "range(start, stop, step)\n",
    "start= 2\n",
    "stop value= -20+1= -19\n",
    "step= -2\n",
    "start value is 2 gap values is -2, -4 -6  -8 up to -18 and last value is -19\n",
    "2======================gap values====================================-19\n",
    "2    0   -2    -4    -6    -8    -10   -12   -14   -16    -18 "
   ]
  },
  {
   "cell_type": "code",
   "execution_count": 23,
   "id": "0a83f333-d14c-41f1-b5f5-368687d7c83a",
   "metadata": {},
   "outputs": [
    {
     "name": "stdout",
     "output_type": "stream",
     "text": [
      "2 0 -2 -4 -6 -8 -10 -12 -14 -16 -18 "
     ]
    }
   ],
   "source": [
    "for i in range(2,-20,-2):\n",
    "    print(i, end= ' ')"
   ]
  },
  {
   "cell_type": "code",
   "execution_count": 27,
   "id": "bb8ec7c2-df05-49ea-8f5a-35fb538940e5",
   "metadata": {},
   "outputs": [],
   "source": [
    "range(2, -20, 2)\n",
    "range(start, stop, step)\n",
    "start= 2\n",
    "stop value= -20-1= -21\n",
    "step= 2\n",
    "\n",
    "for i in range(2,-20,2):\n",
    "    print(i,end=' ')\n",
    "     No error no answer\n",
    "# if not possiable    \n",
    "# step is positive direction\n",
    "# last value is negative direction (both are opposite direction)"
   ]
  },
  {
   "cell_type": "code",
   "execution_count": 29,
   "id": "4ed4d1bb-d516-46e9-af48-a016fc9464af",
   "metadata": {},
   "outputs": [],
   "source": [
    "for i in range(-2,20,-2):\n",
    "    print(i, end=' ')\n",
    "    No error no answer"
   ]
  },
  {
   "cell_type": "code",
   "execution_count": 31,
   "id": "3f4fd0fc-77c3-469c-94e5-30c3b94f651f",
   "metadata": {},
   "outputs": [
    {
     "name": "stdout",
     "output_type": "stream",
     "text": [
      "3 6 9 12 "
     ]
    }
   ],
   "source": [
    "for i in range(3,15,3):\n",
    "    print(i, end=' ')"
   ]
  },
  {
   "cell_type": "code",
   "execution_count": 33,
   "id": "f4994119-3c97-4e4b-b42b-65c9e8047438",
   "metadata": {},
   "outputs": [],
   "source": [
    "for i in range(3,15,-3):\n",
    "    print(i, end=' ')"
   ]
  },
  {
   "cell_type": "code",
   "execution_count": 37,
   "id": "356c9116-ea07-4a54-815e-04a3ad2988e7",
   "metadata": {},
   "outputs": [],
   "source": [
    "for i in range(3,-15,3):\n",
    "    print(i, end=' ')"
   ]
  },
  {
   "cell_type": "code",
   "execution_count": 39,
   "id": "15e92cad-1343-436e-80cb-8b908dc55040",
   "metadata": {},
   "outputs": [
    {
     "name": "stdout",
     "output_type": "stream",
     "text": [
      "-3 0 3 6 9 12 "
     ]
    }
   ],
   "source": [
    "for i in range(-3,15,3):\n",
    "    print(i, end=' ')"
   ]
  },
  {
   "cell_type": "code",
   "execution_count": 41,
   "id": "8cf3caba-8a36-4fcb-afcd-7b51d53ea1fe",
   "metadata": {},
   "outputs": [
    {
     "name": "stdout",
     "output_type": "stream",
     "text": [
      "3 0 -3 -6 -9 -12 "
     ]
    }
   ],
   "source": [
    "for i in range(3,-15,-3):\n",
    "    print(i, end=' ')"
   ]
  },
  {
   "cell_type": "code",
   "execution_count": 43,
   "id": "d9fc6992-7fc5-4883-98d8-bc1d28dce43a",
   "metadata": {},
   "outputs": [],
   "source": [
    "for i in range(-3,-15,3):\n",
    "    print(i, end=' ')"
   ]
  },
  {
   "cell_type": "code",
   "execution_count": 45,
   "id": "e32e145f-2777-44aa-8252-829c09ee260e",
   "metadata": {},
   "outputs": [],
   "source": [
    "for i in range(-3,15,-3):\n",
    "    print(i, end=' ')"
   ]
  },
  {
   "cell_type": "code",
   "execution_count": 47,
   "id": "fbc0d518-cdac-493f-8716-6ae74b99a635",
   "metadata": {},
   "outputs": [
    {
     "name": "stdout",
     "output_type": "stream",
     "text": [
      "-3 -6 -9 -12 "
     ]
    }
   ],
   "source": [
    "for i in range(-3,-15,-3):\n",
    "    print(i, end=' ')"
   ]
  },
  {
   "cell_type": "code",
   "execution_count": 49,
   "id": "a9e94775-2ff3-4935-8d28-c6ece78de004",
   "metadata": {},
   "outputs": [],
   "source": [
    "for i in range(15,3,3):\n",
    "    print(i, end=' ')"
   ]
  },
  {
   "cell_type": "code",
   "execution_count": 51,
   "id": "1c8e593d-f066-4ffb-9610-f2bf9aa6bced",
   "metadata": {},
   "outputs": [
    {
     "name": "stdout",
     "output_type": "stream",
     "text": [
      "15 12 9 6 "
     ]
    }
   ],
   "source": [
    "for i in range(15,3,-3):\n",
    "    print(i, end=' ')"
   ]
  },
  {
   "cell_type": "code",
   "execution_count": 53,
   "id": "08004120-6375-418f-8b10-160cdf272090",
   "metadata": {},
   "outputs": [],
   "source": [
    "for i in range(15,-3,3):\n",
    "    print(i, end=' ')"
   ]
  },
  {
   "cell_type": "code",
   "execution_count": 55,
   "id": "bb6457ae-096a-48ed-9e09-0f678eb7ff7f",
   "metadata": {},
   "outputs": [
    {
     "name": "stdout",
     "output_type": "stream",
     "text": [
      "15 12 9 6 3 0 "
     ]
    }
   ],
   "source": [
    "for i in range(15,-3,-3):\n",
    "    print(i, end=' ')"
   ]
  },
  {
   "cell_type": "code",
   "execution_count": 57,
   "id": "9c496fc1-dcc0-43c5-b5c8-5b357c9cd501",
   "metadata": {},
   "outputs": [
    {
     "name": "stdout",
     "output_type": "stream",
     "text": [
      "-15 -12 -9 -6 -3 0 "
     ]
    }
   ],
   "source": [
    "for i in range(-15,3,3):\n",
    "    print(i, end=' ')"
   ]
  },
  {
   "cell_type": "code",
   "execution_count": 59,
   "id": "9a30c84c-026d-40bb-90f5-e25cef7fe8d0",
   "metadata": {},
   "outputs": [],
   "source": [
    "for i in range(-15,3,-3):\n",
    "    print(i, end=' ')"
   ]
  },
  {
   "cell_type": "code",
   "execution_count": null,
   "id": "d4f3b17f-8b0a-4d00-8db8-c6700801525a",
   "metadata": {},
   "outputs": [],
   "source": [
    "# write ask the user enter 5 numbers\n",
    "# print it is a even number or odd\n",
    "# loop should run 5 times\n",
    "# coad should ask 5 times enter the number\n",
    "\n",
    "# write ask the user print 17th table\n",
    "# o/p 17 table\n",
    "\n",
    "# write ask the user enter a number and find the divisors of the numbers\n",
    "#75=========1,3,5,15,75\n"
   ]
  },
  {
   "cell_type": "code",
   "execution_count": 1,
   "id": "1a442653-48ef-4e12-a594-300fc3218162",
   "metadata": {},
   "outputs": [
    {
     "name": "stdin",
     "output_type": "stream",
     "text": [
      "enter a num:  20\n"
     ]
    },
    {
     "name": "stdout",
     "output_type": "stream",
     "text": [
      "the 20 is an even\n"
     ]
    },
    {
     "name": "stdin",
     "output_type": "stream",
     "text": [
      "enter a num:  45\n"
     ]
    },
    {
     "name": "stdout",
     "output_type": "stream",
     "text": [
      "the 45 is an odd\n"
     ]
    },
    {
     "name": "stdin",
     "output_type": "stream",
     "text": [
      "enter a num:  75\n"
     ]
    },
    {
     "name": "stdout",
     "output_type": "stream",
     "text": [
      "the 75 is an odd\n"
     ]
    },
    {
     "name": "stdin",
     "output_type": "stream",
     "text": [
      "enter a num:  42\n"
     ]
    },
    {
     "name": "stdout",
     "output_type": "stream",
     "text": [
      "the 42 is an even\n"
     ]
    },
    {
     "name": "stdin",
     "output_type": "stream",
     "text": [
      "enter a num:  68\n"
     ]
    },
    {
     "name": "stdout",
     "output_type": "stream",
     "text": [
      "the 68 is an even\n"
     ]
    }
   ],
   "source": [
    "# write ask the user enter 5 numbers\n",
    "# print it is a even number or odd\n",
    "# loop should run 5 times\n",
    "# coad should ask 5 times enter the number\n",
    "for i in range(5):\n",
    "    num=eval(input('enter a num: '))\n",
    "    if num%2==0:\n",
    "        print(f\"the {num} is an even\")\n",
    "    else:\n",
    "        print(f\"the {num} is an odd\")\n",
    "    "
   ]
  },
  {
   "cell_type": "code",
   "execution_count": 41,
   "id": "2d5f7974-bfc2-4cbb-ba4d-ae5d7a9a134a",
   "metadata": {},
   "outputs": [
    {
     "name": "stdout",
     "output_type": "stream",
     "text": [
      "17x1=17\n",
      "17x2=34\n",
      "17x3=51\n",
      "17x4=68\n",
      "17x5=85\n",
      "17x6=102\n",
      "17x7=119\n",
      "17x8=136\n",
      "17x9=153\n",
      "17x10=170\n"
     ]
    }
   ],
   "source": [
    "# write ask the user print 17th table\n",
    "# o/p 17 table\n",
    "#17*1=17\n",
    "#17*2=34\n",
    "for i in range(1,11):\n",
    "    print(f'17x{i}={17*i}')\n"
   ]
  },
  {
   "cell_type": "code",
   "execution_count": 15,
   "id": "adb911b9-021f-4052-8833-0530a84d29f7",
   "metadata": {},
   "outputs": [
    {
     "name": "stdin",
     "output_type": "stream",
     "text": [
      "the divisors of the numbers:  155\n"
     ]
    },
    {
     "name": "stdout",
     "output_type": "stream",
     "text": [
      "1 is a divisors: 155\n",
      "5 is a divisors: 155\n",
      "31 is a divisors: 155\n",
      "155 is a divisors: 155\n"
     ]
    }
   ],
   "source": [
    "# write ask the user enter a number and find the divisors of the numbers\n",
    "#75=========1,3,5,15,25,75\n",
    "\n",
    "num=eval(input('the divisors of the numbers: '))\n",
    "for i in range(1,num+1):\n",
    "    if num%i==0:\n",
    "        print(f\"{i} is a divisors: {num}\")\n"
   ]
  },
  {
   "cell_type": "code",
   "execution_count": 63,
   "id": "7ba1d336-f06b-4df2-8b4d-3999e7ce3488",
   "metadata": {},
   "outputs": [
    {
     "name": "stdout",
     "output_type": "stream",
     "text": [
      "1 is a divisors: 75\n",
      "3 is a divisors: 75\n",
      "5 is a divisors: 75\n",
      "15 is a divisors: 75\n",
      "25 is a divisors: 75\n",
      "75 is a divisors: 75\n"
     ]
    }
   ],
   "source": [
    "def divisor(num):\n",
    "    for i in range(1,num+1):\n",
    "        if num%i==0:\n",
    "            print(f\"{i} is a divisors: {num}\")\n",
    "divisor(75)   "
   ]
  },
  {
   "cell_type": "code",
   "execution_count": 79,
   "id": "40408d3d-25bb-4390-b357-6982b3c84f4d",
   "metadata": {},
   "outputs": [
    {
     "name": "stdout",
     "output_type": "stream",
     "text": [
      "1 is divisors: 84\n",
      "2 is divisors: 84\n",
      "3 is divisors: 84\n",
      "4 is divisors: 84\n",
      "6 is divisors: 84\n",
      "7 is divisors: 84\n",
      "12 is divisors: 84\n",
      "14 is divisors: 84\n",
      "21 is divisors: 84\n",
      "28 is divisors: 84\n",
      "42 is divisors: 84\n",
      "84 is divisors: 84\n"
     ]
    },
    {
     "data": {
      "text/plain": [
       "84"
      ]
     },
     "execution_count": 79,
     "metadata": {},
     "output_type": "execute_result"
    }
   ],
   "source": [
    "def divison1(num):\n",
    "    for i in range(1,num+1):\n",
    "        if num%i==0:\n",
    "            print(f\"{i} is divisors: {num}\")\n",
    "    return(i)\n",
    "div=divison1(84)\n",
    "div"
   ]
  },
  {
   "cell_type": "code",
   "execution_count": 85,
   "id": "a85be915-cb62-4392-913e-906d27bfa0a0",
   "metadata": {},
   "outputs": [
    {
     "name": "stdout",
     "output_type": "stream",
     "text": [
      "0 1 2 3 4 5 "
     ]
    }
   ],
   "source": [
    "for i in range(6):\n",
    "    print(i,end=' ')"
   ]
  },
  {
   "cell_type": "code",
   "execution_count": 87,
   "id": "159513d7-027d-48c6-9eb5-c03c315a3e92",
   "metadata": {},
   "outputs": [
    {
     "data": {
      "text/plain": [
       "5"
      ]
     },
     "execution_count": 87,
     "metadata": {},
     "output_type": "execute_result"
    }
   ],
   "source": [
    "i\n",
    "# i varaible is always will give last value\n",
    "# do not print i outside the for loop "
   ]
  },
  {
   "cell_type": "markdown",
   "id": "9eb61227-9014-41d1-b199-483fa00b5300",
   "metadata": {},
   "source": [
    "**summation wrapper**\n",
    "- always intialization summ=0 before the loop\n",
    "- inside loop summ=summ+i\n",
    "- then print summ value outside the loop "
   ]
  },
  {
   "cell_type": "code",
   "execution_count": null,
   "id": "c91dcb47-a6e7-4c4c-b90e-4ce3ad838654",
   "metadata": {},
   "outputs": [],
   "source": [
    "summ=0\n",
    "for i in range(1,11):====range values counting  1,2,3,4,5,6,7,8,9,10\n",
    "    #summ=summ+i and summ+=i both are same formula\n",
    "    summ+=i\n",
    "    print(summ)\n",
    " 0+1=1   \n",
    "1+2=3\n",
    "3+3=6\n",
    "6+4=10\n",
    "10+5=15\n",
    "15+6=21\n",
    "21+7=28\n",
    "28+8=36\n",
    "36+9=45\n",
    "45+10=55\n",
    "ans is 55"
   ]
  },
  {
   "cell_type": "code",
   "execution_count": 115,
   "id": "08e4a6c7-f301-4633-92a3-3dbcf39e8353",
   "metadata": {},
   "outputs": [
    {
     "name": "stdout",
     "output_type": "stream",
     "text": [
      "1\n",
      "3\n",
      "6\n",
      "10\n",
      "15\n",
      "21\n",
      "28\n",
      "36\n",
      "45\n",
      "55\n"
     ]
    }
   ],
   "source": [
    "summ=0\n",
    "for i in range(1,11):\n",
    "    #summ=summ+i and summ+=i both are same formula\n",
    "    summ+=i\n",
    "    print(summ)"
   ]
  },
  {
   "cell_type": "code",
   "execution_count": 7,
   "id": "e790595c-6185-4882-81b1-e0ebf149ad45",
   "metadata": {},
   "outputs": [
    {
     "name": "stdout",
     "output_type": "stream",
     "text": [
      "5\n",
      "11\n",
      "18\n",
      "26\n",
      "35\n",
      "45\n",
      "56\n",
      "68\n",
      "81\n",
      "95\n",
      "110\n",
      "126\n",
      "143\n",
      "161\n",
      "180\n"
     ]
    }
   ],
   "source": [
    "summ=0\n",
    "for i in range(5,20):\n",
    "    #summ+=i and summ=summ+i are same formulas \n",
    "    summ=summ+i\n",
    "    print(summ)"
   ]
  },
  {
   "cell_type": "code",
   "execution_count": 119,
   "id": "25289e22-591a-476f-840e-6cfe7455bf47",
   "metadata": {},
   "outputs": [
    {
     "name": "stdout",
     "output_type": "stream",
     "text": [
      "180\n"
     ]
    }
   ],
   "source": [
    "summ=0\n",
    "for i in range(5,20):\n",
    "    #summ+=i and summ=summ+i are same formulas \n",
    "    summ=summ+i\n",
    "print(summ)"
   ]
  },
  {
   "cell_type": "code",
   "execution_count": null,
   "id": "7a34d49e-7665-4c7a-b5af-800b4908cb63",
   "metadata": {},
   "outputs": [],
   "source": [
    "**counter wrapper**\n",
    "- Before the loop=0\n",
    "- inside the loop count=count+1, but this line under succesfully operation\n",
    "- print the count outside the loop"
   ]
  },
  {
   "cell_type": "code",
   "execution_count": 5,
   "id": "d6e8af84-3cb1-4767-9eeb-0419677d7fcd",
   "metadata": {},
   "outputs": [
    {
     "name": "stdin",
     "output_type": "stream",
     "text": [
      "enter divisors of the num 12\n"
     ]
    },
    {
     "name": "stdout",
     "output_type": "stream",
     "text": [
      "1 is divisors for 12\n",
      "2 is divisors for 12\n",
      "3 is divisors for 12\n",
      "4 is divisors for 12\n",
      "6 is divisors for 12\n",
      "12 is divisors for 12\n"
     ]
    }
   ],
   "source": [
    "# write ask the user find the count of divisors\n",
    "num=eval(input('enter divisors of the num'))\n",
    "for i in range(1,num+1):\n",
    "    if num%i==0:\n",
    "        print(f\"{i} is divisors for {num}\")\n",
    "    "
   ]
  },
  {
   "cell_type": "code",
   "execution_count": 21,
   "id": "8a42abf1-7e60-4d27-b521-c862400514ba",
   "metadata": {},
   "outputs": [
    {
     "name": "stdin",
     "output_type": "stream",
     "text": [
      "enter divisors of the num 10\n"
     ]
    },
    {
     "name": "stdout",
     "output_type": "stream",
     "text": [
      "1 is divisors for 10\n",
      "2 is divisors for 10\n",
      "5 is divisors for 10\n",
      "10 is divisors for 10\n",
      "4\n"
     ]
    }
   ],
   "source": [
    "# write ask the user find the count of divisors\n",
    "count=0\n",
    "num=eval(input('enter divisors of the num'))\n",
    "for i in range(1,num+1):\n",
    "    if num%i==0:\n",
    "        count=count+1\n",
    "        print(f\"{i} is divisors for {num}\")\n",
    "print(count)      \n",
    "\n",
    "#for i in range(1,10+1) :\n",
    "             #count+1\n",
    "# step1: i=1  count=0+1=1  if   10%1==0    true\n",
    "# step2: i=2  count=1+1=2  if   10%2==0    true\n",
    "# step3: i=3  count=2+1=3  if   10%3==0    false"
   ]
  },
  {
   "cell_type": "code",
   "execution_count": 17,
   "id": "db0973a1-efb4-4320-8962-bd90fc91911e",
   "metadata": {},
   "outputs": [
    {
     "data": {
      "text/plain": [
       "False"
      ]
     },
     "execution_count": 17,
     "metadata": {},
     "output_type": "execute_result"
    }
   ],
   "source": [
    "10%3==0"
   ]
  },
  {
   "cell_type": "code",
   "execution_count": 49,
   "id": "255ff52d-aa6c-49f1-b3c5-98150c23d369",
   "metadata": {},
   "outputs": [
    {
     "name": "stdin",
     "output_type": "stream",
     "text": [
      "enter a number 10\n"
     ]
    },
    {
     "name": "stdout",
     "output_type": "stream",
     "text": [
      "the 10 is even\n"
     ]
    },
    {
     "name": "stdin",
     "output_type": "stream",
     "text": [
      "enter a number 5\n"
     ]
    },
    {
     "name": "stdout",
     "output_type": "stream",
     "text": [
      "the 5 is odd\n"
     ]
    },
    {
     "name": "stdin",
     "output_type": "stream",
     "text": [
      "enter a number 8\n"
     ]
    },
    {
     "name": "stdout",
     "output_type": "stream",
     "text": [
      "the 8 is even\n"
     ]
    },
    {
     "name": "stdin",
     "output_type": "stream",
     "text": [
      "enter a number 4\n"
     ]
    },
    {
     "name": "stdout",
     "output_type": "stream",
     "text": [
      "the 4 is even\n"
     ]
    },
    {
     "name": "stdin",
     "output_type": "stream",
     "text": [
      "enter a number 3\n"
     ]
    },
    {
     "name": "stdout",
     "output_type": "stream",
     "text": [
      "the 3 is odd\n"
     ]
    }
   ],
   "source": [
    "# write a program ask the user enter a number 5 times\n",
    "# the loop should ask 5 times you should calculate even odd number\n",
    "# get the count of even and count of odd numbers\n",
    "for i in range(5):\n",
    "    num=eval(input('enter a number'))  \n",
    "    if num%2==0:\n",
    "        print(f\"the {num} is even\")\n",
    "    else:\n",
    "        print(f\"the {num} is odd\")"
   ]
  },
  {
   "cell_type": "code",
   "execution_count": 67,
   "id": "ebee9517-7f22-4a43-8a72-461aa0dbbdd5",
   "metadata": {},
   "outputs": [
    {
     "name": "stdout",
     "output_type": "stream",
     "text": [
      "the even num are: 2\n",
      "the odd num are: 3\n"
     ]
    }
   ],
   "source": [
    "# write a program ask the user enter a number 5 times\n",
    "# the loop should ask 5 times you should calculate even odd number\n",
    "# get the count of even and count of odd numbers\n",
    "import random\n",
    "even_count,odd_count=0,0\n",
    "for i in range(5):\n",
    "    num=random.randint(1,100)  \n",
    "    if num%2==0:\n",
    "        even_count=even_count+1\n",
    "    else:\n",
    "        odd_count=odd_count+1\n",
    "print(f\"the even num are: {even_count}\")     \n",
    "print(f\"the odd num are: {odd_count}\")\n"
   ]
  },
  {
   "cell_type": "code",
   "execution_count": 71,
   "id": "3f9830bd-43f3-427c-84f3-a3079bce2eff",
   "metadata": {},
   "outputs": [
    {
     "name": "stdin",
     "output_type": "stream",
     "text": [
      "enter a divisors for num 10\n"
     ]
    },
    {
     "name": "stdout",
     "output_type": "stream",
     "text": [
      "1 divisors by 10\n",
      "2 divisors by 10\n",
      "5 divisors by 10\n",
      "10 divisors by 10\n",
      "the num of divisors are: 4\n",
      "the divisors of num: 18\n"
     ]
    }
   ],
   "source": [
    "count=0\n",
    "summ=0\n",
    "num=eval(input('enter a divisors for num'))\n",
    "for i in range(1,num+1):\n",
    "    if num%i==0:\n",
    "        count=count+1\n",
    "        summ=summ+i\n",
    "        print(f'{i} divisors by {num}')\n",
    "print(f\"the num of divisors are:\", count)    \n",
    "print(f\"the divisors of num:\", summ) # 1+2+5+10=18"
   ]
  },
  {
   "cell_type": "code",
   "execution_count": 81,
   "id": "43a6f024-ad2f-4e18-a7c6-1d7a841aa14c",
   "metadata": {},
   "outputs": [
    {
     "name": "stdout",
     "output_type": "stream",
     "text": [
      "odd: 73\n",
      "even: 10\n",
      "even: 100\n",
      "odd: 91\n",
      "even: 40\n",
      "the num of even are: 3\n",
      "the num of odd are: 2\n",
      "the sum of even are: 150\n",
      "the sum of odd are: 164\n"
     ]
    }
   ],
   "source": [
    "even_count,odd_count=0,0\n",
    "even_summ,odd_summ=0,0\n",
    "for i in range(5):\n",
    "    num=random.randint(1,100)  \n",
    "    if num%2==0:\n",
    "        print(f\"even: {num}\")\n",
    "        even_count=even_count+1\n",
    "        even_summ=even_summ+num\n",
    "    else:\n",
    "        print(f\"odd: {num}\")\n",
    "        odd_count=odd_count+1\n",
    "        odd_summ=odd_summ+num\n",
    "print(f\"the num of even are: {even_count}\")     \n",
    "print(f\"the num of odd are: {odd_count}\")\n",
    "print(f\"the sum of even are: {even_summ}\")\n",
    "print(f\"the sum of odd are: {odd_summ}\")"
   ]
  },
  {
   "cell_type": "code",
   "execution_count": 115,
   "id": "b61e890a-4df6-470a-b1b4-1623e63a20a8",
   "metadata": {},
   "outputs": [
    {
     "name": "stdout",
     "output_type": "stream",
     "text": [
      "6\n"
     ]
    },
    {
     "name": "stdin",
     "output_type": "stream",
     "text": [
      "enter the num 6\n"
     ]
    },
    {
     "name": "stdout",
     "output_type": "stream",
     "text": [
      "win\n",
      "4\n"
     ]
    },
    {
     "name": "stdin",
     "output_type": "stream",
     "text": [
      "enter the num 4\n"
     ]
    },
    {
     "name": "stdout",
     "output_type": "stream",
     "text": [
      "win\n",
      "6\n"
     ]
    },
    {
     "name": "stdin",
     "output_type": "stream",
     "text": [
      "enter the num 9\n"
     ]
    },
    {
     "name": "stdout",
     "output_type": "stream",
     "text": [
      "lost\n"
     ]
    }
   ],
   "source": [
    "# write ask the user enter random number 1,10\n",
    "# ask the user enter a number n1\n",
    "# if both numbers are match print win \n",
    "# otherwise print lost\n",
    "# you should provide 3 times\n",
    "import random\n",
    "for i in range(3):\n",
    "    n1=random.randint(1,10)\n",
    "    print(n1)\n",
    "    n2=eval(input('enter the num'))\n",
    "    if n1==n2:\n",
    "           print('win')\n",
    "    else:\n",
    "        print('lost')"
   ]
  },
  {
   "cell_type": "code",
   "execution_count": 113,
   "id": "f03be765-5591-433b-bbe0-98140947e877",
   "metadata": {},
   "outputs": [
    {
     "name": "stdout",
     "output_type": "stream",
     "text": [
      "4\n"
     ]
    },
    {
     "name": "stdin",
     "output_type": "stream",
     "text": [
      "enter the num 4\n"
     ]
    },
    {
     "name": "stdout",
     "output_type": "stream",
     "text": [
      "win\n"
     ]
    }
   ],
   "source": [
    "#case1: write ask the user enter random number 1,10\n",
    "# ask the user enter a number n1\n",
    "# if both numbers are match print win \n",
    "# otherwise print lost\n",
    "# you should provide 3 times\n",
    "import random\n",
    "for i in range(3):\n",
    "    n1=random.randint(1,10)\n",
    "    print(n1)\n",
    "    n2=eval(input('enter the num'))\n",
    "    if n1==n2: \n",
    "        print('win')\n",
    "        break\n",
    "    else:\n",
    "        print('lost')"
   ]
  },
  {
   "cell_type": "code",
   "execution_count": 17,
   "id": "2ad09ca1-04cb-47d0-b671-221f38848657",
   "metadata": {},
   "outputs": [
    {
     "name": "stdin",
     "output_type": "stream",
     "text": [
      "the number of chances you want to give:  3\n"
     ]
    },
    {
     "name": "stdout",
     "output_type": "stream",
     "text": [
      "9\n"
     ]
    },
    {
     "name": "stdin",
     "output_type": "stream",
     "text": [
      "enter the num 2\n"
     ]
    },
    {
     "name": "stdout",
     "output_type": "stream",
     "text": [
      "the chances left is: 2\n",
      "lost\n",
      "7\n"
     ]
    },
    {
     "name": "stdin",
     "output_type": "stream",
     "text": [
      "enter the num 4\n"
     ]
    },
    {
     "name": "stdout",
     "output_type": "stream",
     "text": [
      "the chances left is: 1\n",
      "lost\n",
      "10\n"
     ]
    },
    {
     "name": "stdin",
     "output_type": "stream",
     "text": [
      "enter the num 8\n"
     ]
    },
    {
     "name": "stdout",
     "output_type": "stream",
     "text": [
      "the chances left is: 0\n",
      "lost\n"
     ]
    }
   ],
   "source": [
    "# case2: for every failure\n",
    "# the number of chances should be display\n",
    "import random\n",
    "num=eval(input('the number of chances you want to give: '))\n",
    "for i in range(1,num+1): # the loop only two times\n",
    "    n1=random.randint(1,10)\n",
    "    print(n1)\n",
    "    n2=eval(input('enter the num'))\n",
    "    if n1==n2:\n",
    "        print('won')\n",
    "        break\n",
    "    else:\n",
    "        print('the chances left is:', num-i)\n",
    "        print('lost')"
   ]
  },
  {
   "cell_type": "code",
   "execution_count": 7,
   "id": "0a2369d3-c24b-457f-82cc-d53f322e0a86",
   "metadata": {},
   "outputs": [
    {
     "name": "stdin",
     "output_type": "stream",
     "text": [
      "the number of chances you want to give:  3\n"
     ]
    },
    {
     "name": "stdout",
     "output_type": "stream",
     "text": [
      "1\n"
     ]
    },
    {
     "name": "stdin",
     "output_type": "stream",
     "text": [
      "enter the num 8\n"
     ]
    },
    {
     "name": "stdout",
     "output_type": "stream",
     "text": [
      "the chances left is: 2\n",
      "lost\n",
      "1\n"
     ]
    },
    {
     "name": "stdin",
     "output_type": "stream",
     "text": [
      "enter the num 7\n"
     ]
    },
    {
     "name": "stdout",
     "output_type": "stream",
     "text": [
      "the chances left is: 1\n",
      "lost\n",
      "10\n"
     ]
    },
    {
     "name": "stdin",
     "output_type": "stream",
     "text": [
      "enter the num 9\n"
     ]
    },
    {
     "name": "stdout",
     "output_type": "stream",
     "text": [
      "all chances are over afer 24 hours\n"
     ]
    }
   ],
   "source": [
    "# case3: after all the chances are finished\n",
    "# print all the chances are lost try after 24 hours\n",
    "import random\n",
    "num=eval(input('the number of chances you want to give: '))\n",
    "for i in range(1,num+1): # the loop  run only time\n",
    "    n1=random.randint(1,10)\n",
    "    print(n1)\n",
    "    n2=eval(input('enter the num'))\n",
    "    if n1==n2:\n",
    "        print('won')\n",
    "        break\n",
    "    elif num-i==0:\n",
    "        print('all chances are over afer 24 hours')\n",
    "    else:\n",
    "        print('the chances left is:', num-i) # the number of chances you want to give:  3\n",
    "        print('lost')\n",
    "                                         #num-i==0\n",
    "# num=3   i=1   n1=3   n2=8   if    f   elif=3-1==0    f   else   num-i  3-1=2  \n",
    "# num=3   i=2   n1=3   n2=8   if    f   elif=3-2==0    f   else   num-i  3-2=1\n",
    "# num=3   i=3   n1=3   n2=10  if    f   elif=3-3==0    t   else   num-i  3-3=0 "
   ]
  },
  {
   "cell_type": "markdown",
   "id": "239410fe-d5a3-40e0-bebd-4d1dffd051fa",
   "metadata": {},
   "source": [
    "**In-Operator**\n",
    "- range operator excpect inside a value\n",
    "- in operator acess the value directly"
   ]
  },
  {
   "cell_type": "code",
   "execution_count": 20,
   "id": "cd9a4607-9b63-4e45-9077-724a9a495d65",
   "metadata": {},
   "outputs": [
    {
     "name": "stdout",
     "output_type": "stream",
     "text": [
      "p\n",
      "y\n",
      "t\n",
      "h\n",
      "o\n",
      "n\n"
     ]
    }
   ],
   "source": [
    "'P' in 'python'\n",
    "'y' in 'python'\n",
    "'t' in 'python'\n",
    "'h' in 'python'\n",
    "'o' in 'python'\n",
    "'n' in 'python'\n",
    "for i in 'python':\n",
    "    print(i)\n",
    "# is direct access of the items\n",
    "# range is mathmatics "
   ]
  },
  {
   "cell_type": "code",
   "execution_count": 22,
   "id": "6ff7a288-eb87-4385-b3bd-dd3f92a09939",
   "metadata": {},
   "outputs": [
    {
     "name": "stdout",
     "output_type": "stream",
     "text": [
      "l\n",
      "o\n",
      "k\n",
      "i\n"
     ]
    }
   ],
   "source": [
    "'l' in 'loki'\n",
    "'o' in 'loki'\n",
    "'k' in 'loki'\n",
    "'i' in 'loki'\n",
    "for i in 'loki':\n",
    "    print(i)\n"
   ]
  },
  {
   "cell_type": "code",
   "execution_count": 38,
   "id": "1275f5a8-7a45-475c-998b-720fcb9ca51e",
   "metadata": {},
   "outputs": [
    {
     "data": {
      "text/plain": [
       "False"
      ]
     },
     "execution_count": 38,
     "metadata": {},
     "output_type": "execute_result"
    }
   ],
   "source": [
    "'P'=='P'  # True\n",
    "'p'=='p'  # True\n",
    "'p'>'P'   # True\n",
    "'p'<'P'   # false"
   ]
  },
  {
   "cell_type": "code",
   "execution_count": 36,
   "id": "1bf4e2e2-7b02-40bc-937f-6301d6a2d493",
   "metadata": {},
   "outputs": [
    {
     "data": {
      "text/plain": [
       "True"
      ]
     },
     "execution_count": 36,
     "metadata": {},
     "output_type": "execute_result"
    }
   ],
   "source": [
    "'p'=='p'"
   ]
  },
  {
   "cell_type": "code",
   "execution_count": null,
   "id": "a9692d97-a449-40c8-b882-9cd0479c3603",
   "metadata": {},
   "outputs": [],
   "source": [
    "#ASCII Aamerican standard code for information interchange"
   ]
  },
  {
   "cell_type": "markdown",
   "id": "b3185367-c474-4dc4-b04c-70aff89ae180",
   "metadata": {},
   "source": [
    "**ord-chr**"
   ]
  },
  {
   "cell_type": "code",
   "execution_count": 41,
   "id": "b52e4122-d33d-4a7d-bc20-0e44537d7098",
   "metadata": {},
   "outputs": [
    {
     "data": {
      "text/plain": [
       "65"
      ]
     },
     "execution_count": 41,
     "metadata": {},
     "output_type": "execute_result"
    }
   ],
   "source": [
    "ord('A')"
   ]
  },
  {
   "cell_type": "code",
   "execution_count": 47,
   "id": "f41212e2-5b55-43ba-97a6-e3d18e8eafc9",
   "metadata": {},
   "outputs": [
    {
     "data": {
      "text/plain": [
       "'A'"
      ]
     },
     "execution_count": 47,
     "metadata": {},
     "output_type": "execute_result"
    }
   ],
   "source": [
    "chr(65)"
   ]
  },
  {
   "cell_type": "code",
   "execution_count": 51,
   "id": "5e2cd4b2-0ed4-44bc-b00a-42eadad5a07d",
   "metadata": {},
   "outputs": [
    {
     "data": {
      "text/plain": [
       "97"
      ]
     },
     "execution_count": 51,
     "metadata": {},
     "output_type": "execute_result"
    }
   ],
   "source": [
    "ord('a')"
   ]
  },
  {
   "cell_type": "code",
   "execution_count": 53,
   "id": "4899a208-5c1c-494d-9f25-d28f39887aa4",
   "metadata": {},
   "outputs": [
    {
     "data": {
      "text/plain": [
       "'a'"
      ]
     },
     "execution_count": 53,
     "metadata": {},
     "output_type": "execute_result"
    }
   ],
   "source": [
    "chr(97)"
   ]
  },
  {
   "cell_type": "code",
   "execution_count": 55,
   "id": "f4e5113d-9747-4093-9fc2-2a799b5c0ac0",
   "metadata": {},
   "outputs": [
    {
     "name": "stdout",
     "output_type": "stream",
     "text": [
      "65 A\n",
      "66 B\n",
      "67 C\n",
      "68 D\n",
      "69 E\n",
      "70 F\n",
      "71 G\n",
      "72 H\n",
      "73 I\n",
      "74 J\n",
      "75 K\n",
      "76 L\n",
      "77 M\n",
      "78 N\n",
      "79 O\n",
      "80 P\n",
      "81 Q\n",
      "82 R\n",
      "83 S\n",
      "84 T\n",
      "85 U\n",
      "86 V\n",
      "87 W\n",
      "88 X\n",
      "89 Y\n",
      "90 Z\n",
      "91 [\n",
      "92 \\\n",
      "93 ]\n",
      "94 ^\n",
      "95 _\n",
      "96 `\n",
      "97 a\n",
      "98 b\n",
      "99 c\n"
     ]
    }
   ],
   "source": [
    "for i in range(65,100):\n",
    "    print(i,chr(i))"
   ]
  },
  {
   "cell_type": "code",
   "execution_count": 73,
   "id": "306792db-c5af-4d03-ae8c-ecec3225a042",
   "metadata": {},
   "outputs": [
    {
     "name": "stdout",
     "output_type": "stream",
     "text": [
      "20 --> \u001421 --> \u001522 --> \u001623 --> \u001724 --> \u001825 --> \u001926 --> \u001a27 --> \u001b28 --> \u001c",
      "29 --> \u001d",
      "30 --> \u001e",
      "31 --> \u001f32 -->  33 --> !34 --> \"35 --> #36 --> $37 --> %38 --> &39 --> '40 --> (41 --> )42 --> *43 --> +44 --> ,45 --> -46 --> .47 --> /48 --> 049 --> 150 --> 251 --> 352 --> 453 --> 554 --> 655 --> 756 --> 857 --> 958 --> :59 --> ;60 --> <61 --> =62 --> >63 --> ?64 --> @65 --> A66 --> B67 --> C68 --> D69 --> E70 --> F71 --> G72 --> H73 --> I74 --> J75 --> K76 --> L77 --> M78 --> N79 --> O80 --> P81 --> Q82 --> R83 --> S84 --> T85 --> U86 --> V87 --> W88 --> X89 --> Y90 --> Z91 --> [92 --> \\93 --> ]94 --> ^95 --> _96 --> `97 --> a98 --> b99 --> c100 --> d101 --> e102 --> f103 --> g104 --> h105 --> i106 --> j107 --> k108 --> l109 --> m110 --> n111 --> o112 --> p113 --> q114 --> r115 --> s116 --> t117 --> u118 --> v119 --> w"
     ]
    }
   ],
   "source": [
    "for i in range(20,120):\n",
    "    print(i,'-->',chr(i),end='')\n"
   ]
  },
  {
   "cell_type": "code",
   "execution_count": 79,
   "id": "7ec8829d-c4c1-4c8d-ae2a-2fdab275da3d",
   "metadata": {},
   "outputs": [
    {
     "name": "stdout",
     "output_type": "stream",
     "text": [
      "32 -->  33 --> !34 --> \"35 --> #36 --> $37 --> %38 --> &39 --> '40 --> (41 --> )42 --> *43 --> +44 --> ,45 --> -46 --> .47 --> /48 --> 049 --> 150 --> 251 --> 352 --> 453 --> 554 --> 655 --> 756 --> 857 --> 958 --> :59 --> ;60 --> <61 --> =62 --> >63 --> ?64 --> @65 --> A66 --> B67 --> C68 --> D69 --> E70 --> F71 --> G72 --> H73 --> I74 --> J75 --> K76 --> L77 --> M78 --> N79 --> O80 --> P81 --> Q82 --> R83 --> S84 --> T85 --> U86 --> V87 --> W88 --> X89 --> Y90 --> Z91 --> [92 --> \\93 --> ]94 --> ^95 --> _96 --> `97 --> a98 --> b99 --> c100 --> d101 --> e102 --> f103 --> g104 --> h105 --> i106 --> j107 --> k108 --> l109 --> m110 --> n111 --> o112 --> p113 --> q114 --> r115 --> s116 --> t117 --> u118 --> v119 --> w120 --> x121 --> y122 --> z123 --> {124 --> |125 --> }126 --> ~127 --> "
     ]
    }
   ],
   "source": [
    "for i in range(32,128):\n",
    "    print(i,'-->',chr(i),end='')\n"
   ]
  },
  {
   "cell_type": "code",
   "execution_count": 81,
   "id": "342feb28-3fb6-47c8-b64f-aed5ca413c52",
   "metadata": {},
   "outputs": [
    {
     "name": "stdout",
     "output_type": "stream",
     "text": [
      "1000 --> Ϩ1001 --> ϩ1002 --> Ϫ1003 --> ϫ1004 --> Ϭ1005 --> ϭ1006 --> Ϯ1007 --> ϯ1008 --> ϰ1009 --> ϱ1010 --> ϲ1011 --> ϳ1012 --> ϴ1013 --> ϵ1014 --> ϶1015 --> Ϸ1016 --> ϸ1017 --> Ϲ1018 --> Ϻ1019 --> ϻ1020 --> ϼ1021 --> Ͻ1022 --> Ͼ1023 --> Ͽ1024 --> Ѐ1025 --> Ё1026 --> Ђ1027 --> Ѓ1028 --> Є1029 --> Ѕ1030 --> І1031 --> Ї1032 --> Ј1033 --> Љ1034 --> Њ1035 --> Ћ1036 --> Ќ1037 --> Ѝ1038 --> Ў1039 --> Џ1040 --> А1041 --> Б1042 --> В1043 --> Г1044 --> Д1045 --> Е1046 --> Ж1047 --> З1048 --> И1049 --> Й1050 --> К1051 --> Л1052 --> М1053 --> Н1054 --> О1055 --> П1056 --> Р1057 --> С1058 --> Т1059 --> У1060 --> Ф1061 --> Х1062 --> Ц1063 --> Ч1064 --> Ш1065 --> Щ1066 --> Ъ1067 --> Ы1068 --> Ь1069 --> Э1070 --> Ю1071 --> Я1072 --> а1073 --> б1074 --> в1075 --> г1076 --> д1077 --> е1078 --> ж1079 --> з1080 --> и1081 --> й1082 --> к1083 --> л1084 --> м1085 --> н1086 --> о1087 --> п1088 --> р1089 --> с1090 --> т1091 --> у1092 --> ф1093 --> х1094 --> ц1095 --> ч1096 --> ш1097 --> щ1098 --> ъ1099 --> ы"
     ]
    }
   ],
   "source": [
    "for i in range(1000,1100):\n",
    "    print(i,'-->',chr(i),end='')"
   ]
  },
  {
   "cell_type": "code",
   "execution_count": 87,
   "id": "f7015588-b06e-48cf-83d3-62938fb3ee64",
   "metadata": {},
   "outputs": [
    {
     "name": "stdout",
     "output_type": "stream",
     "text": [
      "3078 --> ఆ3079 --> ఇ3080 --> ఈ3081 --> ఉ3082 --> ఊ3083 --> ఋ3084 --> ఌ3085 --> ఍3086 --> ఎ3087 --> ఏ3088 --> ఐ3089 --> ఑3090 --> ఒ3091 --> ఓ3092 --> ఔ3093 --> క3094 --> ఖ3095 --> గ3096 --> ఘ3097 --> ఙ3098 --> చ3099 --> ఛ3100 --> జ3101 --> ఝ3102 --> ఞ3103 --> ట3104 --> ఠ3105 --> డ3106 --> ఢ3107 --> ణ3108 --> త3109 --> థ3110 --> ద3111 --> ధ3112 --> న3113 --> ఩3114 --> ప3115 --> ఫ3116 --> బ3117 --> భ3118 --> మ3119 --> య3120 --> ర3121 --> ఱ3122 --> ల3123 --> ళ3124 --> ఴ3125 --> వ3126 --> శ3127 --> ష3128 --> స3129 --> హ3130 --> ఺3131 --> ఻3132 --> ఼3133 --> ఽ3134 --> ా3135 --> ి3136 --> ీ3137 --> ు3138 --> ూ3139 --> ృ3140 --> ౄ3141 --> ౅3142 --> ె3143 --> ే3144 --> ై3145 --> ౉3146 --> ొ3147 --> ో3148 --> ౌ3149 --> ్3150 --> ౎3151 --> ౏3152 --> ౐3153 --> ౑3154 --> ౒3155 --> ౓3156 --> ౔3157 --> ౕ3158 --> ౖ3159 --> ౗3160 --> ౘ3161 --> ౙ3162 --> ౚ3163 --> ౛3164 --> ౜3165 --> ౝ3166 --> ౞3167 --> ౟3168 --> ౠ3169 --> ౡ3170 --> ౢ3171 --> ౣ3172 --> ౤3173 --> ౥3174 --> ౦3175 --> ౧3176 --> ౨3177 --> ౩3178 --> ౪3179 --> ౫3180 --> ౬3181 --> ౭3182 --> ౮3183 --> ౯3184 --> ౰3185 --> ౱3186 --> ౲3187 --> ౳3188 --> ౴3189 --> ౵3190 --> ౶3191 --> ౷3192 --> ౸3193 --> ౹3194 --> ౺3195 --> ౻3196 --> ౼3197 --> ౽3198 --> ౾3199 --> ౿"
     ]
    }
   ],
   "source": [
    "for i in range(3078,3200):\n",
    "    print(i,'-->',chr(i),end='')"
   ]
  },
  {
   "cell_type": "code",
   "execution_count": 91,
   "id": "d1889598-f3e8-4d38-a176-60fc7a26f1c3",
   "metadata": {},
   "outputs": [
    {
     "name": "stdout",
     "output_type": "stream",
     "text": [
      "2308 --> ऄ2309 --> अ2310 --> आ2311 --> इ2312 --> ई2313 --> उ2314 --> ऊ2315 --> ऋ2316 --> ऌ2317 --> ऍ2318 --> ऎ2319 --> ए2320 --> ऐ2321 --> ऑ2322 --> ऒ2323 --> ओ2324 --> औ2325 --> क2326 --> ख2327 --> ग2328 --> घ2329 --> ङ2330 --> च2331 --> छ2332 --> ज2333 --> झ2334 --> ञ2335 --> ट2336 --> ठ2337 --> ड2338 --> ढ2339 --> ण2340 --> त2341 --> थ2342 --> द2343 --> ध2344 --> न2345 --> ऩ2346 --> प2347 --> फ2348 --> ब2349 --> भ2350 --> म2351 --> य2352 --> र2353 --> ऱ2354 --> ल2355 --> ळ2356 --> ऴ2357 --> व2358 --> श2359 --> ष2360 --> स2361 --> ह2362 --> ऺ2363 --> ऻ2364 --> ़2365 --> ऽ2366 --> ा2367 --> ि2368 --> ी2369 --> ु2370 --> ू2371 --> ृ2372 --> ॄ2373 --> ॅ2374 --> ॆ2375 --> े2376 --> ै2377 --> ॉ2378 --> ॊ2379 --> ो2380 --> ौ2381 --> ्2382 --> ॎ2383 --> ॏ2384 --> ॐ2385 --> ॑2386 --> ॒2387 --> ॓2388 --> ॔2389 --> ॕ2390 --> ॖ2391 --> ॗ2392 --> क़2393 --> ख़2394 --> ग़2395 --> ज़2396 --> ड़2397 --> ढ़2398 --> फ़2399 --> य़"
     ]
    }
   ],
   "source": [
    "for i in range(2308,2400):\n",
    "    print(i,'-->',chr(i),end='')"
   ]
  },
  {
   "cell_type": "code",
   "execution_count": null,
   "id": "43ce7694-b310-4920-bbb1-90feab22d9ac",
   "metadata": {},
   "outputs": [],
   "source": [
    "- this is called natural language processing(NLP).\n",
    "- how to convert english letters to mathamatics way.\n",
    "- **everything is convert in to number**"
   ]
  },
  {
   "cell_type": "code",
   "execution_count": 103,
   "id": "d4e44bbc-4df0-472d-b4ea-c623dbb6089f",
   "metadata": {},
   "outputs": [],
   "source": [
    "# 'A' to 'Z' numers for using for Loop\n",
    "# i want to iterate my loop along A-Z so that i want to get ASCII numbers\n",
    "# i want only numbers"
   ]
  },
  {
   "cell_type": "code",
   "execution_count": 99,
   "id": "7bf20db7-9a4d-4261-959c-89a80cf16460",
   "metadata": {},
   "outputs": [
    {
     "name": "stdout",
     "output_type": "stream",
     "text": [
      "65 --> A66 --> B67 --> C68 --> D69 --> E70 --> F71 --> G72 --> H73 --> I74 --> J75 --> K76 --> L77 --> M78 --> N79 --> O80 --> P81 --> Q82 --> R83 --> S84 --> T85 --> U86 --> V87 --> W88 --> X89 --> Y"
     ]
    }
   ],
   "source": [
    "for i in range(ord('A'),ord('Z')):\n",
    "    print(i,'-->',chr(i),end='')"
   ]
  },
  {
   "cell_type": "code",
   "execution_count": 9,
   "id": "1fbe10e3-ab99-4d9f-a69b-00d4a2338fd8",
   "metadata": {},
   "outputs": [
    {
     "name": "stdout",
     "output_type": "stream",
     "text": [
      "65 --> A66 --> B67 --> C68 --> D69 --> E70 --> F71 --> G72 --> H73 --> I74 --> J75 --> K76 --> L77 --> M78 --> N79 --> O80 --> P81 --> Q82 --> R83 --> S84 --> T85 --> U86 --> V87 --> W88 --> X89 --> Y90 --> Z91 --> [92 --> \\93 --> ]94 --> ^"
     ]
    }
   ],
   "source": [
    "for i in range(65,95):\n",
    "    print(i,'-->',chr(i),end='')"
   ]
  },
  {
   "cell_type": "code",
   "execution_count": 13,
   "id": "f9bdf477-9287-4684-a75f-7b0404e9af67",
   "metadata": {},
   "outputs": [
    {
     "name": "stdout",
     "output_type": "stream",
     "text": [
      "A 65\n",
      "B 66\n",
      "C 67\n",
      "D 68\n",
      "E 69\n",
      "F 70\n",
      "G 71\n",
      "H 72\n",
      "I 73\n",
      "J 74\n",
      "K 75\n",
      "L 76\n",
      "M 77\n",
      "N 78\n",
      "O 79\n",
      "P 80\n",
      "Q 81\n",
      "R 82\n",
      "S 83\n",
      "T 84\n",
      "U 85\n",
      "V 86\n",
      "W 87\n",
      "X 88\n",
      "Y 89\n",
      "Z 90\n"
     ]
    }
   ],
   "source": [
    "import string\n",
    "for i in string.ascii_uppercase:\n",
    "    print(i,ord(i))\n"
   ]
  },
  {
   "cell_type": "markdown",
   "id": "e6f9443b-3eb2-4801-8dd3-6e105df6ddac",
   "metadata": {},
   "source": [
    "**iterator**\n",
    "- in operator access direct elemets which is called iterator\n",
    "- iterator means - String\n",
    "                 - list\n",
    "                 - tuple\n",
    "                 - Dictionary\n",
    "- iterator means which can be print by using for loop\n",
    "- whenever we use in operator dont give the numbers\n",
    "- whenever we use in range operator dont give any iterator\n",
    "- range needs only number"
   ]
  },
  {
   "cell_type": "code",
   "execution_count": 24,
   "id": "55b25f05-b383-4d9a-8b03-936ce772329b",
   "metadata": {},
   "outputs": [
    {
     "data": {
      "text/plain": [
       "['h', 'n', 'o', 'p', 't', 'y']"
      ]
     },
     "execution_count": 24,
     "metadata": {},
     "output_type": "execute_result"
    }
   ],
   "source": [
    "sorted('python')\n",
    "# sorted means lower num to higher number\n",
    "# (104),(110),(111),(112),(116),(121)"
   ]
  },
  {
   "cell_type": "code",
   "execution_count": 20,
   "id": "d8e5f0f7-6f5e-4f50-b120-3caf8e377ce1",
   "metadata": {},
   "outputs": [
    {
     "data": {
      "text/plain": [
       "(112, 121, 116, 104, 111, 110)"
      ]
     },
     "execution_count": 20,
     "metadata": {},
     "output_type": "execute_result"
    }
   ],
   "source": [
    "ord('p'),ord('y'),ord('t'),ord('h'),ord('o'),ord('n')"
   ]
  },
  {
   "cell_type": "code",
   "execution_count": 26,
   "id": "e83fc596-2ed6-4a8f-93b8-73f78d757d80",
   "metadata": {},
   "outputs": [
    {
     "data": {
      "text/plain": [
       "['i', 'k', 'l', 'o']"
      ]
     },
     "execution_count": 26,
     "metadata": {},
     "output_type": "execute_result"
    }
   ],
   "source": [
    "sorted('loki')"
   ]
  },
  {
   "cell_type": "code",
   "execution_count": 28,
   "id": "5e376691-5e6b-4dc6-8d00-a1c3b08663f7",
   "metadata": {},
   "outputs": [
    {
     "data": {
      "text/plain": [
       "(108, 111, 107, 105)"
      ]
     },
     "execution_count": 28,
     "metadata": {},
     "output_type": "execute_result"
    }
   ],
   "source": [
    "ord('l'),ord('o'),ord('k'),ord('i')"
   ]
  },
  {
   "cell_type": "code",
   "execution_count": null,
   "id": "765a2608-a8c4-454a-ad53-4425c929f2ff",
   "metadata": {},
   "outputs": [],
   "source": []
  }
 ],
 "metadata": {
  "kernelspec": {
   "display_name": "Python [conda env:base] *",
   "language": "python",
   "name": "conda-base-py"
  },
  "language_info": {
   "codemirror_mode": {
    "name": "ipython",
    "version": 3
   },
   "file_extension": ".py",
   "mimetype": "text/x-python",
   "name": "python",
   "nbconvert_exporter": "python",
   "pygments_lexer": "ipython3",
   "version": "3.12.7"
  }
 },
 "nbformat": 4,
 "nbformat_minor": 5
}

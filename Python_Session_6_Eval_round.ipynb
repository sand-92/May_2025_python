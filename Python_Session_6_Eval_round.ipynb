{
 "cells": [
  {
   "cell_type": "markdown",
   "id": "9fd866a7-0921-40f8-8e04-f5ef391363fe",
   "metadata": {},
   "source": [
    "- Generally if you abserve any application\n",
    "- user will provide the values\n",
    "- backend some programming language will work\n",
    "- if any code the values we give is called **Hard code**\n",
    "- always the code should be generic\n",
    "- in python the user can provide the values from keybord using **input**     "
   ]
  },
  {
   "cell_type": "code",
   "execution_count": 8,
   "id": "7c6c8130-94bd-4cdf-ad33-eba015079c48",
   "metadata": {},
   "outputs": [
    {
     "name": "stdin",
     "output_type": "stream",
     "text": [
      " hello\n"
     ]
    },
    {
     "data": {
      "text/plain": [
       "'hello'"
      ]
     },
     "execution_count": 8,
     "metadata": {},
     "output_type": "execute_result"
    }
   ],
   "source": [
    "input()"
   ]
  },
  {
   "cell_type": "code",
   "execution_count": 4,
   "id": "61bd873f-673f-4850-9f7e-e6177e28971c",
   "metadata": {},
   "outputs": [],
   "source": [
    "a=10"
   ]
  },
  {
   "cell_type": "code",
   "execution_count": 10,
   "id": "880c5b49-dcae-41e5-adaa-1a9bb8a75207",
   "metadata": {},
   "outputs": [
    {
     "name": "stdin",
     "output_type": "stream",
     "text": [
      " 30\n"
     ]
    },
    {
     "data": {
      "text/plain": [
       "'30'"
      ]
     },
     "execution_count": 10,
     "metadata": {},
     "output_type": "execute_result"
    }
   ],
   "source": [
    "input()\n"
   ]
  },
  {
   "cell_type": "code",
   "execution_count": 12,
   "id": "cc784733-f98b-45a6-86b1-100d0e765bd9",
   "metadata": {},
   "outputs": [
    {
     "name": "stdin",
     "output_type": "stream",
     "text": [
      " 20\n",
      " 30\n",
      " done\n"
     ]
    },
    {
     "data": {
      "text/plain": [
       "'done'"
      ]
     },
     "execution_count": 12,
     "metadata": {},
     "output_type": "execute_result"
    }
   ],
   "source": [
    "input()\n",
    "input()\n",
    "input()"
   ]
  },
  {
   "cell_type": "code",
   "execution_count": 14,
   "id": "3e69c94d-6f2f-4a19-bdc1-016208157997",
   "metadata": {},
   "outputs": [
    {
     "name": "stdin",
     "output_type": "stream",
     "text": [
      " PYTHON\n"
     ]
    },
    {
     "data": {
      "text/plain": [
       "'PYTHON'"
      ]
     },
     "execution_count": 14,
     "metadata": {},
     "output_type": "execute_result"
    }
   ],
   "source": [
    "input()"
   ]
  },
  {
   "cell_type": "code",
   "execution_count": 16,
   "id": "ecc707d9-64ab-4286-be96-621766d02c56",
   "metadata": {},
   "outputs": [
    {
     "name": "stdin",
     "output_type": "stream",
     "text": [
      "enter a number1: 30\n"
     ]
    },
    {
     "data": {
      "text/plain": [
       "'30'"
      ]
     },
     "execution_count": 16,
     "metadata": {},
     "output_type": "execute_result"
    }
   ],
   "source": [
    "input('enter a number1:')"
   ]
  },
  {
   "cell_type": "code",
   "execution_count": 18,
   "id": "79eb44dc-ad5f-4831-a9be-4fb081bd5f37",
   "metadata": {},
   "outputs": [
    {
     "name": "stdin",
     "output_type": "stream",
     "text": [
      "enter your name: python\n",
      "enter your age: 10 y\n",
      "enter your city: hyd\n"
     ]
    },
    {
     "data": {
      "text/plain": [
       "'hyd'"
      ]
     },
     "execution_count": 18,
     "metadata": {},
     "output_type": "execute_result"
    }
   ],
   "source": [
    "input('enter your name:')\n",
    "input('enter your age:')\n",
    "input('enter your city:')"
   ]
  },
  {
   "cell_type": "code",
   "execution_count": 20,
   "id": "01425661-58b8-4b2d-a176-47573da1af71",
   "metadata": {},
   "outputs": [
    {
     "data": {
      "text/plain": [
       "'hyd'"
      ]
     },
     "execution_count": 20,
     "metadata": {},
     "output_type": "execute_result"
    }
   ],
   "source": [
    "'python'\n",
    "10\n",
    "'hyd'"
   ]
  },
  {
   "cell_type": "code",
   "execution_count": 22,
   "id": "02d6bb3c-437a-4d0a-b08c-7ca90c02fa6a",
   "metadata": {},
   "outputs": [
    {
     "data": {
      "text/plain": [
       "30"
      ]
     },
     "execution_count": 22,
     "metadata": {},
     "output_type": "execute_result"
    }
   ],
   "source": [
    "a=10\n",
    "b=20\n",
    "a+b"
   ]
  },
  {
   "cell_type": "code",
   "execution_count": 24,
   "id": "fdf74e2b-f84c-4ac3-aec2-6b88c38763e7",
   "metadata": {},
   "outputs": [
    {
     "name": "stdin",
     "output_type": "stream",
     "text": [
      "enter a value1: 10\n",
      "enter a value2: 20\n"
     ]
    },
    {
     "data": {
      "text/plain": [
       "'1020'"
      ]
     },
     "execution_count": 24,
     "metadata": {},
     "output_type": "execute_result"
    }
   ],
   "source": [
    "a=input('enter a value1:')\n",
    "b=input('enter a value2:')\n",
    "a+b"
   ]
  },
  {
   "cell_type": "code",
   "execution_count": 26,
   "id": "a9509b3c-e2da-4b0d-8c78-9ce2f6ce9599",
   "metadata": {},
   "outputs": [
    {
     "name": "stdin",
     "output_type": "stream",
     "text": [
      "enter a value1: 100\n",
      "enter a value: 200\n"
     ]
    },
    {
     "data": {
      "text/plain": [
       "300"
      ]
     },
     "execution_count": 26,
     "metadata": {},
     "output_type": "execute_result"
    }
   ],
   "source": [
    "a=int(input('enter a value1:'))   # a =100\n",
    "b=int(input('enter a value:'))   # b =200\n",
    "a+b"
   ]
  },
  {
   "cell_type": "code",
   "execution_count": 1,
   "id": "573c4b54-75f7-45b3-b14e-af65df8c4089",
   "metadata": {},
   "outputs": [
    {
     "data": {
      "text/plain": [
       "300"
      ]
     },
     "execution_count": 1,
     "metadata": {},
     "output_type": "execute_result"
    }
   ],
   "source": [
    "int('100')+int('200')"
   ]
  },
  {
   "cell_type": "code",
   "execution_count": 3,
   "id": "d65ce31f-dd5d-4a51-8b2d-862456faf726",
   "metadata": {},
   "outputs": [
    {
     "data": {
      "text/plain": [
       "'100200'"
      ]
     },
     "execution_count": 3,
     "metadata": {},
     "output_type": "execute_result"
    }
   ],
   "source": [
    "'100'+'200'"
   ]
  },
  {
   "cell_type": "code",
   "execution_count": 5,
   "id": "e2164a90-033e-48ff-87e1-5ed764a6a995",
   "metadata": {},
   "outputs": [
    {
     "name": "stdin",
     "output_type": "stream",
     "text": [
      "enter a number1: 100\n",
      "entet a number2: 200\n"
     ]
    },
    {
     "data": {
      "text/plain": [
       "300"
      ]
     },
     "execution_count": 5,
     "metadata": {},
     "output_type": "execute_result"
    }
   ],
   "source": [
    "n1=int(input(\"enter a number1:\"))\n",
    "n2=int(input(\"entet a number2:\"))\n",
    "n1+n2"
   ]
  },
  {
   "cell_type": "code",
   "execution_count": 15,
   "id": "c350d2cd-c455-4f0a-b2d3-11adde108dfd",
   "metadata": {},
   "outputs": [
    {
     "data": {
      "text/plain": [
       "300"
      ]
     },
     "execution_count": 15,
     "metadata": {},
     "output_type": "execute_result"
    }
   ],
   "source": [
    "n1='100' \n",
    "n2='200'\n",
    "add=int(n1)+int(n2)\n",
    "add"
   ]
  },
  {
   "cell_type": "code",
   "execution_count": 17,
   "id": "771c849f-859d-487f-80c4-3956da6d66c4",
   "metadata": {},
   "outputs": [
    {
     "name": "stdin",
     "output_type": "stream",
     "text": [
      "enter the n1: 100\n",
      "enter the n2: 200\n"
     ]
    },
    {
     "data": {
      "text/plain": [
       "300"
      ]
     },
     "execution_count": 17,
     "metadata": {},
     "output_type": "execute_result"
    }
   ],
   "source": [
    "n1=int(input(\"enter a number1:\"))  #n1=int(\"100\")\n",
    "n2=int(input(\"entet a number2:\"))  #n2=int(\"200\")\n",
    "n1+n2         #100+200=300\n",
    "###################################\n",
    "\n",
    "n1=input(\"enter the n1:\")\n",
    "n2=input(\"enter the n2:\")\n",
    "add=int(n1)+int(n2)        #add=int(\"100\")+int(\"200\")=100+200=300\n",
    "add"
   ]
  },
  {
   "cell_type": "code",
   "execution_count": 36,
   "id": "c7624b04-d238-4758-bd5f-fb4fce339021",
   "metadata": {},
   "outputs": [
    {
     "name": "stdin",
     "output_type": "stream",
     "text": [
      "enter n1: 100\n",
      "enter n2: 200\n"
     ]
    },
    {
     "data": {
      "text/plain": [
       "300.0"
      ]
     },
     "execution_count": 36,
     "metadata": {},
     "output_type": "execute_result"
    }
   ],
   "source": [
    "n1=float(input('enter n1:'))\n",
    "n2=float(input('enter n2:'))\n",
    "n1+n2"
   ]
  },
  {
   "cell_type": "code",
   "execution_count": 1,
   "id": "c5264196-497b-4f32-ab65-9c06d14b13ca",
   "metadata": {},
   "outputs": [
    {
     "name": "stdin",
     "output_type": "stream",
     "text": [
      " 100.5\n",
      " 100\n"
     ]
    }
   ],
   "source": [
    "n1=float(input())\n",
    "n2=int(input())"
   ]
  },
  {
   "cell_type": "code",
   "execution_count": 31,
   "id": "712e6ce4-b9e8-4657-b544-05fcd27c7443",
   "metadata": {},
   "outputs": [
    {
     "data": {
      "text/plain": [
       "10.5"
      ]
     },
     "execution_count": 31,
     "metadata": {},
     "output_type": "execute_result"
    }
   ],
   "source": [
    "float('10')\n",
    "float('10.5')"
   ]
  },
  {
   "cell_type": "code",
   "execution_count": 33,
   "id": "de0bc2e4-9761-41a4-a829-d86f6f9ba06e",
   "metadata": {},
   "outputs": [
    {
     "name": "stdin",
     "output_type": "stream",
     "text": [
      "enter n1: 100.25\n",
      "enter n2: 100\n"
     ]
    },
    {
     "data": {
      "text/plain": [
       "200.25"
      ]
     },
     "execution_count": 33,
     "metadata": {},
     "output_type": "execute_result"
    }
   ],
   "source": [
    "n1=float(input('enter n1:'))\n",
    "n2=int(input('enter n2:'))\n",
    "n1+n2"
   ]
  },
  {
   "cell_type": "markdown",
   "id": "95bdd9b7-73f4-40a9-bdc9-31bf46fcf1c4",
   "metadata": {},
   "source": [
    "**Eval**"
   ]
  },
  {
   "cell_type": "markdown",
   "id": "07ed5d7f-b10c-4ce1-bed4-7dffc542aa92",
   "metadata": {},
   "source": [
    "- whenever we listen about eval it represents math term **evaluate**\n",
    "- instead of focus on int and float every time\n",
    "- simply use **eval** conversion always\n",
    "- if you apply eval it will convert the value based on base data type\n",
    "- if user will provide the integer, it will convert into integer value\n",
    "- if user  will provide the float, it will convert into float value\n",
    "- if user  will provide the string, it will give the error"
   ]
  },
  {
   "cell_type": "code",
   "execution_count": 39,
   "id": "675d7a8e-61d3-4b31-88e8-015e182ffd5b",
   "metadata": {},
   "outputs": [
    {
     "name": "stdin",
     "output_type": "stream",
     "text": [
      "enter a number1: 100\n",
      "entet a number2: 200\n"
     ]
    },
    {
     "data": {
      "text/plain": [
       "300"
      ]
     },
     "execution_count": 39,
     "metadata": {},
     "output_type": "execute_result"
    }
   ],
   "source": [
    "n1=eval(input(\"enter a number1:\"))  #n1=int(\"100\")\n",
    "n2=eval(input(\"entet a number2:\"))  #n2=int(\"200\")\n",
    "n1+n2         "
   ]
  },
  {
   "cell_type": "code",
   "execution_count": 45,
   "id": "76c7190e-9d27-48b5-8441-5e00c0d470ac",
   "metadata": {},
   "outputs": [
    {
     "name": "stdin",
     "output_type": "stream",
     "text": [
      "enter a number1: 100.5\n",
      "entet a number2: 200.5\n"
     ]
    },
    {
     "name": "stdout",
     "output_type": "stream",
     "text": [
      "the addition of 100.5 and 200.5 is 301.0\n"
     ]
    }
   ],
   "source": [
    "n1=eval(input(\"enter a number1:\"))  #n1=int(\"100\")\n",
    "n2=eval(input(\"entet a number2:\"))  #n2=int(\"200.3\")\n",
    "n1+n2   \n",
    "print(f\"the addition of {n1} and {n2} is {n1+n2}\")"
   ]
  },
  {
   "cell_type": "code",
   "execution_count": 70,
   "id": "804caceb-8747-4e1d-b2a9-2890c6218779",
   "metadata": {},
   "outputs": [
    {
     "name": "stdin",
     "output_type": "stream",
     "text": [
      "enter the n1: 1\n",
      "enter the n2: 11\n",
      "enter the n3: 47\n"
     ]
    },
    {
     "name": "stdout",
     "output_type": "stream",
     "text": [
      "the avg of 1, 11 and 47 is 19.666666666666668\n"
     ]
    }
   ],
   "source": [
    "##write ask the user take three numbers from keyboard and print averange?\n",
    "# (n1+n2+n3/3)\n",
    "n1=eval(input(\"enter the n1:\"))\n",
    "n2=eval(input(\"enter the n2:\"))\n",
    "n3=eval(input(\"enter the n3:\"))\n",
    "avg=(n1+n2+n3)/3\n",
    "print(f\"the avg of {n1}, {n2} and {n3} is {avg}\") "
   ]
  },
  {
   "cell_type": "markdown",
   "id": "da9198da-e8d8-4b5e-bcf7-c7d80d4e4ca9",
   "metadata": {},
   "source": [
    "**Round**"
   ]
  },
  {
   "cell_type": "code",
   "execution_count": 58,
   "id": "95228aae-0b0a-4d43-a677-587978250c21",
   "metadata": {},
   "outputs": [
    {
     "data": {
      "text/plain": [
       "(20, 19.67)"
      ]
     },
     "execution_count": 58,
     "metadata": {},
     "output_type": "execute_result"
    }
   ],
   "source": [
    "round(19.66666),round(19.66666,2)"
   ]
  },
  {
   "cell_type": "code",
   "execution_count": 56,
   "id": "7667a292-0976-4f19-8931-70cfdd22622a",
   "metadata": {},
   "outputs": [
    {
     "data": {
      "text/plain": [
       "19.667"
      ]
     },
     "execution_count": 56,
     "metadata": {},
     "output_type": "execute_result"
    }
   ],
   "source": [
    "round(19.66666,3)"
   ]
  },
  {
   "cell_type": "code",
   "execution_count": 72,
   "id": "7d4b98be-f82b-438b-9e4d-525a9bb9add7",
   "metadata": {},
   "outputs": [
    {
     "name": "stdin",
     "output_type": "stream",
     "text": [
      "enter a number: 1\n",
      "enter a number: 11\n",
      "enter a number: 47\n"
     ]
    },
    {
     "name": "stdout",
     "output_type": "stream",
     "text": [
      "the avg of 1, 11 and 47 is 19.67\n"
     ]
    }
   ],
   "source": [
    "n1=eval(input(\"enter a number n1:\"))\n",
    "n2=eval(input(\"enter a number n2:\"))\n",
    "n3=eval(input(\"enter a number n3:\"))\n",
    "avg=(n1+n2+n3)/3\n",
    "avg1=round(avg,2)\n",
    "print(f\"the avg of {n1}, {n2} and {n3} is {avg1}\") "
   ]
  },
  {
   "cell_type": "code",
   "execution_count": 78,
   "id": "15f2a9f4-f19b-45ca-99fc-5c617e0915ed",
   "metadata": {},
   "outputs": [
    {
     "data": {
      "text/plain": [
       "20.123"
      ]
     },
     "execution_count": 78,
     "metadata": {},
     "output_type": "execute_result"
    }
   ],
   "source": [
    "round(20.1234 ,3)"
   ]
  },
  {
   "cell_type": "code",
   "execution_count": 90,
   "id": "ea807356-046a-44bb-ba13-e3b313757a3f",
   "metadata": {},
   "outputs": [
    {
     "name": "stdin",
     "output_type": "stream",
     "text": [
      "enter a number n1: 1\n",
      "enter a number n2: 11\n",
      "enter a number n3: 47\n"
     ]
    },
    {
     "name": "stdout",
     "output_type": "stream",
     "text": [
      "the avg of 1, 11 and 47 is 19.67\n"
     ]
    }
   ],
   "source": [
    "n1=eval(input(\"enter a number n1:\"))\n",
    "n2=eval(input(\"enter a number n2:\"))\n",
    "n3=eval(input(\"enter a number n3:\"))\n",
    "avg=round((n1+n2+n3)/3,2)\n",
    "print(f\"the avg of {n1}, {n2} and {n3} is {avg1}\") "
   ]
  },
  {
   "cell_type": "code",
   "execution_count": 1,
   "id": "210762fb-67ac-4657-a2ec-d161b3d927c1",
   "metadata": {},
   "outputs": [
    {
     "name": "stdin",
     "output_type": "stream",
     "text": [
      "enter a breadth: 20\n",
      "enter a height: 30\n"
     ]
    },
    {
     "name": "stdout",
     "output_type": "stream",
     "text": [
      "the area of circle is: 300.0\n"
     ]
    }
   ],
   "source": [
    "##write ask the user take the breadth and height from keyboard?\n",
    "# calculate area of right angle triangle\n",
    "# formula(area)=0.5*b*h\n",
    "breadth=eval(input(\"enter a breadth:\"))\n",
    "height=eval(input(\"enter a height:\"))\n",
    "area=0.5*breadth*height\n",
    "print(f\"the area of circle is: {area}\")"
   ]
  },
  {
   "cell_type": "code",
   "execution_count": 5,
   "id": "c1af13ee-3048-4b5a-93ef-4f13ae02773a",
   "metadata": {},
   "outputs": [
    {
     "name": "stdin",
     "output_type": "stream",
     "text": [
      "enter the radius 30\n"
     ]
    },
    {
     "name": "stdout",
     "output_type": "stream",
     "text": [
      "the area of circle is: 2826.0\n"
     ]
    }
   ],
   "source": [
    "# write ask the take the radius(r) from keyboard\n",
    "# calculate the area of circle\n",
    "#formula=pi*r*r (pi=22/7=3.14)\n",
    "radius=eval(input(\"enter the radius\"))\n",
    "pi=3.14\n",
    "area=pi*radius*radius\n",
    "print(f\"the area of circle is: {area}\")"
   ]
  },
  {
   "cell_type": "code",
   "execution_count": 9,
   "id": "93a6b872-60ab-429a-b7a7-986ae5d75739",
   "metadata": {},
   "outputs": [
    {
     "name": "stdin",
     "output_type": "stream",
     "text": [
      "enter the bill amount: 1000\n",
      "enter the tip amount: 200\n"
     ]
    },
    {
     "name": "stdout",
     "output_type": "stream",
     "text": [
      "the total bill is : 1200\n"
     ]
    }
   ],
   "source": [
    "# write ask the user enter bill amount\n",
    "# ask the user provide how mich tip amount he wants to give\n",
    "# calculate the total bill\n",
    "bill_amount=eval(input(\"enter the bill amount:\"))\n",
    "tip_amount=eval(input(\"enter the tip amount:\"))\n",
    "total_bill=bill_amount+tip_amount\n",
    "print(f\"the total bill is : {total_bill}\")"
   ]
  },
  {
   "cell_type": "code",
   "execution_count": 9,
   "id": "c8aecc0d-73ae-4efc-a10a-1e2032a6e478",
   "metadata": {},
   "outputs": [
    {
     "name": "stdin",
     "output_type": "stream",
     "text": [
      "enter the bill amount: 1000\n",
      "enter the tip per: 10\n"
     ]
    },
    {
     "name": "stdout",
     "output_type": "stream",
     "text": [
      "the total bill is : 1010\n"
     ]
    }
   ],
   "source": [
    "# write ask the user enter bill amount\n",
    "# ask the user provide how mich tip Percentage he wants to give\n",
    "# calculate the total bill\n",
    "bill_amount=eval(input(\"enter the bill amount:\"))\n",
    "tip_per=eval(input(\"enter the tip per\"))\n",
    "tip_amount=bill_amount*tip_per/100\n",
    "total_bill=bill_amount+tip_per\n",
    "print(f\"the total bill is : {total_bill}\")"
   ]
  },
  {
   "cell_type": "code",
   "execution_count": 7,
   "id": "45c35111-7938-4a41-8b88-e731d18b1bc4",
   "metadata": {},
   "outputs": [
    {
     "name": "stdin",
     "output_type": "stream",
     "text": [
      "father: hey beta\n",
      "son: hi papa\n",
      "father:  I heard your results are come out\n",
      "son:  yes papa\n",
      "father: great! how much percentage we got\n",
      "son: i will tell the sub marks you will tell me percentage\n",
      "father: wow thats the superb game lets start\n",
      "enter the marks: 100\n",
      "enter the marks: 60\n",
      "enter the marks: 70\n",
      "enter the marks: 80\n",
      "enter the marks: 90\n",
      "enter the marks: 55\n"
     ]
    },
    {
     "name": "stdout",
     "output_type": "stream",
     "text": [
      "the percentage marks is: 75.83\n"
     ]
    }
   ],
   "source": [
    "# calculate the percentage\n",
    "# father: hey beta\n",
    "# son: hi papa\n",
    "# father: I heard your results are come out\n",
    "# son: yes papa\n",
    "# father:great! how much percentage we got\n",
    "# son: i will tell the sub marks you will tell me percentage\n",
    "# father: wow thats the superb game lets start\n",
    "# telugu = eval(input())\n",
    "# hindi\n",
    "# english\n",
    "# maths\n",
    "# science\n",
    "# social\n",
    "# avg= (t+h+e+m+s+s)/6\n",
    "input('father:')\n",
    "input('son:')\n",
    "input('father:')\n",
    "input('son:')\n",
    "input('father:')\n",
    "input('son:')\n",
    "input('father:')\n",
    "telugu=eval(input('enter the marks:'))\n",
    "hindi=eval(input('enter the marks:'))\n",
    "english=eval(input('enter the marks:'))\n",
    "maths=eval(input('enter the marks:'))\n",
    "science=eval(input('enter the marks:'))\n",
    "social=eval(input('enter the marks:'))\n",
    "avg=(telugu+hindi+english+maths+science+social)/6\n",
    "avg1=round(avg,2)\n",
    "print(f\"the percentage marks is: {avg1}\")"
   ]
  },
  {
   "cell_type": "code",
   "execution_count": null,
   "id": "e13628eb-cf31-41ed-b87a-2a838d7e359f",
   "metadata": {},
   "outputs": [],
   "source": []
  }
 ],
 "metadata": {
  "kernelspec": {
   "display_name": "Python [conda env:base] *",
   "language": "python",
   "name": "conda-base-py"
  },
  "language_info": {
   "codemirror_mode": {
    "name": "ipython",
    "version": 3
   },
   "file_extension": ".py",
   "mimetype": "text/x-python",
   "name": "python",
   "nbconvert_exporter": "python",
   "pygments_lexer": "ipython3",
   "version": "3.12.7"
  }
 },
 "nbformat": 4,
 "nbformat_minor": 5
}

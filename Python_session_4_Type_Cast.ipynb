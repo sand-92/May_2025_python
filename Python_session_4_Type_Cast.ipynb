{
 "cells": [
  {
   "cell_type": "markdown",
   "id": "05d36545-4083-468b-981f-f6edf7245529",
   "metadata": {},
   "source": [
    "**Type Cast**"
   ]
  },
  {
   "cell_type": "markdown",
   "id": "99a0fb20-985f-44e4-94f2-ac91d231955d",
   "metadata": {},
   "source": [
    "- changing one data type to onther data type"
   ]
  },
  {
   "cell_type": "markdown",
   "id": "16e0e630-7a6f-40f2-9775-5994cd06b375",
   "metadata": {},
   "source": [
    "- int to float"
   ]
  },
  {
   "cell_type": "markdown",
   "id": "4bef4b16-4184-4236-83a4-aeeefd93a62e",
   "metadata": {},
   "source": [
    "- int to string"
   ]
  },
  {
   "cell_type": "markdown",
   "id": "756848b7-52db-4134-8543-3383007018a8",
   "metadata": {},
   "source": [
    "- int to boolean"
   ]
  },
  {
   "cell_type": "code",
   "execution_count": 9,
   "id": "ff8f59d0-c0e9-4b3d-b785-6030b6a58a58",
   "metadata": {},
   "outputs": [
    {
     "data": {
      "text/plain": [
       "int"
      ]
     },
     "execution_count": 9,
     "metadata": {},
     "output_type": "execute_result"
    }
   ],
   "source": [
    "number=100\n",
    "type(number)"
   ]
  },
  {
   "cell_type": "code",
   "execution_count": 17,
   "id": "0aa1fa28-33e9-4204-bdba-4d614ce59a2f",
   "metadata": {},
   "outputs": [
    {
     "data": {
      "text/plain": [
       "(100.0, float)"
      ]
     },
     "execution_count": 17,
     "metadata": {},
     "output_type": "execute_result"
    }
   ],
   "source": [
    " # int to float\n",
    "\n",
    "float_number=float(number)\n",
    "float_number,type(float_number)"
   ]
  },
  {
   "cell_type": "code",
   "execution_count": 14,
   "id": "2ecab2df-e700-4a9f-a489-3289267d8061",
   "metadata": {},
   "outputs": [
    {
     "data": {
      "text/plain": [
       "'100'"
      ]
     },
     "execution_count": 14,
     "metadata": {},
     "output_type": "execute_result"
    }
   ],
   "source": [
    "# int to string\n",
    "string_num=str(number)\n",
    "string_num"
   ]
  },
  {
   "cell_type": "code",
   "execution_count": 16,
   "id": "f3e3df25-c1f0-43f3-807f-895add81f8b1",
   "metadata": {},
   "outputs": [
    {
     "data": {
      "text/plain": [
       "True"
      ]
     },
     "execution_count": 16,
     "metadata": {},
     "output_type": "execute_result"
    }
   ],
   "source": [
    "bool(number)"
   ]
  },
  {
   "cell_type": "code",
   "execution_count": 22,
   "id": "11b4cde9-2845-4ac6-b2fb-9e28f14953fe",
   "metadata": {},
   "outputs": [
    {
     "name": "stdout",
     "output_type": "stream",
     "text": [
      "100.0\n",
      "100\n",
      "True\n"
     ]
    }
   ],
   "source": [
    "print(float(100))\n",
    "print(str(100))\n",
    "print(bool(100))"
   ]
  },
  {
   "cell_type": "code",
   "execution_count": 24,
   "id": "ef20b5cb-e780-4db2-948f-d9eb4878b2df",
   "metadata": {},
   "outputs": [
    {
     "name": "stdout",
     "output_type": "stream",
     "text": [
      "-100.0\n",
      "-100\n",
      "True\n"
     ]
    }
   ],
   "source": [
    "print(float(-100))\n",
    "print(str(-100))\n",
    "print(bool(-100))"
   ]
  },
  {
   "cell_type": "code",
   "execution_count": 26,
   "id": "82a5e4bf-0a0d-40ce-b9fb-d2f6cee9ac32",
   "metadata": {},
   "outputs": [
    {
     "name": "stdout",
     "output_type": "stream",
     "text": [
      "0.0\n",
      "0\n",
      "False\n"
     ]
    }
   ],
   "source": [
    "print(float(0))\n",
    "print(str(0))\n",
    "print(bool(0))"
   ]
  },
  {
   "cell_type": "markdown",
   "id": "45eec8c6-af9b-44d8-ac20-fc45d967bc2c",
   "metadata": {},
   "source": [
    "**Note**\n",
    "- boolean conversion of any integer value otherthan zero becomes True\n",
    "- boolean conversion of zero is false"
   ]
  },
  {
   "cell_type": "markdown",
   "id": "b783f19a-f0e1-4d3d-8525-53828766e7f0",
   "metadata": {},
   "source": [
    "**Float to other data type**"
   ]
  },
  {
   "cell_type": "code",
   "execution_count": 31,
   "id": "92109402-35c5-4bb8-a0f4-a65cc3f60cb3",
   "metadata": {},
   "outputs": [
    {
     "name": "stdout",
     "output_type": "stream",
     "text": [
      "-100\n",
      "-100.25\n",
      "True\n"
     ]
    }
   ],
   "source": [
    "print(int(-100.25))\n",
    "print(str(-100.25))\n",
    "print(bool(-100.25))"
   ]
  },
  {
   "cell_type": "code",
   "execution_count": 68,
   "id": "87233736-fef5-4327-b9a9-d3c7c8ca7d15",
   "metadata": {},
   "outputs": [
    {
     "name": "stdout",
     "output_type": "stream",
     "text": [
      "0\n",
      "-0.0\n",
      "False\n"
     ]
    }
   ],
   "source": [
    "print(int(0.0))\n",
    "print(str(-0.0))\n",
    "print(bool(0.0))"
   ]
  },
  {
   "cell_type": "code",
   "execution_count": 41,
   "id": "68062c5e-0200-44fa-b5cd-d877f2229dd0",
   "metadata": {},
   "outputs": [
    {
     "name": "stdout",
     "output_type": "stream",
     "text": [
      "python\n"
     ]
    }
   ],
   "source": [
    "name='python'\n",
    "print(name)"
   ]
  },
  {
   "cell_type": "code",
   "execution_count": 43,
   "id": "568b0820-bfa6-4799-8d37-e3f9d4e6503c",
   "metadata": {},
   "outputs": [
    {
     "data": {
      "text/plain": [
       "'python'"
      ]
     },
     "execution_count": 43,
     "metadata": {},
     "output_type": "execute_result"
    }
   ],
   "source": [
    "name"
   ]
  },
  {
   "cell_type": "markdown",
   "id": "4e6c4bcf-59f0-40c1-8955-8481b26b0cfa",
   "metadata": {},
   "source": [
    "**String to other data type**"
   ]
  },
  {
   "cell_type": "code",
   "execution_count": 48,
   "id": "e75e55f2-04e6-4c8e-9271-8a488a170498",
   "metadata": {},
   "outputs": [
    {
     "data": {
      "text/plain": [
       "True"
      ]
     },
     "execution_count": 48,
     "metadata": {},
     "output_type": "execute_result"
    }
   ],
   "source": [
    " # int('Apple')  # error\n",
    " # float('Apple') # error\n",
    "bool('Apple')  # True"
   ]
  },
  {
   "cell_type": "code",
   "execution_count": 52,
   "id": "32b11122-4120-4fc4-9b73-19223402d6cf",
   "metadata": {},
   "outputs": [
    {
     "data": {
      "text/plain": [
       "True"
      ]
     },
     "execution_count": 52,
     "metadata": {},
     "output_type": "execute_result"
    }
   ],
   "source": [
    "bool('0')"
   ]
  },
  {
   "cell_type": "code",
   "execution_count": 54,
   "id": "1e4e727f-7710-464b-b611-80c10f9fbdaa",
   "metadata": {},
   "outputs": [
    {
     "data": {
      "text/plain": [
       "False"
      ]
     },
     "execution_count": 54,
     "metadata": {},
     "output_type": "execute_result"
    }
   ],
   "source": [
    "bool('')"
   ]
  },
  {
   "cell_type": "code",
   "execution_count": 60,
   "id": "9198a5e2-c17e-44f7-aa22-d7020d6bb1b8",
   "metadata": {},
   "outputs": [
    {
     "data": {
      "text/plain": [
       "False"
      ]
     },
     "execution_count": 60,
     "metadata": {},
     "output_type": "execute_result"
    }
   ],
   "source": [
    "bool(0)"
   ]
  },
  {
   "cell_type": "code",
   "execution_count": 64,
   "id": "d7d0ecac-741b-48a0-acda-3f058a098689",
   "metadata": {},
   "outputs": [
    {
     "data": {
      "text/plain": [
       "(10, 10.0, True)"
      ]
     },
     "execution_count": 64,
     "metadata": {},
     "output_type": "execute_result"
    }
   ],
   "source": [
    "int('10'), float('10'), bool('10')"
   ]
  },
  {
   "cell_type": "code",
   "execution_count": null,
   "id": "7aefa600-415e-431a-84c4-f37401238419",
   "metadata": {},
   "outputs": [],
   "source": [
    "int('10')    # 10 works\n",
    "int('10.5')  # fail"
   ]
  },
  {
   "cell_type": "code",
   "execution_count": 70,
   "id": "bdb4b3e8-42dc-418c-a17a-f895f6209920",
   "metadata": {},
   "outputs": [
    {
     "data": {
      "text/plain": [
       "10.5"
      ]
     },
     "execution_count": 70,
     "metadata": {},
     "output_type": "execute_result"
    }
   ],
   "source": [
    "float('10')   #10.0\n",
    "float('10.5')   #10.5"
   ]
  },
  {
   "cell_type": "code",
   "execution_count": 72,
   "id": "ca26ba98-3582-4cd1-b718-04367a093ff6",
   "metadata": {},
   "outputs": [
    {
     "data": {
      "text/plain": [
       "10"
      ]
     },
     "execution_count": 72,
     "metadata": {},
     "output_type": "execute_result"
    }
   ],
   "source": [
    "int(float('10.5'))   #'10.5'='10'"
   ]
  },
  {
   "cell_type": "code",
   "execution_count": null,
   "id": "8fdf5a38-ad4f-4ef6-acb4-19af9f20112f",
   "metadata": {},
   "outputs": [],
   "source": [
    "bool(10)       # T\n",
    "bool('10.5')   # T\n",
    "bool('10')     # T\n",
    "bool(10.5)     # T\n",
    "bool(0)        # f\n",
    "bool(0.0)      # f \n",
    "bool('0')      # T\n",
    "bool('0.0')    # T\n",
    "bool('apple')  # T\n",
    "bool('')       # F"
   ]
  },
  {
   "cell_type": "code",
   "execution_count": 4,
   "id": "efd8446b-a719-4d61-a544-d5024d1866f8",
   "metadata": {},
   "outputs": [
    {
     "data": {
      "text/plain": [
       "True"
      ]
     },
     "execution_count": 4,
     "metadata": {},
     "output_type": "execute_result"
    }
   ],
   "source": [
    "bool('0.0')"
   ]
  },
  {
   "cell_type": "code",
   "execution_count": 14,
   "id": "6e35020b-d0cb-4a80-8d19-186317837bd1",
   "metadata": {},
   "outputs": [
    {
     "data": {
      "text/plain": [
       "False"
      ]
     },
     "execution_count": 14,
     "metadata": {},
     "output_type": "execute_result"
    }
   ],
   "source": [
    "bool(0.0)"
   ]
  },
  {
   "cell_type": "code",
   "execution_count": 18,
   "id": "01df813f-0bf9-4919-aba4-ea77d0f0fa4b",
   "metadata": {},
   "outputs": [
    {
     "data": {
      "text/plain": [
       "True"
      ]
     },
     "execution_count": 18,
     "metadata": {},
     "output_type": "execute_result"
    }
   ],
   "source": [
    "bool(10.5)"
   ]
  },
  {
   "cell_type": "code",
   "execution_count": 20,
   "id": "23087024-35ec-45dc-b748-9f1e36b051f5",
   "metadata": {},
   "outputs": [
    {
     "data": {
      "text/plain": [
       "False"
      ]
     },
     "execution_count": 20,
     "metadata": {},
     "output_type": "execute_result"
    }
   ],
   "source": [
    "bool('')"
   ]
  },
  {
   "cell_type": "code",
   "execution_count": null,
   "id": "4e12f3de-1e9e-43f4-bb09-69f15c80a22e",
   "metadata": {},
   "outputs": [],
   "source": []
  }
 ],
 "metadata": {
  "kernelspec": {
   "display_name": "Python [conda env:base] *",
   "language": "python",
   "name": "conda-base-py"
  },
  "language_info": {
   "codemirror_mode": {
    "name": "ipython",
    "version": 3
   },
   "file_extension": ".py",
   "mimetype": "text/x-python",
   "name": "python",
   "nbconvert_exporter": "python",
   "pygments_lexer": "ipython3",
   "version": "3.12.7"
  }
 },
 "nbformat": 4,
 "nbformat_minor": 5
}

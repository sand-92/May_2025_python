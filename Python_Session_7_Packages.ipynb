{
 "cells": [
  {
   "cell_type": "code",
   "execution_count": null,
   "id": "990aedd1-7bc8-40ea-9d05-4c1453552920",
   "metadata": {},
   "outputs": [],
   "source": [
    "# Generally packages will not teach in this early\n",
    "# Data Science and AI packages HEART\n",
    "\n",
    "# Nandhu is developed core\n",
    "# Addition of two numbers\n",
    "# nandu felt that in the entire wirld\n",
    "# he only created addition code\n",
    "# nandu is very charity guy\n",
    "# he wants to give the addition code to entire world\n",
    " \n",
    "# he went to anaconds organisation\n",
    "# who ever install your software\n",
    "# my code should automatically come to their laptop\n",
    "\n",
    "# what is your code name: Addition\n",
    "# Package\n",
    "# Module"
   ]
  },
  {
   "cell_type": "code",
   "execution_count": null,
   "id": "0f1cd82e-cbc7-47d9-b668-b9c4fc657fe2",
   "metadata": {},
   "outputs": [],
   "source": [
    "# he sent that code in  the format\n",
    "# Package\n",
    "# code===Addition(Method)"
   ]
  },
  {
   "cell_type": "markdown",
   "id": "eb0a2d20-dd0f-4ddc-bf17-22f19a2996ce",
   "metadata": {},
   "source": [
    "**IMPORT**"
   ]
  },
  {
   "cell_type": "code",
   "execution_count": null,
   "id": "108a89be-3891-4854-8ecf-5add4f393c3e",
   "metadata": {},
   "outputs": [],
   "source": [
    "# import <Package name>"
   ]
  },
  {
   "cell_type": "code",
   "execution_count": 5,
   "id": "72c6d8fb-467f-46a2-b8ee-379631521930",
   "metadata": {},
   "outputs": [],
   "source": [
    "# package name: Random\n",
    "import random"
   ]
  },
  {
   "cell_type": "code",
   "execution_count": 5,
   "id": "8b7c32b5-63fa-4a3b-b472-d0981b8f07c3",
   "metadata": {},
   "outputs": [],
   "source": [
    "# package name: math\n",
    "import math"
   ]
  },
  {
   "cell_type": "code",
   "execution_count": 7,
   "id": "9c674f0a-e3b9-4922-af7e-b789fe3702fd",
   "metadata": {},
   "outputs": [],
   "source": [
    "# package name: keyword\n",
    "import keyword"
   ]
  },
  {
   "cell_type": "code",
   "execution_count": null,
   "id": "d7b6e3d6-5111-4d00-bcfa-c1ed74700ed1",
   "metadata": {},
   "outputs": [],
   "source": [
    "# package name: string\n",
    "import string"
   ]
  },
  {
   "cell_type": "code",
   "execution_count": 9,
   "id": "e83a5817-9901-446e-aca6-da81f58fe6ac",
   "metadata": {},
   "outputs": [],
   "source": [
    "# package name: time\n",
    "import time"
   ]
  },
  {
   "cell_type": "code",
   "execution_count": null,
   "id": "483f7d16-25d0-4807-985c-fc09fceea37b",
   "metadata": {},
   "outputs": [],
   "source": [
    "# package name: cv2\n",
    "import cv2"
   ]
  },
  {
   "cell_type": "code",
   "execution_count": 33,
   "id": "4bbf7279-2c79-4a3d-aa21-d6b0c6b36ee3",
   "metadata": {},
   "outputs": [
    {
     "data": {
      "text/plain": [
       "<module 'random' from 'C:\\\\Users\\\\Sandeep\\\\anaconda3\\\\Lib\\\\random.py'>"
      ]
     },
     "execution_count": 33,
     "metadata": {},
     "output_type": "execute_result"
    }
   ],
   "source": [
    "random"
   ]
  },
  {
   "cell_type": "code",
   "execution_count": null,
   "id": "21fd143a-5c89-4df6-a46f-1cd746a000e0",
   "metadata": {},
   "outputs": [],
   "source": [
    "# nandu \n",
    "#--------MATHS---------\n",
    "# add\n",
    "# mul\n",
    "# sub\n",
    "# div\n",
    "######################"
   ]
  },
  {
   "cell_type": "markdown",
   "id": "0a3f47d4-4230-47fe-9c29-1a9d1fa27e50",
   "metadata": {},
   "source": [
    "**DIR**"
   ]
  },
  {
   "cell_type": "code",
   "execution_count": 15,
   "id": "fe656edd-b764-4fde-b181-54534eb3157b",
   "metadata": {},
   "outputs": [
    {
     "data": {
      "text/plain": [
       "['BPF',\n",
       " 'LOG4',\n",
       " 'NV_MAGICCONST',\n",
       " 'RECIP_BPF',\n",
       " 'Random',\n",
       " 'SG_MAGICCONST',\n",
       " 'SystemRandom',\n",
       " 'TWOPI',\n",
       " '_ONE',\n",
       " '_Sequence',\n",
       " '__all__',\n",
       " '__builtins__',\n",
       " '__cached__',\n",
       " '__doc__',\n",
       " '__file__',\n",
       " '__loader__',\n",
       " '__name__',\n",
       " '__package__',\n",
       " '__spec__',\n",
       " '_accumulate',\n",
       " '_acos',\n",
       " '_bisect',\n",
       " '_ceil',\n",
       " '_cos',\n",
       " '_e',\n",
       " '_exp',\n",
       " '_fabs',\n",
       " '_floor',\n",
       " '_index',\n",
       " '_inst',\n",
       " '_isfinite',\n",
       " '_lgamma',\n",
       " '_log',\n",
       " '_log2',\n",
       " '_os',\n",
       " '_pi',\n",
       " '_random',\n",
       " '_repeat',\n",
       " '_sha512',\n",
       " '_sin',\n",
       " '_sqrt',\n",
       " '_test',\n",
       " '_test_generator',\n",
       " '_urandom',\n",
       " '_warn',\n",
       " 'betavariate',\n",
       " 'binomialvariate',\n",
       " 'choice',\n",
       " 'choices',\n",
       " 'expovariate',\n",
       " 'gammavariate',\n",
       " 'gauss',\n",
       " 'getrandbits',\n",
       " 'getstate',\n",
       " 'lognormvariate',\n",
       " 'normalvariate',\n",
       " 'paretovariate',\n",
       " 'randbytes',\n",
       " 'randint',\n",
       " 'random',\n",
       " 'randrange',\n",
       " 'sample',\n",
       " 'seed',\n",
       " 'setstate',\n",
       " 'shuffle',\n",
       " 'triangular',\n",
       " 'uniform',\n",
       " 'vonmisesvariate',\n",
       " 'weibullvariate']"
      ]
     },
     "execution_count": 15,
     "metadata": {},
     "output_type": "execute_result"
    }
   ],
   "source": [
    "# step1: import <packaage name>\n",
    "# step2: dir <packaage name>\n",
    "import random\n",
    "dir (random)"
   ]
  },
  {
   "cell_type": "markdown",
   "id": "00afa2da-9ebd-4e4e-bae3-b4e8528d45f6",
   "metadata": {},
   "source": [
    "**Help**"
   ]
  },
  {
   "cell_type": "code",
   "execution_count": 35,
   "id": "b861a1e7-a6fa-464e-82b0-ed92f6adb3dd",
   "metadata": {},
   "outputs": [
    {
     "name": "stdout",
     "output_type": "stream",
     "text": [
      "Help on method randint in module random:\n",
      "\n",
      "randint(a, b) method of random.Random instance\n",
      "    Return random integer in range [a, b], including both end points.\n",
      "\n"
     ]
    }
   ],
   "source": [
    "# i want to learn about\n",
    "# a method called randint\n",
    "# what it will do\n",
    "# help(package name.method name)\n",
    "help(random.randint)"
   ]
  },
  {
   "cell_type": "code",
   "execution_count": 37,
   "id": "ac71e77f-a26e-4a85-89b9-3d4209f31502",
   "metadata": {},
   "outputs": [
    {
     "name": "stdout",
     "output_type": "stream",
     "text": [
      "Help on method randint in module random:\n",
      "\n",
      "randint(a, b) method of random.Random instance\n",
      "    Return random integer in range [a, b], including both end points.\n",
      "\n"
     ]
    }
   ],
   "source": [
    "# step1: import (package_name)\n",
    "# step2: dir(package_name)\n",
    "# step3: help(package_name.method.name)\n",
    "import random\n",
    "dir(random)\n",
    "help(random.randint)"
   ]
  },
  {
   "cell_type": "code",
   "execution_count": 39,
   "id": "e648d24d-ace0-476c-a919-51c1441fb97b",
   "metadata": {},
   "outputs": [
    {
     "data": {
      "text/plain": [
       "19"
      ]
     },
     "execution_count": 39,
     "metadata": {},
     "output_type": "execute_result"
    }
   ],
   "source": [
    "random.randint(10,20)\n",
    "# out of random numbers wiil come "
   ]
  },
  {
   "cell_type": "code",
   "execution_count": 41,
   "id": "6c8e077b-4ea4-4c06-a9d7-6d09fa88650b",
   "metadata": {},
   "outputs": [
    {
     "name": "stdout",
     "output_type": "stream",
     "text": [
      "Help on method randint in module random:\n",
      "\n",
      "randint(a, b) method of random.Random instance\n",
      "    Return random integer in range [a, b], including both end points.\n",
      "\n"
     ]
    },
    {
     "data": {
      "text/plain": [
       "10"
      ]
     },
     "execution_count": 41,
     "metadata": {},
     "output_type": "execute_result"
    }
   ],
   "source": [
    "import random\n",
    "dir(random)\n",
    "help(random.randint)\n",
    "random.randint(10,20)\n",
    "# out of random numbers wiil come "
   ]
  },
  {
   "cell_type": "code",
   "execution_count": 43,
   "id": "f25b72d2-3e0d-48a6-adab-65d7d7abc07a",
   "metadata": {},
   "outputs": [
    {
     "name": "stdout",
     "output_type": "stream",
     "text": [
      "Help on method randint in module random:\n",
      "\n",
      "randint(a, b) method of random.Random instance\n",
      "    Return random integer in range [a, b], including both end points.\n",
      "\n"
     ]
    },
    {
     "data": {
      "text/plain": [
       "2"
      ]
     },
     "execution_count": 43,
     "metadata": {},
     "output_type": "execute_result"
    }
   ],
   "source": [
    "# step1: import (package_name)\n",
    "# step2: dir(package_name)\n",
    "# step3: help(package_name.method.name)\n",
    "# step4: package_name.method.name(a,b)\n",
    "# step5: apply the operation\n",
    "import random\n",
    "dir(random)\n",
    "help(random.randint)\n",
    "random.randint(1,20)\n",
    "# out of random numbers wiil come "
   ]
  },
  {
   "cell_type": "code",
   "execution_count": 74,
   "id": "f5162e80-b5bd-4c1c-8f2f-5af35452272c",
   "metadata": {},
   "outputs": [
    {
     "name": "stdout",
     "output_type": "stream",
     "text": [
      "Help on method randint in module random:\n",
      "\n",
      "randint(a, b) method of random.Random instance\n",
      "    Return random integer in range [a, b], including both end points.\n",
      "\n"
     ]
    }
   ],
   "source": [
    "# package name: random\n",
    "# method name: random\n",
    "help(random.randint)\n",
    "# random.randint[10,20], sir for this it is showing error"
   ]
  },
  {
   "cell_type": "code",
   "execution_count": 72,
   "id": "630c9701-3226-4efe-b542-fc4d75112242",
   "metadata": {},
   "outputs": [
    {
     "data": {
      "text/plain": [
       "0.01177003910309593"
      ]
     },
     "execution_count": 72,
     "metadata": {},
     "output_type": "execute_result"
    }
   ],
   "source": [
    "random.random()"
   ]
  },
  {
   "cell_type": "code",
   "execution_count": 55,
   "id": "fd47fc57-ed9e-4613-a5f4-48dbceca6bb6",
   "metadata": {},
   "outputs": [
    {
     "name": "stdout",
     "output_type": "stream",
     "text": [
      "Help on built-in function random:\n",
      "\n",
      "random() method of random.Random instance\n",
      "    random() -> x in the interval [0, 1).\n",
      "\n"
     ]
    },
    {
     "data": {
      "text/plain": [
       "0.29066110634042"
      ]
     },
     "execution_count": 55,
     "metadata": {},
     "output_type": "execute_result"
    }
   ],
   "source": [
    "import random\n",
    "help(random.random)\n",
    "random.random()\n",
    "#random.random()----(then cursor used inside the brackets shift+tab)"
   ]
  },
  {
   "cell_type": "code",
   "execution_count": 66,
   "id": "ef9492a6-74d0-4565-a37d-d1e1b15d2430",
   "metadata": {},
   "outputs": [
    {
     "name": "stdout",
     "output_type": "stream",
     "text": [
      "Help on method randrange in module random:\n",
      "\n",
      "randrange(start, stop=None, step=1) method of random.Random instance\n",
      "    Choose a random item from range(stop) or range(start, stop[, step]).\n",
      "\n",
      "    Roughly equivalent to ``choice(range(start, stop, step))`` but\n",
      "    supports arbitrarily large ranges and is optimized for common cases.\n",
      "\n"
     ]
    },
    {
     "data": {
      "text/plain": [
       "5"
      ]
     },
     "execution_count": 66,
     "metadata": {},
     "output_type": "execute_result"
    }
   ],
   "source": [
    "# package_name: random\n",
    "# method_name: randrange\n",
    "import random\n",
    "help(random.randrange)\n",
    "random.randrange(2,10,3)\n",
    "#(start=2, stop=10, (gap)step=3)\n",
    "# 2  3  4  5  6  7  8  9 10\n",
    "# 5     8     11    14    17\n",
    "# out of random numbers wiil come "
   ]
  },
  {
   "cell_type": "code",
   "execution_count": 68,
   "id": "354976dc-ed1e-4812-9a9d-dcb6ec0b0216",
   "metadata": {},
   "outputs": [
    {
     "data": {
      "text/plain": [
       "(3, 0.8396664546532128, 2)"
      ]
     },
     "execution_count": 68,
     "metadata": {},
     "output_type": "execute_result"
    }
   ],
   "source": [
    "import random\n",
    "v1=random.randint(1,10)\n",
    "v2=random.random()\n",
    "v3=random.randrange(2,20,3)\n",
    "v1,v2,v3"
   ]
  },
  {
   "cell_type": "code",
   "execution_count": 70,
   "id": "c34d6efb-1f79-4d7b-b5c0-8d2776267bef",
   "metadata": {},
   "outputs": [
    {
     "name": "stdout",
     "output_type": "stream",
     "text": [
      "Help on method randrange in module random:\n",
      "\n",
      "randrange(start, stop=None, step=1) method of random.Random instance\n",
      "    Choose a random item from range(stop) or range(start, stop[, step]).\n",
      "\n",
      "    Roughly equivalent to ``choice(range(start, stop, step))`` but\n",
      "    supports arbitrarily large ranges and is optimized for common cases.\n",
      "\n"
     ]
    }
   ],
   "source": [
    "help(random.randrange)"
   ]
  },
  {
   "cell_type": "code",
   "execution_count": 64,
   "id": "c1322107-e86b-4f69-baed-2f63753b6a3b",
   "metadata": {},
   "outputs": [
    {
     "data": {
      "text/plain": [
       "['__doc__',\n",
       " '__loader__',\n",
       " '__name__',\n",
       " '__package__',\n",
       " '__spec__',\n",
       " 'acos',\n",
       " 'acosh',\n",
       " 'asin',\n",
       " 'asinh',\n",
       " 'atan',\n",
       " 'atan2',\n",
       " 'atanh',\n",
       " 'cbrt',\n",
       " 'ceil',\n",
       " 'comb',\n",
       " 'copysign',\n",
       " 'cos',\n",
       " 'cosh',\n",
       " 'degrees',\n",
       " 'dist',\n",
       " 'e',\n",
       " 'erf',\n",
       " 'erfc',\n",
       " 'exp',\n",
       " 'exp2',\n",
       " 'expm1',\n",
       " 'fabs',\n",
       " 'factorial',\n",
       " 'floor',\n",
       " 'fmod',\n",
       " 'frexp',\n",
       " 'fsum',\n",
       " 'gamma',\n",
       " 'gcd',\n",
       " 'hypot',\n",
       " 'inf',\n",
       " 'isclose',\n",
       " 'isfinite',\n",
       " 'isinf',\n",
       " 'isnan',\n",
       " 'isqrt',\n",
       " 'lcm',\n",
       " 'ldexp',\n",
       " 'lgamma',\n",
       " 'log',\n",
       " 'log10',\n",
       " 'log1p',\n",
       " 'log2',\n",
       " 'modf',\n",
       " 'nan',\n",
       " 'nextafter',\n",
       " 'perm',\n",
       " 'pi',\n",
       " 'pow',\n",
       " 'prod',\n",
       " 'radians',\n",
       " 'remainder',\n",
       " 'sin',\n",
       " 'sinh',\n",
       " 'sqrt',\n",
       " 'sumprod',\n",
       " 'tan',\n",
       " 'tanh',\n",
       " 'tau',\n",
       " 'trunc',\n",
       " 'ulp']"
      ]
     },
     "execution_count": 64,
     "metadata": {},
     "output_type": "execute_result"
    }
   ],
   "source": [
    "# package_name:math\n",
    "# method_name:\n",
    "import math\n",
    "dir(math)"
   ]
  },
  {
   "cell_type": "code",
   "execution_count": null,
   "id": "ef034116-ffd6-403b-8d70-8e74bd86275c",
   "metadata": {},
   "outputs": [],
   "source": [
    "# package name: math\n",
    "# method_name: pow\n",
    "# method_name: sqrt\n",
    "# method name: pi\n",
    "# math.pi\n",
    "# method name: sin\n",
    "# method name: cos"
   ]
  },
  {
   "cell_type": "code",
   "execution_count": 78,
   "id": "76b403de-a6b3-4ada-bca3-f5d13d7416c7",
   "metadata": {},
   "outputs": [
    {
     "name": "stdout",
     "output_type": "stream",
     "text": [
      "Help on built-in function pow in module math:\n",
      "\n",
      "pow(x, y, /)\n",
      "    Return x**y (x to the power of y).\n",
      "\n"
     ]
    }
   ],
   "source": [
    "import math\n",
    "help(math.pow)"
   ]
  },
  {
   "cell_type": "code",
   "execution_count": 80,
   "id": "f1af399d-65bc-4257-bb7b-c7eacfc8810f",
   "metadata": {},
   "outputs": [
    {
     "data": {
      "text/plain": [
       "16.0"
      ]
     },
     "execution_count": 80,
     "metadata": {},
     "output_type": "execute_result"
    }
   ],
   "source": [
    "math.pow(2,4)     # 2^4------2*2*2*2"
   ]
  },
  {
   "cell_type": "code",
   "execution_count": 82,
   "id": "163357f2-fe6a-4ea6-affc-47e75a174de1",
   "metadata": {},
   "outputs": [
    {
     "data": {
      "text/plain": [
       "5.0"
      ]
     },
     "execution_count": 82,
     "metadata": {},
     "output_type": "execute_result"
    }
   ],
   "source": [
    "math.sqrt(25)  # squarte root of 5*5=25 "
   ]
  },
  {
   "cell_type": "code",
   "execution_count": 84,
   "id": "69d35495-3a37-4923-845d-c065054379b2",
   "metadata": {},
   "outputs": [
    {
     "data": {
      "text/plain": [
       "3.141592653589793"
      ]
     },
     "execution_count": 84,
     "metadata": {},
     "output_type": "execute_result"
    }
   ],
   "source": [
    "math.pi"
   ]
  },
  {
   "cell_type": "code",
   "execution_count": 86,
   "id": "ffee7b03-a844-4e2f-8cd3-bad92e3a5d50",
   "metadata": {},
   "outputs": [
    {
     "data": {
      "text/plain": [
       "0.8939966636005579"
      ]
     },
     "execution_count": 86,
     "metadata": {},
     "output_type": "execute_result"
    }
   ],
   "source": [
    "math.sin(90)"
   ]
  },
  {
   "cell_type": "code",
   "execution_count": 88,
   "id": "a4a9e9de-71f9-4f89-bfbc-0e132cec60dd",
   "metadata": {},
   "outputs": [
    {
     "data": {
      "text/plain": [
       "-0.4480736161291701"
      ]
     },
     "execution_count": 88,
     "metadata": {},
     "output_type": "execute_result"
    }
   ],
   "source": [
    "math.cos(90)"
   ]
  },
  {
   "cell_type": "markdown",
   "id": "38caa8c5-91b7-4c14-aa2a-aaaa62153646",
   "metadata": {},
   "source": [
    "**keyword**"
   ]
  },
  {
   "cell_type": "markdown",
   "id": "de8d0988-4837-4f25-8221-acec19747e1e",
   "metadata": {},
   "source": [
    "- import the package\n",
    "- apply the dir\n",
    "- method name: kwlist"
   ]
  },
  {
   "cell_type": "code",
   "execution_count": 57,
   "id": "eb109269-14e3-489c-b07b-969087226603",
   "metadata": {},
   "outputs": [
    {
     "data": {
      "text/plain": [
       "35"
      ]
     },
     "execution_count": 57,
     "metadata": {},
     "output_type": "execute_result"
    }
   ],
   "source": [
    "import keyword\n",
    "keyword.kwlist  \n",
    "# 35names is showing the keywords names is their \n",
    "len(keyword.kwlist) # number will show"
   ]
  },
  {
   "cell_type": "markdown",
   "id": "b69787f2-f802-46f6-8293-1fb78a40e1b7",
   "metadata": {},
   "source": [
    "**time**"
   ]
  },
  {
   "cell_type": "code",
   "execution_count": 60,
   "id": "ab641901-e1b0-4468-8015-86d67b8dd55a",
   "metadata": {},
   "outputs": [
    {
     "name": "stdout",
     "output_type": "stream",
     "text": [
      "hello\n"
     ]
    }
   ],
   "source": [
    "import time\n",
    "time.sleep(5)\n",
    "print('hello')"
   ]
  },
  {
   "cell_type": "code",
   "execution_count": 61,
   "id": "f198b463-e0f1-4871-b0a7-c32a55fd830c",
   "metadata": {},
   "outputs": [
    {
     "data": {
      "text/plain": [
       "8"
      ]
     },
     "execution_count": 61,
     "metadata": {},
     "output_type": "execute_result"
    }
   ],
   "source": [
    "# random\n",
    "# randint\n",
    "random.randint(1,10)"
   ]
  },
  {
   "cell_type": "code",
   "execution_count": 90,
   "id": "424d8078-9b06-40e3-823a-f2cc7d44ffe1",
   "metadata": {},
   "outputs": [
    {
     "data": {
      "text/plain": [
       "['Formatter',\n",
       " 'Template',\n",
       " '_ChainMap',\n",
       " '__all__',\n",
       " '__builtins__',\n",
       " '__cached__',\n",
       " '__doc__',\n",
       " '__file__',\n",
       " '__loader__',\n",
       " '__name__',\n",
       " '__package__',\n",
       " '__spec__',\n",
       " '_re',\n",
       " '_sentinel_dict',\n",
       " '_string',\n",
       " 'ascii_letters',\n",
       " 'ascii_lowercase',\n",
       " 'ascii_uppercase',\n",
       " 'capwords',\n",
       " 'digits',\n",
       " 'hexdigits',\n",
       " 'octdigits',\n",
       " 'printable',\n",
       " 'punctuation',\n",
       " 'whitespace']"
      ]
     },
     "execution_count": 90,
     "metadata": {},
     "output_type": "execute_result"
    }
   ],
   "source": [
    "# we are trying to use the method\n",
    "# but it will not available\n",
    "\n",
    "# String\n",
    "import string\n",
    "dir(string)"
   ]
  },
  {
   "cell_type": "code",
   "execution_count": 92,
   "id": "e3cb9dd8-a283-4625-a7ad-21aed1c461ae",
   "metadata": {},
   "outputs": [
    {
     "data": {
      "text/plain": [
       "'abcdefghijklmnopqrstuvwxyzABCDEFGHIJKLMNOPQRSTUVWXYZ'"
      ]
     },
     "execution_count": 92,
     "metadata": {},
     "output_type": "execute_result"
    }
   ],
   "source": [
    "string.ascii_letters"
   ]
  },
  {
   "cell_type": "code",
   "execution_count": 94,
   "id": "1e5a707c-fbd6-46be-b0c5-7aed70c2304a",
   "metadata": {},
   "outputs": [
    {
     "data": {
      "text/plain": [
       "'abcdefghijklmnopqrstuvwxyz'"
      ]
     },
     "execution_count": 94,
     "metadata": {},
     "output_type": "execute_result"
    }
   ],
   "source": [
    "string.ascii_lowercase"
   ]
  },
  {
   "cell_type": "code",
   "execution_count": 96,
   "id": "d9cf185e-e3dd-4b5c-bc0a-cde6d279083b",
   "metadata": {},
   "outputs": [
    {
     "data": {
      "text/plain": [
       "'ABCDEFGHIJKLMNOPQRSTUVWXYZ'"
      ]
     },
     "execution_count": 96,
     "metadata": {},
     "output_type": "execute_result"
    }
   ],
   "source": [
    "string.ascii_uppercase"
   ]
  },
  {
   "cell_type": "code",
   "execution_count": 98,
   "id": "047865f9-258a-4156-b03c-a0794f8f6e85",
   "metadata": {},
   "outputs": [
    {
     "data": {
      "text/plain": [
       "'0123456789abcdefghijklmnopqrstuvwxyzABCDEFGHIJKLMNOPQRSTUVWXYZ!\"#$%&\\'()*+,-./:;<=>?@[\\\\]^_`{|}~ \\t\\n\\r\\x0b\\x0c'"
      ]
     },
     "execution_count": 98,
     "metadata": {},
     "output_type": "execute_result"
    }
   ],
   "source": [
    "string.printable"
   ]
  },
  {
   "cell_type": "code",
   "execution_count": 100,
   "id": "2e9ebc17-70fb-4c50-8b3a-ea21cb9d3f9c",
   "metadata": {},
   "outputs": [
    {
     "data": {
      "text/plain": [
       "'!\"#$%&\\'()*+,-./:;<=>?@[\\\\]^_`{|}~'"
      ]
     },
     "execution_count": 100,
     "metadata": {},
     "output_type": "execute_result"
    }
   ],
   "source": [
    "string.punctuation"
   ]
  },
  {
   "cell_type": "code",
   "execution_count": 102,
   "id": "0d31c499-f9d3-4344-a711-e133e4046f15",
   "metadata": {},
   "outputs": [
    {
     "name": "stdout",
     "output_type": "stream",
     "text": [
      "the average of 10, 20, 30is 20.0\n"
     ]
    }
   ],
   "source": [
    "# write ask the user take three numbers find the avarages\n",
    "n1=10\n",
    "n2=20\n",
    "n3=30\n",
    "avg=(n1+n2+n3)/3\n",
    "avg1=round(avg,2)\n",
    "print(f'the average of {n1}, {n2}, {n3}is {avg1}')\n",
    "## \"HARDCODE method\""
   ]
  },
  {
   "cell_type": "code",
   "execution_count": 104,
   "id": "82dc57c4-3e4b-490e-af6c-69b48e2b0e1b",
   "metadata": {},
   "outputs": [
    {
     "name": "stdin",
     "output_type": "stream",
     "text": [
      "enter the n1 10\n",
      "enter the n2 20\n",
      "enter the n3 30.5\n"
     ]
    },
    {
     "name": "stdout",
     "output_type": "stream",
     "text": [
      "the average of 10, 20, 30.5is 20.17\n"
     ]
    }
   ],
   "source": [
    "# write ask the user take three numbers find the avarages\n",
    "n1=eval(input('enter the n1'))\n",
    "n2=eval(input('enter the n2'))\n",
    "n3=eval(input('enter the n3'))\n",
    "avg=(n1+n2+n3)/3\n",
    "avg1=round(avg,2)\n",
    "print(f'the average of {n1}, {n2}, {n3}is {avg1}')\n",
    "## \"Keyboard method\""
   ]
  },
  {
   "cell_type": "code",
   "execution_count": 106,
   "id": "7a660713-6963-4d42-80c7-2b9745e0e361",
   "metadata": {},
   "outputs": [
    {
     "data": {
      "text/plain": [
       "13"
      ]
     },
     "execution_count": 106,
     "metadata": {},
     "output_type": "execute_result"
    }
   ],
   "source": [
    "import random\n",
    "random.randint(1,20)"
   ]
  },
  {
   "cell_type": "code",
   "execution_count": 108,
   "id": "be5fc193-c2f8-4ca9-8de8-f28099496038",
   "metadata": {},
   "outputs": [
    {
     "data": {
      "text/plain": [
       "5"
      ]
     },
     "execution_count": 108,
     "metadata": {},
     "output_type": "execute_result"
    }
   ],
   "source": [
    "from random import randint\n",
    "random.randint(1,20)"
   ]
  },
  {
   "cell_type": "code",
   "execution_count": 110,
   "id": "bc0cad10-2ff0-41f2-957a-ca96cd225edf",
   "metadata": {},
   "outputs": [
    {
     "name": "stdout",
     "output_type": "stream",
     "text": [
      "the average of 71, 90, 18 is 59.67\n"
     ]
    }
   ],
   "source": [
    "# write ask the user take three numbers find the avarages\n",
    "from random import randint\n",
    "n1=random.randint(1,100)\n",
    "n2=random.randint(1,100)\n",
    "n3=random.randint(1,100)\n",
    "avg=(n1+n2+n3)/3\n",
    "avg1=round(avg,2)\n",
    "print(f'the average of {n1}, {n2}, {n3} is {avg1}')\n",
    "## \"Random mathod\""
   ]
  },
  {
   "cell_type": "code",
   "execution_count": 112,
   "id": "01142f8e-a4c1-4772-b3a8-b3660228c178",
   "metadata": {},
   "outputs": [
    {
     "name": "stdout",
     "output_type": "stream",
     "text": [
      "the area of circle is: 341.0\n"
     ]
    }
   ],
   "source": [
    "# write ask the user take the breadth and height from keyboard?\n",
    "# calculate area of right angle triangle\n",
    "# formula(area)=0.5*b*h\n",
    "from random import randint\n",
    "breadth=random.randint(15,35)\n",
    "height=random.randint(15,35)\n",
    "area=0.5*breadth*height\n",
    "print(f\"the area of circle is: {area}\")\n",
    "## \"Random mathod\""
   ]
  },
  {
   "cell_type": "code",
   "execution_count": 11,
   "id": "ee7408e4-e291-4fd3-81e7-3ae00a61009a",
   "metadata": {},
   "outputs": [
    {
     "name": "stdout",
     "output_type": "stream",
     "text": [
      "calculating area\n",
      "rounding off the area\n",
      "the area of circle is: 26015.53\n"
     ]
    }
   ],
   "source": [
    "# write ask the take the radius(r) from keyboard\n",
    "# calculate the area of circle\n",
    "#formula=pi*r*r (pi=22/7=3.14)\n",
    "from random import randint\n",
    "from math import pi,power \n",
    "import time\n",
    "\n",
    "radius=randint(1,100)\n",
    "time.sleep(2)\n",
    "print('calculating area')\n",
    "area=pi*pow(radius,2)\n",
    "print(f'rounding off the area')\n",
    "time.sleep(2)\n",
    "area1=round(area,2)\n",
    "print(f\"the area of circle is: {area1}\")\n",
    "## \"Random mathod\""
   ]
  },
  {
   "cell_type": "code",
   "execution_count": 13,
   "id": "87eac2ce-bf21-44d3-90d9-5f99ee46496c",
   "metadata": {},
   "outputs": [
    {
     "name": "stdout",
     "output_type": "stream",
     "text": [
      "bill_amount\n",
      "tip_amount\n",
      "the total bill is : 59\n"
     ]
    }
   ],
   "source": [
    "# write ask the user enter bill amount\n",
    "# ask the user provide how mich tip amount he wants to give\n",
    "# calculate the total bill\n",
    "from random import randint\n",
    "\n",
    "bill_amount=randint(25,50)\n",
    "print('bill_amount')\n",
    "time.sleep(3)\n",
    "tip_amount=randint(25,50)\n",
    "time.sleep(3)\n",
    "print('tip_amount')\n",
    "total_bill=bill_amount+tip_amount\n",
    "print(f\"the total bill is : {total_bill}\")"
   ]
  },
  {
   "cell_type": "code",
   "execution_count": 19,
   "id": "99bef00d-cfea-4daf-bf64-a1dd81102d2e",
   "metadata": {},
   "outputs": [
    {
     "name": "stdout",
     "output_type": "stream",
     "text": [
      "bill_amount\n",
      "tip_percentage\n",
      "total bill is 42\n"
     ]
    }
   ],
   "source": [
    "# write ask the user enter bill amount\n",
    "# ask the user provide how mich tip percentage he wants to give\n",
    "# calculate the total bill\n",
    "from random import randint\n",
    "bill_amount=randint(15,25)\n",
    "print('bill_amount')\n",
    "time.sleep(3)\n",
    "tip_percentage=randint(15,25)\n",
    "print('tip_percentage')\n",
    "time.sleep(3)\n",
    "total_bill=bill_amount+tip_percentage\n",
    "print(f\"total bill is {total_bill}\")"
   ]
  },
  {
   "cell_type": "code",
   "execution_count": 9,
   "id": "4a7224b0-0490-4b5b-9116-33d2dc28a8c8",
   "metadata": {},
   "outputs": [
    {
     "name": "stdout",
     "output_type": "stream",
     "text": [
      "father: hey beta\n",
      "son: hi papa:\n",
      "father: I heard your results are come out\n",
      "son: yes papa\n",
      "father: great! how much percentage we got\n",
      "son: i will tell the sub marks you will tell me percentage\n",
      "father: wow thats the superb game lets start\n"
     ]
    },
    {
     "name": "stdin",
     "output_type": "stream",
     "text": [
      "enter the marks: 98\n",
      "enter the marks: 85\n",
      "enter the marks: 95\n",
      "enter the marks: 86\n",
      "enter the marks: 79\n",
      "enter the marks: 75\n"
     ]
    },
    {
     "name": "stdout",
     "output_type": "stream",
     "text": [
      "the percentage marks is: 86.33\n"
     ]
    }
   ],
   "source": [
    "# calculate the percentage\n",
    "# father: hey beta\n",
    "# son: hi papa\n",
    "# father: I heard your results are come out\n",
    "# son: yes papa\n",
    "# father:great! how much percentage we got\n",
    "# son: i will tell the sub marks you will tell me percentage\n",
    "# father: wow thats the superb game lets start\n",
    "# telugu = eval(input())\n",
    "# hindi\n",
    "# english\n",
    "# maths\n",
    "# science\n",
    "# social\n",
    "# avg= (t+h+e+m+s+s)/6\n",
    "print('father: hey beta')\n",
    "time.sleep(2)\n",
    "print('son: hi papa:')\n",
    "time.sleep(2)\n",
    "print('father: I heard your results are come out')\n",
    "time.sleep(2)\n",
    "print('son: yes papa')\n",
    "time.sleep(2)\n",
    "print('father: great! how much percentage we got')\n",
    "time.sleep(2)\n",
    "print('son: i will tell the sub marks you will tell me percentage')\n",
    "time.sleep(2)\n",
    "print('father: wow thats the superb game lets start')\n",
    "telugu=eval(input('enter the marks:'))\n",
    "hindi=eval(input('enter the marks:'))\n",
    "english=eval(input('enter the marks:'))\n",
    "maths=eval(input('enter the marks:'))\n",
    "science=eval(input('enter the marks:'))\n",
    "social=eval(input('enter the marks:'))\n",
    "avg=(telugu+hindi+english+maths+science+social)/6\n",
    "avg1=round(avg,2)\n",
    "print(f\"the percentage marks is: {avg1}\")"
   ]
  },
  {
   "cell_type": "code",
   "execution_count": 23,
   "id": "0dd631eb-4912-4829-a462-ed886aec713e",
   "metadata": {},
   "outputs": [],
   "source": [
    "import cv2     ## image operations\n",
    "               ## computer visoin "
   ]
  },
  {
   "cell_type": "code",
   "execution_count": 21,
   "id": "0ed0be73-7cb8-44d3-8039-a2c0e65746b7",
   "metadata": {},
   "outputs": [],
   "source": [
    "import flask    ## API"
   ]
  },
  {
   "cell_type": "code",
   "execution_count": 27,
   "id": "97020c3c-95ca-44e7-b6b6-18b7220cbc73",
   "metadata": {},
   "outputs": [],
   "source": [
    "import streamlit ## Application"
   ]
  },
  {
   "cell_type": "code",
   "execution_count": null,
   "id": "a3b24625-05b0-400f-8338-92668d2c56fe",
   "metadata": {},
   "outputs": [],
   "source": [
    "import tensorflow  ## module not found"
   ]
  },
  {
   "cell_type": "markdown",
   "id": "ea1a13ac-a4c5-4468-a6b7-b83649b631fe",
   "metadata": {},
   "source": [
    "- if we want to install the packages, we can do two ways\n",
    "- using **anaconda prompt**\n",
    "- pip install package_name\n",
    "    - using **jupyter notebook**\n",
    "    - pip install package name\n",
    "    - package name flask, install name:pip flask\n",
    "    - package name strealist, install name pip streamlist"
   ]
  },
  {
   "cell_type": "code",
   "execution_count": 7,
   "id": "943dfe58-ed9e-4cd3-a72d-3a7a05d0e3e0",
   "metadata": {},
   "outputs": [
    {
     "name": "stdout",
     "output_type": "stream",
     "text": [
      "Requirement already satisfied: opencv-python in c:\\users\\sandeep\\anaconda3\\lib\\site-packages (4.11.0.86)\n",
      "Requirement already satisfied: numpy>=1.21.2 in c:\\users\\sandeep\\anaconda3\\lib\\site-packages (from opencv-python) (1.26.4)\n",
      "Note: you may need to restart the kernel to use updated packages.\n"
     ]
    }
   ],
   "source": [
    "pip install opencv-python"
   ]
  },
  {
   "cell_type": "code",
   "execution_count": 3,
   "id": "01ec9e9c-9493-4571-a17d-ba577f7de616",
   "metadata": {},
   "outputs": [
    {
     "data": {
      "text/plain": [
       "['ACCESS_FAST',\n",
       " 'ACCESS_MASK',\n",
       " 'ACCESS_READ',\n",
       " 'ACCESS_RW',\n",
       " 'ACCESS_WRITE',\n",
       " 'ADAPTIVE_THRESH_GAUSSIAN_C',\n",
       " 'ADAPTIVE_THRESH_MEAN_C',\n",
       " 'AGAST_FEATURE_DETECTOR_AGAST_5_8',\n",
       " 'AGAST_FEATURE_DETECTOR_AGAST_7_12D',\n",
       " 'AGAST_FEATURE_DETECTOR_AGAST_7_12S',\n",
       " 'AGAST_FEATURE_DETECTOR_NONMAX_SUPPRESSION',\n",
       " 'AGAST_FEATURE_DETECTOR_OAST_9_16',\n",
       " 'AGAST_FEATURE_DETECTOR_THRESHOLD',\n",
       " 'AKAZE',\n",
       " 'AKAZE_DESCRIPTOR_KAZE',\n",
       " 'AKAZE_DESCRIPTOR_KAZE_UPRIGHT',\n",
       " 'AKAZE_DESCRIPTOR_MLDB',\n",
       " 'AKAZE_DESCRIPTOR_MLDB_UPRIGHT',\n",
       " 'AKAZE_create',\n",
       " 'ALGO_HINT_ACCURATE',\n",
       " 'ALGO_HINT_APPROX',\n",
       " 'ALGO_HINT_DEFAULT',\n",
       " 'AffineFeature',\n",
       " 'AffineFeature_create',\n",
       " 'AgastFeatureDetector',\n",
       " 'AgastFeatureDetector_AGAST_5_8',\n",
       " 'AgastFeatureDetector_AGAST_7_12d',\n",
       " 'AgastFeatureDetector_AGAST_7_12s',\n",
       " 'AgastFeatureDetector_NONMAX_SUPPRESSION',\n",
       " 'AgastFeatureDetector_OAST_9_16',\n",
       " 'AgastFeatureDetector_THRESHOLD',\n",
       " 'AgastFeatureDetector_create',\n",
       " 'Algorithm',\n",
       " 'AlignExposures',\n",
       " 'AlignMTB',\n",
       " 'Animation',\n",
       " 'AsyncArray',\n",
       " 'BFMatcher',\n",
       " 'BFMatcher_create',\n",
       " 'BORDER_CONSTANT',\n",
       " 'BORDER_DEFAULT',\n",
       " 'BORDER_ISOLATED',\n",
       " 'BORDER_REFLECT',\n",
       " 'BORDER_REFLECT101',\n",
       " 'BORDER_REFLECT_101',\n",
       " 'BORDER_REPLICATE',\n",
       " 'BORDER_TRANSPARENT',\n",
       " 'BORDER_WRAP',\n",
       " 'BOWImgDescriptorExtractor',\n",
       " 'BOWKMeansTrainer',\n",
       " 'BOWTrainer',\n",
       " 'BRISK',\n",
       " 'BRISK_create',\n",
       " 'BackgroundSubtractor',\n",
       " 'BackgroundSubtractorKNN',\n",
       " 'BackgroundSubtractorMOG2',\n",
       " 'BaseCascadeClassifier',\n",
       " 'CALIB_CB_ACCURACY',\n",
       " 'CALIB_CB_ADAPTIVE_THRESH',\n",
       " 'CALIB_CB_ASYMMETRIC_GRID',\n",
       " 'CALIB_CB_CLUSTERING',\n",
       " 'CALIB_CB_EXHAUSTIVE',\n",
       " 'CALIB_CB_FAST_CHECK',\n",
       " 'CALIB_CB_FILTER_QUADS',\n",
       " 'CALIB_CB_LARGER',\n",
       " 'CALIB_CB_MARKER',\n",
       " 'CALIB_CB_NORMALIZE_IMAGE',\n",
       " 'CALIB_CB_PLAIN',\n",
       " 'CALIB_CB_SYMMETRIC_GRID',\n",
       " 'CALIB_FIX_ASPECT_RATIO',\n",
       " 'CALIB_FIX_FOCAL_LENGTH',\n",
       " 'CALIB_FIX_INTRINSIC',\n",
       " 'CALIB_FIX_K1',\n",
       " 'CALIB_FIX_K2',\n",
       " 'CALIB_FIX_K3',\n",
       " 'CALIB_FIX_K4',\n",
       " 'CALIB_FIX_K5',\n",
       " 'CALIB_FIX_K6',\n",
       " 'CALIB_FIX_PRINCIPAL_POINT',\n",
       " 'CALIB_FIX_S1_S2_S3_S4',\n",
       " 'CALIB_FIX_TANGENT_DIST',\n",
       " 'CALIB_FIX_TAUX_TAUY',\n",
       " 'CALIB_HAND_EYE_ANDREFF',\n",
       " 'CALIB_HAND_EYE_DANIILIDIS',\n",
       " 'CALIB_HAND_EYE_HORAUD',\n",
       " 'CALIB_HAND_EYE_PARK',\n",
       " 'CALIB_HAND_EYE_TSAI',\n",
       " 'CALIB_NINTRINSIC',\n",
       " 'CALIB_RATIONAL_MODEL',\n",
       " 'CALIB_ROBOT_WORLD_HAND_EYE_LI',\n",
       " 'CALIB_ROBOT_WORLD_HAND_EYE_SHAH',\n",
       " 'CALIB_SAME_FOCAL_LENGTH',\n",
       " 'CALIB_THIN_PRISM_MODEL',\n",
       " 'CALIB_TILTED_MODEL',\n",
       " 'CALIB_USE_EXTRINSIC_GUESS',\n",
       " 'CALIB_USE_INTRINSIC_GUESS',\n",
       " 'CALIB_USE_LU',\n",
       " 'CALIB_USE_QR',\n",
       " 'CALIB_ZERO_DISPARITY',\n",
       " 'CALIB_ZERO_TANGENT_DIST',\n",
       " 'CAP_ANDROID',\n",
       " 'CAP_ANY',\n",
       " 'CAP_ARAVIS',\n",
       " 'CAP_AVFOUNDATION',\n",
       " 'CAP_CMU1394',\n",
       " 'CAP_DC1394',\n",
       " 'CAP_DSHOW',\n",
       " 'CAP_FFMPEG',\n",
       " 'CAP_FIREWARE',\n",
       " 'CAP_FIREWIRE',\n",
       " 'CAP_GIGANETIX',\n",
       " 'CAP_GPHOTO2',\n",
       " 'CAP_GSTREAMER',\n",
       " 'CAP_IEEE1394',\n",
       " 'CAP_IMAGES',\n",
       " 'CAP_INTELPERC',\n",
       " 'CAP_INTELPERC_DEPTH_GENERATOR',\n",
       " 'CAP_INTELPERC_DEPTH_MAP',\n",
       " 'CAP_INTELPERC_GENERATORS_MASK',\n",
       " 'CAP_INTELPERC_IMAGE',\n",
       " 'CAP_INTELPERC_IMAGE_GENERATOR',\n",
       " 'CAP_INTELPERC_IR_GENERATOR',\n",
       " 'CAP_INTELPERC_IR_MAP',\n",
       " 'CAP_INTELPERC_UVDEPTH_MAP',\n",
       " 'CAP_INTEL_MFX',\n",
       " 'CAP_MSMF',\n",
       " 'CAP_OBSENSOR',\n",
       " 'CAP_OBSENSOR_BGR_IMAGE',\n",
       " 'CAP_OBSENSOR_DEPTH_GENERATOR',\n",
       " 'CAP_OBSENSOR_DEPTH_MAP',\n",
       " 'CAP_OBSENSOR_GENERATORS_MASK',\n",
       " 'CAP_OBSENSOR_IMAGE_GENERATOR',\n",
       " 'CAP_OBSENSOR_IR_GENERATOR',\n",
       " 'CAP_OBSENSOR_IR_IMAGE',\n",
       " 'CAP_OPENCV_MJPEG',\n",
       " 'CAP_OPENNI',\n",
       " 'CAP_OPENNI2',\n",
       " 'CAP_OPENNI2_ASTRA',\n",
       " 'CAP_OPENNI2_ASUS',\n",
       " 'CAP_OPENNI_ASUS',\n",
       " 'CAP_OPENNI_BGR_IMAGE',\n",
       " 'CAP_OPENNI_DEPTH_GENERATOR',\n",
       " 'CAP_OPENNI_DEPTH_GENERATOR_BASELINE',\n",
       " 'CAP_OPENNI_DEPTH_GENERATOR_FOCAL_LENGTH',\n",
       " 'CAP_OPENNI_DEPTH_GENERATOR_PRESENT',\n",
       " 'CAP_OPENNI_DEPTH_GENERATOR_REGISTRATION',\n",
       " 'CAP_OPENNI_DEPTH_GENERATOR_REGISTRATION_ON',\n",
       " 'CAP_OPENNI_DEPTH_MAP',\n",
       " 'CAP_OPENNI_DISPARITY_MAP',\n",
       " 'CAP_OPENNI_DISPARITY_MAP_32F',\n",
       " 'CAP_OPENNI_GENERATORS_MASK',\n",
       " 'CAP_OPENNI_GRAY_IMAGE',\n",
       " 'CAP_OPENNI_IMAGE_GENERATOR',\n",
       " 'CAP_OPENNI_IMAGE_GENERATOR_OUTPUT_MODE',\n",
       " 'CAP_OPENNI_IMAGE_GENERATOR_PRESENT',\n",
       " 'CAP_OPENNI_IR_GENERATOR',\n",
       " 'CAP_OPENNI_IR_GENERATOR_PRESENT',\n",
       " 'CAP_OPENNI_IR_IMAGE',\n",
       " 'CAP_OPENNI_POINT_CLOUD_MAP',\n",
       " 'CAP_OPENNI_QVGA_30HZ',\n",
       " 'CAP_OPENNI_QVGA_60HZ',\n",
       " 'CAP_OPENNI_SXGA_15HZ',\n",
       " 'CAP_OPENNI_SXGA_30HZ',\n",
       " 'CAP_OPENNI_VALID_DEPTH_MASK',\n",
       " 'CAP_OPENNI_VGA_30HZ',\n",
       " 'CAP_PROP_ANDROID_DEVICE_TORCH',\n",
       " 'CAP_PROP_APERTURE',\n",
       " 'CAP_PROP_ARAVIS_AUTOTRIGGER',\n",
       " 'CAP_PROP_AUDIO_BASE_INDEX',\n",
       " 'CAP_PROP_AUDIO_DATA_DEPTH',\n",
       " 'CAP_PROP_AUDIO_POS',\n",
       " 'CAP_PROP_AUDIO_SAMPLES_PER_SECOND',\n",
       " 'CAP_PROP_AUDIO_SHIFT_NSEC',\n",
       " 'CAP_PROP_AUDIO_STREAM',\n",
       " 'CAP_PROP_AUDIO_SYNCHRONIZE',\n",
       " 'CAP_PROP_AUDIO_TOTAL_CHANNELS',\n",
       " 'CAP_PROP_AUDIO_TOTAL_STREAMS',\n",
       " 'CAP_PROP_AUTOFOCUS',\n",
       " 'CAP_PROP_AUTO_EXPOSURE',\n",
       " 'CAP_PROP_AUTO_WB',\n",
       " 'CAP_PROP_BACKEND',\n",
       " 'CAP_PROP_BACKLIGHT',\n",
       " 'CAP_PROP_BITRATE',\n",
       " 'CAP_PROP_BRIGHTNESS',\n",
       " 'CAP_PROP_BUFFERSIZE',\n",
       " 'CAP_PROP_CHANNEL',\n",
       " 'CAP_PROP_CODEC_EXTRADATA_INDEX',\n",
       " 'CAP_PROP_CODEC_PIXEL_FORMAT',\n",
       " 'CAP_PROP_CONTRAST',\n",
       " 'CAP_PROP_CONVERT_RGB',\n",
       " 'CAP_PROP_DC1394_MAX',\n",
       " 'CAP_PROP_DC1394_MODE_AUTO',\n",
       " 'CAP_PROP_DC1394_MODE_MANUAL',\n",
       " 'CAP_PROP_DC1394_MODE_ONE_PUSH_AUTO',\n",
       " 'CAP_PROP_DC1394_OFF',\n",
       " 'CAP_PROP_DTS_DELAY',\n",
       " 'CAP_PROP_EXPOSURE',\n",
       " 'CAP_PROP_EXPOSUREPROGRAM',\n",
       " 'CAP_PROP_FOCUS',\n",
       " 'CAP_PROP_FORMAT',\n",
       " 'CAP_PROP_FOURCC',\n",
       " 'CAP_PROP_FPS',\n",
       " 'CAP_PROP_FRAME_COUNT',\n",
       " 'CAP_PROP_FRAME_HEIGHT',\n",
       " 'CAP_PROP_FRAME_TYPE',\n",
       " 'CAP_PROP_FRAME_WIDTH',\n",
       " 'CAP_PROP_GAIN',\n",
       " 'CAP_PROP_GAMMA',\n",
       " 'CAP_PROP_GIGA_FRAME_HEIGH_MAX',\n",
       " 'CAP_PROP_GIGA_FRAME_OFFSET_X',\n",
       " 'CAP_PROP_GIGA_FRAME_OFFSET_Y',\n",
       " 'CAP_PROP_GIGA_FRAME_SENS_HEIGH',\n",
       " 'CAP_PROP_GIGA_FRAME_SENS_WIDTH',\n",
       " 'CAP_PROP_GIGA_FRAME_WIDTH_MAX',\n",
       " 'CAP_PROP_GPHOTO2_COLLECT_MSGS',\n",
       " 'CAP_PROP_GPHOTO2_FLUSH_MSGS',\n",
       " 'CAP_PROP_GPHOTO2_PREVIEW',\n",
       " 'CAP_PROP_GPHOTO2_RELOAD_CONFIG',\n",
       " 'CAP_PROP_GPHOTO2_RELOAD_ON_CHANGE',\n",
       " 'CAP_PROP_GPHOTO2_WIDGET_ENUMERATE',\n",
       " 'CAP_PROP_GSTREAMER_QUEUE_LENGTH',\n",
       " 'CAP_PROP_GUID',\n",
       " 'CAP_PROP_HUE',\n",
       " 'CAP_PROP_HW_ACCELERATION',\n",
       " 'CAP_PROP_HW_ACCELERATION_USE_OPENCL',\n",
       " 'CAP_PROP_HW_DEVICE',\n",
       " 'CAP_PROP_IMAGES_BASE',\n",
       " 'CAP_PROP_IMAGES_LAST',\n",
       " 'CAP_PROP_INTELPERC_DEPTH_CONFIDENCE_THRESHOLD',\n",
       " 'CAP_PROP_INTELPERC_DEPTH_FOCAL_LENGTH_HORZ',\n",
       " 'CAP_PROP_INTELPERC_DEPTH_FOCAL_LENGTH_VERT',\n",
       " 'CAP_PROP_INTELPERC_DEPTH_LOW_CONFIDENCE_VALUE',\n",
       " 'CAP_PROP_INTELPERC_DEPTH_SATURATION_VALUE',\n",
       " 'CAP_PROP_INTELPERC_PROFILE_COUNT',\n",
       " 'CAP_PROP_INTELPERC_PROFILE_IDX',\n",
       " 'CAP_PROP_IOS_DEVICE_EXPOSURE',\n",
       " 'CAP_PROP_IOS_DEVICE_FLASH',\n",
       " 'CAP_PROP_IOS_DEVICE_FOCUS',\n",
       " 'CAP_PROP_IOS_DEVICE_TORCH',\n",
       " 'CAP_PROP_IOS_DEVICE_WHITEBALANCE',\n",
       " 'CAP_PROP_IRIS',\n",
       " 'CAP_PROP_ISO_SPEED',\n",
       " 'CAP_PROP_LRF_HAS_KEY_FRAME',\n",
       " 'CAP_PROP_MODE',\n",
       " 'CAP_PROP_MONOCHROME',\n",
       " 'CAP_PROP_N_THREADS',\n",
       " 'CAP_PROP_OBSENSOR_INTRINSIC_CX',\n",
       " 'CAP_PROP_OBSENSOR_INTRINSIC_CY',\n",
       " 'CAP_PROP_OBSENSOR_INTRINSIC_FX',\n",
       " 'CAP_PROP_OBSENSOR_INTRINSIC_FY',\n",
       " 'CAP_PROP_OPENNI2_MIRROR',\n",
       " 'CAP_PROP_OPENNI2_SYNC',\n",
       " 'CAP_PROP_OPENNI_APPROX_FRAME_SYNC',\n",
       " 'CAP_PROP_OPENNI_BASELINE',\n",
       " 'CAP_PROP_OPENNI_CIRCLE_BUFFER',\n",
       " 'CAP_PROP_OPENNI_FOCAL_LENGTH',\n",
       " 'CAP_PROP_OPENNI_FRAME_MAX_DEPTH',\n",
       " 'CAP_PROP_OPENNI_GENERATOR_PRESENT',\n",
       " 'CAP_PROP_OPENNI_MAX_BUFFER_SIZE',\n",
       " 'CAP_PROP_OPENNI_MAX_TIME_DURATION',\n",
       " 'CAP_PROP_OPENNI_OUTPUT_MODE',\n",
       " 'CAP_PROP_OPENNI_REGISTRATION',\n",
       " 'CAP_PROP_OPENNI_REGISTRATION_ON',\n",
       " 'CAP_PROP_OPEN_TIMEOUT_MSEC',\n",
       " 'CAP_PROP_ORIENTATION_AUTO',\n",
       " 'CAP_PROP_ORIENTATION_META',\n",
       " 'CAP_PROP_PAN',\n",
       " 'CAP_PROP_POS_AVI_RATIO',\n",
       " 'CAP_PROP_POS_FRAMES',\n",
       " 'CAP_PROP_POS_MSEC',\n",
       " 'CAP_PROP_PTS',\n",
       " 'CAP_PROP_PVAPI_BINNINGX',\n",
       " 'CAP_PROP_PVAPI_BINNINGY',\n",
       " 'CAP_PROP_PVAPI_DECIMATIONHORIZONTAL',\n",
       " 'CAP_PROP_PVAPI_DECIMATIONVERTICAL',\n",
       " 'CAP_PROP_PVAPI_FRAMESTARTTRIGGERMODE',\n",
       " 'CAP_PROP_PVAPI_MULTICASTIP',\n",
       " 'CAP_PROP_PVAPI_PIXELFORMAT',\n",
       " 'CAP_PROP_READ_TIMEOUT_MSEC',\n",
       " 'CAP_PROP_RECTIFICATION',\n",
       " 'CAP_PROP_ROLL',\n",
       " 'CAP_PROP_SAR_DEN',\n",
       " 'CAP_PROP_SAR_NUM',\n",
       " 'CAP_PROP_SATURATION',\n",
       " 'CAP_PROP_SETTINGS',\n",
       " 'CAP_PROP_SHARPNESS',\n",
       " 'CAP_PROP_SPEED',\n",
       " 'CAP_PROP_STREAM_OPEN_TIME_USEC',\n",
       " 'CAP_PROP_TEMPERATURE',\n",
       " 'CAP_PROP_TILT',\n",
       " 'CAP_PROP_TRIGGER',\n",
       " 'CAP_PROP_TRIGGER_DELAY',\n",
       " 'CAP_PROP_VIDEO_STREAM',\n",
       " 'CAP_PROP_VIDEO_TOTAL_CHANNELS',\n",
       " 'CAP_PROP_VIEWFINDER',\n",
       " 'CAP_PROP_WB_TEMPERATURE',\n",
       " 'CAP_PROP_WHITE_BALANCE_BLUE_U',\n",
       " 'CAP_PROP_WHITE_BALANCE_RED_V',\n",
       " 'CAP_PROP_XI_ACQ_BUFFER_SIZE',\n",
       " 'CAP_PROP_XI_ACQ_BUFFER_SIZE_UNIT',\n",
       " 'CAP_PROP_XI_ACQ_FRAME_BURST_COUNT',\n",
       " 'CAP_PROP_XI_ACQ_TIMING_MODE',\n",
       " 'CAP_PROP_XI_ACQ_TRANSPORT_BUFFER_COMMIT',\n",
       " 'CAP_PROP_XI_ACQ_TRANSPORT_BUFFER_SIZE',\n",
       " 'CAP_PROP_XI_AEAG',\n",
       " 'CAP_PROP_XI_AEAG_LEVEL',\n",
       " 'CAP_PROP_XI_AEAG_ROI_HEIGHT',\n",
       " 'CAP_PROP_XI_AEAG_ROI_OFFSET_X',\n",
       " 'CAP_PROP_XI_AEAG_ROI_OFFSET_Y',\n",
       " 'CAP_PROP_XI_AEAG_ROI_WIDTH',\n",
       " 'CAP_PROP_XI_AE_MAX_LIMIT',\n",
       " 'CAP_PROP_XI_AG_MAX_LIMIT',\n",
       " 'CAP_PROP_XI_APPLY_CMS',\n",
       " 'CAP_PROP_XI_AUTO_BANDWIDTH_CALCULATION',\n",
       " 'CAP_PROP_XI_AUTO_WB',\n",
       " 'CAP_PROP_XI_AVAILABLE_BANDWIDTH',\n",
       " 'CAP_PROP_XI_BINNING_HORIZONTAL',\n",
       " 'CAP_PROP_XI_BINNING_PATTERN',\n",
       " 'CAP_PROP_XI_BINNING_SELECTOR',\n",
       " 'CAP_PROP_XI_BINNING_VERTICAL',\n",
       " 'CAP_PROP_XI_BPC',\n",
       " 'CAP_PROP_XI_BUFFERS_QUEUE_SIZE',\n",
       " 'CAP_PROP_XI_BUFFER_POLICY',\n",
       " 'CAP_PROP_XI_CC_MATRIX_00',\n",
       " 'CAP_PROP_XI_CC_MATRIX_01',\n",
       " 'CAP_PROP_XI_CC_MATRIX_02',\n",
       " 'CAP_PROP_XI_CC_MATRIX_03',\n",
       " 'CAP_PROP_XI_CC_MATRIX_10',\n",
       " 'CAP_PROP_XI_CC_MATRIX_11',\n",
       " 'CAP_PROP_XI_CC_MATRIX_12',\n",
       " 'CAP_PROP_XI_CC_MATRIX_13',\n",
       " 'CAP_PROP_XI_CC_MATRIX_20',\n",
       " 'CAP_PROP_XI_CC_MATRIX_21',\n",
       " 'CAP_PROP_XI_CC_MATRIX_22',\n",
       " 'CAP_PROP_XI_CC_MATRIX_23',\n",
       " 'CAP_PROP_XI_CC_MATRIX_30',\n",
       " 'CAP_PROP_XI_CC_MATRIX_31',\n",
       " 'CAP_PROP_XI_CC_MATRIX_32',\n",
       " 'CAP_PROP_XI_CC_MATRIX_33',\n",
       " 'CAP_PROP_XI_CHIP_TEMP',\n",
       " 'CAP_PROP_XI_CMS',\n",
       " 'CAP_PROP_XI_COLOR_FILTER_ARRAY',\n",
       " 'CAP_PROP_XI_COLUMN_FPN_CORRECTION',\n",
       " 'CAP_PROP_XI_COOLING',\n",
       " 'CAP_PROP_XI_COUNTER_SELECTOR',\n",
       " 'CAP_PROP_XI_COUNTER_VALUE',\n",
       " 'CAP_PROP_XI_DATA_FORMAT',\n",
       " 'CAP_PROP_XI_DEBOUNCE_EN',\n",
       " 'CAP_PROP_XI_DEBOUNCE_POL',\n",
       " 'CAP_PROP_XI_DEBOUNCE_T0',\n",
       " 'CAP_PROP_XI_DEBOUNCE_T1',\n",
       " 'CAP_PROP_XI_DEBUG_LEVEL',\n",
       " 'CAP_PROP_XI_DECIMATION_HORIZONTAL',\n",
       " 'CAP_PROP_XI_DECIMATION_PATTERN',\n",
       " 'CAP_PROP_XI_DECIMATION_SELECTOR',\n",
       " 'CAP_PROP_XI_DECIMATION_VERTICAL',\n",
       " 'CAP_PROP_XI_DEFAULT_CC_MATRIX',\n",
       " 'CAP_PROP_XI_DEVICE_MODEL_ID',\n",
       " 'CAP_PROP_XI_DEVICE_RESET',\n",
       " 'CAP_PROP_XI_DEVICE_SN',\n",
       " 'CAP_PROP_XI_DOWNSAMPLING',\n",
       " 'CAP_PROP_XI_DOWNSAMPLING_TYPE',\n",
       " 'CAP_PROP_XI_EXPOSURE',\n",
       " 'CAP_PROP_XI_EXPOSURE_BURST_COUNT',\n",
       " 'CAP_PROP_XI_EXP_PRIORITY',\n",
       " 'CAP_PROP_XI_FFS_ACCESS_KEY',\n",
       " 'CAP_PROP_XI_FFS_FILE_ID',\n",
       " 'CAP_PROP_XI_FFS_FILE_SIZE',\n",
       " 'CAP_PROP_XI_FRAMERATE',\n",
       " 'CAP_PROP_XI_FREE_FFS_SIZE',\n",
       " 'CAP_PROP_XI_GAIN',\n",
       " 'CAP_PROP_XI_GAIN_SELECTOR',\n",
       " 'CAP_PROP_XI_GAMMAC',\n",
       " 'CAP_PROP_XI_GAMMAY',\n",
       " 'CAP_PROP_XI_GPI_LEVEL',\n",
       " 'CAP_PROP_XI_GPI_MODE',\n",
       " 'CAP_PROP_XI_GPI_SELECTOR',\n",
       " 'CAP_PROP_XI_GPO_MODE',\n",
       " 'CAP_PROP_XI_GPO_SELECTOR',\n",
       " 'CAP_PROP_XI_HDR',\n",
       " 'CAP_PROP_XI_HDR_KNEEPOINT_COUNT',\n",
       " 'CAP_PROP_XI_HDR_T1',\n",
       " 'CAP_PROP_XI_HDR_T2',\n",
       " 'CAP_PROP_XI_HEIGHT',\n",
       " 'CAP_PROP_XI_HOUS_BACK_SIDE_TEMP',\n",
       " 'CAP_PROP_XI_HOUS_TEMP',\n",
       " 'CAP_PROP_XI_HW_REVISION',\n",
       " 'CAP_PROP_XI_IMAGE_BLACK_LEVEL',\n",
       " 'CAP_PROP_XI_IMAGE_DATA_BIT_DEPTH',\n",
       " 'CAP_PROP_XI_IMAGE_DATA_FORMAT',\n",
       " 'CAP_PROP_XI_IMAGE_DATA_FORMAT_RGB32_ALPHA',\n",
       " 'CAP_PROP_XI_IMAGE_IS_COLOR',\n",
       " 'CAP_PROP_XI_IMAGE_PAYLOAD_SIZE',\n",
       " 'CAP_PROP_XI_IS_COOLED',\n",
       " 'CAP_PROP_XI_IS_DEVICE_EXIST',\n",
       " 'CAP_PROP_XI_KNEEPOINT1',\n",
       " 'CAP_PROP_XI_KNEEPOINT2',\n",
       " 'CAP_PROP_XI_LED_MODE',\n",
       " 'CAP_PROP_XI_LED_SELECTOR',\n",
       " 'CAP_PROP_XI_LENS_APERTURE_VALUE',\n",
       " 'CAP_PROP_XI_LENS_FEATURE',\n",
       " 'CAP_PROP_XI_LENS_FEATURE_SELECTOR',\n",
       " 'CAP_PROP_XI_LENS_FOCAL_LENGTH',\n",
       " 'CAP_PROP_XI_LENS_FOCUS_DISTANCE',\n",
       " 'CAP_PROP_XI_LENS_FOCUS_MOVE',\n",
       " 'CAP_PROP_XI_LENS_FOCUS_MOVEMENT_VALUE',\n",
       " 'CAP_PROP_XI_LENS_MODE',\n",
       " 'CAP_PROP_XI_LIMIT_BANDWIDTH',\n",
       " 'CAP_PROP_XI_LUT_EN',\n",
       " 'CAP_PROP_XI_LUT_INDEX',\n",
       " 'CAP_PROP_XI_LUT_VALUE',\n",
       " 'CAP_PROP_XI_MANUAL_WB',\n",
       " 'CAP_PROP_XI_OFFSET_X',\n",
       " 'CAP_PROP_XI_OFFSET_Y',\n",
       " 'CAP_PROP_XI_OUTPUT_DATA_BIT_DEPTH',\n",
       " 'CAP_PROP_XI_OUTPUT_DATA_PACKING',\n",
       " 'CAP_PROP_XI_OUTPUT_DATA_PACKING_TYPE',\n",
       " 'CAP_PROP_XI_RECENT_FRAME',\n",
       " 'CAP_PROP_XI_REGION_MODE',\n",
       " 'CAP_PROP_XI_REGION_SELECTOR',\n",
       " 'CAP_PROP_XI_ROW_FPN_CORRECTION',\n",
       " 'CAP_PROP_XI_SENSOR_BOARD_TEMP',\n",
       " 'CAP_PROP_XI_SENSOR_CLOCK_FREQ_HZ',\n",
       " 'CAP_PROP_XI_SENSOR_CLOCK_FREQ_INDEX',\n",
       " 'CAP_PROP_XI_SENSOR_DATA_BIT_DEPTH',\n",
       " 'CAP_PROP_XI_SENSOR_FEATURE_SELECTOR',\n",
       " 'CAP_PROP_XI_SENSOR_FEATURE_VALUE',\n",
       " 'CAP_PROP_XI_SENSOR_MODE',\n",
       " 'CAP_PROP_XI_SENSOR_OUTPUT_CHANNEL_COUNT',\n",
       " 'CAP_PROP_XI_SENSOR_TAPS',\n",
       " 'CAP_PROP_XI_SHARPNESS',\n",
       " 'CAP_PROP_XI_SHUTTER_TYPE',\n",
       " 'CAP_PROP_XI_TARGET_TEMP',\n",
       " 'CAP_PROP_XI_TEST_PATTERN',\n",
       " 'CAP_PROP_XI_TEST_PATTERN_GENERATOR_SELECTOR',\n",
       " 'CAP_PROP_XI_TIMEOUT',\n",
       " 'CAP_PROP_XI_TRANSPORT_PIXEL_FORMAT',\n",
       " 'CAP_PROP_XI_TRG_DELAY',\n",
       " 'CAP_PROP_XI_TRG_SELECTOR',\n",
       " 'CAP_PROP_XI_TRG_SOFTWARE',\n",
       " 'CAP_PROP_XI_TRG_SOURCE',\n",
       " 'CAP_PROP_XI_TS_RST_MODE',\n",
       " 'CAP_PROP_XI_TS_RST_SOURCE',\n",
       " 'CAP_PROP_XI_USED_FFS_SIZE',\n",
       " 'CAP_PROP_XI_WB_KB',\n",
       " 'CAP_PROP_XI_WB_KG',\n",
       " 'CAP_PROP_XI_WB_KR',\n",
       " 'CAP_PROP_XI_WIDTH',\n",
       " 'CAP_PROP_ZOOM',\n",
       " 'CAP_PVAPI',\n",
       " 'CAP_PVAPI_DECIMATION_2OUTOF16',\n",
       " 'CAP_PVAPI_DECIMATION_2OUTOF4',\n",
       " 'CAP_PVAPI_DECIMATION_2OUTOF8',\n",
       " 'CAP_PVAPI_DECIMATION_OFF',\n",
       " 'CAP_PVAPI_FSTRIGMODE_FIXEDRATE',\n",
       " 'CAP_PVAPI_FSTRIGMODE_FREERUN',\n",
       " 'CAP_PVAPI_FSTRIGMODE_SOFTWARE',\n",
       " 'CAP_PVAPI_FSTRIGMODE_SYNCIN1',\n",
       " 'CAP_PVAPI_FSTRIGMODE_SYNCIN2',\n",
       " 'CAP_PVAPI_PIXELFORMAT_BAYER16',\n",
       " 'CAP_PVAPI_PIXELFORMAT_BAYER8',\n",
       " 'CAP_PVAPI_PIXELFORMAT_BGR24',\n",
       " 'CAP_PVAPI_PIXELFORMAT_BGRA32',\n",
       " 'CAP_PVAPI_PIXELFORMAT_MONO16',\n",
       " 'CAP_PVAPI_PIXELFORMAT_MONO8',\n",
       " 'CAP_PVAPI_PIXELFORMAT_RGB24',\n",
       " 'CAP_PVAPI_PIXELFORMAT_RGBA32',\n",
       " 'CAP_QT',\n",
       " 'CAP_REALSENSE',\n",
       " 'CAP_UEYE',\n",
       " 'CAP_UNICAP',\n",
       " 'CAP_V4L',\n",
       " 'CAP_V4L2',\n",
       " 'CAP_VFW',\n",
       " 'CAP_WINRT',\n",
       " 'CAP_XIAPI',\n",
       " 'CAP_XINE',\n",
       " 'CASCADE_DO_CANNY_PRUNING',\n",
       " 'CASCADE_DO_ROUGH_SEARCH',\n",
       " 'CASCADE_FIND_BIGGEST_OBJECT',\n",
       " 'CASCADE_SCALE_IMAGE',\n",
       " 'CCL_BBDT',\n",
       " 'CCL_BOLELLI',\n",
       " 'CCL_DEFAULT',\n",
       " 'CCL_GRANA',\n",
       " 'CCL_SAUF',\n",
       " 'CCL_SPAGHETTI',\n",
       " 'CCL_WU',\n",
       " 'CC_STAT_AREA',\n",
       " 'CC_STAT_HEIGHT',\n",
       " 'CC_STAT_LEFT',\n",
       " 'CC_STAT_MAX',\n",
       " 'CC_STAT_TOP',\n",
       " 'CC_STAT_WIDTH',\n",
       " 'CHAIN_APPROX_NONE',\n",
       " 'CHAIN_APPROX_SIMPLE',\n",
       " 'CHAIN_APPROX_TC89_KCOS',\n",
       " 'CHAIN_APPROX_TC89_L1',\n",
       " 'CIRCLES_GRID_FINDER_PARAMETERS_ASYMMETRIC_GRID',\n",
       " 'CIRCLES_GRID_FINDER_PARAMETERS_SYMMETRIC_GRID',\n",
       " 'CLAHE',\n",
       " 'CMP_EQ',\n",
       " 'CMP_GE',\n",
       " 'CMP_GT',\n",
       " 'CMP_LE',\n",
       " 'CMP_LT',\n",
       " 'CMP_NE',\n",
       " 'COLORMAP_AUTUMN',\n",
       " 'COLORMAP_BONE',\n",
       " 'COLORMAP_CIVIDIS',\n",
       " 'COLORMAP_COOL',\n",
       " 'COLORMAP_DEEPGREEN',\n",
       " 'COLORMAP_HOT',\n",
       " 'COLORMAP_HSV',\n",
       " 'COLORMAP_INFERNO',\n",
       " 'COLORMAP_JET',\n",
       " 'COLORMAP_MAGMA',\n",
       " 'COLORMAP_OCEAN',\n",
       " 'COLORMAP_PARULA',\n",
       " 'COLORMAP_PINK',\n",
       " 'COLORMAP_PLASMA',\n",
       " 'COLORMAP_RAINBOW',\n",
       " 'COLORMAP_SPRING',\n",
       " 'COLORMAP_SUMMER',\n",
       " 'COLORMAP_TURBO',\n",
       " 'COLORMAP_TWILIGHT',\n",
       " 'COLORMAP_TWILIGHT_SHIFTED',\n",
       " 'COLORMAP_VIRIDIS',\n",
       " 'COLORMAP_WINTER',\n",
       " 'COLOR_BAYER_BG2BGR',\n",
       " 'COLOR_BAYER_BG2BGRA',\n",
       " 'COLOR_BAYER_BG2BGR_EA',\n",
       " 'COLOR_BAYER_BG2BGR_VNG',\n",
       " 'COLOR_BAYER_BG2GRAY',\n",
       " 'COLOR_BAYER_BG2RGB',\n",
       " 'COLOR_BAYER_BG2RGBA',\n",
       " 'COLOR_BAYER_BG2RGB_EA',\n",
       " 'COLOR_BAYER_BG2RGB_VNG',\n",
       " 'COLOR_BAYER_BGGR2BGR',\n",
       " 'COLOR_BAYER_BGGR2BGRA',\n",
       " 'COLOR_BAYER_BGGR2BGR_EA',\n",
       " 'COLOR_BAYER_BGGR2BGR_VNG',\n",
       " 'COLOR_BAYER_BGGR2GRAY',\n",
       " 'COLOR_BAYER_BGGR2RGB',\n",
       " 'COLOR_BAYER_BGGR2RGBA',\n",
       " 'COLOR_BAYER_BGGR2RGB_EA',\n",
       " 'COLOR_BAYER_BGGR2RGB_VNG',\n",
       " 'COLOR_BAYER_GB2BGR',\n",
       " 'COLOR_BAYER_GB2BGRA',\n",
       " 'COLOR_BAYER_GB2BGR_EA',\n",
       " 'COLOR_BAYER_GB2BGR_VNG',\n",
       " 'COLOR_BAYER_GB2GRAY',\n",
       " 'COLOR_BAYER_GB2RGB',\n",
       " 'COLOR_BAYER_GB2RGBA',\n",
       " 'COLOR_BAYER_GB2RGB_EA',\n",
       " 'COLOR_BAYER_GB2RGB_VNG',\n",
       " 'COLOR_BAYER_GBRG2BGR',\n",
       " 'COLOR_BAYER_GBRG2BGRA',\n",
       " 'COLOR_BAYER_GBRG2BGR_EA',\n",
       " 'COLOR_BAYER_GBRG2BGR_VNG',\n",
       " 'COLOR_BAYER_GBRG2GRAY',\n",
       " 'COLOR_BAYER_GBRG2RGB',\n",
       " 'COLOR_BAYER_GBRG2RGBA',\n",
       " 'COLOR_BAYER_GBRG2RGB_EA',\n",
       " 'COLOR_BAYER_GBRG2RGB_VNG',\n",
       " 'COLOR_BAYER_GR2BGR',\n",
       " 'COLOR_BAYER_GR2BGRA',\n",
       " 'COLOR_BAYER_GR2BGR_EA',\n",
       " 'COLOR_BAYER_GR2BGR_VNG',\n",
       " 'COLOR_BAYER_GR2GRAY',\n",
       " 'COLOR_BAYER_GR2RGB',\n",
       " 'COLOR_BAYER_GR2RGBA',\n",
       " 'COLOR_BAYER_GR2RGB_EA',\n",
       " 'COLOR_BAYER_GR2RGB_VNG',\n",
       " 'COLOR_BAYER_GRBG2BGR',\n",
       " 'COLOR_BAYER_GRBG2BGRA',\n",
       " 'COLOR_BAYER_GRBG2BGR_EA',\n",
       " 'COLOR_BAYER_GRBG2BGR_VNG',\n",
       " 'COLOR_BAYER_GRBG2GRAY',\n",
       " 'COLOR_BAYER_GRBG2RGB',\n",
       " 'COLOR_BAYER_GRBG2RGBA',\n",
       " 'COLOR_BAYER_GRBG2RGB_EA',\n",
       " 'COLOR_BAYER_GRBG2RGB_VNG',\n",
       " 'COLOR_BAYER_RG2BGR',\n",
       " 'COLOR_BAYER_RG2BGRA',\n",
       " 'COLOR_BAYER_RG2BGR_EA',\n",
       " 'COLOR_BAYER_RG2BGR_VNG',\n",
       " 'COLOR_BAYER_RG2GRAY',\n",
       " 'COLOR_BAYER_RG2RGB',\n",
       " 'COLOR_BAYER_RG2RGBA',\n",
       " 'COLOR_BAYER_RG2RGB_EA',\n",
       " 'COLOR_BAYER_RG2RGB_VNG',\n",
       " 'COLOR_BAYER_RGGB2BGR',\n",
       " 'COLOR_BAYER_RGGB2BGRA',\n",
       " 'COLOR_BAYER_RGGB2BGR_EA',\n",
       " 'COLOR_BAYER_RGGB2BGR_VNG',\n",
       " 'COLOR_BAYER_RGGB2GRAY',\n",
       " 'COLOR_BAYER_RGGB2RGB',\n",
       " 'COLOR_BAYER_RGGB2RGBA',\n",
       " 'COLOR_BAYER_RGGB2RGB_EA',\n",
       " 'COLOR_BAYER_RGGB2RGB_VNG',\n",
       " 'COLOR_BGR2BGR555',\n",
       " 'COLOR_BGR2BGR565',\n",
       " 'COLOR_BGR2BGRA',\n",
       " 'COLOR_BGR2GRAY',\n",
       " 'COLOR_BGR2HLS',\n",
       " 'COLOR_BGR2HLS_FULL',\n",
       " 'COLOR_BGR2HSV',\n",
       " 'COLOR_BGR2HSV_FULL',\n",
       " 'COLOR_BGR2LAB',\n",
       " 'COLOR_BGR2LUV',\n",
       " 'COLOR_BGR2Lab',\n",
       " 'COLOR_BGR2Luv',\n",
       " 'COLOR_BGR2RGB',\n",
       " 'COLOR_BGR2RGBA',\n",
       " 'COLOR_BGR2XYZ',\n",
       " 'COLOR_BGR2YCR_CB',\n",
       " 'COLOR_BGR2YCrCb',\n",
       " 'COLOR_BGR2YUV',\n",
       " 'COLOR_BGR2YUV_I420',\n",
       " 'COLOR_BGR2YUV_IYUV',\n",
       " 'COLOR_BGR2YUV_UYNV',\n",
       " 'COLOR_BGR2YUV_UYVY',\n",
       " 'COLOR_BGR2YUV_Y422',\n",
       " 'COLOR_BGR2YUV_YUNV',\n",
       " 'COLOR_BGR2YUV_YUY2',\n",
       " 'COLOR_BGR2YUV_YUYV',\n",
       " 'COLOR_BGR2YUV_YV12',\n",
       " 'COLOR_BGR2YUV_YVYU',\n",
       " 'COLOR_BGR5552BGR',\n",
       " 'COLOR_BGR5552BGRA',\n",
       " 'COLOR_BGR5552GRAY',\n",
       " 'COLOR_BGR5552RGB',\n",
       " 'COLOR_BGR5552RGBA',\n",
       " 'COLOR_BGR5652BGR',\n",
       " 'COLOR_BGR5652BGRA',\n",
       " 'COLOR_BGR5652GRAY',\n",
       " 'COLOR_BGR5652RGB',\n",
       " 'COLOR_BGR5652RGBA',\n",
       " 'COLOR_BGRA2BGR',\n",
       " 'COLOR_BGRA2BGR555',\n",
       " 'COLOR_BGRA2BGR565',\n",
       " 'COLOR_BGRA2GRAY',\n",
       " 'COLOR_BGRA2RGB',\n",
       " 'COLOR_BGRA2RGBA',\n",
       " 'COLOR_BGRA2YUV_I420',\n",
       " 'COLOR_BGRA2YUV_IYUV',\n",
       " 'COLOR_BGRA2YUV_UYNV',\n",
       " 'COLOR_BGRA2YUV_UYVY',\n",
       " 'COLOR_BGRA2YUV_Y422',\n",
       " 'COLOR_BGRA2YUV_YUNV',\n",
       " 'COLOR_BGRA2YUV_YUY2',\n",
       " 'COLOR_BGRA2YUV_YUYV',\n",
       " 'COLOR_BGRA2YUV_YV12',\n",
       " 'COLOR_BGRA2YUV_YVYU',\n",
       " 'COLOR_BayerBG2BGR',\n",
       " 'COLOR_BayerBG2BGRA',\n",
       " 'COLOR_BayerBG2BGR_EA',\n",
       " 'COLOR_BayerBG2BGR_VNG',\n",
       " 'COLOR_BayerBG2GRAY',\n",
       " 'COLOR_BayerBG2RGB',\n",
       " 'COLOR_BayerBG2RGBA',\n",
       " 'COLOR_BayerBG2RGB_EA',\n",
       " 'COLOR_BayerBG2RGB_VNG',\n",
       " 'COLOR_BayerBGGR2BGR',\n",
       " 'COLOR_BayerBGGR2BGRA',\n",
       " 'COLOR_BayerBGGR2BGR_EA',\n",
       " 'COLOR_BayerBGGR2BGR_VNG',\n",
       " 'COLOR_BayerBGGR2GRAY',\n",
       " 'COLOR_BayerBGGR2RGB',\n",
       " 'COLOR_BayerBGGR2RGBA',\n",
       " 'COLOR_BayerBGGR2RGB_EA',\n",
       " 'COLOR_BayerBGGR2RGB_VNG',\n",
       " 'COLOR_BayerGB2BGR',\n",
       " 'COLOR_BayerGB2BGRA',\n",
       " 'COLOR_BayerGB2BGR_EA',\n",
       " 'COLOR_BayerGB2BGR_VNG',\n",
       " 'COLOR_BayerGB2GRAY',\n",
       " 'COLOR_BayerGB2RGB',\n",
       " 'COLOR_BayerGB2RGBA',\n",
       " 'COLOR_BayerGB2RGB_EA',\n",
       " 'COLOR_BayerGB2RGB_VNG',\n",
       " 'COLOR_BayerGBRG2BGR',\n",
       " 'COLOR_BayerGBRG2BGRA',\n",
       " 'COLOR_BayerGBRG2BGR_EA',\n",
       " 'COLOR_BayerGBRG2BGR_VNG',\n",
       " 'COLOR_BayerGBRG2GRAY',\n",
       " 'COLOR_BayerGBRG2RGB',\n",
       " 'COLOR_BayerGBRG2RGBA',\n",
       " 'COLOR_BayerGBRG2RGB_EA',\n",
       " 'COLOR_BayerGBRG2RGB_VNG',\n",
       " 'COLOR_BayerGR2BGR',\n",
       " 'COLOR_BayerGR2BGRA',\n",
       " 'COLOR_BayerGR2BGR_EA',\n",
       " 'COLOR_BayerGR2BGR_VNG',\n",
       " 'COLOR_BayerGR2GRAY',\n",
       " 'COLOR_BayerGR2RGB',\n",
       " 'COLOR_BayerGR2RGBA',\n",
       " 'COLOR_BayerGR2RGB_EA',\n",
       " 'COLOR_BayerGR2RGB_VNG',\n",
       " 'COLOR_BayerGRBG2BGR',\n",
       " 'COLOR_BayerGRBG2BGRA',\n",
       " 'COLOR_BayerGRBG2BGR_EA',\n",
       " 'COLOR_BayerGRBG2BGR_VNG',\n",
       " 'COLOR_BayerGRBG2GRAY',\n",
       " 'COLOR_BayerGRBG2RGB',\n",
       " 'COLOR_BayerGRBG2RGBA',\n",
       " 'COLOR_BayerGRBG2RGB_EA',\n",
       " 'COLOR_BayerGRBG2RGB_VNG',\n",
       " 'COLOR_BayerRG2BGR',\n",
       " 'COLOR_BayerRG2BGRA',\n",
       " 'COLOR_BayerRG2BGR_EA',\n",
       " 'COLOR_BayerRG2BGR_VNG',\n",
       " 'COLOR_BayerRG2GRAY',\n",
       " 'COLOR_BayerRG2RGB',\n",
       " 'COLOR_BayerRG2RGBA',\n",
       " 'COLOR_BayerRG2RGB_EA',\n",
       " 'COLOR_BayerRG2RGB_VNG',\n",
       " 'COLOR_BayerRGGB2BGR',\n",
       " 'COLOR_BayerRGGB2BGRA',\n",
       " 'COLOR_BayerRGGB2BGR_EA',\n",
       " 'COLOR_BayerRGGB2BGR_VNG',\n",
       " 'COLOR_BayerRGGB2GRAY',\n",
       " 'COLOR_BayerRGGB2RGB',\n",
       " 'COLOR_BayerRGGB2RGBA',\n",
       " 'COLOR_BayerRGGB2RGB_EA',\n",
       " 'COLOR_BayerRGGB2RGB_VNG',\n",
       " 'COLOR_COLORCVT_MAX',\n",
       " 'COLOR_GRAY2BGR',\n",
       " 'COLOR_GRAY2BGR555',\n",
       " 'COLOR_GRAY2BGR565',\n",
       " 'COLOR_GRAY2BGRA',\n",
       " 'COLOR_GRAY2RGB',\n",
       " 'COLOR_GRAY2RGBA',\n",
       " 'COLOR_HLS2BGR',\n",
       " 'COLOR_HLS2BGR_FULL',\n",
       " 'COLOR_HLS2RGB',\n",
       " 'COLOR_HLS2RGB_FULL',\n",
       " 'COLOR_HSV2BGR',\n",
       " 'COLOR_HSV2BGR_FULL',\n",
       " 'COLOR_HSV2RGB',\n",
       " 'COLOR_HSV2RGB_FULL',\n",
       " 'COLOR_LAB2BGR',\n",
       " 'COLOR_LAB2LBGR',\n",
       " 'COLOR_LAB2LRGB',\n",
       " 'COLOR_LAB2RGB',\n",
       " 'COLOR_LBGR2LAB',\n",
       " 'COLOR_LBGR2LUV',\n",
       " 'COLOR_LBGR2Lab',\n",
       " 'COLOR_LBGR2Luv',\n",
       " 'COLOR_LRGB2LAB',\n",
       " 'COLOR_LRGB2LUV',\n",
       " 'COLOR_LRGB2Lab',\n",
       " 'COLOR_LRGB2Luv',\n",
       " 'COLOR_LUV2BGR',\n",
       " 'COLOR_LUV2LBGR',\n",
       " 'COLOR_LUV2LRGB',\n",
       " 'COLOR_LUV2RGB',\n",
       " 'COLOR_Lab2BGR',\n",
       " 'COLOR_Lab2LBGR',\n",
       " 'COLOR_Lab2LRGB',\n",
       " 'COLOR_Lab2RGB',\n",
       " 'COLOR_Luv2BGR',\n",
       " 'COLOR_Luv2LBGR',\n",
       " 'COLOR_Luv2LRGB',\n",
       " 'COLOR_Luv2RGB',\n",
       " 'COLOR_M_RGBA2RGBA',\n",
       " 'COLOR_RGB2BGR',\n",
       " 'COLOR_RGB2BGR555',\n",
       " 'COLOR_RGB2BGR565',\n",
       " 'COLOR_RGB2BGRA',\n",
       " 'COLOR_RGB2GRAY',\n",
       " 'COLOR_RGB2HLS',\n",
       " 'COLOR_RGB2HLS_FULL',\n",
       " 'COLOR_RGB2HSV',\n",
       " 'COLOR_RGB2HSV_FULL',\n",
       " 'COLOR_RGB2LAB',\n",
       " 'COLOR_RGB2LUV',\n",
       " 'COLOR_RGB2Lab',\n",
       " 'COLOR_RGB2Luv',\n",
       " 'COLOR_RGB2RGBA',\n",
       " 'COLOR_RGB2XYZ',\n",
       " 'COLOR_RGB2YCR_CB',\n",
       " 'COLOR_RGB2YCrCb',\n",
       " 'COLOR_RGB2YUV',\n",
       " 'COLOR_RGB2YUV_I420',\n",
       " 'COLOR_RGB2YUV_IYUV',\n",
       " 'COLOR_RGB2YUV_UYNV',\n",
       " 'COLOR_RGB2YUV_UYVY',\n",
       " 'COLOR_RGB2YUV_Y422',\n",
       " 'COLOR_RGB2YUV_YUNV',\n",
       " 'COLOR_RGB2YUV_YUY2',\n",
       " 'COLOR_RGB2YUV_YUYV',\n",
       " 'COLOR_RGB2YUV_YV12',\n",
       " 'COLOR_RGB2YUV_YVYU',\n",
       " 'COLOR_RGBA2BGR',\n",
       " 'COLOR_RGBA2BGR555',\n",
       " 'COLOR_RGBA2BGR565',\n",
       " 'COLOR_RGBA2BGRA',\n",
       " 'COLOR_RGBA2GRAY',\n",
       " 'COLOR_RGBA2M_RGBA',\n",
       " 'COLOR_RGBA2RGB',\n",
       " 'COLOR_RGBA2YUV_I420',\n",
       " 'COLOR_RGBA2YUV_IYUV',\n",
       " 'COLOR_RGBA2YUV_UYNV',\n",
       " 'COLOR_RGBA2YUV_UYVY',\n",
       " 'COLOR_RGBA2YUV_Y422',\n",
       " 'COLOR_RGBA2YUV_YUNV',\n",
       " 'COLOR_RGBA2YUV_YUY2',\n",
       " 'COLOR_RGBA2YUV_YUYV',\n",
       " 'COLOR_RGBA2YUV_YV12',\n",
       " 'COLOR_RGBA2YUV_YVYU',\n",
       " 'COLOR_RGBA2mRGBA',\n",
       " 'COLOR_XYZ2BGR',\n",
       " 'COLOR_XYZ2RGB',\n",
       " 'COLOR_YCR_CB2BGR',\n",
       " 'COLOR_YCR_CB2RGB',\n",
       " 'COLOR_YCrCb2BGR',\n",
       " 'COLOR_YCrCb2RGB',\n",
       " 'COLOR_YUV2BGR',\n",
       " 'COLOR_YUV2BGRA_I420',\n",
       " 'COLOR_YUV2BGRA_IYUV',\n",
       " 'COLOR_YUV2BGRA_NV12',\n",
       " 'COLOR_YUV2BGRA_NV21',\n",
       " 'COLOR_YUV2BGRA_UYNV',\n",
       " 'COLOR_YUV2BGRA_UYVY',\n",
       " 'COLOR_YUV2BGRA_Y422',\n",
       " 'COLOR_YUV2BGRA_YUNV',\n",
       " 'COLOR_YUV2BGRA_YUY2',\n",
       " 'COLOR_YUV2BGRA_YUYV',\n",
       " 'COLOR_YUV2BGRA_YV12',\n",
       " 'COLOR_YUV2BGRA_YVYU',\n",
       " 'COLOR_YUV2BGR_I420',\n",
       " 'COLOR_YUV2BGR_IYUV',\n",
       " 'COLOR_YUV2BGR_NV12',\n",
       " 'COLOR_YUV2BGR_NV21',\n",
       " 'COLOR_YUV2BGR_UYNV',\n",
       " 'COLOR_YUV2BGR_UYVY',\n",
       " 'COLOR_YUV2BGR_Y422',\n",
       " 'COLOR_YUV2BGR_YUNV',\n",
       " 'COLOR_YUV2BGR_YUY2',\n",
       " 'COLOR_YUV2BGR_YUYV',\n",
       " 'COLOR_YUV2BGR_YV12',\n",
       " 'COLOR_YUV2BGR_YVYU',\n",
       " 'COLOR_YUV2GRAY_420',\n",
       " 'COLOR_YUV2GRAY_I420',\n",
       " 'COLOR_YUV2GRAY_IYUV',\n",
       " 'COLOR_YUV2GRAY_NV12',\n",
       " 'COLOR_YUV2GRAY_NV21',\n",
       " 'COLOR_YUV2GRAY_UYNV',\n",
       " 'COLOR_YUV2GRAY_UYVY',\n",
       " 'COLOR_YUV2GRAY_Y422',\n",
       " 'COLOR_YUV2GRAY_YUNV',\n",
       " 'COLOR_YUV2GRAY_YUY2',\n",
       " 'COLOR_YUV2GRAY_YUYV',\n",
       " 'COLOR_YUV2GRAY_YV12',\n",
       " 'COLOR_YUV2GRAY_YVYU',\n",
       " 'COLOR_YUV2RGB',\n",
       " 'COLOR_YUV2RGBA_I420',\n",
       " 'COLOR_YUV2RGBA_IYUV',\n",
       " 'COLOR_YUV2RGBA_NV12',\n",
       " 'COLOR_YUV2RGBA_NV21',\n",
       " 'COLOR_YUV2RGBA_UYNV',\n",
       " 'COLOR_YUV2RGBA_UYVY',\n",
       " 'COLOR_YUV2RGBA_Y422',\n",
       " 'COLOR_YUV2RGBA_YUNV',\n",
       " 'COLOR_YUV2RGBA_YUY2',\n",
       " 'COLOR_YUV2RGBA_YUYV',\n",
       " 'COLOR_YUV2RGBA_YV12',\n",
       " 'COLOR_YUV2RGBA_YVYU',\n",
       " 'COLOR_YUV2RGB_I420',\n",
       " 'COLOR_YUV2RGB_IYUV',\n",
       " 'COLOR_YUV2RGB_NV12',\n",
       " 'COLOR_YUV2RGB_NV21',\n",
       " 'COLOR_YUV2RGB_UYNV',\n",
       " 'COLOR_YUV2RGB_UYVY',\n",
       " 'COLOR_YUV2RGB_Y422',\n",
       " 'COLOR_YUV2RGB_YUNV',\n",
       " 'COLOR_YUV2RGB_YUY2',\n",
       " 'COLOR_YUV2RGB_YUYV',\n",
       " 'COLOR_YUV2RGB_YV12',\n",
       " 'COLOR_YUV2RGB_YVYU',\n",
       " 'COLOR_YUV420P2BGR',\n",
       " 'COLOR_YUV420P2BGRA',\n",
       " 'COLOR_YUV420P2GRAY',\n",
       " 'COLOR_YUV420P2RGB',\n",
       " 'COLOR_YUV420P2RGBA',\n",
       " 'COLOR_YUV420SP2BGR',\n",
       " 'COLOR_YUV420SP2BGRA',\n",
       " 'COLOR_YUV420SP2GRAY',\n",
       " 'COLOR_YUV420SP2RGB',\n",
       " 'COLOR_YUV420SP2RGBA',\n",
       " 'COLOR_YUV420p2BGR',\n",
       " 'COLOR_YUV420p2BGRA',\n",
       " 'COLOR_YUV420p2GRAY',\n",
       " 'COLOR_YUV420p2RGB',\n",
       " 'COLOR_YUV420p2RGBA',\n",
       " 'COLOR_YUV420sp2BGR',\n",
       " 'COLOR_YUV420sp2BGRA',\n",
       " 'COLOR_YUV420sp2GRAY',\n",
       " 'COLOR_YUV420sp2RGB',\n",
       " 'COLOR_YUV420sp2RGBA',\n",
       " 'COLOR_mRGBA2RGBA',\n",
       " 'CONTOURS_MATCH_I1',\n",
       " 'CONTOURS_MATCH_I2',\n",
       " 'CONTOURS_MATCH_I3',\n",
       " 'COVAR_COLS',\n",
       " 'COVAR_NORMAL',\n",
       " 'COVAR_ROWS',\n",
       " 'COVAR_SCALE',\n",
       " 'COVAR_SCRAMBLED',\n",
       " 'COVAR_USE_AVG',\n",
       " 'COV_POLISHER',\n",
       " 'CV_16F',\n",
       " 'CV_16FC',\n",
       " 'CV_16FC1',\n",
       " 'CV_16FC2',\n",
       " 'CV_16FC3',\n",
       " 'CV_16FC4',\n",
       " 'CV_16S',\n",
       " 'CV_16SC',\n",
       " 'CV_16SC1',\n",
       " 'CV_16SC2',\n",
       " 'CV_16SC3',\n",
       " 'CV_16SC4',\n",
       " 'CV_16U',\n",
       " 'CV_16UC',\n",
       " 'CV_16UC1',\n",
       " 'CV_16UC2',\n",
       " 'CV_16UC3',\n",
       " 'CV_16UC4',\n",
       " 'CV_32F',\n",
       " 'CV_32FC',\n",
       " 'CV_32FC1',\n",
       " 'CV_32FC2',\n",
       " 'CV_32FC3',\n",
       " 'CV_32FC4',\n",
       " 'CV_32S',\n",
       " 'CV_32SC',\n",
       " 'CV_32SC1',\n",
       " 'CV_32SC2',\n",
       " 'CV_32SC3',\n",
       " 'CV_32SC4',\n",
       " 'CV_64F',\n",
       " 'CV_64FC',\n",
       " 'CV_64FC1',\n",
       " 'CV_64FC2',\n",
       " 'CV_64FC3',\n",
       " 'CV_64FC4',\n",
       " 'CV_8S',\n",
       " 'CV_8SC',\n",
       " 'CV_8SC1',\n",
       " 'CV_8SC2',\n",
       " 'CV_8SC3',\n",
       " 'CV_8SC4',\n",
       " 'CV_8U',\n",
       " 'CV_8UC',\n",
       " 'CV_8UC1',\n",
       " 'CV_8UC2',\n",
       " 'CV_8UC3',\n",
       " 'CV_8UC4',\n",
       " 'CV_MAKETYPE',\n",
       " 'CalibrateCRF',\n",
       " 'CalibrateDebevec',\n",
       " 'CalibrateRobertson',\n",
       " 'CamShift',\n",
       " 'Canny',\n",
       " 'CascadeClassifier',\n",
       " 'CascadeClassifier_convert',\n",
       " 'CirclesGridFinderParameters',\n",
       " 'CirclesGridFinderParameters_ASYMMETRIC_GRID',\n",
       " 'CirclesGridFinderParameters_SYMMETRIC_GRID',\n",
       " 'DCT_INVERSE',\n",
       " 'DCT_ROWS',\n",
       " 'DECOMP_CHOLESKY',\n",
       " 'DECOMP_EIG',\n",
       " 'DECOMP_LU',\n",
       " 'DECOMP_NORMAL',\n",
       " 'DECOMP_QR',\n",
       " 'DECOMP_SVD',\n",
       " 'DESCRIPTOR_MATCHER_BRUTEFORCE',\n",
       " 'DESCRIPTOR_MATCHER_BRUTEFORCE_HAMMING',\n",
       " 'DESCRIPTOR_MATCHER_BRUTEFORCE_HAMMINGLUT',\n",
       " 'DESCRIPTOR_MATCHER_BRUTEFORCE_L1',\n",
       " 'DESCRIPTOR_MATCHER_BRUTEFORCE_SL2',\n",
       " 'DESCRIPTOR_MATCHER_FLANNBASED',\n",
       " 'DFT_COMPLEX_INPUT',\n",
       " 'DFT_COMPLEX_OUTPUT',\n",
       " 'DFT_INVERSE',\n",
       " 'DFT_REAL_OUTPUT',\n",
       " 'DFT_ROWS',\n",
       " 'DFT_SCALE',\n",
       " 'DISOPTICAL_FLOW_PRESET_FAST',\n",
       " 'DISOPTICAL_FLOW_PRESET_MEDIUM',\n",
       " 'DISOPTICAL_FLOW_PRESET_ULTRAFAST',\n",
       " 'DISOpticalFlow',\n",
       " 'DISOpticalFlow_PRESET_FAST',\n",
       " 'DISOpticalFlow_PRESET_MEDIUM',\n",
       " 'DISOpticalFlow_PRESET_ULTRAFAST',\n",
       " 'DISOpticalFlow_create',\n",
       " ...]"
      ]
     },
     "execution_count": 3,
     "metadata": {},
     "output_type": "execute_result"
    }
   ],
   "source": [
    "import cv2\n",
    "dir(cv2)"
   ]
  },
  {
   "cell_type": "code",
   "execution_count": 21,
   "id": "22c27f9e-add0-4c61-82b9-28b2e4d8b32d",
   "metadata": {},
   "outputs": [
    {
     "data": {
      "text/plain": [
       "'4.11.0'"
      ]
     },
     "execution_count": 21,
     "metadata": {},
     "output_type": "execute_result"
    }
   ],
   "source": [
    "cv2.__version__"
   ]
  },
  {
   "cell_type": "code",
   "execution_count": 27,
   "id": "0db3e6c4-441e-4136-b6d9-753ca0321c03",
   "metadata": {},
   "outputs": [],
   "source": [
    "import cv2"
   ]
  },
  {
   "cell_type": "code",
   "execution_count": 31,
   "id": "b3ab3a2b-69f9-4a86-bb69-5eb3597a5cba",
   "metadata": {},
   "outputs": [
    {
     "name": "stdout",
     "output_type": "stream",
     "text": [
      "cv2.__version__\n"
     ]
    }
   ],
   "source": [
    "print(\"cv2.__version__\")"
   ]
  },
  {
   "cell_type": "code",
   "execution_count": 1,
   "id": "7c48d29c-3cbc-42d6-a84b-525deb3e73c2",
   "metadata": {},
   "outputs": [
    {
     "name": "stdout",
     "output_type": "stream",
     "text": [
      "aext-assistant @ file:///C:/b/abs_98xvdek9qa/croot/aext-assistant_1734644152369/work\n",
      "aext-assistant-server @ file:///C:/b/abs_93twy7n40b/croot/aext-assistant-server_1734640405857/work\n",
      "aext-core @ file:///C:/b/abs_73k82brgp5/croot/aext-core_1734637800697/work\n",
      "aext-core-server @ file:///C:/b/abs_e3xgm257mx/croot/aext-core-server_1734635079146/work\n",
      "aext-panels @ file:///C:/b/abs_e40tdjfcpq/croot/aext-panels_1734643464834/work\n",
      "aext-panels-server @ file:///C:/b/abs_546lo5c36i/croot/aext-panels-server_1734640142498/work\n",
      "aext-project-filebrowser-server @ file:///C:/b/abs_11ixe7hbzm/croot/aext-project-filebrowser-server_1734687629540/work/backend_lib/project_filebrowser\n",
      "aext-share-notebook @ file:///C:/b/abs_fewa44_d8o/croot/aext-share-notebook_1734642886563/work\n",
      "aext-share-notebook-server @ file:///C:/b/abs_3dkdp713ad/croot/aext-share-notebook-server_1734639662890/work\n",
      "aext-shared @ file:///C:/b/abs_6bq_wjfbhn/croot/aext-shared_1734628822229/work\n",
      "aext-toolbox @ file:///C:/b/abs_8ehb5u9xv_/croot/anaconda-toolbox_1734694573015/work\n",
      "aiobotocore @ file:///C:/b/abs_a0zxrsvpwx/croot/aiobotocore_1714464454692/work\n",
      "aiohappyeyeballs @ file:///C:/b/abs_b505trsapr/croot/aiohappyeyeballs_1725434036096/work\n",
      "aiohttp @ file:///C:/b/abs_13j6efxjb7/croot/aiohttp_1725529348885/work\n",
      "aioitertools @ file:///tmp/build/80754af9/aioitertools_1607109665762/work\n",
      "aiosignal @ file:///tmp/build/80754af9/aiosignal_1637843061372/work\n",
      "alabaster @ file:///C:/b/abs_45ba4vacaj/croot/alabaster_1718201502252/work\n",
      "alembic @ file:///C:/b/abs_9dfubpaeyo/croot/alembic_1729532445549/work\n",
      "altair @ file:///C:/Users/dev-admin/perseverance-python-buildout/croot/altair_1699497320503/work\n",
      "anaconda-anon-usage @ file:///C:/b/abs_c3w_h1zzjg/croot/anaconda-anon-usage_1710965204622/work\n",
      "anaconda-catalogs @ file:///C:/Users/dev-admin/perseverance-python-buildout/croot/anaconda-catalogs_1701816586117/work\n",
      "anaconda-cli-base @ file:///C:/b/abs_10tn0i9q_v/croot/anaconda-cli-base_1731510927919/work\n",
      "anaconda-client @ file:///C:/b/abs_66jutvvngz/croot/anaconda-client_1731440693601/work\n",
      "anaconda-cloud-auth @ file:///C:/b/abs_30636r4zkk/croot/anaconda-cloud-auth_1731440286098/work\n",
      "anaconda-navigator @ file:///C:/b/abs_a5gzce6vy0/croot/anaconda-navigator_1727709729163/work\n",
      "anaconda-project @ file:///C:/b/abs_95s0l9dwvd/croot/anaconda-project_1706049257687/work\n",
      "annotated-types @ file:///C:/b/abs_0dmaoyhhj3/croot/annotated-types_1709542968311/work\n",
      "anyio @ file:///C:/b/abs_847uobe7ea/croot/anyio_1706220224037/work\n",
      "appdirs==1.4.4\n",
      "archspec @ file:///croot/archspec_1709217642129/work\n",
      "argon2-cffi @ file:///opt/conda/conda-bld/argon2-cffi_1645000214183/work\n",
      "argon2-cffi-bindings @ file:///C:/Users/dev-admin/perseverance-python-buildout/croot/argon2-cffi-bindings_1699549801117/work\n",
      "arrow @ file:///C:/Users/dev-admin/perseverance-python-buildout/croot/arrow_1699549851004/work\n",
      "astroid @ file:///C:/Users/dev-admin/perseverance-python-buildout/croot/astroid_1699480418189/work\n",
      "astropy @ file:///C:/b/abs_5egnt0gyqe/croot/astropy_1726174619184/work\n",
      "astropy-iers-data @ file:///C:/b/abs_ecdfv0_ea2/croot/astropy-iers-data_1726000550777/work\n",
      "asttokens @ file:///opt/conda/conda-bld/asttokens_1646925590279/work\n",
      "async-lru @ file:///C:/Users/dev-admin/perseverance-python-buildout/croot/async-lru_1701796859357/work\n",
      "atomicwrites==1.4.0\n",
      "attrs @ file:///C:/Users/dev-admin/perseverance-python-buildout/croot/attrs_1699473735254/work\n",
      "Automat @ file:///tmp/build/80754af9/automat_1600298431173/work\n",
      "autopep8 @ file:///croot/autopep8_1708962882016/work\n",
      "Babel @ file:///C:/Users/dev-admin/perseverance-python-buildout/croot/babel_1699475785740/work\n",
      "bcrypt @ file:///C:/Users/dev-admin/perseverance-python-buildout/croot/bcrypt_1699483842258/work\n",
      "beautifulsoup4 @ file:///C:/b/abs_d5wytg_p0w/croot/beautifulsoup4-split_1718029833749/work\n",
      "binaryornot @ file:///tmp/build/80754af9/binaryornot_1617751525010/work\n",
      "black @ file:///C:/b/abs_3arhghl9_x/croot/black_1725573890945/work\n",
      "bleach @ file:///opt/conda/conda-bld/bleach_1641577558959/work\n",
      "blinker @ file:///C:/Users/dev-admin/perseverance-python-buildout/croot/blinker_1699474692786/work\n",
      "bokeh @ file:///C:/b/abs_b40zi4jp_s/croot/bokeh_1727914495891/work\n",
      "boltons @ file:///C:/Users/dev-admin/perseverance-python-buildout/croot/boltons_1699480450092/work\n",
      "botocore @ file:///C:/b/abs_0dkeqep0ox/croot/botocore_1714460586193/work\n",
      "Bottleneck @ file:///C:/b/abs_f7un855idq/croot/bottleneck_1709069969633/work\n",
      "Brotli @ file:///C:/b/abs_3d36mno480/croot/brotli-split_1714483178642/work\n",
      "cachetools @ file:///C:/b/abs_792zbtc0ua/croot/cachetools_1713977157919/work\n",
      "certifi @ file:///C:/b/abs_59o0xj7aav/croot/certifi_1734473304008/work/certifi\n",
      "cffi @ file:///C:/b/abs_90yq4lmu83/croot/cffi_1726856448345/work\n",
      "chardet @ file:///C:/Users/dev-admin/perseverance-python-buildout/croot/chardet_1699498892802/work\n",
      "charset-normalizer @ file:///croot/charset-normalizer_1721748349566/work\n",
      "click @ file:///C:/Users/dev-admin/perseverance-python-buildout/croot/click_1699473800648/work\n",
      "cloudpickle @ file:///C:/b/abs_8abv3sva4p/croot/cloudpickle_1721657372632/work\n",
      "colorama @ file:///C:/Users/dev-admin/perseverance-python-buildout/croot/colorama_1699472650914/work\n",
      "colorcet @ file:///C:/b/abs_7ep0mfawez/croot/colorcet_1709758405232/work\n",
      "comm @ file:///C:/b/abs_67a8058udb/croot/comm_1709322909844/work\n",
      "conda @ file:///C:/b/abs_25de2vb5u7/croot/conda_1736277836976/work\n",
      "conda-build @ file:///C:/b/abs_afd1hjce19/croot/conda-build_1726839930400/work\n",
      "conda-content-trust @ file:///C:/b/abs_bdfatn_wzf/croot/conda-content-trust_1714483201909/work\n",
      "conda-libmamba-solver @ file:///croot/conda-libmamba-solver_1727775630457/work/src\n",
      "conda-pack @ file:///C:/b/abs_0cu91sbau5/croot/conda-pack_1710258097566/work\n",
      "conda-package-handling @ file:///C:/b/abs_831_pypuuz/croot/conda-package-handling_1718138287790/work\n",
      "conda-repo-cli @ file:///C:/b/abs_67rnnns_lt/croot/conda-repo-cli_1727366919559/work\n",
      "conda-token @ file:///croot/conda-token_1718995751285/work\n",
      "conda_index @ file:///C:/b/abs_45v3w98im_/croot/conda-index_1719338245731/work\n",
      "conda_package_streaming @ file:///C:/b/abs_fe6zb0_j8_/croot/conda-package-streaming_1718136098642/work\n",
      "constantly @ file:///C:/b/abs_cbuavw4443/croot/constantly_1703165617403/work\n",
      "contourpy @ file:///C:/Users/dev-admin/perseverance-python-buildout/croot/contourpy_1701817388761/work\n",
      "cookiecutter @ file:///C:/b/abs_66untpu1ub/croot/cookiecutter_1711059869779/work\n",
      "cryptography @ file:///C:/b/abs_35g500qir4/croot/cryptography_1724940575116/work\n",
      "cssselect @ file:///C:/b/abs_71gnjab7b0/croot/cssselect_1707339955530/work\n",
      "cycler @ file:///tmp/build/80754af9/cycler_1637851556182/work\n",
      "cytoolz @ file:///C:/b/abs_d43s8lnb60/croot/cytoolz_1701723636699/work\n",
      "dask @ file:///C:/b/abs_12bk4i_z1j/croot/dask-core_1725464350376/work\n",
      "dask-expr @ file:///C:/b/abs_d8e1rqubql/croot/dask-expr_1725523012670/work\n",
      "datashader @ file:///C:/b/abs_37m05texdf/croot/datashader_1720534925330/work\n",
      "debugpy @ file:///C:/Users/dev-admin/perseverance-python-buildout/croot/debugpy_1699554994633/work\n",
      "decorator @ file:///opt/conda/conda-bld/decorator_1643638310831/work\n",
      "defusedxml @ file:///tmp/build/80754af9/defusedxml_1615228127516/work\n",
      "diff-match-patch @ file:///Users/ktietz/demo/mc3/conda-bld/diff-match-patch_1630511840874/work\n",
      "dill @ file:///C:/b/abs_f79eg27d2q/croot/dill_1715094735295/work\n",
      "distributed @ file:///C:/b/abs_52ju83vjqr/croot/distributed_1725523030746/work\n",
      "distro @ file:///C:/b/abs_71xr36ua5r/croot/distro_1714488282676/work\n",
      "docstring-to-markdown @ file:///C:/Users/dev-admin/perseverance-python-buildout/croot/docstring-to-markdown_1699484265167/work\n",
      "docutils @ file:///C:/Users/dev-admin/perseverance-python-buildout/croot/docutils_1699474820579/work\n",
      "et-xmlfile @ file:///C:/Users/dev-admin/perseverance-python-buildout/croot/et_xmlfile_1699500373144/work\n",
      "executing @ file:///opt/conda/conda-bld/executing_1646925071911/work\n",
      "fastjsonschema @ file:///C:/Users/dev-admin/perseverance-python-buildout/croot/python-fastjsonschema_1699475134300/work\n",
      "filelock @ file:///C:/Users/dev-admin/perseverance-python-buildout/croot/filelock_1701807523603/work\n",
      "flake8 @ file:///C:/b/abs_caud66drfv/croot/flake8_1708965316778/work\n",
      "Flask @ file:///C:/b/abs_f9w7doyu0h/croot/flask_1716545924884/work\n",
      "fonttools @ file:///C:/b/abs_f47gnfqnx0/croot/fonttools_1713551644747/work\n",
      "frozendict @ file:///C:/b/abs_2alamqss6p/croot/frozendict_1713194885124/work\n",
      "frozenlist @ file:///C:/Users/dev-admin/perseverance-python-buildout/croot/frozenlist_1699557027827/work\n",
      "fsspec @ file:///C:/b/abs_02vh2bpxfo/croot/fsspec_1724855601370/work\n",
      "gensim @ file:///C:/b/abs_efsh9stgvi/croot/gensim_1725376635600/work\n",
      "gitdb @ file:///tmp/build/80754af9/gitdb_1617117951232/work\n",
      "GitPython @ file:///C:/b/abs_2bkslnqz4i/croot/gitpython_1720455044865/work\n",
      "greenlet @ file:///C:/b/abs_a6c75ie0bc/croot/greenlet_1702060012174/work\n",
      "h11 @ file:///C:/b/abs_1czwoyexjf/croot/h11_1706652332846/work\n",
      "h5py @ file:///C:/b/abs_c4ha_1xv14/croot/h5py_1715094776210/work\n",
      "HeapDict @ file:///Users/ktietz/demo/mc3/conda-bld/heapdict_1630598515714/work\n",
      "holoviews @ file:///C:/b/abs_5f962ukrbq/croot/holoviews_1720534381286/work\n",
      "httpcore @ file:///C:/b/abs_55n7g233bw/croot/httpcore_1706728507241/work\n",
      "httpx @ file:///C:/b/abs_43e135shby/croot/httpx_1723474830126/work\n",
      "hvplot @ file:///C:/b/abs_b05v45vms6/croot/hvplot_1727775587313/work\n",
      "hyperlink @ file:///tmp/build/80754af9/hyperlink_1610130746837/work\n",
      "idna @ file:///C:/b/abs_aad84bnnw5/croot/idna_1714398896795/work\n",
      "imagecodecs @ file:///C:/Users/dev-admin/perseverance-python-buildout/croot/imagecodecs_1699481498787/work\n",
      "imageio @ file:///C:/b/abs_aeqerw_nps/croot/imageio_1707247365204/work\n",
      "imagesize @ file:///C:/Users/dev-admin/perseverance-python-buildout/croot/imagesize_1699476341924/work\n",
      "imbalanced-learn @ file:///C:/b/abs_43zx11b5ex/croot/imbalanced-learn_1718132243956/work\n",
      "importlib-metadata @ file:///C:/b/abs_c1egths604/croot/importlib_metadata-suite_1704813568388/work\n",
      "incremental @ file:///croot/incremental_1708639938299/work\n",
      "inflection @ file:///C:/Users/dev-admin/perseverance-python-buildout/croot/inflection_1699500974258/work\n",
      "iniconfig @ file:///home/linux1/recipes/ci/iniconfig_1610983019677/work\n",
      "intake @ file:///C:/b/abs_ebww2no2x2/croot/intake_1726109581477/work\n",
      "intervaltree @ file:///Users/ktietz/demo/mc3/conda-bld/intervaltree_1630511889664/work\n",
      "ipykernel @ file:///C:/b/abs_c2u94kxcy6/croot/ipykernel_1705933907920/work\n",
      "ipython @ file:///C:/b/abs_53it5seiim/croot/ipython_1726064251844/work\n",
      "ipython-genutils @ file:///tmp/build/80754af9/ipython_genutils_1606773439826/work\n",
      "ipywidgets @ file:///C:/b/abs_4fgmepzmbu/croot/ipywidgets_1710961556913/work\n",
      "isort @ file:///C:/b/abs_50iy840e4z/croot/isort_1718291849200/work\n",
      "itemadapter @ file:///tmp/build/80754af9/itemadapter_1626442940632/work\n",
      "itemloaders @ file:///C:/b/abs_5e3azgv25z/croot/itemloaders_1708639993442/work\n",
      "itsdangerous @ file:///C:/b/abs_c4vwgdr5yn/croot/itsdangerous_1716533399914/work\n",
      "jaraco.classes @ file:///tmp/build/80754af9/jaraco.classes_1620983179379/work\n",
      "jedi @ file:///C:/b/abs_1b8kmj7rrm/croot/jedi_1721058359741/work\n",
      "jellyfish @ file:///C:/Users/dev-admin/perseverance-python-buildout/croot/jellyfish_1699558116601/work\n",
      "Jinja2 @ file:///C:/b/abs_92fccttino/croot/jinja2_1716993447201/work\n",
      "jmespath @ file:///C:/Users/dev-admin/perseverance-python-buildout/croot/jmespath_1701807551985/work\n",
      "joblib @ file:///C:/b/abs_f4b98l6lgk/croot/joblib_1718217224240/work\n",
      "json5 @ file:///tmp/build/80754af9/json5_1624432770122/work\n",
      "jsonpatch @ file:///C:/b/abs_4fdm88t7zi/croot/jsonpatch_1714483974578/work\n",
      "jsonpointer==2.1\n",
      "jsonschema @ file:///C:/b/abs_394_t6__xq/croot/jsonschema_1728486718320/work\n",
      "jsonschema-specifications @ file:///C:/Users/dev-admin/py312/jsonschema-specifications_1706803038066/work\n",
      "jupyter @ file:///C:/b/abs_03nm7xrhxz/croot/jupyter_1709837239940/work\n",
      "jupyter-console @ file:///C:/Users/dev-admin/perseverance-python-buildout/croot/jupyter_console_1707430148515/work\n",
      "jupyter-events @ file:///C:/b/abs_c2m9s5b5m5/croot/jupyter_events_1718738115254/work\n",
      "jupyter-lsp @ file:///C:/Users/dev-admin/perseverance-python-buildout/croot/jupyter-lsp-meta_1701806528286/work\n",
      "jupyter_client @ file:///C:/Users/dev-admin/perseverance-python-buildout/croot/jupyter_client_1701796382758/work\n",
      "jupyter_core @ file:///C:/b/abs_beftpbuevw/croot/jupyter_core_1718818307097/work\n",
      "jupyter_server @ file:///C:/b/abs_9a333nh6yu/croot/jupyter_server_1718827092223/work\n",
      "jupyter_server_terminals @ file:///C:/Users/dev-admin/perseverance-python-buildout/croot/jupyter_server_terminals_1701798041635/work\n",
      "jupyterlab @ file:///C:/b/abs_88qjk9lo2r/croot/jupyterlab_1725895228333/work\n",
      "jupyterlab-pygments @ file:///tmp/build/80754af9/jupyterlab_pygments_1601490720602/work\n",
      "jupyterlab-widgets @ file:///tmp/build/80754af9/jupyterlab_widgets_1609884341231/work\n",
      "jupyterlab_server @ file:///C:/b/abs_fdi5r_tpjc/croot/jupyterlab_server_1725865372811/work\n",
      "keyring @ file:///C:/b/abs_78uoj9sw00/croot/keyring_1709632550180/work\n",
      "kiwisolver @ file:///C:/Users/dev-admin/perseverance-python-buildout/croot/kiwisolver_1699476425777/work\n",
      "lazy-object-proxy @ file:///C:/b/abs_19td_nzb6n/croot/lazy-object-proxy_1712908735070/work\n",
      "lazy_loader @ file:///C:/b/abs_3fs2i5w5p3/croot/lazy_loader_1718176758844/work\n",
      "lckr_jupyterlab_variableinspector @ file:///C:/Users/dev-admin/perseverance-python-buildout/croot/jupyterlab-variableinspector_1709167201477/work\n",
      "libarchive-c @ file:///croot/python-libarchive-c_1726069797193/work\n",
      "libmambapy @ file:///C:/b/abs_aam1usey89/croot/mamba-split_1725563515831/work/libmambapy\n",
      "linkify-it-py @ file:///C:/Users/dev-admin/perseverance-python-buildout/croot/linkify-it-py_1699558957411/work\n",
      "llvmlite @ file:///C:/b/abs_80rinyr2fr/croot/llvmlite_1720455223586/work\n",
      "lmdb @ file:///C:/Users/dev-admin/perseverance-python-buildout/croot/python-lmdb_1699495888630/work\n",
      "locket @ file:///C:/Users/dev-admin/perseverance-python-buildout/croot/locket_1699476508014/work\n",
      "lxml==5.2.1\n",
      "lz4 @ file:///C:/Users/dev-admin/perseverance-python-buildout/croot/lz4_1699559532268/work\n",
      "Mako @ file:///C:/Users/dev-admin/perseverance-python-buildout/croot/mako_1699481695868/work\n",
      "Markdown @ file:///C:/Users/dev-admin/perseverance-python-buildout/croot/markdown_1699503092856/work\n",
      "markdown-it-py @ file:///C:/Users/dev-admin/perseverance-python-buildout/croot/markdown-it-py_1699473886965/work\n",
      "MarkupSafe @ file:///C:/Users/dev-admin/perseverance-python-buildout/croot/markupsafe_1707425732791/work\n",
      "matplotlib==3.9.2\n",
      "matplotlib-inline @ file:///C:/Users/dev-admin/perseverance-python-buildout/croot/matplotlib-inline_1699484796387/work\n",
      "mccabe @ file:///opt/conda/conda-bld/mccabe_1644221741721/work\n",
      "mdit-py-plugins @ file:///C:/Users/dev-admin/perseverance-python-buildout/croot/mdit-py-plugins_1699559788389/work\n",
      "mdurl @ file:///C:/Users/dev-admin/perseverance-python-buildout/croot/mdurl_1699473506455/work\n",
      "menuinst @ file:///C:/b/abs_76jwd47ck1/croot/menuinst_1723567618942/work\n",
      "mistune @ file:///C:/Users/dev-admin/perseverance-python-buildout/croot/mistune_1699559923704/work\n",
      "mkl-service==2.4.0\n",
      "mkl_fft @ file:///C:/b/abs_f55mv94vyg/croot/mkl_fft_1725370278455/work\n",
      "mkl_random @ file:///C:/b/abs_21ydbzdu8d/croot/mkl_random_1725370276095/work\n",
      "more-itertools @ file:///C:/b/abs_a2n4mhb8gn/croot/more-itertools_1727185463826/work\n",
      "mpmath @ file:///C:/Users/dev-admin/perseverance-python-buildout/croot/mpmath_1699484863771/work\n",
      "msgpack @ file:///C:/Users/dev-admin/perseverance-python-buildout/croot/msgpack-python_1699473924872/work\n",
      "multidict @ file:///C:/b/abs_44ido987fv/croot/multidict_1701097803486/work\n",
      "multipledispatch @ file:///C:/Users/dev-admin/perseverance-python-buildout/croot/multipledispatch_1699473951974/work\n",
      "mypy @ file:///C:/b/abs_b8k0j63oc7/croot/mypy-split_1725574346532/work\n",
      "mypy-extensions @ file:///C:/Users/dev-admin/perseverance-python-buildout/croot/mypy_extensions_1699482634516/work\n",
      "navigator-updater @ file:///C:/b/abs_22_3uaq2ey/croot/navigator-updater_1718030405023/work\n",
      "nb_conda_kernels @ file:///C:/b/abs_7cuhlf_8l_/croot/nb_conda_kernels_1730822308979/work\n",
      "nbclient @ file:///C:/Users/dev-admin/perseverance-python-buildout/croot/nbclient_1701796752236/work\n",
      "nbconvert @ file:///C:/b/abs_ac6qnzi3no/croot/nbconvert_1728050663985/work\n",
      "nbformat @ file:///C:/b/abs_c2jkw46etm/croot/nbformat_1728050303821/work\n",
      "nest-asyncio @ file:///C:/b/abs_65d6lblmoi/croot/nest-asyncio_1708532721305/work\n",
      "networkx @ file:///C:/b/abs_36fmumtynt/croot/networkx_1720002497414/work\n",
      "nltk @ file:///C:/b/abs_3e10flry37/croot/nltk_1724427703710/work\n",
      "notebook @ file:///C:/b/abs_feeub5ouq6/croot/notebook_1727197380211/work\n",
      "notebook_shim @ file:///C:/Users/dev-admin/perseverance-python-buildout/croot/notebook-shim_1701806592322/work\n",
      "numba @ file:///C:/b/abs_51yyu3qucu/croot/numba_1720540987599/work\n",
      "numexpr @ file:///C:/Users/dev-admin/perseverance-python-buildout/croot/numexpr_1699503421264/work\n",
      "numpy @ file:///C:/b/abs_c1ywpu18ar/croot/numpy_and_numpy_base_1708638681471/work/dist/numpy-1.26.4-cp312-cp312-win_amd64.whl#sha256=becc06674317799ad0165a939a7613809d0bee9bd328a1e4308c57c39cacf08c\n",
      "numpydoc @ file:///C:/b/abs_bbspp5l8vu/croot/numpydoc_1718279185573/work\n",
      "opencv-python==4.11.0.86\n",
      "openpyxl @ file:///C:/b/abs_0e6ca21lac/croot/openpyxl_1721752965859/work\n",
      "overrides @ file:///C:/Users/dev-admin/perseverance-python-buildout/croot/overrides_1701806336503/work\n",
      "packaging @ file:///C:/b/abs_c3vlh0z4jw/croot/packaging_1720101866539/work\n",
      "pandas @ file:///C:/b/abs_9aotnvvz16/croot/pandas_1718308978393/work/dist/pandas-2.2.2-cp312-cp312-win_amd64.whl#sha256=93959056e02e9855025011adb18394296a58d49e72b9342733b7693a5267c790\n",
      "pandocfilters @ file:///opt/conda/conda-bld/pandocfilters_1643405455980/work\n",
      "panel @ file:///C:/b/abs_fas2lxv_bs/croot/panel_1728066386547/work\n",
      "param @ file:///C:/b/abs_b4yato0oux/croot/param_1719347953072/work\n",
      "paramiko @ file:///opt/conda/conda-bld/paramiko_1640109032755/work\n",
      "parsel @ file:///C:/b/abs_ebc3tzm_c4/croot/parsel_1707503517596/work\n",
      "parso @ file:///opt/conda/conda-bld/parso_1641458642106/work\n",
      "partd @ file:///C:/Users/dev-admin/perseverance-python-buildout/croot/partd_1699482661603/work\n",
      "pathspec @ file:///C:/Users/dev-admin/perseverance-python-buildout/croot/pathspec_1699472481068/work\n",
      "patsy @ file:///C:/b/abs_21hy_wyj13/croot/patsy_1718378184379/work\n",
      "pexpect @ file:///tmp/build/80754af9/pexpect_1605563209008/work\n",
      "pickleshare @ file:///tmp/build/80754af9/pickleshare_1606932040724/work\n",
      "pillow @ file:///C:/b/abs_32o8er3uqp/croot/pillow_1721059447598/work\n",
      "pkce @ file:///C:/Users/dev-admin/perseverance-python-buildout/croot/pkce_1699482718905/work\n",
      "pkginfo @ file:///C:/b/abs_bciypal17m/croot/pkginfo_1715696027839/work\n",
      "platformdirs @ file:///C:/Users/dev-admin/perseverance-python-buildout/croot/platformdirs_1701797392447/work\n",
      "plotly @ file:///C:/b/abs_1014knmz1t/croot/plotly_1726245573566/work\n",
      "pluggy @ file:///C:/Users/dev-admin/perseverance-python-buildout/croot/pluggy_1699472504117/work\n",
      "ply @ file:///C:/Users/dev-admin/perseverance-python-buildout/croot/ply_1699473999871/work\n",
      "prometheus-client @ file:///C:/Users/dev-admin/perseverance-python-buildout/croot/prometheus_client_1699495496669/work\n",
      "prompt-toolkit @ file:///C:/b/abs_68uwr58ed1/croot/prompt-toolkit_1704404394082/work\n",
      "Protego @ file:///tmp/build/80754af9/protego_1598657180827/work\n",
      "protobuf==4.25.3\n",
      "psutil @ file:///C:/Users/dev-admin/perseverance-python-buildout/croot/psutil_1699482842340/work\n",
      "ptyprocess @ file:///tmp/build/80754af9/ptyprocess_1609355006118/work/dist/ptyprocess-0.7.0-py2.py3-none-any.whl\n",
      "pure-eval @ file:///opt/conda/conda-bld/pure_eval_1646925070566/work\n",
      "py-cpuinfo @ file:///C:/Users/dev-admin/perseverance-python-buildout/croot/py-cpuinfo_1699495567147/work\n",
      "pyarrow @ file:///C:/b/abs_cbc4sg_1e0/croot/pyarrow_1721664257308/work/python\n",
      "pyasn1 @ file:///Users/ktietz/demo/mc3/conda-bld/pyasn1_1629708007385/work\n",
      "pyasn1-modules==0.2.8\n",
      "pycodestyle @ file:///C:/b/abs_e9pt4mahct/croot/pycodestyle_1701910643139/work\n",
      "pycosat @ file:///C:/b/abs_5csdern___/croot/pycosat_1714513102923/work\n",
      "pycparser @ file:///tmp/build/80754af9/pycparser_1636541352034/work\n",
      "pyct @ file:///C:/Users/dev-admin/perseverance-python-buildout/croot/pyct_1699542988857/work\n",
      "pycurl @ file:///C:/b/abs_2bemyov07c/croot/pycurl_1725370252605/work\n",
      "pydantic @ file:///C:/b/abs_b7acb4hnl_/croot/pydantic_1725040540545/work\n",
      "pydantic-settings @ file:///C:/b/abs_fe1okp6jbe/croot/pydantic-settings_1730800848545/work\n",
      "pydantic_core @ file:///C:/b/abs_3ax4s6v28p/croot/pydantic-core_1724790490828/work\n",
      "pydeck @ file:///C:/b/abs_ad9p880wi1/croot/pydeck_1706194121328/work\n",
      "PyDispatcher @ file:///C:/Users/dev-admin/perseverance-python-buildout/croot/pydispatcher_1699543033434/work\n",
      "pydocstyle @ file:///C:/Users/dev-admin/perseverance-python-buildout/croot/pydocstyle_1699495611004/work\n",
      "pyerfa @ file:///C:/b/abs_477fivsfe8/croot/pyerfa_1717700768172/work\n",
      "pyflakes @ file:///C:/b/abs_b6t1aazq2e/croot/pyflakes_1708963020907/work\n",
      "Pygments @ file:///C:/Users/dev-admin/perseverance-python-buildout/croot/pygments_1699474141968/work\n",
      "PyJWT @ file:///C:/b/abs_04qhgo75wz/croot/pyjwt_1715095119685/work\n",
      "pylint @ file:///C:/Users/dev-admin/perseverance-python-buildout/croot/pylint_1699495689806/work\n",
      "pylint-venv @ file:///C:/b/abs_3f6p_17zia/croot/pylint-venv_1709837680309/work\n",
      "pyls-spyder==0.4.0\n",
      "PyNaCl @ file:///C:/Users/dev-admin/perseverance-python-buildout/croot/pynacl_1699563077212/work\n",
      "pyodbc @ file:///C:/b/abs_cbgr1yn8qs/croot/pyodbc_1725560257385/work\n",
      "pyOpenSSL @ file:///C:/b/abs_61vvbgrloc/croot/pyopenssl_1723651600236/work\n",
      "pyparsing @ file:///C:/b/abs_520r19rysg/croot/pyparsing_1725041656021/work\n",
      "PyQt5==5.15.10\n",
      "PyQt5-sip @ file:///C:/Users/dev-admin/perseverance-python-buildout/croot/pyqt-split_1699478669290/work/pyqt_sip\n",
      "PyQtWebEngine==5.15.6\n",
      "PySocks @ file:///C:/Users/dev-admin/perseverance-python-buildout/croot/pysocks_1699473336188/work\n",
      "pytest @ file:///C:/b/abs_een_3z747j/croot/pytest_1717793253670/work\n",
      "python-dateutil @ file:///C:/b/abs_3au_koqnbs/croot/python-dateutil_1716495777160/work\n",
      "python-dotenv @ file:///C:/Users/dev-admin/perseverance-python-buildout/croot/python-dotenv_1699475097728/work\n",
      "python-json-logger @ file:///C:/Users/dev-admin/perseverance-python-buildout/croot/python-json-logger_1699543626759/work\n",
      "python-lsp-black @ file:///C:/b/abs_5dhen_5vga/croot/python-lsp-black_1709232962589/work\n",
      "python-lsp-jsonrpc @ file:///croot/python-lsp-jsonrpc_1708962872556/work\n",
      "python-lsp-server @ file:///C:/b/abs_2cdyzvcq4z/croot/python-lsp-server_1708971796975/work\n",
      "python-slugify @ file:///tmp/build/80754af9/python-slugify_1620405669636/work\n",
      "pytoolconfig @ file:///C:/b/abs_f2j_xsvrpn/croot/pytoolconfig_1701728751207/work\n",
      "pytz @ file:///C:/b/abs_6ap4tsz1ox/croot/pytz_1713974360290/work\n",
      "pyviz_comms @ file:///C:/b/abs_674gfmqoxa/croot/pyviz_comms_1711136872853/work\n",
      "PyWavelets @ file:///C:/b/abs_95ujr8_xu1/croot/pywavelets_1725657962149/work\n",
      "pywin32==305.1\n",
      "pywin32-ctypes @ file:///C:/b/abs_2cfx5l4nvi/croot/pywin32-ctypes_1709340246092/work\n",
      "pywinpty @ file:///C:/Users/dev-admin/perseverance-python-buildout/croot/pywinpty_1699496010557/work/target/wheels/pywinpty-2.0.10-cp312-none-win_amd64.whl#sha256=227f3f94f568f63ab3418c02875c4b429a0a3638e1a2917a22bb8e4ba1762179\n",
      "PyYAML @ file:///C:/Users/dev-admin/perseverance-python-buildout/croot/pyyaml_1699479991712/work\n",
      "pyzmq @ file:///C:/b/abs_89aq69t0up/croot/pyzmq_1705605705281/work\n",
      "QDarkStyle @ file:///croot/qdarkstyle_1709231003551/work\n",
      "qstylizer @ file:///C:/Users/dev-admin/perseverance-python-buildout/croot/qstylizer_1699565338341/work/dist/qstylizer-0.2.2-py2.py3-none-any.whl#sha256=be2f7d956d89710f13dee80f2d594e794c2710f12576fe60ecee84dd1ad72180\n",
      "QtAwesome @ file:///C:/b/abs_e1w2vmh9q7/croot/qtawesome_1726169367822/work\n",
      "qtconsole @ file:///C:/b/abs_03f8rg9vl6/croot/qtconsole_1709231218069/work\n",
      "QtPy @ file:///C:/Users/dev-admin/perseverance-python-buildout/croot/qtpy_1701807198514/work\n",
      "queuelib @ file:///C:/Users/dev-admin/perseverance-python-buildout/croot/queuelib_1699543858829/work\n",
      "readchar @ file:///C:/Users/dev-admin/perseverance-python-buildout/croot/readchar_1699483104212/work\n",
      "referencing @ file:///C:/Users/dev-admin/py312/referencing_1706802962559/work\n",
      "regex @ file:///C:/b/abs_5cm86yjgo3/croot/regex_1726670543261/work\n",
      "requests @ file:///C:/b/abs_9frifg92q2/croot/requests_1721410901096/work\n",
      "requests-file @ file:///Users/ktietz/demo/mc3/conda-bld/requests-file_1629455781986/work\n",
      "requests-toolbelt @ file:///C:/Users/dev-admin/perseverance-python-buildout/croot/requests-toolbelt_1699475466775/work\n",
      "rfc3339-validator @ file:///C:/Users/dev-admin/perseverance-python-buildout/croot/rfc3339-validator_1699543924991/work\n",
      "rfc3986-validator @ file:///C:/Users/dev-admin/perseverance-python-buildout/croot/rfc3986-validator_1699543955651/work\n",
      "rich @ file:///C:/b/abs_21nw9z7xby/croot/rich_1720637504376/work\n",
      "rope @ file:///C:/b/abs_a4uy0nuc8z/croot/rope_1708963217026/work\n",
      "rpds-py @ file:///C:/Users/dev-admin/perseverance-python-buildout/croot/rpds-py_1699565648947/work\n",
      "Rtree @ file:///C:/Users/dev-admin/perseverance-python-buildout/croot/rtree_1699565751755/work\n",
      "ruamel-yaml-conda @ file:///C:/Users/dev-admin/perseverance-python-buildout/croot/ruamel_yaml_1699543990032/work\n",
      "ruamel.yaml @ file:///C:/b/abs_0cunwx_ww6/croot/ruamel.yaml_1727980181547/work\n",
      "ruamel.yaml.clib @ file:///C:/b/abs_5fk8zi6n09/croot/ruamel.yaml.clib_1727769837359/work\n",
      "s3fs @ file:///C:/b/abs_ddtjx92ddb/croot/s3fs_1724924140381/work\n",
      "scikit-image @ file:///C:/b/abs_85dh_ywewv/croot/scikit-image_1726762076100/work\n",
      "scikit-learn @ file:///C:/b/abs_aajc9f7v6r/croot/scikit-learn_1722067652693/work/dist/scikit_learn-1.5.1-cp312-cp312-win_amd64.whl#sha256=96ed6defb86c154d2ff360afdbf0c37c33c4c729d4a15c9d8ada0b70fd817816\n",
      "scipy @ file:///C:/b/abs_efv75hqhju/croot/scipy_1717521501389/work/dist/scipy-1.13.1-cp312-cp312-win_amd64.whl#sha256=b29dba691773ea983857b31cad894f31623348583937b6f03783facfd7abc734\n",
      "Scrapy @ file:///C:/b/abs_b407wrcuij/croot/scrapy_1708714755460/work\n",
      "seaborn @ file:///C:/b/abs_ca2mi1rgmn/croot/seaborn_1718303534355/work\n",
      "semver @ file:///C:/b/abs_4bkbn3v6jp/croot/semver_1709243682483/work\n",
      "Send2Trash @ file:///C:/Users/dev-admin/perseverance-python-buildout/croot/send2trash_1701806400767/work\n",
      "sentry-sdk @ file:///C:/b/abs_03mwb6wi8k/croot/sentry-sdk_1732198189303/work\n",
      "service-identity @ file:///Users/ktietz/demo/mc3/conda-bld/service_identity_1629460757137/work\n",
      "setuptools==75.1.0\n",
      "shellingham @ file:///C:/Users/dev-admin/perseverance-python-buildout/croot/shellingham_1699475566718/work\n",
      "sip @ file:///C:/Users/dev-admin/perseverance-python-buildout/croot/sip_1699475590677/work\n",
      "six @ file:///tmp/build/80754af9/six_1644875935023/work\n",
      "smart-open @ file:///C:/Users/dev-admin/perseverance-python-buildout/croot/smart_open_1699483216058/work\n",
      "smmap @ file:///tmp/build/80754af9/smmap_1611694433573/work\n",
      "sniffio @ file:///C:/b/abs_3akdewudo_/croot/sniffio_1705431337396/work\n",
      "snowballstemmer @ file:///tmp/build/80754af9/snowballstemmer_1637937080595/work\n",
      "sortedcontainers @ file:///tmp/build/80754af9/sortedcontainers_1623949099177/work\n",
      "soupsieve @ file:///C:/Users/dev-admin/perseverance-python-buildout/croot/soupsieve_1699496611169/work\n",
      "Sphinx @ file:///C:/b/abs_67j2y1kkd0/croot/sphinx_1718275396111/work\n",
      "sphinxcontrib-applehelp @ file:///home/ktietz/src/ci/sphinxcontrib-applehelp_1611920841464/work\n",
      "sphinxcontrib-devhelp @ file:///home/ktietz/src/ci/sphinxcontrib-devhelp_1611920923094/work\n",
      "sphinxcontrib-htmlhelp @ file:///tmp/build/80754af9/sphinxcontrib-htmlhelp_1623945626792/work\n",
      "sphinxcontrib-jsmath @ file:///home/ktietz/src/ci/sphinxcontrib-jsmath_1611920942228/work\n",
      "sphinxcontrib-qthelp @ file:///home/ktietz/src/ci/sphinxcontrib-qthelp_1611921055322/work\n",
      "sphinxcontrib-serializinghtml @ file:///C:/b/abs_91266tdnkr/croot/sphinxcontrib-serializinghtml_1718201501959/work\n",
      "spyder @ file:///C:/b/abs_2f04kjngiv/croot/spyder_1727197291220/work\n",
      "spyder-kernels @ file:///C:/b/abs_e5u6y4ldr2/croot/spyder-kernels_1707937767956/work\n",
      "SQLAlchemy @ file:///C:/b/abs_7duxw5rxx8/croot/sqlalchemy_1725885067126/work\n",
      "stack-data @ file:///opt/conda/conda-bld/stack_data_1646927590127/work\n",
      "statsmodels @ file:///C:/b/abs_54b33xdukx/croot/statsmodels_1718381209933/work\n",
      "streamlit @ file:///C:/b/abs_84p_54gim8/croot/streamlit_1724335176234/work\n",
      "sympy @ file:///C:/b/abs_4e4p71hdj_/croot/sympy_1724938208509/work\n",
      "tables @ file:///C:/b/abs_92un5wtnqq/croot/pytables_1725380800658/work\n",
      "tabulate @ file:///C:/Users/dev-admin/perseverance-python-buildout/croot/tabulate_1701812852133/work\n",
      "tblib @ file:///Users/ktietz/demo/mc3/conda-bld/tblib_1629402031467/work\n",
      "tenacity @ file:///C:/b/abs_d2_havtscu/croot/tenacity_1721222514290/work\n",
      "terminado @ file:///C:/Users/dev-admin/perseverance-python-buildout/croot/terminado_1699545066607/work\n",
      "text-unidecode @ file:///Users/ktietz/demo/mc3/conda-bld/text-unidecode_1629401354553/work\n",
      "textdistance @ file:///tmp/build/80754af9/textdistance_1612461398012/work\n",
      "threadpoolctl @ file:///C:/b/abs_def0dwqlft/croot/threadpoolctl_1719407816649/work\n",
      "three-merge @ file:///tmp/build/80754af9/three-merge_1607553261110/work\n",
      "tifffile @ file:///C:/Users/dev-admin/perseverance-python-buildout/croot/tifffile_1699496794322/work\n",
      "tinycss2 @ file:///C:/Users/dev-admin/perseverance-python-buildout/croot/tinycss2_1699545185754/work\n",
      "tldextract @ file:///C:/b/abs_34gknp7o18/croot/tldextract_1723064394448/work\n",
      "toml @ file:///tmp/build/80754af9/toml_1616166611790/work\n",
      "tomli @ file:///C:/Users/dev-admin/perseverance-python-buildout/croot/tomli_1699472528897/work\n",
      "tomlkit @ file:///C:/Users/dev-admin/perseverance-python-buildout/croot/tomlkit_1699475633229/work\n",
      "toolz @ file:///C:/Users/dev-admin/perseverance-python-buildout/croot/toolz_1699474617784/work\n",
      "tornado @ file:///C:/b/abs_7bua0304mj/croot/tornado_1718740122405/work\n",
      "tqdm @ file:///C:/b/abs_77wju137gk/croot/tqdm_1724853945787/work\n",
      "traitlets @ file:///C:/b/abs_bfsnoxl4pq/croot/traitlets_1718227069245/work\n",
      "truststore @ file:///C:/Users/dev-admin/perseverance-python-buildout/croot/truststore_1701881385424/work\n",
      "Twisted @ file:///C:/b/abs_e7yqd811in/croot/twisted_1708702883769/work\n",
      "twisted-iocpsupport @ file:///C:/Users/dev-admin/perseverance-python-buildout/croot/twisted-iocpsupport_1699496891011/work\n",
      "typer @ file:///C:/Users/dev-admin/perseverance-python-buildout/croot/typer_1699483420852/work\n",
      "typing_extensions @ file:///C:/b/abs_0as9mdbkfl/croot/typing_extensions_1715268906610/work\n",
      "tzdata @ file:///croot/python-tzdata_1690578112552/work\n",
      "uc-micro-py @ file:///C:/Users/dev-admin/perseverance-python-buildout/croot/uc-micro-py_1699545612984/work\n",
      "ujson @ file:///C:/b/abs_c93a278xy4/croot/ujson_1717598062082/work\n",
      "unicodedata2 @ file:///C:/b/abs_b6apldlg7y/croot/unicodedata2_1713212998255/work\n",
      "Unidecode @ file:///C:/b/abs_4cczv71djp/croot/unidecode_1724790062151/work\n",
      "urllib3 @ file:///C:/b/abs_9a_f8h_bn2/croot/urllib3_1727769836930/work\n",
      "w3lib @ file:///C:/Users/dev-admin/perseverance-python-buildout/croot/w3lib_1709162573908/work\n",
      "watchdog @ file:///C:/b/abs_b3l_3s276z/croot/watchdog_1717166538403/work\n",
      "wcwidth @ file:///Users/ktietz/demo/mc3/conda-bld/wcwidth_1629357192024/work\n",
      "webencodings @ file:///C:/Users/dev-admin/perseverance-python-buildout/croot/webencodings_1699497069416/work\n",
      "websocket-client @ file:///C:/b/abs_5dmnxxoci9/croot/websocket-client_1715878351319/work\n",
      "Werkzeug @ file:///C:/b/abs_8bittcw9jr/croot/werkzeug_1716533366070/work\n",
      "whatthepatch @ file:///C:/Users/dev-admin/perseverance-python-buildout/croot/whatthepatch_1699497134590/work\n",
      "wheel==0.44.0\n",
      "widgetsnbextension @ file:///C:/b/abs_538o2crz7f/croot/widgetsnbextension_1710960099872/work\n",
      "win-inet-pton @ file:///C:/Users/dev-admin/perseverance-python-buildout/croot/win_inet_pton_1699472992992/work\n",
      "wrapt @ file:///C:/Users/dev-admin/perseverance-python-buildout/croot/wrapt_1699480231633/work\n",
      "xarray @ file:///C:/Users/dev-admin/perseverance-python-buildout/croot/xarray_1699480274069/work\n",
      "xlwings @ file:///C:/b/abs_bc7ro1xk70/croot/xlwings_1725400109105/work\n",
      "xyzservices @ file:///C:/Users/dev-admin/perseverance-python-buildout/croot/xyzservices_1699548906163/work\n",
      "yapf @ file:///C:/b/abs_8aidayep18/croot/yapf_1708964372649/work\n",
      "yarl @ file:///C:/b/abs_00rcuicx5k/croot/yarl_1726015884215/work\n",
      "zict @ file:///C:/Users/dev-admin/perseverance-python-buildout/croot/zict_1699548979005/work\n",
      "zipp @ file:///C:/Users/dev-admin/perseverance-python-buildout/croot/zipp_1707493775475/work\n",
      "zope.interface @ file:///C:/Users/dev-admin/perseverance-python-buildout/croot/zope.interface_1699497164709/work\n",
      "zstandard @ file:///C:/b/abs_82dff2ths3/croot/zstandard_1728569207191/work\n"
     ]
    }
   ],
   "source": [
    "!pip freeze"
   ]
  },
  {
   "cell_type": "code",
   "execution_count": null,
   "id": "bb302b93-36e7-4531-8e64-a9c781b7467d",
   "metadata": {},
   "outputs": [],
   "source": []
  }
 ],
 "metadata": {
  "kernelspec": {
   "display_name": "Python [conda env:base] *",
   "language": "python",
   "name": "conda-base-py"
  },
  "language_info": {
   "codemirror_mode": {
    "name": "ipython",
    "version": 3
   },
   "file_extension": ".py",
   "mimetype": "text/x-python",
   "name": "python",
   "nbconvert_exporter": "python",
   "pygments_lexer": "ipython3",
   "version": "3.12.7"
  }
 },
 "nbformat": 4,
 "nbformat_minor": 5
}

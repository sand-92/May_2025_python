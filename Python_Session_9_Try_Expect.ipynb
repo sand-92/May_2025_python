{
 "cells": [
  {
   "cell_type": "markdown",
   "id": "d0722562-0bd7-4035-b889-9fdb16605891",
   "metadata": {},
   "source": [
    "**Try Expect**"
   ]
  },
  {
   "cell_type": "markdown",
   "id": "aa6aebeb-52df-4773-a451-dc727ed62dfd",
   "metadata": {},
   "source": [
    "- Try and expection are two blocks\n",
    "- original code will write under **Try block**\n",
    "- if any error occurs in original code\n",
    "- it will redirect to **expect** block\n",
    "- **expect** block will catch the errors in try blocks    "
   ]
  },
  {
   "cell_type": "code",
   "execution_count": null,
   "id": "0411844a-c80c-45ae-ad31-f9bd58ebaefb",
   "metadata": {},
   "outputs": [],
   "source": [
    "- syntax error          # symbols errors :)\n",
    "- case sentitive error  # different letter cases, are not considered equal\n",
    "- name error            # wrong letters name error (logical error)\n",
    "- zero division error   # 0 0/10 and 1/0 is error\n",
    "- indentation error     # some logical errors and syntax errors are there"
   ]
  },
  {
   "cell_type": "code",
   "execution_count": 1,
   "id": "608d06da-755d-4eca-81bd-15857fe27352",
   "metadata": {},
   "outputs": [
    {
     "name": "stdout",
     "output_type": "stream",
     "text": [
      "10\n",
      "20\n",
      "hello the code is not good\n"
     ]
    }
   ],
   "source": [
    "try:\n",
    "    n1=10\n",
    "    print(n1)\n",
    "    n2=20\n",
    "    print(n2)\n",
    "    add=(n1+n22)\n",
    "    print(add)\n",
    "except:    \n",
    "    print('hello the code is not good')"
   ]
  },
  {
   "cell_type": "code",
   "execution_count": 3,
   "id": "c49d9be0-f508-452d-a6bf-5e1a49481dd4",
   "metadata": {},
   "outputs": [
    {
     "name": "stdout",
     "output_type": "stream",
     "text": [
      "not b1\n"
     ]
    }
   ],
   "source": [
    "try:\n",
    "    a=10\n",
    "    b=20\n",
    "    add=a+b1\n",
    "    print(add)\n",
    "except:\n",
    "    print('not b1')"
   ]
  },
  {
   "cell_type": "code",
   "execution_count": 33,
   "id": "e624ec88-17ff-462c-8fcb-f646903708de",
   "metadata": {},
   "outputs": [
    {
     "ename": "IndentationError",
     "evalue": "unindent does not match any outer indentation level (<string>, line 6)",
     "output_type": "error",
     "traceback": [
      "\u001b[1;36m  File \u001b[1;32m<string>:6\u001b[1;36m\u001b[0m\n\u001b[1;33m    except:\u001b[0m\n\u001b[1;37m           ^\u001b[0m\n\u001b[1;31mIndentationError\u001b[0m\u001b[1;31m:\u001b[0m unindent does not match any outer indentation level\n"
     ]
    }
   ],
   "source": [
    "try:\n",
    "    a=10\n",
    "    b=20\n",
    "    sub=a-b\n",
    "    print(sub)\n",
    " except:"
   ]
  },
  {
   "cell_type": "code",
   "execution_count": 21,
   "id": "aa94f8d2-da3e-4012-a45b-f0eb188a03f4",
   "metadata": {},
   "outputs": [
    {
     "name": "stdin",
     "output_type": "stream",
     "text": [
      "enter n1 42\n",
      "enter n2 12\n"
     ]
    },
    {
     "name": "stdout",
     "output_type": "stream",
     "text": [
      "3.5\n"
     ]
    }
   ],
   "source": [
    "n1=eval(input('enter n1'))\n",
    "n2=eval(input('enter n2'))\n",
    "div=n1/n2\n",
    "print(div)"
   ]
  },
  {
   "cell_type": "code",
   "execution_count": 35,
   "id": "d03c8143-2725-47cf-955e-de3ffe706e78",
   "metadata": {},
   "outputs": [
    {
     "name": "stdin",
     "output_type": "stream",
     "text": [
      "enter n1 38\n",
      "enter n2 15\n"
     ]
    },
    {
     "name": "stdout",
     "output_type": "stream",
     "text": [
      "2.533333333333333\n"
     ]
    }
   ],
   "source": [
    "try:\n",
    "    n1=eval(input('enter n1'))\n",
    "    n2=eval(input('enter n2'))\n",
    "    div=n1/n2\n",
    "    print(div)\n",
    "except Exception as e:\n",
    "    print(e)"
   ]
  },
  {
   "cell_type": "code",
   "execution_count": 37,
   "id": "6418592c-fe4a-4f5b-a497-74fccf39cd0e",
   "metadata": {},
   "outputs": [
    {
     "name": "stdin",
     "output_type": "stream",
     "text": [
      "enter a num 65\n"
     ]
    },
    {
     "name": "stdout",
     "output_type": "stream",
     "text": [
      "name 'nummmm' is not defined\n"
     ]
    }
   ],
   "source": [
    "try:\n",
    "    num=eval(input('enter a num'))\n",
    "    if nummmm>=60:\n",
    "        print('old')\n",
    "    elif num>=35:\n",
    "        print('young')\n",
    "except Exception as e:   \n",
    "    print(e)"
   ]
  },
  {
   "cell_type": "code",
   "execution_count": null,
   "id": "aea6ddf2-4f0a-4442-a59f-28ba03b089d5",
   "metadata": {},
   "outputs": [],
   "source": [
    "# in the real time we will write thousands of lines\n",
    "# what will happen\n",
    "# the same code will work on your laptop------> \n",
    "# but same code will not work on client loptop bcoz mismatch\n",
    "# 2000 lines your code\n",
    "# 1500 lines might be get error\n",
    "#               the error is not impact matter\n",
    "#         it will not impact the output bcoz PYTHON IS step by step process"
   ]
  },
  {
   "cell_type": "code",
   "execution_count": 41,
   "id": "9e3b0cfa-b263-44cf-bc3f-b61f15221723",
   "metadata": {},
   "outputs": [
    {
     "name": "stdout",
     "output_type": "stream",
     "text": [
      "10\n",
      "20\n",
      "bye\n"
     ]
    }
   ],
   "source": [
    "try:\n",
    "    n1=10\n",
    "    print(n1)\n",
    "    n2=20\n",
    "    print(n2)\n",
    "    n1+n234\n",
    "    print('hello')\n",
    "except:\n",
    "    print('bye')"
   ]
  },
  {
   "cell_type": "code",
   "execution_count": 43,
   "id": "f83947bb-f75a-4a01-8166-6eb68e1e9096",
   "metadata": {},
   "outputs": [
    {
     "name": "stdout",
     "output_type": "stream",
     "text": [
      "10\n",
      "20\n",
      "hello\n",
      "bye\n"
     ]
    }
   ],
   "source": [
    "try:\n",
    "    n1=10\n",
    "    print(n1)\n",
    "    n2=20\n",
    "    print(n2)\n",
    "    n1+n234\n",
    "except Exception as e:\n",
    "    print('hello')\n",
    "    print('bye')"
   ]
  },
  {
   "cell_type": "code",
   "execution_count": 45,
   "id": "ddd1f820-182e-45fb-8fb0-60c468e4861b",
   "metadata": {},
   "outputs": [
    {
     "name": "stdout",
     "output_type": "stream",
     "text": [
      "correct condition\n",
      "hello world\n"
     ]
    }
   ],
   "source": [
    "try:\n",
    "    num=10\n",
    "    if num>0:  \n",
    "     print('correct condition')\n",
    "     print('hello world')\n",
    "except Exception as e:\n",
    "     print(e)"
   ]
  },
  {
   "cell_type": "code",
   "execution_count": 53,
   "id": "456b29ad-d4bc-4e68-ba19-2df5ebe78bea",
   "metadata": {},
   "outputs": [
    {
     "name": "stdout",
     "output_type": "stream",
     "text": [
      "python\n"
     ]
    }
   ],
   "source": [
    "try:\n",
    "    name=='python'\n",
    "except:\n",
    "    print('python')"
   ]
  },
  {
   "cell_type": "code",
   "execution_count": 55,
   "id": "fa4e8847-8204-4585-96b7-7e98f52035af",
   "metadata": {},
   "outputs": [
    {
     "name": "stdout",
     "output_type": "stream",
     "text": [
      "hi\n"
     ]
    }
   ],
   "source": [
    "try:\n",
    "     if name=='python':\n",
    "      a=10\n",
    "      b=20\n",
    "      print(a+b)\n",
    "except Exception as e:\n",
    "     print('hi')"
   ]
  },
  {
   "cell_type": "code",
   "execution_count": 57,
   "id": "5e1862ce-1343-4d1f-a22d-975ef21b82df",
   "metadata": {},
   "outputs": [
    {
     "name": "stdout",
     "output_type": "stream",
     "text": [
      "good\n"
     ]
    }
   ],
   "source": [
    "try:\n",
    "     if 100>10:\n",
    "       print('good')\n",
    "except Exception as e:\n",
    "       print('bye')"
   ]
  },
  {
   "cell_type": "code",
   "execution_count": 59,
   "id": "94f42f1d-c402-403b-b35c-e03fb49aae96",
   "metadata": {},
   "outputs": [
    {
     "name": "stdout",
     "output_type": "stream",
     "text": [
      "correct condition\n"
     ]
    }
   ],
   "source": [
    "try:\n",
    "    if 100>10:\n",
    "        print('correct condition')\n",
    "    else:\n",
    "     print('wrong condition')\n",
    "        \n",
    "except:\n",
    "     print(e)"
   ]
  },
  {
   "cell_type": "code",
   "execution_count": 61,
   "id": "432588f9-c095-469a-a69a-53e7d3675b52",
   "metadata": {},
   "outputs": [
    {
     "name": "stdout",
     "output_type": "stream",
     "text": [
      "10\n",
      "wrong condition\n",
      "20\n"
     ]
    }
   ],
   "source": [
    "try:\n",
    "    print(10)\n",
    "    if 100<10:\n",
    "        print('correct condition')\n",
    "    else:\n",
    "        print('wrong condition')\n",
    "    print(20)\n",
    "except:\n",
    "    print(e)\n",
    "  "
   ]
  },
  {
   "cell_type": "code",
   "execution_count": 63,
   "id": "a01c03ce-9efc-4b0d-b46f-724aad348104",
   "metadata": {},
   "outputs": [
    {
     "name": "stdin",
     "output_type": "stream",
     "text": [
      "enter a n1 52\n",
      "enter a n2 42\n"
     ]
    },
    {
     "name": "stdout",
     "output_type": "stream",
     "text": [
      "we lost\n"
     ]
    }
   ],
   "source": [
    "try:\n",
    "    n1=eval(input('enter a n1'))\n",
    "    n2=eval(input('enter a n2'))\n",
    "    if n1==n2:\n",
    "       print('we won')\n",
    "    else:\n",
    "        print('we lost')\n",
    "except:    \n",
    "    print(e)"
   ]
  },
  {
   "cell_type": "code",
   "execution_count": 65,
   "id": "5115a2dc-b747-4c13-9a7e-dfb6273c50d3",
   "metadata": {},
   "outputs": [
    {
     "name": "stdin",
     "output_type": "stream",
     "text": [
      "enter number1: 8\n",
      "enter number2: 9\n"
     ]
    },
    {
     "name": "stdout",
     "output_type": "stream",
     "text": [
      "we lost\n"
     ]
    }
   ],
   "source": [
    "try:\n",
    "    import random\n",
    "    random.randint(1,10)\n",
    "    n1=eval(input('enter number1:'))\n",
    "    n2=eval(input('enter number2:'))\n",
    "    if  n1==n2:\n",
    "          print('we won')\n",
    "    else:\n",
    "          print('we lost')\n",
    "except:\n",
    "    print(e)"
   ]
  },
  {
   "cell_type": "code",
   "execution_count": 77,
   "id": "4f7e4a99-8a62-48b3-9378-1d947ab5fc99",
   "metadata": {},
   "outputs": [],
   "source": [
    "try:\n",
    "    import string\n",
    "    dir(string)\n",
    "except:\n",
    "    print('string')"
   ]
  },
  {
   "cell_type": "code",
   "execution_count": 73,
   "id": "7902c15f-a771-4184-8422-153ecf072c5a",
   "metadata": {},
   "outputs": [
    {
     "name": "stdout",
     "output_type": "stream",
     "text": [
      "hello\n"
     ]
    }
   ],
   "source": [
    "try:\n",
    "    import time\n",
    "    time.sleep(2)\n",
    "    print('hello')\n",
    "except Exception as e:   \n",
    "    print(e)"
   ]
  },
  {
   "cell_type": "code",
   "execution_count": 79,
   "id": "7ac4a34d-7e27-477a-bce2-41557e786e65",
   "metadata": {},
   "outputs": [],
   "source": [
    "try:\n",
    "    5/2\n",
    "except Exception as e:   \n",
    "    print(e)"
   ]
  },
  {
   "cell_type": "code",
   "execution_count": 81,
   "id": "c50d75c5-2ce4-4c3e-b91b-59b9c04a2d29",
   "metadata": {},
   "outputs": [
    {
     "name": "stdin",
     "output_type": "stream",
     "text": [
      "the enter num: 42\n"
     ]
    },
    {
     "name": "stdout",
     "output_type": "stream",
     "text": [
      "the given  number 42 is even\n"
     ]
    }
   ],
   "source": [
    "try:\n",
    "    num=eval(input('the enter num:'))\n",
    "    if num%2==0:\n",
    "        print(f'the given  number {num} is even')\n",
    "    else:\n",
    "        print(f'the given number {num} is odd')\n",
    "except Exception as e:   \n",
    "    print(e)        "
   ]
  },
  {
   "cell_type": "code",
   "execution_count": 1,
   "id": "47ecb435-5efb-4abd-a53e-f35c74855df3",
   "metadata": {},
   "outputs": [
    {
     "name": "stdout",
     "output_type": "stream",
     "text": [
      "name 'n22' is not defined\n"
     ]
    }
   ],
   "source": [
    "try:\n",
    "    from random import randint\n",
    "    n1=randint(1,100)\n",
    "    n2=randint(1,100)\n",
    "    if n1>=n22:\n",
    "        print('greater n1')\n",
    "    else:\n",
    "        print('greater n2')\n",
    "except Exception as e:   \n",
    "    print(e)                "
   ]
  },
  {
   "cell_type": "code",
   "execution_count": 87,
   "id": "f8b62b4a-2f1e-4772-ba7a-4e5422bebdcb",
   "metadata": {},
   "outputs": [
    {
     "name": "stdin",
     "output_type": "stream",
     "text": [
      "enter course_name 'data science'\n",
      "enter institute_name 'naresh it'\n"
     ]
    },
    {
     "name": "stdout",
     "output_type": "stream",
     "text": [
      "we are good\n"
     ]
    }
   ],
   "source": [
    "try:\n",
    "    course_name=eval(input('enter course_name'))\n",
    "    institute_name=eval(input('enter institute_name'))\n",
    "    if course_name=='data science' or institute_name=='naresh it':\n",
    "             print(f'we are good')\n",
    "    else:\n",
    "             print(f'not good')\n",
    "except exception as e:\n",
    "    print(e)"
   ]
  },
  {
   "cell_type": "code",
   "execution_count": 93,
   "id": "7ccc4daa-a44f-44f0-9cc8-e7362d61a7de",
   "metadata": {},
   "outputs": [
    {
     "name": "stdin",
     "output_type": "stream",
     "text": [
      "enter percentage of marks 65\n"
     ]
    },
    {
     "name": "stdout",
     "output_type": "stream",
     "text": [
      "will fail\n"
     ]
    }
   ],
   "source": [
    "try:\n",
    "    per=eval(input('enter percentage of marks'))\n",
    "    if per>=75:                       \n",
    "        print('A grade')\n",
    "    elif per>75 and per<=60:    # 60>=75 F\n",
    "         print('B grade') \n",
    "    elif per>60 and per<=45:    # 45 >= 60 f\n",
    "        print('C grade')\n",
    "    elif per>45 and per<=35:   # 35>=45  f\n",
    "        print('D grade') \n",
    "    else:\n",
    "        print('will fail')\n",
    "except exception as e:\n",
    "    print(e)"
   ]
  },
  {
   "cell_type": "code",
   "execution_count": 95,
   "id": "9c714276-a0ce-475d-8cc7-7c26bfef07c9",
   "metadata": {},
   "outputs": [
    {
     "name": "stdin",
     "output_type": "stream",
     "text": [
      "enter a age 40\n"
     ]
    },
    {
     "name": "stdout",
     "output_type": "stream",
     "text": [
      "Middle Age\n"
     ]
    }
   ],
   "source": [
    "try:\n",
    "    age=eval(input('enter a age'))\n",
    "    if age>=100:\n",
    "        print('unlucky guy')\n",
    "    elif age>=100:\n",
    "        print('super senior citizen')\n",
    "    elif age>=80:\n",
    "        print('super senior citizen')\n",
    "    elif age>=60:    \n",
    "         print('aged')\n",
    "    elif age>=40:    \n",
    "         print('Middle Age')\n",
    "    elif age>=25:    \n",
    "         print('young')  \n",
    "    else:\n",
    "        print('kid')\n",
    "except exception as e:\n",
    "    print(e)"
   ]
  },
  {
   "cell_type": "code",
   "execution_count": 97,
   "id": "dd1d357c-581e-4baf-8e82-673fb445fe04",
   "metadata": {},
   "outputs": [
    {
     "name": "stdin",
     "output_type": "stream",
     "text": [
      "enter a distance 82\n",
      "enter a charge 25\n"
     ]
    },
    {
     "name": "stdout",
     "output_type": "stream",
     "text": [
      "the total charge is:2050\n"
     ]
    }
   ],
   "source": [
    "try:\n",
    "    distance=eval(input('enter a distance'))\n",
    "    if distance>=100:\n",
    "        charge=eval(input('enter a charge'))\n",
    "        total_charge=distance*charge\n",
    "        print(f\"the total charge is:{total_charge}\")\n",
    "    elif distance>=50:\n",
    "        charge=eval(input('enter a charge'))\n",
    "        total_charge=distance*charge\n",
    "        print(f\"the total charge is:{total_charge}\")\n",
    "    elif distance>=25:    # 25>=50 F\n",
    "        charge=eval(input('enter a charge'))\n",
    "        total_charge=distance*charge\n",
    "        print(f\"the total charge is:{total_charge}\")\n",
    "    else:\n",
    "        print('free ride')\n",
    "except exception as e:\n",
    "    print(e)"
   ]
  },
  {
   "cell_type": "code",
   "execution_count": 99,
   "id": "90cedc83-bdaa-4a55-8478-7a6f9a539542",
   "metadata": {},
   "outputs": [
    {
     "name": "stdin",
     "output_type": "stream",
     "text": [
      "enter a distance 100\n"
     ]
    },
    {
     "name": "stdout",
     "output_type": "stream",
     "text": [
      "charge is 20rp greaterthen 100kms\n",
      "charge is 10rp between 50 to 100kms\n",
      "charge is 5rp between 25to 50kms\n",
      "free ride lessthen 25kms\n"
     ]
    }
   ],
   "source": [
    "try:\n",
    "    distance=eval(input('enter a distance'))\n",
    "    print('charge is 20rp greaterthen 100kms')\n",
    "    print('charge is 10rp between 50 to 100kms')\n",
    "    print('charge is 5rp between 25to 50kms')\n",
    "    print('free ride lessthen 25kms')\n",
    "except exception as e:\n",
    "    print(e)\n"
   ]
  },
  {
   "cell_type": "code",
   "execution_count": 101,
   "id": "d6dde5a3-9ec6-4478-a8e1-41c220301710",
   "metadata": {},
   "outputs": [
    {
     "name": "stdin",
     "output_type": "stream",
     "text": [
      "enter a distance 100\n"
     ]
    },
    {
     "name": "stdout",
     "output_type": "stream",
     "text": [
      "charge is 20rp greaterthen 100kms\n",
      "charge is 10rp between 50 to 100kms\n",
      "charge is 5rp between 25to 50kms\n",
      "free ride lessthen 25kms\n"
     ]
    },
    {
     "name": "stdin",
     "output_type": "stream",
     "text": [
      "enter a charge 50\n"
     ]
    },
    {
     "name": "stdout",
     "output_type": "stream",
     "text": [
      "the total charge is:5000\n"
     ]
    }
   ],
   "source": [
    "try:\n",
    "    distance=eval(input('enter a distance'))\n",
    "    print('charge is 20rp greaterthen 100kms')\n",
    "    print('charge is 10rp between 50 to 100kms')\n",
    "    print('charge is 5rp between 25to 50kms')\n",
    "    print('free ride lessthen 25kms')\n",
    "    if distance>=100:\n",
    "        charge=eval(input('enter a charge'))\n",
    "        total_charge=distance*charge\n",
    "        print(f\"the total charge is:{total_charge}\")\n",
    "    elif distance>=50:\n",
    "        charge=eval(input('enter a charge'))\n",
    "        total_charge=distance*charge\n",
    "        print(f\"the total charge is:{total_charge}\")\n",
    "    elif distance>=25:    # 25>=50 F\n",
    "        charge=eval(input('enter a charge'))\n",
    "        total_charge=distance*charge\n",
    "        print(f\"the total charge is:{total_charge}\")\n",
    "    else:\n",
    "        print('free ride')\n",
    "except exception as e:\n",
    "    print(e)\n"
   ]
  },
  {
   "cell_type": "code",
   "execution_count": 103,
   "id": "d1009b21-a68f-4531-8792-ff93cbcf7094",
   "metadata": {},
   "outputs": [
    {
     "name": "stdout",
     "output_type": "stream",
     "text": [
      "enter add for 1\n",
      "enter sub for 2\n",
      "enter mul for 3\n",
      "enter div for 4\n"
     ]
    },
    {
     "name": "stdin",
     "output_type": "stream",
     "text": [
      "enter the numbers between 1 to 4  4\n"
     ]
    },
    {
     "name": "stdout",
     "output_type": "stream",
     "text": [
      "you choose division of operation\n"
     ]
    },
    {
     "name": "stdin",
     "output_type": "stream",
     "text": [
      "enter the n1 45\n",
      "enter the n2 25\n"
     ]
    },
    {
     "name": "stdout",
     "output_type": "stream",
     "text": [
      "division of number is 1.8\n"
     ]
    }
   ],
   "source": [
    "try:\n",
    "    from time import sleep \n",
    "    print('enter add for 1')\n",
    "    sleep(3)\n",
    "    print('enter sub for 2')\n",
    "    sleep(3)\n",
    "    print('enter mul for 3')\n",
    "    sleep(3)\n",
    "    print('enter div for 4')\n",
    "    operation=eval(input('enter the numbers between 1 to 4 '))\n",
    "    if operation==1:\n",
    "          print('you choose addition of operation')\n",
    "          n1=eval(input('enter the n1'))\n",
    "          n2=eval(input('enter the n2'))\n",
    "          addition=n1+n2\n",
    "          print(f'addition of number is {addition}')\n",
    "    elif operation==2:\n",
    "          print('you choose subtraction of operation')\n",
    "          n1=eval(input('enter the n1'))\n",
    "          n2=eval(input('enter the n2'))\n",
    "          subtraction=n1-n2\n",
    "          print(f'subtraction of number is {subtraction}')\n",
    "    elif operation==3:\n",
    "          print('you choose multiplication of operation')\n",
    "          n1=eval(input('enter the n1'))\n",
    "          n2=eval(input('enter the n2'))\n",
    "          multiplication=n1*n2\n",
    "          print(f'multiplication of number is {multiplication}')\n",
    "    elif operation==4:\n",
    "          print('you choose division of operation')\n",
    "          n1=eval(input('enter the n1'))\n",
    "          n2=eval(input('enter the n2'))\n",
    "          division=n1/n2\n",
    "          print(f'division of number is {division}')\n",
    "    else:\n",
    "          print('no operation')\n",
    "except exception as e:\n",
    "    print(e)"
   ]
  },
  {
   "cell_type": "code",
   "execution_count": 109,
   "id": "dcc6f6cd-95c4-4cf8-ae8f-4f6f4363690e",
   "metadata": {},
   "outputs": [
    {
     "name": "stdin",
     "output_type": "stream",
     "text": [
      "enter a num 47\n"
     ]
    },
    {
     "name": "stdout",
     "output_type": "stream",
     "text": [
      "num is postive\n"
     ]
    }
   ],
   "source": [
    "try:\n",
    "    num=eval(input('enter a num'))\n",
    "    if num>=0:\n",
    "        print('num is postive')\n",
    "    elif num>=0:\n",
    "        print('num is negative')\n",
    "    else:\n",
    "        print('num is zero')\n",
    "except exception as e:\n",
    "    print(e)"
   ]
  },
  {
   "cell_type": "code",
   "execution_count": 111,
   "id": "7cd998b5-6c6e-4f55-8241-a42b7f29f822",
   "metadata": {},
   "outputs": [
    {
     "name": "stdout",
     "output_type": "stream",
     "text": [
      "the avg of 27, 75, 4 is 35.33 \n"
     ]
    }
   ],
   "source": [
    "try:\n",
    "    import random\n",
    "    random.randint(1,100)\n",
    "    n1=random.randint(1,100)\n",
    "    n2=random.randint(1,100)\n",
    "    n3=random.randint(1,100)\n",
    "    avg=(n1+n2+n3)/3\n",
    "    avg1=round(avg,2)\n",
    "    print(f'the avg of {n1}, {n2}, {n3} is {avg1} ' )\n",
    "except exception as e:\n",
    "    print(e)"
   ]
  },
  {
   "cell_type": "code",
   "execution_count": 113,
   "id": "271e27df-5a71-4174-a84f-18929f5eb2c2",
   "metadata": {},
   "outputs": [
    {
     "name": "stdin",
     "output_type": "stream",
     "text": [
      "enter a breadth 45\n",
      "enter a height 24\n"
     ]
    },
    {
     "name": "stdout",
     "output_type": "stream",
     "text": [
      "the area of right angle triangle is 540.0\n"
     ]
    }
   ],
   "source": [
    "try:\n",
    "    breadth=eval(input('enter a breadth'))\n",
    "    height=eval(input('enter a height'))\n",
    "    area=0.5*breadth*height\n",
    "    print(f'the area of right angle triangle is {area}')\n",
    "except exception as e:\n",
    "    print(e)"
   ]
  },
  {
   "cell_type": "code",
   "execution_count": 115,
   "id": "2d03b98f-0f62-4e86-b09e-827a5165a3f1",
   "metadata": {},
   "outputs": [
    {
     "name": "stdin",
     "output_type": "stream",
     "text": [
      "enter a gender 'female'\n",
      "enter a age 35\n"
     ]
    },
    {
     "name": "stdout",
     "output_type": "stream",
     "text": [
      "middle aged woman \n"
     ]
    }
   ],
   "source": [
    "try:\n",
    "    gender=eval(input('enter a gender'))\n",
    "    if gender=='male':\n",
    "         age=eval(input('enter age'))\n",
    "         if age>=60:print('seniour citizen')\n",
    "         elif age>=30:print('middle age man')\n",
    "         elif age>=10:print('young man')\n",
    "         else:print('a boy')\n",
    "    elif gender=='female':\n",
    "         age=eval(input('enter a age'))   \n",
    "         if age>=60:print('seniour citizen')\n",
    "         elif age>=30:print('middle aged woman ')\n",
    "         elif age>=10:print('young girl')\n",
    "         else:print('a girl')\n",
    "    else:print('enter valid gender')\n",
    "except exception as e:         \n",
    "    print(e)                "
   ]
  },
  {
   "cell_type": "code",
   "execution_count": 121,
   "id": "8d4e5e4b-9ee4-4e7d-baab-52524cfdd239",
   "metadata": {},
   "outputs": [
    {
     "name": "stdin",
     "output_type": "stream",
     "text": [
      "enter a n1 45\n",
      "enter a n2 12\n",
      "enter a n3 75\n"
     ]
    },
    {
     "name": "stdout",
     "output_type": "stream",
     "text": [
      "the n1 is greater\n"
     ]
    }
   ],
   "source": [
    "try:\n",
    "    n1=eval(input('enter a n1'))\n",
    "    n2=eval(input('enter a n2'))\n",
    "    n3=eval(input('enter a n3'))\n",
    "    if n1>n2: \n",
    "       print('the n1 is greater')\n",
    "    elif n2>n3:\n",
    "       print('the n2 is greater')\n",
    "    elif n3>n1:\n",
    "       print('n3 is greater')\n",
    "    else:\n",
    "       print('invalid')\n",
    "except exception as e:\n",
    "      print(e)\n"
   ]
  },
  {
   "cell_type": "code",
   "execution_count": 123,
   "id": "2551ce0f-4fc5-4ab9-9c83-a2704918a440",
   "metadata": {},
   "outputs": [
    {
     "name": "stdin",
     "output_type": "stream",
     "text": [
      "enter a n1 75\n",
      "enter a n2 45\n",
      "enter a n3 25\n"
     ]
    },
    {
     "name": "stdout",
     "output_type": "stream",
     "text": [
      "the 45 is greater\n"
     ]
    }
   ],
   "source": [
    "try:\n",
    "    n1=eval(input('enter a n1'))\n",
    "    n2=eval(input('enter a n2'))\n",
    "    n3=eval(input('enter a n3'))\n",
    "    if n1>n2 and n3>n1:\n",
    "       print(f'the {n1} is greater')\n",
    "    elif n2>n3:\n",
    "       print(f'the {n2} is greater')\n",
    "    else:\n",
    "       print(f'the {n3} is greater')    \n",
    "except exception as e:\n",
    "      print(e)"
   ]
  },
  {
   "cell_type": "code",
   "execution_count": 125,
   "id": "1e8d69d4-d217-43a6-aec0-1647fa35007b",
   "metadata": {},
   "outputs": [
    {
     "name": "stdin",
     "output_type": "stream",
     "text": [
      "the num1 50\n",
      "the num2 45\n",
      "the num3 75\n"
     ]
    },
    {
     "name": "stdout",
     "output_type": "stream",
     "text": [
      "75 is greater\n"
     ]
    }
   ],
   "source": [
    "try:\n",
    "    num1=eval(input('the num1'))\n",
    "    num2=eval(input('the num2'))\n",
    "    num3=eval(input('the num3'))\n",
    "    if num1>num2:    #50>45 t\n",
    "       if num1>num3: #50>75 f\n",
    "          print(f'{num1} is greater')\n",
    "       else:\n",
    "          print(f'{num3} is greater')\n",
    "    elif num2>num3:  #45>75 f\n",
    "          print(f'{num2} is greater')\n",
    "    else:\n",
    "          print(f'{num3} is greater')\n",
    "except exception as e:\n",
    "      print('code is not correct')    "
   ]
  },
  {
   "cell_type": "code",
   "execution_count": 127,
   "id": "5b130308-53c3-4b8e-becd-e7ec255a8d88",
   "metadata": {},
   "outputs": [
    {
     "name": "stdout",
     "output_type": "stream",
     "text": [
      "bad\n"
     ]
    }
   ],
   "source": [
    "try:\n",
    "    from random import randint\n",
    "    n1=randint(1,10)\n",
    "    n2=randint(1,10)\n",
    "    if n1==n2:\n",
    "        print('good')\n",
    "    else:\n",
    "        print('bad')\n",
    "except exception as e:\n",
    "    print('invaild')"
   ]
  },
  {
   "cell_type": "code",
   "execution_count": null,
   "id": "5b2f41cd-9fb0-4c10-9068-953c17830f81",
   "metadata": {},
   "outputs": [],
   "source": []
  }
 ],
 "metadata": {
  "kernelspec": {
   "display_name": "Python [conda env:base] *",
   "language": "python",
   "name": "conda-base-py"
  },
  "language_info": {
   "codemirror_mode": {
    "name": "ipython",
    "version": 3
   },
   "file_extension": ".py",
   "mimetype": "text/x-python",
   "name": "python",
   "nbconvert_exporter": "python",
   "pygments_lexer": "ipython3",
   "version": "3.12.7"
  }
 },
 "nbformat": 4,
 "nbformat_minor": 5
}

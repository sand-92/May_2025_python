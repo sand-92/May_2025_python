{
 "cells": [
  {
   "cell_type": "markdown",
   "id": "e055b322-4241-477f-b570-3440b5db2260",
   "metadata": {},
   "source": [
    "## List "
   ]
  },
  {
   "cell_type": "markdown",
   "id": "c06ac173-978e-40b6-bc73-878830ef923b",
   "metadata": {},
   "source": [
    "- intilazation\n",
    "- inbuilt functions\n",
    "    - type\n",
    "    - print\n",
    "    - max\n",
    "    - min\n",
    "   - len\n",
    "   - reversed\n",
    "   - sorted\n",
    "- index operations(for loop range vs in)\n",
    "- concatenation\n",
    "- mutable vs immutable\n",
    "- slicing\n",
    "- List methods"
   ]
  },
  {
   "cell_type": "markdown",
   "id": "63b094ba-e592-43ed-b137-0c17ea161ed8",
   "metadata": {},
   "source": [
    "- strings denoted with 'quotes'\n",
    "- list denoted with square brackets\n",
    "- list means array of elements\n",
    "- list can access any data type together"
   ]
  },
  {
   "cell_type": "code",
   "execution_count": 4,
   "id": "30e4eb8a-d869-4864-9cfa-b4ceec0db787",
   "metadata": {},
   "outputs": [
    {
     "data": {
      "text/plain": [
       "[1, 2, 3, 4]"
      ]
     },
     "execution_count": 4,
     "metadata": {},
     "output_type": "execute_result"
    }
   ],
   "source": [
    "l1=[1,2,3,4]\n",
    "l1"
   ]
  },
  {
   "cell_type": "code",
   "execution_count": 6,
   "id": "f7505633-5f97-4e41-ad64-8198f3014950",
   "metadata": {},
   "outputs": [
    {
     "data": {
      "text/plain": [
       "list"
      ]
     },
     "execution_count": 6,
     "metadata": {},
     "output_type": "execute_result"
    }
   ],
   "source": [
    "type(l1)"
   ]
  },
  {
   "cell_type": "code",
   "execution_count": 8,
   "id": "550b1716-56ff-40d1-b6bb-c289e7b8f4a1",
   "metadata": {},
   "outputs": [
    {
     "data": {
      "text/plain": [
       "['A', 'B', 'C', 'D']"
      ]
     },
     "execution_count": 8,
     "metadata": {},
     "output_type": "execute_result"
    }
   ],
   "source": [
    "l2=['A','B','C','D']\n",
    "l2"
   ]
  },
  {
   "cell_type": "code",
   "execution_count": 10,
   "id": "37f7b9ca-e523-4e9f-957e-26b6a0ab9c81",
   "metadata": {},
   "outputs": [
    {
     "data": {
      "text/plain": [
       "[1, 2, 3, 4, 'a', 'b', 'c', 'd']"
      ]
     },
     "execution_count": 10,
     "metadata": {},
     "output_type": "execute_result"
    }
   ],
   "source": [
    "l3=[1,2,3,4,'a','b','c','d']\n",
    "l3"
   ]
  },
  {
   "cell_type": "code",
   "execution_count": 12,
   "id": "58ea865f-63b2-48a7-800a-7a886c1b6110",
   "metadata": {},
   "outputs": [
    {
     "name": "stdout",
     "output_type": "stream",
     "text": [
      "[1, 2, 3, 4]\n"
     ]
    }
   ],
   "source": [
    "l1=[1,2,3,4]\n",
    "print(l1)"
   ]
  },
  {
   "cell_type": "code",
   "execution_count": 16,
   "id": "73025c31-e4fc-4e91-9cfa-b2e78306dd69",
   "metadata": {},
   "outputs": [
    {
     "data": {
      "text/plain": [
       "'t'"
      ]
     },
     "execution_count": 16,
     "metadata": {},
     "output_type": "execute_result"
    }
   ],
   "source": [
    "l1='list'\n",
    "max(l1)"
   ]
  },
  {
   "cell_type": "code",
   "execution_count": 18,
   "id": "07779c36-8853-4877-b0b5-fd6bbb37e439",
   "metadata": {},
   "outputs": [
    {
     "data": {
      "text/plain": [
       "'i'"
      ]
     },
     "execution_count": 18,
     "metadata": {},
     "output_type": "execute_result"
    }
   ],
   "source": [
    "l1='list'\n",
    "min(l1)"
   ]
  },
  {
   "cell_type": "code",
   "execution_count": 20,
   "id": "4366475e-4e97-4081-939b-10896d3b86be",
   "metadata": {},
   "outputs": [
    {
     "data": {
      "text/plain": [
       "4"
      ]
     },
     "execution_count": 20,
     "metadata": {},
     "output_type": "execute_result"
    }
   ],
   "source": [
    "l1='list'\n",
    "len(l1)"
   ]
  },
  {
   "cell_type": "code",
   "execution_count": 230,
   "id": "dcfcb1c0-da1a-40eb-8467-e93a806e74cd",
   "metadata": {},
   "outputs": [
    {
     "data": {
      "text/plain": [
       "['i', 'l', 's', 't']"
      ]
     },
     "execution_count": 230,
     "metadata": {},
     "output_type": "execute_result"
    }
   ],
   "source": [
    "l1='list'\n",
    "sorted(l1)\n"
   ]
  },
  {
   "cell_type": "code",
   "execution_count": 154,
   "id": "4c9646ab-bbee-4f7a-bdc5-da8ea7684a17",
   "metadata": {},
   "outputs": [
    {
     "name": "stdout",
     "output_type": "stream",
     "text": [
      "list\n",
      "list\n",
      "list\n",
      "list\n"
     ]
    }
   ],
   "source": [
    "#############\n",
    "for i in reversed(l1):\n",
    "    print(l1)"
   ]
  },
  {
   "cell_type": "code",
   "execution_count": 148,
   "id": "432d161d-2ff5-414e-98bc-3e427cfe139a",
   "metadata": {},
   "outputs": [
    {
     "data": {
      "text/plain": [
       "['t', 's', 'i', 'l']"
      ]
     },
     "execution_count": 148,
     "metadata": {},
     "output_type": "execute_result"
    }
   ],
   "source": [
    "l1='list'\n",
    "list(reversed(l1))"
   ]
  },
  {
   "cell_type": "code",
   "execution_count": null,
   "id": "8ac312c1-8204-4ac7-9997-1434e52cbd9b",
   "metadata": {},
   "outputs": [],
   "source": [
    "# create as many as lists with different ways means different data types"
   ]
  },
  {
   "cell_type": "code",
   "execution_count": 28,
   "id": "1e2a2816-a843-4923-92e9-6ea3ecac8066",
   "metadata": {},
   "outputs": [
    {
     "data": {
      "text/plain": [
       "[10, 20, 30, 'apple', 'banana', 'cherry', True, False, 10.5, 20.5, (20+30j)]"
      ]
     },
     "execution_count": 28,
     "metadata": {},
     "output_type": "execute_result"
    }
   ],
   "source": [
    "l4=[10,20,30,'apple','banana','cherry',True,False,10.5,20.5,20+30j]\n",
    "l4\n",
    "# list can represents with any data type"
   ]
  },
  {
   "cell_type": "code",
   "execution_count": 30,
   "id": "619793a9-f136-4374-a097-aa0bca6135f1",
   "metadata": {},
   "outputs": [
    {
     "data": {
      "text/plain": [
       "[10, 10, 10]"
      ]
     },
     "execution_count": 30,
     "metadata": {},
     "output_type": "execute_result"
    }
   ],
   "source": [
    "l5=[10,10,10]\n",
    "l5\n",
    "# duplicates are allowed"
   ]
  },
  {
   "cell_type": "code",
   "execution_count": 38,
   "id": "5ee3c99b-e9ae-4885-afd6-3342594b71e5",
   "metadata": {},
   "outputs": [
    {
     "data": {
      "text/plain": [
       "[10, 20, 30, ['A', 'B', 'C']]"
      ]
     },
     "execution_count": 38,
     "metadata": {},
     "output_type": "execute_result"
    }
   ],
   "source": [
    "l6=[10,20,30,['A','B','C']]\n",
    "l6"
   ]
  },
  {
   "cell_type": "code",
   "execution_count": 42,
   "id": "9dca6906-e3a3-4216-8eea-92793d298d26",
   "metadata": {},
   "outputs": [
    {
     "data": {
      "text/plain": [
       "[]"
      ]
     },
     "execution_count": 42,
     "metadata": {},
     "output_type": "execute_result"
    }
   ],
   "source": [
    "l7=[]\n",
    "l7"
   ]
  },
  {
   "cell_type": "code",
   "execution_count": 46,
   "id": "3e5dd9a3-503e-4e8e-a11b-e16ba8d24968",
   "metadata": {},
   "outputs": [
    {
     "data": {
      "text/plain": [
       "['{\"dataframes\": [], \"user\": \"Sandeep\"}']"
      ]
     },
     "execution_count": 46,
     "metadata": {},
     "output_type": "execute_result"
    }
   ],
   "source": [
    "l8=[_]\n",
    "l8"
   ]
  },
  {
   "cell_type": "code",
   "execution_count": 48,
   "id": "4ccd005c-2989-4d3e-a361-f803e1cc56df",
   "metadata": {},
   "outputs": [
    {
     "data": {
      "text/plain": [
       "['{\"dataframes\": [], \"user\": \"Sandeep\"}']"
      ]
     },
     "execution_count": 48,
     "metadata": {},
     "output_type": "execute_result"
    }
   ],
   "source": [
    "l8=[_]\n",
    "l8\n",
    "# underscore means variable"
   ]
  },
  {
   "cell_type": "code",
   "execution_count": 52,
   "id": "2f7ae332-bd62-44fc-bb52-4f26024547d8",
   "metadata": {},
   "outputs": [
    {
     "ename": "NameError",
     "evalue": "name 'python' is not defined",
     "output_type": "error",
     "traceback": [
      "\u001b[1;31m---------------------------------------------------------------------------\u001b[0m",
      "\u001b[1;31mNameError\u001b[0m                                 Traceback (most recent call last)",
      "Cell \u001b[1;32mIn[52], line 1\u001b[0m\n\u001b[1;32m----> 1\u001b[0m [python]\n\u001b[0;32m      2\u001b[0m [_]\n",
      "\u001b[1;31mNameError\u001b[0m: name 'python' is not defined"
     ]
    }
   ],
   "source": [
    "[python]  # error\n",
    "[_]       # ANS"
   ]
  },
  {
   "cell_type": "code",
   "execution_count": null,
   "id": "f9ac57bd-5951-41c2-ae48-d1c0a48809a6",
   "metadata": {},
   "outputs": [],
   "source": [
    "l1=[1,2,3,4]\n",
    "l2=['A','B','C','D']\n",
    "l3=[1,2,3,4,'a','b','c','d']\n",
    "l4=[10,20,30,'apple','banana','cherry',True,False,10.5,20.5,20+30j]\n",
    "l5=[10,10,10]\n",
    "l6=[10,20,30,['A','B','C']]\n",
    "l7=[]\n",
    "l8=[_]"
   ]
  },
  {
   "cell_type": "markdown",
   "id": "904de4ca-e2b5-4f7d-8789-bee9f3211d9d",
   "metadata": {},
   "source": [
    "- list can access with the square brackets\n",
    "- list can have any data type of elements\n",
    "   - Hetrogenous\n",
    "- list can have duplicates\n",
    "- list in list is possiable\n",
    "- empty list can also possiable\n",
    "- the values inside list is called as elements"
   ]
  },
  {
   "cell_type": "code",
   "execution_count": 62,
   "id": "3a05678c-3288-4a1e-a87a-21d11f77bc3b",
   "metadata": {},
   "outputs": [
    {
     "data": {
      "text/plain": [
       "(4, 4, 8, 11, 3, 4, 0)"
      ]
     },
     "execution_count": 62,
     "metadata": {},
     "output_type": "execute_result"
    }
   ],
   "source": [
    "len(l1),len(l2),len(l3),len(l4),len(l5),len(l6),len(l7)"
   ]
  },
  {
   "cell_type": "code",
   "execution_count": 66,
   "id": "6654294d-79fe-4067-800c-ec15d7389f3f",
   "metadata": {},
   "outputs": [
    {
     "data": {
      "text/plain": [
       "(1, 4)"
      ]
     },
     "execution_count": 66,
     "metadata": {},
     "output_type": "execute_result"
    }
   ],
   "source": [
    "l1=[1,2,3,4]\n",
    "min(l1),max(l1) "
   ]
  },
  {
   "cell_type": "code",
   "execution_count": 70,
   "id": "2ef744db-aa7b-44d5-8c16-22a568f0f138",
   "metadata": {},
   "outputs": [
    {
     "data": {
      "text/plain": [
       "('A', 'D')"
      ]
     },
     "execution_count": 70,
     "metadata": {},
     "output_type": "execute_result"
    }
   ],
   "source": [
    "l2=['A','B','C','D']\n",
    "min(l2),max(l2)"
   ]
  },
  {
   "cell_type": "code",
   "execution_count": 72,
   "id": "50ffb54d-03f7-4a94-93e3-60d95d9a63ad",
   "metadata": {},
   "outputs": [
    {
     "ename": "TypeError",
     "evalue": "'<' not supported between instances of 'str' and 'int'",
     "output_type": "error",
     "traceback": [
      "\u001b[1;31m---------------------------------------------------------------------------\u001b[0m",
      "\u001b[1;31mTypeError\u001b[0m                                 Traceback (most recent call last)",
      "Cell \u001b[1;32mIn[72], line 2\u001b[0m\n\u001b[0;32m      1\u001b[0m l3\u001b[38;5;241m=\u001b[39m[\u001b[38;5;241m1\u001b[39m,\u001b[38;5;241m2\u001b[39m,\u001b[38;5;241m3\u001b[39m,\u001b[38;5;241m4\u001b[39m,\u001b[38;5;124m'\u001b[39m\u001b[38;5;124ma\u001b[39m\u001b[38;5;124m'\u001b[39m,\u001b[38;5;124m'\u001b[39m\u001b[38;5;124mb\u001b[39m\u001b[38;5;124m'\u001b[39m,\u001b[38;5;124m'\u001b[39m\u001b[38;5;124mc\u001b[39m\u001b[38;5;124m'\u001b[39m,\u001b[38;5;124m'\u001b[39m\u001b[38;5;124md\u001b[39m\u001b[38;5;124m'\u001b[39m]\n\u001b[1;32m----> 2\u001b[0m \u001b[38;5;28mmin\u001b[39m(l3)\n",
      "\u001b[1;31mTypeError\u001b[0m: '<' not supported between instances of 'str' and 'int'"
     ]
    }
   ],
   "source": [
    "l3=[1,2,3,4,'a','b','c','d']\n",
    "min(l3)\n",
    "# same data type should be compare\n",
    "# 'A'= ====some level\n",
    "# 1 =======some level(not happened)"
   ]
  },
  {
   "cell_type": "code",
   "execution_count": 74,
   "id": "4ad478f9-990f-4e7c-aaa4-ca138334a6e0",
   "metadata": {},
   "outputs": [
    {
     "ename": "TypeError",
     "evalue": "'<' not supported between instances of 'str' and 'int'",
     "output_type": "error",
     "traceback": [
      "\u001b[1;31m---------------------------------------------------------------------------\u001b[0m",
      "\u001b[1;31mTypeError\u001b[0m                                 Traceback (most recent call last)",
      "Cell \u001b[1;32mIn[74], line 2\u001b[0m\n\u001b[0;32m      1\u001b[0m l4\u001b[38;5;241m=\u001b[39m[\u001b[38;5;241m10\u001b[39m,\u001b[38;5;241m20\u001b[39m,\u001b[38;5;241m30\u001b[39m,\u001b[38;5;124m'\u001b[39m\u001b[38;5;124mapple\u001b[39m\u001b[38;5;124m'\u001b[39m,\u001b[38;5;124m'\u001b[39m\u001b[38;5;124mbanana\u001b[39m\u001b[38;5;124m'\u001b[39m,\u001b[38;5;124m'\u001b[39m\u001b[38;5;124mcherry\u001b[39m\u001b[38;5;124m'\u001b[39m,\u001b[38;5;28;01mTrue\u001b[39;00m,\u001b[38;5;28;01mFalse\u001b[39;00m,\u001b[38;5;241m10.5\u001b[39m,\u001b[38;5;241m20.5\u001b[39m,\u001b[38;5;241m20\u001b[39m\u001b[38;5;241m+\u001b[39m\u001b[38;5;241m30\u001b[39mj]\n\u001b[1;32m----> 2\u001b[0m \u001b[38;5;28mmin\u001b[39m(l4)\n",
      "\u001b[1;31mTypeError\u001b[0m: '<' not supported between instances of 'str' and 'int'"
     ]
    }
   ],
   "source": [
    "l4=[10,20,30,'apple','banana','cherry',True,False,10.5,20.5,20+30j]\n",
    "min(l4) #FAil"
   ]
  },
  {
   "cell_type": "code",
   "execution_count": 76,
   "id": "525c2f5a-10f5-46e6-b08a-6d4773dd6467",
   "metadata": {},
   "outputs": [
    {
     "data": {
      "text/plain": [
       "(10, 10)"
      ]
     },
     "execution_count": 76,
     "metadata": {},
     "output_type": "execute_result"
    }
   ],
   "source": [
    "l5=[10,10,10]\n",
    "min(l5),max(l5)"
   ]
  },
  {
   "cell_type": "code",
   "execution_count": 78,
   "id": "30804728-bfeb-4aac-b141-4aa1a6e9cca0",
   "metadata": {},
   "outputs": [
    {
     "data": {
      "text/plain": [
       "'\\n'"
      ]
     },
     "execution_count": 78,
     "metadata": {},
     "output_type": "execute_result"
    }
   ],
   "source": [
    "l6=[10,20,30,['A','B','C']]\n",
    "chr(10)  "
   ]
  },
  {
   "cell_type": "code",
   "execution_count": 80,
   "id": "262c6b56-6d09-41bd-8ffb-b7ce6f9020bf",
   "metadata": {},
   "outputs": [
    {
     "ename": "TypeError",
     "evalue": "'list' object cannot be interpreted as an integer",
     "output_type": "error",
     "traceback": [
      "\u001b[1;31m---------------------------------------------------------------------------\u001b[0m",
      "\u001b[1;31mTypeError\u001b[0m                                 Traceback (most recent call last)",
      "Cell \u001b[1;32mIn[80], line 1\u001b[0m\n\u001b[1;32m----> 1\u001b[0m \u001b[38;5;28mchr\u001b[39m([])\n",
      "\u001b[1;31mTypeError\u001b[0m: 'list' object cannot be interpreted as an integer"
     ]
    }
   ],
   "source": [
    "chr([])"
   ]
  },
  {
   "cell_type": "code",
   "execution_count": 82,
   "id": "0741b3e0-367c-49a9-b997-41865f183079",
   "metadata": {},
   "outputs": [
    {
     "ename": "TypeError",
     "evalue": "ord() expected string of length 1, but list found",
     "output_type": "error",
     "traceback": [
      "\u001b[1;31m---------------------------------------------------------------------------\u001b[0m",
      "\u001b[1;31mTypeError\u001b[0m                                 Traceback (most recent call last)",
      "Cell \u001b[1;32mIn[82], line 1\u001b[0m\n\u001b[1;32m----> 1\u001b[0m \u001b[38;5;28mord\u001b[39m([])\n",
      "\u001b[1;31mTypeError\u001b[0m: ord() expected string of length 1, but list found"
     ]
    }
   ],
   "source": [
    "ord([])"
   ]
  },
  {
   "cell_type": "code",
   "execution_count": 84,
   "id": "4e51bb12-d1ea-4fa3-a6b5-f36010a649da",
   "metadata": {},
   "outputs": [
    {
     "ename": "TypeError",
     "evalue": "'<' not supported between instances of 'list' and 'int'",
     "output_type": "error",
     "traceback": [
      "\u001b[1;31m---------------------------------------------------------------------------\u001b[0m",
      "\u001b[1;31mTypeError\u001b[0m                                 Traceback (most recent call last)",
      "Cell \u001b[1;32mIn[84], line 1\u001b[0m\n\u001b[1;32m----> 1\u001b[0m \u001b[38;5;28mmin\u001b[39m(l6)\n",
      "\u001b[1;31mTypeError\u001b[0m: '<' not supported between instances of 'list' and 'int'"
     ]
    }
   ],
   "source": [
    "min(l6)"
   ]
  },
  {
   "cell_type": "code",
   "execution_count": 92,
   "id": "d69f2b33-6e3a-4681-b8c1-dee60bebcd9e",
   "metadata": {},
   "outputs": [
    {
     "data": {
      "text/plain": [
       "([], [])"
      ]
     },
     "execution_count": 92,
     "metadata": {},
     "output_type": "execute_result"
    }
   ],
   "source": [
    "l7=[]\n",
    "min([l7]),max([l7])"
   ]
  },
  {
   "cell_type": "code",
   "execution_count": 94,
   "id": "5273847f-4d09-4744-9ffd-7b4add1de295",
   "metadata": {},
   "outputs": [
    {
     "ename": "ValueError",
     "evalue": "min() iterable argument is empty",
     "output_type": "error",
     "traceback": [
      "\u001b[1;31m---------------------------------------------------------------------------\u001b[0m",
      "\u001b[1;31mValueError\u001b[0m                                Traceback (most recent call last)",
      "Cell \u001b[1;32mIn[94], line 2\u001b[0m\n\u001b[0;32m      1\u001b[0m l7\u001b[38;5;241m=\u001b[39m[]\n\u001b[1;32m----> 2\u001b[0m \u001b[38;5;28mmin\u001b[39m([]),\u001b[38;5;28mmax\u001b[39m([])\n",
      "\u001b[1;31mValueError\u001b[0m: min() iterable argument is empty"
     ]
    }
   ],
   "source": [
    "l7=[]\n",
    "min([]),max([])"
   ]
  },
  {
   "cell_type": "code",
   "execution_count": 100,
   "id": "3bc40c3c-4c30-47e6-ba2c-b9fd25f5e48c",
   "metadata": {},
   "outputs": [
    {
     "data": {
      "text/plain": [
       "(0, 1, 1)"
      ]
     },
     "execution_count": 100,
     "metadata": {},
     "output_type": "execute_result"
    }
   ],
   "source": [
    " len([]),len([100]),len([''])"
   ]
  },
  {
   "cell_type": "code",
   "execution_count": 104,
   "id": "71ee6e4a-e3e6-4093-8e1f-5b34e13efbb5",
   "metadata": {},
   "outputs": [
    {
     "data": {
      "text/plain": [
       "''"
      ]
     },
     "execution_count": 104,
     "metadata": {},
     "output_type": "execute_result"
    }
   ],
   "source": [
    "min(['','a']) "
   ]
  },
  {
   "cell_type": "code",
   "execution_count": 108,
   "id": "f5b318bd-0fea-4dd6-938b-6b3f03016891",
   "metadata": {},
   "outputs": [
    {
     "data": {
      "text/plain": [
       "(3, 1)"
      ]
     },
     "execution_count": 108,
     "metadata": {},
     "output_type": "execute_result"
    }
   ],
   "source": [
    "len('100'),len([100])"
   ]
  },
  {
   "cell_type": "code",
   "execution_count": null,
   "id": "acb13bba-7c0c-4c1b-b539-ba975ad96431",
   "metadata": {},
   "outputs": [],
   "source": [
    "l1=[1,2,3,4]\n",
    "l2=['A','B','C','D']\n",
    "l3=[1,2,3,4,'a','b','c','d']\n",
    "l4=[10,20,30,'apple','banana','cherry',True,False,10.5,20.5,20+30j]\n",
    "l5=[10,10,10]\n",
    "l6=[10,20,30,['A','B','C']]\n",
    "l7=[]"
   ]
  },
  {
   "cell_type": "code",
   "execution_count": 124,
   "id": "1b00a6e4-08c0-43e7-9503-c5c1ff31b5bd",
   "metadata": {},
   "outputs": [
    {
     "data": {
      "text/plain": [
       "[1, 2, 3, 4]"
      ]
     },
     "execution_count": 124,
     "metadata": {},
     "output_type": "execute_result"
    }
   ],
   "source": [
    "sorted(l1)"
   ]
  },
  {
   "cell_type": "code",
   "execution_count": 126,
   "id": "1ddb527f-dbc5-44f4-9bb7-1b5aa0c0a9e2",
   "metadata": {},
   "outputs": [
    {
     "data": {
      "text/plain": [
       "['A', 'B', 'C', 'D']"
      ]
     },
     "execution_count": 126,
     "metadata": {},
     "output_type": "execute_result"
    }
   ],
   "source": [
    "sorted(l2)"
   ]
  },
  {
   "cell_type": "code",
   "execution_count": 128,
   "id": "edd7451d-1b06-4b1f-9706-fa5f03ddd7f8",
   "metadata": {},
   "outputs": [
    {
     "ename": "TypeError",
     "evalue": "'<' not supported between instances of 'str' and 'int'",
     "output_type": "error",
     "traceback": [
      "\u001b[1;31m---------------------------------------------------------------------------\u001b[0m",
      "\u001b[1;31mTypeError\u001b[0m                                 Traceback (most recent call last)",
      "Cell \u001b[1;32mIn[128], line 1\u001b[0m\n\u001b[1;32m----> 1\u001b[0m \u001b[38;5;28msorted\u001b[39m(l3)\n",
      "\u001b[1;31mTypeError\u001b[0m: '<' not supported between instances of 'str' and 'int'"
     ]
    }
   ],
   "source": [
    "sorted(l3)"
   ]
  },
  {
   "cell_type": "code",
   "execution_count": 130,
   "id": "6d2cec27-81e2-411c-beaa-3325f64e2808",
   "metadata": {},
   "outputs": [
    {
     "ename": "TypeError",
     "evalue": "'<' not supported between instances of 'str' and 'int'",
     "output_type": "error",
     "traceback": [
      "\u001b[1;31m---------------------------------------------------------------------------\u001b[0m",
      "\u001b[1;31mTypeError\u001b[0m                                 Traceback (most recent call last)",
      "Cell \u001b[1;32mIn[130], line 1\u001b[0m\n\u001b[1;32m----> 1\u001b[0m \u001b[38;5;28msorted\u001b[39m(l4)\n",
      "\u001b[1;31mTypeError\u001b[0m: '<' not supported between instances of 'str' and 'int'"
     ]
    }
   ],
   "source": [
    "sorted(l4)"
   ]
  },
  {
   "cell_type": "code",
   "execution_count": 132,
   "id": "e9bceff5-4b65-4d3a-99c3-355327e1ae2a",
   "metadata": {},
   "outputs": [
    {
     "data": {
      "text/plain": [
       "[10, 10, 10]"
      ]
     },
     "execution_count": 132,
     "metadata": {},
     "output_type": "execute_result"
    }
   ],
   "source": [
    "sorted(l5)"
   ]
  },
  {
   "cell_type": "code",
   "execution_count": 134,
   "id": "45598958-758c-461a-b2ed-37b2ff99cf67",
   "metadata": {},
   "outputs": [
    {
     "ename": "TypeError",
     "evalue": "'<' not supported between instances of 'list' and 'int'",
     "output_type": "error",
     "traceback": [
      "\u001b[1;31m---------------------------------------------------------------------------\u001b[0m",
      "\u001b[1;31mTypeError\u001b[0m                                 Traceback (most recent call last)",
      "Cell \u001b[1;32mIn[134], line 1\u001b[0m\n\u001b[1;32m----> 1\u001b[0m \u001b[38;5;28msorted\u001b[39m(l6)\n",
      "\u001b[1;31mTypeError\u001b[0m: '<' not supported between instances of 'list' and 'int'"
     ]
    }
   ],
   "source": [
    "sorted(l6)"
   ]
  },
  {
   "cell_type": "code",
   "execution_count": 136,
   "id": "037f066f-7071-468d-98bf-50501f5cb993",
   "metadata": {},
   "outputs": [
    {
     "data": {
      "text/plain": [
       "[]"
      ]
     },
     "execution_count": 136,
     "metadata": {},
     "output_type": "execute_result"
    }
   ],
   "source": [
    "sorted(l7)"
   ]
  },
  {
   "cell_type": "code",
   "execution_count": 142,
   "id": "e027df7c-e9dc-4be5-9731-67b4752369b1",
   "metadata": {},
   "outputs": [
    {
     "data": {
      "text/plain": [
       "<list_reverseiterator at 0x22db6a0f7c0>"
      ]
     },
     "execution_count": 142,
     "metadata": {},
     "output_type": "execute_result"
    }
   ],
   "source": [
    "reversed(l1)"
   ]
  },
  {
   "cell_type": "code",
   "execution_count": 144,
   "id": "3907659b-8f60-40d3-ba62-0f084cc7efca",
   "metadata": {},
   "outputs": [
    {
     "name": "stdout",
     "output_type": "stream",
     "text": [
      "4\n",
      "3\n",
      "2\n",
      "1\n"
     ]
    }
   ],
   "source": [
    "for i in reversed(l1):\n",
    "    print(i)"
   ]
  },
  {
   "cell_type": "code",
   "execution_count": 156,
   "id": "99962895-6c17-4c8c-8104-e9cff3917e03",
   "metadata": {},
   "outputs": [
    {
     "data": {
      "text/plain": [
       "[4, 3, 2, 1]"
      ]
     },
     "execution_count": 156,
     "metadata": {},
     "output_type": "execute_result"
    }
   ],
   "source": [
    "l1=[1,2,3,4]\n",
    "list(reversed(l1))"
   ]
  },
  {
   "cell_type": "code",
   "execution_count": 158,
   "id": "0c472333-c84b-4de5-98bb-4f23b2b4e257",
   "metadata": {},
   "outputs": [
    {
     "data": {
      "text/plain": [
       "[<list_reverseiterator at 0x22db57c0f70>]"
      ]
     },
     "execution_count": 158,
     "metadata": {},
     "output_type": "execute_result"
    }
   ],
   "source": [
    "[reversed(l1)]"
   ]
  },
  {
   "cell_type": "code",
   "execution_count": 160,
   "id": "6aa1fc73-c583-48c7-a5a3-9a6c2b390e55",
   "metadata": {},
   "outputs": [
    {
     "data": {
      "text/plain": [
       "['D', 'C', 'B', 'A']"
      ]
     },
     "execution_count": 160,
     "metadata": {},
     "output_type": "execute_result"
    }
   ],
   "source": [
    "list(reversed(l2)) "
   ]
  },
  {
   "cell_type": "code",
   "execution_count": 162,
   "id": "21eee6dc-6083-45ff-9e7e-a79605052fd4",
   "metadata": {},
   "outputs": [
    {
     "data": {
      "text/plain": [
       "['d', 'c', 'b', 'a', 4, 3, 2, 1]"
      ]
     },
     "execution_count": 162,
     "metadata": {},
     "output_type": "execute_result"
    }
   ],
   "source": [
    "list(reversed(l3))"
   ]
  },
  {
   "cell_type": "code",
   "execution_count": 164,
   "id": "70b32612-a9c9-455e-8a16-460e061cf34c",
   "metadata": {},
   "outputs": [
    {
     "data": {
      "text/plain": [
       "[(20+30j), 20.5, 10.5, False, True, 'cherry', 'banana', 'apple', 30, 20, 10]"
      ]
     },
     "execution_count": 164,
     "metadata": {},
     "output_type": "execute_result"
    }
   ],
   "source": [
    "list(reversed(l4))"
   ]
  },
  {
   "cell_type": "code",
   "execution_count": 166,
   "id": "aee1cef4-e450-4b29-a203-47850a61a264",
   "metadata": {},
   "outputs": [
    {
     "data": {
      "text/plain": [
       "[10, 10, 10]"
      ]
     },
     "execution_count": 166,
     "metadata": {},
     "output_type": "execute_result"
    }
   ],
   "source": [
    "list(reversed(l5))"
   ]
  },
  {
   "cell_type": "code",
   "execution_count": 168,
   "id": "7726f77a-2f00-4957-b6b3-f1f56ce4a51f",
   "metadata": {},
   "outputs": [
    {
     "data": {
      "text/plain": [
       "[['A', 'B', 'C'], 30, 20, 10]"
      ]
     },
     "execution_count": 168,
     "metadata": {},
     "output_type": "execute_result"
    }
   ],
   "source": [
    "list(reversed(l6))"
   ]
  },
  {
   "cell_type": "code",
   "execution_count": 172,
   "id": "b32b23b9-5d1d-4396-b5d1-517fd254835d",
   "metadata": {},
   "outputs": [
    {
     "data": {
      "text/plain": [
       "[]"
      ]
     },
     "execution_count": 172,
     "metadata": {},
     "output_type": "execute_result"
    }
   ],
   "source": [
    "list(reversed(l7))"
   ]
  },
  {
   "cell_type": "markdown",
   "id": "edae230d-f4ac-4461-be97-b1a79a5d6f31",
   "metadata": {},
   "source": [
    "- sorted will compare the elements\n",
    "- the same rules applicale for min and max\n",
    "- sorted never return ant error eventhough we have an empty list\n",
    "- min and max will give error if it has empty list\n",
    "- reversed only do reverse elements"
   ]
  },
  {
   "cell_type": "markdown",
   "id": "82c8d083-cad5-46c3-ba41-92de41da5ad9",
   "metadata": {},
   "source": [
    "## sum"
   ]
  },
  {
   "cell_type": "code",
   "execution_count": 175,
   "id": "2b5aa428-4a5c-49cc-b660-ff4d3f281d6b",
   "metadata": {},
   "outputs": [
    {
     "data": {
      "text/plain": [
       "10"
      ]
     },
     "execution_count": 175,
     "metadata": {},
     "output_type": "execute_result"
    }
   ],
   "source": [
    "sum(l1)"
   ]
  },
  {
   "cell_type": "code",
   "execution_count": 177,
   "id": "a7e0767a-12eb-402a-8a03-4351f61b1d45",
   "metadata": {},
   "outputs": [
    {
     "ename": "TypeError",
     "evalue": "unsupported operand type(s) for +: 'int' and 'str'",
     "output_type": "error",
     "traceback": [
      "\u001b[1;31m---------------------------------------------------------------------------\u001b[0m",
      "\u001b[1;31mTypeError\u001b[0m                                 Traceback (most recent call last)",
      "Cell \u001b[1;32mIn[177], line 1\u001b[0m\n\u001b[1;32m----> 1\u001b[0m \u001b[38;5;28msum\u001b[39m(l2)\n",
      "\u001b[1;31mTypeError\u001b[0m: unsupported operand type(s) for +: 'int' and 'str'"
     ]
    }
   ],
   "source": [
    "sum(l2)"
   ]
  },
  {
   "cell_type": "code",
   "execution_count": 180,
   "id": "cb0dd22e-d630-4631-a1de-fc82082ec105",
   "metadata": {},
   "outputs": [
    {
     "ename": "TypeError",
     "evalue": "unsupported operand type(s) for +: 'int' and 'str'",
     "output_type": "error",
     "traceback": [
      "\u001b[1;31m---------------------------------------------------------------------------\u001b[0m",
      "\u001b[1;31mTypeError\u001b[0m                                 Traceback (most recent call last)",
      "Cell \u001b[1;32mIn[180], line 1\u001b[0m\n\u001b[1;32m----> 1\u001b[0m \u001b[38;5;28msum\u001b[39m(l3)\n",
      "\u001b[1;31mTypeError\u001b[0m: unsupported operand type(s) for +: 'int' and 'str'"
     ]
    }
   ],
   "source": [
    "sum(l3)"
   ]
  },
  {
   "cell_type": "code",
   "execution_count": 182,
   "id": "0b42d4bb-cc3f-486f-ae88-0e02e5dc750c",
   "metadata": {},
   "outputs": [
    {
     "ename": "TypeError",
     "evalue": "unsupported operand type(s) for +: 'int' and 'str'",
     "output_type": "error",
     "traceback": [
      "\u001b[1;31m---------------------------------------------------------------------------\u001b[0m",
      "\u001b[1;31mTypeError\u001b[0m                                 Traceback (most recent call last)",
      "Cell \u001b[1;32mIn[182], line 1\u001b[0m\n\u001b[1;32m----> 1\u001b[0m \u001b[38;5;28msum\u001b[39m(l4)\n",
      "\u001b[1;31mTypeError\u001b[0m: unsupported operand type(s) for +: 'int' and 'str'"
     ]
    }
   ],
   "source": [
    "sum(l4)"
   ]
  },
  {
   "cell_type": "code",
   "execution_count": 184,
   "id": "246c7d4c-965d-43d3-8871-4669aa2415f7",
   "metadata": {},
   "outputs": [
    {
     "data": {
      "text/plain": [
       "30"
      ]
     },
     "execution_count": 184,
     "metadata": {},
     "output_type": "execute_result"
    }
   ],
   "source": [
    "sum(l5)"
   ]
  },
  {
   "cell_type": "code",
   "execution_count": 1,
   "id": "ecaa0bb9-e452-405d-b800-faead1559d12",
   "metadata": {},
   "outputs": [
    {
     "ename": "TypeError",
     "evalue": "unsupported operand type(s) for +: 'int' and 'list'",
     "output_type": "error",
     "traceback": [
      "\u001b[1;31m---------------------------------------------------------------------------\u001b[0m",
      "\u001b[1;31mTypeError\u001b[0m                                 Traceback (most recent call last)",
      "Cell \u001b[1;32mIn[1], line 2\u001b[0m\n\u001b[0;32m      1\u001b[0m l6\u001b[38;5;241m=\u001b[39m[\u001b[38;5;241m10\u001b[39m,\u001b[38;5;241m20\u001b[39m,\u001b[38;5;241m30\u001b[39m,[\u001b[38;5;124m'\u001b[39m\u001b[38;5;124mA\u001b[39m\u001b[38;5;124m'\u001b[39m,\u001b[38;5;124m'\u001b[39m\u001b[38;5;124mB\u001b[39m\u001b[38;5;124m'\u001b[39m,\u001b[38;5;124m'\u001b[39m\u001b[38;5;124mC\u001b[39m\u001b[38;5;124m'\u001b[39m]]\n\u001b[1;32m----> 2\u001b[0m \u001b[38;5;28msum\u001b[39m(l6)\n",
      "\u001b[1;31mTypeError\u001b[0m: unsupported operand type(s) for +: 'int' and 'list'"
     ]
    }
   ],
   "source": [
    "l6=[10,20,30,['A','B','C']]\n",
    "sum(l6)"
   ]
  },
  {
   "cell_type": "code",
   "execution_count": 3,
   "id": "1f750041-d505-4603-abe1-310f669b299e",
   "metadata": {},
   "outputs": [
    {
     "data": {
      "text/plain": [
       "0"
      ]
     },
     "execution_count": 3,
     "metadata": {},
     "output_type": "execute_result"
    }
   ],
   "source": [
    "l7=[]\n",
    "sum(l7)"
   ]
  },
  {
   "cell_type": "code",
   "execution_count": 7,
   "id": "f4599f75-b679-44ac-9d0a-36c9dfed63ab",
   "metadata": {},
   "outputs": [
    {
     "data": {
      "text/plain": [
       "700"
      ]
     },
     "execution_count": 7,
     "metadata": {},
     "output_type": "execute_result"
    }
   ],
   "source": [
    "sum([100,200,300],start=100)"
   ]
  },
  {
   "cell_type": "code",
   "execution_count": 9,
   "id": "4b18766e-0a7b-4243-be73-aaac7af4c61b",
   "metadata": {},
   "outputs": [
    {
     "data": {
      "text/plain": [
       "160"
      ]
     },
     "execution_count": 9,
     "metadata": {},
     "output_type": "execute_result"
    }
   ],
   "source": [
    "sum([10,20,30],start=100)"
   ]
  },
  {
   "cell_type": "code",
   "execution_count": null,
   "id": "1a439a37-e538-4dbc-b617-0b9c0485c882",
   "metadata": {},
   "outputs": [],
   "source": [
    "sum=0\n",
    "sum=sum+i"
   ]
  },
  {
   "cell_type": "markdown",
   "id": "74076e18-0a3a-45af-9a2f-132fede18e12",
   "metadata": {},
   "source": [
    "### Index"
   ]
  },
  {
   "cell_type": "code",
   "execution_count": 14,
   "id": "e2fdbfe1-d2bb-4f4c-9e31-9c2a113a2ce0",
   "metadata": {},
   "outputs": [],
   "source": [
    "l1=[1,2,3,4,'A','B','C']\n",
    "\n",
    "#  -7  -6  -5  -4   -3   -2     -1\n",
    "# [1,  2,  3,  4,  'A',  'B',  'C']\n",
    "# 0    1   2   3   4      5     6"
   ]
  },
  {
   "cell_type": "code",
   "execution_count": 18,
   "id": "17c66982-b864-4e34-9ba4-6482195f2124",
   "metadata": {},
   "outputs": [
    {
     "data": {
      "text/plain": [
       "(1, 'A')"
      ]
     },
     "execution_count": 18,
     "metadata": {},
     "output_type": "execute_result"
    }
   ],
   "source": [
    "l1[0],l1[-3]"
   ]
  },
  {
   "cell_type": "code",
   "execution_count": 28,
   "id": "b3914182-28f2-4596-96d8-5a1ee3a878d3",
   "metadata": {},
   "outputs": [
    {
     "name": "stdout",
     "output_type": "stream",
     "text": [
      "the positive index of 10 is:0\n",
      "the positive index of 20 is:1\n",
      "the positive index of 30 is:2\n",
      "the positive index of 40 is:3\n",
      "the positive index of A is:4\n",
      "the positive index of B is:5\n",
      "the positive index of C is:6\n"
     ]
    }
   ],
   "source": [
    "# by using for loop print the positive index\n",
    "l1=[10,20,30,40,'A','B','C']\n",
    "for i in range(len(l1)):\n",
    "    print(f\"the positive index of {l1[i]} is:{i}\")\n"
   ]
  },
  {
   "cell_type": "code",
   "execution_count": 42,
   "id": "681c481e-6dc9-43f5-819b-bcf651c22637",
   "metadata": {},
   "outputs": [
    {
     "name": "stdout",
     "output_type": "stream",
     "text": [
      "the negative index of 10 is:-7\n",
      "the negative index of 20 is:-6\n",
      "the negative index of 30 is:-5\n",
      "the negative index of 40 is:-4\n",
      "the negative index of A is:-3\n",
      "the negative index of B is:-2\n",
      "the negative index of C is:-1\n"
     ]
    }
   ],
   "source": [
    "# by using for loop print the positive index\n",
    "n=len(l1)\n",
    "l1=[10,20,30,40,'A','B','C']\n",
    "for i in range(n):\n",
    "    print(f\"the negative index of {l1[i]} is:{i-n}\")"
   ]
  },
  {
   "cell_type": "code",
   "execution_count": 232,
   "id": "e2512d44-0862-493e-bb77-bcadb9c38544",
   "metadata": {},
   "outputs": [
    {
     "name": "stdout",
     "output_type": "stream",
     "text": [
      "the 0 positive index of 10 and negative index of -7 \n",
      "the 1 positive index of 20 and negative index of -6 \n",
      "the 2 positive index of 30 and negative index of -5 \n",
      "the 3 positive index of 40 and negative index of -4 \n",
      "the 4 positive index of A and negative index of -3 \n",
      "the 5 positive index of B and negative index of -2 \n",
      "the 6 positive index of C and negative index of -1 \n"
     ]
    }
   ],
   "source": [
    "# by using for loop print both positive index and negative index\n",
    "l1=l1=[10,20,30,40,'A','B','C']\n",
    "for i in range(len(l1)):\n",
    "    print(f\"the {i} positive index of {l1[i]} and negative index of {i-len(l1)} \")"
   ]
  },
  {
   "cell_type": "code",
   "execution_count": 48,
   "id": "1715a3fd-22bf-4b05-aa57-b2363ae8d361",
   "metadata": {},
   "outputs": [
    {
     "data": {
      "text/plain": [
       "10"
      ]
     },
     "execution_count": 48,
     "metadata": {},
     "output_type": "execute_result"
    }
   ],
   "source": [
    "l=[10,20,30,]\n",
    "l[0]"
   ]
  },
  {
   "cell_type": "code",
   "execution_count": 66,
   "id": "2488dbf7-9e9a-48d2-81fd-1ee02b3a7bcf",
   "metadata": {},
   "outputs": [
    {
     "ename": "TypeError",
     "evalue": "object of type 'int' has no len()",
     "output_type": "error",
     "traceback": [
      "\u001b[1;31m---------------------------------------------------------------------------\u001b[0m",
      "\u001b[1;31mTypeError\u001b[0m                                 Traceback (most recent call last)",
      "Cell \u001b[1;32mIn[66], line 3\u001b[0m\n\u001b[0;32m      1\u001b[0m l\u001b[38;5;241m=\u001b[39m[[\u001b[38;5;241m10\u001b[39m,\u001b[38;5;241m20\u001b[39m,\u001b[38;5;241m30\u001b[39m]]\n\u001b[0;32m      2\u001b[0m \u001b[38;5;66;03m# how to access the 10\u001b[39;00m\n\u001b[1;32m----> 3\u001b[0m \u001b[38;5;28mlen\u001b[39m(\u001b[38;5;241m1\u001b[39m)\n",
      "\u001b[1;31mTypeError\u001b[0m: object of type 'int' has no len()"
     ]
    }
   ],
   "source": [
    "l=[[10,20,30]]\n",
    "# how to access the 10\n",
    "len(1)"
   ]
  },
  {
   "cell_type": "code",
   "execution_count": 68,
   "id": "a47f9855-b85c-470a-ba2c-6e7f4141b97a",
   "metadata": {},
   "outputs": [
    {
     "data": {
      "text/plain": [
       "10"
      ]
     },
     "execution_count": 68,
     "metadata": {},
     "output_type": "execute_result"
    }
   ],
   "source": [
    "l[0][0]"
   ]
  },
  {
   "cell_type": "code",
   "execution_count": 76,
   "id": "be5dcdd8-884a-4c05-8e13-42786119c034",
   "metadata": {},
   "outputs": [
    {
     "data": {
      "text/plain": [
       "[10, 20, 30]"
      ]
     },
     "execution_count": 76,
     "metadata": {},
     "output_type": "execute_result"
    }
   ],
   "source": [
    "l=[[10,20,30,]]\n",
    "# how many elements are there in a list:3\n",
    "l[0]"
   ]
  },
  {
   "cell_type": "code",
   "execution_count": 80,
   "id": "e0a97e6a-4e58-473a-97b3-9e8524e2aa2d",
   "metadata": {},
   "outputs": [
    {
     "data": {
      "text/plain": [
       "(10, 20, 30)"
      ]
     },
     "execution_count": 80,
     "metadata": {},
     "output_type": "execute_result"
    }
   ],
   "source": [
    "l=[\n",
    "    [10,20,30]\n",
    "]\n",
    "# how many elements are there in a list:1 element\n",
    "#len(1)\n",
    "l[0][0],l[0][1],l[0][2]"
   ]
  },
  {
   "cell_type": "code",
   "execution_count": 96,
   "id": "fb125b78-3aca-4cf3-84a8-95db3c67fb23",
   "metadata": {},
   "outputs": [
    {
     "data": {
      "text/plain": [
       "['A', 'B']"
      ]
     },
     "execution_count": 96,
     "metadata": {},
     "output_type": "execute_result"
    }
   ],
   "source": [
    "l1=[10,20,['A','B']]\n",
    "# how many elements are there: 3\n",
    "#len(l1)\n",
    "# how can we access 0, 1, 2\n",
    "l1[2]"
   ]
  },
  {
   "cell_type": "code",
   "execution_count": 98,
   "id": "9fa0e8b2-76fc-4252-bc72-02769d3ea72f",
   "metadata": {},
   "outputs": [
    {
     "data": {
      "text/plain": [
       "'A'"
      ]
     },
     "execution_count": 98,
     "metadata": {},
     "output_type": "execute_result"
    }
   ],
   "source": [
    "l1=[10,20,['A','B']]\n",
    "l1[2][0]"
   ]
  },
  {
   "cell_type": "code",
   "execution_count": 238,
   "id": "fc3cdd0a-8dd7-4c22-b61f-993ea072686a",
   "metadata": {},
   "outputs": [
    {
     "data": {
      "text/plain": [
       "'Apple'"
      ]
     },
     "execution_count": 238,
     "metadata": {},
     "output_type": "execute_result"
    }
   ],
   "source": [
    "l1=[1,2,3,4,[5,6,['Apple']]]\n",
    "l1[4][2][0]"
   ]
  },
  {
   "cell_type": "code",
   "execution_count": 146,
   "id": "58bd3322-4a4e-4ded-8e11-d8519437b231",
   "metadata": {},
   "outputs": [
    {
     "data": {
      "text/plain": [
       "'cherry'"
      ]
     },
     "execution_count": 146,
     "metadata": {},
     "output_type": "execute_result"
    }
   ],
   "source": [
    "l1=[1,2,3,[4,[5,['cherry']]]]\n",
    "l1[3][1][1][0]"
   ]
  },
  {
   "cell_type": "code",
   "execution_count": 136,
   "id": "aed08098-590b-4a6d-8d82-d72b721d8063",
   "metadata": {},
   "outputs": [
    {
     "data": {
      "text/plain": [
       "[1, 2, 3, [4, [5, ['cherry']]]]"
      ]
     },
     "execution_count": 136,
     "metadata": {},
     "output_type": "execute_result"
    }
   ],
   "source": [
    "l1=[1,2,3,[4,[5,['cherry']]]]\n",
    "l1"
   ]
  },
  {
   "cell_type": "code",
   "execution_count": 194,
   "id": "005c0fd1-1b6c-467f-bd2c-2ac8bfb9181b",
   "metadata": {},
   "outputs": [
    {
     "data": {
      "text/plain": [
       "'onion'"
      ]
     },
     "execution_count": 194,
     "metadata": {},
     "output_type": "execute_result"
    }
   ],
   "source": [
    "l1=[[[[[[[[['onion']]]]]]]]]\n",
    "l1[0][0][0][0][0][0][0][0][0]"
   ]
  },
  {
   "cell_type": "code",
   "execution_count": 180,
   "id": "3baa5601-bbc5-49d2-b022-f3c9882e5d9e",
   "metadata": {},
   "outputs": [
    {
     "data": {
      "text/plain": [
       "['Apple', ['kashmir', ['india', ['mumbai', ['sharuk', ['film', ['DDlj']]]]]]]"
      ]
     },
     "execution_count": 180,
     "metadata": {},
     "output_type": "execute_result"
    }
   ],
   "source": [
    "l1=['Apple',['kashmir',['india',['mumbai',['sharuk',['film',['DDlj']]]]]]]\n",
    "l1   "
   ]
  },
  {
   "cell_type": "code",
   "execution_count": 190,
   "id": "287719ad-ed20-415d-b03d-202259bb5b91",
   "metadata": {},
   "outputs": [
    {
     "data": {
      "text/plain": [
       "'DDlj'"
      ]
     },
     "execution_count": 190,
     "metadata": {},
     "output_type": "execute_result"
    }
   ],
   "source": [
    "l1[1][1][1][1][1][1][0]"
   ]
  },
  {
   "cell_type": "markdown",
   "id": "526681a3-76c8-488b-922c-3ba9faf22637",
   "metadata": {},
   "source": [
    "**Mutuable vs immutable**"
   ]
  },
  {
   "cell_type": "code",
   "execution_count": 16,
   "id": "76fd0031-2045-44ae-a8ea-6a258b0f77c8",
   "metadata": {},
   "outputs": [
    {
     "ename": "TypeError",
     "evalue": "'str' object does not support item assignment",
     "output_type": "error",
     "traceback": [
      "\u001b[1;31m---------------------------------------------------------------------------\u001b[0m",
      "\u001b[1;31mTypeError\u001b[0m                                 Traceback (most recent call last)",
      "Cell \u001b[1;32mIn[16], line 2\u001b[0m\n\u001b[0;32m      1\u001b[0m str1\u001b[38;5;241m=\u001b[39m\u001b[38;5;124m'\u001b[39m\u001b[38;5;124mwelcome\u001b[39m\u001b[38;5;124m'\u001b[39m\n\u001b[1;32m----> 2\u001b[0m str1[\u001b[38;5;241m2\u001b[39m]\u001b[38;5;241m=\u001b[39m\u001b[38;5;124m'\u001b[39m\u001b[38;5;124mL\u001b[39m\u001b[38;5;124m'\u001b[39m\n\u001b[0;32m      3\u001b[0m str1\n",
      "\u001b[1;31mTypeError\u001b[0m: 'str' object does not support item assignment"
     ]
    }
   ],
   "source": [
    "str1='welcome'\n",
    "str1[2]='L'\n",
    "str1"
   ]
  },
  {
   "cell_type": "code",
   "execution_count": 12,
   "id": "e79c5a87-d092-47d3-ba11-4f7e039c8bd0",
   "metadata": {},
   "outputs": [
    {
     "data": {
      "text/plain": [
       "['w', 'e', 'L', 'c', 'o', 'm', 'e']"
      ]
     },
     "execution_count": 12,
     "metadata": {},
     "output_type": "execute_result"
    }
   ],
   "source": [
    "l1=['w','e','l','c','o','m','e']\n",
    "l1[2]='L'\n",
    "l1"
   ]
  },
  {
   "cell_type": "markdown",
   "id": "d2093012-88f4-4b89-9091-da4972b6c09b",
   "metadata": {},
   "source": [
    "- we can change the list elements using index"
   ]
  },
  {
   "cell_type": "markdown",
   "id": "ba93a08c-60e1-4485-b061-6fd2f68a6f03",
   "metadata": {},
   "source": [
    "**concatenation**\n"
   ]
  },
  {
   "cell_type": "code",
   "execution_count": 18,
   "id": "34e0b750-e3f9-43a4-9d77-7e2061849d96",
   "metadata": {},
   "outputs": [
    {
     "data": {
      "text/plain": [
       "'hellopython'"
      ]
     },
     "execution_count": 18,
     "metadata": {},
     "output_type": "execute_result"
    }
   ],
   "source": [
    "s1='hello'\n",
    "s2='python'\n",
    "s1+s2"
   ]
  },
  {
   "cell_type": "code",
   "execution_count": null,
   "id": "4b3cb0cd-206d-4e16-bfd9-c2ffa301eb16",
   "metadata": {},
   "outputs": [],
   "source": [
    "s1*s2 # NW\n",
    "s1-s2 # Nw\n",
    "s1/s2 # Nw"
   ]
  },
  {
   "cell_type": "code",
   "execution_count": 22,
   "id": "5dd9aafd-5e83-40bb-bbd9-46b9aee09b66",
   "metadata": {},
   "outputs": [
    {
     "data": {
      "text/plain": [
       "'hellohello'"
      ]
     },
     "execution_count": 22,
     "metadata": {},
     "output_type": "execute_result"
    }
   ],
   "source": [
    "s1*2"
   ]
  },
  {
   "cell_type": "code",
   "execution_count": 24,
   "id": "ddfbc433-5532-45f2-be12-f8769ee8e90c",
   "metadata": {},
   "outputs": [
    {
     "data": {
      "text/plain": [
       "['h', 'e', 'l', 'l', 'o', 'p', 'y', 't', 'h', 'o', 'n']"
      ]
     },
     "execution_count": 24,
     "metadata": {},
     "output_type": "execute_result"
    }
   ],
   "source": [
    "l1=['h','e','l','l','o']\n",
    "l2=['p','y','t','h','o','n']\n",
    "l1+l2"
   ]
  },
  {
   "cell_type": "code",
   "execution_count": 26,
   "id": "9c3c7710-ff8d-4a32-a416-cf22f32ebcaf",
   "metadata": {},
   "outputs": [
    {
     "data": {
      "text/plain": [
       "['h', 'e', 'l', 'l', 'o', 'h', 'e', 'l', 'l', 'o']"
      ]
     },
     "execution_count": 26,
     "metadata": {},
     "output_type": "execute_result"
    }
   ],
   "source": [
    "l1*2"
   ]
  },
  {
   "cell_type": "code",
   "execution_count": null,
   "id": "64c5e622-f203-481e-ac3a-d38f83f2517c",
   "metadata": {},
   "outputs": [],
   "source": [
    "l1-l2  # Nw\n",
    "l1*l2  # Nw\n",
    "l1/l2  # Nw"
   ]
  },
  {
   "cell_type": "markdown",
   "id": "10f82bd2-4e6f-4b6c-985d-ade91a38ff96",
   "metadata": {},
   "source": [
    "**Slicing**"
   ]
  },
  {
   "cell_type": "code",
   "execution_count": 57,
   "id": "acd115ff-88b8-4bc0-b9a4-1ff5a88e10f6",
   "metadata": {},
   "outputs": [],
   "source": [
    "l1=[1,2,3,4,5,'A','B','C','D','10.5',True,10.5,100,200]"
   ]
  },
  {
   "cell_type": "code",
   "execution_count": 59,
   "id": "09f3c0ba-ae77-44d8-be28-d6f837b06440",
   "metadata": {},
   "outputs": [
    {
     "data": {
      "text/plain": [
       "[1, 2, 3, 4, 5, 'A', 'B', 'C', 'D', '10.5', True, 10.5, 100, 200]"
      ]
     },
     "execution_count": 59,
     "metadata": {},
     "output_type": "execute_result"
    }
   ],
   "source": [
    "l1[:]"
   ]
  },
  {
   "cell_type": "code",
   "execution_count": 61,
   "id": "095a5e86-cfd7-4a9e-904a-9b2eefa1c4b2",
   "metadata": {},
   "outputs": [
    {
     "data": {
      "text/plain": [
       "[1, 2, 3, 4, 5, 'A', 'B', 'C', 'D', '10.5', True, 10.5, 100, 200]"
      ]
     },
     "execution_count": 61,
     "metadata": {},
     "output_type": "execute_result"
    }
   ],
   "source": [
    "l1[::]"
   ]
  },
  {
   "cell_type": "code",
   "execution_count": 63,
   "id": "ffa345de-206a-4405-888f-8c02ff0b937f",
   "metadata": {},
   "outputs": [
    {
     "data": {
      "text/plain": [
       "[200, 100, 10.5, True, '10.5', 'D', 'C', 'B', 'A', 5, 4, 3, 2, 1]"
      ]
     },
     "execution_count": 63,
     "metadata": {},
     "output_type": "execute_result"
    }
   ],
   "source": [
    "l1[::-1]"
   ]
  },
  {
   "cell_type": "code",
   "execution_count": 65,
   "id": "ac496099-e1d7-4d23-8898-b516a18d280d",
   "metadata": {},
   "outputs": [
    {
     "data": {
      "text/plain": [
       "[3, 5, 'B', 'D', True, 100]"
      ]
     },
     "execution_count": 65,
     "metadata": {},
     "output_type": "execute_result"
    }
   ],
   "source": [
    "l1[2:14:2]"
   ]
  },
  {
   "cell_type": "code",
   "execution_count": 67,
   "id": "85756b99-105e-42c6-8069-74f0890664ce",
   "metadata": {},
   "outputs": [
    {
     "data": {
      "text/plain": [
       "[]"
      ]
     },
     "execution_count": 67,
     "metadata": {},
     "output_type": "execute_result"
    }
   ],
   "source": [
    "l1[2:14:-2]"
   ]
  },
  {
   "cell_type": "code",
   "execution_count": 69,
   "id": "c3b6df13-b6bf-477c-b90d-9c4bc0069e28",
   "metadata": {},
   "outputs": [
    {
     "data": {
      "text/plain": [
       "[]"
      ]
     },
     "execution_count": 69,
     "metadata": {},
     "output_type": "execute_result"
    }
   ],
   "source": [
    "l1[2:-14:2]"
   ]
  },
  {
   "cell_type": "code",
   "execution_count": 71,
   "id": "a0a0db15-0601-428e-9895-1363d15f039d",
   "metadata": {},
   "outputs": [
    {
     "data": {
      "text/plain": [
       "[100]"
      ]
     },
     "execution_count": 71,
     "metadata": {},
     "output_type": "execute_result"
    }
   ],
   "source": [
    "l1[-2:14:2]"
   ]
  },
  {
   "cell_type": "code",
   "execution_count": 87,
   "id": "21aa8a75-6669-48fb-a0b4-872078fb1372",
   "metadata": {},
   "outputs": [
    {
     "data": {
      "text/plain": [
       "[100, True, 'D', 'B', 5, 3]"
      ]
     },
     "execution_count": 87,
     "metadata": {},
     "output_type": "execute_result"
    }
   ],
   "source": [
    "l1[-2:-14:-2]"
   ]
  },
  {
   "cell_type": "code",
   "execution_count": 77,
   "id": "b5e48f64-527e-4fa5-bec5-af156c6afc5f",
   "metadata": {},
   "outputs": [
    {
     "data": {
      "text/plain": [
       "[]"
      ]
     },
     "execution_count": 77,
     "metadata": {},
     "output_type": "execute_result"
    }
   ],
   "source": [
    "l1[14:2:2]"
   ]
  },
  {
   "cell_type": "code",
   "execution_count": 79,
   "id": "647771f4-0d73-4439-a00a-026f673efa69",
   "metadata": {},
   "outputs": [
    {
     "data": {
      "text/plain": [
       "[200, 10.5, '10.5', 'C', 'A', 4]"
      ]
     },
     "execution_count": 79,
     "metadata": {},
     "output_type": "execute_result"
    }
   ],
   "source": [
    "l1[14:2:-2]"
   ]
  },
  {
   "cell_type": "code",
   "execution_count": 81,
   "id": "0664f700-6b28-4f89-b622-77e54060c5c2",
   "metadata": {},
   "outputs": [
    {
     "data": {
      "text/plain": [
       "[]"
      ]
     },
     "execution_count": 81,
     "metadata": {},
     "output_type": "execute_result"
    }
   ],
   "source": [
    "l1[14:-2:2]"
   ]
  },
  {
   "cell_type": "code",
   "execution_count": 89,
   "id": "73a8e806-ccb0-4b39-9bd4-6d5c18de848a",
   "metadata": {},
   "outputs": [
    {
     "data": {
      "text/plain": [
       "[1]"
      ]
     },
     "execution_count": 89,
     "metadata": {},
     "output_type": "execute_result"
    }
   ],
   "source": [
    "l1[-14:2:2]"
   ]
  },
  {
   "cell_type": "code",
   "execution_count": 85,
   "id": "0a4c0df3-adb2-4bce-8fac-d0981dac1d89",
   "metadata": {},
   "outputs": [
    {
     "data": {
      "text/plain": [
       "[]"
      ]
     },
     "execution_count": 85,
     "metadata": {},
     "output_type": "execute_result"
    }
   ],
   "source": [
    "l1[-14:-2:-2]"
   ]
  },
  {
   "cell_type": "code",
   "execution_count": null,
   "id": "67f4d9f6-32a2-4d8d-aff5-772e2c8d038e",
   "metadata": {},
   "outputs": [],
   "source": [
    "l1=[1,2,3,4,5,'A','B','C','D','10.5',True,10.5,100,200]\n",
    "l1[:]       # w\n",
    "l1[::]      # w\n",
    "l1[::-1]    # w\n",
    "l1[2:14:2]  # w\n",
    "l1[2:14:-2] # nw \n",
    "l1[2:-14:2] # nw \n",
    "l1[-2:14:2]  # w\n",
    "l1[-2:-14:-2] # w\n",
    "l1[14:2:2]  # nw\n",
    "l1[14:2:-2] # w\n",
    "l1[14:-2:2] #nw\n",
    "l1[-14:2:2]   # w\n",
    "l1[-14:-2:-2] # Nw"
   ]
  },
  {
   "cell_type": "markdown",
   "id": "011132ef-5db9-4aab-a2ec-02f652e02187",
   "metadata": {},
   "source": [
    "**Methods**"
   ]
  },
  {
   "cell_type": "code",
   "execution_count": 1,
   "id": "f85d5782-04f6-4d8e-b9a6-46cfbd4e3d6f",
   "metadata": {},
   "outputs": [
    {
     "data": {
      "text/plain": [
       "['__add__',\n",
       " '__class__',\n",
       " '__class_getitem__',\n",
       " '__contains__',\n",
       " '__delattr__',\n",
       " '__delitem__',\n",
       " '__dir__',\n",
       " '__doc__',\n",
       " '__eq__',\n",
       " '__format__',\n",
       " '__ge__',\n",
       " '__getattribute__',\n",
       " '__getitem__',\n",
       " '__getstate__',\n",
       " '__gt__',\n",
       " '__hash__',\n",
       " '__iadd__',\n",
       " '__imul__',\n",
       " '__init__',\n",
       " '__init_subclass__',\n",
       " '__iter__',\n",
       " '__le__',\n",
       " '__len__',\n",
       " '__lt__',\n",
       " '__mul__',\n",
       " '__ne__',\n",
       " '__new__',\n",
       " '__reduce__',\n",
       " '__reduce_ex__',\n",
       " '__repr__',\n",
       " '__reversed__',\n",
       " '__rmul__',\n",
       " '__setattr__',\n",
       " '__setitem__',\n",
       " '__sizeof__',\n",
       " '__str__',\n",
       " '__subclasshook__',\n",
       " 'append',\n",
       " 'clear',\n",
       " 'copy',\n",
       " 'count',\n",
       " 'extend',\n",
       " 'index',\n",
       " 'insert',\n",
       " 'pop',\n",
       " 'remove',\n",
       " 'reverse',\n",
       " 'sort']"
      ]
     },
     "execution_count": 1,
     "metadata": {},
     "output_type": "execute_result"
    }
   ],
   "source": [
    "dir([])"
   ]
  },
  {
   "cell_type": "code",
   "execution_count": null,
   "id": "ae188b5a-d77b-4176-875f-0bbec0888d95",
   "metadata": {},
   "outputs": [],
   "source": [
    " 'append',\n",
    " 'clear',\n",
    " 'copy',\n",
    " 'count',\n",
    " 'extend',\n",
    " 'index',\n",
    " 'insert',\n",
    " 'pop',\n",
    " 'remove',\n",
    " 'reverse',\n",
    " 'sort']"
   ]
  },
  {
   "cell_type": "code",
   "execution_count": null,
   "id": "a7175422-e3e8-45e2-b78c-804e0ac31f19",
   "metadata": {},
   "outputs": [],
   "source": [
    "- clear\n",
    "- copy \n",
    "- count\n",
    "- reverse\n",
    "- sort"
   ]
  },
  {
   "cell_type": "code",
   "execution_count": 3,
   "id": "7b5ac2d5-0b5d-4d10-abaf-6fe822638408",
   "metadata": {},
   "outputs": [
    {
     "data": {
      "text/plain": [
       "[10, 20, 30, 40]"
      ]
     },
     "execution_count": 3,
     "metadata": {},
     "output_type": "execute_result"
    }
   ],
   "source": [
    "l1=[10,20,30,40]\n",
    "l1"
   ]
  },
  {
   "cell_type": "markdown",
   "id": "0cf47532-c811-4cd0-a4fb-d67a90806d31",
   "metadata": {},
   "source": [
    "**clear**"
   ]
  },
  {
   "cell_type": "code",
   "execution_count": 5,
   "id": "c664b5b0-5901-40a2-8827-611ff7276158",
   "metadata": {},
   "outputs": [],
   "source": [
    "l1.clear()"
   ]
  },
  {
   "cell_type": "code",
   "execution_count": 7,
   "id": "28f77e8f-4a03-4b7d-8668-b7ed938a2408",
   "metadata": {},
   "outputs": [
    {
     "data": {
      "text/plain": [
       "[]"
      ]
     },
     "execution_count": 7,
     "metadata": {},
     "output_type": "execute_result"
    }
   ],
   "source": [
    "l1"
   ]
  },
  {
   "cell_type": "markdown",
   "id": "05bb0825-867e-4289-a759-21bd617a753f",
   "metadata": {},
   "source": [
    "**copy**"
   ]
  },
  {
   "cell_type": "code",
   "execution_count": 11,
   "id": "c81b3b0f-78b1-44fc-81b5-4a95a9572e50",
   "metadata": {},
   "outputs": [
    {
     "data": {
      "text/plain": [
       "[10, 20, 30, 40]"
      ]
     },
     "execution_count": 11,
     "metadata": {},
     "output_type": "execute_result"
    }
   ],
   "source": [
    "l1=[10,20,30,40]\n",
    "l1.copy()"
   ]
  },
  {
   "cell_type": "code",
   "execution_count": 13,
   "id": "12e528ef-ab2a-42a0-bea5-28dbb363e99e",
   "metadata": {},
   "outputs": [
    {
     "name": "stdout",
     "output_type": "stream",
     "text": [
      "l2: [10, 20, 30, 40]\n",
      "l1: []\n"
     ]
    }
   ],
   "source": [
    "l1=[10,20,30,40]\n",
    "l2=l1.copy()\n",
    "l1.clear()\n",
    "print('l2:',l2)\n",
    "print('l1:',l1)"
   ]
  },
  {
   "cell_type": "markdown",
   "id": "9b27349f-06f5-4120-85cb-c499f5c9b023",
   "metadata": {},
   "source": [
    "**reversed vs reverse** \n",
    "- reversed is a inbuilt function\n",
    "- reversed can be applicable all **iterable**\n",
    "- reversed applicable for **strings,list,tuple,dict etc**\n",
    "- reversed(string), reversed(list), reversed(tuple) etc\n",
    "- **reverse**\n",
    "- reverse is a method is belongs to only list\n",
    "- reverse method can not applicable to strings tuple and dict\n",
    "- list.reverse() "
   ]
  },
  {
   "cell_type": "code",
   "execution_count": 18,
   "id": "2f2ab5cb-23ca-420c-83d7-9351cacf04d8",
   "metadata": {},
   "outputs": [
    {
     "data": {
      "text/plain": [
       "['D', 'C', 'B', 'A', 40, 30, 20, 10]"
      ]
     },
     "execution_count": 18,
     "metadata": {},
     "output_type": "execute_result"
    }
   ],
   "source": [
    "l1=[10,20,30,40,'A','B','C','D']\n",
    "l1.reverse()\n",
    "l1\n",
    "# revesre the elements save the output\n",
    "# in same variable\n",
    "# it is indicates as **INPLACE** \n",
    "# some times inplace=True available"
   ]
  },
  {
   "cell_type": "code",
   "execution_count": 20,
   "id": "075bed14-561b-4fc5-a73f-c919047c16fa",
   "metadata": {},
   "outputs": [
    {
     "ename": "AttributeError",
     "evalue": "'str' object has no attribute 'reverse'",
     "output_type": "error",
     "traceback": [
      "\u001b[1;31m---------------------------------------------------------------------------\u001b[0m",
      "\u001b[1;31mAttributeError\u001b[0m                            Traceback (most recent call last)",
      "Cell \u001b[1;32mIn[20], line 2\u001b[0m\n\u001b[0;32m      1\u001b[0m str1\u001b[38;5;241m=\u001b[39m\u001b[38;5;124m'\u001b[39m\u001b[38;5;124mhello how are you\u001b[39m\u001b[38;5;124m'\u001b[39m\n\u001b[1;32m----> 2\u001b[0m str1\u001b[38;5;241m.\u001b[39mreverse()\n",
      "\u001b[1;31mAttributeError\u001b[0m: 'str' object has no attribute 'reverse'"
     ]
    }
   ],
   "source": [
    "str1='hello how are you'\n",
    "str1.reverse()"
   ]
  },
  {
   "cell_type": "code",
   "execution_count": 22,
   "id": "dd460f5f-0e4c-4ab2-b405-cabe94bbb1e5",
   "metadata": {},
   "outputs": [
    {
     "data": {
      "text/plain": [
       "<reversed at 0x1548f446050>"
      ]
     },
     "execution_count": 22,
     "metadata": {},
     "output_type": "execute_result"
    }
   ],
   "source": [
    "reversed(str1)"
   ]
  },
  {
   "cell_type": "code",
   "execution_count": 26,
   "id": "d743a563-8ffd-402c-8241-d5638b9652de",
   "metadata": {},
   "outputs": [
    {
     "data": {
      "text/plain": [
       "[10, 20, 30, 40, 'A', 'B', 'C', 'D']"
      ]
     },
     "execution_count": 26,
     "metadata": {},
     "output_type": "execute_result"
    }
   ],
   "source": [
    "list(reversed(str1))\n",
    "list(reversed(l1))"
   ]
  },
  {
   "cell_type": "code",
   "execution_count": null,
   "id": "9470b8fa-1002-4c8f-99e9-16d1cdbacef0",
   "metadata": {},
   "outputs": [],
   "source": [
    "l1.reverse() ans\n",
    "str1.reverse()  # error"
   ]
  },
  {
   "cell_type": "markdown",
   "id": "ecc6e9a9-f773-42d4-b06e-9da0e289c180",
   "metadata": {},
   "source": [
    "### sort vs sorted"
   ]
  },
  {
   "cell_type": "code",
   "execution_count": 29,
   "id": "e24b62cd-c8c4-445f-9338-0c901dff30b1",
   "metadata": {},
   "outputs": [
    {
     "data": {
      "text/plain": [
       "list"
      ]
     },
     "execution_count": 29,
     "metadata": {},
     "output_type": "execute_result"
    }
   ],
   "source": [
    "type([]) # do not give list as variable"
   ]
  },
  {
   "cell_type": "code",
   "execution_count": 31,
   "id": "f8fa0e7c-56c3-4d48-937b-d4abc5d727e9",
   "metadata": {},
   "outputs": [
    {
     "data": {
      "text/plain": [
       "[3, 5, 19, 25, 45]"
      ]
     },
     "execution_count": 31,
     "metadata": {},
     "output_type": "execute_result"
    }
   ],
   "source": [
    "list1=[19,25,3,45,5]\n",
    "list1.sort()\n",
    "list1"
   ]
  },
  {
   "cell_type": "code",
   "execution_count": 33,
   "id": "8f635614-f468-4b00-99b0-ece41f81499a",
   "metadata": {},
   "outputs": [
    {
     "data": {
      "text/plain": [
       "[45, 25, 19, 5, 3]"
      ]
     },
     "execution_count": 33,
     "metadata": {},
     "output_type": "execute_result"
    }
   ],
   "source": [
    "list1=[19,25,3,45,5]\n",
    "list1.sort(reverse=True)\n",
    "list1"
   ]
  },
  {
   "cell_type": "code",
   "execution_count": 35,
   "id": "14096c6c-685e-48db-9427-8f038b295fc4",
   "metadata": {},
   "outputs": [
    {
     "data": {
      "text/plain": [
       "[3, 5, 19, 25, 45]"
      ]
     },
     "execution_count": 35,
     "metadata": {},
     "output_type": "execute_result"
    }
   ],
   "source": [
    "sorted(list1)"
   ]
  },
  {
   "cell_type": "code",
   "execution_count": null,
   "id": "4466e0a9-19ed-4e03-95c1-2c6eb9682807",
   "metadata": {},
   "outputs": [],
   "source": [
    "sorted(string)  # Works\n",
    "sorted(list)    # works\n",
    "\n",
    "list.sort()  # works\n",
    "string.sort() # fail"
   ]
  },
  {
   "cell_type": "markdown",
   "id": "9f462205-9f62-43e6-821a-1e1380ce818a",
   "metadata": {},
   "source": [
    "**append**"
   ]
  },
  {
   "cell_type": "markdown",
   "id": "4c266f59-a33f-4812-bddf-fa4c0474ac14",
   "metadata": {},
   "source": [
    "- append means add an element at the end of the list\n",
    "- append is a method very important\n",
    "- append is used to store the outputs in a list\n",
    "- till last call we just printed all the outputs\n",
    "- if we want to save the outputs we need to do append only\n",
    "- append method we will use very vey frequently"
   ]
  },
  {
   "cell_type": "code",
   "execution_count": 39,
   "id": "afdd3fe5-485e-4f78-ad8b-331bb80e335b",
   "metadata": {},
   "outputs": [
    {
     "data": {
      "text/plain": [
       "[10]"
      ]
     },
     "execution_count": 39,
     "metadata": {},
     "output_type": "execute_result"
    }
   ],
   "source": [
    "l1=[]\n",
    "l1.append(10)\n",
    "l1"
   ]
  },
  {
   "cell_type": "code",
   "execution_count": 41,
   "id": "c0fbd586-dc11-4575-a013-b42411ea75f7",
   "metadata": {},
   "outputs": [
    {
     "data": {
      "text/plain": [
       "[1, 2, 3, 'apple']"
      ]
     },
     "execution_count": 41,
     "metadata": {},
     "output_type": "execute_result"
    }
   ],
   "source": [
    "l1=[1,2,3]\n",
    "l1.append('apple')\n",
    "l1"
   ]
  },
  {
   "cell_type": "code",
   "execution_count": 43,
   "id": "f6c5c136-d020-4f33-b403-30f3952c57bb",
   "metadata": {},
   "outputs": [
    {
     "data": {
      "text/plain": [
       "[1, 2, 3, 4, 'apple', 'banana', [True, False]]"
      ]
     },
     "execution_count": 43,
     "metadata": {},
     "output_type": "execute_result"
    }
   ],
   "source": [
    "l1=[1,2,3,4]\n",
    "l1.append('apple')\n",
    "l1.append('banana')\n",
    "l1.append([True,False])\n",
    "l1"
   ]
  },
  {
   "cell_type": "code",
   "execution_count": 49,
   "id": "c9d7f525-53a7-4a92-9893-41d061a048f1",
   "metadata": {},
   "outputs": [
    {
     "name": "stdout",
     "output_type": "stream",
     "text": [
      "1 2 3 4 5 6 7 8 9 10 "
     ]
    }
   ],
   "source": [
    "# create a list of 10 numbers using for loop\n",
    "for i in range(1,11):\n",
    "    print(i,end=' ')"
   ]
  },
  {
   "cell_type": "code",
   "execution_count": 61,
   "id": "f0b06077-7ef0-4ef8-afb5-33df90d77778",
   "metadata": {},
   "outputs": [
    {
     "data": {
      "text/plain": [
       "[0, 1, 2, 3, 4, 5, 6, 7, 8, 9]"
      ]
     },
     "execution_count": 61,
     "metadata": {},
     "output_type": "execute_result"
    }
   ],
   "source": [
    "l1=[]\n",
    "for i in range(10):\n",
    "    l1.append(i)\n",
    "l1"
   ]
  },
  {
   "cell_type": "code",
   "execution_count": null,
   "id": "5dfaa2db-3b28-4b79-8480-7ba063b61902",
   "metadata": {},
   "outputs": [],
   "source": [
    "l1=[]\n",
    "l1.append(1)\n",
    "l1.append(2)\n",
    "l1.append(3)\n",
    "\n",
    "l1.append(i)"
   ]
  },
  {
   "cell_type": "code",
   "execution_count": null,
   "id": "74307915-ee00-4f16-a2f1-57c0ad1e7dc6",
   "metadata": {},
   "outputs": [],
   "source": [
    "# write a program ask the user get 5 random numbers\n",
    "# perform the square of the random numbers\n",
    "# save in a list\n"
   ]
  },
  {
   "cell_type": "code",
   "execution_count": 63,
   "id": "99b290e8-63d2-498c-bf89-8e533c9c95d5",
   "metadata": {},
   "outputs": [
    {
     "data": {
      "text/plain": [
       "[9, 1296, 121, 3481, 3364]"
      ]
     },
     "execution_count": 63,
     "metadata": {},
     "output_type": "execute_result"
    }
   ],
   "source": [
    "import random\n",
    "l=[]\n",
    "for i in range(5):\n",
    "    num=random.randint(1,100)\n",
    "    l.append(num*num)\n",
    "l    "
   ]
  },
  {
   "cell_type": "code",
   "execution_count": 69,
   "id": "43715210-827d-4f25-8c3e-c6b38c2bdd61",
   "metadata": {},
   "outputs": [
    {
     "data": {
      "text/plain": [
       "['90:8100 ', '96:9216 ', '47:2209 ', '14:196 ', '69:4761 ']"
      ]
     },
     "execution_count": 69,
     "metadata": {},
     "output_type": "execute_result"
    }
   ],
   "source": [
    "import random\n",
    "l=[]\n",
    "for i in range(5):\n",
    "    num=random.randint(1,100)\n",
    "    l.append(f\"{num}:{num*num} \")\n",
    "l"
   ]
  },
  {
   "cell_type": "code",
   "execution_count": 83,
   "id": "3dccadc9-0f1a-4583-8d8d-8beea4de0706",
   "metadata": {},
   "outputs": [
    {
     "data": {
      "text/plain": [
       "([20, 38, 52, 100], [27, 47, 87])"
      ]
     },
     "execution_count": 83,
     "metadata": {},
     "output_type": "execute_result"
    }
   ],
   "source": [
    "# list=[100,20,27,38,47,52,87]\n",
    "# using this we need to extract even and odd numbers\n",
    "# even_list=[100,20,38,52] the output should be sorted\n",
    "# odd_list=[27,47,87] the output should be sorted\n",
    "list1=[100,20,27,38,47,52,87]\n",
    "even_list,odd_list=[],[]\n",
    "for i in list1:\n",
    "   if i%2==0:\n",
    "       even_list.append(i)\n",
    "   else:\n",
    "       odd_list.append(i)\n",
    "even_list.sort()\n",
    "odd_list.sort()\n",
    "even_list,odd_list"
   ]
  },
  {
   "cell_type": "code",
   "execution_count": null,
   "id": "6feaa251-0072-4cba-9039-f783af2548bf",
   "metadata": {},
   "outputs": [],
   "source": [
    "# Q4)  l1=['hyd','chennai','mumbai','pune']\n",
    "#     ans=['Hyd','Chennai','Mumabi','Pune']\n",
    "\n",
    "#Q5)  l1=['hyd','chennai','mumbai','pune']\n",
    "#     ans=['HYD','CHENNAI','MUMBAI','PUNE']\n",
    "\n",
    "#Q6)  l1=['hyd','chen#ai','mu#bai','pune']\n",
    "#     ans=['chen#ai','mu#bai']\n",
    "\n",
    "#Q7)  l1=['hyd','chen#ai','mu#bai','pune']\n",
    "#     ans=['hyd','pune']\n",
    "\n",
    "#Q8) str1= 'hello hai how are you'\n",
    "#    ans=['Hello','Hai','How','Are','You']\n",
    "\n",
    "#Q9) str1='virat.kohli@rcb.com; rohit.sharma@mi.com; dhoni.ms@csk.com'\n",
    "#    fname=['virat','rohit','dhoni']\n",
    "#    sname=['kohli','sharma','ms']\n",
    "#    cname=['rcb','mi','csk']\n",
    "\n",
    "# q10) get the 7 random numbers in a list between 1 to 100\n",
    "#      find the min and max value with out using min and max function\n",
    "\n",
    "# q11) str1='can canner can not can you canner can be can you can not'\n",
    "#      list=['can-6','canner-2','not-2','you-2','be-1']\n",
    "\n",
    "# q12) qns= ['who is pm of india','who is ICT captain',\n",
    "#             'what is the capital of india']\n",
    "#      ans=['modi','rohit','delhi']\n",
    "#     step-1: iterate through each qn\n",
    "#     step-2: user will enter the answer\n",
    "#           check-1: the user given 'MODI' correct answer\n",
    "#           check-2: qn index and ans index should be\n",
    "#    step-3: count_marks=0 at the top\n",
    "#    step-4:  for every correct answer 1 marks\n",
    "#    step-5: how many correct answers and how many marks"
   ]
  },
  {
   "cell_type": "code",
   "execution_count": 1,
   "id": "58fa3daa-897e-408a-bae6-9622be4371b2",
   "metadata": {},
   "outputs": [
    {
     "name": "stdout",
     "output_type": "stream",
     "text": [
      "Hyd\n",
      "Chennai\n",
      "Mumbai\n",
      "Pune\n"
     ]
    }
   ],
   "source": [
    "# Q4)  l1=['hyd','chennai','mumbai','pune']\n",
    "#     ans=['Hyd','Chennai','Mumabi','Pune']\n",
    "l1=['hyd','chennai','mumbai','pune']\n",
    "\n",
    "for i in l1:\n",
    "   print(i.title())\n"
   ]
  },
  {
   "cell_type": "code",
   "execution_count": 13,
   "id": "b950fa78-cf85-48b0-964a-d97cc9830c60",
   "metadata": {},
   "outputs": [
    {
     "data": {
      "text/plain": [
       "['Hyd', 'Chennai', 'Mumbai', 'Pune']"
      ]
     },
     "execution_count": 13,
     "metadata": {},
     "output_type": "execute_result"
    }
   ],
   "source": [
    "# Q4)  l1=['hyd','chennai','mumbai','pune']\n",
    "#     ans=['Hyd','Chennai','Mumabi','Pune']\n",
    "l1=['hyd','chennai','mumbai','pune']\n",
    "ans=[]\n",
    "for i in l1:\n",
    "    ans.append(i.capitalize())\n",
    "ans    "
   ]
  },
  {
   "cell_type": "code",
   "execution_count": 19,
   "id": "85380032-6c6a-41e8-9670-0f6a0cd2caad",
   "metadata": {},
   "outputs": [
    {
     "data": {
      "text/plain": [
       "['HYD', 'CHENNAI', 'MUMBAI', 'PUNE']"
      ]
     },
     "execution_count": 19,
     "metadata": {},
     "output_type": "execute_result"
    }
   ],
   "source": [
    "#Q5)  l1=['hyd','chennai','mumbai','pune']\n",
    "#     ans=['HYD','CHENNAI','MUMBAI','PUNE']\n",
    "l1=['hyd','chennai','mumbai','pune']\n",
    "ans=[]\n",
    "for i in l1:\n",
    "    ans.append(i.upper())\n",
    "ans    "
   ]
  },
  {
   "cell_type": "code",
   "execution_count": 1,
   "id": "f7705c9c-1d13-4d7d-842f-a27a77a91b7b",
   "metadata": {},
   "outputs": [
    {
     "data": {
      "text/plain": [
       "['chen#ai', 'mu#bai']"
      ]
     },
     "execution_count": 1,
     "metadata": {},
     "output_type": "execute_result"
    }
   ],
   "source": [
    "#Q6)  l1=['hyd','chen#ai','mu#bai','pune']\n",
    "#     ans=['chen#ai','mu#bai']\n",
    "l1=['hyd','chen#ai','mu#bai','pune']\n",
    "ans=[]\n",
    "for i in l1:\n",
    "    if '#' in i:\n",
    "        ans.append(i)\n",
    "   \n",
    "ans"
   ]
  },
  {
   "cell_type": "code",
   "execution_count": 33,
   "id": "0c67addb-3604-43b1-a50c-6b97ae2eb2a4",
   "metadata": {},
   "outputs": [
    {
     "data": {
      "text/plain": [
       "(['chen#ai', 'mu#bai'], ['hyd', 'pune'])"
      ]
     },
     "execution_count": 33,
     "metadata": {},
     "output_type": "execute_result"
    }
   ],
   "source": [
    "#Q6)  l1=['hyd','chen#ai','mu#bai','pune']\n",
    "#     ans=['chen#ai','mu#bai']\n",
    "l1=['hyd','chen#ai','mu#bai','pune']\n",
    "ans1=[]\n",
    "ans2=[]\n",
    "for i in l1:\n",
    "    if '#' in i:\n",
    "        ans1.append(i)\n",
    "    if '#' not in i:\n",
    "        ans2.append(i)\n",
    "ans1,ans2  \n",
    "#############################################\n",
    "l1=['hyd','chen#ai','mu#bai','pune']\n",
    "ans1=[]\n",
    "ans2=[]\n",
    "for i in l1:\n",
    "    if '#' in i:\n",
    "        ans1.append(i)\n",
    "    else:\n",
    "        ans2.append(i)\n",
    "ans1,ans2  "
   ]
  },
  {
   "cell_type": "code",
   "execution_count": 39,
   "id": "bca29f7b-b11f-4a31-99c8-82c37914e1e8",
   "metadata": {},
   "outputs": [
    {
     "data": {
      "text/plain": [
       "['hyd', 'pune']"
      ]
     },
     "execution_count": 39,
     "metadata": {},
     "output_type": "execute_result"
    }
   ],
   "source": [
    "#Q7)  l1=['hyd','chen#ai','mu#bai','pune']\n",
    "#     ans=['hyd','pune']\n",
    "l1=['hyd','chen#ai','mu#bai','pune']\n",
    "ans=[]\n",
    "for i in l1:\n",
    "    if '#' not in i:\n",
    "       ans.append(i)\n",
    "ans        "
   ]
  },
  {
   "cell_type": "code",
   "execution_count": 63,
   "id": "9bcc7cde-dc31-409f-8d6b-bb7d27f7292b",
   "metadata": {},
   "outputs": [
    {
     "data": {
      "text/plain": [
       "['Hello', 'Hai', 'How', 'Are', 'You']"
      ]
     },
     "execution_count": 63,
     "metadata": {},
     "output_type": "execute_result"
    }
   ],
   "source": [
    "#Q8) str1= 'hello hai how are you'\n",
    "#    ans=['Hello','Hai','How','Are','You']\n",
    "str1='hello hai how are you'\n",
    "l=str1.split()\n",
    "ans=[]\n",
    "for i in l:\n",
    "    ans.append(i.capitalize())\n",
    "ans \n",
    "################################################\n",
    "str1='hello hai how are you'\n",
    "str1.title().split()"
   ]
  },
  {
   "cell_type": "code",
   "execution_count": 67,
   "id": "015aa855-15c5-44bd-a815-f80a89bf9bf6",
   "metadata": {},
   "outputs": [
    {
     "data": {
      "text/plain": [
       "'Hello Hai How Are You'"
      ]
     },
     "execution_count": 67,
     "metadata": {},
     "output_type": "execute_result"
    }
   ],
   "source": [
    "' '.join(ans)"
   ]
  },
  {
   "cell_type": "markdown",
   "id": "89cab9ea-957a-49d4-a194-82da8c8d2c1c",
   "metadata": {},
   "source": [
    "**joining the list of elements**\n",
    "- we can convert string to list by using **string.split**\n",
    "- we can convert list to string by using **join(list)**"
   ]
  },
  {
   "cell_type": "code",
   "execution_count": 74,
   "id": "3cda2596-8039-40a3-95a3-a651dc4b95a6",
   "metadata": {},
   "outputs": [
    {
     "data": {
      "text/plain": [
       "['', 'ai ', 'ow are you']"
      ]
     },
     "execution_count": 74,
     "metadata": {},
     "output_type": "execute_result"
    }
   ],
   "source": [
    "str1='hai how are you'\n",
    "str1.split('h')"
   ]
  },
  {
   "cell_type": "code",
   "execution_count": 76,
   "id": "bee1dcfa-28af-4d46-a16b-51840768117a",
   "metadata": {},
   "outputs": [
    {
     "data": {
      "text/plain": [
       "'haihhowharehyou'"
      ]
     },
     "execution_count": 76,
     "metadata": {},
     "output_type": "execute_result"
    }
   ],
   "source": [
    "l1=['hai', 'how', 'are', 'you']\n",
    "str1=' '\n",
    "str1.join(l1)\n",
    "'h'.join(l1)"
   ]
  },
  {
   "cell_type": "code",
   "execution_count": 102,
   "id": "a8693f96-0af5-43e3-ae42-4be07dcc599d",
   "metadata": {},
   "outputs": [],
   "source": [
    "#Q9) str1='virat.kohli@rcb.com; rohit.sharma@mi.com; dhoni.ms@csk.com'\n",
    "#    fname=['virat','rohit','dhoni']\n",
    "#    sname=['kohli','sharma','ms']\n",
    "#    cname=['rcb','mi','csk']\n",
    "str1='virat.kohli@rcb.com; rohit.sharma@mi.com; dhoni.ms@csk.com'\n",
    "l=str1.split(';')\n",
    "f_name,s_name,c_name=[],[],[]\n",
    "for i in l:\n",
    "    first_dot=i.find('.')\n",
    "    second_dot=i.find('.',first_dot+1)\n",
    "    at_index=i.find('@')\n",
    "    f_name.append(i[:first_dot])\n",
    "    s_name.append(i[first_dot+1:at_index])\n",
    "    c_name.append(i[at_index+1:second_dot])"
   ]
  },
  {
   "cell_type": "code",
   "execution_count": 104,
   "id": "755797c6-70be-43f8-b6c5-905fb1d36941",
   "metadata": {},
   "outputs": [
    {
     "data": {
      "text/plain": [
       "['virat', ' rohit', ' dhoni']"
      ]
     },
     "execution_count": 104,
     "metadata": {},
     "output_type": "execute_result"
    }
   ],
   "source": [
    "f_name"
   ]
  },
  {
   "cell_type": "code",
   "execution_count": 106,
   "id": "9e8886e9-879d-4a98-a161-505c9fc50eef",
   "metadata": {},
   "outputs": [
    {
     "name": "stdout",
     "output_type": "stream",
     "text": [
      "virat.kohli@rcb.com\n",
      " rohit.sharma@mi.com\n",
      " dhoni.ms@csk.com\n"
     ]
    }
   ],
   "source": [
    "l[0],l[1],l[2]\n",
    "for i in l:\n",
    "    print(i)"
   ]
  },
  {
   "cell_type": "code",
   "execution_count": 119,
   "id": "1b6f335c-aead-4f0e-8ec3-37953d1d7670",
   "metadata": {},
   "outputs": [
    {
     "data": {
      "text/plain": [
       "[32, 70, 73, 24, 86, 86, 99]"
      ]
     },
     "execution_count": 119,
     "metadata": {},
     "output_type": "execute_result"
    }
   ],
   "source": [
    "# q10) get the 7 random numbers in a list between 1 to 100\n",
    "#      find the min and max value with out using min and max function\n",
    "import random\n",
    "l=[]\n",
    "for i in range(7):\n",
    "    num=random.randint(1,100)\n",
    "    l.append(num)\n",
    "l"
   ]
  },
  {
   "cell_type": "code",
   "execution_count": 125,
   "id": "cb9ac727-cb7d-4fc7-84e0-d64011991659",
   "metadata": {},
   "outputs": [
    {
     "name": "stdout",
     "output_type": "stream",
     "text": [
      "99\n"
     ]
    }
   ],
   "source": [
    "max_val=l[0]\n",
    "for i in l[1:]:\n",
    "    if i>max_val:\n",
    "        max_val=i\n",
    "print(max_val)        "
   ]
  },
  {
   "cell_type": "code",
   "execution_count": 127,
   "id": "a52d2d2a-4eff-492b-9e74-61b17d9d41fe",
   "metadata": {},
   "outputs": [
    {
     "name": "stdout",
     "output_type": "stream",
     "text": [
      "24\n"
     ]
    }
   ],
   "source": [
    "min_value=l[0]\n",
    "for i in l[1:]:\n",
    "    if i<min_value:\n",
    "        min_value=i\n",
    "print(min_value)        "
   ]
  },
  {
   "cell_type": "markdown",
   "id": "6b18319c-c2ff-41ba-9290-8cd567827c3b",
   "metadata": {},
   "source": [
    "- assume that first value is a maximum value\n",
    "- then iterate the loop from next value onwards\n",
    "- apply the condition if any value greater then assumed value\n",
    "- then replace max value with iterated value"
   ]
  },
  {
   "cell_type": "code",
   "execution_count": 164,
   "id": "7665c51e-eaba-4834-b44a-1461d72b77e0",
   "metadata": {},
   "outputs": [
    {
     "name": "stdout",
     "output_type": "stream",
     "text": [
      "['can', 'canner', 'can', 'not', 'can', 'you', 'canner', 'can', 'be', 'can', 'you', 'can', 'not']\n",
      "can 6\n",
      "canner 2\n",
      "not 2\n",
      "you 2\n",
      "be 1\n"
     ]
    }
   ],
   "source": [
    "# q11) str1='can canner can not can you canner can be can \n",
    "# you can not'\n",
    "#      list=['can-6','canner-2','not-2','you-2','be-1']\n",
    "str1='can canner can not can you canner can be can you can not'\n",
    "l=str1.split()\n",
    "print(l)\n",
    "l2=[]\n",
    "\n",
    "for i in l:\n",
    "    if i not in l2:\n",
    "        print(i,l.count(i))\n",
    "        l2.append(i)"
   ]
  },
  {
   "cell_type": "code",
   "execution_count": 172,
   "id": "1af35819-12bd-4be1-ae10-c695bb40118d",
   "metadata": {},
   "outputs": [
    {
     "data": {
      "text/plain": [
       "['can-6', 'canner-2', 'not-2', 'you-2', 'be-1']"
      ]
     },
     "execution_count": 172,
     "metadata": {},
     "output_type": "execute_result"
    }
   ],
   "source": [
    "l1=[]\n",
    "l2=[]\n",
    "for i in l:\n",
    "    if i not in l2:\n",
    "        l2.append(i)\n",
    "        l1.append(f\"{i}-{l.count(i)}\")\n",
    "l1        \n"
   ]
  },
  {
   "cell_type": "code",
   "execution_count": 190,
   "id": "82d52397-f7d1-4799-88d6-b00a66f6d57c",
   "metadata": {},
   "outputs": [
    {
     "name": "stdin",
     "output_type": "stream",
     "text": [
      "who is pm of india MODI\n"
     ]
    },
    {
     "name": "stdout",
     "output_type": "stream",
     "text": [
      "the total correct answers: 1\n"
     ]
    },
    {
     "name": "stdin",
     "output_type": "stream",
     "text": [
      "who is ICT captain ROHITS \n",
      "what is the capital of india HYD\n"
     ]
    }
   ],
   "source": [
    "# q12) qns= ['who is pm of india','who is ICT captain',\n",
    "#             'what is the capital of india']\n",
    "#      ans=['modi','rohit','delhi']\n",
    "#     step-1: iterate through each qn\n",
    "#     step-2: user will enter the answer\n",
    "#           check-1: the user given 'MODI' correct answer\n",
    "#           check-2: qn index and ans index should be\n",
    "#    step-3: count_marks=0 at the top\n",
    "#    step-4:  for every correct answer 1 marks\n",
    "#    step-5: how many correct answers and how many marks\n",
    "qns= ['who is pm of india','who is ICT captain','what is the capital of india']\n",
    "ans=['modi','rohit','delhi']\n",
    "count=0\n",
    "for i in range(len(qns)):\n",
    "    ANSWER=input(qns[i])\n",
    "    if ANSWER.lower()==ans[i].lower():\n",
    "        count=count+1\n",
    "        print(\"the total correct answers:\",count)"
   ]
  },
  {
   "cell_type": "markdown",
   "id": "0127eca6-e63f-4322-bf83-8ff8915f3ca9",
   "metadata": {},
   "source": [
    "**pop vs remove**"
   ]
  },
  {
   "cell_type": "code",
   "execution_count": 195,
   "id": "02678a57-593f-4ae5-97fd-dfe757a7c721",
   "metadata": {},
   "outputs": [],
   "source": [
    "l=[100,200,300,'A','B','C']\n"
   ]
  },
  {
   "cell_type": "code",
   "execution_count": 197,
   "id": "0231f56b-2506-4725-8928-d830ac2fdcdb",
   "metadata": {},
   "outputs": [
    {
     "data": {
      "text/plain": [
       "'C'"
      ]
     },
     "execution_count": 197,
     "metadata": {},
     "output_type": "execute_result"
    }
   ],
   "source": [
    "l.pop()\n",
    "# pop will remove the element based on index\n",
    "# if we dont give any index by default it will remove last value\n",
    "# the default value index=-1"
   ]
  },
  {
   "cell_type": "code",
   "execution_count": 199,
   "id": "40806aed-f25a-4ada-86fb-9833f17e1cdd",
   "metadata": {},
   "outputs": [
    {
     "data": {
      "text/plain": [
       "[100, 200, 300, 'A', 'B']"
      ]
     },
     "execution_count": 199,
     "metadata": {},
     "output_type": "execute_result"
    }
   ],
   "source": [
    "l"
   ]
  },
  {
   "cell_type": "code",
   "execution_count": 205,
   "id": "7b8011d8-3023-4972-993c-a7465e118012",
   "metadata": {},
   "outputs": [
    {
     "ename": "IndexError",
     "evalue": "pop index out of range",
     "output_type": "error",
     "traceback": [
      "\u001b[1;31m---------------------------------------------------------------------------\u001b[0m",
      "\u001b[1;31mIndexError\u001b[0m                                Traceback (most recent call last)",
      "Cell \u001b[1;32mIn[205], line 2\u001b[0m\n\u001b[0;32m      1\u001b[0m l\u001b[38;5;241m=\u001b[39m[\u001b[38;5;241m100\u001b[39m,\u001b[38;5;241m200\u001b[39m,\u001b[38;5;241m300\u001b[39m,\u001b[38;5;124m'\u001b[39m\u001b[38;5;124mA\u001b[39m\u001b[38;5;124m'\u001b[39m,\u001b[38;5;124m'\u001b[39m\u001b[38;5;124mB\u001b[39m\u001b[38;5;124m'\u001b[39m,\u001b[38;5;124m'\u001b[39m\u001b[38;5;124mC\u001b[39m\u001b[38;5;124m'\u001b[39m]\n\u001b[1;32m----> 2\u001b[0m l\u001b[38;5;241m.\u001b[39mpop(\u001b[38;5;241m200\u001b[39m)\n\u001b[0;32m      3\u001b[0m l\n",
      "\u001b[1;31mIndexError\u001b[0m: pop index out of range"
     ]
    }
   ],
   "source": [
    "l=[100,200,300,'A','B','C']\n",
    "l.pop(200)\n",
    "l\n",
    "# what will return as output\n",
    "# [100, 200, 'A', 'B', 'C']  300"
   ]
  },
  {
   "cell_type": "code",
   "execution_count": 211,
   "id": "d7c0a943-f723-482a-ae52-15ecdfb96e8c",
   "metadata": {},
   "outputs": [
    {
     "data": {
      "text/plain": [
       "[200, 300, 100, 100, 'A', 'B', 'C']"
      ]
     },
     "execution_count": 211,
     "metadata": {},
     "output_type": "execute_result"
    }
   ],
   "source": [
    "l=[100,200,300,100,100,'A','B','C']\n",
    "l.remove(100)\n",
    "l"
   ]
  },
  {
   "cell_type": "markdown",
   "id": "eca52b47-2123-43db-a4b7-b7bc6fc4c10b",
   "metadata": {},
   "source": [
    "- pop except a index value\n",
    "- remove except a **value**\n"
   ]
  },
  {
   "cell_type": "code",
   "execution_count": null,
   "id": "ac610367-2807-4c40-9a0d-203e48df54c4",
   "metadata": {},
   "outputs": [],
   "source": [
    "l=[100,200,300,100,100,'A','B','C']\n",
    "# i want to remove the second 100\n",
    "# remove or pop\n",
    "# how can you remove the second 100\n",
    "l.pop()"
   ]
  },
  {
   "cell_type": "markdown",
   "id": "697ad3ae-d4e3-4085-8e3b-26fa73dec2c5",
   "metadata": {},
   "source": [
    "**index**"
   ]
  },
  {
   "cell_type": "code",
   "execution_count": null,
   "id": "8924fb64-0e48-4d80-9faa-389b1b7896dd",
   "metadata": {},
   "outputs": [],
   "source": [
    "l=[100,200,300,100,100,'A','B','C']\n",
    "# pop is correct answer \n",
    "# pop wants a index\n",
    "# here only 8 elements are there, so we are able to count\n",
    "# imagine that there 80k elelments so we are not able to count\n",
    "# when you are counting and giving: hard coded\n",
    "# python code should give the answer automatically\n",
    "# for that we need to use index method "
   ]
  },
  {
   "cell_type": "code",
   "execution_count": 218,
   "id": "2ed3f9b5-3541-4a80-9661-f9ab4a9054c1",
   "metadata": {},
   "outputs": [
    {
     "data": {
      "text/plain": [
       "[100, 200, 300, 100, 'A', 'B', 'C']"
      ]
     },
     "execution_count": 218,
     "metadata": {},
     "output_type": "execute_result"
    }
   ],
   "source": [
    "l=[100,200,300,100,100,'A','B','C']\n",
    "i1=l.index(100)\n",
    "i2=l.index(100,i1+1)\n",
    "l.pop(i2)\n",
    "l"
   ]
  },
  {
   "cell_type": "code",
   "execution_count": 222,
   "id": "21963904-74bc-4067-a075-09d19db29e37",
   "metadata": {},
   "outputs": [
    {
     "data": {
      "text/plain": [
       "['__add__',\n",
       " '__class__',\n",
       " '__class_getitem__',\n",
       " '__contains__',\n",
       " '__delattr__',\n",
       " '__dir__',\n",
       " '__doc__',\n",
       " '__eq__',\n",
       " '__format__',\n",
       " '__ge__',\n",
       " '__getattribute__',\n",
       " '__getitem__',\n",
       " '__getnewargs__',\n",
       " '__getstate__',\n",
       " '__gt__',\n",
       " '__hash__',\n",
       " '__init__',\n",
       " '__init_subclass__',\n",
       " '__iter__',\n",
       " '__le__',\n",
       " '__len__',\n",
       " '__lt__',\n",
       " '__mul__',\n",
       " '__ne__',\n",
       " '__new__',\n",
       " '__reduce__',\n",
       " '__reduce_ex__',\n",
       " '__repr__',\n",
       " '__rmul__',\n",
       " '__setattr__',\n",
       " '__sizeof__',\n",
       " '__str__',\n",
       " '__subclasshook__',\n",
       " 'count',\n",
       " 'index']"
      ]
     },
     "execution_count": 222,
     "metadata": {},
     "output_type": "execute_result"
    }
   ],
   "source": [
    "dir(())"
   ]
  },
  {
   "cell_type": "markdown",
   "id": "57be1d18-2af7-4b39-8641-23ce9c94febe",
   "metadata": {},
   "source": [
    "**Extend**\n",
    "- difference between concatnation vs append vs extend"
   ]
  },
  {
   "cell_type": "code",
   "execution_count": 35,
   "id": "f881afbd-83cf-4697-a34c-52f8d117ffce",
   "metadata": {},
   "outputs": [
    {
     "data": {
      "text/plain": [
       "[1, 2, 3, 4, ['A', 'B', 'C', 'D']]"
      ]
     },
     "execution_count": 35,
     "metadata": {},
     "output_type": "execute_result"
    }
   ],
   "source": [
    "l1=[1,2,3,4]\n",
    "l2=['A','B','C','D']\n",
    "l1.append(l2)\n",
    "l1"
   ]
  },
  {
   "cell_type": "code",
   "execution_count": 37,
   "id": "4ba7032d-64a6-45a2-bf37-de775d54798e",
   "metadata": {},
   "outputs": [
    {
     "data": {
      "text/plain": [
       "[1, 2, 3, 4, 'A', 'B', 'C', 'D']"
      ]
     },
     "execution_count": 37,
     "metadata": {},
     "output_type": "execute_result"
    }
   ],
   "source": [
    "l1=[1,2,3,4]\n",
    "l2=['A','B','C','D']\n",
    "l1.extend(l2)\n",
    "l1"
   ]
  },
  {
   "cell_type": "code",
   "execution_count": 51,
   "id": "9ce1c7f6-167d-471e-8843-0e58e5ccc2e7",
   "metadata": {},
   "outputs": [
    {
     "data": {
      "text/plain": [
       "[1, 2, 3, 4]"
      ]
     },
     "execution_count": 51,
     "metadata": {},
     "output_type": "execute_result"
    }
   ],
   "source": [
    "l1=[1,2,3,4]\n",
    "l2=['A','B','C','D']\n",
    "l1+l2\n",
    "l1"
   ]
  },
  {
   "cell_type": "code",
   "execution_count": 33,
   "id": "f78a2e68-3b18-44a0-95e7-86871e85929c",
   "metadata": {},
   "outputs": [
    {
     "data": {
      "text/plain": [
       "([1, 2, 3, 4], ['A', 'B', 'C', 'D'])"
      ]
     },
     "execution_count": 33,
     "metadata": {},
     "output_type": "execute_result"
    }
   ],
   "source": [
    "l1,l2"
   ]
  },
  {
   "cell_type": "code",
   "execution_count": 49,
   "id": "e393e7c1-8615-4277-a66d-32952f7c3529",
   "metadata": {},
   "outputs": [
    {
     "data": {
      "text/plain": [
       "(['A', 'B', 'C', 'D', 1, 2, 3, 4], [1, 2, 3, 4])"
      ]
     },
     "execution_count": 49,
     "metadata": {},
     "output_type": "execute_result"
    }
   ],
   "source": [
    "l1=[1,2,3,4]\n",
    "l2=['A','B','C','D']\n",
    "l2.extend(l1)\n",
    "l2,l1"
   ]
  },
  {
   "cell_type": "markdown",
   "id": "2db9ff3f-1a73-49ce-b153-106869110a06",
   "metadata": {},
   "source": [
    "- extend and concatneation both have same behaviour\n",
    "- means add the two lists\n",
    "- but extend will overwrite the list"
   ]
  },
  {
   "cell_type": "markdown",
   "id": "37802ac0-c922-4aaf-b3af-c9d23e649699",
   "metadata": {},
   "source": [
    "**Insert** "
   ]
  },
  {
   "cell_type": "markdown",
   "id": "5d5497b8-be7b-45cb-a7fd-346512544e8e",
   "metadata": {},
   "source": [
    "- difference between insert and append"
   ]
  },
  {
   "cell_type": "code",
   "execution_count": 74,
   "id": "1a5a6577-7094-40c7-9829-4108bbf6d739",
   "metadata": {},
   "outputs": [
    {
     "data": {
      "text/plain": [
       "[1, 2, 3, 4, 'A', 'B', 'C', 'D', 1000]"
      ]
     },
     "execution_count": 74,
     "metadata": {},
     "output_type": "execute_result"
    }
   ],
   "source": [
    "l1=[1,2,3,4,'A','B','C','D']\n",
    "l1.append(1000)\n",
    "l1"
   ]
  },
  {
   "cell_type": "code",
   "execution_count": 76,
   "id": "9a35c544-6631-4260-9822-385d095351ce",
   "metadata": {},
   "outputs": [
    {
     "data": {
      "text/plain": [
       "[1, 2, 3, 1000, 4, 'A', 'B', 'C', 'D']"
      ]
     },
     "execution_count": 76,
     "metadata": {},
     "output_type": "execute_result"
    }
   ],
   "source": [
    "l1=[1,2,3,4,'A','B','C','D']\n",
    "l1.insert(3,1000)\n",
    "l1"
   ]
  },
  {
   "cell_type": "code",
   "execution_count": 82,
   "id": "b3578dbe-6736-445e-ad54-1d117672b97a",
   "metadata": {},
   "outputs": [
    {
     "data": {
      "text/plain": [
       "[1, 2, 3, 4, 'A', 1000, 'B', 'C', 'D']"
      ]
     },
     "execution_count": 82,
     "metadata": {},
     "output_type": "execute_result"
    }
   ],
   "source": [
    "l1=[1,2,3,4,'A','B','C','D']\n",
    "# i want insert 1000 before 'B' \n",
    "i1=l1.index('B')\n",
    "l1.insert(i1,1000)\n",
    "l1"
   ]
  },
  {
   "cell_type": "code",
   "execution_count": 96,
   "id": "99af8abd-b238-44a1-a209-9ea7390402de",
   "metadata": {},
   "outputs": [
    {
     "data": {
      "text/plain": [
       "330"
      ]
     },
     "execution_count": 96,
     "metadata": {},
     "output_type": "execute_result"
    }
   ],
   "source": [
    "# write ask the user add the elements of the lists\n",
    "# l1=[100,200,300]\n",
    "# l2=[10,20,30]\n",
    "# ans=[110,220,330] \n",
    "l1=[100,200,300] \n",
    "l2=[10,20,30]\n",
    "l1[0]+l2[0]\n",
    "l1[1]+l2[1]   \n",
    "l1[2]+l2[2]"
   ]
  },
  {
   "cell_type": "code",
   "execution_count": 100,
   "id": "86770356-7852-4c97-9323-83538eaec77a",
   "metadata": {},
   "outputs": [
    {
     "data": {
      "text/plain": [
       "[110, 220, 330]"
      ]
     },
     "execution_count": 100,
     "metadata": {},
     "output_type": "execute_result"
    }
   ],
   "source": [
    "ans=[]\n",
    "l1=[100,200,300] \n",
    "l2=[10,20,30]\n",
    "for i in range(len(l1)):\n",
    "    ans.append(l1[i]+l2[i])\n",
    "ans    \n",
    "    "
   ]
  },
  {
   "cell_type": "code",
   "execution_count": 124,
   "id": "0c628e95-cdb6-46d2-84ee-e8b7e4de187a",
   "metadata": {},
   "outputs": [
    {
     "data": {
      "text/plain": [
       "400"
      ]
     },
     "execution_count": 124,
     "metadata": {},
     "output_type": "execute_result"
    }
   ],
   "source": [
    "l1=[100,200,300,400] \n",
    "l2=[10,20,30]\n",
    "l1[0]+l2[0]\n",
    "l1[1]+l2[1]\n",
    "l1[2]+l2[2]\n",
    "l1[3]"
   ]
  },
  {
   "cell_type": "code",
   "execution_count": 195,
   "id": "6f47bd68-26a3-4fe3-a02e-ac78d68788bb",
   "metadata": {},
   "outputs": [
    {
     "name": "stdout",
     "output_type": "stream",
     "text": [
      "110\n",
      "220\n",
      "330\n",
      "400\n"
     ]
    }
   ],
   "source": [
    "l1=[100,200,300,400] \n",
    "l2=[10,20,30]\n",
    "for i in range(len(l1)):\n",
    "    if i < len(l2):\n",
    "        print(l1[i]+l2[i])\n",
    "    else:\n",
    "       print(l1[i])  "
   ]
  },
  {
   "cell_type": "code",
   "execution_count": 203,
   "id": "2275ff06-6acc-46b2-b740-b583f388f8d6",
   "metadata": {},
   "outputs": [
    {
     "name": "stdout",
     "output_type": "stream",
     "text": [
      "110\n",
      "220\n",
      "330\n",
      "400\n"
     ]
    }
   ],
   "source": [
    "l1=[100,200,300,400] \n",
    "l2=[10,20,30]\n",
    "# iterate th eloop with max length iterations\n",
    "# if l2 values available then add those\n",
    "#otherwise ppend l1 value in to ans list\n",
    "len1=len(l1)\n",
    "len2=len(l2)\n",
    "max_val=max(len1,len2)\n",
    "for i in range(max_val):\n",
    "    if i < len(l2):\n",
    "        print(l1[i]+l2[i])\n",
    "    else:\n",
    "        print(l1[i])"
   ]
  },
  {
   "cell_type": "code",
   "execution_count": 209,
   "id": "fc1c1bae-2f94-40cd-a3fb-d88047059331",
   "metadata": {},
   "outputs": [
    {
     "data": {
      "text/plain": [
       "[110, 220, 330, 400]"
      ]
     },
     "execution_count": 209,
     "metadata": {},
     "output_type": "execute_result"
    }
   ],
   "source": [
    "l1=[100,200,300,400] \n",
    "l2=[10,20,30]\n",
    "ans=[110,220,330,400]\n",
    "len1=len(l1)\n",
    "len2=len(l2)\n",
    "max_val=max(len1,len2)\n",
    "ans=[]\n",
    "for i in range(max_val):\n",
    "    if i < len(l2):\n",
    "        ans.append(l1[i]+l2[i])\n",
    "    else:\n",
    "        ans.append(l1[i])\n",
    "ans"
   ]
  },
  {
   "cell_type": "markdown",
   "id": "2cc9aac6-fa08-4cb0-b572-9d0ede76fe90",
   "metadata": {},
   "source": [
    "**distance between two point**"
   ]
  },
  {
   "cell_type": "code",
   "execution_count": 226,
   "id": "b891165e-f87e-40c5-91a6-38273f843594",
   "metadata": {},
   "outputs": [
    {
     "data": {
      "text/plain": [
       "4.47213595499958"
      ]
     },
     "execution_count": 226,
     "metadata": {},
     "output_type": "execute_result"
    }
   ],
   "source": [
    "#d=root([x2-x1]**2+[y2-y1]**2)\n",
    "\n",
    "# step1:    l1=[2,5]     l2=[4,9]\n",
    "#             x1,y1       x2,y2\n",
    "# step2:    d1=x2-x1      d2=y2-y1\n",
    "# step3:    (x2-x1)**2    (y2-y1)**2\n",
    "# step4:     d=d1^2 + d2=d2^2  \n",
    "# step5: math.sqrt(d)\n",
    "# [x2-x1]=4-2=2^2=4\n",
    "# [y2-y1]=9-5=4^2=16\n",
    "# 4+16=20\n",
    "# root of 20 is=4.72\n",
    "import math\n",
    "l1=[2,5]\n",
    "l2=[4,9]\n",
    "##############\n",
    "x1=l1[0]\n",
    "y1=l1[1]\n",
    "x2=l2[0]\n",
    "y2=l2[1]\n",
    "############\n",
    "d1=(x2-x1)\n",
    "d2=(y2-y1)\n",
    "############\n",
    "d=d1**2+d2**2\n",
    "math.sqrt(d)"
   ]
  },
  {
   "cell_type": "code",
   "execution_count": 228,
   "id": "afc5cc5f-6f91-4017-ae48-9c7e7fe1b8c7",
   "metadata": {},
   "outputs": [
    {
     "data": {
      "text/plain": [
       "4.47213595499958"
      ]
     },
     "execution_count": 228,
     "metadata": {},
     "output_type": "execute_result"
    }
   ],
   "source": [
    "math.sqrt((l2[0]-l1[0])**2+(l2[1]-l1[1])**2)\n",
    "###########(x2-x1)**2+(y2-y1)**2"
   ]
  },
  {
   "cell_type": "code",
   "execution_count": null,
   "id": "7bb1229a-9efc-4856-a2fe-4da1f9527e38",
   "metadata": {},
   "outputs": [],
   "source": [
    "# wap\n",
    "# a=[(1,3),(7,8),(2,6,(9,3))]\n",
    "# b=(5,9)\n",
    "# find the max and min distance points\n",
    "\n",
    "\n",
    "# a=[(1,3),(7,8),(2,6),(9,3),(2,9),(10,12)]\n",
    "# find all the distance among the points\n",
    "# (1,3) with all other data points"
   ]
  },
  {
   "cell_type": "code",
   "execution_count": 248,
   "id": "2d49cd2e-ea40-495f-9eca-d56be26b8fa0",
   "metadata": {},
   "outputs": [
    {
     "name": "stdout",
     "output_type": "stream",
     "text": [
      "7.211102550927978\n",
      "2.23606797749979\n",
      "4.242640687119285\n",
      "7.211102550927978\n"
     ]
    }
   ],
   "source": [
    "# a=[(1,3),(7,8),(2,6),(9,3))]\n",
    "# b=(5,9)\n",
    "# find the max and min distance points\n",
    "a=[(1,3),(7,8),(2,6),(9,3)]\n",
    "b=(5,9)\n",
    "\n",
    "math.sqrt((b[0]-l1[0])**2+(b[1]-l1[1])**2)\n",
    "for i in a:\n",
    "    l1=i\n",
    "    print(math.sqrt((b[0]-l1[0])**2+(b[1]-l1[1])**2))\n"
   ]
  },
  {
   "cell_type": "code",
   "execution_count": null,
   "id": "bbc08676-2c15-4339-a04b-323dc3d6a29c",
   "metadata": {},
   "outputs": [],
   "source": [
    "# 4+6=16+36=52= root of 52= 7.21\n",
    "# 2+1=4+1=5  root of 5= 2.23\n",
    "# 3+3=9+9=18 root of 18= 4.242\n",
    "# 4+6=16+36=52 root of 52= 7.21"
   ]
  },
  {
   "cell_type": "code",
   "execution_count": 250,
   "id": "a21dfb24-a794-491d-8a0a-bb75d8499d1c",
   "metadata": {},
   "outputs": [
    {
     "name": "stdout",
     "output_type": "stream",
     "text": [
      "(1, 3) (7, 8)\n",
      "(1, 3) (2, 6)\n",
      "(1, 3) (9, 3)\n",
      "(1, 3) (2, 9)\n",
      "(1, 3) (10, 12)\n",
      "(7, 8) (7, 8)\n",
      "(7, 8) (2, 6)\n",
      "(7, 8) (9, 3)\n",
      "(7, 8) (2, 9)\n",
      "(7, 8) (10, 12)\n",
      "(2, 6) (7, 8)\n",
      "(2, 6) (2, 6)\n",
      "(2, 6) (9, 3)\n",
      "(2, 6) (2, 9)\n",
      "(2, 6) (10, 12)\n",
      "(9, 3) (7, 8)\n",
      "(9, 3) (2, 6)\n",
      "(9, 3) (9, 3)\n",
      "(9, 3) (2, 9)\n",
      "(9, 3) (10, 12)\n",
      "(2, 9) (7, 8)\n",
      "(2, 9) (2, 6)\n",
      "(2, 9) (9, 3)\n",
      "(2, 9) (2, 9)\n",
      "(2, 9) (10, 12)\n",
      "(10, 12) (7, 8)\n",
      "(10, 12) (2, 6)\n",
      "(10, 12) (9, 3)\n",
      "(10, 12) (2, 9)\n",
      "(10, 12) (10, 12)\n"
     ]
    }
   ],
   "source": [
    "# a=[(1,3),(7,8),(2,6),(9,3),(2,9),(10,12)]\n",
    "# find all the distance among the points\n",
    "# (1,3) with all other data points\n",
    "a=[(1,3),(7,8),(2,6),(9,3),(2,9),(10,12)]\n",
    "# (1,3)\n",
    "for i in a:\n",
    "    for j in a[1:]:\n",
    "        print(i,j)"
   ]
  },
  {
   "cell_type": "code",
   "execution_count": 252,
   "id": "04fb81b1-ee80-42ab-b9e0-1426b277d8ae",
   "metadata": {},
   "outputs": [
    {
     "name": "stdout",
     "output_type": "stream",
     "text": [
      "(1, 3)\n",
      "(1, 3) (7, 8)\n",
      "(1, 3) (2, 6)\n",
      "(1, 3) (9, 3)\n",
      "(1, 3) (2, 9)\n",
      "(1, 3) (10, 12)\n",
      "(7, 8)\n",
      "(7, 8) (7, 8)\n",
      "(7, 8) (2, 6)\n",
      "(7, 8) (9, 3)\n",
      "(7, 8) (2, 9)\n",
      "(7, 8) (10, 12)\n",
      "(2, 6)\n",
      "(2, 6) (7, 8)\n",
      "(2, 6) (2, 6)\n",
      "(2, 6) (9, 3)\n",
      "(2, 6) (2, 9)\n",
      "(2, 6) (10, 12)\n",
      "(9, 3)\n",
      "(9, 3) (7, 8)\n",
      "(9, 3) (2, 6)\n",
      "(9, 3) (9, 3)\n",
      "(9, 3) (2, 9)\n",
      "(9, 3) (10, 12)\n",
      "(2, 9)\n",
      "(2, 9) (7, 8)\n",
      "(2, 9) (2, 6)\n",
      "(2, 9) (9, 3)\n",
      "(2, 9) (2, 9)\n",
      "(2, 9) (10, 12)\n",
      "(10, 12)\n",
      "(10, 12) (7, 8)\n",
      "(10, 12) (2, 6)\n",
      "(10, 12) (9, 3)\n",
      "(10, 12) (2, 9)\n",
      "(10, 12) (10, 12)\n"
     ]
    }
   ],
   "source": [
    "a=[(1,3),(7,8),(2,6),(9,3),(2,9),(10,12)]\n",
    "# (1,3)\n",
    "# we want 1,3 with 7,8,\n",
    "#         1,3 with 2,6\n",
    "# a[1:] means (7,8),(2,6),(9,3),(2,9),(10,12)\n",
    "for i in a:\n",
    "    print(i)\n",
    "    for j in a[1:]:\n",
    "        print(i,j)\n",
    "# i=1,3  j=7,8\n",
    "# i=1,3  j=2,6"
   ]
  },
  {
   "cell_type": "code",
   "execution_count": null,
   "id": "441fa458-abd4-431a-8b04-88ce38afe5c0",
   "metadata": {},
   "outputs": [],
   "source": []
  }
 ],
 "metadata": {
  "kernelspec": {
   "display_name": "Python [conda env:base] *",
   "language": "python",
   "name": "conda-base-py"
  },
  "language_info": {
   "codemirror_mode": {
    "name": "ipython",
    "version": 3
   },
   "file_extension": ".py",
   "mimetype": "text/x-python",
   "name": "python",
   "nbconvert_exporter": "python",
   "pygments_lexer": "ipython3",
   "version": "3.12.7"
  }
 },
 "nbformat": 4,
 "nbformat_minor": 5
}

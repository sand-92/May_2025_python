{
 "cells": [
  {
   "cell_type": "code",
   "execution_count": null,
   "id": "0f2f5035-b65a-42b4-8337-5651a5ee6f26",
   "metadata": {},
   "outputs": [],
   "source": [
    "**Python Part-1**\n",
    "\n",
    "- python variables\n",
    "- Data types\n",
    "- type casting\n",
    "- print statements\n",
    "   - end-op\n",
    "   - sep-op\n",
    "- f string\n",
    "- format\n",
    "- eval\n",
    "- input\n",
    "- around\n",
    "- package information\n",
    "- basic codes\n",
    "- if else elif nested elif condition\n",
    "- try except\n",
    "- functions\n",
    "  - with out arguments\n",
    "  - with arguments\n",
    "  - default arguments (inside functions)\n",
    "  - global vs local varible\n",
    "  - return\n",
    "  - function in functions\n",
    "- Loop\n",
    "  - for loop\n",
    "  - while loop\n",
    "  - while True\n",
    "========================================================================================\n",
    "**Python part-2** \n",
    "- string\n",
    "- list\n",
    "- tuple\n",
    "- Dictionary\n",
    "- set- operation\n",
    "- list comperhension\n",
    "- lambda functions\n",
    "- file handling\n"
   ]
  },
  {
   "cell_type": "markdown",
   "id": "9af4c33c-52ca-41a3-9924-2aa944d54b05",
   "metadata": {},
   "source": [
    "**String**\n",
    "============ string part-1=====================\n",
    "- intialize the string\n",
    "- inbuilt functions\n",
    "    - type\n",
    "    - print\n",
    "    - len\n",
    "    - max\n",
    "    - min\n",
    "    - reversed\n",
    "    - sorted\n",
    "- index operation (for loop range vs operator)\n",
    "- concatnation\n",
    "- mutable vs immutable\n",
    "- slicing\n",
    "=============PART-2==========================\n",
    "- String Methods\n"
   ]
  },
  {
   "cell_type": "markdown",
   "id": "e9d0f87a-b49d-43d1-890b-803809fa3fa6",
   "metadata": {},
   "source": [
    "**Intialization**\n",
    "- Strings represent with single quote(' ')\n",
    "- Strings represent with double quote(\" \")\n",
    "- Strings represent with triple quote(''' ''')\n",
    "- when you print a string, the output shows as with out quote [print('hello')-------o/p is==hello]\n",
    "- a string represent with triple quotes:  **Doc string**\n",
    "- if you want highlight any word in entire string\n",
    "   - provide the entire string in double quotes and highlight the word with single quote vice varse "
   ]
  },
  {
   "cell_type": "code",
   "execution_count": 99,
   "id": "129df7f6-7f49-4df9-8490-de3eda38ff73",
   "metadata": {},
   "outputs": [],
   "source": [
    "str1='python'"
   ]
  },
  {
   "cell_type": "code",
   "execution_count": 101,
   "id": "53b92587-f99f-40b0-9ce4-912dab65a417",
   "metadata": {},
   "outputs": [
    {
     "data": {
      "text/plain": [
       "str"
      ]
     },
     "execution_count": 101,
     "metadata": {},
     "output_type": "execute_result"
    }
   ],
   "source": [
    "type(str1)"
   ]
  },
  {
   "cell_type": "code",
   "execution_count": 103,
   "id": "7ead6195-5449-4ca8-954b-6241996dca56",
   "metadata": {},
   "outputs": [
    {
     "data": {
      "text/plain": [
       "'python'"
      ]
     },
     "execution_count": 103,
     "metadata": {},
     "output_type": "execute_result"
    }
   ],
   "source": [
    "str2=\"python\"\n",
    "str2"
   ]
  },
  {
   "cell_type": "code",
   "execution_count": 105,
   "id": "8fd3d065-ee84-494c-b88b-8e78648adbea",
   "metadata": {},
   "outputs": [
    {
     "data": {
      "text/plain": [
       "str"
      ]
     },
     "execution_count": 105,
     "metadata": {},
     "output_type": "execute_result"
    }
   ],
   "source": [
    "type(str2)"
   ]
  },
  {
   "cell_type": "markdown",
   "id": "d04d5c6f-11c7-4f37-8a6a-dbcc16746e63",
   "metadata": {},
   "source": [
    "- \"\"\"\" means **Doc String**"
   ]
  },
  {
   "cell_type": "code",
   "execution_count": 35,
   "id": "42465280-5f0b-406d-ae6b-cdb150eda854",
   "metadata": {},
   "outputs": [
    {
     "name": "stdout",
     "output_type": "stream",
     "text": [
      "Hello python \n",
      "i learn python part-2 \n",
      "and complete the python part-1\n"
     ]
    }
   ],
   "source": [
    "str3=\"\"\"Hello python \n",
    "i learn python part-2 \n",
    "and complete the python part-1\"\"\"\n",
    "print(str3)"
   ]
  },
  {
   "cell_type": "code",
   "execution_count": 45,
   "id": "8b01f7aa-70e1-4eb8-9636-efa82d8360d9",
   "metadata": {},
   "outputs": [
    {
     "data": {
      "text/plain": [
       "\"i like 'python'\""
      ]
     },
     "execution_count": 45,
     "metadata": {},
     "output_type": "execute_result"
    }
   ],
   "source": [
    "str4=\"i like 'python'\"\n",
    "str4"
   ]
  },
  {
   "cell_type": "code",
   "execution_count": 49,
   "id": "f1213628-be43-41dd-a70f-b5a94b94898f",
   "metadata": {},
   "outputs": [
    {
     "name": "stdout",
     "output_type": "stream",
     "text": [
      "i like 'python'\n"
     ]
    }
   ],
   "source": [
    "print(str4)"
   ]
  },
  {
   "cell_type": "code",
   "execution_count": 51,
   "id": "c7438c7c-10c3-4b11-8c8b-a4622f213f05",
   "metadata": {},
   "outputs": [
    {
     "data": {
      "text/plain": [
       "'i like \"python\"'"
      ]
     },
     "execution_count": 51,
     "metadata": {},
     "output_type": "execute_result"
    }
   ],
   "source": [
    "str5='i like \"python\"'\n",
    "str5"
   ]
  },
  {
   "cell_type": "code",
   "execution_count": 53,
   "id": "0f6adc8b-8d58-4751-b563-c770a592fbf4",
   "metadata": {},
   "outputs": [
    {
     "name": "stdout",
     "output_type": "stream",
     "text": [
      "i like \"python\"\n"
     ]
    }
   ],
   "source": [
    "print(str5)"
   ]
  },
  {
   "cell_type": "markdown",
   "id": "9eff6e9c-aba5-40a7-b664-303c9b5648b0",
   "metadata": {},
   "source": [
    "**some in-built functions**"
   ]
  },
  {
   "cell_type": "code",
   "execution_count": 56,
   "id": "97a3704b-3660-4f51-804b-5a3b32722f15",
   "metadata": {},
   "outputs": [
    {
     "data": {
      "text/plain": [
       "'y'"
      ]
     },
     "execution_count": 56,
     "metadata": {},
     "output_type": "execute_result"
    }
   ],
   "source": [
    "max(\"Python\")\n",
    "# BCOZ of ASCII(american standard for information interchanging)"
   ]
  },
  {
   "cell_type": "code",
   "execution_count": 7,
   "id": "fcdf678c-331e-4b0a-ae79-10e4a2b6d3fc",
   "metadata": {},
   "outputs": [
    {
     "data": {
      "text/plain": [
       "'h'"
      ]
     },
     "execution_count": 7,
     "metadata": {},
     "output_type": "execute_result"
    }
   ],
   "source": [
    "min(\"python\")"
   ]
  },
  {
   "cell_type": "code",
   "execution_count": 60,
   "id": "0524a321-e581-49f3-a305-4fd1a23bf60e",
   "metadata": {},
   "outputs": [
    {
     "data": {
      "text/plain": [
       "6"
      ]
     },
     "execution_count": 60,
     "metadata": {},
     "output_type": "execute_result"
    }
   ],
   "source": [
    "len(\"Python\")"
   ]
  },
  {
   "cell_type": "code",
   "execution_count": 62,
   "id": "3e9b6725-2ed3-44cd-835a-2bf301f47b3a",
   "metadata": {},
   "outputs": [
    {
     "data": {
      "text/plain": [
       "str"
      ]
     },
     "execution_count": 62,
     "metadata": {},
     "output_type": "execute_result"
    }
   ],
   "source": [
    "type(\"Python\")"
   ]
  },
  {
   "cell_type": "code",
   "execution_count": 64,
   "id": "431a8d22-e73a-4d50-94ec-29b0f7b89248",
   "metadata": {},
   "outputs": [
    {
     "name": "stdout",
     "output_type": "stream",
     "text": [
      "Python\n"
     ]
    }
   ],
   "source": [
    "print(\"Python\")"
   ]
  },
  {
   "cell_type": "code",
   "execution_count": 66,
   "id": "f542e666-67ca-4f4b-bd22-7cfbee73259e",
   "metadata": {},
   "outputs": [
    {
     "data": {
      "text/plain": [
       "<reversed at 0x21a59700700>"
      ]
     },
     "execution_count": 66,
     "metadata": {},
     "output_type": "execute_result"
    }
   ],
   "source": [
    "reversed(\"python\")"
   ]
  },
  {
   "cell_type": "code",
   "execution_count": 68,
   "id": "b3fcd380-eab7-4078-9592-8c5e1879de7a",
   "metadata": {},
   "outputs": [
    {
     "data": {
      "text/plain": [
       "['h', 'n', 'o', 'p', 't', 'y']"
      ]
     },
     "execution_count": 68,
     "metadata": {},
     "output_type": "execute_result"
    }
   ],
   "source": [
    "sorted(\"python\")"
   ]
  },
  {
   "cell_type": "code",
   "execution_count": 102,
   "id": "25c0deb2-107a-45a6-81f0-2e7e050a344b",
   "metadata": {},
   "outputs": [],
   "source": [
    "str1='python '"
   ]
  },
  {
   "cell_type": "code",
   "execution_count": 11,
   "id": "e2a31644-4626-43c2-b181-df6445701fea",
   "metadata": {},
   "outputs": [
    {
     "data": {
      "text/plain": [
       "'y'"
      ]
     },
     "execution_count": 11,
     "metadata": {},
     "output_type": "execute_result"
    }
   ],
   "source": [
    "max(str1)\n",
    "# bcecause of ASCII"
   ]
  },
  {
   "cell_type": "code",
   "execution_count": 110,
   "id": "afd831aa-af30-455a-8549-2e9312ddf14b",
   "metadata": {},
   "outputs": [
    {
     "name": "stdout",
     "output_type": "stream",
     "text": [
      "p 112\n",
      "y 121\n",
      "t 116\n",
      "h 104\n",
      "o 111\n",
      "n 110\n"
     ]
    }
   ],
   "source": [
    "for i in str1:\n",
    "    print(i,ord(i))"
   ]
  },
  {
   "cell_type": "code",
   "execution_count": null,
   "id": "29bdb44c-b4f7-438f-bfdb-893af5402cfe",
   "metadata": {},
   "outputs": [],
   "source": [
    "max='y'\n",
    "min=''   # will come spase value is 32 \n",
    "32,104,110,111,112,116,121  ( low - high) \n",
    "'', h , n,  o,  p,  t,  y  (asending order)    "
   ]
  },
  {
   "cell_type": "code",
   "execution_count": 17,
   "id": "400033c4-710e-41d3-99ff-cd868b085e85",
   "metadata": {},
   "outputs": [
    {
     "data": {
      "text/plain": [
       "' '"
      ]
     },
     "execution_count": 17,
     "metadata": {},
     "output_type": "execute_result"
    }
   ],
   "source": [
    "min(str1)"
   ]
  },
  {
   "cell_type": "code",
   "execution_count": 19,
   "id": "833dd4b5-acb2-411e-a98f-b58384191e77",
   "metadata": {},
   "outputs": [
    {
     "data": {
      "text/plain": [
       "'i'"
      ]
     },
     "execution_count": 19,
     "metadata": {},
     "output_type": "execute_result"
    }
   ],
   "source": [
    "min('loki')"
   ]
  },
  {
   "cell_type": "code",
   "execution_count": 21,
   "id": "8f5d73d3-287c-49cb-8ea3-ea06c2e6c885",
   "metadata": {},
   "outputs": [
    {
     "data": {
      "text/plain": [
       "6"
      ]
     },
     "execution_count": 21,
     "metadata": {},
     "output_type": "execute_result"
    }
   ],
   "source": [
    "str1='python'\n",
    "len(str1)"
   ]
  },
  {
   "cell_type": "code",
   "execution_count": 27,
   "id": "d6625d62-6b81-489e-a110-58f7160f2f97",
   "metadata": {},
   "outputs": [],
   "source": [
    "str2='   '"
   ]
  },
  {
   "cell_type": "code",
   "execution_count": 29,
   "id": "6f28940c-1c0a-44de-8652-1d38faf84baa",
   "metadata": {},
   "outputs": [
    {
     "data": {
      "text/plain": [
       "3"
      ]
     },
     "execution_count": 29,
     "metadata": {},
     "output_type": "execute_result"
    }
   ],
   "source": [
    "len(str2)"
   ]
  },
  {
   "cell_type": "code",
   "execution_count": 31,
   "id": "05f72307-9da1-4c0d-a880-4a15c3030f90",
   "metadata": {},
   "outputs": [
    {
     "name": "stdout",
     "output_type": "stream",
     "text": [
      "   \n"
     ]
    }
   ],
   "source": [
    "print(str2)"
   ]
  },
  {
   "cell_type": "code",
   "execution_count": 33,
   "id": "17206426-31fd-4b8e-b574-7eefe91a21fa",
   "metadata": {},
   "outputs": [
    {
     "name": "stdout",
     "output_type": "stream",
     "text": [
      "python\n",
      " python\n"
     ]
    }
   ],
   "source": [
    "print('python')\n",
    "print(' python')"
   ]
  },
  {
   "cell_type": "markdown",
   "id": "5be1c23b-8f29-4546-94d5-2bdbbf573070",
   "metadata": {},
   "source": [
    "**sorted**\n",
    "\n",
    " - Sotred means sorting the letters based on the ASCII number\n",
    "- there two possiable sorting available\n",
    "- small to high (Ascending order)\n",
    "- high to small (Desending order)\n"
   ]
  },
  {
   "cell_type": "code",
   "execution_count": 9,
   "id": "05fa9fdf-bcb7-4326-8282-cd9dbde33cfb",
   "metadata": {},
   "outputs": [
    {
     "data": {
      "text/plain": [
       "['h', 'n', 'o', 'p', 't', 'y']"
      ]
     },
     "execution_count": 9,
     "metadata": {},
     "output_type": "execute_result"
    }
   ],
   "source": [
    "str1='python'\n",
    "sorted(str1)"
   ]
  },
  {
   "cell_type": "code",
   "execution_count": 11,
   "id": "ba43e6cc-4d63-4149-b281-063b525ebcf3",
   "metadata": {},
   "outputs": [
    {
     "data": {
      "text/plain": [
       "['h', 'n', 'o', 'p', 't', 'y']"
      ]
     },
     "execution_count": 11,
     "metadata": {},
     "output_type": "execute_result"
    }
   ],
   "source": [
    "sorted('python')"
   ]
  },
  {
   "cell_type": "markdown",
   "id": "d9b1f484-375e-469e-b4b1-1851f264a705",
   "metadata": {},
   "source": [
    "- sorted()--- when you apply the Shift Tab\n",
    "- there is some arguments will be available\n",
    "- there are two arguments: 1. iterable\n",
    "                         - 2. reverse = false\n",
    "- because reverse is a default argument by default ascending order is coming\n",
    "- if you want to change the order then change the default parameter value\n"
   ]
  },
  {
   "cell_type": "code",
   "execution_count": 21,
   "id": "a2c395fc-19df-4fbe-8fda-7cfefaec1e89",
   "metadata": {},
   "outputs": [
    {
     "data": {
      "text/plain": [
       "['y', 't', 'p', 'o', 'n', 'h']"
      ]
     },
     "execution_count": 21,
     "metadata": {},
     "output_type": "execute_result"
    }
   ],
   "source": [
    "sorted(str1,reverse=True)   # (hogh-low (Deseding order))"
   ]
  },
  {
   "cell_type": "code",
   "execution_count": 23,
   "id": "cd8accb5-8c9f-4fd6-a59a-ee84f480c7a9",
   "metadata": {},
   "outputs": [
    {
     "ename": "TypeError",
     "evalue": "sorted expected 1 argument, got 0",
     "output_type": "error",
     "traceback": [
      "\u001b[1;31m---------------------------------------------------------------------------\u001b[0m",
      "\u001b[1;31mTypeError\u001b[0m                                 Traceback (most recent call last)",
      "Cell \u001b[1;32mIn[23], line 1\u001b[0m\n\u001b[1;32m----> 1\u001b[0m \u001b[38;5;28msorted\u001b[39m(iterable\u001b[38;5;241m=\u001b[39mstr1,reverse\u001b[38;5;241m=\u001b[39m\u001b[38;5;28;01mFalse\u001b[39;00m)\n",
      "\u001b[1;31mTypeError\u001b[0m: sorted expected 1 argument, got 0"
     ]
    }
   ],
   "source": [
    "sorted(iterable=str1,reverse=False)"
   ]
  },
  {
   "cell_type": "code",
   "execution_count": 25,
   "id": "8eaa4eaa-f302-4782-829a-28167e282fa2",
   "metadata": {},
   "outputs": [
    {
     "ename": "SyntaxError",
     "evalue": "positional argument follows keyword argument (1574980832.py, line 1)",
     "output_type": "error",
     "traceback": [
      "\u001b[1;36m  Cell \u001b[1;32mIn[25], line 1\u001b[1;36m\u001b[0m\n\u001b[1;33m    sorted(iterable=str1,False)\u001b[0m\n\u001b[1;37m                              ^\u001b[0m\n\u001b[1;31mSyntaxError\u001b[0m\u001b[1;31m:\u001b[0m positional argument follows keyword argument\n"
     ]
    }
   ],
   "source": [
    "sorted(iterable=str1,False)"
   ]
  },
  {
   "cell_type": "code",
   "execution_count": 27,
   "id": "35043b31-efed-4e5c-9e8c-7109128c3232",
   "metadata": {},
   "outputs": [
    {
     "ename": "TypeError",
     "evalue": "sorted expected 1 argument, got 2",
     "output_type": "error",
     "traceback": [
      "\u001b[1;31m---------------------------------------------------------------------------\u001b[0m",
      "\u001b[1;31mTypeError\u001b[0m                                 Traceback (most recent call last)",
      "Cell \u001b[1;32mIn[27], line 1\u001b[0m\n\u001b[1;32m----> 1\u001b[0m \u001b[38;5;28msorted\u001b[39m(str1,\u001b[38;5;28;01mFalse\u001b[39;00m)\n",
      "\u001b[1;31mTypeError\u001b[0m: sorted expected 1 argument, got 2"
     ]
    }
   ],
   "source": [
    "sorted(str1,False)"
   ]
  },
  {
   "cell_type": "code",
   "execution_count": 29,
   "id": "1018ac41-d7cc-4124-a81f-5a89542fcbef",
   "metadata": {},
   "outputs": [
    {
     "data": {
      "text/plain": [
       "['y', 't', 'p', 'o', 'n', 'h']"
      ]
     },
     "execution_count": 29,
     "metadata": {},
     "output_type": "execute_result"
    }
   ],
   "source": [
    "sorted(str1,reverse=True)"
   ]
  },
  {
   "cell_type": "code",
   "execution_count": null,
   "id": "8e8e3470-ebbd-457d-bd53-0cbed3432716",
   "metadata": {},
   "outputs": [],
   "source": [
    "sorted(iterable=str1,reverse=False)  # F\n",
    "sorted(iterable=str1,False)          # F\n",
    "sorted(str1,False)                   # F\n",
    "sorted(str1,reverse=True)            # W"
   ]
  },
  {
   "cell_type": "code",
   "execution_count": null,
   "id": "976070fd-2692-4b35-9b19-7945c4cb50d8",
   "metadata": {},
   "outputs": [],
   "source": [
    "sorted(str1,reverse=True)"
   ]
  },
  {
   "cell_type": "markdown",
   "id": "de0fa02f-ff60-4bf1-bcfa-ca3bf29471c1",
   "metadata": {},
   "source": [
    "- we should not allowed to use iterable argument name while provide the value\n",
    "- we should use the argument names while provide the value after  '/'\n",
    "- we should not use the argument names before '/'\n",
    "   - iterable argument name is there before '/'  \n",
    "- so do not use iterable name"
   ]
  },
  {
   "cell_type": "markdown",
   "id": "f2aada0e-766d-48e9-91d1-a617e2c83168",
   "metadata": {},
   "source": [
    "- any function indicates **means\n",
    "- you can use any variable after**\n",
    "- after *there are two arguments are there \n",
    "    - key  (in built functions)\n",
    "    - *---indicates you can use any variable after\n",
    "    - reverse\n",
    "- you can use both \n",
    "- you can use anyone\n",
    "- you no need to anything"
   ]
  },
  {
   "cell_type": "code",
   "execution_count": 36,
   "id": "ac305a9c-be76-4b69-9adc-92db9cfbf857",
   "metadata": {},
   "outputs": [
    {
     "data": {
      "text/plain": [
       "['e', 'h', 'l', 'l', 'o']"
      ]
     },
     "execution_count": 36,
     "metadata": {},
     "output_type": "execute_result"
    }
   ],
   "source": [
    "sorted('hello')"
   ]
  },
  {
   "cell_type": "code",
   "execution_count": 38,
   "id": "c9fce0f0-328c-4064-b3fe-cb635e3faa73",
   "metadata": {},
   "outputs": [
    {
     "ename": "TypeError",
     "evalue": "sorted expected 1 argument, got 0",
     "output_type": "error",
     "traceback": [
      "\u001b[1;31m---------------------------------------------------------------------------\u001b[0m",
      "\u001b[1;31mTypeError\u001b[0m                                 Traceback (most recent call last)",
      "Cell \u001b[1;32mIn[38], line 1\u001b[0m\n\u001b[1;32m----> 1\u001b[0m \u001b[38;5;28msorted\u001b[39m(iterable\u001b[38;5;241m=\u001b[39m\u001b[38;5;124m'\u001b[39m\u001b[38;5;124mhello\u001b[39m\u001b[38;5;124m'\u001b[39m)\n",
      "\u001b[1;31mTypeError\u001b[0m: sorted expected 1 argument, got 0"
     ]
    }
   ],
   "source": [
    "sorted(iterable='hello')"
   ]
  },
  {
   "cell_type": "code",
   "execution_count": null,
   "id": "656415b3-4ea4-4355-ae51-da91ceef4d05",
   "metadata": {},
   "outputs": [],
   "source": [
    "sorted('hello')  # W\n",
    "sorted(iterable='hello') # F\n"
   ]
  },
  {
   "cell_type": "code",
   "execution_count": 40,
   "id": "8a0d1f47-4c0e-462c-80f9-968260df0bdd",
   "metadata": {},
   "outputs": [
    {
     "data": {
      "text/plain": [
       "['e', 'h', 'l', 'l', 'o']"
      ]
     },
     "execution_count": 40,
     "metadata": {},
     "output_type": "execute_result"
    }
   ],
   "source": [
    "sorted('hello')"
   ]
  },
  {
   "cell_type": "code",
   "execution_count": 42,
   "id": "c50d5774-d667-484f-9b78-4f73f3648187",
   "metadata": {},
   "outputs": [
    {
     "data": {
      "text/plain": [
       "['o', 'l', 'l', 'h', 'e']"
      ]
     },
     "execution_count": 42,
     "metadata": {},
     "output_type": "execute_result"
    }
   ],
   "source": [
    "sorted('hello',reverse=True)"
   ]
  },
  {
   "cell_type": "code",
   "execution_count": null,
   "id": "6bcc4f9b-f3f3-41eb-a4d9-85f18023b700",
   "metadata": {},
   "outputs": [],
   "source": [
    "# ASCII value it is giving the order"
   ]
  },
  {
   "cell_type": "code",
   "execution_count": 46,
   "id": "019341c7-995a-4cc0-bb67-44f48e25d839",
   "metadata": {},
   "outputs": [
    {
     "data": {
      "text/plain": [
       "['h', 'e', 'l', 'l', 'o']"
      ]
     },
     "execution_count": 46,
     "metadata": {},
     "output_type": "execute_result"
    }
   ],
   "source": [
    "sorted('hello',key=len)  # you will not understand bcoz dictionary concepts learn"
   ]
  },
  {
   "cell_type": "code",
   "execution_count": 48,
   "id": "ef220c77-160b-4e4b-b9c9-74991d1dcbc0",
   "metadata": {},
   "outputs": [
    {
     "data": {
      "text/plain": [
       "['h', 'e', 'l', 'l', 'o']"
      ]
     },
     "execution_count": 48,
     "metadata": {},
     "output_type": "execute_result"
    }
   ],
   "source": [
    "sorted('hello',reverse=True,key=len)"
   ]
  },
  {
   "cell_type": "code",
   "execution_count": 50,
   "id": "9b7fecdc-ff4e-4dc7-9b80-3610b9e76b46",
   "metadata": {},
   "outputs": [
    {
     "name": "stdout",
     "output_type": "stream",
     "text": [
      "3000\n",
      "8000\n",
      "2200\n",
      "700\n",
      "300\n"
     ]
    }
   ],
   "source": [
    "def add(a=100,b=200):\n",
    "    print(a+b)\n",
    "\n",
    "add(a=1000,b=2000)\n",
    "add(a=3000,b=5000)\n",
    "add(a=2000)    # a=2000,b=200=2200\n",
    "add(b=600)     # a=100,b=600=700\n",
    "add()"
   ]
  },
  {
   "cell_type": "markdown",
   "id": "f4d1270e-ca69-4d3f-8034-d86907ab1251",
   "metadata": {},
   "source": [
    "**reversed**"
   ]
  },
  {
   "cell_type": "markdown",
   "id": "a993c1b5-c099-4be9-977a-a420550ddd9e",
   "metadata": {},
   "source": [
    "vscode====we don't have markdown  \n",
    "if you want to write any information\n",
    "then we can use triple quotes"
   ]
  },
  {
   "cell_type": "code",
   "execution_count": 58,
   "id": "921b3fcb-7449-44dd-b1f9-b01cbc23e7b9",
   "metadata": {},
   "outputs": [],
   "source": [
    "str1='python'\n",
    "ans=reversed(str1)"
   ]
  },
  {
   "cell_type": "code",
   "execution_count": 60,
   "id": "f619cf0e-fcd7-4f74-ba06-b7a83115becd",
   "metadata": {},
   "outputs": [
    {
     "data": {
      "text/plain": [
       "reversed"
      ]
     },
     "execution_count": 60,
     "metadata": {},
     "output_type": "execute_result"
    }
   ],
   "source": [
    "type(ans)"
   ]
  },
  {
   "cell_type": "code",
   "execution_count": 68,
   "id": "456b3eee-3dd7-448f-8dc2-2b87b4950ee8",
   "metadata": {},
   "outputs": [
    {
     "data": {
      "text/plain": [
       "<reversed at 0x1eba5914880>"
      ]
     },
     "execution_count": 68,
     "metadata": {},
     "output_type": "execute_result"
    }
   ],
   "source": [
    "reversed(str1)\n",
    "# output is stored a memory location\n",
    "# whenever you want to see the output\n",
    "# use alist or for loop"
   ]
  },
  {
   "cell_type": "code",
   "execution_count": 64,
   "id": "aec3b839-a054-401e-909e-0a912832767c",
   "metadata": {},
   "outputs": [],
   "source": [
    "ans=reversed(str1)"
   ]
  },
  {
   "cell_type": "code",
   "execution_count": 70,
   "id": "17d1ad94-95a7-4270-85a6-ffff72e8a175",
   "metadata": {},
   "outputs": [
    {
     "name": "stdout",
     "output_type": "stream",
     "text": [
      "n\n",
      "o\n",
      "h\n",
      "t\n",
      "y\n",
      "p\n"
     ]
    }
   ],
   "source": [
    "for i in ans:\n",
    "    print(i)"
   ]
  },
  {
   "cell_type": "code",
   "execution_count": 72,
   "id": "15aeba59-28de-4888-9334-09e5d9dd6efe",
   "metadata": {},
   "outputs": [
    {
     "data": {
      "text/plain": [
       "['n', 'o', 'h', 't', 'y', 'p']"
      ]
     },
     "execution_count": 72,
     "metadata": {},
     "output_type": "execute_result"
    }
   ],
   "source": [
    "ans=reversed(str1)\n",
    "list(ans)"
   ]
  },
  {
   "cell_type": "code",
   "execution_count": 74,
   "id": "32ef8651-4320-446e-bede-f768eff76113",
   "metadata": {},
   "outputs": [
    {
     "name": "stdout",
     "output_type": "stream",
     "text": [
      "n\n",
      "o\n",
      "h\n",
      "t\n",
      "y\n",
      "p\n"
     ]
    }
   ],
   "source": [
    "str1='python'\n",
    "ans=reversed(str1)\n",
    "for i in ans:\n",
    "    print(i)"
   ]
  },
  {
   "cell_type": "markdown",
   "id": "45710f32-9720-44f9-a7f7-195ddb44ca22",
   "metadata": {},
   "source": [
    "**concatnation**"
   ]
  },
  {
   "cell_type": "code",
   "execution_count": 79,
   "id": "b347b1d3-ff2b-4cbc-b0d8-4c1b1777dbe4",
   "metadata": {},
   "outputs": [],
   "source": [
    "str1='hello'"
   ]
  },
  {
   "cell_type": "code",
   "execution_count": 81,
   "id": "91bcd392-7863-4d35-a9e4-16c50c3dea07",
   "metadata": {},
   "outputs": [],
   "source": [
    "str2='python'"
   ]
  },
  {
   "cell_type": "code",
   "execution_count": 87,
   "id": "ea89a146-7df0-4209-91ab-858b3aed0879",
   "metadata": {},
   "outputs": [
    {
     "data": {
      "text/plain": [
       "'hellopython'"
      ]
     },
     "execution_count": 87,
     "metadata": {},
     "output_type": "execute_result"
    }
   ],
   "source": [
    "str1+str2"
   ]
  },
  {
   "cell_type": "code",
   "execution_count": 89,
   "id": "d1d60330-c1f6-443e-9a45-1870a54c6817",
   "metadata": {},
   "outputs": [
    {
     "ename": "TypeError",
     "evalue": "unsupported operand type(s) for -: 'str' and 'str'",
     "output_type": "error",
     "traceback": [
      "\u001b[1;31m---------------------------------------------------------------------------\u001b[0m",
      "\u001b[1;31mTypeError\u001b[0m                                 Traceback (most recent call last)",
      "Cell \u001b[1;32mIn[89], line 1\u001b[0m\n\u001b[1;32m----> 1\u001b[0m str1\u001b[38;5;241m-\u001b[39mstr2\n",
      "\u001b[1;31mTypeError\u001b[0m: unsupported operand type(s) for -: 'str' and 'str'"
     ]
    }
   ],
   "source": [
    "str1-str2"
   ]
  },
  {
   "cell_type": "code",
   "execution_count": 91,
   "id": "281845d6-64e1-4a49-844e-4c07f92e44d2",
   "metadata": {},
   "outputs": [
    {
     "ename": "TypeError",
     "evalue": "can't multiply sequence by non-int of type 'str'",
     "output_type": "error",
     "traceback": [
      "\u001b[1;31m---------------------------------------------------------------------------\u001b[0m",
      "\u001b[1;31mTypeError\u001b[0m                                 Traceback (most recent call last)",
      "Cell \u001b[1;32mIn[91], line 1\u001b[0m\n\u001b[1;32m----> 1\u001b[0m str1\u001b[38;5;241m*\u001b[39mstr2\n",
      "\u001b[1;31mTypeError\u001b[0m: can't multiply sequence by non-int of type 'str'"
     ]
    }
   ],
   "source": [
    "str1*str2\n"
   ]
  },
  {
   "cell_type": "code",
   "execution_count": 93,
   "id": "9bb15a55-fd04-4819-a05b-934f5c5391bf",
   "metadata": {},
   "outputs": [
    {
     "ename": "TypeError",
     "evalue": "unsupported operand type(s) for /: 'str' and 'str'",
     "output_type": "error",
     "traceback": [
      "\u001b[1;31m---------------------------------------------------------------------------\u001b[0m",
      "\u001b[1;31mTypeError\u001b[0m                                 Traceback (most recent call last)",
      "Cell \u001b[1;32mIn[93], line 1\u001b[0m\n\u001b[1;32m----> 1\u001b[0m str1\u001b[38;5;241m/\u001b[39mstr2\n",
      "\u001b[1;31mTypeError\u001b[0m: unsupported operand type(s) for /: 'str' and 'str'"
     ]
    }
   ],
   "source": [
    "str1/str2"
   ]
  },
  {
   "cell_type": "code",
   "execution_count": null,
   "id": "523fedec-90b4-436a-bde4-ad58cd8f03cf",
   "metadata": {},
   "outputs": [],
   "source": [
    "TypeError: unsupported operand type(s) for -: 'str' and 'str'\n",
    "TypeError: can't multiply sequence by non-int of type 'str'\n",
    "TypeError: unsupported operand type(s) for /: 'str' and 'str'"
   ]
  },
  {
   "cell_type": "code",
   "execution_count": 116,
   "id": "c5c9a25a-f204-4649-9d70-07a07284f4aa",
   "metadata": {},
   "outputs": [
    {
     "data": {
      "text/plain": [
       "'pythonpython'"
      ]
     },
     "execution_count": 116,
     "metadata": {},
     "output_type": "execute_result"
    }
   ],
   "source": [
    "# TypeError: can't multiply sequence by non-int of type 'str'\n",
    "# sequence='python'\n",
    "'python'*2"
   ]
  },
  {
   "cell_type": "code",
   "execution_count": 99,
   "id": "0f88137b-d94d-4dc3-8dc4-7c2a702facc0",
   "metadata": {},
   "outputs": [
    {
     "data": {
      "text/plain": [
       "'pythonpython'"
      ]
     },
     "execution_count": 99,
     "metadata": {},
     "output_type": "execute_result"
    }
   ],
   "source": [
    "'python'+'python'"
   ]
  },
  {
   "cell_type": "markdown",
   "id": "8cd3eb6c-14c4-405f-ac39-1fbbaca629c8",
   "metadata": {},
   "source": [
    "**index**"
   ]
  },
  {
   "cell_type": "code",
   "execution_count": 110,
   "id": "fbaf8e5d-021f-4862-bfc4-7cfd6901c2d3",
   "metadata": {},
   "outputs": [],
   "source": [
    "str1='python'\n",
    "\n",
    "# -6   -5    -4   -3   -2    -1\n",
    "# 'p'  'y'  't'  'h'   'o'  'n'\n",
    "#  0    1    2    3    4     5"
   ]
  },
  {
   "cell_type": "code",
   "execution_count": 112,
   "id": "2d04e501-b043-4a74-8995-fadb1b7d4e02",
   "metadata": {},
   "outputs": [
    {
     "data": {
      "text/plain": [
       "('p', 'p')"
      ]
     },
     "execution_count": 112,
     "metadata": {},
     "output_type": "execute_result"
    }
   ],
   "source": [
    "# acessing indicates[]\n",
    "str1[0],str1[-6]"
   ]
  },
  {
   "cell_type": "code",
   "execution_count": 118,
   "id": "17048186-d2e2-460f-a3d3-71a75aaa9455",
   "metadata": {},
   "outputs": [
    {
     "data": {
      "text/plain": [
       "('h', 'h')"
      ]
     },
     "execution_count": 118,
     "metadata": {},
     "output_type": "execute_result"
    }
   ],
   "source": [
    "str1[3],str1[-3]"
   ]
  },
  {
   "cell_type": "code",
   "execution_count": 1,
   "id": "7d746669-29f3-4181-a169-3f1d50cd806d",
   "metadata": {},
   "outputs": [],
   "source": [
    "str1='hello python'\n",
    "\n",
    "#  0   1   2   3   4   5   6   7   8   9   10  11\n",
    "#  h   e   l   l   o       p   y   t   h   o   n\n",
    "#-12 -11 -10  -9  -8  -7  -6  -5   -4  -3  -2  -1 "
   ]
  },
  {
   "cell_type": "code",
   "execution_count": 13,
   "id": "7b4aa4d1-8126-4efd-9ec2-98fa8c7d5cb0",
   "metadata": {},
   "outputs": [
    {
     "data": {
      "text/plain": [
       "('l', ' ', 'h')"
      ]
     },
     "execution_count": 13,
     "metadata": {},
     "output_type": "execute_result"
    }
   ],
   "source": [
    "str1[-10],str1[5],str1[-12]"
   ]
  },
  {
   "cell_type": "code",
   "execution_count": 11,
   "id": "c73a59b9-0fba-46a3-9b3a-2b90a1e5eed8",
   "metadata": {},
   "outputs": [
    {
     "ename": "IndexError",
     "evalue": "string index out of range",
     "output_type": "error",
     "traceback": [
      "\u001b[1;31m---------------------------------------------------------------------------\u001b[0m",
      "\u001b[1;31mIndexError\u001b[0m                                Traceback (most recent call last)",
      "Cell \u001b[1;32mIn[11], line 1\u001b[0m\n\u001b[1;32m----> 1\u001b[0m str1[\u001b[38;5;241m11\u001b[39m],str1[\u001b[38;5;241m0\u001b[39m],str1[\u001b[38;5;241m33\u001b[39m],[\u001b[38;5;241m-\u001b[39m\u001b[38;5;241m12\u001b[39m]\n",
      "\u001b[1;31mIndexError\u001b[0m: string index out of range"
     ]
    }
   ],
   "source": [
    "str1[11],str1[0],str1[33],[-12]"
   ]
  },
  {
   "cell_type": "code",
   "execution_count": 21,
   "id": "a6680fab-2922-49e4-90f1-1488047a284b",
   "metadata": {},
   "outputs": [],
   "source": [
    "str1='lokeshwari'\n",
    "\n",
    "# 0   1   2   3   4   5   6   7   8   9 \n",
    "# l   o   k   e   s   h   w   a   r   i\n",
    "#-10 -9  -8  -7  -6  -5  -4  -3  -2  -1"
   ]
  },
  {
   "cell_type": "code",
   "execution_count": 38,
   "id": "2ef88631-9e0f-4d1d-897b-06728ba1fac6",
   "metadata": {},
   "outputs": [
    {
     "data": {
      "text/plain": [
       "('l', 'o', 'k', 'i')"
      ]
     },
     "execution_count": 38,
     "metadata": {},
     "output_type": "execute_result"
    }
   ],
   "source": [
    "str1[-10],str1[1],str1[-8],str1[9]"
   ]
  },
  {
   "cell_type": "code",
   "execution_count": null,
   "id": "e8914bb4-cecc-43de-abdc-340255924f84",
   "metadata": {},
   "outputs": [],
   "source": [
    "str1[-10]\n",
    "str1[-9]\n",
    "str1[-8]\n",
    "str1[-1]\n",
    "\n",
    "str1[i]   # it is a number i=0  and ends=9"
   ]
  },
  {
   "cell_type": "code",
   "execution_count": 36,
   "id": "0059a03d-bb50-40c5-a994-929cccde8026",
   "metadata": {},
   "outputs": [
    {
     "name": "stdout",
     "output_type": "stream",
     "text": [
      "l\n",
      "o\n",
      "k\n",
      "e\n"
     ]
    }
   ],
   "source": [
    "for i in range(4):\n",
    "    print(str1[i])"
   ]
  },
  {
   "cell_type": "code",
   "execution_count": 42,
   "id": "bba09ba2-164a-44d4-b6a0-55e146cea2fd",
   "metadata": {},
   "outputs": [
    {
     "name": "stdout",
     "output_type": "stream",
     "text": [
      "0 l\n",
      "1 o\n",
      "2 k\n",
      "3 e\n",
      "4 s\n",
      "5 h\n",
      "6 w\n",
      "7 a\n",
      "8 r\n",
      "9 i\n"
     ]
    }
   ],
   "source": [
    "str1='lokeshwari'\n",
    "for i in range(len(str1)):\n",
    "    print(i,str1[i])\n"
   ]
  },
  {
   "cell_type": "code",
   "execution_count": 122,
   "id": "cea58b82-351e-41cb-8906-8e09b2539833",
   "metadata": {},
   "outputs": [
    {
     "name": "stdout",
     "output_type": "stream",
     "text": [
      "the positive index of l is: 0 \n",
      "the positive index of o is: 1 \n",
      "the positive index of k is: 2 \n",
      "the positive index of e is: 3 \n",
      "the positive index of s is: 4 \n",
      "the positive index of h is: 5 \n",
      "the positive index of w is: 6 \n",
      "the positive index of a is: 7 \n",
      "the positive index of r is: 8 \n",
      "the positive index of i is: 9 \n"
     ]
    }
   ],
   "source": [
    "str1='lokeshwari'\n",
    "for i in range(len(str1)):\n",
    "    print(f\"the positive index of {str1[i]} is: {i} \")"
   ]
  },
  {
   "cell_type": "code",
   "execution_count": 124,
   "id": "1cbfc286-1195-4072-9c41-869779458450",
   "metadata": {},
   "outputs": [
    {
     "name": "stdout",
     "output_type": "stream",
     "text": [
      "the negative index of l is: -10\n",
      "the negative index of o is: -9\n",
      "the negative index of k is: -8\n",
      "the negative index of e is: -7\n",
      "the negative index of s is: -6\n",
      "the negative index of h is: -5\n",
      "the negative index of w is: -4\n",
      "the negative index of a is: -3\n",
      "the negative index of r is: -2\n",
      "the negative index of i is: -1\n"
     ]
    }
   ],
   "source": [
    "n=len(str1)\n",
    "for i in range(n):\n",
    "    print(f\"the negative index of {str1[i]} is: {i-n}\")"
   ]
  },
  {
   "cell_type": "code",
   "execution_count": 97,
   "id": "1796ee38-a457-4afa-b92c-742e305afdff",
   "metadata": {},
   "outputs": [
    {
     "name": "stdout",
     "output_type": "stream",
     "text": [
      "-10 is (-)ve index and 0 is positive index of l\n",
      "-9 is (-)ve index and 1 is positive index of o\n",
      "-8 is (-)ve index and 2 is positive index of k\n",
      "-7 is (-)ve index and 3 is positive index of e\n",
      "-6 is (-)ve index and 4 is positive index of s\n",
      "-5 is (-)ve index and 5 is positive index of h\n",
      "-4 is (-)ve index and 6 is positive index of w\n",
      "-3 is (-)ve index and 7 is positive index of a\n",
      "-2 is (-)ve index and 8 is positive index of r\n",
      "-1 is (-)ve index and 9 is positive index of i\n"
     ]
    }
   ],
   "source": [
    "#  -10 is negative index and 0 is positive index\n",
    "n=len(str1)\n",
    "for i in range(n):\n",
    "    print(f\"{i-n} is (-)ve index and {i} is positive index of {str1[i]}\")"
   ]
  },
  {
   "cell_type": "markdown",
   "id": "a94093f2-70ec-485e-92d3-9f8ca0f3ff8a",
   "metadata": {},
   "source": [
    "**when to use range -- when to use in operator**\n",
    "- any problem if we work with index use range operator\n",
    "- range operator will give index as well as character\n",
    "- any problem if index is not useful only character is useful then go with **in**\n",
    "- with **in** operator we cannot get index"
   ]
  },
  {
   "cell_type": "code",
   "execution_count": null,
   "id": "d2f5a57c-707a-47e2-a46c-14cddb8d240e",
   "metadata": {},
   "outputs": [],
   "source": [
    "# 4. write a program count the number of 'a' letters in a given string\n",
    "# str1='ola ola ola'\n",
    "# 5. write a program to find the index of 'a' letters in a given string\n",
    "# str1='ola ola ola'\n",
    "# 6. write a program to get sum of all the indexes of 'a' letters in a given string\n",
    "# str1='ola ola ola'\n",
    "# 7.write a program to find the number of vowels in a given string\n",
    "# str1='hello how are you'\n",
    "# 8.write a program to find the non repeated vowels in given string\n",
    "# str1='hello how are you'"
   ]
  },
  {
   "cell_type": "code",
   "execution_count": 109,
   "id": "a88231f6-4133-4b46-8cc5-b1e0910aadcf",
   "metadata": {},
   "outputs": [
    {
     "name": "stdout",
     "output_type": "stream",
     "text": [
      "the total 'a' are: 1\n"
     ]
    }
   ],
   "source": [
    "# 4. write a program count the number of 'a' letters in a given string\n",
    "# str1='hello python how are you'\n",
    "str1='hello python how are you'\n",
    "count=0\n",
    "for i in str1:\n",
    "    if i=='a':\n",
    "        count=count+1\n",
    "\n",
    "print(\"the total 'a' are:\", count)"
   ]
  },
  {
   "cell_type": "code",
   "execution_count": 3,
   "id": "250f8c67-dcd4-4f73-a722-8146cfe759ec",
   "metadata": {},
   "outputs": [
    {
     "name": "stdout",
     "output_type": "stream",
     "text": [
      "the total 'a' are: 1\n"
     ]
    }
   ],
   "source": [
    "str1='hello python how are you'\n",
    "count=0\n",
    "for i in range(len(str1)):\n",
    "    if str1[i]=='a':\n",
    "        count=count+1\n",
    "\n",
    "print(\"the total 'a' are:\", count)"
   ]
  },
  {
   "cell_type": "code",
   "execution_count": 9,
   "id": "d694e4c9-4dde-4fc4-bc2b-2a51fe171be2",
   "metadata": {},
   "outputs": [
    {
     "name": "stdout",
     "output_type": "stream",
     "text": [
      "the total 'a' are is: 3\n",
      "the total 'a' are is: 3\n"
     ]
    }
   ],
   "source": [
    "########## IN-OPE ##########################\n",
    "str1='ola ola ola'\n",
    "count=0\n",
    "for i in str1:\n",
    "    if i=='a':\n",
    "        count=count+1\n",
    "\n",
    "print(\"the total 'a' are is:\", count)\n",
    "########## RANGE-METHOD #################\n",
    "str1='ola ola ola'\n",
    "count=0\n",
    "for i in range(len(str1)):\n",
    "    if str1[i]=='a':\n",
    "        count=count+1\n",
    "\n",
    "print(\"the total 'a' are is:\", count)"
   ]
  },
  {
   "cell_type": "code",
   "execution_count": 21,
   "id": "24ee7be3-0c65-4687-8b08-e417b42569e6",
   "metadata": {},
   "outputs": [
    {
     "name": "stdout",
     "output_type": "stream",
     "text": [
      "a has index is at: 2 \n",
      "a has index is at: 6 \n",
      "a has index is at: 10 \n"
     ]
    }
   ],
   "source": [
    "# 5. write a program to find the index of 'a' letters in a given string\n",
    "# str1='ola ola ola'\n",
    "str1='ola ola ola'\n",
    "for i in range(len(str1)):\n",
    "    if str1[i]=='a':\n",
    "        print(f\"{str1[i]} has index is at: {i} \")"
   ]
  },
  {
   "cell_type": "code",
   "execution_count": 11,
   "id": "9627ba08-e8cd-4de7-a641-f6ef5e133fb0",
   "metadata": {},
   "outputs": [],
   "source": [
    "str1='ola ola ola'\n",
    "# o l a   o l a   o l a \n",
    "# 0 1 2 3 4 5 6 7 8 9 10 "
   ]
  },
  {
   "cell_type": "code",
   "execution_count": 207,
   "id": "de5e5cee-0262-430c-bf0e-4fe5169200c9",
   "metadata": {},
   "outputs": [
    {
     "name": "stdout",
     "output_type": "stream",
     "text": [
      "the total summ is: 18\n"
     ]
    }
   ],
   "source": [
    "# 6. write a program to get sum of all the indexes of 'a' letters in a given string\n",
    "# str1='ola ola ola'\n",
    "str1='ola ola ola'\n",
    "summ=0\n",
    "for i in range(len(str1)):\n",
    "    if str1[i]=='a':\n",
    "        summ=summ+i\n",
    "\n",
    "print(\"the total summ is:\",summ)"
   ]
  },
  {
   "cell_type": "code",
   "execution_count": 45,
   "id": "a6ca63e8-bb2a-4149-ab19-d594bb62f7d0",
   "metadata": {},
   "outputs": [
    {
     "name": "stdout",
     "output_type": "stream",
     "text": [
      "e\n",
      "o\n",
      "o\n",
      "a\n",
      "e\n",
      "o\n",
      "u\n",
      "the number of vowels are: 7\n"
     ]
    }
   ],
   "source": [
    "#7.write a program to find the number of vowels in a given string\n",
    "str1='hello how are you'\n",
    "count=0\n",
    "for i in str1:\n",
    "    if i in 'aeiou':\n",
    "        print(i)\n",
    "        count=count+1\n",
    "\n",
    "print(\"the number of vowels are:\", count)"
   ]
  },
  {
   "cell_type": "code",
   "execution_count": 209,
   "id": "1f9595e3-87bc-414f-aa7e-4aaff406fff1",
   "metadata": {},
   "outputs": [
    {
     "name": "stdout",
     "output_type": "stream",
     "text": [
      "e\n",
      "o\n",
      "a\n",
      "u\n",
      "the total count is: 4\n"
     ]
    }
   ],
   "source": [
    "# 8.we need avoid the repetation\n",
    "# write a program to find the non repeated vowels in given string\n",
    "# ** take empty string s1=''\n",
    "# take onther vowel string s2='aeiou'\n",
    "# iterate each letter\n",
    "# condition1= the letter in s2\n",
    "# condition2= the letter not in s1\n",
    "# then that is our desired vowel them immediately push that letters in to s1\n",
    "# s1=s1+<letter>\n",
    "# evert vowel should be come but we need to avoid the repetation\n",
    "s1=''\n",
    "s2='aeiou'\n",
    "str1='hello how are you'\n",
    "count=0\n",
    "for i in str1:\n",
    "    if i in s2 and i not in s1:\n",
    "        print(i)\n",
    "        s1=s1+i\n",
    "        count=count+1\n",
    "\n",
    "print(\"the total count is:\",count)"
   ]
  },
  {
   "cell_type": "code",
   "execution_count": 5,
   "id": "71786258-4fe8-4e2c-b017-bab2761f87bb",
   "metadata": {},
   "outputs": [
    {
     "name": "stdout",
     "output_type": "stream",
     "text": [
      "e\n",
      "o\n",
      "a\n",
      "u\n",
      "the total count is: {4}\n"
     ]
    }
   ],
   "source": [
    "# 8.we need avoid the repetation\n",
    "# write a program to find the non repeated vowels in given string\n",
    "# ** take empty string s1=''\n",
    "# take onther vowel string s2='aeiou'\n",
    "# iterate each letter\n",
    "# condition1= the letter in s2\n",
    "# condition2= the letter not in s1\n",
    "# then that is our desired vowel them immediately push that letters in to s1\n",
    "# s1=s1+<letter>\n",
    "# evert vowel should be come but we need to avoid the repetation\n",
    "# non repeating \n",
    "count=0\n",
    "s1=' '\n",
    "s2='aeiou'\n",
    "str1='hello how are you'\n",
    "for i in str1:\n",
    "    if i in s2 and i not in s1:\n",
    "        print(i)\n",
    "        s1=s1+i\n",
    "        count=count+1\n",
    "print('the total count is:', {count})"
   ]
  },
  {
   "cell_type": "code",
   "execution_count": 25,
   "id": "15920e2c-9b8b-4e9e-bfdc-9eeb1da8acf9",
   "metadata": {},
   "outputs": [
    {
     "name": "stdout",
     "output_type": "stream",
     "text": [
      "9 8 7 6 5 4 3 2 1 D C B A the total count is: {13}\n"
     ]
    }
   ],
   "source": [
    "# slicing\n",
    "# method string complete\n",
    "# functions\n",
    "# strings=====>list dictionary\n",
    "count=0\n",
    "str2='ABCD123456789'\n",
    "ans=reversed(str2)\n",
    "for i in ans:\n",
    "    print(i,end=\" \")\n",
    "    \n",
    "    count=count+1\n",
    "list(ans)\n",
    "\n",
    "print('the total count is:', {count})"
   ]
  },
  {
   "cell_type": "code",
   "execution_count": 15,
   "id": "a7658d0f-8c05-4257-b5f6-d070473b52a9",
   "metadata": {},
   "outputs": [],
   "source": [
    "ans=reversed(str2)"
   ]
  },
  {
   "cell_type": "code",
   "execution_count": 17,
   "id": "c96ce95a-c7af-4577-8966-38aa0ce8cff5",
   "metadata": {},
   "outputs": [
    {
     "data": {
      "text/plain": [
       "['9', '8', '7', '6', '5', '4', '3', '2', '1', 'D', 'C', 'B', 'A']"
      ]
     },
     "execution_count": 17,
     "metadata": {},
     "output_type": "execute_result"
    }
   ],
   "source": [
    "list(ans)"
   ]
  },
  {
   "cell_type": "markdown",
   "id": "caeb0606-750f-4c91-8b6a-7735149f3128",
   "metadata": {},
   "source": [
    "### Mutable-Immutable"
   ]
  },
  {
   "cell_type": "code",
   "execution_count": 5,
   "id": "a85733dd-cb10-4aaf-a126-a14b5370b803",
   "metadata": {},
   "outputs": [],
   "source": [
    "# mutable -- change\n",
    "# immutable -- no change\n",
    "\n",
    "str1='welcome'\n",
    "\n",
    "# i want to change 'l' with 'L'\n",
    "# can we change 'l' with 'L' ?"
   ]
  },
  {
   "cell_type": "code",
   "execution_count": 13,
   "id": "38bae1aa-2d01-4712-911a-bb144a65db79",
   "metadata": {},
   "outputs": [
    {
     "ename": "TypeError",
     "evalue": "'str' object does not support item assignment",
     "output_type": "error",
     "traceback": [
      "\u001b[1;31m---------------------------------------------------------------------------\u001b[0m",
      "\u001b[1;31mTypeError\u001b[0m                                 Traceback (most recent call last)",
      "Cell \u001b[1;32mIn[13], line 1\u001b[0m\n\u001b[1;32m----> 1\u001b[0m str1[\u001b[38;5;241m2\u001b[39m]\u001b[38;5;241m=\u001b[39m\u001b[38;5;124m'\u001b[39m\u001b[38;5;124mL\u001b[39m\u001b[38;5;124m'\u001b[39m\n",
      "\u001b[1;31mTypeError\u001b[0m: 'str' object does not support item assignment"
     ]
    }
   ],
   "source": [
    "str1[2]='L'"
   ]
  },
  {
   "cell_type": "code",
   "execution_count": 31,
   "id": "6f30e655-244c-4774-995b-40532e3c3fb5",
   "metadata": {},
   "outputs": [
    {
     "data": {
      "text/plain": [
       "[11, 22, 'Loki', 44, 55]"
      ]
     },
     "execution_count": 31,
     "metadata": {},
     "output_type": "execute_result"
    }
   ],
   "source": [
    "l=[11,22,33,44,55]\n",
    "l[2]='Loki'\n",
    "l"
   ]
  },
  {
   "cell_type": "code",
   "execution_count": 33,
   "id": "f6a03a8f-70b2-4c04-90d3-3c02f023c1c8",
   "metadata": {},
   "outputs": [
    {
     "data": {
      "text/plain": [
       "[11, 22, 300, 44, 55]"
      ]
     },
     "execution_count": 33,
     "metadata": {},
     "output_type": "execute_result"
    }
   ],
   "source": [
    "l=[11,22,33,44,55]\n",
    "l[2]=300\n",
    "l"
   ]
  },
  {
   "cell_type": "markdown",
   "id": "7f5a1e2e-c6e7-4c94-8a02-7a68d8e70315",
   "metadata": {},
   "source": [
    "- if the elements will change using indexing is called as **mutable** \n",
    "- otherwise **immutable**"
   ]
  },
  {
   "cell_type": "markdown",
   "id": "8654a3cb-c68a-4629-93d3-d4653f137dcd",
   "metadata": {},
   "source": [
    "### slicing"
   ]
  },
  {
   "cell_type": "markdown",
   "id": "1a1b717e-9927-4058-b998-575e2373ba85",
   "metadata": {},
   "source": [
    "- Slice means piece of the string\n",
    "- it is similer to for loop:**Start, Stop, Step** "
   ]
  },
  {
   "cell_type": "code",
   "execution_count": 6,
   "id": "5437b3c2-b169-40ea-a000-1ba78a9772da",
   "metadata": {},
   "outputs": [],
   "source": [
    "str1='hello how are you'"
   ]
  },
  {
   "cell_type": "code",
   "execution_count": 8,
   "id": "27465ab0-5e63-4984-99e3-dc8ba783ab7a",
   "metadata": {},
   "outputs": [
    {
     "data": {
      "text/plain": [
       "17"
      ]
     },
     "execution_count": 8,
     "metadata": {},
     "output_type": "execute_result"
    }
   ],
   "source": [
    "len(str1)"
   ]
  },
  {
   "cell_type": "code",
   "execution_count": null,
   "id": "568b04a8-9ade-49b0-805a-8e72d1eff8b9",
   "metadata": {},
   "outputs": [],
   "source": [
    "-17   -16   -15   -14   -13   -12   -11   -10   -9   -8   -7    -6   -5   -4   -3   -2   -1\n",
    " h     e     l     l     o            h     o    w         a     r    e         y    o    u\n",
    " 0     1     2     3     4      5     6     7    8    9    10   11   12    13   14   15   16"
   ]
  },
  {
   "cell_type": "markdown",
   "id": "c6641d01-a384-46ce-b815-46c7150e2824",
   "metadata": {},
   "source": [
    "**case-1:str1[str1:(last)]**    # last means not mentioned any value\n",
    "- Start=start value only\n",
    "- last not mentioned means it will go to till last"
   ]
  },
  {
   "cell_type": "code",
   "execution_count": 12,
   "id": "8ce27f0d-0c5f-401c-9193-ce6f8bfe086a",
   "metadata": {},
   "outputs": [
    {
     "data": {
      "text/plain": [
       "' how are you'"
      ]
     },
     "execution_count": 12,
     "metadata": {},
     "output_type": "execute_result"
    }
   ],
   "source": [
    "str1[5:]"
   ]
  },
  {
   "cell_type": "code",
   "execution_count": 20,
   "id": "8fbe60f3-e226-48e7-8617-a653ff7795dd",
   "metadata": {},
   "outputs": [
    {
     "data": {
      "text/plain": [
       "'e you'"
      ]
     },
     "execution_count": 20,
     "metadata": {},
     "output_type": "execute_result"
    }
   ],
   "source": [
    "str1[-5:]"
   ]
  },
  {
   "cell_type": "markdown",
   "id": "d95aa419-6a19-49b0-bf17-e5a4c758f35e",
   "metadata": {},
   "source": [
    "**case-2: str1[start:stop]**\n",
    "- start=start value\n",
    "- step is not mentioned means=positive one\n",
    "- last=stop-1"
   ]
  },
  {
   "cell_type": "code",
   "execution_count": 24,
   "id": "9a0c51c2-e9f8-49d5-931b-7c5738e27eb5",
   "metadata": {},
   "outputs": [
    {
     "data": {
      "text/plain": [
       "'llo how are yo'"
      ]
     },
     "execution_count": 24,
     "metadata": {},
     "output_type": "execute_result"
    }
   ],
   "source": [
    "str1[2:16]\n",
    "# start=2\n",
    "# last value=16-1=15"
   ]
  },
  {
   "cell_type": "code",
   "execution_count": 30,
   "id": "829e1a6a-0ab6-4c01-b3b4-4d4292b8659c",
   "metadata": {},
   "outputs": [
    {
     "data": {
      "text/plain": [
       "' how are y'"
      ]
     },
     "execution_count": 30,
     "metadata": {},
     "output_type": "execute_result"
    }
   ],
   "source": [
    "str1[-12:-2]\n",
    "# start=-12\n",
    "# step=positive one\n",
    "# last=stop-1=-2-1=-3"
   ]
  },
  {
   "cell_type": "code",
   "execution_count": 40,
   "id": "cf0a7945-7841-47d6-a40d-2d7d09377457",
   "metadata": {},
   "outputs": [
    {
     "data": {
      "text/plain": [
       "' how are yo'"
      ]
     },
     "execution_count": 40,
     "metadata": {},
     "output_type": "execute_result"
    }
   ],
   "source": [
    "str1[5:-1]"
   ]
  },
  {
   "cell_type": "code",
   "execution_count": 46,
   "id": "80c2ecf0-6f6d-424d-9dab-c7dfc4ce5d9e",
   "metadata": {},
   "outputs": [
    {
     "data": {
      "text/plain": [
       "'o'"
      ]
     },
     "execution_count": 46,
     "metadata": {},
     "output_type": "execute_result"
    }
   ],
   "source": [
    "str1[15:-1]"
   ]
  },
  {
   "cell_type": "code",
   "execution_count": 54,
   "id": "805276c9-407e-45e7-a418-6a273eef88f7",
   "metadata": {},
   "outputs": [
    {
     "data": {
      "text/plain": [
       "'lohwaey'"
      ]
     },
     "execution_count": 54,
     "metadata": {},
     "output_type": "execute_result"
    }
   ],
   "source": [
    "# -17   -16   -15   -14   -13   -12   -11   -10   -9   -8   -7    -6   -5   -4   -3   -2   -1\n",
    "# h     e     l     l     o            h     o    w         a     r    e         y    o    u\n",
    "# 0     1     2     3     4      5     6     7    8    9    10   11   12    13   14   15   16\n",
    "\n",
    "str1[2:15:2] # p\n",
    "str1[2:15:-2] # NP\n",
    "str1[2:-15:2] # NP\n",
    "str1[-2:15:2] # NP\n",
    "str1[-2:-15:2] # NP\n",
    "str1[-2:-15:-2] # P\n",
    "str1[15:2:2] # NP\n",
    "str1[15:2:-2] # P\n",
    "str1[15:-2:2] # NP\n",
    "str1[15:-2:-2] # NP\n",
    "str1[-15:2:2] #NP\n",
    "str1[-15:-2:2] #NP\n",
    "str1[-15:-2:-2] #NP"
   ]
  },
  {
   "cell_type": "code",
   "execution_count": 92,
   "id": "ed1f896e-e931-429a-aa86-6ffae8015436",
   "metadata": {},
   "outputs": [
    {
     "data": {
      "text/plain": [
       "'llo how are you'"
      ]
     },
     "execution_count": 92,
     "metadata": {},
     "output_type": "execute_result"
    }
   ],
   "source": [
    "str1[2:25]"
   ]
  },
  {
   "cell_type": "code",
   "execution_count": 94,
   "id": "b84a2314-7498-4a1f-8354-362a8c4e71e9",
   "metadata": {},
   "outputs": [
    {
     "ename": "IndexError",
     "evalue": "string index out of range",
     "output_type": "error",
     "traceback": [
      "\u001b[1;31m---------------------------------------------------------------------------\u001b[0m",
      "\u001b[1;31mIndexError\u001b[0m                                Traceback (most recent call last)",
      "Cell \u001b[1;32mIn[94], line 1\u001b[0m\n\u001b[1;32m----> 1\u001b[0m str1[\u001b[38;5;241m25\u001b[39m]\n",
      "\u001b[1;31mIndexError\u001b[0m: string index out of range"
     ]
    }
   ],
   "source": [
    "str1[25]"
   ]
  },
  {
   "cell_type": "code",
   "execution_count": 96,
   "id": "8d10ed45-c090-490a-9a68-2b9512812d1c",
   "metadata": {},
   "outputs": [
    {
     "data": {
      "text/plain": [
       "'uoy era woh olleh'"
      ]
     },
     "execution_count": 96,
     "metadata": {},
     "output_type": "execute_result"
    }
   ],
   "source": [
    "# str1[start:stop:step]\n",
    "str1[:]    # [start:stop]\n",
    "str1[::]   # [start:stop:step]\n",
    "str1[::-1] # reversed str1"
   ]
  },
  {
   "cell_type": "code",
   "execution_count": null,
   "id": "6760e6f3-c40a-4f5c-b7e8-45ad9df314bc",
   "metadata": {},
   "outputs": [],
   "source": [
    "- Intialization\n",
    "- print\n",
    "- max/min\n",
    "- len\n",
    "- reversed/sorted\n",
    "- index\n",
    "  - for loop with range operator\n",
    "  - for loop in operator\n",
    "- mutable/immitable\n",
    "- concatanation\n",
    "- slicing"
   ]
  },
  {
   "cell_type": "markdown",
   "id": "e1da9266-65e7-486b-a9b0-81b6b0a8072a",
   "metadata": {},
   "source": [
    "## Methods"
   ]
  },
  {
   "cell_type": "code",
   "execution_count": 132,
   "id": "afd3f1c2-1aeb-41ee-b2e7-51fdeeb75b41",
   "metadata": {},
   "outputs": [
    {
     "data": {
      "text/plain": [
       "['BPF',\n",
       " 'LOG4',\n",
       " 'NV_MAGICCONST',\n",
       " 'RECIP_BPF',\n",
       " 'Random',\n",
       " 'SG_MAGICCONST',\n",
       " 'SystemRandom',\n",
       " 'TWOPI',\n",
       " '_ONE',\n",
       " '_Sequence',\n",
       " '__all__',\n",
       " '__builtins__',\n",
       " '__cached__',\n",
       " '__doc__',\n",
       " '__file__',\n",
       " '__loader__',\n",
       " '__name__',\n",
       " '__package__',\n",
       " '__spec__',\n",
       " '_accumulate',\n",
       " '_acos',\n",
       " '_bisect',\n",
       " '_ceil',\n",
       " '_cos',\n",
       " '_e',\n",
       " '_exp',\n",
       " '_fabs',\n",
       " '_floor',\n",
       " '_index',\n",
       " '_inst',\n",
       " '_isfinite',\n",
       " '_lgamma',\n",
       " '_log',\n",
       " '_log2',\n",
       " '_os',\n",
       " '_pi',\n",
       " '_random',\n",
       " '_repeat',\n",
       " '_sha512',\n",
       " '_sin',\n",
       " '_sqrt',\n",
       " '_test',\n",
       " '_test_generator',\n",
       " '_urandom',\n",
       " '_warn',\n",
       " 'betavariate',\n",
       " 'binomialvariate',\n",
       " 'choice',\n",
       " 'choices',\n",
       " 'expovariate',\n",
       " 'gammavariate',\n",
       " 'gauss',\n",
       " 'getrandbits',\n",
       " 'getstate',\n",
       " 'lognormvariate',\n",
       " 'normalvariate',\n",
       " 'paretovariate',\n",
       " 'randbytes',\n",
       " 'randint',\n",
       " 'random',\n",
       " 'randrange',\n",
       " 'sample',\n",
       " 'seed',\n",
       " 'setstate',\n",
       " 'shuffle',\n",
       " 'triangular',\n",
       " 'uniform',\n",
       " 'vonmisesvariate',\n",
       " 'weibullvariate']"
      ]
     },
     "execution_count": 132,
     "metadata": {},
     "output_type": "execute_result"
    }
   ],
   "source": [
    "import random\n",
    "dir(random)"
   ]
  },
  {
   "cell_type": "code",
   "execution_count": 138,
   "id": "1e534167-0a4c-416c-b5c6-f96426cb1661",
   "metadata": {},
   "outputs": [
    {
     "data": {
      "text/plain": [
       "['__add__',\n",
       " '__class__',\n",
       " '__contains__',\n",
       " '__delattr__',\n",
       " '__dir__',\n",
       " '__doc__',\n",
       " '__eq__',\n",
       " '__format__',\n",
       " '__ge__',\n",
       " '__getattribute__',\n",
       " '__getitem__',\n",
       " '__getnewargs__',\n",
       " '__getstate__',\n",
       " '__gt__',\n",
       " '__hash__',\n",
       " '__init__',\n",
       " '__init_subclass__',\n",
       " '__iter__',\n",
       " '__le__',\n",
       " '__len__',\n",
       " '__lt__',\n",
       " '__mod__',\n",
       " '__mul__',\n",
       " '__ne__',\n",
       " '__new__',\n",
       " '__reduce__',\n",
       " '__reduce_ex__',\n",
       " '__repr__',\n",
       " '__rmod__',\n",
       " '__rmul__',\n",
       " '__setattr__',\n",
       " '__sizeof__',\n",
       " '__str__',\n",
       " '__subclasshook__',\n",
       " 'capitalize',\n",
       " 'casefold',\n",
       " 'center',\n",
       " 'count',\n",
       " 'encode',\n",
       " 'endswith',\n",
       " 'expandtabs',\n",
       " 'find',\n",
       " 'format',\n",
       " 'format_map',\n",
       " 'index',\n",
       " 'isalnum',\n",
       " 'isalpha',\n",
       " 'isascii',\n",
       " 'isdecimal',\n",
       " 'isdigit',\n",
       " 'isidentifier',\n",
       " 'islower',\n",
       " 'isnumeric',\n",
       " 'isprintable',\n",
       " 'isspace',\n",
       " 'istitle',\n",
       " 'isupper',\n",
       " 'join',\n",
       " 'ljust',\n",
       " 'lower',\n",
       " 'lstrip',\n",
       " 'maketrans',\n",
       " 'partition',\n",
       " 'removeprefix',\n",
       " 'removesuffix',\n",
       " 'replace',\n",
       " 'rfind',\n",
       " 'rindex',\n",
       " 'rjust',\n",
       " 'rpartition',\n",
       " 'rsplit',\n",
       " 'rstrip',\n",
       " 'split',\n",
       " 'splitlines',\n",
       " 'startswith',\n",
       " 'strip',\n",
       " 'swapcase',\n",
       " 'title',\n",
       " 'translate',\n",
       " 'upper',\n",
       " 'zfill']"
      ]
     },
     "execution_count": 138,
     "metadata": {},
     "output_type": "execute_result"
    }
   ],
   "source": [
    "lokeshwari='python'\n",
    "dir(lokeshwari)"
   ]
  },
  {
   "cell_type": "code",
   "execution_count": 146,
   "id": "bffe9189-294a-4f27-a01e-4dc9c4fe5d2d",
   "metadata": {},
   "outputs": [
    {
     "data": {
      "text/plain": [
       "'PYTHON'"
      ]
     },
     "execution_count": 146,
     "metadata": {},
     "output_type": "execute_result"
    }
   ],
   "source": [
    "lokeshwari='python'\n",
    "dir(lokeshwari)\n",
    "# upper\n",
    "lokeshwari.upper()"
   ]
  },
  {
   "cell_type": "code",
   "execution_count": 148,
   "id": "0d429971-99e7-4d1e-9510-0200d5392ee2",
   "metadata": {},
   "outputs": [
    {
     "data": {
      "text/plain": [
       "'PYTHON'"
      ]
     },
     "execution_count": 148,
     "metadata": {},
     "output_type": "execute_result"
    }
   ],
   "source": [
    "# <package name>.<method name>\n",
    "lokeshwari.upper()"
   ]
  },
  {
   "cell_type": "code",
   "execution_count": 152,
   "id": "ccc60ba6-2e78-48e2-aa69-ad19e99442b4",
   "metadata": {},
   "outputs": [],
   "source": [
    "loki='string'"
   ]
  },
  {
   "cell_type": "code",
   "execution_count": 183,
   "id": "5ab3cbc5-d5f6-4129-893b-a2de403331a4",
   "metadata": {},
   "outputs": [
    {
     "data": {
      "text/plain": [
       "'STRING'"
      ]
     },
     "execution_count": 183,
     "metadata": {},
     "output_type": "execute_result"
    }
   ],
   "source": [
    "loki.upper()"
   ]
  },
  {
   "cell_type": "code",
   "execution_count": 156,
   "id": "c953d02a-98b5-4263-90fa-996e3e4422d6",
   "metadata": {},
   "outputs": [
    {
     "data": {
      "text/plain": [
       "'string'"
      ]
     },
     "execution_count": 156,
     "metadata": {},
     "output_type": "execute_result"
    }
   ],
   "source": [
    "loki.lower()"
   ]
  },
  {
   "cell_type": "code",
   "execution_count": 160,
   "id": "c57c4b31-b786-479e-abab-c5c17f144442",
   "metadata": {},
   "outputs": [
    {
     "data": {
      "text/plain": [
       "'string'"
      ]
     },
     "execution_count": 160,
     "metadata": {},
     "output_type": "execute_result"
    }
   ],
   "source": [
    "loki.casefold()"
   ]
  },
  {
   "cell_type": "code",
   "execution_count": 178,
   "id": "e3f839dd-7244-4acc-ab01-21c2435674b1",
   "metadata": {},
   "outputs": [
    {
     "data": {
      "text/plain": [
       "'string'"
      ]
     },
     "execution_count": 178,
     "metadata": {},
     "output_type": "execute_result"
    }
   ],
   "source": [
    "loki.center(2)"
   ]
  },
  {
   "cell_type": "code",
   "execution_count": 166,
   "id": "88c65ac3-6087-4f0f-963c-6e141532474d",
   "metadata": {},
   "outputs": [
    {
     "ename": "AttributeError",
     "evalue": "'str' object has no attribute 'captalize'",
     "output_type": "error",
     "traceback": [
      "\u001b[1;31m---------------------------------------------------------------------------\u001b[0m",
      "\u001b[1;31mAttributeError\u001b[0m                            Traceback (most recent call last)",
      "Cell \u001b[1;32mIn[166], line 1\u001b[0m\n\u001b[1;32m----> 1\u001b[0m loki\u001b[38;5;241m.\u001b[39mcaptalize\n",
      "\u001b[1;31mAttributeError\u001b[0m: 'str' object has no attribute 'captalize'"
     ]
    }
   ],
   "source": [
    "loki.captalize"
   ]
  },
  {
   "cell_type": "code",
   "execution_count": 168,
   "id": "bddcacaa-d6ee-4f19-ae5b-d04eb9d53a60",
   "metadata": {},
   "outputs": [
    {
     "data": {
      "text/plain": [
       "'String'"
      ]
     },
     "execution_count": 168,
     "metadata": {},
     "output_type": "execute_result"
    }
   ],
   "source": [
    "loki.title()"
   ]
  },
  {
   "cell_type": "markdown",
   "id": "5962fced-405d-4864-951e-95b970f323b9",
   "metadata": {},
   "source": [
    "### output will not overwrite"
   ]
  },
  {
   "cell_type": "markdown",
   "id": "1c4734ab-7a5f-4077-ab5e-5a635ea1fe47",
   "metadata": {},
   "source": [
    "- whenever we apply the function, always apply shift+tab\n",
    "- then if any arguments are there try to understand those\n",
    "- in that one argument name is called as **inplace**\n",
    "- inplace=True the result will be overwrite in original variable\n",
    "- if inplace is not available or inplace=**False**\n",
    "- then the output will not overwrite\n",
    "- in the upper case there is no argument\n",
    "- so when we apply upper the output will not overwrite\n"
   ]
  },
  {
   "cell_type": "code",
   "execution_count": 4,
   "id": "f3bb2778-7bbb-4a27-acd3-33c2ff441053",
   "metadata": {},
   "outputs": [],
   "source": [
    "loki='string'\n",
    "loki_upper=loki.upper()"
   ]
  },
  {
   "cell_type": "code",
   "execution_count": 8,
   "id": "10231180-187a-46a9-ba98-aa14f2926b91",
   "metadata": {},
   "outputs": [
    {
     "name": "stdout",
     "output_type": "stream",
     "text": [
      "string\n",
      "STRING\n"
     ]
    }
   ],
   "source": [
    "print(loki)\n",
    "print(loki_upper)"
   ]
  },
  {
   "cell_type": "code",
   "execution_count": null,
   "id": "0e18a4cc-49db-474d-a5b5-b722c515c4a7",
   "metadata": {},
   "outputs": [],
   "source": [
    "df.dropna() # will check the missing values will come why bcoz inplace=True"
   ]
  },
  {
   "cell_type": "code",
   "execution_count": 10,
   "id": "e496ff9d-4cdc-42cd-975c-90f612df49ae",
   "metadata": {},
   "outputs": [
    {
     "data": {
      "text/plain": [
       "'string'"
      ]
     },
     "execution_count": 10,
     "metadata": {},
     "output_type": "execute_result"
    }
   ],
   "source": [
    "loki.lower()"
   ]
  },
  {
   "cell_type": "code",
   "execution_count": 14,
   "id": "b73f25b1-fe8d-47d2-86a2-4da6bbba22d0",
   "metadata": {},
   "outputs": [
    {
     "data": {
      "text/plain": [
       "'string'"
      ]
     },
     "execution_count": 14,
     "metadata": {},
     "output_type": "execute_result"
    }
   ],
   "source": [
    "'STRING'.lower()"
   ]
  },
  {
   "cell_type": "code",
   "execution_count": 18,
   "id": "2b1681ca-0873-4cb6-86e4-899826053a82",
   "metadata": {},
   "outputs": [
    {
     "ename": "NameError",
     "evalue": "name 'lower' is not defined",
     "output_type": "error",
     "traceback": [
      "\u001b[1;31m---------------------------------------------------------------------------\u001b[0m",
      "\u001b[1;31mNameError\u001b[0m                                 Traceback (most recent call last)",
      "Cell \u001b[1;32mIn[18], line 1\u001b[0m\n\u001b[1;32m----> 1\u001b[0m lower(\u001b[38;5;124m'\u001b[39m\u001b[38;5;124mSTRING\u001b[39m\u001b[38;5;124m'\u001b[39m)\n",
      "\u001b[1;31mNameError\u001b[0m: name 'lower' is not defined"
     ]
    }
   ],
   "source": [
    "lower('STRING')"
   ]
  },
  {
   "cell_type": "code",
   "execution_count": 20,
   "id": "c835d14b-b7c3-41a2-ae6b-537b0bf7d27e",
   "metadata": {},
   "outputs": [
    {
     "data": {
      "text/plain": [
       "'G'"
      ]
     },
     "execution_count": 20,
     "metadata": {},
     "output_type": "execute_result"
    }
   ],
   "source": [
    "min('STRING')"
   ]
  },
  {
   "cell_type": "code",
   "execution_count": 22,
   "id": "4ed2a771-7222-403e-9f1d-ef374b88998f",
   "metadata": {},
   "outputs": [
    {
     "data": {
      "text/plain": [
       "'t'"
      ]
     },
     "execution_count": 22,
     "metadata": {},
     "output_type": "execute_result"
    }
   ],
   "source": [
    "max('string')"
   ]
  },
  {
   "cell_type": "code",
   "execution_count": 24,
   "id": "fac28f23-00be-4e8b-91b5-dd8ce6d87caf",
   "metadata": {},
   "outputs": [
    {
     "data": {
      "text/plain": [
       "6"
      ]
     },
     "execution_count": 24,
     "metadata": {},
     "output_type": "execute_result"
    }
   ],
   "source": [
    "len('string')"
   ]
  },
  {
   "cell_type": "code",
   "execution_count": null,
   "id": "7c509794-2967-4e3b-9887-ac8116f4f39a",
   "metadata": {},
   "outputs": [],
   "source": [
    "'STRING'.lower() # p\n",
    "lower('STRING')  # np\n",
    "min('STRING')    # P\n",
    "max('string')    # p\n",
    "len('string')    # p"
   ]
  },
  {
   "cell_type": "markdown",
   "id": "6e737c33-5f15-4f6c-abf4-d4b2e6f1a137",
   "metadata": {},
   "source": [
    "### Methods Vs Inbuilt Functions"
   ]
  },
  {
   "cell_type": "markdown",
   "id": "a86656eb-1dde-4e7a-b070-83a6d93e06fd",
   "metadata": {},
   "source": [
    "- inbuilt functions applicable for all python data\n",
    "- ex: print,int,max,min,type....\n",
    "- acess: inbuilt_functions(<value>)     \n",
    "- methods is a specific use for different data types    \n",
    "- acess: <package>.<methodname>()\n",
    "- acess: <element>.<methodname>()                       "
   ]
  },
  {
   "cell_type": "code",
   "execution_count": 32,
   "id": "4d2ce731-39e6-425e-bfb2-38beb46121e3",
   "metadata": {},
   "outputs": [
    {
     "data": {
      "text/plain": [
       "'string'"
      ]
     },
     "execution_count": 32,
     "metadata": {},
     "output_type": "execute_result"
    }
   ],
   "source": [
    "'string'.casefold() "
   ]
  },
  {
   "cell_type": "code",
   "execution_count": 34,
   "id": "1c115a7b-4bc1-410d-bd7c-610e98dc8826",
   "metadata": {},
   "outputs": [
    {
     "data": {
      "text/plain": [
       "'string'"
      ]
     },
     "execution_count": 34,
     "metadata": {},
     "output_type": "execute_result"
    }
   ],
   "source": [
    "'STRING'.casefold()\n",
    "# 'string'.casefold() \n",
    "#'STRING'.casefold()   always the output will come small letters"
   ]
  },
  {
   "cell_type": "markdown",
   "id": "f4698e06-84b4-482b-8069-8ac30de305a0",
   "metadata": {},
   "source": [
    "### Capitalize"
   ]
  },
  {
   "cell_type": "code",
   "execution_count": 41,
   "id": "070faff3-348e-40ae-8ca1-c2d4e4d9616e",
   "metadata": {},
   "outputs": [
    {
     "data": {
      "text/plain": [
       "'Welcome'"
      ]
     },
     "execution_count": 41,
     "metadata": {},
     "output_type": "execute_result"
    }
   ],
   "source": [
    "str1='Welcome'\n",
    "str1.capitalize() "
   ]
  },
  {
   "cell_type": "code",
   "execution_count": 43,
   "id": "56467f02-94e5-4372-9db7-de1418994bd7",
   "metadata": {},
   "outputs": [
    {
     "data": {
      "text/plain": [
       "'Hello how are you'"
      ]
     },
     "execution_count": 43,
     "metadata": {},
     "output_type": "execute_result"
    }
   ],
   "source": [
    "str1='hello how are you'\n",
    "str1.capitalize()"
   ]
  },
  {
   "cell_type": "markdown",
   "id": "9d1c6e59-061e-4572-9a97-e45e9179993d",
   "metadata": {},
   "source": [
    "### title"
   ]
  },
  {
   "cell_type": "code",
   "execution_count": 45,
   "id": "6d8bb5be-d435-4895-99b1-1ae803d7e8d5",
   "metadata": {},
   "outputs": [
    {
     "data": {
      "text/plain": [
       "'Python'"
      ]
     },
     "execution_count": 45,
     "metadata": {},
     "output_type": "execute_result"
    }
   ],
   "source": [
    "str1='python'\n",
    "str1.title()"
   ]
  },
  {
   "cell_type": "code",
   "execution_count": 49,
   "id": "31d2e44f-f742-4c77-8484-0d76b2cd4a0f",
   "metadata": {},
   "outputs": [
    {
     "data": {
      "text/plain": [
       "'I Learn Python'"
      ]
     },
     "execution_count": 49,
     "metadata": {},
     "output_type": "execute_result"
    }
   ],
   "source": [
    "str1='i learn python'\n",
    "str1.title()"
   ]
  },
  {
   "cell_type": "code",
   "execution_count": 52,
   "id": "1bdf4dab-6afd-412d-86fb-2570ab3cdde4",
   "metadata": {},
   "outputs": [
    {
     "data": {
      "text/plain": [
       "'Python'"
      ]
     },
     "execution_count": 52,
     "metadata": {},
     "output_type": "execute_result"
    }
   ],
   "source": [
    "'python'.title()"
   ]
  },
  {
   "cell_type": "markdown",
   "id": "5a68c4d2-8adc-41a0-b1dc-3c23aaada8b5",
   "metadata": {},
   "source": [
    "### center"
   ]
  },
  {
   "cell_type": "code",
   "execution_count": 69,
   "id": "b54f1200-d86d-4ecf-b5a6-58790530edb7",
   "metadata": {},
   "outputs": [
    {
     "data": {
      "text/plain": [
       "'**********python*********'"
      ]
     },
     "execution_count": 69,
     "metadata": {},
     "output_type": "execute_result"
    }
   ],
   "source": [
    "str1='python'\n",
    "str1.center(25,'*')"
   ]
  },
  {
   "cell_type": "markdown",
   "id": "8105e6fb-5546-401a-844c-59a1e7902967",
   "metadata": {},
   "source": [
    "### replace"
   ]
  },
  {
   "cell_type": "code",
   "execution_count": 3,
   "id": "3c56a4e2-9a33-4e15-b117-2364a01f24e3",
   "metadata": {},
   "outputs": [
    {
     "data": {
      "text/plain": [
       "'weLcome'"
      ]
     },
     "execution_count": 3,
     "metadata": {},
     "output_type": "execute_result"
    }
   ],
   "source": [
    "str1='welcome'\n",
    "# replace 'l' with 'L'\n",
    "str1.replace('l','L')"
   ]
  },
  {
   "cell_type": "code",
   "execution_count": 5,
   "id": "064d24f2-b1e5-439b-8a35-012b95ee6fff",
   "metadata": {},
   "outputs": [
    {
     "data": {
      "text/plain": [
       "'weLLLLLLcome'"
      ]
     },
     "execution_count": 5,
     "metadata": {},
     "output_type": "execute_result"
    }
   ],
   "source": [
    "str1='wellllllcome'\n",
    "str1.replace('l','L')"
   ]
  },
  {
   "cell_type": "code",
   "execution_count": 7,
   "id": "97a6b4bb-a07a-4182-a58b-504f2de7b624",
   "metadata": {},
   "outputs": [
    {
     "data": {
      "text/plain": [
       "'weLlllllcome'"
      ]
     },
     "execution_count": 7,
     "metadata": {},
     "output_type": "execute_result"
    }
   ],
   "source": [
    "str1='wellllllcome'\n",
    "str1.replace('l','L',1)"
   ]
  },
  {
   "cell_type": "code",
   "execution_count": 15,
   "id": "9a970f49-584e-4662-9406-f78e0fd515a0",
   "metadata": {},
   "outputs": [
    {
     "data": {
      "text/plain": [
       "'weLLLLllcome'"
      ]
     },
     "execution_count": 15,
     "metadata": {},
     "output_type": "execute_result"
    }
   ],
   "source": [
    "str1='wellllllcome'\n",
    "str1.replace('l','L',4)"
   ]
  },
  {
   "cell_type": "code",
   "execution_count": 17,
   "id": "c15ecc7c-b87c-47b7-8676-9cab24f52224",
   "metadata": {},
   "outputs": [
    {
     "ename": "NameError",
     "evalue": "name 'srt1' is not defined",
     "output_type": "error",
     "traceback": [
      "\u001b[1;31m---------------------------------------------------------------------------\u001b[0m",
      "\u001b[1;31mNameError\u001b[0m                                 Traceback (most recent call last)",
      "Cell \u001b[1;32mIn[17], line 2\u001b[0m\n\u001b[0;32m      1\u001b[0m str1\u001b[38;5;241m=\u001b[39m\u001b[38;5;124m'\u001b[39m\u001b[38;5;124mWelcome\u001b[39m\u001b[38;5;124m'\u001b[39m\n\u001b[1;32m----> 2\u001b[0m srt1\u001b[38;5;241m.\u001b[39mreplace(\u001b[38;5;124m'\u001b[39m\u001b[38;5;124mz\u001b[39m\u001b[38;5;124m'\u001b[39m,\u001b[38;5;124m'\u001b[39m\u001b[38;5;124mZ\u001b[39m\u001b[38;5;124m'\u001b[39m)\n",
      "\u001b[1;31mNameError\u001b[0m: name 'srt1' is not defined"
     ]
    }
   ],
   "source": [
    "srt1.replace('z','Z')"
   ]
  },
  {
   "cell_type": "markdown",
   "id": "41fc853e-ca97-40c0-920a-1186eb633836",
   "metadata": {},
   "source": [
    "### How to replace the only second letter"
   ]
  },
  {
   "cell_type": "code",
   "execution_count": 252,
   "id": "90911ee4-96fe-4188-a920-e2356fbdbb95",
   "metadata": {},
   "outputs": [
    {
     "data": {
      "text/plain": [
       "'$esta$t'"
      ]
     },
     "execution_count": 252,
     "metadata": {},
     "output_type": "execute_result"
    }
   ],
   "source": [
    "str1='restart'\n",
    "str1.replace('r','$')"
   ]
  },
  {
   "cell_type": "markdown",
   "id": "00b4defd-eb22-4a61-ab9b-58c62e8a6688",
   "metadata": {},
   "source": [
    "- till first 'r' is the one string\n",
    "- after first 'r' is the another string"
   ]
  },
  {
   "cell_type": "code",
   "execution_count": 46,
   "id": "b3a47ac3-9f9b-44d0-baba-87d86e6c4d77",
   "metadata": {},
   "outputs": [
    {
     "data": {
      "text/plain": [
       "'resta$t'"
      ]
     },
     "execution_count": 46,
     "metadata": {},
     "output_type": "execute_result"
    }
   ],
   "source": [
    "str1='restart'\n",
    "s1=str1[0]  # indexing\n",
    "s2=str1[1:] # slicing\n",
    "s3=s2.replace('r','$') # replace\n",
    "s1+s3  # concatenation"
   ]
  },
  {
   "cell_type": "code",
   "execution_count": 79,
   "id": "5507f73d-10e2-4a32-8a00-ab76100eee1f",
   "metadata": {},
   "outputs": [
    {
     "data": {
      "text/plain": [
       "'resta$t'"
      ]
     },
     "execution_count": 79,
     "metadata": {},
     "output_type": "execute_result"
    }
   ],
   "source": [
    "str1='restart'\n",
    "str1[::-1].replace('r','$',1)[::-1]"
   ]
  },
  {
   "cell_type": "markdown",
   "id": "5a5cf276-77d8-430d-b325-1f40c3f33c56",
   "metadata": {},
   "source": [
    "### index"
   ]
  },
  {
   "cell_type": "code",
   "execution_count": null,
   "id": "c3725cc9-dc3d-4acf-b728-973535573913",
   "metadata": {},
   "outputs": [],
   "source": [
    "str1='restart restart'\n",
    "# i want to replace the third 'r'\n",
    "# third 'r' means we have already two 'r's\n",
    "# we need to slice the sentances\n",
    "#  till second 'r' :one string\n",
    "# after second 'r': one string\n",
    "\n",
    "# but here the drawback is we need to find the index of second 'r'\n",
    "# we are manually counting\n",
    "\n",
    "# next qn: is there any method to give automatically the index of letter"
   ]
  },
  {
   "cell_type": "code",
   "execution_count": 82,
   "id": "a680e0a7-68c2-4aae-8390-a7111b8b7414",
   "metadata": {},
   "outputs": [
    {
     "data": {
      "text/plain": [
       "0"
      ]
     },
     "execution_count": 82,
     "metadata": {},
     "output_type": "execute_result"
    }
   ],
   "source": [
    "str1='hello hai how are you'\n",
    "str1.index('h') "
   ]
  },
  {
   "cell_type": "code",
   "execution_count": 84,
   "id": "27ec69a2-92bd-439a-b4e3-c5da3b03c1b2",
   "metadata": {},
   "outputs": [
    {
     "data": {
      "text/plain": [
       "(12, 4)"
      ]
     },
     "execution_count": 84,
     "metadata": {},
     "output_type": "execute_result"
    }
   ],
   "source": [
    "str1.index('w'),str1.index('o')  "
   ]
  },
  {
   "cell_type": "code",
   "execution_count": 90,
   "id": "b328524f-45e8-4cc2-b143-42fffbaf99a6",
   "metadata": {},
   "outputs": [
    {
     "data": {
      "text/plain": [
       "3"
      ]
     },
     "execution_count": 90,
     "metadata": {},
     "output_type": "execute_result"
    }
   ],
   "source": [
    "#hello hai\n",
    "#01234568\n",
    "str1='welho hai how are you'\n",
    "str1.index('h',3+1)"
   ]
  },
  {
   "cell_type": "code",
   "execution_count": 128,
   "id": "3c463062-9a9f-49b9-9374-8653d7ca6764",
   "metadata": {},
   "outputs": [
    {
     "data": {
      "text/plain": [
       "(0, 4, 8, 12)"
      ]
     },
     "execution_count": 128,
     "metadata": {},
     "output_type": "execute_result"
    }
   ],
   "source": [
    "str1='hai hai hai hai'\n",
    "i1=str1.index('h') \n",
    "i2=str1.index('h',i1+1)  # we are searching for 'h' from i1+1(0+1=1) index onwards \n",
    "i3=str1.index('h',i2+1)  # we are searchinng for 'h' from i2+1(4+1=5) index onwerds\n",
    "i4=str1.index('h',i3+1)  # we are searchinng for 'h' from i2+1(8+1=9) index onwerds \n",
    "# i5=str1.index('h',i4+1)\n",
    "i1,i2,i3,i4"
   ]
  },
  {
   "cell_type": "code",
   "execution_count": 148,
   "id": "c71a62d3-7cd6-42b2-980e-e01aaaee66d5",
   "metadata": {},
   "outputs": [
    {
     "data": {
      "text/plain": [
       "8"
      ]
     },
     "execution_count": 148,
     "metadata": {},
     "output_type": "execute_result"
    }
   ],
   "source": [
    "str1.index('h',str1.index('h',str1.index('h')+1)+1)"
   ]
  },
  {
   "cell_type": "code",
   "execution_count": 146,
   "id": "8efed75e-c08b-4cb5-a04d-2f9ccf09751c",
   "metadata": {},
   "outputs": [
    {
     "data": {
      "text/plain": [
       "12"
      ]
     },
     "execution_count": 146,
     "metadata": {},
     "output_type": "execute_result"
    }
   ],
   "source": [
    "str1.index('h',str1.index('h',str1.index('h',str1.index('h')+1)+1)+1) \n"
   ]
  },
  {
   "cell_type": "code",
   "execution_count": 166,
   "id": "575f357e-0923-4786-9b39-fe772d9f257b",
   "metadata": {},
   "outputs": [
    {
     "data": {
      "text/plain": [
       "'i hai '"
      ]
     },
     "execution_count": 166,
     "metadata": {},
     "output_type": "execute_result"
    }
   ],
   "source": [
    "str1='hai hai hai'\n",
    "str1.index('a',2,8)\n",
    "str1[2:8]"
   ]
  },
  {
   "cell_type": "code",
   "execution_count": 172,
   "id": "58b406ce-f8d0-4124-bbf3-0f993b2a22b1",
   "metadata": {},
   "outputs": [
    {
     "ename": "ValueError",
     "evalue": "substring not found",
     "output_type": "error",
     "traceback": [
      "\u001b[1;31m---------------------------------------------------------------------------\u001b[0m",
      "\u001b[1;31mValueError\u001b[0m                                Traceback (most recent call last)",
      "Cell \u001b[1;32mIn[172], line 2\u001b[0m\n\u001b[0;32m      1\u001b[0m str1\u001b[38;5;241m=\u001b[39m\u001b[38;5;124m'\u001b[39m\u001b[38;5;124mhai hai hai hai\u001b[39m\u001b[38;5;124m'\u001b[39m\n\u001b[1;32m----> 2\u001b[0m str1\u001b[38;5;241m.\u001b[39mindex(\u001b[38;5;124m'\u001b[39m\u001b[38;5;124mz\u001b[39m\u001b[38;5;124m'\u001b[39m,\u001b[38;5;241m2\u001b[39m,\u001b[38;5;241m8\u001b[39m)\n",
      "\u001b[1;31mValueError\u001b[0m: substring not found"
     ]
    }
   ],
   "source": [
    "str1='hai hai hai hai'\n",
    "str1.index('z',2,8)"
   ]
  },
  {
   "cell_type": "code",
   "execution_count": 208,
   "id": "a22db024-56de-4b13-80cb-3ee53424f73b",
   "metadata": {},
   "outputs": [
    {
     "data": {
      "text/plain": [
       "'restart $estart'"
      ]
     },
     "execution_count": 208,
     "metadata": {},
     "output_type": "execute_result"
    }
   ],
   "source": [
    "str1='restart restart'\n",
    "i1=str1.index('r')\n",
    "i2=str1.index('r',i1+1)\n",
    "s1=str1[:i2+1]  # restar: starting : second_r_index+1 \n",
    "s2=str1[i2+1:]  # t restart : second_r_index+1 : last\n",
    "s3=s2.replace('r','$',1)\n",
    "s1+s3"
   ]
  },
  {
   "cell_type": "markdown",
   "id": "d018b7b1-802d-483b-809a-96436ca4b094",
   "metadata": {},
   "source": [
    "**find**\n",
    "\n",
    "- just replace index with find\n",
    "- tell me the difference between index and find"
   ]
  },
  {
   "cell_type": "code",
   "execution_count": 211,
   "id": "8b2c497f-48ca-478d-b8cf-5c0c696d1705",
   "metadata": {},
   "outputs": [
    {
     "data": {
      "text/plain": [
       "(0, 4, 8, 12)"
      ]
     },
     "execution_count": 211,
     "metadata": {},
     "output_type": "execute_result"
    }
   ],
   "source": [
    "str1='hai hai hai hai'\n",
    "i1=str1.index('h') \n",
    "i2=str1.index('h',i1+1)  # we are searching for 'h' from i1+1(0+1=1) index onwards \n",
    "i3=str1.index('h',i2+1)  # we are searchinng for 'h' from i2+1(4+1=5) index onwerds\n",
    "i4=str1.index('h',i3+1)  # we are searchinng for 'h' from i2+1(8+1=9) index onwerds \n",
    "# i5=str1.index('h',i4+1)\n",
    "i1,i2,i3,i4"
   ]
  },
  {
   "cell_type": "code",
   "execution_count": 217,
   "id": "992b2c6f-a2ac-424b-bdb8-cbe7be4ebc8b",
   "metadata": {},
   "outputs": [
    {
     "data": {
      "text/plain": [
       "(0, 4, 8, 12, -1)"
      ]
     },
     "execution_count": 217,
     "metadata": {},
     "output_type": "execute_result"
    }
   ],
   "source": [
    "str1='hai hai hai hai'\n",
    "i1=str1.find('h') \n",
    "i2=str1.find('h',i1+1)  # we are searching for 'h' from i1+1(0+1=1) index onwards \n",
    "i3=str1.find('h',i2+1)  # we are searchinng for 'h' from i2+1(4+1=5) index onwerds\n",
    "i4=str1.find('h',i3+1)  # we are searchinng for 'h' from i2+1(8+1=9) index onwerds \n",
    "i5=str1.find('h',i4+1)\n",
    "i1,i2,i3,i4,i5"
   ]
  },
  {
   "cell_type": "markdown",
   "id": "f2c8f85e-fbeb-46e7-9622-f41685c8b772",
   "metadata": {},
   "source": [
    "- index and find both are working for same to find the index of a letter  \n",
    "- if any substring not found index will throw error\n",
    "- but find method will give -1     "
   ]
  },
  {
   "cell_type": "markdown",
   "id": "432dcbd4-7b74-4c8d-9703-da97a133a555",
   "metadata": {},
   "source": [
    "### count"
   ]
  },
  {
   "cell_type": "code",
   "execution_count": 221,
   "id": "7c6cff61-0e13-4eaa-94be-7d845890bc65",
   "metadata": {},
   "outputs": [
    {
     "name": "stdout",
     "output_type": "stream",
     "text": [
      "4\n"
     ]
    }
   ],
   "source": [
    "str1='hai hai hai hai'\n",
    "count=0\n",
    "for i in str1:\n",
    "    if i=='a':\n",
    "        count=count+1\n",
    "\n",
    "print(count)\n",
    "    "
   ]
  },
  {
   "cell_type": "code",
   "execution_count": 223,
   "id": "8209fab9-1370-492e-b605-453c5c6ee225",
   "metadata": {},
   "outputs": [
    {
     "data": {
      "text/plain": [
       "4"
      ]
     },
     "execution_count": 223,
     "metadata": {},
     "output_type": "execute_result"
    }
   ],
   "source": [
    "str1='hai hai hai hai'\n",
    "str1.count('i')\n"
   ]
  },
  {
   "cell_type": "code",
   "execution_count": 225,
   "id": "ef0e69a6-d2d7-4679-9925-76df2dd3b698",
   "metadata": {},
   "outputs": [
    {
     "data": {
      "text/plain": [
       "4"
      ]
     },
     "execution_count": 225,
     "metadata": {},
     "output_type": "execute_result"
    }
   ],
   "source": [
    "str1='hai hai hai hai'\n",
    "str1.count('a')"
   ]
  },
  {
   "cell_type": "code",
   "execution_count": 229,
   "id": "e2b90c3a-cdda-44b3-a719-1adc575f4479",
   "metadata": {},
   "outputs": [
    {
     "data": {
      "text/plain": [
       "1"
      ]
     },
     "execution_count": 229,
     "metadata": {},
     "output_type": "execute_result"
    }
   ],
   "source": [
    "str1.count('a',2,7)\n",
    "# count the number of 'a' between 2 to 6 index "
   ]
  },
  {
   "cell_type": "code",
   "execution_count": 245,
   "id": "49ef0101-e73e-4df8-8f04-ce040f80e7be",
   "metadata": {},
   "outputs": [
    {
     "data": {
      "text/plain": [
       "1"
      ]
     },
     "execution_count": 245,
     "metadata": {},
     "output_type": "execute_result"
    }
   ],
   "source": [
    "str1='hai hai hai'\n",
    "str1.count('hai hai hai')"
   ]
  },
  {
   "cell_type": "code",
   "execution_count": 247,
   "id": "434b022d-aff3-428a-8b48-bb0e21ae69b8",
   "metadata": {},
   "outputs": [
    {
     "data": {
      "text/plain": [
       "1"
      ]
     },
     "execution_count": 247,
     "metadata": {},
     "output_type": "execute_result"
    }
   ],
   "source": [
    "str1='hai hai hai'\n",
    "str1.count(str1)"
   ]
  },
  {
   "cell_type": "code",
   "execution_count": 254,
   "id": "10177daf-3dda-488b-9923-988c97617979",
   "metadata": {},
   "outputs": [
    {
     "data": {
      "text/plain": [
       "3"
      ]
     },
     "execution_count": 254,
     "metadata": {},
     "output_type": "execute_result"
    }
   ],
   "source": [
    "str1='hai hai hai'\n",
    "str1.count('hai')"
   ]
  },
  {
   "cell_type": "code",
   "execution_count": 201,
   "id": "d4005038-15ac-4808-964c-d50f548437e4",
   "metadata": {},
   "outputs": [
    {
     "data": {
      "text/plain": [
       "1"
      ]
     },
     "execution_count": 201,
     "metadata": {},
     "output_type": "execute_result"
    }
   ],
   "source": [
    "# Q1) count the number of 'a' in a given string: in\n",
    "str1='hello how are you'\n",
    "str1.count('a')"
   ]
  },
  {
   "cell_type": "code",
   "execution_count": 203,
   "id": "22a8cfa2-8787-446a-8800-f063a1a3808e",
   "metadata": {},
   "outputs": [
    {
     "data": {
      "text/plain": [
       "3"
      ]
     },
     "execution_count": 203,
     "metadata": {},
     "output_type": "execute_result"
    }
   ],
   "source": [
    "# Q1) count the number of 'a' in a given string: in\n",
    "str1='ola ola ola'\n",
    "str1.count('a')"
   ]
  },
  {
   "cell_type": "markdown",
   "id": "37c0009f-4e1b-4f07-a915-f84efad21fb8",
   "metadata": {},
   "source": [
    "## Sliding Window Approach"
   ]
  },
  {
   "cell_type": "code",
   "execution_count": 306,
   "id": "8b08a2c7-6e93-43af-82f7-102276a5ea2d",
   "metadata": {},
   "outputs": [
    {
     "name": "stdout",
     "output_type": "stream",
     "text": [
      "4\n"
     ]
    }
   ],
   "source": [
    "str1='hai hai hai hai'\n",
    "count=0\n",
    "for i in range(len(str1)):\n",
    "    if str1[i:i+3]=='hai':\n",
    "        count=count+1\n",
    "\n",
    "print(count)\n",
    "# (hai )hai hai \n",
    "# (0123)45678910\n",
    "# step-1: i=0 str1[0:0+3] str1[0:3]=0 1 2 h a i=='hai'  T\n",
    "# step-2: i=1 str1[1:1+3] str1[1:4]= 1,2 3  a i =='ai ' f\n",
    "# step-3: i=2 str1[2:2+3] str1[2:5]=2,3,4,5 i  h =='i h' F"
   ]
  },
  {
   "cell_type": "code",
   "execution_count": 11,
   "id": "1db5342b-c0ef-48e4-b902-86711e10afa0",
   "metadata": {},
   "outputs": [
    {
     "data": {
      "text/plain": [
       "'i h'"
      ]
     },
     "execution_count": 11,
     "metadata": {},
     "output_type": "execute_result"
    }
   ],
   "source": [
    "str1='hai hai hai'\n",
    "str1[0:3] # T\n",
    "str1[1:4] # F \n",
    "str1[2:5] # T"
   ]
  },
  {
   "cell_type": "code",
   "execution_count": 25,
   "id": "56b2b770-8ab7-46c9-99bf-99d80bfcd636",
   "metadata": {},
   "outputs": [],
   "source": [
    "str1='virat.kohli@rcb.com'\n",
    "str2='rohit.sharma@mi.com'\n",
    "str3='m.dhoni@chennai.com'\n",
    "str4='omkar.nallagoni@cts.com'\n",
    "str5='s.lokeshwari@gmail.com'\n",
    "# derive the code to get\n",
    "# first name,second name,company name?\n",
    "\n",
    "# idea\n",
    "# find the first dot index\n",
    "# find the @ index\n",
    "# find the second dot index"
   ]
  },
  {
   "cell_type": "code",
   "execution_count": null,
   "id": "e91bee70-9c39-4892-a8dc-59b42134ea92",
   "metadata": {},
   "outputs": [],
   "source": [
    "# first name: available from strting to first_dot\n",
    "# second name: available from first_dot to @ symbol\n",
    "# company name: available from @ symbol to second_dot"
   ]
  },
  {
   "cell_type": "code",
   "execution_count": 53,
   "id": "bf2b79fb-99b5-4cdb-bb79-b1bbe411a234",
   "metadata": {},
   "outputs": [
    {
     "name": "stdout",
     "output_type": "stream",
     "text": [
      "virat kohli rcb\n"
     ]
    }
   ],
   "source": [
    "str1='virat.kohli@rcb.com' \n",
    "def extrcation():\n",
    "    first_dot=str1.index('.')\n",
    "    second_dot=str1.index('.',first_dot+1)\n",
    "    at_symbol=str1.index('@')\n",
    "    firstname=str1[:first_dot]\n",
    "    secondname=str1[first_dot+1:at_symbol] \n",
    "    companyname=str1[at_symbol+1:second_dot]\n",
    "    print(firstname,secondname,companyname)\n",
    "extrcation()    "
   ]
  },
  {
   "cell_type": "code",
   "execution_count": 55,
   "id": "eba4fc5b-a847-40ba-ae30-eaf5661373b9",
   "metadata": {},
   "outputs": [
    {
     "name": "stdout",
     "output_type": "stream",
     "text": [
      "s lokeshwari gmail\n"
     ]
    }
   ],
   "source": [
    "def extrcation(str1):\n",
    "    first_dot=str1.index('.')\n",
    "    second_dot=str1.index('.',first_dot+1)\n",
    "    at_symbol=str1.index('@')\n",
    "    firstname=str1[:first_dot]\n",
    "    secondname=str1[first_dot+1:at_symbol] \n",
    "    companyname=str1[at_symbol+1:second_dot]\n",
    "    print(firstname,secondname,companyname)\n",
    "extrcation('s.lokeshwari@gmail.com')    "
   ]
  },
  {
   "cell_type": "markdown",
   "id": "9aac2530-afc7-426f-ac95-e0e24a4308f0",
   "metadata": {},
   "source": [
    "## very very imp  \n",
    "- upper/lower/casefold\n",
    "- title/capitalize\n",
    "- center\n",
    "- replace\n",
    "- index/find\n",
    "- count"
   ]
  },
  {
   "cell_type": "code",
   "execution_count": 59,
   "id": "525c34f0-7e28-4a20-b824-c588f75538a7",
   "metadata": {},
   "outputs": [
    {
     "data": {
      "text/plain": [
       "['__add__',\n",
       " '__class__',\n",
       " '__contains__',\n",
       " '__delattr__',\n",
       " '__dir__',\n",
       " '__doc__',\n",
       " '__eq__',\n",
       " '__format__',\n",
       " '__ge__',\n",
       " '__getattribute__',\n",
       " '__getitem__',\n",
       " '__getnewargs__',\n",
       " '__getstate__',\n",
       " '__gt__',\n",
       " '__hash__',\n",
       " '__init__',\n",
       " '__init_subclass__',\n",
       " '__iter__',\n",
       " '__le__',\n",
       " '__len__',\n",
       " '__lt__',\n",
       " '__mod__',\n",
       " '__mul__',\n",
       " '__ne__',\n",
       " '__new__',\n",
       " '__reduce__',\n",
       " '__reduce_ex__',\n",
       " '__repr__',\n",
       " '__rmod__',\n",
       " '__rmul__',\n",
       " '__setattr__',\n",
       " '__sizeof__',\n",
       " '__str__',\n",
       " '__subclasshook__',\n",
       " 'capitalize',\n",
       " 'casefold',\n",
       " 'center',\n",
       " 'count',\n",
       " 'encode',\n",
       " 'endswith',\n",
       " 'expandtabs',\n",
       " 'find',\n",
       " 'format',\n",
       " 'format_map',\n",
       " 'index',\n",
       " 'isalnum',\n",
       " 'isalpha',\n",
       " 'isascii',\n",
       " 'isdecimal',\n",
       " 'isdigit',\n",
       " 'isidentifier',\n",
       " 'islower',\n",
       " 'isnumeric',\n",
       " 'isprintable',\n",
       " 'isspace',\n",
       " 'istitle',\n",
       " 'isupper',\n",
       " 'join',\n",
       " 'ljust',\n",
       " 'lower',\n",
       " 'lstrip',\n",
       " 'maketrans',\n",
       " 'partition',\n",
       " 'removeprefix',\n",
       " 'removesuffix',\n",
       " 'replace',\n",
       " 'rfind',\n",
       " 'rindex',\n",
       " 'rjust',\n",
       " 'rpartition',\n",
       " 'rsplit',\n",
       " 'rstrip',\n",
       " 'split',\n",
       " 'splitlines',\n",
       " 'startswith',\n",
       " 'strip',\n",
       " 'swapcase',\n",
       " 'title',\n",
       " 'translate',\n",
       " 'upper',\n",
       " 'zfill']"
      ]
     },
     "execution_count": 59,
     "metadata": {},
     "output_type": "execute_result"
    }
   ],
   "source": [
    "dir('')"
   ]
  },
  {
   "cell_type": "code",
   "execution_count": null,
   "id": "fa155aa9-4239-46d3-a2e3-e4849032e970",
   "metadata": {},
   "outputs": [],
   "source": [
    "'isalnum',\n",
    " 'isalpha',\n",
    " 'isascii',\n",
    " 'isdecimal',\n",
    " 'isdigit',\n",
    " 'isidentifier',\n",
    " 'islower',\n",
    " 'isnumeric',\n",
    " 'isprintable',\n",
    " 'isspace',\n",
    " 'istitle',\n",
    " 'isupper',"
   ]
  },
  {
   "cell_type": "code",
   "execution_count": 63,
   "id": "5ecdf602-8909-481a-8317-d5044a344870",
   "metadata": {},
   "outputs": [
    {
     "data": {
      "text/plain": [
       "False"
      ]
     },
     "execution_count": 63,
     "metadata": {},
     "output_type": "execute_result"
    }
   ],
   "source": [
    "str1='python'\n",
    "str1.isupper()"
   ]
  },
  {
   "cell_type": "code",
   "execution_count": 175,
   "id": "377ec04e-875a-433b-8d29-47d9c64f0231",
   "metadata": {},
   "outputs": [
    {
     "data": {
      "text/plain": [
       "True"
      ]
     },
     "execution_count": 175,
     "metadata": {},
     "output_type": "execute_result"
    }
   ],
   "source": [
    "str1='python'\n",
    "str1.isalnum()"
   ]
  },
  {
   "cell_type": "code",
   "execution_count": 177,
   "id": "990cde37-1ce4-4b40-8014-511dbf0eab9b",
   "metadata": {},
   "outputs": [
    {
     "data": {
      "text/plain": [
       "True"
      ]
     },
     "execution_count": 177,
     "metadata": {},
     "output_type": "execute_result"
    }
   ],
   "source": [
    "str1='python'\n",
    "str1.isalpha()"
   ]
  },
  {
   "cell_type": "code",
   "execution_count": 179,
   "id": "49884941-147b-42bb-9f4a-b1cfe6336603",
   "metadata": {},
   "outputs": [
    {
     "data": {
      "text/plain": [
       "True"
      ]
     },
     "execution_count": 179,
     "metadata": {},
     "output_type": "execute_result"
    }
   ],
   "source": [
    "str1='python'\n",
    "str1.isascii()"
   ]
  },
  {
   "cell_type": "code",
   "execution_count": 181,
   "id": "cefbc2c4-d5f1-47fb-ab1b-3cc9cd64e9a7",
   "metadata": {},
   "outputs": [
    {
     "data": {
      "text/plain": [
       "False"
      ]
     },
     "execution_count": 181,
     "metadata": {},
     "output_type": "execute_result"
    }
   ],
   "source": [
    "str1='python'\n",
    "str1.isdecimal()"
   ]
  },
  {
   "cell_type": "code",
   "execution_count": 183,
   "id": "f4280304-1cd8-4a67-918f-e4806662a82e",
   "metadata": {},
   "outputs": [
    {
     "data": {
      "text/plain": [
       "False"
      ]
     },
     "execution_count": 183,
     "metadata": {},
     "output_type": "execute_result"
    }
   ],
   "source": [
    "str1='python'\n",
    "str1.isdigit()"
   ]
  },
  {
   "cell_type": "code",
   "execution_count": 185,
   "id": "59326cd4-03a4-4a7d-929f-474cbb1198da",
   "metadata": {},
   "outputs": [
    {
     "data": {
      "text/plain": [
       "True"
      ]
     },
     "execution_count": 185,
     "metadata": {},
     "output_type": "execute_result"
    }
   ],
   "source": [
    "str1='python'\n",
    "str1.isidentifier()"
   ]
  },
  {
   "cell_type": "code",
   "execution_count": 187,
   "id": "19c4db69-3af4-4af9-8b9f-b46766586326",
   "metadata": {},
   "outputs": [
    {
     "data": {
      "text/plain": [
       "True"
      ]
     },
     "execution_count": 187,
     "metadata": {},
     "output_type": "execute_result"
    }
   ],
   "source": [
    "str1='python'\n",
    "str1.islower()"
   ]
  },
  {
   "cell_type": "code",
   "execution_count": 189,
   "id": "875336ee-1449-4e6f-ac7c-e80ef38f8652",
   "metadata": {},
   "outputs": [
    {
     "data": {
      "text/plain": [
       "False"
      ]
     },
     "execution_count": 189,
     "metadata": {},
     "output_type": "execute_result"
    }
   ],
   "source": [
    "str1='python'\n",
    "str1.isnumeric()"
   ]
  },
  {
   "cell_type": "code",
   "execution_count": 191,
   "id": "1a02a530-2e1a-4aff-b018-a7c59b9f39e9",
   "metadata": {},
   "outputs": [
    {
     "data": {
      "text/plain": [
       "True"
      ]
     },
     "execution_count": 191,
     "metadata": {},
     "output_type": "execute_result"
    }
   ],
   "source": [
    "str1='python'\n",
    "str1.isprintable()"
   ]
  },
  {
   "cell_type": "code",
   "execution_count": 193,
   "id": "b0cf073d-cde5-47b0-b7df-37640a4db5f6",
   "metadata": {},
   "outputs": [
    {
     "data": {
      "text/plain": [
       "False"
      ]
     },
     "execution_count": 193,
     "metadata": {},
     "output_type": "execute_result"
    }
   ],
   "source": [
    "str1='python'\n",
    "str1.isspace()"
   ]
  },
  {
   "cell_type": "code",
   "execution_count": 195,
   "id": "b235833d-b0f9-4c6f-ad1d-f8b2c1a40da1",
   "metadata": {},
   "outputs": [
    {
     "data": {
      "text/plain": [
       "False"
      ]
     },
     "execution_count": 195,
     "metadata": {},
     "output_type": "execute_result"
    }
   ],
   "source": [
    "str1='python'\n",
    "str1.istitle()"
   ]
  },
  {
   "cell_type": "markdown",
   "id": "738d995b-023c-4998-b2d1-2efe15c07a55",
   "metadata": {},
   "source": [
    "**lstrip-strip-rstrip**"
   ]
  },
  {
   "cell_type": "markdown",
   "id": "ea0f287f-95e1-405d-be04-b1e7bb742730",
   "metadata": {},
   "source": [
    "- lstrip: we can remove some letters from left side of string\n",
    "- rstrip: we can remove some letters from right side of string\n",
    "- strip: we can remove some letters from both side of string"
   ]
  },
  {
   "cell_type": "code",
   "execution_count": 86,
   "id": "4a89317f-30ec-4371-ad30-631b5c61fe57",
   "metadata": {},
   "outputs": [],
   "source": [
    "s1=' hi how are you'\n",
    "s2='hi how are you '\n",
    "s3=' hi how are you '"
   ]
  },
  {
   "cell_type": "code",
   "execution_count": 94,
   "id": "b3443d25-f42e-478b-95aa-829459679482",
   "metadata": {},
   "outputs": [
    {
     "data": {
      "text/plain": [
       "('hi how are you', ' hi how are you', 'hi how are you')"
      ]
     },
     "execution_count": 94,
     "metadata": {},
     "output_type": "execute_result"
    }
   ],
   "source": [
    "s1.lstrip(),s1.rstrip(),s1.strip()"
   ]
  },
  {
   "cell_type": "code",
   "execution_count": 92,
   "id": "82d4cc30-456c-4fa8-aa6e-bac66334a83b",
   "metadata": {},
   "outputs": [
    {
     "data": {
      "text/plain": [
       "('hi how are you ', 'hi how are you', 'hi how are you')"
      ]
     },
     "execution_count": 92,
     "metadata": {},
     "output_type": "execute_result"
    }
   ],
   "source": [
    "s2.lstrip(),s2.rstrip(),s2.strip()"
   ]
  },
  {
   "cell_type": "code",
   "execution_count": 90,
   "id": "d0f6574b-ee3e-40e7-b555-a4c2d7380f55",
   "metadata": {},
   "outputs": [
    {
     "data": {
      "text/plain": [
       "('hi how are you ', ' hi how are you', 'hi how are you')"
      ]
     },
     "execution_count": 90,
     "metadata": {},
     "output_type": "execute_result"
    }
   ],
   "source": [
    "s3.lstrip(),s3.rstrip(),s3.strip()"
   ]
  },
  {
   "cell_type": "code",
   "execution_count": 76,
   "id": "1b2fd2fa-b12d-4034-8e4f-93de282fe934",
   "metadata": {},
   "outputs": [
    {
     "data": {
      "text/plain": [
       "'hai how are you'"
      ]
     },
     "execution_count": 76,
     "metadata": {},
     "output_type": "execute_result"
    }
   ],
   "source": [
    "s1='****hai how are you'\n",
    "s1.lstrip('*')"
   ]
  },
  {
   "cell_type": "markdown",
   "id": "ad067fb6-fbdf-48bd-80cb-6caf45687743",
   "metadata": {},
   "source": [
    "**startswith-endswith**"
   ]
  },
  {
   "cell_type": "code",
   "execution_count": 97,
   "id": "63e1d1b3-35ec-42cf-98e9-5cd4aaf2c9b1",
   "metadata": {},
   "outputs": [
    {
     "data": {
      "text/plain": [
       "True"
      ]
     },
     "execution_count": 97,
     "metadata": {},
     "output_type": "execute_result"
    }
   ],
   "source": [
    "str1='hai how are you'\n",
    "str1.startswith('hai')"
   ]
  },
  {
   "cell_type": "code",
   "execution_count": 99,
   "id": "055cac05-11a1-4e94-872d-c501c4e718db",
   "metadata": {},
   "outputs": [
    {
     "data": {
      "text/plain": [
       "False"
      ]
     },
     "execution_count": 99,
     "metadata": {},
     "output_type": "execute_result"
    }
   ],
   "source": [
    "str1='hai how are you'\n",
    "str1.startswith('H')"
   ]
  },
  {
   "cell_type": "code",
   "execution_count": 103,
   "id": "ae8c1324-6891-4272-8328-e39fe007c245",
   "metadata": {},
   "outputs": [
    {
     "data": {
      "text/plain": [
       "True"
      ]
     },
     "execution_count": 103,
     "metadata": {},
     "output_type": "execute_result"
    }
   ],
   "source": [
    "str1='hai how are you'\n",
    "str1.startswith(str1)"
   ]
  },
  {
   "cell_type": "code",
   "execution_count": 111,
   "id": "d0833cc5-89f7-4356-9fa8-89e2864cce7d",
   "metadata": {},
   "outputs": [
    {
     "data": {
      "text/plain": [
       "True"
      ]
     },
     "execution_count": 111,
     "metadata": {},
     "output_type": "execute_result"
    }
   ],
   "source": [
    "str1='hai how are you'\n",
    "str1.endswith('hai how are you')"
   ]
  },
  {
   "cell_type": "code",
   "execution_count": 109,
   "id": "55d6f8ff-e8d6-4266-90ec-8076942a9370",
   "metadata": {},
   "outputs": [
    {
     "data": {
      "text/plain": [
       "True"
      ]
     },
     "execution_count": 109,
     "metadata": {},
     "output_type": "execute_result"
    }
   ],
   "source": [
    "str1='hai how are you'\n",
    "str1.endswith('you')"
   ]
  },
  {
   "cell_type": "code",
   "execution_count": 113,
   "id": "87ecf6e1-22cc-418d-a282-ce7e1bb2fab2",
   "metadata": {},
   "outputs": [
    {
     "data": {
      "text/plain": [
       "False"
      ]
     },
     "execution_count": 113,
     "metadata": {},
     "output_type": "execute_result"
    }
   ],
   "source": [
    "str1='hai how are you'\n",
    "str1.endswith('str1')"
   ]
  },
  {
   "cell_type": "markdown",
   "id": "be7a8b1c-072a-49ea-96fc-86577f6d07aa",
   "metadata": {},
   "source": [
    "**split**"
   ]
  },
  {
   "cell_type": "code",
   "execution_count": 122,
   "id": "0e32277a-6f50-499f-a180-16fe3d0beb51",
   "metadata": {},
   "outputs": [
    {
     "data": {
      "text/plain": [
       "['hello', 'how', 'are', 'you']"
      ]
     },
     "execution_count": 122,
     "metadata": {},
     "output_type": "execute_result"
    }
   ],
   "source": [
    "str1='hello how are you'\n",
    "str1.split()"
   ]
  },
  {
   "cell_type": "code",
   "execution_count": 124,
   "id": "f4c43692-099b-4c58-88da-fbc36127194e",
   "metadata": {},
   "outputs": [
    {
     "data": {
      "text/plain": [
       "['', 'ello ', 'ow are you']"
      ]
     },
     "execution_count": 124,
     "metadata": {},
     "output_type": "execute_result"
    }
   ],
   "source": [
    "str1='hello how are you'\n",
    "str1.split('h')"
   ]
  },
  {
   "cell_type": "code",
   "execution_count": 128,
   "id": "ced0d813-f26c-46a5-8ae2-b9354891805c",
   "metadata": {},
   "outputs": [
    {
     "data": {
      "text/plain": [
       "['h', 'i h', 'i h', 'i h', 'i']"
      ]
     },
     "execution_count": 128,
     "metadata": {},
     "output_type": "execute_result"
    }
   ],
   "source": [
    "str1='hai hai hai hai'\n",
    "str1.split('a')"
   ]
  },
  {
   "cell_type": "code",
   "execution_count": 132,
   "id": "0cf63e53-cc3e-4f01-911c-d9ea39b86338",
   "metadata": {},
   "outputs": [
    {
     "data": {
      "text/plain": [
       "['ha', ' ha', ' ha', ' ha', '']"
      ]
     },
     "execution_count": 132,
     "metadata": {},
     "output_type": "execute_result"
    }
   ],
   "source": [
    "str1='hai hai hai hai'\n",
    "str1.split('i')"
   ]
  },
  {
   "cell_type": "code",
   "execution_count": null,
   "id": "a556da26-14d9-4165-9341-9c6729460842",
   "metadata": {},
   "outputs": [],
   "source": [
    "# in a given sentance find the most repeated word\n",
    "# in a given sentance find the min and max len of word\n",
    "# in a given sentance most occured second max length of word \n",
    "# sliding window\n",
    "# strings==== list vise versa\n",
    "# hai how are you------Hai How Are You(with out method)"
   ]
  },
  {
   "cell_type": "code",
   "execution_count": null,
   "id": "b67b3132-659c-4a2d-88cf-652535644603",
   "metadata": {},
   "outputs": [],
   "source": [
    "# in a given sentance find the most repeated word\n",
    "str1='hai how are you'\n"
   ]
  },
  {
   "cell_type": "code",
   "execution_count": 153,
   "id": "3eba0577-352d-4ae6-9581-8c4cc06fa5bc",
   "metadata": {},
   "outputs": [
    {
     "data": {
      "text/plain": [
       "(' ', 'y')"
      ]
     },
     "execution_count": 153,
     "metadata": {},
     "output_type": "execute_result"
    }
   ],
   "source": [
    "# in a given sentance find the min and max len of word\n",
    "str1='hai how are you'\n",
    "min('hai how are you'),max('hai how are you')\n"
   ]
  },
  {
   "cell_type": "code",
   "execution_count": 149,
   "id": "d0b587db-9d95-4b54-a73c-aaefb74f6674",
   "metadata": {},
   "outputs": [
    {
     "data": {
      "text/plain": [
       "15"
      ]
     },
     "execution_count": 149,
     "metadata": {},
     "output_type": "execute_result"
    }
   ],
   "source": [
    "len(str1)"
   ]
  },
  {
   "cell_type": "code",
   "execution_count": 167,
   "id": "884eaced-b288-4376-a278-6d0ea28be063",
   "metadata": {},
   "outputs": [
    {
     "data": {
      "text/plain": [
       "15"
      ]
     },
     "execution_count": 167,
     "metadata": {},
     "output_type": "execute_result"
    }
   ],
   "source": [
    "# in a given sentance most occured second max length of word \n",
    "str1='hai how are you'\n",
    "len(str1)"
   ]
  },
  {
   "cell_type": "code",
   "execution_count": 161,
   "id": "d22765ac-87c6-4a4e-9f42-2ac189f4f164",
   "metadata": {},
   "outputs": [
    {
     "data": {
      "text/plain": [
       "'Hai How Are You'"
      ]
     },
     "execution_count": 161,
     "metadata": {},
     "output_type": "execute_result"
    }
   ],
   "source": [
    "# hai how are you------Hai How Are You(with out method)'hai how are you'\n",
    "str1='hai how are you'\n",
    "str1.title()"
   ]
  },
  {
   "cell_type": "code",
   "execution_count": 169,
   "id": "cd070ad4-9860-4564-96a8-31a8b7e8dfc5",
   "metadata": {},
   "outputs": [
    {
     "name": "stdout",
     "output_type": "stream",
     "text": [
      "15\n"
     ]
    }
   ],
   "source": [
    "# sliding window\n",
    "str1='hai how are you'\n",
    "count=0\n",
    "for i in range(len(str1)):\n",
    "    if str1[i:i+3]:\n",
    "        count=count+1\n",
    "        \n",
    "print(count)"
   ]
  },
  {
   "cell_type": "code",
   "execution_count": null,
   "id": "50a28d71-2ecc-41b3-b204-ffe63949620a",
   "metadata": {},
   "outputs": [],
   "source": []
  }
 ],
 "metadata": {
  "kernelspec": {
   "display_name": "Python [conda env:base] *",
   "language": "python",
   "name": "conda-base-py"
  },
  "language_info": {
   "codemirror_mode": {
    "name": "ipython",
    "version": 3
   },
   "file_extension": ".py",
   "mimetype": "text/x-python",
   "name": "python",
   "nbconvert_exporter": "python",
   "pygments_lexer": "ipython3",
   "version": "3.12.7"
  }
 },
 "nbformat": 4,
 "nbformat_minor": 5
}

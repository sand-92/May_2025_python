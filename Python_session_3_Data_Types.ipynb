{
 "cells": [
  {
   "cell_type": "markdown",
   "id": "8940d27c-c0f7-42f3-aee9-85373d532712",
   "metadata": {},
   "source": [
    "## DATA TYPES"
   ]
  },
  {
   "cell_type": "markdown",
   "id": "93195668-fde8-4b22-b4d5-b1086398ad31",
   "metadata": {},
   "source": [
    "- python can say data type of the value with out intializing\n",
    "- which means the data type automatically consider\n",
    "- python has some inbuilt datatype structure\n",
    "- Basic DATA TYPES but (Python data types are osscion)\n",
    "- int(integer)\n",
    "- float\n",
    "- string (str)\n",
    "- boolean (bool)\n",
    "- complex\n",
    "- list\n",
    "- tuple\n",
    "- dictionary (dist)\n",
    "- set\n",
    "- frozenset\n",
    "- bytearray\n",
    "- memoryview"
   ]
  },
  {
   "cell_type": "markdown",
   "id": "2a2208ce-1dff-493c-8f5a-1e2e6c76c4e0",
   "metadata": {},
   "source": [
    "## Integer"
   ]
  },
  {
   "cell_type": "code",
   "execution_count": 5,
   "id": "78fcff29-404e-45a4-880a-971fa5f0b0f1",
   "metadata": {},
   "outputs": [
    {
     "data": {
      "text/plain": [
       "int"
      ]
     },
     "execution_count": 5,
     "metadata": {},
     "output_type": "execute_result"
    }
   ],
   "source": [
    "num=100\n",
    "type(num)"
   ]
  },
  {
   "cell_type": "code",
   "execution_count": 7,
   "id": "74ba8a3f-2d0f-4685-a7df-a6f11e3b9fb8",
   "metadata": {},
   "outputs": [
    {
     "name": "stdout",
     "output_type": "stream",
     "text": [
      "100\n"
     ]
    }
   ],
   "source": [
    "print(num)"
   ]
  },
  {
   "cell_type": "code",
   "execution_count": 13,
   "id": "dcdeb19c-c372-4c69-ac77-2e704e5c382b",
   "metadata": {},
   "outputs": [
    {
     "name": "stdout",
     "output_type": "stream",
     "text": [
      "100\n"
     ]
    },
    {
     "data": {
      "text/plain": [
       "int"
      ]
     },
     "execution_count": 13,
     "metadata": {},
     "output_type": "execute_result"
    }
   ],
   "source": [
    "print(100)\n",
    "type(num)"
   ]
  },
  {
   "cell_type": "markdown",
   "id": "b18381cc-2e8c-4e35-910f-ba0bfd317c9a",
   "metadata": {},
   "source": [
    "**Binary Number System**"
   ]
  },
  {
   "cell_type": "code",
   "execution_count": null,
   "id": "71e0d37f-e83c-4d91-9eb8-c049be8cc0a9",
   "metadata": {},
   "outputs": [],
   "source": [
    "Binary numbers system\n",
    "- digits 0,1,2,3,4,5,6,7,8,9\n",
    "- Binary means bi means two : 0 and 1\n",
    "- representation is : 0b0001,0b0111,0b1010, 0B1011\n",
    "-     [0B1010 (1(2^3),0(2^2),1(2^1),0(2^0))\n",
    "-                1*8,   0*4,   1*2,   0*1\n",
    "-                   8+0+2+0\n",
    "-                    =10]\n",
    "- wrong representation is: o,0b102\n"
   ]
  },
  {
   "cell_type": "code",
   "execution_count": 18,
   "id": "f76b681a-5162-4313-a3f9-c7a44cba81a1",
   "metadata": {},
   "outputs": [
    {
     "data": {
      "text/plain": [
       "7"
      ]
     },
     "execution_count": 18,
     "metadata": {},
     "output_type": "execute_result"
    }
   ],
   "source": [
    "0B111"
   ]
  },
  {
   "cell_type": "code",
   "execution_count": 20,
   "id": "ae98c1b2-e169-4014-94f6-891b08646c95",
   "metadata": {},
   "outputs": [
    {
     "data": {
      "text/plain": [
       "21"
      ]
     },
     "execution_count": 20,
     "metadata": {},
     "output_type": "execute_result"
    }
   ],
   "source": [
    "0B10101"
   ]
  },
  {
   "cell_type": "code",
   "execution_count": 22,
   "id": "22419154-1b25-4bdd-882d-717cd6e469b5",
   "metadata": {},
   "outputs": [
    {
     "data": {
      "text/plain": [
       "10"
      ]
     },
     "execution_count": 22,
     "metadata": {},
     "output_type": "execute_result"
    }
   ],
   "source": [
    "0b1010"
   ]
  },
  {
   "cell_type": "code",
   "execution_count": 26,
   "id": "13672a9a-7c3f-4fe5-a8a2-bc13943ef863",
   "metadata": {},
   "outputs": [
    {
     "data": {
      "text/plain": [
       "15"
      ]
     },
     "execution_count": 26,
     "metadata": {},
     "output_type": "execute_result"
    }
   ],
   "source": [
    "0b1111"
   ]
  },
  {
   "cell_type": "markdown",
   "id": "b8fd4769-38e5-4cf6-b725-70d7e12e42e8",
   "metadata": {},
   "source": [
    "**BINARY NUMBER SYSTEM**\n",
    "2^2=4  2^1=2  2^0=1\n",
    " 0      0       0     0\n",
    " 0      0       1     1 \n",
    " 0      1       0     2\n",
    " 0      1       1     3  \n",
    " 1      0       0     4 \n",
    " 1      0       1     5\n",
    " 1      1       0     6\n",
    " 1      1       1     7\n"
   ]
  },
  {
   "cell_type": "markdown",
   "id": "c0566c3d-2e1a-48c6-9403-12c89d0943dc",
   "metadata": {},
   "source": [
    "**OCTAl NUMBER SYSTEM**\n",
    "\n",
    " 2^3=8   2^2=4   2^1=2   2^0=1\n",
    "   0       0      0       0        0\n",
    "   0       0      0       1        1 \n",
    "   0       0      1       0        2\n",
    "   0       0      1       1        3 \n",
    "   0       1      0       0        4\n",
    "   0       1      0       1        5\n",
    "   0       1      1       0        6\n",
    "   0       1      1       1        7\n",
    "   1       0      0       0        8\n",
    "   1       0      0       1        9\n",
    "   1       0      1       0        10  \n",
    "   1       0      1       1        11\n",
    "   1       1      0       0        12\n",
    "   1       1      0       1        13 \n",
    "   1       1      1       0        14\n",
    "   1       1      1       1        15\n"
   ]
  },
  {
   "cell_type": "code",
   "execution_count": 36,
   "id": "728ecb10-8b0d-4e11-b2e4-9cfc018f5ffd",
   "metadata": {},
   "outputs": [
    {
     "data": {
      "text/plain": [
       "(12, 10)"
      ]
     },
     "execution_count": 36,
     "metadata": {},
     "output_type": "execute_result"
    }
   ],
   "source": [
    "0b1100, 0b1010"
   ]
  },
  {
   "cell_type": "code",
   "execution_count": 32,
   "id": "019fe9eb-d5b8-471e-8821-874a79a4c2aa",
   "metadata": {},
   "outputs": [
    {
     "data": {
      "text/plain": [
       "14"
      ]
     },
     "execution_count": 32,
     "metadata": {},
     "output_type": "execute_result"
    }
   ],
   "source": [
    "0b1110"
   ]
  },
  {
   "cell_type": "markdown",
   "id": "3af31bc8-dfb7-465c-81ec-1bfd0241c5a0",
   "metadata": {},
   "source": [
    "**OCTAL NUMBER SYSTEM**"
   ]
  },
  {
   "cell_type": "code",
   "execution_count": null,
   "id": "ef0ba547-0b5d-4fed-95af-9efbed78a314",
   "metadata": {},
   "outputs": [],
   "source": [
    " Octal numbers system\n",
    "\n",
    "- digits 0,1,2,3,4,5,6,7\n",
    "- Octa means 8 : 0, 1,2,3,4,5,6,7 \n",
    "- representation is : 0o0567,0o123,0o765, 0o425\n",
    "   [0o4224 (4(8^3), 2(8^2),  2(8^1),  4(8^0)) \n",
    "         4*512,   2*64,    2*8,     4*1 \n",
    "          2048+128+16+4=2196]\n",
    "- wrong representation is: 'o', 0c789"
   ]
  },
  {
   "cell_type": "code",
   "execution_count": 49,
   "id": "3c1abd26-95e4-4a21-9936-7cd7aaecb2b5",
   "metadata": {},
   "outputs": [
    {
     "data": {
      "text/plain": [
       "83"
      ]
     },
     "execution_count": 49,
     "metadata": {},
     "output_type": "execute_result"
    }
   ],
   "source": [
    "0o123"
   ]
  },
  {
   "cell_type": "code",
   "execution_count": 44,
   "id": "1d4463d0-232e-4b61-a83d-7e572d52346f",
   "metadata": {},
   "outputs": [
    {
     "data": {
      "text/plain": [
       "2196"
      ]
     },
     "execution_count": 44,
     "metadata": {},
     "output_type": "execute_result"
    }
   ],
   "source": [
    "0o4224"
   ]
  },
  {
   "cell_type": "code",
   "execution_count": 1,
   "id": "eb5bc317-8b8f-400c-9e15-5ad84b3e4314",
   "metadata": {},
   "outputs": [
    {
     "data": {
      "text/plain": [
       "(794, 65)"
      ]
     },
     "execution_count": 1,
     "metadata": {},
     "output_type": "execute_result"
    }
   ],
   "source": [
    "0o1432, 0o0101"
   ]
  },
  {
   "cell_type": "markdown",
   "id": "ad6c5e54-85fb-437f-bded-aa8afc465ec1",
   "metadata": {},
   "source": [
    "**HEXA NUMBER SYSTEM**"
   ]
  },
  {
   "cell_type": "markdown",
   "id": "9444cc2d-b7e2-4a86-aa0e-8969d874a571",
   "metadata": {},
   "source": [
    "Hexa Number System\n",
    "- Digits  0,1,2,3,4,5,6,7,8,9\n",
    "- Hexa means 16 :0,1,2,3,4,5,6,7,8,9,A=10,B=11,C=12,D=13,E=14,F=15\n",
    "- representation is: 0x567, 0x123, 0xabc\n",
    "-           [0x123 (1(16^2), 2(16^1), 3(16^0))\n",
    "-                     1*256,   2*16,    3*1\n",
    "-                       = 256+32+3\n",
    "-                       = 291] \n",
    "- wrong representation is: o as starts 0h789\n"
   ]
  },
  {
   "cell_type": "markdown",
   "id": "eafce305-09cc-4712-b509-f35cb07071c8",
   "metadata": {},
   "source": [
    "2^4=16     2^3=8     2^2=4     2^1=2     2^0=1\n",
    "   0         0           0         0        0       0\n",
    "   0         0           0         0        1       1\n",
    "   0         0           0         1        0       2\n",
    "   0         0           0         1        1       3\n",
    "   0         0           1         0        0       4\n",
    "   0         0           1         0        1       5\n",
    "   0         0           1         1        0       6\n",
    "   0         0           1         1        1       7\n",
    "   0         1           0         0        0       8\n",
    "   0         1           0         0        1       9\n",
    "   0         1           0         1        0       10\n",
    "   0         1           0         1        1       11\n",
    "   0         1           1         0        0       12\n",
    "   0         1           1         0        1       13\n",
    "   0         1           1         1        0       14\n",
    "   0         1           1         1        1       15\n",
    "   1         0           0         0        0       16\n",
    "   1         0           0         0        1       17\n",
    "   1         0           0         1        0       18\n",
    "   1         0           0         1        1       19\n",
    "   1         0           1         0        0       20\n",
    "   1         0           1         0        1       21\n",
    "   1         0           1         1        0       22\n",
    "   1         0           1         1        1       23\n",
    "   1         1           0         0        0       24\n",
    "   1         1           0         0        1       25\n",
    "   1         1           0         1        0       26\n",
    "   1         1           0         1        1       27\n",
    "   1         1           1         0        0       28\n",
    "   1         1           1         0        1       29\n",
    "   1         1           1         1        0       30\n",
    "   1         1           1         1        1       31"
   ]
  },
  {
   "cell_type": "code",
   "execution_count": 34,
   "id": "77b04bd6-6de8-4a09-8ed2-4e5fedfddf16",
   "metadata": {},
   "outputs": [
    {
     "data": {
      "text/plain": [
       "291"
      ]
     },
     "execution_count": 34,
     "metadata": {},
     "output_type": "execute_result"
    }
   ],
   "source": [
    "0x123"
   ]
  },
  {
   "cell_type": "code",
   "execution_count": 38,
   "id": "f6c6d1c0-232b-43fd-9141-675341352fd0",
   "metadata": {},
   "outputs": [
    {
     "data": {
      "text/plain": [
       "2748"
      ]
     },
     "execution_count": 38,
     "metadata": {},
     "output_type": "execute_result"
    }
   ],
   "source": [
    "0xabc"
   ]
  },
  {
   "cell_type": "markdown",
   "id": "fe2454c2-2d03-4b70-967e-fdacc6cf79ea",
   "metadata": {},
   "source": [
    "**FLOAT**"
   ]
  },
  {
   "cell_type": "markdown",
   "id": "4ed5aae1-5ce2-48aa-a34e-4bd6f7c7e00c",
   "metadata": {},
   "source": [
    "- Float numbers means continues points\n",
    "- Float numbers means having some decimals\n",
    "- integes means discrete points\n",
    "- Float points can represent points as **EXPONETIAL foam**"
   ]
  },
  {
   "cell_type": "code",
   "execution_count": 44,
   "id": "74d373aa-72c0-4b4c-8cd2-d7b7e63b6e6c",
   "metadata": {},
   "outputs": [
    {
     "data": {
      "text/plain": [
       "float"
      ]
     },
     "execution_count": 44,
     "metadata": {},
     "output_type": "execute_result"
    }
   ],
   "source": [
    "number=100.25\n",
    "type(number)"
   ]
  },
  {
   "cell_type": "code",
   "execution_count": 47,
   "id": "ca081c25-70f7-41ae-aa86-e9e9aae93270",
   "metadata": {},
   "outputs": [
    {
     "data": {
      "text/plain": [
       "(10.0, 100.0, 1000.0)"
      ]
     },
     "execution_count": 47,
     "metadata": {},
     "output_type": "execute_result"
    }
   ],
   "source": [
    "1e1   #1*10\n",
    "1e2   #1*100\n",
    "1e3   #1*1000"
   ]
  },
  {
   "cell_type": "code",
   "execution_count": 49,
   "id": "c0a05d24-0f2f-4ab4-89eb-6081e2d6d5ac",
   "metadata": {},
   "outputs": [
    {
     "data": {
      "text/plain": [
       "200.0"
      ]
     },
     "execution_count": 49,
     "metadata": {},
     "output_type": "execute_result"
    }
   ],
   "source": [
    "2e2 #2*100"
   ]
  },
  {
   "cell_type": "code",
   "execution_count": 57,
   "id": "5bacee5c-96c4-4e87-a51e-d60de39f846f",
   "metadata": {},
   "outputs": [
    {
     "name": "stdout",
     "output_type": "stream",
     "text": [
      "10.0\n",
      "100.0\n",
      "1000.0\n"
     ]
    }
   ],
   "source": [
    "print(1e+1)    #1*10\n",
    "print(1e+2)    #1*100\n",
    "print(1e+3)    #1*1000"
   ]
  },
  {
   "cell_type": "code",
   "execution_count": 59,
   "id": "89bd67a8-57f4-4ed7-918d-cb3c490a96c0",
   "metadata": {},
   "outputs": [
    {
     "name": "stdout",
     "output_type": "stream",
     "text": [
      "0.1\n",
      "0.01\n",
      "0.001\n"
     ]
    }
   ],
   "source": [
    "print(1e-1)  # 1/10\n",
    "print(1e-2)  # 1/100\n",
    "print(1e-3)  # 1/1000"
   ]
  },
  {
   "cell_type": "code",
   "execution_count": 61,
   "id": "cf4887b4-fa13-4094-ba8f-6da81a9f23bc",
   "metadata": {},
   "outputs": [
    {
     "name": "stdout",
     "output_type": "stream",
     "text": [
      "0.0001\n"
     ]
    }
   ],
   "source": [
    "print(1e-4) #1/10000"
   ]
  },
  {
   "cell_type": "code",
   "execution_count": 67,
   "id": "d4258b54-4bf7-4164-9bd8-6158da1b4eef",
   "metadata": {},
   "outputs": [
    {
     "name": "stdout",
     "output_type": "stream",
     "text": [
      "1.12e-10\n"
     ]
    }
   ],
   "source": [
    "print(1.12e-10)  #1.12/10000000000\n",
    "IT WILL NOT WORKS"
   ]
  },
  {
   "cell_type": "code",
   "execution_count": 71,
   "id": "09d7cbaa-adc9-4901-a865-d2dbffb1ff4b",
   "metadata": {},
   "outputs": [
    {
     "data": {
      "text/plain": [
       "1e-15"
      ]
     },
     "execution_count": 71,
     "metadata": {},
     "output_type": "execute_result"
    }
   ],
   "source": [
    "1e-15   #1/1000000000000000"
   ]
  },
  {
   "cell_type": "code",
   "execution_count": 73,
   "id": "cb39b32b-f653-4200-a0b7-f11238d90e35",
   "metadata": {},
   "outputs": [
    {
     "data": {
      "text/plain": [
       "1e-05"
      ]
     },
     "execution_count": 73,
     "metadata": {},
     "output_type": "execute_result"
    }
   ],
   "source": [
    "1e-5"
   ]
  },
  {
   "cell_type": "code",
   "execution_count": 77,
   "id": "b32383ea-7e9b-4529-b941-6202c42d5299",
   "metadata": {},
   "outputs": [
    {
     "data": {
      "text/plain": [
       "1e-06"
      ]
     },
     "execution_count": 77,
     "metadata": {},
     "output_type": "execute_result"
    }
   ],
   "source": [
    "1e-6"
   ]
  },
  {
   "cell_type": "markdown",
   "id": "e18feb37-0ac8-4f79-b3cd-caf9368d50c2",
   "metadata": {},
   "source": [
    "**STRINGS**"
   ]
  },
  {
   "cell_type": "code",
   "execution_count": null,
   "id": "611deea9-5b16-4b7c-9fc7-cfb85edcb132",
   "metadata": {},
   "outputs": [],
   "source": [
    "- strings means English characters\n",
    "- "
   ]
  },
  {
   "cell_type": "code",
   "execution_count": 81,
   "id": "0936e7ac-6e04-404b-8632-c243c0f1b8eb",
   "metadata": {},
   "outputs": [
    {
     "data": {
      "text/plain": [
       "str"
      ]
     },
     "execution_count": 81,
     "metadata": {},
     "output_type": "execute_result"
    }
   ],
   "source": [
    "name=\"python\"\n",
    "type(name)"
   ]
  },
  {
   "cell_type": "code",
   "execution_count": 83,
   "id": "45d95bc7-0e69-46f6-856a-c4c552010925",
   "metadata": {},
   "outputs": [
    {
     "data": {
      "text/plain": [
       "str"
      ]
     },
     "execution_count": 83,
     "metadata": {},
     "output_type": "execute_result"
    }
   ],
   "source": [
    "number='10'\n",
    "type(number)"
   ]
  },
  {
   "cell_type": "code",
   "execution_count": 85,
   "id": "4d1fa276-e1be-4b3d-9dea-18ea8f2a3477",
   "metadata": {},
   "outputs": [
    {
     "name": "stdout",
     "output_type": "stream",
     "text": [
      "hello i like 'python'\n"
     ]
    }
   ],
   "source": [
    "sen1=\"hello i like 'python'\"\n",
    "print(sen1)"
   ]
  },
  {
   "cell_type": "code",
   "execution_count": 87,
   "id": "68fa8741-9a72-44ff-a077-7d7d74f99f32",
   "metadata": {},
   "outputs": [
    {
     "name": "stdout",
     "output_type": "stream",
     "text": [
      "hello i like \"python\"\n"
     ]
    }
   ],
   "source": [
    "sen1='hello i like \"python\"'\n",
    "print(sen1)"
   ]
  },
  {
   "cell_type": "markdown",
   "id": "7a98ce7a-7c94-4b17-b3ae-80a3fc119b4d",
   "metadata": {},
   "source": [
    "- entire sentence in single quotes, then use double quotes to highlite the word\n",
    "- entire sentence in double quotes, then use single quotes to highlite the word"
   ]
  },
  {
   "cell_type": "code",
   "execution_count": 4,
   "id": "e83cc3c4-ccf4-485c-b228-e283b185068e",
   "metadata": {},
   "outputs": [
    {
     "name": "stdout",
     "output_type": "stream",
     "text": [
      "python\n"
     ]
    }
   ],
   "source": [
    "name='python'\n",
    "print(name)"
   ]
  },
  {
   "cell_type": "code",
   "execution_count": 6,
   "id": "0966ccd7-cffa-47b6-84e0-d1dee76eb0b6",
   "metadata": {},
   "outputs": [
    {
     "data": {
      "text/plain": [
       "'python'"
      ]
     },
     "execution_count": 6,
     "metadata": {},
     "output_type": "execute_result"
    }
   ],
   "source": [
    "name1='python'\n",
    "name2='naresh'\n",
    "name2\n",
    "name1"
   ]
  },
  {
   "cell_type": "code",
   "execution_count": 8,
   "id": "0d51c33a-84b4-4c17-8001-e9229a6de0a2",
   "metadata": {},
   "outputs": [
    {
     "name": "stdout",
     "output_type": "stream",
     "text": [
      "naresh\n",
      "python\n"
     ]
    }
   ],
   "source": [
    "name1='python'\n",
    "name2='naresh'\n",
    "print(name2)\n",
    "print(name1)"
   ]
  },
  {
   "cell_type": "code",
   "execution_count": null,
   "id": "2e506cc2-626a-4f3b-8cf5-901b9b33806a",
   "metadata": {},
   "outputs": [],
   "source": [
    "hello good morning \n",
    "how are you without using /n"
   ]
  },
  {
   "cell_type": "code",
   "execution_count": 12,
   "id": "77290da3-462b-4d24-a4d2-2b427924957c",
   "metadata": {},
   "outputs": [
    {
     "name": "stdout",
     "output_type": "stream",
     "text": [
      "hello i like 'python'\n",
      "              hello good morning    \n",
      "               class data types\n"
     ]
    }
   ],
   "source": [
    "statement=\"\"\"hello i like 'python'\n",
    "              hello good morning    \n",
    "               class data types\"\"\"\n",
    "print(statement)               "
   ]
  },
  {
   "cell_type": "markdown",
   "id": "103d9984-8d0a-440d-9696-7c3b3657d441",
   "metadata": {},
   "source": [
    "**DOC STRING**"
   ]
  },
  {
   "cell_type": "markdown",
   "id": "54450fca-7937-432a-ac70-963d1cb968e2",
   "metadata": {},
   "source": [
    "- if we want to convey information to the user\n",
    "- we will write a statements before coding part\n",
    "- is called as DOC STRING\n",
    "- in jyputer notebook to convey information we have **markdown**\n",
    "- but in vscode notebook we dont have a markdown option\n",
    "- we convey the information by using **triple quotes**\n",
    "- if we see anywhere triple quotes means the user trying to convey the information"
   ]
  },
  {
   "cell_type": "code",
   "execution_count": 16,
   "id": "7350901e-50da-4a93-9785-e7bf284cfec4",
   "metadata": {},
   "outputs": [
    {
     "data": {
      "text/plain": [
       "'\\n   i am a practising jupyter notebook \\n   '"
      ]
     },
     "execution_count": 16,
     "metadata": {},
     "output_type": "execute_result"
    }
   ],
   "source": [
    "\"\"\"\n",
    "   i am a training python\n",
    "   \"\"\"\n",
    "\n",
    "'''\n",
    "   i am a practising jupyter notebook \n",
    "   '''"
   ]
  },
  {
   "cell_type": "markdown",
   "id": "179f4d48-500a-4e11-afdc-926799eec16a",
   "metadata": {},
   "source": [
    "**BOOLEAN**"
   ]
  },
  {
   "cell_type": "code",
   "execution_count": 23,
   "id": "216bb8a4-b2d7-4eff-bebd-d35e7da9c061",
   "metadata": {},
   "outputs": [
    {
     "data": {
      "text/plain": [
       "bool"
      ]
     },
     "execution_count": 23,
     "metadata": {},
     "output_type": "execute_result"
    }
   ],
   "source": [
    "value=True\n",
    "type(value)"
   ]
  },
  {
   "cell_type": "code",
   "execution_count": 25,
   "id": "4cce19da-d9f2-4230-baad-6b5c87823a02",
   "metadata": {},
   "outputs": [
    {
     "data": {
      "text/plain": [
       "bool"
      ]
     },
     "execution_count": 25,
     "metadata": {},
     "output_type": "execute_result"
    }
   ],
   "source": [
    "value=False\n",
    "type(value)"
   ]
  },
  {
   "cell_type": "code",
   "execution_count": 29,
   "id": "78af3b47-f494-4868-bb5c-c4d8b20aa2c7",
   "metadata": {},
   "outputs": [],
   "source": [
    "true='True'\n",
    "true=True\n",
    "true=10"
   ]
  },
  {
   "cell_type": "code",
   "execution_count": null,
   "id": "5a3f198d-4022-4077-98ba-3cd8c7a10b6d",
   "metadata": {},
   "outputs": [],
   "source": []
  }
 ],
 "metadata": {
  "kernelspec": {
   "display_name": "Python [conda env:base] *",
   "language": "python",
   "name": "conda-base-py"
  },
  "language_info": {
   "codemirror_mode": {
    "name": "ipython",
    "version": 3
   },
   "file_extension": ".py",
   "mimetype": "text/x-python",
   "name": "python",
   "nbconvert_exporter": "python",
   "pygments_lexer": "ipython3",
   "version": "3.12.7"
  }
 },
 "nbformat": 4,
 "nbformat_minor": 5
}

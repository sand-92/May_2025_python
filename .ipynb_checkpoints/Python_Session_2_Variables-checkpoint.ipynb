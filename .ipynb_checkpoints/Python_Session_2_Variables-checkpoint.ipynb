{
 "cells": [
  {
   "cell_type": "markdown",
   "id": "f09b585f-c01a-48ce-98a4-ac8cd4e6ea16",
   "metadata": {},
   "source": [
    "## DATA VARIABLES"
   ]
  },
  {
   "cell_type": "markdown",
   "id": "ea5417ef-ad89-4f4e-b502-25fb7a16c598",
   "metadata": {},
   "source": [
    "- i download the Git hub\n",
    "- i create the recipotary\n",
    "- uploaded the files\n",
    "- and create a branch name"
   ]
  },
  {
   "cell_type": "markdown",
   "id": "62f80e91-3ebc-4d93-93ff-36446b273f1e",
   "metadata": {},
   "source": [
    "- variables are used to store the data, \n",
    "- and the values can be change\n",
    "- the variable can be use manipulate to python code "
   ]
  },
  {
   "cell_type": "code",
   "execution_count": 1,
   "id": "5fe9b574-83f2-40b2-86c1-a71a4523319d",
   "metadata": {},
   "outputs": [
    {
     "data": {
      "text/plain": [
       "100"
      ]
     },
     "execution_count": 1,
     "metadata": {},
     "output_type": "execute_result"
    }
   ],
   "source": [
    "num=100\n",
    "num"
   ]
  },
  {
   "cell_type": "code",
   "execution_count": 6,
   "id": "625fb19e-667e-4cc5-9635-1ee04574b658",
   "metadata": {},
   "outputs": [
    {
     "name": "stdout",
     "output_type": "stream",
     "text": [
      "200\n"
     ]
    }
   ],
   "source": [
    "num=200\n",
    "print(num)"
   ]
  },
  {
   "cell_type": "code",
   "execution_count": 8,
   "id": "d6725022-c297-4995-9168-4572674fff04",
   "metadata": {},
   "outputs": [
    {
     "data": {
      "text/plain": [
       "200"
      ]
     },
     "execution_count": 8,
     "metadata": {},
     "output_type": "execute_result"
    }
   ],
   "source": [
    "Number=200\n",
    "Number"
   ]
  },
  {
   "cell_type": "code",
   "execution_count": 12,
   "id": "efb7817e-eca0-4c7c-9b57-0f46c6dbde14",
   "metadata": {},
   "outputs": [
    {
     "data": {
      "text/plain": [
       "300"
      ]
     },
     "execution_count": 12,
     "metadata": {},
     "output_type": "execute_result"
    }
   ],
   "source": [
    "number=300\n",
    "number"
   ]
  },
  {
   "cell_type": "code",
   "execution_count": 14,
   "id": "16b2feee-f137-4d30-b951-b0f9c73b1b40",
   "metadata": {},
   "outputs": [
    {
     "data": {
      "text/plain": [
       "(200, 300)"
      ]
     },
     "execution_count": 14,
     "metadata": {},
     "output_type": "execute_result"
    }
   ],
   "source": [
    "Number, number"
   ]
  },
  {
   "cell_type": "code",
   "execution_count": 18,
   "id": "0d69c8a8-1762-4a91-b708-8b8a9a28a9eb",
   "metadata": {},
   "outputs": [
    {
     "data": {
      "text/plain": [
       "300"
      ]
     },
     "execution_count": 18,
     "metadata": {},
     "output_type": "execute_result"
    }
   ],
   "source": [
    "number123=300\n",
    "number123"
   ]
  },
  {
   "cell_type": "code",
   "execution_count": 20,
   "id": "00588511-f5d7-4985-bfd8-a89e2210b768",
   "metadata": {},
   "outputs": [
    {
     "ename": "SyntaxError",
     "evalue": "invalid decimal literal (359278068.py, line 1)",
     "output_type": "error",
     "traceback": [
      "\u001b[1;36m  Cell \u001b[1;32mIn[20], line 1\u001b[1;36m\u001b[0m\n\u001b[1;33m    123number=400\u001b[0m\n\u001b[1;37m      ^\u001b[0m\n\u001b[1;31mSyntaxError\u001b[0m\u001b[1;31m:\u001b[0m invalid decimal literal\n"
     ]
    }
   ],
   "source": [
    "123number=400\n",
    "(123number) first num is not wotking"
   ]
  },
  {
   "cell_type": "code",
   "execution_count": 22,
   "id": "3b1a4367-9457-400e-9f8d-45cc019342ff",
   "metadata": {},
   "outputs": [
    {
     "data": {
      "text/plain": [
       "500"
      ]
     },
     "execution_count": 22,
     "metadata": {},
     "output_type": "execute_result"
    }
   ],
   "source": [
    "NUMberone=500\n",
    "NUMberone"
   ]
  },
  {
   "cell_type": "code",
   "execution_count": 26,
   "id": "c83287f9-de9b-463a-b5f0-b0671796535e",
   "metadata": {},
   "outputs": [
    {
     "ename": "SyntaxError",
     "evalue": "invalid syntax (838429481.py, line 1)",
     "output_type": "error",
     "traceback": [
      "\u001b[1;36m  Cell \u001b[1;32mIn[26], line 1\u001b[1;36m\u001b[0m\n\u001b[1;33m    number$one=600\u001b[0m\n\u001b[1;37m          ^\u001b[0m\n\u001b[1;31mSyntaxError\u001b[0m\u001b[1;31m:\u001b[0m invalid syntax\n"
     ]
    }
   ],
   "source": [
    "number$one=600\n",
    "special characters is not works"
   ]
  },
  {
   "cell_type": "code",
   "execution_count": 28,
   "id": "622ef27c-1a1c-4cc3-952e-215ff630f207",
   "metadata": {},
   "outputs": [
    {
     "ename": "SyntaxError",
     "evalue": "cannot assign to expression here. Maybe you meant '==' instead of '='? (1323231619.py, line 1)",
     "output_type": "error",
     "traceback": [
      "\u001b[1;36m  Cell \u001b[1;32mIn[28], line 1\u001b[1;36m\u001b[0m\n\u001b[1;33m    number&one=600\u001b[0m\n\u001b[1;37m    ^\u001b[0m\n\u001b[1;31mSyntaxError\u001b[0m\u001b[1;31m:\u001b[0m cannot assign to expression here. Maybe you meant '==' instead of '='?\n"
     ]
    }
   ],
   "source": [
    "number&one=600\n",
    "number&one"
   ]
  },
  {
   "cell_type": "code",
   "execution_count": 30,
   "id": "89ffbdc8-6f81-40ab-a9ed-fa0e5ccc82d0",
   "metadata": {},
   "outputs": [
    {
     "ename": "SyntaxError",
     "evalue": "cannot assign to expression here. Maybe you meant '==' instead of '='? (3236789201.py, line 1)",
     "output_type": "error",
     "traceback": [
      "\u001b[1;36m  Cell \u001b[1;32mIn[30], line 1\u001b[1;36m\u001b[0m\n\u001b[1;33m    numbe*one=700\u001b[0m\n\u001b[1;37m    ^\u001b[0m\n\u001b[1;31mSyntaxError\u001b[0m\u001b[1;31m:\u001b[0m cannot assign to expression here. Maybe you meant '==' instead of '='?\n"
     ]
    }
   ],
   "source": [
    "numbe*one=700\n",
    "number*one"
   ]
  },
  {
   "cell_type": "code",
   "execution_count": 32,
   "id": "33bf3d74-21fb-4701-b5a8-98549659c6a5",
   "metadata": {},
   "outputs": [
    {
     "data": {
      "text/plain": [
       "800"
      ]
     },
     "execution_count": 32,
     "metadata": {},
     "output_type": "execute_result"
    }
   ],
   "source": [
    "number_one=800\n",
    "number_one"
   ]
  },
  {
   "cell_type": "code",
   "execution_count": 3,
   "id": "8226bd20-345d-4a9d-89e2-2e7d8f814ecd",
   "metadata": {},
   "outputs": [
    {
     "ename": "SyntaxError",
     "evalue": "invalid syntax (130440641.py, line 1)",
     "output_type": "error",
     "traceback": [
      "\u001b[1;36m  Cell \u001b[1;32mIn[3], line 1\u001b[1;36m\u001b[0m\n\u001b[1;33m    number one=900\u001b[0m\n\u001b[1;37m           ^\u001b[0m\n\u001b[1;31mSyntaxError\u001b[0m\u001b[1;31m:\u001b[0m invalid syntax\n"
     ]
    }
   ],
   "source": [
    "number one=900\n",
    "number one # space is not works"
   ]
  },
  {
   "cell_type": "markdown",
   "id": "053b260f-2aca-4de2-be19-8109da862f7b",
   "metadata": {},
   "source": [
    "NUMBER      #works\n",
    "number      #works \n",
    "number123   #works \n",
    "123number   #Not work\n",
    "number$one  #NW\n",
    "number&one   #NW\n",
    "number*one   #NW\n",
    "number_one   #works\n",
    "number one   #NW\n",
    "if           #NW\n",
    "_underscope  #works\n",
    "    space  #NW"
   ]
  },
  {
   "cell_type": "code",
   "execution_count": 38,
   "id": "58ef64e6-657e-4418-923c-430a65107480",
   "metadata": {},
   "outputs": [
    {
     "ename": "SyntaxError",
     "evalue": "invalid syntax (852617324.py, line 1)",
     "output_type": "error",
     "traceback": [
      "\u001b[1;36m  Cell \u001b[1;32mIn[38], line 1\u001b[1;36m\u001b[0m\n\u001b[1;33m    if=600\u001b[0m\n\u001b[1;37m      ^\u001b[0m\n\u001b[1;31mSyntaxError\u001b[0m\u001b[1;31m:\u001b[0m invalid syntax\n"
     ]
    }
   ],
   "source": [
    "if=600\n",
    "if"
   ]
  },
  {
   "cell_type": "code",
   "execution_count": null,
   "id": "ef31f330-f5fb-4dab-87d1-6b790198f90a",
   "metadata": {},
   "outputs": [],
   "source": [
    "# Keywords\n",
    "if \n",
    "else\n",
    "True\n",
    "False\n",
    "for\n",
    "while \n",
    "conditional statements    \n",
    "loops \n",
    "boolean     "
   ]
  },
  {
   "cell_type": "markdown",
   "id": "f3837dfb-c815-4ecb-b06e-5f2fa0e53fd6",
   "metadata": {},
   "source": [
    "- variables can be CAPS and small letters,\n",
    "and Both mix of letters are Accepted\n",
    "- variables can be a mix of letters and numbers as **suffix**\n",
    "- variables can not be a mix of letters and numbers as **prefix**\n",
    "- variables can not be include special characters except **underscope**\n",
    "- variables can not be includes a **space between word**\n",
    "- only underscope also consider as a variables\n",
    "- inbuilt keywords can not be a variables (+,_,*,%)       "
   ]
  },
  {
   "cell_type": "code",
   "execution_count": 48,
   "id": "13ba0e08-0249-4ba9-b0ba-bb1b2bac2376",
   "metadata": {},
   "outputs": [
    {
     "data": {
      "text/plain": [
       "800"
      ]
     },
     "execution_count": 48,
     "metadata": {},
     "output_type": "execute_result"
    }
   ],
   "source": [
    "_=800\n",
    "_"
   ]
  },
  {
   "cell_type": "code",
   "execution_count": 50,
   "id": "bd159cbb-a117-4651-952a-4f289d52adcb",
   "metadata": {},
   "outputs": [
    {
     "data": {
      "text/plain": [
       "0.6"
      ]
     },
     "execution_count": 50,
     "metadata": {},
     "output_type": "execute_result"
    }
   ],
   "source": [
    "model_accuracy_data=0.6\n",
    "model_accuracy_data"
   ]
  },
  {
   "cell_type": "code",
   "execution_count": null,
   "id": "6d8aaa40-ec61-4423-859b-9284b909c512",
   "metadata": {},
   "outputs": [],
   "source": []
  }
 ],
 "metadata": {
  "kernelspec": {
   "display_name": "Python [conda env:base] *",
   "language": "python",
   "name": "conda-base-py"
  },
  "language_info": {
   "codemirror_mode": {
    "name": "ipython",
    "version": 3
   },
   "file_extension": ".py",
   "mimetype": "text/x-python",
   "name": "python",
   "nbconvert_exporter": "python",
   "pygments_lexer": "ipython3",
   "version": "3.12.7"
  }
 },
 "nbformat": 4,
 "nbformat_minor": 5
}

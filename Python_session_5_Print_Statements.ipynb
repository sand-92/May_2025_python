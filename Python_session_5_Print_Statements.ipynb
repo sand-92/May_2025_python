{
 "cells": [
  {
   "cell_type": "markdown",
   "id": "4ed089d4-241f-4a87-bd6a-5bcde954362d",
   "metadata": {},
   "source": [
    "**PRINT STATEMENTS**"
   ]
  },
  {
   "cell_type": "markdown",
   "id": "8bf15ec2-151f-46c1-8bc0-7c7f636217ef",
   "metadata": {},
   "source": [
    "- Basics\n",
    "- f string\n",
    "- format\n",
    "- end operator\n",
    "- sep operator (seperator) "
   ]
  },
  {
   "cell_type": "code",
   "execution_count": 8,
   "id": "ce84f0e9-60ef-43d3-8a57-e0ac45193def",
   "metadata": {},
   "outputs": [
    {
     "data": {
      "text/plain": [
       "20"
      ]
     },
     "execution_count": 8,
     "metadata": {},
     "output_type": "execute_result"
    }
   ],
   "source": [
    "Num1=10\n",
    "Num2=20\n",
    "Num1\n",
    "Num2"
   ]
  },
  {
   "cell_type": "code",
   "execution_count": 10,
   "id": "04d22f23-cc9c-48dd-b467-ae3014033f41",
   "metadata": {},
   "outputs": [
    {
     "name": "stdout",
     "output_type": "stream",
     "text": [
      "10\n",
      "20\n"
     ]
    }
   ],
   "source": [
    "Num1=10\n",
    "Num2=20\n",
    "print(Num1)\n",
    "print(Num2)"
   ]
  },
  {
   "cell_type": "code",
   "execution_count": 16,
   "id": "5cc4632a-0259-4f28-9e71-1c3c15239e98",
   "metadata": {},
   "outputs": [
    {
     "name": "stdout",
     "output_type": "stream",
     "text": [
      "10\n",
      "20\n"
     ]
    },
    {
     "data": {
      "text/plain": [
       "(10, 20)"
      ]
     },
     "execution_count": 16,
     "metadata": {},
     "output_type": "execute_result"
    }
   ],
   "source": [
    "Num1=10\n",
    "Num2=20\n",
    "print(Num1),print(Num2)  # the ans is none\n",
    "Num1,Num2"
   ]
  },
  {
   "cell_type": "code",
   "execution_count": 14,
   "id": "b1e75f0a-e433-46df-8853-ea21936d5549",
   "metadata": {},
   "outputs": [
    {
     "name": "stdout",
     "output_type": "stream",
     "text": [
      "10 20\n"
     ]
    }
   ],
   "source": [
    "Num1=10\n",
    "Num2=20\n",
    "print(Num1,Num2)"
   ]
  },
  {
   "cell_type": "code",
   "execution_count": 18,
   "id": "b20e1e49-c961-4155-be01-2b0c961b8afe",
   "metadata": {},
   "outputs": [
    {
     "data": {
      "text/plain": [
       "30"
      ]
     },
     "execution_count": 18,
     "metadata": {},
     "output_type": "execute_result"
    }
   ],
   "source": [
    "Num1+Num2"
   ]
  },
  {
   "cell_type": "code",
   "execution_count": 22,
   "id": "0e922ad5-c2f6-4ec3-a93a-961814de7389",
   "metadata": {},
   "outputs": [
    {
     "name": "stdout",
     "output_type": "stream",
     "text": [
      "30 20 Python\n"
     ]
    }
   ],
   "source": [
    "print(30,20,'Python')"
   ]
  },
  {
   "cell_type": "code",
   "execution_count": 28,
   "id": "006d1ce8-18b6-4fc5-8ba0-ef5f9b46cede",
   "metadata": {},
   "outputs": [
    {
     "name": "stdout",
     "output_type": "stream",
     "text": [
      "the addition of 100 and 200 is 300\n"
     ]
    }
   ],
   "source": [
    "a=100\n",
    "b=200\n",
    "c=a+b\n",
    "    # the addition of 100 and 200 is 300\n",
    "print('the addition of',a,'and',b,'is', c )"
   ]
  },
  {
   "cell_type": "code",
   "execution_count": 50,
   "id": "ed170420-89d8-4f38-a2ae-17fbb577079a",
   "metadata": {},
   "outputs": [
    {
     "name": "stdout",
     "output_type": "stream",
     "text": [
      "my name is Python im 10 years old and from Hyderabad\n"
     ]
    }
   ],
   "source": [
    "name='Python'\n",
    "age=10\n",
    "city='Hyderabad'\n",
    "# my name is python im 10 years old and from hyderabad\n",
    "print('my name is',name, 'im' ,age, 'years old and from' ,city)"
   ]
  },
  {
   "cell_type": "code",
   "execution_count": 40,
   "id": "794f058d-640e-4252-b3d5-c7b31e1e5aab",
   "metadata": {},
   "outputs": [
    {
     "name": "stdout",
     "output_type": "stream",
     "text": [
      "the addition of 100 and 200 is 300\n",
      "the addition of 1000 and 200 is 1200\n"
     ]
    }
   ],
   "source": [
    "a=100\n",
    "a=1000   #2nd time run it print takes 2nd one is updating \n",
    "b=200\n",
    "c=a+b\n",
    "    # the addition of 100 and 200 is 300\n",
    "print('the addition of 100 and 200 is 300')\n",
    "print('the addition of {} and {} is {}'.format(a,b,c))      "
   ]
  },
  {
   "cell_type": "code",
   "execution_count": 48,
   "id": "d962f8ce-8caa-451e-bf1e-76296a1047ba",
   "metadata": {},
   "outputs": [
    {
     "name": "stdout",
     "output_type": "stream",
     "text": [
      "my name is Python im 10 years old  and from Hyderabad\n",
      "my name is Python im 10 years old and from Hyderabad\n",
      "my name is Hyderabad im Python years old and from 10\n"
     ]
    }
   ],
   "source": [
    "name='Python'\n",
    "age=10\n",
    "city='Hyderabad'\n",
    "# my name is python im 10 years old and from hyderabad\n",
    "print('my name is',name, 'im' ,age, 'years old  and from' ,city)\n",
    "print('my name is {} im {} years old and from {}' .format(name,age,city))\n",
    "print('my name is {} im {} years old and from {}' .format(city,name,age,))"
   ]
  },
  {
   "cell_type": "code",
   "execution_count": 57,
   "id": "d7cc6019-ca5e-4508-a609-a4de9758f16c",
   "metadata": {},
   "outputs": [
    {
     "name": "stdout",
     "output_type": "stream",
     "text": [
      "the addition of 100 and 200 is 300\n",
      "the subtraction of 100 and 200 is -100\n",
      "the multiplication of 100 and 200 is 20000\n",
      "the division of 100 and 200 is 0.5\n"
     ]
    }
   ],
   "source": [
    "n1=100\n",
    "n2=200\n",
    "add=n1+n2   # the addition of 100 and 200 is 300\n",
    "sub=n1-n2   # the subtraction of 100 and 200 is 100\n",
    "mul=n1*n2   # the multiplication of 100 and 200 is 20000\n",
    "div=n1/n2   # the division of 100 and 200 is 0.5\n",
    "print('the addition of {} and {} is {}'.format(n1,n2,n1+n2))\n",
    "print('the subtraction of {} and {} is {}'.format(n1,n2,n1-n2))\n",
    "print('the multiplication of {} and {} is {}'.format(n1,n2,n1*n2))\n",
    "print('the division of {} and {} is {}'.format(n1,n2,n1/n2))"
   ]
  },
  {
   "cell_type": "markdown",
   "id": "19e65457-afc6-4ed3-a570-2758639ac6ce",
   "metadata": {},
   "source": [
    "**f string Method**"
   ]
  },
  {
   "cell_type": "code",
   "execution_count": 65,
   "id": "0a723d0e-9e1e-466d-b241-e096d4be6244",
   "metadata": {},
   "outputs": [
    {
     "name": "stdout",
     "output_type": "stream",
     "text": [
      "the addition of 100 and 200 is 300\n",
      "the addition of 100 and 200 is 300\n",
      "the addition of 100 and 200 is 300. \n"
     ]
    }
   ],
   "source": [
    "n1=100\n",
    "n2=200\n",
    "n3=n1+n2\n",
    "print('the addition of' ,n1, 'and' ,n2, 'is' ,n3)\n",
    "print('the addition of {} and {} is {}'. format(n1,n2,n3))\n",
    "print(f'the addition of {n1} and {n2} is {n3}. ')"
   ]
  },
  {
   "cell_type": "code",
   "execution_count": 7,
   "id": "67431289-6768-44a3-8597-4a8c19041156",
   "metadata": {},
   "outputs": [
    {
     "name": "stdout",
     "output_type": "stream",
     "text": [
      "the addition of 100 and 200 is 300\n",
      "the subtraction of 100 and 200 is  -100\n",
      "the multiplication of 100 and 200 is  20000\n",
      "the division of 100 and 200  is 0.5\n"
     ]
    }
   ],
   "source": [
    "n1=100\n",
    "n2=200\n",
    "add=n1+n2   # the addition of 100 and 200 is 300\n",
    "sub=n1-n2   # the subtraction of 100 and 200 is 100\n",
    "mul=n1*n2   # the multiplication of 100 and 200 is 20000\n",
    "div=n1/n2   # the division of 100 and 200 is 0.5\n",
    "print(f'the addition of {n1} and {n2} is {n1+n2}')\n",
    "print(f'the subtraction of {n1} and {n2} is  {n1-n2}')\n",
    "print(f'the multiplication of {n1} and {n2} is  {n1*n2}')\n",
    "print(f'the division of {n1} and {n2}  is {n1/n2}')"
   ]
  },
  {
   "cell_type": "markdown",
   "id": "a01d2c9b-f72a-4c3e-a55b-e3531468c618",
   "metadata": {},
   "source": [
    "- we have a situation wants to combine two print statements"
   ]
  },
  {
   "cell_type": "code",
   "execution_count": 10,
   "id": "4902e3ee-9a93-4bba-a88c-d82c743740a3",
   "metadata": {},
   "outputs": [
    {
     "name": "stdout",
     "output_type": "stream",
     "text": [
      "hello\n",
      "good morning\n"
     ]
    }
   ],
   "source": [
    "print('hello')\n",
    "print('good morning')\n"
   ]
  },
  {
   "cell_type": "code",
   "execution_count": 14,
   "id": "09766763-5573-4491-accc-8aa94a92bc9d",
   "metadata": {},
   "outputs": [
    {
     "name": "stdout",
     "output_type": "stream",
     "text": [
      "hello good morning\n",
      "hai\n"
     ]
    }
   ],
   "source": [
    "print('hello good morning')\n",
    "print('hai')"
   ]
  },
  {
   "cell_type": "markdown",
   "id": "8a94c166-4ed1-4692-8495-d43a594d8d0e",
   "metadata": {},
   "source": [
    "**END Operator**"
   ]
  },
  {
   "cell_type": "markdown",
   "id": "f35db20a-e4ec-4f5c-b16c-5a9356786736",
   "metadata": {},
   "source": [
    "$end$"
   ]
  },
  {
   "cell_type": "code",
   "execution_count": 27,
   "id": "bce7f9af-1362-4e39-b8b4-b16ad0063efe",
   "metadata": {},
   "outputs": [
    {
     "name": "stdout",
     "output_type": "stream",
     "text": [
      "20*****30\n",
      "20\n"
     ]
    }
   ],
   "source": [
    "print(20,end='*****')\n",
    "a=20\n",
    "print(30)\n",
    "print(a)"
   ]
  },
  {
   "cell_type": "code",
   "execution_count": 29,
   "id": "918b1470-07a6-4c51-870c-316cdf78c3b3",
   "metadata": {},
   "outputs": [
    {
     "name": "stdout",
     "output_type": "stream",
     "text": [
      "1  2  3\n"
     ]
    }
   ],
   "source": [
    "print(1,end='  ')\n",
    "print(2,end='  ')\n",
    "print(3)"
   ]
  },
  {
   "cell_type": "code",
   "execution_count": 31,
   "id": "1cc3a388-7fe4-4d59-ba32-07f950c4883a",
   "metadata": {},
   "outputs": [
    {
     "name": "stdout",
     "output_type": "stream",
     "text": [
      "20 ******** 30\n"
     ]
    }
   ],
   "source": [
    "print(20,'********',30)"
   ]
  },
  {
   "cell_type": "code",
   "execution_count": 33,
   "id": "8a5504fe-acc3-40db-9d18-2f32a48e7cbc",
   "metadata": {},
   "outputs": [
    {
     "name": "stdout",
     "output_type": "stream",
     "text": [
      "20****30\n"
     ]
    }
   ],
   "source": [
    "print(20, end='****')\n",
    "print(30)"
   ]
  },
  {
   "cell_type": "markdown",
   "id": "1e258f80-01e7-481c-9139-7a278e6eb0d9",
   "metadata": {},
   "source": [
    "- we want to separate the multiple variables in one print statement"
   ]
  },
  {
   "cell_type": "code",
   "execution_count": 3,
   "id": "62a80648-6564-4385-95a8-26f0679f4553",
   "metadata": {},
   "outputs": [
    {
     "name": "stdout",
     "output_type": "stream",
     "text": [
      "20 ----> 30\n"
     ]
    }
   ],
   "source": [
    "print(20, '---->',30)"
   ]
  },
  {
   "cell_type": "code",
   "execution_count": null,
   "id": "e6f951e5-f84c-4c80-baba-160b6e2f60be",
   "metadata": {},
   "outputs": [],
   "source": [
    "20 '----->' 30"
   ]
  },
  {
   "cell_type": "markdown",
   "id": "0ad6d1d8-2b63-41c3-9450-1252ac547d3a",
   "metadata": {},
   "source": [
    "**SEPARATE OPERATOR**"
   ]
  },
  {
   "cell_type": "code",
   "execution_count": 1,
   "id": "72af828d-e4f7-45a8-ba14-6f6cac94abec",
   "metadata": {},
   "outputs": [
    {
     "name": "stdout",
     "output_type": "stream",
     "text": [
      "20@@@@30\n"
     ]
    }
   ],
   "source": [
    "print(20,30,sep='@@@@')"
   ]
  },
  {
   "cell_type": "code",
   "execution_count": 4,
   "id": "d26cf7f8-6760-467c-a100-dcb523859334",
   "metadata": {},
   "outputs": [
    {
     "name": "stdout",
     "output_type": "stream",
     "text": [
      "20=30=50\n"
     ]
    }
   ],
   "source": [
    "print(20,30,50,sep='=')"
   ]
  },
  {
   "cell_type": "markdown",
   "id": "d2448d99-7777-4e55-9be8-0da0a84d3913",
   "metadata": {},
   "source": [
    "- end operator used to combine multiple print staememnt\n",
    "- sep operator used to separate multiple variable in a sinle print statement"
   ]
  },
  {
   "cell_type": "code",
   "execution_count": 8,
   "id": "60cc4b72-5ed6-432f-a652-65241c23d06b",
   "metadata": {},
   "outputs": [
    {
     "name": "stdout",
     "output_type": "stream",
     "text": [
      "the addition of 3+4 is 7 .\n"
     ]
    }
   ],
   "source": [
    "print('the addition of 3+4 is',3+4, '.')"
   ]
  },
  {
   "cell_type": "code",
   "execution_count": 24,
   "id": "c582fc28-e832-4565-afd6-0c94520c45df",
   "metadata": {},
   "outputs": [
    {
     "name": "stdout",
     "output_type": "stream",
     "text": [
      "the addition of 3+4 is7.\n"
     ]
    }
   ],
   "source": [
    "print('the addition of 3+4 is',3+4,'.', sep='')"
   ]
  },
  {
   "cell_type": "code",
   "execution_count": 10,
   "id": "031bd367-bdd7-4c91-bca0-ace7d4b349c0",
   "metadata": {},
   "outputs": [
    {
     "name": "stdout",
     "output_type": "stream",
     "text": [
      "the subtraction of 3-4 is -1 .\n"
     ]
    }
   ],
   "source": [
    "print('the subtraction of 3-4 is',3-4, '.')"
   ]
  },
  {
   "cell_type": "code",
   "execution_count": 12,
   "id": "0e485ae1-ccc8-4477-9389-8e74a3c919b0",
   "metadata": {},
   "outputs": [
    {
     "name": "stdout",
     "output_type": "stream",
     "text": [
      "the addition of 3 and 4 is 7\n"
     ]
    }
   ],
   "source": [
    "print(f'the addition of {3} and {4} is {3+4}')  # F string method"
   ]
  },
  {
   "cell_type": "code",
   "execution_count": 16,
   "id": "4a522763-9af2-44be-90fc-feb2f06865dc",
   "metadata": {},
   "outputs": [
    {
     "name": "stdout",
     "output_type": "stream",
     "text": [
      "the maltiplication of 3 * 4 is12\n"
     ]
    }
   ],
   "source": [
    "print('the maltiplication of {} * {} is{}'.format(3,4, 3*4))"
   ]
  },
  {
   "cell_type": "code",
   "execution_count": 28,
   "id": "c0f52063-c7fe-457e-a75a-29190cb592d5",
   "metadata": {},
   "outputs": [
    {
     "name": "stdout",
     "output_type": "stream",
     "text": [
      "the addition of 3+4 is {3+4}.\n"
     ]
    }
   ],
   "source": [
    "print('the addition of 3+4 is {3+4}',\"\",sep=\".\")"
   ]
  }
 ],
 "metadata": {
  "kernelspec": {
   "display_name": "Python [conda env:base] *",
   "language": "python",
   "name": "conda-base-py"
  },
  "language_info": {
   "codemirror_mode": {
    "name": "ipython",
    "version": 3
   },
   "file_extension": ".py",
   "mimetype": "text/x-python",
   "name": "python",
   "nbconvert_exporter": "python",
   "pygments_lexer": "ipython3",
   "version": "3.12.7"
  }
 },
 "nbformat": 4,
 "nbformat_minor": 5
}
